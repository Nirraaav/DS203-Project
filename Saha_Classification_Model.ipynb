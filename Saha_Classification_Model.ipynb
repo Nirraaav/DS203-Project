{
 "cells": [
  {
   "cell_type": "code",
   "execution_count": 1,
   "metadata": {},
   "outputs": [
    {
     "name": "stdout",
     "output_type": "stream",
     "text": [
      "Defaulting to user installation because normal site-packages is not writeable\n",
      "Requirement already satisfied: xgboost in /home/nirav24/.local/lib/python3.12/site-packages (2.1.1)\n",
      "Requirement already satisfied: numpy in /home/nirav24/.local/lib/python3.12/site-packages (from xgboost) (2.0.2)\n",
      "Requirement already satisfied: nvidia-nccl-cu12 in /home/nirav24/.local/lib/python3.12/site-packages (from xgboost) (2.23.4)\n",
      "Requirement already satisfied: scipy in /home/nirav24/.local/lib/python3.12/site-packages (from xgboost) (1.14.1)\n"
     ]
    }
   ],
   "source": [
    "!pip install xgboost"
   ]
  },
  {
   "cell_type": "code",
   "execution_count": 2,
   "metadata": {},
   "outputs": [],
   "source": [
    "import pandas as pd\n",
    "import numpy as np\n",
    "from sklearn.model_selection import train_test_split\n",
    "from sklearn.ensemble import AdaBoostClassifier\n",
    "import librosa\n",
    "from sklearn.svm import SVC\n",
    "from sklearn.naive_bayes import GaussianNB\n",
    "from sklearn.metrics import classification_report, accuracy_score, precision_score, recall_score, f1_score, confusion_matrix"
   ]
  },
  {
   "cell_type": "code",
   "execution_count": 3,
   "metadata": {},
   "outputs": [
    {
     "name": "stdout",
     "output_type": "stream",
     "text": [
      "Processed Asha-Bhosle-23.csv\n",
      "Processed 1 of 495\n",
      "Processed Michael-Jackson-55.csv\n",
      "Processed 2 of 495\n",
      "Processed Kishore-Kumar-63.csv\n",
      "Processed 3 of 495\n",
      "Processed Asha-Bhosle-32.csv\n",
      "Processed 4 of 495\n",
      "Processed Jana-Gana-Mana-8-MFCC.csv\n",
      "Processed 5 of 495\n",
      "Processed Bhavgeet-47.csv\n",
      "Processed 6 of 495\n",
      "Processed Lavni-20.csv\n",
      "Processed 7 of 495\n",
      "Processed Bhavgeet-61.csv\n",
      "Processed 8 of 495\n",
      "Processed Michael-Jackson-42.csv\n",
      "Processed 9 of 495\n",
      "Processed Asha-Bhosle-71.csv\n",
      "Processed 10 of 495\n",
      "Processed Bhavgeet-14.csv\n",
      "Processed 11 of 495\n",
      "Processed Michael-Jackson-17.csv\n",
      "Processed 12 of 495\n",
      "Processed Bhavgeet-18.csv\n",
      "Processed 13 of 495\n",
      "Processed Asha-Bhosle-47.csv\n",
      "Processed 14 of 495\n",
      "Processed Kishore-Kumar-5-MFCC.csv\n",
      "Processed 15 of 495\n",
      "Processed Michael-Jackson-24.csv\n",
      "Processed 16 of 495\n",
      "Processed Bhavgeet-5-MFCC.csv\n",
      "Processed 17 of 495\n",
      "Processed Michael-Jackson-71.csv\n",
      "Processed 18 of 495\n",
      "Processed Jana-Gana-Mana-49.csv\n",
      "Processed 19 of 495\n",
      "Processed Asha-Bhosle-66.csv\n",
      "Processed 20 of 495\n",
      "Processed Bhavgeet-54.csv\n",
      "Processed 21 of 495\n",
      "Processed Asha-Bhosle-15-MFCC.csv\n",
      "Processed 22 of 495\n",
      "Processed Bhavgeet-73.csv\n",
      "Processed 23 of 495\n",
      "Processed Kishore-Kumar-49.csv\n",
      "Processed 24 of 495\n",
      "Processed Kishore-Kumar-25.csv\n",
      "Processed 25 of 495\n",
      "Processed Kishore-Kumar-2.csv\n",
      "Processed 26 of 495\n",
      "Processed Kishore-Kumar-38.csv\n",
      "Processed 27 of 495\n",
      "Processed Bhavgeet-21.csv\n",
      "Processed 28 of 495\n",
      "Processed Asha-Bhosle-19-MFCC.csv\n",
      "Processed 29 of 495\n",
      "Processed Asha-Bhosle-1-MFCC.csv\n",
      "Processed 30 of 495\n",
      "Processed Asha-Bhosle-7-MFCC.csv\n",
      "Processed 31 of 495\n",
      "Processed Michael-Jackson-44.csv\n",
      "Processed 32 of 495\n",
      "Processed Kishore-Kumar-1-MFCC.csv\n",
      "Processed 33 of 495\n",
      "Processed Michael-Jackson-66.csv\n",
      "Processed 34 of 495\n",
      "Processed Asha-Bhosle-37.csv\n",
      "Processed 35 of 495\n",
      "Processed Bhavgeet-65.csv\n",
      "Processed 36 of 495\n",
      "Processed Michael-Jackson-15.csv\n",
      "Processed 37 of 495\n",
      "Processed Bhavgeet-34.csv\n",
      "Processed 38 of 495\n",
      "Processed Kishore-Kumar-39.csv\n",
      "Processed 39 of 495\n",
      "Processed Michael-Jackson-16.csv\n",
      "Processed 40 of 495\n",
      "Processed Asha-Bhosle-17.csv\n",
      "Processed 41 of 495\n",
      "Processed Bhavgeet-43.csv\n",
      "Processed 42 of 495\n",
      "Processed Kishore-Kumar-54.csv\n",
      "Processed 43 of 495\n",
      "Processed Bhavgeet-10-MFCC.csv\n",
      "Processed 44 of 495\n",
      "Processed Asha-Bhosle-55.csv\n",
      "Processed 45 of 495\n",
      "Processed Lavni-1.csv\n",
      "Processed 46 of 495\n",
      "Processed Kishore-Kumar-40.csv\n",
      "Processed 47 of 495\n",
      "Processed Bhavgeet-1-MFCC.csv\n",
      "Processed 48 of 495\n",
      "Processed Bhavgeet-10.csv\n",
      "Processed 49 of 495\n",
      "Processed Asha-Bhosle-2-MFCC.csv\n",
      "Processed 50 of 495\n",
      "Processed Bhavgeet-66.csv\n",
      "Processed 51 of 495\n",
      "Processed Lavni-Song-4-MFCC.csv\n",
      "Processed 52 of 495\n",
      "Processed Lavni-48.csv\n",
      "Processed 53 of 495\n",
      "Processed Bhavgeet-46.csv\n",
      "Processed 54 of 495\n",
      "Processed Michael-Jackson-30.csv\n",
      "Processed 55 of 495\n",
      "Processed Jana-Gana-Mana-17.csv\n",
      "Processed 56 of 495\n",
      "Processed Michael-Jackson-27.csv\n",
      "Processed 57 of 495\n",
      "Processed Kishore-Kumar-46.csv\n",
      "Processed 58 of 495\n",
      "Processed Kishore-Kumar-7-MFCC.csv\n",
      "Processed 59 of 495\n",
      "Processed Michael-Jackson-20.csv\n",
      "Processed 60 of 495\n",
      "Processed Jana-Gana-Mana-27.csv\n",
      "Processed 61 of 495\n",
      "Processed Asha-Bhosle-28.csv\n",
      "Processed 62 of 495\n",
      "Processed Asha-Bhosle-48.csv\n",
      "Processed 63 of 495\n",
      "Processed Bhavgeet-35.csv\n",
      "Processed 64 of 495\n",
      "Processed Asha-Bhosle-15.csv\n",
      "Processed 65 of 495\n",
      "Processed Lavni-44.csv\n",
      "Processed 66 of 495\n",
      "Processed Asha-Bhosle-14-MFCC.csv\n",
      "Processed 67 of 495\n",
      "Processed Asha-Bhosle-41.csv\n",
      "Processed 68 of 495\n",
      "Processed Asha-Bhosle-13.csv\n",
      "Processed 69 of 495\n",
      "Processed Michael-Jackson-51.csv\n",
      "Processed 70 of 495\n",
      "Processed Bhavgeet-51.csv\n",
      "Processed 71 of 495\n",
      "Processed Bhavgeet-69.csv\n",
      "Processed 72 of 495\n",
      "Processed Kishore-Kumar-32.csv\n",
      "Processed 73 of 495\n",
      "Processed Kishore-Kumar-19.csv\n",
      "Processed 74 of 495\n",
      "Processed Asha-Bhosle-22-MFCC.csv\n",
      "Processed 75 of 495\n",
      "Processed Kishore-Kumar-52.csv\n",
      "Processed 76 of 495\n",
      "Processed Lavni-10.csv\n",
      "Processed 77 of 495\n",
      "Processed Asha-Bhosle-6.csv\n",
      "Processed 78 of 495\n",
      "Processed Kishore-Kumar-5.csv\n",
      "Processed 79 of 495\n",
      "Processed Asha-Bhosle-12-MFCC.csv\n",
      "Processed 80 of 495\n",
      "Processed Asha-Bhosle-16.csv\n",
      "Processed 81 of 495\n",
      "Processed Bhavgeet-17-MFCC.csv\n",
      "Processed 82 of 495\n",
      "Processed Kishore-Kumar-12-MFCC.csv\n",
      "Processed 83 of 495\n",
      "Processed Asha-Bhosle-3-MFCC.csv\n",
      "Processed 84 of 495\n",
      "Processed Lavni-21.csv\n",
      "Processed 85 of 495\n",
      "Processed Michael-Jackson-31.csv\n",
      "Processed 86 of 495\n",
      "Processed Kishore-Kumar-56.csv\n",
      "Processed 87 of 495\n",
      "Processed Lavni-3.csv\n",
      "Processed 88 of 495\n",
      "Processed Lavni-56.csv\n",
      "Processed 89 of 495\n",
      "Processed Michael-Jackson-9-MFCC.csv\n",
      "Processed 90 of 495\n",
      "Processed Kishore-Kumar-57.csv\n",
      "Processed 91 of 495\n",
      "Processed Lavni-53.csv\n",
      "Processed 92 of 495\n",
      "Processed Kishore-Kumar-2-MFCC.csv\n",
      "Processed 93 of 495\n",
      "Processed Kishore-Kumar-62.csv\n",
      "Processed 94 of 495\n",
      "Processed Bhavgeet-22.csv\n",
      "Processed 95 of 495\n",
      "Processed Bhavgeet-36.csv\n",
      "Processed 96 of 495\n",
      "Processed Kishore-Kumar-43.csv\n",
      "Processed 97 of 495\n",
      "Processed Michael-Jackson-45.csv\n",
      "Processed 98 of 495\n",
      "Processed Kishore-Kumar-58.csv\n",
      "Processed 99 of 495\n",
      "Processed Jana-Gana-Mana-30.csv\n",
      "Processed 100 of 495\n",
      "Processed Asha-Bhosle-57.csv\n",
      "Processed 101 of 495\n",
      "Processed Kishore-Kumar-44.csv\n",
      "Processed 102 of 495\n",
      "Processed Lavni-Song-10-MFCC.csv\n",
      "Processed 103 of 495\n",
      "Processed Michael-Jackson-67.csv\n",
      "Processed 104 of 495\n",
      "Processed Asha-Bhosle-40.csv\n",
      "Processed 105 of 495\n",
      "Processed Jana-Gana-Mana-38.csv\n",
      "Processed 106 of 495\n",
      "Processed Lavni-38.csv\n",
      "Processed 107 of 495\n",
      "Processed Bhavgeet-11-MFCC.csv\n",
      "Processed 108 of 495\n",
      "Processed Michael-Jackson-8-MFCC.csv\n",
      "Processed 109 of 495\n",
      "Processed Jana-Gana-Mana-34.csv\n",
      "Processed 110 of 495\n",
      "Processed Jana-Gana-Mana-22.csv\n",
      "Processed 111 of 495\n",
      "Processed Kishore-Kumar-68.csv\n",
      "Processed 112 of 495\n",
      "Processed Asha-Bhosle-49.csv\n",
      "Processed 113 of 495\n",
      "Processed Bhavgeet-6-MFCC.csv\n",
      "Processed 114 of 495\n",
      "Processed Michael-Jackson-23.csv\n",
      "Processed 115 of 495\n",
      "Processed Bhavgeet-2-MFCC.csv\n",
      "Processed 116 of 495\n",
      "Processed Kishore-Kumar-72.csv\n",
      "Processed 117 of 495\n",
      "Processed Asha-Bhosle-26.csv\n",
      "Processed 118 of 495\n",
      "Processed Asha-Bhosle-50.csv\n",
      "Processed 119 of 495\n",
      "Processed Michael-Jackson-25.csv\n",
      "Processed 120 of 495\n",
      "Processed Lavni-2.csv\n",
      "Processed 121 of 495\n",
      "Processed Kishore-Kumar-18.csv\n",
      "Processed 122 of 495\n",
      "Processed Kishore-Kumar-17.csv\n",
      "Processed 123 of 495\n",
      "Processed Asha-Bhosle-38.csv\n",
      "Processed 124 of 495\n",
      "Processed Jana-Gana-Mana-19.csv\n",
      "Processed 125 of 495\n",
      "Processed Kishore-Kumar-6.csv\n",
      "Processed 126 of 495\n",
      "Processed Michael-Jackson-12.csv\n",
      "Processed 127 of 495\n",
      "Processed Asha-Bhosle-7.csv\n",
      "Processed 128 of 495\n",
      "Processed Asha-Bhosle-14.csv\n",
      "Processed 129 of 495\n",
      "Processed Asha-Bhosle-36.csv\n",
      "Processed 130 of 495\n",
      "Processed Asha-Bhosle-17-MFCC.csv\n",
      "Processed 131 of 495\n",
      "Processed Asha-Bhosle-11-MFCC.csv\n",
      "Processed 132 of 495\n",
      "Processed Lavni-65.csv\n",
      "Processed 133 of 495\n",
      "Processed Lavni-Song-9-MFCC.csv\n",
      "Processed 134 of 495\n",
      "Processed Lavni-62.csv\n",
      "Processed 135 of 495\n",
      "Processed Bhavgeet-48.csv\n",
      "Processed 136 of 495\n",
      "Processed Michael-Jackson-22.csv\n",
      "Processed 137 of 495\n",
      "Processed Bhavgeet-9.csv\n",
      "Processed 138 of 495\n",
      "Processed Lavni-4.csv\n",
      "Processed 139 of 495\n",
      "Processed Asha-Bhosle-3.csv\n",
      "Processed 140 of 495\n",
      "Processed Lavni-19.csv\n",
      "Processed 141 of 495\n",
      "Processed Bhavgeet-5.csv\n",
      "Processed 142 of 495\n",
      "Processed Bhavgeet-15.csv\n",
      "Processed 143 of 495\n",
      "Processed Asha-Bhosle-33.csv\n",
      "Processed 144 of 495\n",
      "Processed Kishore-Kumar-10-MFCC.csv\n",
      "Processed 145 of 495\n",
      "Processed Asha-Bhosle-21.csv\n",
      "Processed 146 of 495\n",
      "Processed Lavni-47.csv\n",
      "Processed 147 of 495\n",
      "Processed Asha-Bhosle-51.csv\n",
      "Processed 148 of 495\n",
      "Processed Kishore-Kumar-11.csv\n",
      "Processed 149 of 495\n",
      "Processed Bhavgeet-71.csv\n",
      "Processed 150 of 495\n",
      "Processed Jana-Gana-Mana-33.csv\n",
      "Processed 151 of 495\n",
      "Processed Kishore-Kumar-48.csv\n",
      "Processed 152 of 495\n",
      "Processed Michael-Jackson-35.csv\n",
      "Processed 153 of 495\n",
      "Processed Bhavgeet-27.csv\n",
      "Processed 154 of 495\n",
      "Processed Kishore-Kumar-53.csv\n",
      "Processed 155 of 495\n",
      "Processed Michael-Jackson-34.csv\n",
      "Processed 156 of 495\n",
      "Processed Bhavgeet-31.csv\n",
      "Processed 157 of 495\n",
      "Processed Kishore-Kumar-30.csv\n",
      "Processed 158 of 495\n",
      "Processed Jana-Gana-Mana-42.csv\n",
      "Processed 159 of 495\n",
      "Processed Lavni-61.csv\n",
      "Processed 160 of 495\n",
      "Processed Jana-Gana-Mana-48.csv\n",
      "Processed 161 of 495\n",
      "Processed Bhavgeet-62.csv\n",
      "Processed 162 of 495\n",
      "Processed Michael-Jackson-29.csv\n",
      "Processed 163 of 495\n",
      "Processed Kishore-Kumar-22.csv\n",
      "Processed 164 of 495\n",
      "Processed Bhavgeet-19-MFCC.csv\n",
      "Processed 165 of 495\n",
      "Processed Lavni-25.csv\n",
      "Processed 166 of 495\n",
      "Processed Asha-Bhosle-25.csv\n",
      "Processed 167 of 495\n",
      "Processed Asha-Bhosle-31.csv\n",
      "Processed 168 of 495\n",
      "Processed Asha-Bhosle-54.csv\n",
      "Processed 169 of 495\n",
      "Processed Kishore-Kumar-74.csv\n",
      "Processed 170 of 495\n",
      "Processed Michael-Jackson-58.csv\n",
      "Processed 171 of 495\n",
      "Processed Asha-Bhosle-18-MFCC.csv\n",
      "Processed 172 of 495\n",
      "Processed Michael-Jackson-40.csv\n",
      "Processed 173 of 495\n",
      "Processed Lavni-52.csv\n",
      "Processed 174 of 495\n",
      "Processed Lavni-22.csv\n",
      "Processed 175 of 495\n",
      "Processed Bhavgeet-7.csv\n",
      "Processed 176 of 495\n",
      "Processed Bhavgeet-26.csv\n",
      "Processed 177 of 495\n",
      "Processed Asha-Bhosle-13-MFCC.csv\n",
      "Processed 178 of 495\n",
      "Processed Asha-Bhosle-27.csv\n",
      "Processed 179 of 495\n",
      "Processed Michael-Jackson-56.csv\n",
      "Processed 180 of 495\n",
      "Processed Lavni-66.csv\n",
      "Processed 181 of 495\n",
      "Processed Lavni-43.csv\n",
      "Processed 182 of 495\n",
      "Processed Asha-Bhosle-68.csv\n",
      "Processed 183 of 495\n",
      "Processed Jana-Gana-Mana-46.csv\n",
      "Processed 184 of 495\n",
      "Processed Jana-Gana-Mana-28.csv\n",
      "Processed 185 of 495\n",
      "Processed Kishore-Kumar-4-MFCC.csv\n",
      "Processed 186 of 495\n",
      "Processed Kishore-Kumar-3-MFCC.csv\n",
      "Processed 187 of 495\n",
      "Processed Bhavgeet-16-MFCC.csv\n",
      "Processed 188 of 495\n",
      "Processed Bhavgeet-19.csv\n",
      "Processed 189 of 495\n",
      "Processed Jana-Gana-Mana-26.csv\n",
      "Processed 190 of 495\n",
      "Processed Asha-Bhosle-45.csv\n",
      "Processed 191 of 495\n",
      "Processed Lavni-37.csv\n",
      "Processed 192 of 495\n",
      "Processed Lavni-Song-5-MFCC.csv\n",
      "Processed 193 of 495\n",
      "Processed Michael-Jackson-13.csv\n",
      "Processed 194 of 495\n",
      "Processed Michael-Jackson-4-MFCC.csv\n",
      "Processed 195 of 495\n",
      "Processed Kishore-Kumar-3.csv\n",
      "Processed 196 of 495\n",
      "Processed Jana-Gana-Mana-44.csv\n",
      "Processed 197 of 495\n",
      "Processed Michael-Jackson-10.csv\n",
      "Processed 198 of 495\n",
      "Processed Bhavgeet-42.csv\n",
      "Processed 199 of 495\n",
      "Processed Kishore-Kumar-41.csv\n",
      "Processed 200 of 495\n",
      "Processed Asha-Bhosle-5-MFCC.csv\n",
      "Processed 201 of 495\n",
      "Processed Bhavgeet-13.csv\n",
      "Processed 202 of 495\n",
      "Processed Bhavgeet-50.csv\n",
      "Processed 203 of 495\n",
      "Processed Kishore-Kumar-59.csv\n",
      "Processed 204 of 495\n",
      "Processed Michael-Jackson-5.csv\n",
      "Processed 205 of 495\n",
      "Processed Jana-Gana-Mana-5-MFCC.csv\n",
      "Processed 206 of 495\n",
      "Processed Asha-Bhosle-64.csv\n",
      "Processed 207 of 495\n",
      "Processed Kishore-Kumar-15-MFCC.csv\n",
      "Processed 208 of 495\n",
      "Processed Lavni-35.csv\n",
      "Processed 209 of 495\n",
      "Processed Lavni-45.csv\n",
      "Processed 210 of 495\n",
      "Processed Kishore-Kumar-69.csv\n",
      "Processed 211 of 495\n",
      "Processed Lavni-46.csv\n",
      "Processed 212 of 495\n",
      "Processed Asha-Bhosle-56.csv\n",
      "Processed 213 of 495\n",
      "Processed Asha-Bhosle-52.csv\n",
      "Processed 214 of 495\n",
      "Processed Michael-Jackson-7-MFCC.csv\n",
      "Processed 215 of 495\n",
      "Processed Michael-Jackson-26.csv\n",
      "Processed 216 of 495\n",
      "Processed Asha-Bhosle-61.csv\n",
      "Processed 217 of 495\n",
      "Processed Bhavgeet-28.csv\n",
      "Processed 218 of 495\n",
      "Processed Jana-Gana-Mana-12.csv\n",
      "Processed 219 of 495\n",
      "Processed Kishore-Kumar-28.csv\n",
      "Processed 220 of 495\n",
      "Processed Michael-Jackson-18.csv\n",
      "Processed 221 of 495\n",
      "Processed Lavni-Song-11-MFCC.csv\n",
      "Processed 222 of 495\n",
      "Processed Kishore-Kumar-50.csv\n",
      "Processed 223 of 495\n",
      "Processed Lavni-9.csv\n",
      "Processed 224 of 495\n",
      "Processed Bhavgeet-3-MFCC.csv\n",
      "Processed 225 of 495\n",
      "Processed Jana-Gana-Mana-7-MFCC.csv\n",
      "Processed 226 of 495\n",
      "Processed Jana-Gana-Mana-1-MFCC.csv\n",
      "Processed 227 of 495\n",
      "Processed Kishore-Kumar-47.csv\n",
      "Processed 228 of 495\n",
      "Processed Lavni-54.csv\n",
      "Processed 229 of 495\n",
      "Processed Jana-Gana-Mana-3-MFCC.csv\n",
      "Processed 230 of 495\n",
      "Processed Kishore-Kumar-67.csv\n",
      "Processed 231 of 495\n",
      "Processed Lavni-40.csv\n",
      "Processed 232 of 495\n",
      "Processed Bhavgeet-72.csv\n",
      "Processed 233 of 495\n",
      "Processed Lavni-Song-8-MFCC.csv\n",
      "Processed 234 of 495\n",
      "Processed Kishore-Kumar-34.csv\n",
      "Processed 235 of 495\n",
      "Processed Asha-Bhosle-9-MFCC.csv\n",
      "Processed 236 of 495\n",
      "Processed Asha-Bhosle-12.csv\n",
      "Processed 237 of 495\n",
      "Processed Jana-Gana-Mana-15.csv\n",
      "Processed 238 of 495\n",
      "Processed Kishore-Kumar-73.csv\n",
      "Processed 239 of 495\n",
      "Processed Bhavgeet-23.csv\n",
      "Processed 240 of 495\n",
      "Processed Kishore-Kumar-27.csv\n",
      "Processed 241 of 495\n",
      "Processed Lavni-6.csv\n",
      "Processed 242 of 495\n",
      "Processed Asha-Bhosle-10.csv\n",
      "Processed 243 of 495\n",
      "Processed Jana-Gana-Mana-2-MFCC.csv\n",
      "Processed 244 of 495\n",
      "Processed Lavni-42.csv\n",
      "Processed 245 of 495\n",
      "Processed Bhavgeet-38.csv\n",
      "Processed 246 of 495\n",
      "Processed Bhavgeet-13-MFCC.csv\n",
      "Processed 247 of 495\n",
      "Processed Asha-Bhosle-30.csv\n",
      "Processed 248 of 495\n",
      "Processed Jana-Gana-Mana-6-MFCC.csv\n",
      "Processed 249 of 495\n",
      "Processed Asha-Bhosle-9.csv\n",
      "Processed 250 of 495\n",
      "Processed Jana-Gana-Mana-47.csv\n",
      "Processed 251 of 495\n",
      "Processed Bhavgeet-40.csv\n",
      "Processed 252 of 495\n",
      "Processed Asha-Bhosle-20.csv\n",
      "Processed 253 of 495\n",
      "Processed Michael-Jackson-63.csv\n",
      "Processed 254 of 495\n",
      "Processed Asha-Bhosle-46.csv\n",
      "Processed 255 of 495\n",
      "Processed Michael-Jackson-65.csv\n",
      "Processed 256 of 495\n",
      "Processed Asha-Bhosle-58.csv\n",
      "Processed 257 of 495\n",
      "Processed Asha-Bhosle-23-MFCC.csv\n",
      "Processed 258 of 495\n",
      "Processed Bhavgeet-9-MFCC.csv\n",
      "Processed 259 of 495\n",
      "Processed Bhavgeet-64.csv\n",
      "Processed 260 of 495\n",
      "Processed Asha-Bhosle-21-MFCC.csv\n",
      "Processed 261 of 495\n",
      "Processed Jana-Gana-Mana-36.csv\n",
      "Processed 262 of 495\n",
      "Processed Kishore-Kumar-8.csv\n",
      "Processed 263 of 495\n",
      "Processed Bhavgeet-32.csv\n",
      "Processed 264 of 495\n",
      "Processed Kishore-Kumar-15.csv\n",
      "Processed 265 of 495\n",
      "Processed Kishore-Kumar-33.csv\n",
      "Processed 266 of 495\n",
      "Processed Jana-Gana-Mana-18.csv\n",
      "Processed 267 of 495\n",
      "Processed Asha-Bhosle-29.csv\n",
      "Processed 268 of 495\n",
      "Processed Bhavgeet-68.csv\n",
      "Processed 269 of 495\n",
      "Processed Jana-Gana-Mana-1.csv\n",
      "Processed 270 of 495\n",
      "Processed Kishore-Kumar-60.csv\n",
      "Processed 271 of 495\n",
      "Processed Bhavgeet-24.csv\n",
      "Processed 272 of 495\n",
      "Processed Asha-Bhosle-63.csv\n",
      "Processed 273 of 495\n",
      "Processed Michael-Jackson-70.csv\n",
      "Processed 274 of 495\n",
      "Processed Kishore-Kumar-37.csv\n",
      "Processed 275 of 495\n",
      "Processed Lavni-Song-3-MFCC.csv\n",
      "Processed 276 of 495\n",
      "Processed Bhavgeet-8.csv\n",
      "Processed 277 of 495\n",
      "Processed Kishore-Kumar-24.csv\n",
      "Processed 278 of 495\n",
      "Processed Michael-Jackson-57.csv\n",
      "Processed 279 of 495\n",
      "Processed Lavni-28.csv\n",
      "Processed 280 of 495\n",
      "Processed Asha-Bhosle-72.csv\n",
      "Processed 281 of 495\n",
      "Processed Kishore-Kumar-65.csv\n",
      "Processed 282 of 495\n",
      "Processed Jana-Gana-Mana-45.csv\n",
      "Processed 283 of 495\n",
      "Processed Bhavgeet-58.csv\n",
      "Processed 284 of 495\n",
      "Processed Kishore-Kumar-55.csv\n",
      "Processed 285 of 495\n",
      "Processed Michael-Jackson-5-MFCC.csv\n",
      "Processed 286 of 495\n",
      "Processed Lavni-7.csv\n",
      "Processed 287 of 495\n",
      "Processed Kishore-Kumar-7.csv\n",
      "Processed 288 of 495\n",
      "Processed Bhavgeet-14-MFCC.csv\n",
      "Processed 289 of 495\n",
      "Processed Kishore-Kumar-14.csv\n",
      "Processed 290 of 495\n",
      "Processed Lavni-29.csv\n",
      "Processed 291 of 495\n",
      "Processed Bhavgeet-49.csv\n",
      "Processed 292 of 495\n",
      "Processed Michael-Jackson-47.csv\n",
      "Processed 293 of 495\n",
      "Processed Bhavgeet-52.csv\n",
      "Processed 294 of 495\n",
      "Processed Asha-Bhosle-73.csv\n",
      "Processed 295 of 495\n",
      "Processed Asha-Bhosle-8-MFCC.csv\n",
      "Processed 296 of 495\n",
      "Processed Asha-Bhosle-44.csv\n",
      "Processed 297 of 495\n",
      "Processed Jana-Gana-Mana-29.csv\n",
      "Processed 298 of 495\n",
      "Processed Bhavgeet-7-MFCC.csv\n",
      "Processed 299 of 495\n",
      "Processed Michael-Jackson-1.csv\n",
      "Processed 300 of 495\n",
      "Processed Michael-Jackson-61.csv\n",
      "Processed 301 of 495\n",
      "Processed Kishore-Kumar-51.csv\n",
      "Processed 302 of 495\n",
      "Processed Asha-Bhosle-67.csv\n",
      "Processed 303 of 495\n",
      "Processed Bhavgeet-8-MFCC.csv\n",
      "Processed 304 of 495\n",
      "Processed Kishore-Kumar-16-MFCC.csv\n",
      "Processed 305 of 495\n",
      "Processed Jana-Gana-Mana-13.csv\n",
      "Processed 306 of 495\n",
      "Processed Michael-Jackson-37.csv\n",
      "Processed 307 of 495\n",
      "Processed Asha-Bhosle-16-MFCC.csv\n",
      "Processed 308 of 495\n",
      "Processed Lavni-13.csv\n",
      "Processed 309 of 495\n",
      "Processed Lavni-Song-1-MFCC.csv\n",
      "Processed 310 of 495\n",
      "Processed Kishore-Kumar-21.csv\n",
      "Processed 311 of 495\n",
      "Processed Michael-Jackson-49.csv\n",
      "Processed 312 of 495\n",
      "Processed Jana-Gana-Mana-32.csv\n",
      "Processed 313 of 495\n",
      "Processed Bhavgeet-6.csv\n",
      "Processed 314 of 495\n",
      "Processed Bhavgeet-45.csv\n",
      "Processed 315 of 495\n",
      "Processed Lavni-33.csv\n",
      "Processed 316 of 495\n",
      "Processed Kishore-Kumar-8-MFCC.csv\n",
      "Processed 317 of 495\n",
      "Processed Bhavgeet-41.csv\n",
      "Processed 318 of 495\n",
      "Processed Lavni-64.csv\n",
      "Processed 319 of 495\n",
      "Processed Kishore-Kumar-45.csv\n",
      "Processed 320 of 495\n",
      "Processed Jana-Gana-Mana-16.csv\n",
      "Processed 321 of 495\n",
      "Processed Lavni-Song-7-MFCC.csv\n",
      "Processed 322 of 495\n",
      "Processed Michael-Jackson-7.csv\n",
      "Processed 323 of 495\n",
      "Processed Lavni-15.csv\n",
      "Processed 324 of 495\n",
      "Processed Michael-Jackson-38.csv\n",
      "Processed 325 of 495\n",
      "Processed Michael-Jackson-60.csv\n",
      "Processed 326 of 495\n",
      "Processed Kishore-Kumar-16.csv\n",
      "Processed 327 of 495\n",
      "Processed Michael-Jackson-53.csv\n",
      "Processed 328 of 495\n",
      "Processed Michael-Jackson-14.csv\n",
      "Processed 329 of 495\n",
      "Processed Bhavgeet-63.csv\n",
      "Processed 330 of 495\n",
      "Processed Michael-Jackson-9.csv\n",
      "Processed 331 of 495\n",
      "Processed Asha-Bhosle-20-MFCC.csv\n",
      "Processed 332 of 495\n",
      "Processed Bhavgeet-53.csv\n",
      "Processed 333 of 495\n",
      "Processed Asha-Bhosle-2.csv\n",
      "Processed 334 of 495\n",
      "Processed Lavni-5.csv\n",
      "Processed 335 of 495\n",
      "Processed Lavni-23.csv\n",
      "Processed 336 of 495\n",
      "Processed Bhavgeet-56.csv\n",
      "Processed 337 of 495\n",
      "Processed Lavni-12.csv\n",
      "Processed 338 of 495\n",
      "Processed Jana-Gana-Mana-40.csv\n",
      "Processed 339 of 495\n",
      "Processed Lavni-27.csv\n",
      "Processed 340 of 495\n",
      "Processed Jana-Gana-Mana-5.csv\n",
      "Processed 341 of 495\n",
      "Processed Michael-Jackson-1-MFCC.csv\n",
      "Processed 342 of 495\n",
      "Processed Jana-Gana-Mana-37.csv\n",
      "Processed 343 of 495\n",
      "Processed Michael-Jackson-72.csv\n",
      "Processed 344 of 495\n",
      "Processed Bhavgeet-12.csv\n",
      "Processed 345 of 495\n",
      "Processed Asha-Bhosle-34.csv\n",
      "Processed 346 of 495\n",
      "Processed Kishore-Kumar-70.csv\n",
      "Processed 347 of 495\n",
      "Processed Michael-Jackson-3.csv\n",
      "Processed 348 of 495\n",
      "Processed Michael-Jackson-3-MFCC.csv\n",
      "Processed 349 of 495\n",
      "Processed Bhavgeet-59.csv\n",
      "Processed 350 of 495\n",
      "Processed Jana-Gana-Mana-3.csv\n",
      "Processed 351 of 495\n",
      "Processed Bhavgeet-44.csv\n",
      "Processed 352 of 495\n",
      "Processed Lavni-60.csv\n",
      "Processed 353 of 495\n",
      "Processed Michael-Jackson-43.csv\n",
      "Processed 354 of 495\n",
      "Processed Bhavgeet-2.csv\n",
      "Processed 355 of 495\n",
      "Processed Michael-Jackson-62.csv\n",
      "Processed 356 of 495\n",
      "Processed Kishore-Kumar-14-MFCC.csv\n",
      "Processed 357 of 495\n",
      "Processed Kishore-Kumar-23.csv\n",
      "Processed 358 of 495\n",
      "Processed Kishore-Kumar-6-MFCC.csv\n",
      "Processed 359 of 495\n",
      "Processed Kishore-Kumar-4.csv\n",
      "Processed 360 of 495\n",
      "Processed Bhavgeet-16.csv\n",
      "Processed 361 of 495\n",
      "Processed Michael-Jackson-36.csv\n",
      "Processed 362 of 495\n",
      "Processed Bhavgeet-15-MFCC.csv\n",
      "Processed 363 of 495\n",
      "Processed Bhavgeet-18-MFCC.csv\n",
      "Processed 364 of 495\n",
      "Processed Jana-Gana-Mana-43.csv\n",
      "Processed 365 of 495\n",
      "Processed Jana-Gana-Mana-25.csv\n",
      "Processed 366 of 495\n",
      "Processed Michael-Jackson-11.csv\n",
      "Processed 367 of 495\n",
      "Processed Jana-Gana-Mana-23.csv\n",
      "Processed 368 of 495\n",
      "Processed Asha-Bhosle-74.csv\n",
      "Processed 369 of 495\n",
      "Processed Michael-Jackson-6.csv\n",
      "Processed 370 of 495\n",
      "Processed Lavni-17.csv\n",
      "Processed 371 of 495\n",
      "Processed Lavni-30.csv\n",
      "Processed 372 of 495\n",
      "Processed Jana-Gana-Mana-21.csv\n",
      "Processed 373 of 495\n",
      "Processed Lavni-11.csv\n",
      "Processed 374 of 495\n",
      "Processed Kishore-Kumar-17-MFCC.csv\n",
      "Processed 375 of 495\n",
      "Processed Asha-Bhosle-75.csv\n",
      "Processed 376 of 495\n",
      "Processed Kishore-Kumar-20.csv\n",
      "Processed 377 of 495\n",
      "Processed Michael-Jackson-73.csv\n",
      "Processed 378 of 495\n",
      "Processed Lavni-34.csv\n",
      "Processed 379 of 495\n",
      "Processed Bhavgeet-37.csv\n",
      "Processed 380 of 495\n",
      "Processed Lavni-8.csv\n",
      "Processed 381 of 495\n",
      "Processed Bhavgeet-25.csv\n",
      "Processed 382 of 495\n",
      "Processed Asha-Bhosle-4-MFCC.csv\n",
      "Processed 383 of 495\n",
      "Processed Bhavgeet-3.csv\n",
      "Processed 384 of 495\n",
      "Processed Asha-Bhosle-59.csv\n",
      "Processed 385 of 495\n",
      "Processed Jana-Gana-Mana-39.csv\n",
      "Processed 386 of 495\n",
      "Processed Jana-Gana-Mana-20.csv\n",
      "Processed 387 of 495\n",
      "Processed Kishore-Kumar-61.csv\n",
      "Processed 388 of 495\n",
      "Processed Asha-Bhosle-53.csv\n",
      "Processed 389 of 495\n",
      "Processed Jana-Gana-Mana-4.csv\n",
      "Processed 390 of 495\n",
      "Processed Jana-Gana-Mana-41.csv\n",
      "Processed 391 of 495\n",
      "Processed Michael-Jackson-48.csv\n",
      "Processed 392 of 495\n",
      "Processed Bhavgeet-57.csv\n",
      "Processed 393 of 495\n",
      "Processed Lavni-Song-6-MFCC.csv\n",
      "Processed 394 of 495\n",
      "Processed Asha-Bhosle-5.csv\n",
      "Processed 395 of 495\n",
      "Processed Michael-Jackson-2.csv\n",
      "Processed 396 of 495\n",
      "Processed Asha-Bhosle-62.csv\n",
      "Processed 397 of 495\n",
      "Processed Michael-Jackson-4.csv\n",
      "Processed 398 of 495\n",
      "Processed Michael-Jackson-6-MFCC.csv\n",
      "Processed 399 of 495\n",
      "Processed Lavni-49.csv\n",
      "Processed 400 of 495\n",
      "Processed Jana-Gana-Mana-10.csv\n",
      "Processed 401 of 495\n",
      "Processed Asha-Bhosle-8.csv\n",
      "Processed 402 of 495\n",
      "Processed Kishore-Kumar-36.csv\n",
      "Processed 403 of 495\n",
      "Processed Michael-Jackson-41.csv\n",
      "Processed 404 of 495\n",
      "Processed Michael-Jackson-54.csv\n",
      "Processed 405 of 495\n",
      "Processed Jana-Gana-Mana-8.csv\n",
      "Processed 406 of 495\n",
      "Processed Michael-Jackson-52.csv\n",
      "Processed 407 of 495\n",
      "Processed Bhavgeet-67.csv\n",
      "Processed 408 of 495\n",
      "Processed Jana-Gana-Mana-6.csv\n",
      "Processed 409 of 495\n",
      "Processed Kishore-Kumar-10.csv\n",
      "Processed 410 of 495\n",
      "Processed Jana-Gana-Mana-35.csv\n",
      "Processed 411 of 495\n",
      "Processed Kishore-Kumar-66.csv\n",
      "Processed 412 of 495\n",
      "Processed Bhavgeet-55.csv\n",
      "Processed 413 of 495\n",
      "Processed Bhavgeet-29.csv\n",
      "Processed 414 of 495\n",
      "Processed Kishore-Kumar-29.csv\n",
      "Processed 415 of 495\n",
      "Processed Michael-Jackson-32.csv\n",
      "Processed 416 of 495\n",
      "Processed Michael-Jackson-39.csv\n",
      "Processed 417 of 495\n",
      "Processed Bhavgeet-70.csv\n",
      "Processed 418 of 495\n",
      "Processed Kishore-Kumar-13.csv\n",
      "Processed 419 of 495\n",
      "Processed Michael-Jackson-64.csv\n",
      "Processed 420 of 495\n",
      "Processed Lavni-18.csv\n",
      "Processed 421 of 495\n",
      "Processed Jana-Gana-Mana-31.csv\n",
      "Processed 422 of 495\n",
      "Processed Michael-Jackson-50.csv\n",
      "Processed 423 of 495\n",
      "Processed Bhavgeet-1.csv\n",
      "Processed 424 of 495\n",
      "Processed Lavni-41.csv\n",
      "Processed 425 of 495\n",
      "Processed Lavni-24.csv\n",
      "Processed 426 of 495\n",
      "Processed Jana-Gana-Mana-24.csv\n",
      "Processed 427 of 495\n",
      "Processed Bhavgeet-12-MFCC.csv\n",
      "Processed 428 of 495\n",
      "Processed Bhavgeet-20.csv\n",
      "Processed 429 of 495\n",
      "Processed Bhavgeet-39.csv\n",
      "Processed 430 of 495\n",
      "Processed Kishore-Kumar-26.csv\n",
      "Processed 431 of 495\n",
      "Processed Michael-Jackson-19.csv\n",
      "Processed 432 of 495\n",
      "Processed Kishore-Kumar-31.csv\n",
      "Processed 433 of 495\n",
      "Processed Bhavgeet-33.csv\n",
      "Processed 434 of 495\n",
      "Processed Asha-Bhosle-10-MFCC.csv\n",
      "Processed 435 of 495\n",
      "Processed Asha-Bhosle-42.csv\n",
      "Processed 436 of 495\n",
      "Processed Lavni-31.csv\n",
      "Processed 437 of 495\n",
      "Processed Michael-Jackson-2-MFCC.csv\n",
      "Processed 438 of 495\n",
      "Processed Kishore-Kumar-13-MFCC.csv\n",
      "Processed 439 of 495\n",
      "Processed Michael-Jackson-69.csv\n",
      "Processed 440 of 495\n",
      "Processed Jana-Gana-Mana-2.csv\n",
      "Processed 441 of 495\n",
      "Processed Kishore-Kumar-64.csv\n",
      "Processed 442 of 495\n",
      "Processed Michael-Jackson-28.csv\n",
      "Processed 443 of 495\n",
      "Processed Asha-Bhosle-1.csv\n",
      "Processed 444 of 495\n",
      "Processed Kishore-Kumar-75.csv\n",
      "Processed 445 of 495\n",
      "Processed Jana-Gana-Mana-9.csv\n",
      "Processed 446 of 495\n",
      "Processed Asha-Bhosle-18.csv\n",
      "Processed 447 of 495\n",
      "Processed Bhavgeet-60.csv\n",
      "Processed 448 of 495\n",
      "Processed Lavni-50.csv\n",
      "Processed 449 of 495\n",
      "Processed Asha-Bhosle-22.csv\n",
      "Processed 450 of 495\n",
      "Processed Asha-Bhosle-6-MFCC.csv\n",
      "Processed 451 of 495\n",
      "Processed Asha-Bhosle-39.csv\n",
      "Processed 452 of 495\n",
      "Processed Kishore-Kumar-1.csv\n",
      "Processed 453 of 495\n",
      "Processed Asha-Bhosle-24.csv\n",
      "Processed 454 of 495\n",
      "Processed Bhavgeet-20-MFCC.csv\n",
      "Processed 455 of 495\n",
      "Processed Lavni-58.csv\n",
      "Processed 456 of 495\n",
      "Processed Kishore-Kumar-9.csv\n",
      "Processed 457 of 495\n",
      "Processed Lavni-26.csv\n",
      "Processed 458 of 495\n",
      "Processed Lavni-63.csv\n",
      "Processed 459 of 495\n",
      "Processed Kishore-Kumar-12.csv\n",
      "Processed 460 of 495\n",
      "Processed Asha-Bhosle-60.csv\n",
      "Processed 461 of 495\n",
      "Processed Asha-Bhosle-69.csv\n",
      "Processed 462 of 495\n",
      "Processed Lavni-57.csv\n",
      "Processed 463 of 495\n",
      "Processed Asha-Bhosle-43.csv\n",
      "Processed 464 of 495\n",
      "Processed Asha-Bhosle-4.csv\n",
      "Processed 465 of 495\n",
      "Processed Bhavgeet-17.csv\n",
      "Processed 466 of 495\n",
      "Processed Jana-Gana-Mana-7.csv\n",
      "Processed 467 of 495\n",
      "Processed Bhavgeet-4.csv\n",
      "Processed 468 of 495\n",
      "Processed Kishore-Kumar-9-MFCC.csv\n",
      "Processed 469 of 495\n",
      "Processed Michael-Jackson-21.csv\n",
      "Processed 470 of 495\n",
      "Processed Jana-Gana-Mana-14.csv\n",
      "Processed 471 of 495\n",
      "Processed Lavni-55.csv\n",
      "Processed 472 of 495\n",
      "Processed Kishore-Kumar-35.csv\n",
      "Processed 473 of 495\n",
      "Processed Jana-Gana-Mana-4-MFCC.csv\n",
      "Processed 474 of 495\n",
      "Processed Michael-Jackson-59.csv\n",
      "Processed 475 of 495\n",
      "Processed Lavni-59.csv\n",
      "Processed 476 of 495\n",
      "Processed Kishore-Kumar-71.csv\n",
      "Processed 477 of 495\n",
      "Processed Michael-Jackson-46.csv\n",
      "Processed 478 of 495\n",
      "Processed Bhavgeet-30.csv\n",
      "Processed 479 of 495\n",
      "Processed Lavni-Song-2-MFCC.csv\n",
      "Processed 480 of 495\n",
      "Processed Bhavgeet-11.csv\n",
      "Processed 481 of 495\n",
      "Processed Bhavgeet-4-MFCC.csv\n",
      "Processed 482 of 495\n",
      "Processed Michael-Jackson-8.csv\n",
      "Processed 483 of 495\n",
      "Processed Asha-Bhosle-11.csv\n",
      "Processed 484 of 495\n",
      "Processed Asha-Bhosle-70.csv\n",
      "Processed 485 of 495\n",
      "Processed Kishore-Kumar-42.csv\n",
      "Processed 486 of 495\n",
      "Processed Lavni-36.csv\n",
      "Processed 487 of 495\n",
      "Processed Kishore-Kumar-11-MFCC.csv\n",
      "Processed 488 of 495\n",
      "Processed Jana-Gana-Mana-11.csv\n",
      "Processed 489 of 495\n",
      "Processed Michael-Jackson-68.csv\n",
      "Processed 490 of 495\n",
      "Processed Asha-Bhosle-65.csv\n",
      "Processed 491 of 495\n",
      "Processed Michael-Jackson-33.csv\n",
      "Processed 492 of 495\n",
      "Processed Lavni-14.csv\n",
      "Processed 493 of 495\n",
      "Processed Asha-Bhosle-35.csv\n",
      "Processed 494 of 495\n",
      "Processed Lavni-32.csv\n",
      "Processed 495 of 495\n"
     ]
    }
   ],
   "source": [
    "import os\n",
    "import pandas as pd\n",
    "import numpy as np\n",
    "from sklearn.decomposition import PCA\n",
    "from scipy.stats import skew, kurtosis\n",
    "\n",
    "INDEX = 13\n",
    "DATA_DIR = './new-test-data/test-mfcc-v2' #update with where you stored the file\n",
    "DATA2_DIR = './new-test-data/test-mfcc-v2-copy'\n",
    "def aggregate_mfcc_selective(mfcc_data):\n",
    "    mfcc_selected = mfcc_data[INDEX:, :]\n",
    "    #features for data from 13-20\n",
    "    mfcc_mean = np.mean(mfcc_selected, axis=1)\n",
    "    mfcc_std = np.std(mfcc_selected, axis=1)\n",
    "    mfcc_max = np.max(mfcc_selected, axis=1)\n",
    "    mfcc_min = np.min(mfcc_selected, axis=1)\n",
    "    \n",
    "    features = np.concatenate([mfcc_mean, mfcc_std, mfcc_max, mfcc_min])\n",
    "    return features\n",
    "\n",
    "def aggregate_mfcc_selective2(mfcc_data):\n",
    "    mfcc_selected = mfcc_data[:3, :] # Select first 20 MFCCs\n",
    "    \n",
    "    mfcc_mean = np.mean(mfcc_selected, axis=1)\n",
    "    mfcc_std = np.std(mfcc_selected, axis=1)\n",
    "    mfcc_max = np.max(mfcc_selected, axis=1)\n",
    "    mfcc_min = np.min(mfcc_selected, axis=1)\n",
    "    \n",
    "    features = np.concatenate([mfcc_mean, mfcc_std, mfcc_max, mfcc_min])\n",
    "    return features\n",
    "\n",
    "# total number of files in the directory\n",
    "total_files = len(os.listdir(DATA_DIR))\n",
    "index = 1\n",
    "\n",
    "# Initialize lists to store features, file names, and labels\n",
    "mfcc_all_songs = []\n",
    "file_names = []\n",
    "generated_features = []\n",
    "labels = []\n",
    "\n",
    "total_songs = len(os.listdir(DATA_DIR))\n",
    "idx = 1\n",
    "\n",
    "# Iterate over all files in the specified directory\n",
    "for file_name in os.listdir(DATA_DIR):\n",
    "        file_path = os.path.join(DATA_DIR, file_name)\n",
    "        file_path2 = os.path.join(DATA2_DIR, file_name)\n",
    "        mfcc_data = pd.read_csv(file_path, header=None).values\n",
    "        mfcc_data = mfcc_data[:20]\n",
    "        mfcc_data2 = pd.read_csv(file_path2, header=None).values\n",
    "        # Compute aggregated MFCC features\n",
    "        aggregated_features = aggregate_mfcc_selective(mfcc_data)\n",
    "        aggregated_features2 = aggregate_mfcc_selective2(mfcc_data2)\n",
    "\n",
    "        skewness = skew(mfcc_data, axis=1)\n",
    "        kurt = kurtosis(mfcc_data, axis=1)\n",
    "        range_max_min = np.ptp(mfcc_data, axis=1)\n",
    "\n",
    "        total_energy = np.sum(mfcc_data ** 2, axis=1)\n",
    "        energy_entropy = -np.sum(mfcc_data ** 2 * np.log(mfcc_data ** 2 + 1e-10), axis=1)\n",
    "        q25 = np.percentile(mfcc_data, 25, axis=1)\n",
    "        q75 = np.percentile(mfcc_data, 75, axis=1)\n",
    "    \n",
    "        delta_mfcc = librosa.feature.delta(mfcc_data, order=1)\n",
    "        delta_delta_mfcc = librosa.feature.delta(mfcc_data, order=2)\n",
    "        \n",
    "\n",
    "        delta_mean = np.mean(delta_mfcc, axis=1)\n",
    "        delta_std = np.std(delta_mfcc, axis=1)\n",
    "        delta_max = np.max(delta_mfcc, axis=1)\n",
    "        delta_min = np.min(delta_mfcc, axis=1)\n",
    "        delta_skew = skew(librosa.feature.delta(mfcc_data), axis=1)\n",
    "        delta_kurtosis = kurtosis(librosa.feature.delta(mfcc_data), axis=1)\n",
    "        delta_range = np.ptp(librosa.feature.delta(mfcc_data), axis=1)\n",
    "        delta_total_energy = np.sum(librosa.feature.delta(mfcc_data) ** 2, axis=1)\n",
    "        delta_energy_entropy = -np.sum(librosa.feature.delta(mfcc_data) ** 2 * np.log(librosa.feature.delta(mfcc_data) ** 2 + 1e-10), axis=1)\n",
    "        delta_q25 = np.percentile(delta_mfcc, 25, axis=1)\n",
    "        delta_q75 = np.percentile(delta_mfcc, 75, axis=1)\n",
    "            \n",
    "        delta_delta_mean = np.mean(delta_delta_mfcc, axis=1)\n",
    "        delta_delta_std = np.std(delta_delta_mfcc, axis=1)\n",
    "        delta_delta_max = np.max(delta_delta_mfcc, axis=1)\n",
    "        delta_delta_min = np.min(delta_delta_mfcc, axis=1)\n",
    "        delta_delta_skew = skew(librosa.feature.delta(delta_delta_mfcc, order=2), axis=1)\n",
    "        delta_delta_kurtosis = kurtosis(librosa.feature.delta(delta_delta_mfcc, order=2), axis=1)\n",
    "        delta_delta_range = np.ptp(librosa.feature.delta(delta_delta_mfcc, order=2), axis=1)\n",
    "        delta_delta_total_energy = np.sum(librosa.feature.delta(delta_delta_mfcc, order=2) ** 2, axis=1)\n",
    "        delta_delta_energy_entropy = -np.sum(librosa.feature.delta(delta_delta_mfcc, order=2) \n",
    "                                              ** 2 * np.log(librosa.feature.delta(delta_delta_mfcc, order=2) ** 2 + 1e-10), axis=1)\n",
    "        delta_delta_q25 = np.percentile(delta_delta_mfcc, 25, axis=1)\n",
    "        delta_delta_q75 = np.percentile(delta_delta_mfcc, 75, axis=1)\n",
    "\n",
    "    \n",
    "        delta_mfcc2 = librosa.feature.delta(mfcc_data2, order=1)\n",
    "        delta_delta_mfcc2 = librosa.feature.delta(mfcc_data2, order=2)\n",
    "        delta_mean2 = np.mean(delta_mfcc2, axis=1)\n",
    "        delta_std2 = np.std(delta_mfcc2, axis=1)\n",
    "        delta_max2 = np.max(delta_mfcc2, axis=1)\n",
    "        delta_min2 = np.min(delta_mfcc2, axis=1)\n",
    "        delta_delta_mean2 = np.mean(delta_delta_mfcc2, axis=1)\n",
    "        delta_delta_std2 = np.std(delta_delta_mfcc2, axis=1)\n",
    "        delta_delta_max2 = np.max(delta_delta_mfcc2, axis=1)\n",
    "        delta_delta_min2 = np.min(delta_delta_mfcc2, axis=1)\n",
    "        delta_delta_range2 = np.ptp(delta_delta_mfcc2, axis=1)  \n",
    "        delta_delta_total_energy2 = np.sum(librosa.feature.delta(delta_delta_mfcc2, order=2) ** 2, axis=1)\n",
    "        delta_delta_energy_entropy2 = -np.sum(librosa.feature.delta(delta_delta_mfcc2, order=2) \n",
    "                                              ** 2 * np.log(librosa.feature.delta(delta_delta_mfcc2, order=2) ** 2 + 1e-10), axis=1)\n",
    "        delta_delta_q252 = np.percentile(delta_delta_mfcc2, 25, axis=1)\n",
    "        delta_delta_q752 = np.percentile(delta_delta_mfcc2, 75, axis=1)\n",
    "\n",
    "        # PCA_mfcc = PCA(n_components=5)\n",
    "        # PCA_mfcc.fit(mfcc_data.T)\n",
    "        # PCA_mfcc_features = PCA_mfcc.components_.flatten()\n",
    "\n",
    "        # Compile all features into a single vector\n",
    "        features = np.concatenate([\n",
    "            aggregated_features.flatten(),\n",
    "            aggregated_features2.flatten(),\n",
    "            range_max_min.flatten(),\n",
    "            skewness.flatten(),\n",
    "            kurt.flatten(),\n",
    "            total_energy.flatten(),\n",
    "            energy_entropy.flatten(),\n",
    "            q25.flatten(),\n",
    "            q75.flatten(),\n",
    "            \n",
    "            delta_mean.flatten(),\n",
    "            delta_std.flatten(),\n",
    "            delta_max.flatten(),\n",
    "            delta_min.flatten(),\n",
    "            delta_skew.flatten(),\n",
    "            delta_kurtosis.flatten(),\n",
    "            delta_range.flatten(),\n",
    "            delta_total_energy.flatten(),\n",
    "            delta_energy_entropy.flatten(),\n",
    "            delta_q25.flatten(),\n",
    "            delta_q75.flatten(),\n",
    "            \n",
    "            delta_delta_mean.flatten(),\n",
    "            delta_delta_std.flatten(),\n",
    "            delta_delta_max.flatten(),\n",
    "            delta_delta_min.flatten(),\n",
    "            delta_delta_skew.flatten(),\n",
    "            delta_delta_kurtosis.flatten(),\n",
    "            delta_delta_range.flatten(),\n",
    "            delta_delta_total_energy.flatten(),\n",
    "            delta_delta_energy_entropy.flatten(),\n",
    "            delta_delta_q25.flatten(),\n",
    "            delta_delta_q75.flatten(),\n",
    "            \n",
    "            delta_mean2.flatten(),\n",
    "            delta_std2.flatten(),\n",
    "            delta_max2.flatten(),\n",
    "            delta_min2.flatten(),\n",
    "            delta_delta_mean2.flatten(),\n",
    "            delta_delta_std2.flatten(),\n",
    "            delta_delta_max2.flatten(),\n",
    "            delta_delta_min2.flatten(),\n",
    "            delta_delta_total_energy2.flatten(),\n",
    "            delta_delta_energy_entropy2.flatten(),\n",
    "            delta_delta_q252.flatten(),\n",
    "            delta_delta_q752.flatten(),\n",
    "\n",
    "            # PCA_mfcc_features.flatten(),\n",
    "        ])\n",
    "\n",
    "        # Determine label based on filename pattern\n",
    "        if file_name.startswith('Asha-Bhosle'):\n",
    "            label = 'Asha Bhosle'\n",
    "        elif file_name.startswith('Kishore-Kumar'):\n",
    "            label = 'Kishore Kumar'\n",
    "        elif file_name.startswith('Lavni'):\n",
    "            label = 'Lavni'\n",
    "        elif file_name.startswith('Michael-Jackson'):\n",
    "            label = 'Michael Jackson'\n",
    "        elif file_name.startswith('Jana-Gana-Mana'):\n",
    "            label = 'Jana-Gana-Mana'\n",
    "        elif file_name.startswith('Bhavgeet'):\n",
    "             label = 'Bhavgeet'\n",
    "        else:\n",
    "            print(f'Unknown label for file: {file_name}')\n",
    "            \n",
    "        print(f'Processed {file_name}')\n",
    "        print(f'Processed {idx} of {total_songs}')\n",
    "        generated_features.append(features)\n",
    "        file_names.append(file_name)\n",
    "        labels.append(label)\n",
    "        idx += 1\n",
    "\n",
    "# Create DataFrame and save to CSV\n",
    "generated_features = np.vstack(generated_features)\n",
    "total_features = generated_features.shape[1]\n",
    "feature_columns = [f'feature_{i}' for i in range(total_features)]\n",
    "\n",
    "total_data_df = pd.DataFrame(generated_features, columns=feature_columns)\n",
    "total_data_df.insert(0, 'File', file_names)\n",
    "total_data_df.insert(1, 'Label', labels)\n",
    "\n",
    "# Save generated features to 'features_generated.csv'\n",
    "total_data_df.to_csv(f'features_generated_{INDEX}.csv', index=False)\n"
   ]
  },
  {
   "cell_type": "code",
   "execution_count": 4,
   "metadata": {},
   "outputs": [],
   "source": [
    "\n",
    "# Splitting the data into features (X) and labels (y)\n",
    "X = total_data_df.drop(columns=['File', 'Label'])\n",
    "y = total_data_df['Label']\n"
   ]
  },
  {
   "cell_type": "code",
   "execution_count": 5,
   "metadata": {},
   "outputs": [
    {
     "name": "stdout",
     "output_type": "stream",
     "text": [
      "Shape of dataset: (495, 658)\n",
      "\n",
      "Columns in dataset:\n",
      " Index(['File', 'Label', 'feature_0', 'feature_1', 'feature_2', 'feature_3',\n",
      "       'feature_4', 'feature_5', 'feature_6', 'feature_7',\n",
      "       ...\n",
      "       'feature_646', 'feature_647', 'feature_648', 'feature_649',\n",
      "       'feature_650', 'feature_651', 'feature_652', 'feature_653',\n",
      "       'feature_654', 'feature_655'],\n",
      "      dtype='object', length=658)\n",
      "\n",
      "First 5 rows of the dataset:\n",
      "                         File            Label  feature_0  feature_1  \\\n",
      "0         Asha-Bhosle-23.csv      Asha Bhosle -12.033679  -9.780576   \n",
      "1     Michael-Jackson-55.csv  Michael Jackson  -2.017992   4.719863   \n",
      "2       Kishore-Kumar-63.csv    Kishore Kumar   2.609654  -4.029758   \n",
      "3         Asha-Bhosle-32.csv      Asha Bhosle  -7.141288   2.708933   \n",
      "4  Jana-Gana-Mana-8-MFCC.csv   Jana-Gana-Mana   0.578080   2.455614   \n",
      "\n",
      "   feature_2  feature_3  feature_4  feature_5  feature_6  feature_7  ...  \\\n",
      "0 -11.141942  -9.832152  -8.217274  -9.227260  -6.950433   9.642014  ...   \n",
      "1  -1.181097   5.227315  -0.382820   3.048660  -0.742157   7.672998  ...   \n",
      "2  -4.405764  -6.279960  -4.127350   0.972850  -4.721149   8.237578  ...   \n",
      "3   2.506916  -2.541588   0.201354   1.340796   0.524448  10.349133  ...   \n",
      "4  -1.052549  -1.702947  -1.820131   1.056097   0.504008   7.134788  ...   \n",
      "\n",
      "   feature_646  feature_647  feature_648  feature_649  feature_650  \\\n",
      "0    74.839823  2456.497395   534.617899   355.391118    -0.790755   \n",
      "1   202.186106   774.506780  1042.770251   855.781418    -0.908459   \n",
      "2   208.556808   816.914701   807.581886   781.693650    -0.364723   \n",
      "3   131.894464  3932.987490   710.034056   587.688781    -1.043972   \n",
      "4    21.485757   423.062089    97.089066   116.288651    -0.274286   \n",
      "\n",
      "   feature_651  feature_652  feature_653  feature_654  feature_655  \n",
      "0    -0.240257    -0.197438     0.746567     0.247058     0.196085  \n",
      "1    -0.276624    -0.256496     0.953440     0.264024     0.234428  \n",
      "2    -0.362311    -0.359087     0.365695     0.361035     0.363982  \n",
      "3    -0.254482    -0.233801     1.052280     0.249233     0.234681  \n",
      "4    -0.119427    -0.141959     0.283907     0.115228     0.142165  \n",
      "\n",
      "[5 rows x 658 columns]\n",
      "\n",
      "Data Types of each column:\n",
      " File            object\n",
      "Label           object\n",
      "feature_0      float64\n",
      "feature_1      float64\n",
      "feature_2      float64\n",
      "                ...   \n",
      "feature_651    float64\n",
      "feature_652    float64\n",
      "feature_653    float64\n",
      "feature_654    float64\n",
      "feature_655    float64\n",
      "Length: 658, dtype: object\n",
      "\n",
      "Missing values in each column:\n",
      " File           0\n",
      "Label          0\n",
      "feature_0      0\n",
      "feature_1      0\n",
      "feature_2      0\n",
      "              ..\n",
      "feature_651    0\n",
      "feature_652    0\n",
      "feature_653    0\n",
      "feature_654    0\n",
      "feature_655    0\n",
      "Length: 658, dtype: int64\n",
      "\n",
      "Statistical Summary:\n",
      "         feature_0   feature_1   feature_2   feature_3   feature_4   feature_5  \\\n",
      "count  495.000000  495.000000  495.000000  495.000000  495.000000  495.000000   \n",
      "mean    -3.934730   -3.171633   -3.176717   -2.831550   -2.260723   -1.591201   \n",
      "std      4.510940    4.531531    4.424569    4.181256    4.186246    3.926331   \n",
      "min    -16.778638  -16.783382  -17.281414  -13.844731  -14.201208  -12.282071   \n",
      "25%     -6.615744   -6.362751   -5.818090   -5.888160   -5.109298   -4.362350   \n",
      "50%     -3.701934   -3.331875   -3.144141   -3.057128   -2.499270   -1.456091   \n",
      "75%     -0.922591    0.110503   -0.327898    0.120847    0.201069    1.091155   \n",
      "max     14.736119    9.363676    9.682833    9.595983   13.470824   13.270560   \n",
      "\n",
      "        feature_6   feature_7   feature_8   feature_9  ...  feature_646  \\\n",
      "count  495.000000  495.000000  495.000000  495.000000  ...   495.000000   \n",
      "mean    -2.120396    9.097721    9.030220    9.075182  ...   122.391554   \n",
      "std      3.856264    1.591026    1.613445    1.734305  ...   103.999153   \n",
      "min    -13.518667    5.425082    5.426349    5.403582  ...    10.390508   \n",
      "25%     -4.575581    8.044290    8.023639    7.946433  ...    60.584816   \n",
      "50%     -2.559763    8.845341    8.789567    8.823377  ...    93.468281   \n",
      "75%      0.198561    9.767960    9.840060    9.934268  ...   137.914814   \n",
      "max     11.553724   18.584419   18.694048   16.990657  ...   858.347553   \n",
      "\n",
      "       feature_647  feature_648  feature_649  feature_650  feature_651  \\\n",
      "count   495.000000   495.000000   495.000000   495.000000   495.000000   \n",
      "mean   1936.130924   572.816532   514.900050    -0.577172    -0.230940   \n",
      "std    1180.993935   375.592226   350.366684     0.222743     0.077550   \n",
      "min   -2703.876170    48.241316    55.791792    -1.480678    -0.497769   \n",
      "25%    1140.594174   335.535292   294.700193    -0.700810    -0.266113   \n",
      "50%    1901.182686   503.573956   433.670949    -0.545776    -0.211179   \n",
      "75%    2611.302661   764.043541   625.360786    -0.398161    -0.180629   \n",
      "max    9098.352115  2713.520502  2654.764091    -0.212636    -0.101272   \n",
      "\n",
      "       feature_652  feature_653  feature_654  feature_655  \n",
      "count   495.000000   495.000000   495.000000   495.000000  \n",
      "mean     -0.224360     0.598690     0.229390     0.224121  \n",
      "std       0.072401     0.230524     0.076956     0.072426  \n",
      "min      -0.497820     0.202029     0.101889     0.124764  \n",
      "25%      -0.231286     0.405547     0.181140     0.181144  \n",
      "50%      -0.203476     0.570627     0.207506     0.202602  \n",
      "75%      -0.180649     0.729684     0.260661     0.230438  \n",
      "max      -0.119579     1.535361     0.497097     0.492704  \n",
      "\n",
      "[8 rows x 656 columns]\n",
      "\n",
      "Number of duplicate rows: 0\n",
      "\n",
      "Label distribution in 'Label':\n",
      " Label\n",
      "Asha Bhosle        97\n",
      "Bhavgeet           93\n",
      "Kishore Kumar      92\n",
      "Michael Jackson    82\n",
      "Lavni              74\n",
      "Jana-Gana-Mana     57\n",
      "Name: count, dtype: int64\n"
     ]
    }
   ],
   "source": [
    "import pandas as pd\n",
    "import numpy as np\n",
    "import matplotlib.pyplot as plt\n",
    "import seaborn as sns\n",
    "\n",
    "print(\"Shape of dataset:\", total_data_df.shape)\n",
    "print(\"\\nColumns in dataset:\\n\", total_data_df.columns)\n",
    "print(\"\\nFirst 5 rows of the dataset:\\n\", total_data_df.head())\n",
    "print(\"\\nData Types of each column:\\n\", total_data_df.dtypes)\n",
    "print(\"\\nMissing values in each column:\\n\", total_data_df.isnull().sum())\n",
    "\n",
    "print(\"\\nStatistical Summary:\\n\", total_data_df.describe())\n",
    "print(\"\\nNumber of duplicate rows:\", total_data_df.duplicated().sum())\n",
    "\n",
    "# plt.figure(figsize=(10, 8))\n",
    "# sns.heatmap(X, annot=True, cmap='coolwarm', square=True)\n",
    "# plt.title(\"Correlation Matrix\")\n",
    "# plt.show()\n",
    "label_column = 'Label'\n",
    "print(f\"\\nLabel distribution in '{label_column}':\\n\", total_data_df[label_column].value_counts())\n",
    "# label_column = 'Label'  # Replace 'label' with the actual name of the label column in your dataset\n",
    "# if label_column in total_data_df.columns:\n",
    "#     print(f\"\\nNumber of unique labels in '{label_column}':\", df[label_column].nunique())\n",
    "#     print(f\"\\nLabel distribution in '{label_column}':\\n\", df[label_column].value_counts())\n",
    "# else:\n",
    "#     print(f\"\\nWarning: Column '{label_column}' not found in the dataset.\")\n",
    "\n",
    "\n",
    "#Add a Correlation HeatMap\n",
    "\n",
    "#too many features to analyse the plots of all of them manually "
   ]
  },
  {
   "cell_type": "code",
   "execution_count": 7,
   "metadata": {},
   "outputs": [
    {
     "data": {
      "text/html": [
       "<div>\n",
       "<style scoped>\n",
       "    .dataframe tbody tr th:only-of-type {\n",
       "        vertical-align: middle;\n",
       "    }\n",
       "\n",
       "    .dataframe tbody tr th {\n",
       "        vertical-align: top;\n",
       "    }\n",
       "\n",
       "    .dataframe thead th {\n",
       "        text-align: right;\n",
       "    }\n",
       "</style>\n",
       "<table border=\"1\" class=\"dataframe\">\n",
       "  <thead>\n",
       "    <tr style=\"text-align: right;\">\n",
       "      <th></th>\n",
       "      <th>feature_0</th>\n",
       "      <th>feature_1</th>\n",
       "      <th>feature_2</th>\n",
       "      <th>feature_3</th>\n",
       "      <th>feature_4</th>\n",
       "      <th>feature_5</th>\n",
       "      <th>feature_6</th>\n",
       "      <th>feature_7</th>\n",
       "      <th>feature_8</th>\n",
       "      <th>feature_9</th>\n",
       "      <th>...</th>\n",
       "      <th>feature_646</th>\n",
       "      <th>feature_647</th>\n",
       "      <th>feature_648</th>\n",
       "      <th>feature_649</th>\n",
       "      <th>feature_650</th>\n",
       "      <th>feature_651</th>\n",
       "      <th>feature_652</th>\n",
       "      <th>feature_653</th>\n",
       "      <th>feature_654</th>\n",
       "      <th>feature_655</th>\n",
       "    </tr>\n",
       "  </thead>\n",
       "  <tbody>\n",
       "    <tr>\n",
       "      <th>0</th>\n",
       "      <td>-1.797218</td>\n",
       "      <td>-1.459910</td>\n",
       "      <td>-1.802047</td>\n",
       "      <td>-1.675976</td>\n",
       "      <td>-1.424325</td>\n",
       "      <td>-1.946801</td>\n",
       "      <td>-1.253784</td>\n",
       "      <td>0.342448</td>\n",
       "      <td>0.861760</td>\n",
       "      <td>0.319820</td>\n",
       "      <td>...</td>\n",
       "      <td>-0.457694</td>\n",
       "      <td>0.441063</td>\n",
       "      <td>-0.101805</td>\n",
       "      <td>-0.455723</td>\n",
       "      <td>-0.959850</td>\n",
       "      <td>-0.120264</td>\n",
       "      <td>0.372217</td>\n",
       "      <td>0.642130</td>\n",
       "      <td>0.229822</td>\n",
       "      <td>-0.387486</td>\n",
       "    </tr>\n",
       "    <tr>\n",
       "      <th>1</th>\n",
       "      <td>0.425339</td>\n",
       "      <td>1.743225</td>\n",
       "      <td>0.451488</td>\n",
       "      <td>1.929329</td>\n",
       "      <td>0.449042</td>\n",
       "      <td>1.182925</td>\n",
       "      <td>0.357764</td>\n",
       "      <td>-0.896380</td>\n",
       "      <td>-0.718321</td>\n",
       "      <td>-0.770236</td>\n",
       "      <td>...</td>\n",
       "      <td>0.768038</td>\n",
       "      <td>-0.984594</td>\n",
       "      <td>1.252500</td>\n",
       "      <td>0.973912</td>\n",
       "      <td>-1.488813</td>\n",
       "      <td>-0.589684</td>\n",
       "      <td>-0.444306</td>\n",
       "      <td>1.540440</td>\n",
       "      <td>0.450503</td>\n",
       "      <td>0.142453</td>\n",
       "    </tr>\n",
       "    <tr>\n",
       "      <th>2</th>\n",
       "      <td>1.452248</td>\n",
       "      <td>-0.189559</td>\n",
       "      <td>-0.278059</td>\n",
       "      <td>-0.825565</td>\n",
       "      <td>-0.446346</td>\n",
       "      <td>0.653701</td>\n",
       "      <td>-0.675105</td>\n",
       "      <td>-0.541169</td>\n",
       "      <td>-0.641508</td>\n",
       "      <td>-0.878301</td>\n",
       "      <td>...</td>\n",
       "      <td>0.829357</td>\n",
       "      <td>-0.948649</td>\n",
       "      <td>0.625686</td>\n",
       "      <td>0.762240</td>\n",
       "      <td>0.954749</td>\n",
       "      <td>-1.695737</td>\n",
       "      <td>-1.862717</td>\n",
       "      <td>-1.011740</td>\n",
       "      <td>1.712385</td>\n",
       "      <td>1.933047</td>\n",
       "    </tr>\n",
       "    <tr>\n",
       "      <th>3</th>\n",
       "      <td>-0.711559</td>\n",
       "      <td>1.299012</td>\n",
       "      <td>1.285862</td>\n",
       "      <td>0.069418</td>\n",
       "      <td>0.588730</td>\n",
       "      <td>0.747508</td>\n",
       "      <td>0.686550</td>\n",
       "      <td>0.787339</td>\n",
       "      <td>1.116625</td>\n",
       "      <td>1.128481</td>\n",
       "      <td>...</td>\n",
       "      <td>0.091467</td>\n",
       "      <td>1.692538</td>\n",
       "      <td>0.365706</td>\n",
       "      <td>0.207960</td>\n",
       "      <td>-2.097816</td>\n",
       "      <td>-0.303873</td>\n",
       "      <td>-0.130528</td>\n",
       "      <td>1.969638</td>\n",
       "      <td>0.258112</td>\n",
       "      <td>0.145947</td>\n",
       "    </tr>\n",
       "    <tr>\n",
       "      <th>4</th>\n",
       "      <td>1.001427</td>\n",
       "      <td>1.243054</td>\n",
       "      <td>0.480570</td>\n",
       "      <td>0.270193</td>\n",
       "      <td>0.105354</td>\n",
       "      <td>0.674924</td>\n",
       "      <td>0.681245</td>\n",
       "      <td>-1.235002</td>\n",
       "      <td>-1.190752</td>\n",
       "      <td>-1.676873</td>\n",
       "      <td>...</td>\n",
       "      <td>-0.971237</td>\n",
       "      <td>-1.282479</td>\n",
       "      <td>-1.267888</td>\n",
       "      <td>-1.138849</td>\n",
       "      <td>1.361174</td>\n",
       "      <td>1.439402</td>\n",
       "      <td>1.139270</td>\n",
       "      <td>-1.366892</td>\n",
       "      <td>-1.484969</td>\n",
       "      <td>-1.132724</td>\n",
       "    </tr>\n",
       "    <tr>\n",
       "      <th>...</th>\n",
       "      <td>...</td>\n",
       "      <td>...</td>\n",
       "      <td>...</td>\n",
       "      <td>...</td>\n",
       "      <td>...</td>\n",
       "      <td>...</td>\n",
       "      <td>...</td>\n",
       "      <td>...</td>\n",
       "      <td>...</td>\n",
       "      <td>...</td>\n",
       "      <td>...</td>\n",
       "      <td>...</td>\n",
       "      <td>...</td>\n",
       "      <td>...</td>\n",
       "      <td>...</td>\n",
       "      <td>...</td>\n",
       "      <td>...</td>\n",
       "      <td>...</td>\n",
       "      <td>...</td>\n",
       "      <td>...</td>\n",
       "      <td>...</td>\n",
       "    </tr>\n",
       "    <tr>\n",
       "      <th>490</th>\n",
       "      <td>-0.148738</td>\n",
       "      <td>1.878886</td>\n",
       "      <td>0.712547</td>\n",
       "      <td>-0.000416</td>\n",
       "      <td>3.188391</td>\n",
       "      <td>1.138588</td>\n",
       "      <td>0.271279</td>\n",
       "      <td>0.836409</td>\n",
       "      <td>1.542315</td>\n",
       "      <td>1.237701</td>\n",
       "      <td>...</td>\n",
       "      <td>-0.108162</td>\n",
       "      <td>1.801115</td>\n",
       "      <td>0.771725</td>\n",
       "      <td>-0.018100</td>\n",
       "      <td>-2.602981</td>\n",
       "      <td>-1.287823</td>\n",
       "      <td>-0.030150</td>\n",
       "      <td>2.533191</td>\n",
       "      <td>1.020411</td>\n",
       "      <td>0.079244</td>\n",
       "    </tr>\n",
       "    <tr>\n",
       "      <th>491</th>\n",
       "      <td>-0.113143</td>\n",
       "      <td>1.205768</td>\n",
       "      <td>-0.470816</td>\n",
       "      <td>1.164353</td>\n",
       "      <td>-0.071561</td>\n",
       "      <td>0.877937</td>\n",
       "      <td>-0.257390</td>\n",
       "      <td>-0.187838</td>\n",
       "      <td>-0.669703</td>\n",
       "      <td>-0.689863</td>\n",
       "      <td>...</td>\n",
       "      <td>0.018065</td>\n",
       "      <td>0.542365</td>\n",
       "      <td>0.153008</td>\n",
       "      <td>0.073404</td>\n",
       "      <td>0.151582</td>\n",
       "      <td>0.181450</td>\n",
       "      <td>0.027270</td>\n",
       "      <td>0.030204</td>\n",
       "      <td>-0.263313</td>\n",
       "      <td>-0.353323</td>\n",
       "    </tr>\n",
       "    <tr>\n",
       "      <th>492</th>\n",
       "      <td>-0.567540</td>\n",
       "      <td>-0.117870</td>\n",
       "      <td>-0.725981</td>\n",
       "      <td>-0.298377</td>\n",
       "      <td>1.067118</td>\n",
       "      <td>-0.950162</td>\n",
       "      <td>-0.714069</td>\n",
       "      <td>0.084566</td>\n",
       "      <td>0.689099</td>\n",
       "      <td>0.665466</td>\n",
       "      <td>...</td>\n",
       "      <td>-0.053102</td>\n",
       "      <td>1.564190</td>\n",
       "      <td>0.631042</td>\n",
       "      <td>0.076790</td>\n",
       "      <td>-1.144342</td>\n",
       "      <td>-0.622811</td>\n",
       "      <td>0.166186</td>\n",
       "      <td>1.578071</td>\n",
       "      <td>0.491976</td>\n",
       "      <td>-0.182715</td>\n",
       "    </tr>\n",
       "    <tr>\n",
       "      <th>493</th>\n",
       "      <td>-1.489343</td>\n",
       "      <td>0.627752</td>\n",
       "      <td>0.198091</td>\n",
       "      <td>1.266334</td>\n",
       "      <td>0.831901</td>\n",
       "      <td>0.486048</td>\n",
       "      <td>-0.206103</td>\n",
       "      <td>0.084667</td>\n",
       "      <td>2.841974</td>\n",
       "      <td>3.078996</td>\n",
       "      <td>...</td>\n",
       "      <td>-0.148843</td>\n",
       "      <td>0.210393</td>\n",
       "      <td>0.016050</td>\n",
       "      <td>-0.003795</td>\n",
       "      <td>0.491013</td>\n",
       "      <td>0.573363</td>\n",
       "      <td>0.428597</td>\n",
       "      <td>-0.387330</td>\n",
       "      <td>-0.413610</td>\n",
       "      <td>-0.336027</td>\n",
       "    </tr>\n",
       "    <tr>\n",
       "      <th>494</th>\n",
       "      <td>-2.506889</td>\n",
       "      <td>-1.502929</td>\n",
       "      <td>-1.337909</td>\n",
       "      <td>-0.545201</td>\n",
       "      <td>0.392232</td>\n",
       "      <td>0.470665</td>\n",
       "      <td>1.373672</td>\n",
       "      <td>-0.868352</td>\n",
       "      <td>-0.883531</td>\n",
       "      <td>-0.405815</td>\n",
       "      <td>...</td>\n",
       "      <td>0.219151</td>\n",
       "      <td>1.812905</td>\n",
       "      <td>1.067133</td>\n",
       "      <td>0.426930</td>\n",
       "      <td>-1.505423</td>\n",
       "      <td>-0.392869</td>\n",
       "      <td>-0.041578</td>\n",
       "      <td>0.950164</td>\n",
       "      <td>0.793764</td>\n",
       "      <td>0.046686</td>\n",
       "    </tr>\n",
       "  </tbody>\n",
       "</table>\n",
       "<p>495 rows × 656 columns</p>\n",
       "</div>"
      ],
      "text/plain": [
       "     feature_0  feature_1  feature_2  feature_3  feature_4  feature_5  \\\n",
       "0    -1.797218  -1.459910  -1.802047  -1.675976  -1.424325  -1.946801   \n",
       "1     0.425339   1.743225   0.451488   1.929329   0.449042   1.182925   \n",
       "2     1.452248  -0.189559  -0.278059  -0.825565  -0.446346   0.653701   \n",
       "3    -0.711559   1.299012   1.285862   0.069418   0.588730   0.747508   \n",
       "4     1.001427   1.243054   0.480570   0.270193   0.105354   0.674924   \n",
       "..         ...        ...        ...        ...        ...        ...   \n",
       "490  -0.148738   1.878886   0.712547  -0.000416   3.188391   1.138588   \n",
       "491  -0.113143   1.205768  -0.470816   1.164353  -0.071561   0.877937   \n",
       "492  -0.567540  -0.117870  -0.725981  -0.298377   1.067118  -0.950162   \n",
       "493  -1.489343   0.627752   0.198091   1.266334   0.831901   0.486048   \n",
       "494  -2.506889  -1.502929  -1.337909  -0.545201   0.392232   0.470665   \n",
       "\n",
       "     feature_6  feature_7  feature_8  feature_9  ...  feature_646  \\\n",
       "0    -1.253784   0.342448   0.861760   0.319820  ...    -0.457694   \n",
       "1     0.357764  -0.896380  -0.718321  -0.770236  ...     0.768038   \n",
       "2    -0.675105  -0.541169  -0.641508  -0.878301  ...     0.829357   \n",
       "3     0.686550   0.787339   1.116625   1.128481  ...     0.091467   \n",
       "4     0.681245  -1.235002  -1.190752  -1.676873  ...    -0.971237   \n",
       "..         ...        ...        ...        ...  ...          ...   \n",
       "490   0.271279   0.836409   1.542315   1.237701  ...    -0.108162   \n",
       "491  -0.257390  -0.187838  -0.669703  -0.689863  ...     0.018065   \n",
       "492  -0.714069   0.084566   0.689099   0.665466  ...    -0.053102   \n",
       "493  -0.206103   0.084667   2.841974   3.078996  ...    -0.148843   \n",
       "494   1.373672  -0.868352  -0.883531  -0.405815  ...     0.219151   \n",
       "\n",
       "     feature_647  feature_648  feature_649  feature_650  feature_651  \\\n",
       "0       0.441063    -0.101805    -0.455723    -0.959850    -0.120264   \n",
       "1      -0.984594     1.252500     0.973912    -1.488813    -0.589684   \n",
       "2      -0.948649     0.625686     0.762240     0.954749    -1.695737   \n",
       "3       1.692538     0.365706     0.207960    -2.097816    -0.303873   \n",
       "4      -1.282479    -1.267888    -1.138849     1.361174     1.439402   \n",
       "..           ...          ...          ...          ...          ...   \n",
       "490     1.801115     0.771725    -0.018100    -2.602981    -1.287823   \n",
       "491     0.542365     0.153008     0.073404     0.151582     0.181450   \n",
       "492     1.564190     0.631042     0.076790    -1.144342    -0.622811   \n",
       "493     0.210393     0.016050    -0.003795     0.491013     0.573363   \n",
       "494     1.812905     1.067133     0.426930    -1.505423    -0.392869   \n",
       "\n",
       "     feature_652  feature_653  feature_654  feature_655  \n",
       "0       0.372217     0.642130     0.229822    -0.387486  \n",
       "1      -0.444306     1.540440     0.450503     0.142453  \n",
       "2      -1.862717    -1.011740     1.712385     1.933047  \n",
       "3      -0.130528     1.969638     0.258112     0.145947  \n",
       "4       1.139270    -1.366892    -1.484969    -1.132724  \n",
       "..           ...          ...          ...          ...  \n",
       "490    -0.030150     2.533191     1.020411     0.079244  \n",
       "491     0.027270     0.030204    -0.263313    -0.353323  \n",
       "492     0.166186     1.578071     0.491976    -0.182715  \n",
       "493     0.428597    -0.387330    -0.413610    -0.336027  \n",
       "494    -0.041578     0.950164     0.793764     0.046686  \n",
       "\n",
       "[495 rows x 656 columns]"
      ]
     },
     "execution_count": 7,
     "metadata": {},
     "output_type": "execute_result"
    }
   ],
   "source": [
    "from sklearn.preprocessing import StandardScaler\n",
    "\n",
    "# Standardize the features (scaling them to have mean 0 and std 1)\n",
    "scaler = StandardScaler()\n",
    "features_scaled = scaler.fit_transform(X)\n",
    "\n",
    "X_columns = X.columns\n",
    "\n",
    "features_scaled_df = pd.DataFrame(features_scaled, columns=X_columns)\n",
    "X = features_scaled_df\n",
    "X"
   ]
  },
  {
   "cell_type": "code",
   "execution_count": 8,
   "metadata": {},
   "outputs": [
    {
     "name": "stdout",
     "output_type": "stream",
     "text": [
      "(495, 656)\n",
      "(495, 656)\n"
     ]
    }
   ],
   "source": [
    "from sklearn.feature_selection import VarianceThreshold\n",
    "\n",
    "# Remove features with variance below a threshold\n",
    "selector = VarianceThreshold(threshold=0.1)\n",
    "print(X.shape)\n",
    "X_selected = selector.fit_transform(X)\n",
    "print(X_selected.shape)\n",
    "X_selected = pd.DataFrame(X_selected, columns=X.columns[selector.get_support()])\n"
   ]
  },
  {
   "cell_type": "code",
   "execution_count": 23,
   "metadata": {},
   "outputs": [
    {
     "name": "stdout",
     "output_type": "stream",
     "text": [
      "Shape after dropping constant/correlated features: (495, 475)\n"
     ]
    },
    {
     "name": "stderr",
     "output_type": "stream",
     "text": [
      "/home/nirav24/.local/lib/python3.12/site-packages/statsmodels/stats/outliers_influence.py:197: RuntimeWarning:\n",
      "\n",
      "divide by zero encountered in scalar divide\n",
      "\n"
     ]
    },
    {
     "data": {
      "image/png": "[encoded data removed]",
      "text/plain": [
       "<Figure size 1000x600 with 1 Axes>"
      ]
     },
     "metadata": {},
     "output_type": "display_data"
    },
    {
     "name": "stdout",
     "output_type": "stream",
     "text": [
      "\n",
      "Initial VIF values for each feature:\n",
      "         Feature          VIF\n",
      "0          const    33.236411\n",
      "1      feature_0   107.603658\n",
      "2      feature_1    72.929050\n",
      "3      feature_2   163.864378\n",
      "4      feature_3    79.142817\n",
      "..           ...          ...\n",
      "471  feature_644   604.753450\n",
      "472  feature_645  1754.251919\n",
      "473  feature_646  1037.505536\n",
      "474  feature_647   104.953916\n",
      "475  feature_650   188.072147\n",
      "\n",
      "[398 rows x 2 columns]\n"
     ]
    },
    {
     "name": "stderr",
     "output_type": "stream",
     "text": [
      "/home/nirav24/.local/lib/python3.12/site-packages/statsmodels/stats/outliers_influence.py:197: RuntimeWarning:\n",
      "\n",
      "divide by zero encountered in scalar divide\n",
      "\n"
     ]
    },
    {
     "name": "stdout",
     "output_type": "stream",
     "text": [
      "\n",
      "Final VIF values after dropping features:\n",
      "         Feature          VIF\n",
      "0          const    33.236411\n",
      "1      feature_0   107.603658\n",
      "2      feature_1    72.929050\n",
      "3      feature_2   163.864378\n",
      "4      feature_3    79.142817\n",
      "..           ...          ...\n",
      "471  feature_644   604.753450\n",
      "472  feature_645  1754.251919\n",
      "473  feature_646  1037.505536\n",
      "474  feature_647   104.953916\n",
      "475  feature_650   188.072147\n",
      "\n",
      "[398 rows x 2 columns]\n"
     ]
    },
    {
     "data": {
      "image/png": "[encoded data removed]",
      "text/plain": [
       "<Figure size 1000x600 with 1 Axes>"
      ]
     },
     "metadata": {},
     "output_type": "display_data"
    },
    {
     "name": "stdout",
     "output_type": "stream",
     "text": [
      "\n",
      "Shape of the dataset after removing high VIF features: (495, 475)\n"
     ]
    }
   ],
   "source": [
    "import pandas as pd\n",
    "import numpy as np\n",
    "import statsmodels.api as sm\n",
    "import matplotlib.pyplot as plt\n",
    "from statsmodels.stats.outliers_influence import variance_inflation_factor\n",
    "\n",
    "# Assuming X_selected is your feature matrix (DataFrame)\n",
    "# X_selected = your_data\n",
    "\n",
    "# Check for constant features and drop them\n",
    "constant_features = X_selected.columns[X_selected.nunique() == 1]\n",
    "X_selected = X_selected.drop(columns=constant_features)\n",
    "\n",
    "# Check for highly correlated features and drop them (optional)\n",
    "corr_matrix = X_selected.corr()\n",
    "correlated_features = set()\n",
    "for i in range(len(corr_matrix.columns)):\n",
    "    for j in range(i):\n",
    "        if abs(corr_matrix.iloc[i, j]) > 0.95:  # Adjust the threshold as needed\n",
    "            colname = corr_matrix.columns[i]\n",
    "            correlated_features.add(colname)\n",
    "\n",
    "X_selected = X_selected.drop(columns=correlated_features)\n",
    "print(f\"Shape after dropping constant/correlated features: {X_selected.shape}\")\n",
    "\n",
    "# Add a constant to the model (for intercept)\n",
    "X_with_const = sm.add_constant(X_selected)\n",
    "\n",
    "# Function to calculate VIF for the current dataset\n",
    "def calculate_vif(X):\n",
    "    vif_data = pd.DataFrame()\n",
    "    vif_data['Feature'] = X.columns\n",
    "    vif_data['VIF'] = [variance_inflation_factor(X.values, i) for i in range(X.shape[1])]\n",
    "    # Remove infinite or NaN VIF values\n",
    "    vif_data = vif_data[~vif_data['VIF'].isin([np.inf, -np.inf, np.nan])]\n",
    "    return vif_data\n",
    "\n",
    "# Initial VIF calculation\n",
    "vif_data = calculate_vif(X_with_const)\n",
    "\n",
    "# Plot initial VIF values\n",
    "plt.figure(figsize=(10, 6))\n",
    "plt.barh(vif_data['Feature'], vif_data['VIF'], color='skyblue')\n",
    "plt.xlabel('VIF')\n",
    "plt.title('Initial Variance Inflation Factor (VIF) for Features')\n",
    "plt.show()\n",
    "\n",
    "print(\"\\nInitial VIF values for each feature:\")\n",
    "print(vif_data)\n",
    "\n",
    "# Define the threshold\n",
    "threshold = 0.2 * 10**8\n",
    "\n",
    "# Use a for loop to iterate over the features and remove those with VIF > threshold\n",
    "features_to_drop = vif_data[vif_data['VIF'] > threshold]['Feature']\n",
    "\n",
    "# Drop all features that exceed the threshold\n",
    "for feature in features_to_drop:\n",
    "    if feature in X_selected.columns:  # Check if the feature exists in X_selected\n",
    "        print(f\"Dropping feature '{feature}' with VIF: {vif_data[vif_data['Feature'] == feature]['VIF'].values[0]}\")\n",
    "        X_selected = X_selected.drop(columns=[feature])\n",
    "\n",
    "# Recompute VIF for the remaining features\n",
    "X_with_const = sm.add_constant(X_selected)\n",
    "vif_data = calculate_vif(X_with_const)\n",
    "\n",
    "# Display the final VIF values after dropping high VIF features\n",
    "print(\"\\nFinal VIF values after dropping features:\")\n",
    "print(vif_data)\n",
    "\n",
    "# Plot VIF after dropping features\n",
    "plt.figure(figsize=(10, 6))\n",
    "plt.barh(vif_data['Feature'], vif_data['VIF'], color='skyblue')\n",
    "plt.xlabel('VIF')\n",
    "plt.title('Variance Inflation Factor (VIF) for Features After Dropping High VIF Features')\n",
    "plt.show()\n",
    "\n",
    "# Final shape of the dataset after dropping high VIF features\n",
    "print(f\"\\nShape of the dataset after removing high VIF features: {X_selected.shape}\")\n"
   ]
  },
  {
   "cell_type": "code",
   "execution_count": null,
   "metadata": {},
   "outputs": [],
   "source": [
    "import matplotlib.pyplot as plt\n",
    "from sklearn.ensemble import RandomForestClassifier\n",
    "import pandas as pd\n",
    "\n",
    "# Fit a random forest model\n",
    "model = RandomForestClassifier()\n",
    "model.fit(X_selected, y)\n",
    "\n",
    "# Get feature importances\n",
    "importances = model.feature_importances_\n",
    "\n",
    "# Sort feature importances in descending order\n",
    "sorted_idx = importances.argsort()\n",
    "\n",
    "# Plot feature importances\n",
    "plt.figure(figsize=(10, 6))\n",
    "plt.barh(X_selected.columns[sorted_idx], importances[sorted_idx], align='center')\n",
    "plt.xlabel('Feature Importance')\n",
    "plt.title('Feature Importance from Random Forest')\n",
    "plt.show()\n",
    "\n",
    "# Optionally, select features with importance greater than 0.005\n",
    "selected_features = X_selected.columns[importances > 0.0005]\n",
    "print(selected_features.shape)\n",
    "X_selected = X_selected.drop(columns=X_selected.columns[importances < 0.0005])"
   ]
  },
  {
   "cell_type": "code",
   "execution_count": null,
   "metadata": {},
   "outputs": [],
   "source": [
    "from sklearn.feature_selection import mutual_info_classif\n",
    "\n",
    "# Get information gain for each feature\n",
    "info_gain = mutual_info_classif(X_selected, y)\n",
    "\n",
    "# Use X_selected.columns to match the feature set size\n",
    "selected_features = X_selected.columns[info_gain > 0.05]\n",
    "\n",
    "# Print selected features\n",
    "print(selected_features)\n"
   ]
  },
  {
   "cell_type": "code",
   "execution_count": 33,
   "metadata": {},
   "outputs": [
    {
     "name": "stdout",
     "output_type": "stream",
     "text": [
      "(495, 656)\n",
      "(495, 5)\n"
     ]
    }
   ],
   "source": [
    "#method of feature selection 1\n",
    "from sklearn.discriminant_analysis import LinearDiscriminantAnalysis as LDA\n",
    "print(X.shape)\n",
    "\n",
    "lda = LDA(n_components=5)  # LDA can have a maximum of (number of classes - 1) components\n",
    "X_reduced = lda.fit_transform(X, y)  # Transformed features for the classification model\n",
    "print(X_reduced.shape)\n",
    "#X_reduced"
   ]
  },
  {
   "cell_type": "code",
   "execution_count": null,
   "metadata": {},
   "outputs": [],
   "source": [
    "#method of feature selection 2\n",
    "from sklearn.feature_selection import chi2\n",
    "from sklearn.feature_selection import SelectKBest\n",
    "print(X.shape)\n",
    "\n",
    "# Select top k features based on chi-square score\n",
    "selector = SelectKBest(chi2, k=10)\n",
    "X_selected = selector.fit_transform(abs(X), y)\n",
    "print(X_selected.shape)\n",
    "#X_selected"
   ]
  },
  {
   "cell_type": "code",
   "execution_count": null,
   "metadata": {},
   "outputs": [],
   "source": [
    "#method of feature selection 3\n",
    "from sklearn.feature_selection import RFE\n",
    "from sklearn.ensemble import RandomForestClassifier\n",
    "\n",
    "# Define model\n",
    "model = RandomForestClassifier()\n",
    "# Initialize RFE and fit to data\n",
    "rfe = RFE(estimator=model, n_features_to_select=10)\n",
    "X_rfe = rfe.fit_transform(X, y)\n",
    "print(X_rfe.shape)\n",
    "\n",
    "#X_rfe"
   ]
  },
  {
   "cell_type": "code",
   "execution_count": null,
   "metadata": {},
   "outputs": [],
   "source": [
    "from sklearn.preprocessing import LabelEncoder\n",
    "from sklearn.linear_model import Lasso\n",
    "from sklearn.feature_selection import SelectFromModel\n",
    "\n",
    "# Convert categorical target to numeric labels\n",
    "le = LabelEncoder()\n",
    "y_encoded = le.fit_transform(y)\n",
    "\n",
    "# Now fit the Lasso model\n",
    "lasso = Lasso(alpha=0.01).fit(X, y_encoded)\n",
    "model = SelectFromModel(lasso, prefit=True)\n",
    "X_lasso = model.transform(X)\n",
    "print(X_lasso.shape)\n"
   ]
  },
  {
   "cell_type": "code",
   "execution_count": null,
   "metadata": {},
   "outputs": [],
   "source": [
    "#method of feature selection 5\n",
    "from sklearn.decomposition import PCA\n",
    "\n",
    "# Initialize PCA and fit to data\n",
    "pca = PCA(n_components=10)\n",
    "X_pca = pca.fit_transform(X_selected)\n",
    "print(X_pca.shape)\n"
   ]
  },
  {
   "cell_type": "code",
   "execution_count": null,
   "metadata": {},
   "outputs": [],
   "source": [
    "#method of feature selection 6\n",
    "from sklearn.feature_selection import mutual_info_classif, SelectKBest\n",
    "\n",
    "# Select top k features based on mutual information score\n",
    "selector = SelectKBest(mutual_info_classif, k=10)\n",
    "X_selected = selector.fit_transform(X, y)\n",
    "print(X_selected.shape)"
   ]
  },
  {
   "cell_type": "code",
   "execution_count": null,
   "metadata": {},
   "outputs": [],
   "source": [
    "#method of feature selection 7\n",
    "from sklearn.feature_selection import mutual_info_classif\n",
    "\n",
    "# Get information gain for each feature\n",
    "info_gain = mutual_info_classif(X, y)\n",
    "selected_features = X.columns[info_gain > 0.05]\n",
    "print(selected_features)"
   ]
  },
  {
   "cell_type": "code",
   "execution_count": 34,
   "metadata": {},
   "outputs": [],
   "source": [
    "\n",
    "X_train, X_test, y_train, y_test = train_test_split(X_reduced, y, test_size=0.3, random_state=42)\n"
   ]
  },
  {
   "cell_type": "code",
   "execution_count": 35,
   "metadata": {},
   "outputs": [
    {
     "data": {
      "image/png": "[encoded data removed]",
      "text/plain": [
       "<Figure size 800x800 with 1 Axes>"
      ]
     },
     "metadata": {},
     "output_type": "display_data"
    }
   ],
   "source": [
    "\n",
    "#making a pie chart to show weight of each label\n",
    "import matplotlib.pyplot as plt\n",
    "import numpy as np\n",
    "\n",
    "# Assuming 'labels' is a list of the labels in your dataset (replace it with your actual labels)\n",
    "labels = ['Asha Bhosale', 'Kishore Kumar', 'Lavni', 'Michael Jackson', 'Jana Gana Mana', 'Bhavgeet']  \n",
    "\n",
    "# Count the occurrences of each label in the 'labels' column using value_counts\n",
    "label_counts = y_train.value_counts()\n",
    "\n",
    "# Data for the pie chart\n",
    "labels = label_counts.index\n",
    "sizes = label_counts.values\n",
    "\n",
    "# Create a pie chart\n",
    "plt.figure(figsize=(8, 8))\n",
    "plt.pie(sizes, labels=labels, autopct='%1.1f%%', startangle=90, colors=['#ff9999','#66b3ff','#99ff99','#ffcc99', '#c2c2f0','#ffb3e6'])\n",
    "\n",
    "# Equal aspect ratio ensures that pie is drawn as a circle.\n",
    "plt.axis('equal')\n",
    "\n",
    "# Title\n",
    "plt.title('Label Distribution in Dataset')\n",
    "\n",
    "# Show the chart\n",
    "plt.show()"
   ]
  },
  {
   "cell_type": "code",
   "execution_count": 13,
   "metadata": {},
   "outputs": [
    {
     "name": "stdout",
     "output_type": "stream",
     "text": [
      "Defaulting to user installation because normal site-packages is not writeable\n",
      "Requirement already satisfied: imblearn in /home/nirav24/.local/lib/python3.12/site-packages (0.0)\n",
      "Requirement already satisfied: imbalanced-learn in /home/nirav24/.local/lib/python3.12/site-packages (from imblearn) (0.12.4)\n",
      "Requirement already satisfied: numpy>=1.17.3 in /home/nirav24/.local/lib/python3.12/site-packages (from imbalanced-learn->imblearn) (2.0.2)\n",
      "Requirement already satisfied: scipy>=1.5.0 in /home/nirav24/.local/lib/python3.12/site-packages (from imbalanced-learn->imblearn) (1.14.1)\n",
      "Requirement already satisfied: scikit-learn>=1.0.2 in /home/nirav24/.local/lib/python3.12/site-packages (from imbalanced-learn->imblearn) (1.5.2)\n",
      "Requirement already satisfied: joblib>=1.1.1 in /home/nirav24/.local/lib/python3.12/site-packages (from imbalanced-learn->imblearn) (1.4.2)\n",
      "Requirement already satisfied: threadpoolctl>=2.0.0 in /home/nirav24/.local/lib/python3.12/site-packages (from imbalanced-learn->imblearn) (3.5.0)\n"
     ]
    }
   ],
   "source": [
    "!pip install imblearn"
   ]
  },
  {
   "cell_type": "code",
   "execution_count": 36,
   "metadata": {},
   "outputs": [
    {
     "data": {
      "image/png": "[encoded data removed]",
      "text/plain": [
       "<Figure size 800x800 with 1 Axes>"
      ]
     },
     "metadata": {},
     "output_type": "display_data"
    }
   ],
   "source": [
    "#from the above pie chart we can tell that the data is imbalanced, to fix the data imbalance we can use SMOTE\n",
    "from imblearn.over_sampling import SMOTE\n",
    "from sklearn.model_selection import train_test_split\n",
    "\n",
    "# Initialize SMOTE\n",
    "smote = SMOTE(sampling_strategy='auto', random_state=42)\n",
    "\n",
    "# Apply SMOTE to the training data\n",
    "X_train, y_train = smote.fit_resample(X_train, y_train)\n",
    "\n",
    "\n",
    "# Count the occurrences of each label in the 'labels' column using value_counts\n",
    "label_counts = y_train.value_counts()\n",
    "\n",
    "# Data for the pie chart\n",
    "labels = label_counts.index\n",
    "sizes = label_counts.values\n",
    "\n",
    "# Create a pie chart\n",
    "plt.figure(figsize=(8, 8))\n",
    "plt.pie(sizes, labels=labels, autopct='%1.1f%%', startangle=90, colors=['#ff9999','#66b3ff','#99ff99','#ffcc99', '#c2c2f0','#ffb3e6'])\n",
    "\n",
    "# Equal aspect ratio ensures that pie is drawn as a circle.\n",
    "plt.axis('equal')\n",
    "\n",
    "# Title\n",
    "plt.title('Label Distribution in Dataset')\n",
    "\n",
    "# Show the chart\n",
    "plt.show()"
   ]
  },
  {
   "cell_type": "code",
   "execution_count": 37,
   "metadata": {},
   "outputs": [],
   "source": [
    "from sklearn.preprocessing import LabelEncoder\n",
    "\n",
    "#dimensional reduction\n",
    "\n",
    "le = LabelEncoder()\n",
    "y_train_encoded = le.fit_transform(y_train)\n",
    "y_test_encoded = le.transform(y_test)\n"
   ]
  },
  {
   "cell_type": "code",
   "execution_count": 38,
   "metadata": {},
   "outputs": [],
   "source": [
    "from sklearn.linear_model import LogisticRegression\n",
    "from sklearn.svm import SVC\n",
    "from sklearn.neighbors import KNeighborsClassifier\n",
    "from sklearn.ensemble import RandomForestClassifier, GradientBoostingClassifier, AdaBoostClassifier\n",
    "from sklearn.naive_bayes import GaussianNB\n",
    "from sklearn.tree import DecisionTreeClassifier\n",
    "import xgboost as xgb\n",
    "from sklearn.preprocessing import LabelEncoder\n",
    "from sklearn.neural_network import MLPClassifier\n",
    "\n",
    "# Dictionary to store models and results\n",
    "models = {\n",
    "    \"Logistic Regression\": LogisticRegression(max_iter=1000),\n",
    "    #'SVM': SVC(kernel='rbf', C=1.0, probability=True), # SVC with probability=True for probability estimates\n",
    "    'K-Nearest Neighbors': KNeighborsClassifier(n_neighbors=5),\n",
    "    'Random Forest': RandomForestClassifier(n_estimators=100, random_state=42),\n",
    "    'Gradient Boosting': GradientBoostingClassifier(n_estimators=100, learning_rate=0.1),\n",
    "    'AdaBoost': AdaBoostClassifier(n_estimators=50),\n",
    "    'Naive Bayes': GaussianNB(),\n",
    "    'Decision Tree': DecisionTreeClassifier(max_depth=10),\n",
    "    'XGBoost': xgb.XGBClassifier(n_estimators=100, learning_rate=0.1),\n",
    "    # 'SVC_linear': SVC(kernel='linear', probability=True),\n",
    "    # 'SVC_rbf': SVC(kernel='rbf', probability=True),\n",
    "    'RandomForest_1': RandomForestClassifier(min_samples_leaf=1),\n",
    "    'RandomForest_3': RandomForestClassifier(min_samples_leaf=3),\n",
    "    'RandomForest_5': RandomForestClassifier(min_samples_leaf=5),\n",
    "    'NeuralNetwork_1': MLPClassifier(hidden_layer_sizes=(5)),\n",
    "    'NeuralNetwork_2': MLPClassifier(hidden_layer_sizes=(5, 5)),\n",
    "    'NeuralNetwork_3': MLPClassifier(hidden_layer_sizes=(5, 5, 5)),\n",
    "    'NeuralNetwork_4': MLPClassifier(hidden_layer_sizes=(10))\n",
    "\n",
    "}\n"
   ]
  },
  {
   "cell_type": "code",
   "execution_count": 39,
   "metadata": {},
   "outputs": [
    {
     "name": "stdout",
     "output_type": "stream",
     "text": [
      "\n",
      "Training Logistic Regression...\n"
     ]
    },
    {
     "data": {
      "application/vnd.plotly.v1+json": {
       "config": {
        "plotlyServerURL": "https://plot.ly"
       },
       "data": [
        {
         "colorscale": [
          [
           0,
           "rgb(247,251,255)"
          ],
          [
           0.125,
           "rgb(222,235,247)"
          ],
          [
           0.25,
           "rgb(198,219,239)"
          ],
          [
           0.375,
           "rgb(158,202,225)"
          ],
          [
           0.5,
           "rgb(107,174,214)"
          ],
          [
           0.625,
           "rgb(66,146,198)"
          ],
          [
           0.75,
           "rgb(33,113,181)"
          ],
          [
           0.875,
           "rgb(8,81,156)"
          ],
          [
           1,
           "rgb(8,48,107)"
          ]
         ],
         "showscale": true,
         "text": [
          [
           23,
           0,
           0,
           0,
           0,
           0
          ],
          [
           0,
           25,
           0,
           0,
           0,
           0
          ],
          [
           0,
           0,
           17,
           0,
           0,
           0
          ],
          [
           0,
           0,
           0,
           36,
           0,
           0
          ],
          [
           0,
           0,
           0,
           0,
           23,
           0
          ],
          [
           0,
           0,
           0,
           0,
           0,
           25
          ]
         ],
         "texttemplate": "%{text}",
         "type": "heatmap",
         "x": [
          "Predicted 0",
          "Predicted 1",
          "Predicted 2",
          "Predicted 3",
          "Predicted 4",
          "Predicted 5"
         ],
         "y": [
          "Actual 0",
          "Actual 1",
          "Actual 2",
          "Actual 3",
          "Actual 4",
          "Actual 5"
         ],
         "z": [
          [
           23,
           0,
           0,
           0,
           0,
           0
          ],
          [
           0,
           25,
           0,
           0,
           0,
           0
          ],
          [
           0,
           0,
           17,
           0,
           0,
           0
          ],
          [
           0,
           0,
           0,
           36,
           0,
           0
          ],
          [
           0,
           0,
           0,
           0,
           23,
           0
          ],
          [
           0,
           0,
           0,
           0,
           0,
           25
          ]
         ]
        }
       ],
       "layout": {
        "template": {
         "data": {
          "bar": [
           {
            "error_x": {
             "color": "#2a3f5f"
            },
            "error_y": {
             "color": "#2a3f5f"
            },
            "marker": {
             "line": {
              "color": "#E5ECF6",
              "width": 0.5
             },
             "pattern": {
              "fillmode": "overlay",
              "size": 10,
              "solidity": 0.2
             }
            },
            "type": "bar"
           }
          ],
          "barpolar": [
           {
            "marker": {
             "line": {
              "color": "#E5ECF6",
              "width": 0.5
             },
             "pattern": {
              "fillmode": "overlay",
              "size": 10,
              "solidity": 0.2
             }
            },
            "type": "barpolar"
           }
          ],
          "carpet": [
           {
            "aaxis": {
             "endlinecolor": "#2a3f5f",
             "gridcolor": "white",
             "linecolor": "white",
             "minorgridcolor": "white",
             "startlinecolor": "#2a3f5f"
            },
            "baxis": {
             "endlinecolor": "#2a3f5f",
             "gridcolor": "white",
             "linecolor": "white",
             "minorgridcolor": "white",
             "startlinecolor": "#2a3f5f"
            },
            "type": "carpet"
           }
          ],
          "choropleth": [
           {
            "colorbar": {
             "outlinewidth": 0,
             "ticks": ""
            },
            "type": "choropleth"
           }
          ],
          "contour": [
           {
            "colorbar": {
             "outlinewidth": 0,
             "ticks": ""
            },
            "colorscale": [
             [
              0,
              "#0d0887"
             ],
             [
              0.1111111111111111,
              "#46039f"
             ],
             [
              0.2222222222222222,
              "#7201a8"
             ],
             [
              0.3333333333333333,
              "#9c179e"
             ],
             [
              0.4444444444444444,
              "#bd3786"
             ],
             [
              0.5555555555555556,
              "#d8576b"
             ],
             [
              0.6666666666666666,
              "#ed7953"
             ],
             [
              0.7777777777777778,
              "#fb9f3a"
             ],
             [
              0.8888888888888888,
              "#fdca26"
             ],
             [
              1,
              "#f0f921"
             ]
            ],
            "type": "contour"
           }
          ],
          "contourcarpet": [
           {
            "colorbar": {
             "outlinewidth": 0,
             "ticks": ""
            },
            "type": "contourcarpet"
           }
          ],
          "heatmap": [
           {
            "colorbar": {
             "outlinewidth": 0,
             "ticks": ""
            },
            "colorscale": [
             [
              0,
              "#0d0887"
             ],
             [
              0.1111111111111111,
              "#46039f"
             ],
             [
              0.2222222222222222,
              "#7201a8"
             ],
             [
              0.3333333333333333,
              "#9c179e"
             ],
             [
              0.4444444444444444,
              "#bd3786"
             ],
             [
              0.5555555555555556,
              "#d8576b"
             ],
             [
              0.6666666666666666,
              "#ed7953"
             ],
             [
              0.7777777777777778,
              "#fb9f3a"
             ],
             [
              0.8888888888888888,
              "#fdca26"
             ],
             [
              1,
              "#f0f921"
             ]
            ],
            "type": "heatmap"
           }
          ],
          "heatmapgl": [
           {
            "colorbar": {
             "outlinewidth": 0,
             "ticks": ""
            },
            "colorscale": [
             [
              0,
              "#0d0887"
             ],
             [
              0.1111111111111111,
              "#46039f"
             ],
             [
              0.2222222222222222,
              "#7201a8"
             ],
             [
              0.3333333333333333,
              "#9c179e"
             ],
             [
              0.4444444444444444,
              "#bd3786"
             ],
             [
              0.5555555555555556,
              "#d8576b"
             ],
             [
              0.6666666666666666,
              "#ed7953"
             ],
             [
              0.7777777777777778,
              "#fb9f3a"
             ],
             [
              0.8888888888888888,
              "#fdca26"
             ],
             [
              1,
              "#f0f921"
             ]
            ],
            "type": "heatmapgl"
           }
          ],
          "histogram": [
           {
            "marker": {
             "pattern": {
              "fillmode": "overlay",
              "size": 10,
              "solidity": 0.2
             }
            },
            "type": "histogram"
           }
          ],
          "histogram2d": [
           {
            "colorbar": {
             "outlinewidth": 0,
             "ticks": ""
            },
            "colorscale": [
             [
              0,
              "#0d0887"
             ],
             [
              0.1111111111111111,
              "#46039f"
             ],
             [
              0.2222222222222222,
              "#7201a8"
             ],
             [
              0.3333333333333333,
              "#9c179e"
             ],
             [
              0.4444444444444444,
              "#bd3786"
             ],
             [
              0.5555555555555556,
              "#d8576b"
             ],
             [
              0.6666666666666666,
              "#ed7953"
             ],
             [
              0.7777777777777778,
              "#fb9f3a"
             ],
             [
              0.8888888888888888,
              "#fdca26"
             ],
             [
              1,
              "#f0f921"
             ]
            ],
            "type": "histogram2d"
           }
          ],
          "histogram2dcontour": [
           {
            "colorbar": {
             "outlinewidth": 0,
             "ticks": ""
            },
            "colorscale": [
             [
              0,
              "#0d0887"
             ],
             [
              0.1111111111111111,
              "#46039f"
             ],
             [
              0.2222222222222222,
              "#7201a8"
             ],
             [
              0.3333333333333333,
              "#9c179e"
             ],
             [
              0.4444444444444444,
              "#bd3786"
             ],
             [
              0.5555555555555556,
              "#d8576b"
             ],
             [
              0.6666666666666666,
              "#ed7953"
             ],
             [
              0.7777777777777778,
              "#fb9f3a"
             ],
             [
              0.8888888888888888,
              "#fdca26"
             ],
             [
              1,
              "#f0f921"
             ]
            ],
            "type": "histogram2dcontour"
           }
          ],
          "mesh3d": [
           {
            "colorbar": {
             "outlinewidth": 0,
             "ticks": ""
            },
            "type": "mesh3d"
           }
          ],
          "parcoords": [
           {
            "line": {
             "colorbar": {
              "outlinewidth": 0,
              "ticks": ""
             }
            },
            "type": "parcoords"
           }
          ],
          "pie": [
           {
            "automargin": true,
            "type": "pie"
           }
          ],
          "scatter": [
           {
            "fillpattern": {
             "fillmode": "overlay",
             "size": 10,
             "solidity": 0.2
            },
            "type": "scatter"
           }
          ],
          "scatter3d": [
           {
            "line": {
             "colorbar": {
              "outlinewidth": 0,
              "ticks": ""
             }
            },
            "marker": {
             "colorbar": {
              "outlinewidth": 0,
              "ticks": ""
             }
            },
            "type": "scatter3d"
           }
          ],
          "scattercarpet": [
           {
            "marker": {
             "colorbar": {
              "outlinewidth": 0,
              "ticks": ""
             }
            },
            "type": "scattercarpet"
           }
          ],
          "scattergeo": [
           {
            "marker": {
             "colorbar": {
              "outlinewidth": 0,
              "ticks": ""
             }
            },
            "type": "scattergeo"
           }
          ],
          "scattergl": [
           {
            "marker": {
             "colorbar": {
              "outlinewidth": 0,
              "ticks": ""
             }
            },
            "type": "scattergl"
           }
          ],
          "scattermapbox": [
           {
            "marker": {
             "colorbar": {
              "outlinewidth": 0,
              "ticks": ""
             }
            },
            "type": "scattermapbox"
           }
          ],
          "scatterpolar": [
           {
            "marker": {
             "colorbar": {
              "outlinewidth": 0,
              "ticks": ""
             }
            },
            "type": "scatterpolar"
           }
          ],
          "scatterpolargl": [
           {
            "marker": {
             "colorbar": {
              "outlinewidth": 0,
              "ticks": ""
             }
            },
            "type": "scatterpolargl"
           }
          ],
          "scatterternary": [
           {
            "marker": {
             "colorbar": {
              "outlinewidth": 0,
              "ticks": ""
             }
            },
            "type": "scatterternary"
           }
          ],
          "surface": [
           {
            "colorbar": {
             "outlinewidth": 0,
             "ticks": ""
            },
            "colorscale": [
             [
              0,
              "#0d0887"
             ],
             [
              0.1111111111111111,
              "#46039f"
             ],
             [
              0.2222222222222222,
              "#7201a8"
             ],
             [
              0.3333333333333333,
              "#9c179e"
             ],
             [
              0.4444444444444444,
              "#bd3786"
             ],
             [
              0.5555555555555556,
              "#d8576b"
             ],
             [
              0.6666666666666666,
              "#ed7953"
             ],
             [
              0.7777777777777778,
              "#fb9f3a"
             ],
             [
              0.8888888888888888,
              "#fdca26"
             ],
             [
              1,
              "#f0f921"
             ]
            ],
            "type": "surface"
           }
          ],
          "table": [
           {
            "cells": {
             "fill": {
              "color": "#EBF0F8"
             },
             "line": {
              "color": "white"
             }
            },
            "header": {
             "fill": {
              "color": "#C8D4E3"
             },
             "line": {
              "color": "white"
             }
            },
            "type": "table"
           }
          ]
         },
         "layout": {
          "annotationdefaults": {
           "arrowcolor": "#2a3f5f",
           "arrowhead": 0,
           "arrowwidth": 1
          },
          "autotypenumbers": "strict",
          "coloraxis": {
           "colorbar": {
            "outlinewidth": 0,
            "ticks": ""
           }
          },
          "colorscale": {
           "diverging": [
            [
             0,
             "#8e0152"
            ],
            [
             0.1,
             "#c51b7d"
            ],
            [
             0.2,
             "#de77ae"
            ],
            [
             0.3,
             "#f1b6da"
            ],
            [
             0.4,
             "#fde0ef"
            ],
            [
             0.5,
             "#f7f7f7"
            ],
            [
             0.6,
             "#e6f5d0"
            ],
            [
             0.7,
             "#b8e186"
            ],
            [
             0.8,
             "#7fbc41"
            ],
            [
             0.9,
             "#4d9221"
            ],
            [
             1,
             "#276419"
            ]
           ],
           "sequential": [
            [
             0,
             "#0d0887"
            ],
            [
             0.1111111111111111,
             "#46039f"
            ],
            [
             0.2222222222222222,
             "#7201a8"
            ],
            [
             0.3333333333333333,
             "#9c179e"
            ],
            [
             0.4444444444444444,
             "#bd3786"
            ],
            [
             0.5555555555555556,
             "#d8576b"
            ],
            [
             0.6666666666666666,
             "#ed7953"
            ],
            [
             0.7777777777777778,
             "#fb9f3a"
            ],
            [
             0.8888888888888888,
             "#fdca26"
            ],
            [
             1,
             "#f0f921"
            ]
           ],
           "sequentialminus": [
            [
             0,
             "#0d0887"
            ],
            [
             0.1111111111111111,
             "#46039f"
            ],
            [
             0.2222222222222222,
             "#7201a8"
            ],
            [
             0.3333333333333333,
             "#9c179e"
            ],
            [
             0.4444444444444444,
             "#bd3786"
            ],
            [
             0.5555555555555556,
             "#d8576b"
            ],
            [
             0.6666666666666666,
             "#ed7953"
            ],
            [
             0.7777777777777778,
             "#fb9f3a"
            ],
            [
             0.8888888888888888,
             "#fdca26"
            ],
            [
             1,
             "#f0f921"
            ]
           ]
          },
          "colorway": [
           "#636efa",
           "#EF553B",
           "#00cc96",
           "#ab63fa",
           "#FFA15A",
           "#19d3f3",
           "#FF6692",
           "#B6E880",
           "#FF97FF",
           "#FECB52"
          ],
          "font": {
           "color": "#2a3f5f"
          },
          "geo": {
           "bgcolor": "white",
           "lakecolor": "white",
           "landcolor": "#E5ECF6",
           "showlakes": true,
           "showland": true,
           "subunitcolor": "white"
          },
          "hoverlabel": {
           "align": "left"
          },
          "hovermode": "closest",
          "mapbox": {
           "style": "light"
          },
          "paper_bgcolor": "white",
          "plot_bgcolor": "#E5ECF6",
          "polar": {
           "angularaxis": {
            "gridcolor": "white",
            "linecolor": "white",
            "ticks": ""
           },
           "bgcolor": "#E5ECF6",
           "radialaxis": {
            "gridcolor": "white",
            "linecolor": "white",
            "ticks": ""
           }
          },
          "scene": {
           "xaxis": {
            "backgroundcolor": "#E5ECF6",
            "gridcolor": "white",
            "gridwidth": 2,
            "linecolor": "white",
            "showbackground": true,
            "ticks": "",
            "zerolinecolor": "white"
           },
           "yaxis": {
            "backgroundcolor": "#E5ECF6",
            "gridcolor": "white",
            "gridwidth": 2,
            "linecolor": "white",
            "showbackground": true,
            "ticks": "",
            "zerolinecolor": "white"
           },
           "zaxis": {
            "backgroundcolor": "#E5ECF6",
            "gridcolor": "white",
            "gridwidth": 2,
            "linecolor": "white",
            "showbackground": true,
            "ticks": "",
            "zerolinecolor": "white"
           }
          },
          "shapedefaults": {
           "line": {
            "color": "#2a3f5f"
           }
          },
          "ternary": {
           "aaxis": {
            "gridcolor": "white",
            "linecolor": "white",
            "ticks": ""
           },
           "baxis": {
            "gridcolor": "white",
            "linecolor": "white",
            "ticks": ""
           },
           "bgcolor": "#E5ECF6",
           "caxis": {
            "gridcolor": "white",
            "linecolor": "white",
            "ticks": ""
           }
          },
          "title": {
           "x": 0.05
          },
          "xaxis": {
           "automargin": true,
           "gridcolor": "white",
           "linecolor": "white",
           "ticks": "",
           "title": {
            "standoff": 15
           },
           "zerolinecolor": "white",
           "zerolinewidth": 2
          },
          "yaxis": {
           "automargin": true,
           "gridcolor": "white",
           "linecolor": "white",
           "ticks": "",
           "title": {
            "standoff": 15
           },
           "zerolinecolor": "white",
           "zerolinewidth": 2
          }
         }
        },
        "title": {
         "text": "Confusion Matrix for Logistic Regression"
        },
        "xaxis": {
         "scaleanchor": "y",
         "scaleratio": 1,
         "title": {
          "text": "Predicted Label"
         }
        },
        "yaxis": {
         "title": {
          "text": "Actual Label"
         }
        }
       }
      }
     },
     "metadata": {},
     "output_type": "display_data"
    },
    {
     "name": "stdout",
     "output_type": "stream",
     "text": [
      "\n",
      "Training K-Nearest Neighbors...\n"
     ]
    },
    {
     "data": {
      "application/vnd.plotly.v1+json": {
       "config": {
        "plotlyServerURL": "https://plot.ly"
       },
       "data": [
        {
         "colorscale": [
          [
           0,
           "rgb(247,251,255)"
          ],
          [
           0.125,
           "rgb(222,235,247)"
          ],
          [
           0.25,
           "rgb(198,219,239)"
          ],
          [
           0.375,
           "rgb(158,202,225)"
          ],
          [
           0.5,
           "rgb(107,174,214)"
          ],
          [
           0.625,
           "rgb(66,146,198)"
          ],
          [
           0.75,
           "rgb(33,113,181)"
          ],
          [
           0.875,
           "rgb(8,81,156)"
          ],
          [
           1,
           "rgb(8,48,107)"
          ]
         ],
         "showscale": true,
         "text": [
          [
           23,
           0,
           0,
           0,
           0,
           0
          ],
          [
           0,
           25,
           0,
           0,
           0,
           0
          ],
          [
           0,
           0,
           17,
           0,
           0,
           0
          ],
          [
           0,
           0,
           0,
           36,
           0,
           0
          ],
          [
           0,
           0,
           0,
           0,
           23,
           0
          ],
          [
           0,
           0,
           0,
           0,
           0,
           25
          ]
         ],
         "texttemplate": "%{text}",
         "type": "heatmap",
         "x": [
          "Predicted 0",
          "Predicted 1",
          "Predicted 2",
          "Predicted 3",
          "Predicted 4",
          "Predicted 5"
         ],
         "y": [
          "Actual 0",
          "Actual 1",
          "Actual 2",
          "Actual 3",
          "Actual 4",
          "Actual 5"
         ],
         "z": [
          [
           23,
           0,
           0,
           0,
           0,
           0
          ],
          [
           0,
           25,
           0,
           0,
           0,
           0
          ],
          [
           0,
           0,
           17,
           0,
           0,
           0
          ],
          [
           0,
           0,
           0,
           36,
           0,
           0
          ],
          [
           0,
           0,
           0,
           0,
           23,
           0
          ],
          [
           0,
           0,
           0,
           0,
           0,
           25
          ]
         ]
        }
       ],
       "layout": {
        "template": {
         "data": {
          "bar": [
           {
            "error_x": {
             "color": "#2a3f5f"
            },
            "error_y": {
             "color": "#2a3f5f"
            },
            "marker": {
             "line": {
              "color": "#E5ECF6",
              "width": 0.5
             },
             "pattern": {
              "fillmode": "overlay",
              "size": 10,
              "solidity": 0.2
             }
            },
            "type": "bar"
           }
          ],
          "barpolar": [
           {
            "marker": {
             "line": {
              "color": "#E5ECF6",
              "width": 0.5
             },
             "pattern": {
              "fillmode": "overlay",
              "size": 10,
              "solidity": 0.2
             }
            },
            "type": "barpolar"
           }
          ],
          "carpet": [
           {
            "aaxis": {
             "endlinecolor": "#2a3f5f",
             "gridcolor": "white",
             "linecolor": "white",
             "minorgridcolor": "white",
             "startlinecolor": "#2a3f5f"
            },
            "baxis": {
             "endlinecolor": "#2a3f5f",
             "gridcolor": "white",
             "linecolor": "white",
             "minorgridcolor": "white",
             "startlinecolor": "#2a3f5f"
            },
            "type": "carpet"
           }
          ],
          "choropleth": [
           {
            "colorbar": {
             "outlinewidth": 0,
             "ticks": ""
            },
            "type": "choropleth"
           }
          ],
          "contour": [
           {
            "colorbar": {
             "outlinewidth": 0,
             "ticks": ""
            },
            "colorscale": [
             [
              0,
              "#0d0887"
             ],
             [
              0.1111111111111111,
              "#46039f"
             ],
             [
              0.2222222222222222,
              "#7201a8"
             ],
             [
              0.3333333333333333,
              "#9c179e"
             ],
             [
              0.4444444444444444,
              "#bd3786"
             ],
             [
              0.5555555555555556,
              "#d8576b"
             ],
             [
              0.6666666666666666,
              "#ed7953"
             ],
             [
              0.7777777777777778,
              "#fb9f3a"
             ],
             [
              0.8888888888888888,
              "#fdca26"
             ],
             [
              1,
              "#f0f921"
             ]
            ],
            "type": "contour"
           }
          ],
          "contourcarpet": [
           {
            "colorbar": {
             "outlinewidth": 0,
             "ticks": ""
            },
            "type": "contourcarpet"
           }
          ],
          "heatmap": [
           {
            "colorbar": {
             "outlinewidth": 0,
             "ticks": ""
            },
            "colorscale": [
             [
              0,
              "#0d0887"
             ],
             [
              0.1111111111111111,
              "#46039f"
             ],
             [
              0.2222222222222222,
              "#7201a8"
             ],
             [
              0.3333333333333333,
              "#9c179e"
             ],
             [
              0.4444444444444444,
              "#bd3786"
             ],
             [
              0.5555555555555556,
              "#d8576b"
             ],
             [
              0.6666666666666666,
              "#ed7953"
             ],
             [
              0.7777777777777778,
              "#fb9f3a"
             ],
             [
              0.8888888888888888,
              "#fdca26"
             ],
             [
              1,
              "#f0f921"
             ]
            ],
            "type": "heatmap"
           }
          ],
          "heatmapgl": [
           {
            "colorbar": {
             "outlinewidth": 0,
             "ticks": ""
            },
            "colorscale": [
             [
              0,
              "#0d0887"
             ],
             [
              0.1111111111111111,
              "#46039f"
             ],
             [
              0.2222222222222222,
              "#7201a8"
             ],
             [
              0.3333333333333333,
              "#9c179e"
             ],
             [
              0.4444444444444444,
              "#bd3786"
             ],
             [
              0.5555555555555556,
              "#d8576b"
             ],
             [
              0.6666666666666666,
              "#ed7953"
             ],
             [
              0.7777777777777778,
              "#fb9f3a"
             ],
             [
              0.8888888888888888,
              "#fdca26"
             ],
             [
              1,
              "#f0f921"
             ]
            ],
            "type": "heatmapgl"
           }
          ],
          "histogram": [
           {
            "marker": {
             "pattern": {
              "fillmode": "overlay",
              "size": 10,
              "solidity": 0.2
             }
            },
            "type": "histogram"
           }
          ],
          "histogram2d": [
           {
            "colorbar": {
             "outlinewidth": 0,
             "ticks": ""
            },
            "colorscale": [
             [
              0,
              "#0d0887"
             ],
             [
              0.1111111111111111,
              "#46039f"
             ],
             [
              0.2222222222222222,
              "#7201a8"
             ],
             [
              0.3333333333333333,
              "#9c179e"
             ],
             [
              0.4444444444444444,
              "#bd3786"
             ],
             [
              0.5555555555555556,
              "#d8576b"
             ],
             [
              0.6666666666666666,
              "#ed7953"
             ],
             [
              0.7777777777777778,
              "#fb9f3a"
             ],
             [
              0.8888888888888888,
              "#fdca26"
             ],
             [
              1,
              "#f0f921"
             ]
            ],
            "type": "histogram2d"
           }
          ],
          "histogram2dcontour": [
           {
            "colorbar": {
             "outlinewidth": 0,
             "ticks": ""
            },
            "colorscale": [
             [
              0,
              "#0d0887"
             ],
             [
              0.1111111111111111,
              "#46039f"
             ],
             [
              0.2222222222222222,
              "#7201a8"
             ],
             [
              0.3333333333333333,
              "#9c179e"
             ],
             [
              0.4444444444444444,
              "#bd3786"
             ],
             [
              0.5555555555555556,
              "#d8576b"
             ],
             [
              0.6666666666666666,
              "#ed7953"
             ],
             [
              0.7777777777777778,
              "#fb9f3a"
             ],
             [
              0.8888888888888888,
              "#fdca26"
             ],
             [
              1,
              "#f0f921"
             ]
            ],
            "type": "histogram2dcontour"
           }
          ],
          "mesh3d": [
           {
            "colorbar": {
             "outlinewidth": 0,
             "ticks": ""
            },
            "type": "mesh3d"
           }
          ],
          "parcoords": [
           {
            "line": {
             "colorbar": {
              "outlinewidth": 0,
              "ticks": ""
             }
            },
            "type": "parcoords"
           }
          ],
          "pie": [
           {
            "automargin": true,
            "type": "pie"
           }
          ],
          "scatter": [
           {
            "fillpattern": {
             "fillmode": "overlay",
             "size": 10,
             "solidity": 0.2
            },
            "type": "scatter"
           }
          ],
          "scatter3d": [
           {
            "line": {
             "colorbar": {
              "outlinewidth": 0,
              "ticks": ""
             }
            },
            "marker": {
             "colorbar": {
              "outlinewidth": 0,
              "ticks": ""
             }
            },
            "type": "scatter3d"
           }
          ],
          "scattercarpet": [
           {
            "marker": {
             "colorbar": {
              "outlinewidth": 0,
              "ticks": ""
             }
            },
            "type": "scattercarpet"
           }
          ],
          "scattergeo": [
           {
            "marker": {
             "colorbar": {
              "outlinewidth": 0,
              "ticks": ""
             }
            },
            "type": "scattergeo"
           }
          ],
          "scattergl": [
           {
            "marker": {
             "colorbar": {
              "outlinewidth": 0,
              "ticks": ""
             }
            },
            "type": "scattergl"
           }
          ],
          "scattermapbox": [
           {
            "marker": {
             "colorbar": {
              "outlinewidth": 0,
              "ticks": ""
             }
            },
            "type": "scattermapbox"
           }
          ],
          "scatterpolar": [
           {
            "marker": {
             "colorbar": {
              "outlinewidth": 0,
              "ticks": ""
             }
            },
            "type": "scatterpolar"
           }
          ],
          "scatterpolargl": [
           {
            "marker": {
             "colorbar": {
              "outlinewidth": 0,
              "ticks": ""
             }
            },
            "type": "scatterpolargl"
           }
          ],
          "scatterternary": [
           {
            "marker": {
             "colorbar": {
              "outlinewidth": 0,
              "ticks": ""
             }
            },
            "type": "scatterternary"
           }
          ],
          "surface": [
           {
            "colorbar": {
             "outlinewidth": 0,
             "ticks": ""
            },
            "colorscale": [
             [
              0,
              "#0d0887"
             ],
             [
              0.1111111111111111,
              "#46039f"
             ],
             [
              0.2222222222222222,
              "#7201a8"
             ],
             [
              0.3333333333333333,
              "#9c179e"
             ],
             [
              0.4444444444444444,
              "#bd3786"
             ],
             [
              0.5555555555555556,
              "#d8576b"
             ],
             [
              0.6666666666666666,
              "#ed7953"
             ],
             [
              0.7777777777777778,
              "#fb9f3a"
             ],
             [
              0.8888888888888888,
              "#fdca26"
             ],
             [
              1,
              "#f0f921"
             ]
            ],
            "type": "surface"
           }
          ],
          "table": [
           {
            "cells": {
             "fill": {
              "color": "#EBF0F8"
             },
             "line": {
              "color": "white"
             }
            },
            "header": {
             "fill": {
              "color": "#C8D4E3"
             },
             "line": {
              "color": "white"
             }
            },
            "type": "table"
           }
          ]
         },
         "layout": {
          "annotationdefaults": {
           "arrowcolor": "#2a3f5f",
           "arrowhead": 0,
           "arrowwidth": 1
          },
          "autotypenumbers": "strict",
          "coloraxis": {
           "colorbar": {
            "outlinewidth": 0,
            "ticks": ""
           }
          },
          "colorscale": {
           "diverging": [
            [
             0,
             "#8e0152"
            ],
            [
             0.1,
             "#c51b7d"
            ],
            [
             0.2,
             "#de77ae"
            ],
            [
             0.3,
             "#f1b6da"
            ],
            [
             0.4,
             "#fde0ef"
            ],
            [
             0.5,
             "#f7f7f7"
            ],
            [
             0.6,
             "#e6f5d0"
            ],
            [
             0.7,
             "#b8e186"
            ],
            [
             0.8,
             "#7fbc41"
            ],
            [
             0.9,
             "#4d9221"
            ],
            [
             1,
             "#276419"
            ]
           ],
           "sequential": [
            [
             0,
             "#0d0887"
            ],
            [
             0.1111111111111111,
             "#46039f"
            ],
            [
             0.2222222222222222,
             "#7201a8"
            ],
            [
             0.3333333333333333,
             "#9c179e"
            ],
            [
             0.4444444444444444,
             "#bd3786"
            ],
            [
             0.5555555555555556,
             "#d8576b"
            ],
            [
             0.6666666666666666,
             "#ed7953"
            ],
            [
             0.7777777777777778,
             "#fb9f3a"
            ],
            [
             0.8888888888888888,
             "#fdca26"
            ],
            [
             1,
             "#f0f921"
            ]
           ],
           "sequentialminus": [
            [
             0,
             "#0d0887"
            ],
            [
             0.1111111111111111,
             "#46039f"
            ],
            [
             0.2222222222222222,
             "#7201a8"
            ],
            [
             0.3333333333333333,
             "#9c179e"
            ],
            [
             0.4444444444444444,
             "#bd3786"
            ],
            [
             0.5555555555555556,
             "#d8576b"
            ],
            [
             0.6666666666666666,
             "#ed7953"
            ],
            [
             0.7777777777777778,
             "#fb9f3a"
            ],
            [
             0.8888888888888888,
             "#fdca26"
            ],
            [
             1,
             "#f0f921"
            ]
           ]
          },
          "colorway": [
           "#636efa",
           "#EF553B",
           "#00cc96",
           "#ab63fa",
           "#FFA15A",
           "#19d3f3",
           "#FF6692",
           "#B6E880",
           "#FF97FF",
           "#FECB52"
          ],
          "font": {
           "color": "#2a3f5f"
          },
          "geo": {
           "bgcolor": "white",
           "lakecolor": "white",
           "landcolor": "#E5ECF6",
           "showlakes": true,
           "showland": true,
           "subunitcolor": "white"
          },
          "hoverlabel": {
           "align": "left"
          },
          "hovermode": "closest",
          "mapbox": {
           "style": "light"
          },
          "paper_bgcolor": "white",
          "plot_bgcolor": "#E5ECF6",
          "polar": {
           "angularaxis": {
            "gridcolor": "white",
            "linecolor": "white",
            "ticks": ""
           },
           "bgcolor": "#E5ECF6",
           "radialaxis": {
            "gridcolor": "white",
            "linecolor": "white",
            "ticks": ""
           }
          },
          "scene": {
           "xaxis": {
            "backgroundcolor": "#E5ECF6",
            "gridcolor": "white",
            "gridwidth": 2,
            "linecolor": "white",
            "showbackground": true,
            "ticks": "",
            "zerolinecolor": "white"
           },
           "yaxis": {
            "backgroundcolor": "#E5ECF6",
            "gridcolor": "white",
            "gridwidth": 2,
            "linecolor": "white",
            "showbackground": true,
            "ticks": "",
            "zerolinecolor": "white"
           },
           "zaxis": {
            "backgroundcolor": "#E5ECF6",
            "gridcolor": "white",
            "gridwidth": 2,
            "linecolor": "white",
            "showbackground": true,
            "ticks": "",
            "zerolinecolor": "white"
           }
          },
          "shapedefaults": {
           "line": {
            "color": "#2a3f5f"
           }
          },
          "ternary": {
           "aaxis": {
            "gridcolor": "white",
            "linecolor": "white",
            "ticks": ""
           },
           "baxis": {
            "gridcolor": "white",
            "linecolor": "white",
            "ticks": ""
           },
           "bgcolor": "#E5ECF6",
           "caxis": {
            "gridcolor": "white",
            "linecolor": "white",
            "ticks": ""
           }
          },
          "title": {
           "x": 0.05
          },
          "xaxis": {
           "automargin": true,
           "gridcolor": "white",
           "linecolor": "white",
           "ticks": "",
           "title": {
            "standoff": 15
           },
           "zerolinecolor": "white",
           "zerolinewidth": 2
          },
          "yaxis": {
           "automargin": true,
           "gridcolor": "white",
           "linecolor": "white",
           "ticks": "",
           "title": {
            "standoff": 15
           },
           "zerolinecolor": "white",
           "zerolinewidth": 2
          }
         }
        },
        "title": {
         "text": "Confusion Matrix for K-Nearest Neighbors"
        },
        "xaxis": {
         "scaleanchor": "y",
         "scaleratio": 1,
         "title": {
          "text": "Predicted Label"
         }
        },
        "yaxis": {
         "title": {
          "text": "Actual Label"
         }
        }
       }
      }
     },
     "metadata": {},
     "output_type": "display_data"
    },
    {
     "name": "stdout",
     "output_type": "stream",
     "text": [
      "\n",
      "Training Random Forest...\n"
     ]
    },
    {
     "data": {
      "application/vnd.plotly.v1+json": {
       "config": {
        "plotlyServerURL": "https://plot.ly"
       },
       "data": [
        {
         "colorscale": [
          [
           0,
           "rgb(247,251,255)"
          ],
          [
           0.125,
           "rgb(222,235,247)"
          ],
          [
           0.25,
           "rgb(198,219,239)"
          ],
          [
           0.375,
           "rgb(158,202,225)"
          ],
          [
           0.5,
           "rgb(107,174,214)"
          ],
          [
           0.625,
           "rgb(66,146,198)"
          ],
          [
           0.75,
           "rgb(33,113,181)"
          ],
          [
           0.875,
           "rgb(8,81,156)"
          ],
          [
           1,
           "rgb(8,48,107)"
          ]
         ],
         "showscale": true,
         "text": [
          [
           23,
           0,
           0,
           0,
           0,
           0
          ],
          [
           0,
           25,
           0,
           0,
           0,
           0
          ],
          [
           0,
           0,
           17,
           0,
           0,
           0
          ],
          [
           0,
           0,
           0,
           36,
           0,
           0
          ],
          [
           0,
           0,
           0,
           0,
           23,
           0
          ],
          [
           0,
           0,
           0,
           0,
           0,
           25
          ]
         ],
         "texttemplate": "%{text}",
         "type": "heatmap",
         "x": [
          "Predicted 0",
          "Predicted 1",
          "Predicted 2",
          "Predicted 3",
          "Predicted 4",
          "Predicted 5"
         ],
         "y": [
          "Actual 0",
          "Actual 1",
          "Actual 2",
          "Actual 3",
          "Actual 4",
          "Actual 5"
         ],
         "z": [
          [
           23,
           0,
           0,
           0,
           0,
           0
          ],
          [
           0,
           25,
           0,
           0,
           0,
           0
          ],
          [
           0,
           0,
           17,
           0,
           0,
           0
          ],
          [
           0,
           0,
           0,
           36,
           0,
           0
          ],
          [
           0,
           0,
           0,
           0,
           23,
           0
          ],
          [
           0,
           0,
           0,
           0,
           0,
           25
          ]
         ]
        }
       ],
       "layout": {
        "template": {
         "data": {
          "bar": [
           {
            "error_x": {
             "color": "#2a3f5f"
            },
            "error_y": {
             "color": "#2a3f5f"
            },
            "marker": {
             "line": {
              "color": "#E5ECF6",
              "width": 0.5
             },
             "pattern": {
              "fillmode": "overlay",
              "size": 10,
              "solidity": 0.2
             }
            },
            "type": "bar"
           }
          ],
          "barpolar": [
           {
            "marker": {
             "line": {
              "color": "#E5ECF6",
              "width": 0.5
             },
             "pattern": {
              "fillmode": "overlay",
              "size": 10,
              "solidity": 0.2
             }
            },
            "type": "barpolar"
           }
          ],
          "carpet": [
           {
            "aaxis": {
             "endlinecolor": "#2a3f5f",
             "gridcolor": "white",
             "linecolor": "white",
             "minorgridcolor": "white",
             "startlinecolor": "#2a3f5f"
            },
            "baxis": {
             "endlinecolor": "#2a3f5f",
             "gridcolor": "white",
             "linecolor": "white",
             "minorgridcolor": "white",
             "startlinecolor": "#2a3f5f"
            },
            "type": "carpet"
           }
          ],
          "choropleth": [
           {
            "colorbar": {
             "outlinewidth": 0,
             "ticks": ""
            },
            "type": "choropleth"
           }
          ],
          "contour": [
           {
            "colorbar": {
             "outlinewidth": 0,
             "ticks": ""
            },
            "colorscale": [
             [
              0,
              "#0d0887"
             ],
             [
              0.1111111111111111,
              "#46039f"
             ],
             [
              0.2222222222222222,
              "#7201a8"
             ],
             [
              0.3333333333333333,
              "#9c179e"
             ],
             [
              0.4444444444444444,
              "#bd3786"
             ],
             [
              0.5555555555555556,
              "#d8576b"
             ],
             [
              0.6666666666666666,
              "#ed7953"
             ],
             [
              0.7777777777777778,
              "#fb9f3a"
             ],
             [
              0.8888888888888888,
              "#fdca26"
             ],
             [
              1,
              "#f0f921"
             ]
            ],
            "type": "contour"
           }
          ],
          "contourcarpet": [
           {
            "colorbar": {
             "outlinewidth": 0,
             "ticks": ""
            },
            "type": "contourcarpet"
           }
          ],
          "heatmap": [
           {
            "colorbar": {
             "outlinewidth": 0,
             "ticks": ""
            },
            "colorscale": [
             [
              0,
              "#0d0887"
             ],
             [
              0.1111111111111111,
              "#46039f"
             ],
             [
              0.2222222222222222,
              "#7201a8"
             ],
             [
              0.3333333333333333,
              "#9c179e"
             ],
             [
              0.4444444444444444,
              "#bd3786"
             ],
             [
              0.5555555555555556,
              "#d8576b"
             ],
             [
              0.6666666666666666,
              "#ed7953"
             ],
             [
              0.7777777777777778,
              "#fb9f3a"
             ],
             [
              0.8888888888888888,
              "#fdca26"
             ],
             [
              1,
              "#f0f921"
             ]
            ],
            "type": "heatmap"
           }
          ],
          "heatmapgl": [
           {
            "colorbar": {
             "outlinewidth": 0,
             "ticks": ""
            },
            "colorscale": [
             [
              0,
              "#0d0887"
             ],
             [
              0.1111111111111111,
              "#46039f"
             ],
             [
              0.2222222222222222,
              "#7201a8"
             ],
             [
              0.3333333333333333,
              "#9c179e"
             ],
             [
              0.4444444444444444,
              "#bd3786"
             ],
             [
              0.5555555555555556,
              "#d8576b"
             ],
             [
              0.6666666666666666,
              "#ed7953"
             ],
             [
              0.7777777777777778,
              "#fb9f3a"
             ],
             [
              0.8888888888888888,
              "#fdca26"
             ],
             [
              1,
              "#f0f921"
             ]
            ],
            "type": "heatmapgl"
           }
          ],
          "histogram": [
           {
            "marker": {
             "pattern": {
              "fillmode": "overlay",
              "size": 10,
              "solidity": 0.2
             }
            },
            "type": "histogram"
           }
          ],
          "histogram2d": [
           {
            "colorbar": {
             "outlinewidth": 0,
             "ticks": ""
            },
            "colorscale": [
             [
              0,
              "#0d0887"
             ],
             [
              0.1111111111111111,
              "#46039f"
             ],
             [
              0.2222222222222222,
              "#7201a8"
             ],
             [
              0.3333333333333333,
              "#9c179e"
             ],
             [
              0.4444444444444444,
              "#bd3786"
             ],
             [
              0.5555555555555556,
              "#d8576b"
             ],
             [
              0.6666666666666666,
              "#ed7953"
             ],
             [
              0.7777777777777778,
              "#fb9f3a"
             ],
             [
              0.8888888888888888,
              "#fdca26"
             ],
             [
              1,
              "#f0f921"
             ]
            ],
            "type": "histogram2d"
           }
          ],
          "histogram2dcontour": [
           {
            "colorbar": {
             "outlinewidth": 0,
             "ticks": ""
            },
            "colorscale": [
             [
              0,
              "#0d0887"
             ],
             [
              0.1111111111111111,
              "#46039f"
             ],
             [
              0.2222222222222222,
              "#7201a8"
             ],
             [
              0.3333333333333333,
              "#9c179e"
             ],
             [
              0.4444444444444444,
              "#bd3786"
             ],
             [
              0.5555555555555556,
              "#d8576b"
             ],
             [
              0.6666666666666666,
              "#ed7953"
             ],
             [
              0.7777777777777778,
              "#fb9f3a"
             ],
             [
              0.8888888888888888,
              "#fdca26"
             ],
             [
              1,
              "#f0f921"
             ]
            ],
            "type": "histogram2dcontour"
           }
          ],
          "mesh3d": [
           {
            "colorbar": {
             "outlinewidth": 0,
             "ticks": ""
            },
            "type": "mesh3d"
           }
          ],
          "parcoords": [
           {
            "line": {
             "colorbar": {
              "outlinewidth": 0,
              "ticks": ""
             }
            },
            "type": "parcoords"
           }
          ],
          "pie": [
           {
            "automargin": true,
            "type": "pie"
           }
          ],
          "scatter": [
           {
            "fillpattern": {
             "fillmode": "overlay",
             "size": 10,
             "solidity": 0.2
            },
            "type": "scatter"
           }
          ],
          "scatter3d": [
           {
            "line": {
             "colorbar": {
              "outlinewidth": 0,
              "ticks": ""
             }
            },
            "marker": {
             "colorbar": {
              "outlinewidth": 0,
              "ticks": ""
             }
            },
            "type": "scatter3d"
           }
          ],
          "scattercarpet": [
           {
            "marker": {
             "colorbar": {
              "outlinewidth": 0,
              "ticks": ""
             }
            },
            "type": "scattercarpet"
           }
          ],
          "scattergeo": [
           {
            "marker": {
             "colorbar": {
              "outlinewidth": 0,
              "ticks": ""
             }
            },
            "type": "scattergeo"
           }
          ],
          "scattergl": [
           {
            "marker": {
             "colorbar": {
              "outlinewidth": 0,
              "ticks": ""
             }
            },
            "type": "scattergl"
           }
          ],
          "scattermapbox": [
           {
            "marker": {
             "colorbar": {
              "outlinewidth": 0,
              "ticks": ""
             }
            },
            "type": "scattermapbox"
           }
          ],
          "scatterpolar": [
           {
            "marker": {
             "colorbar": {
              "outlinewidth": 0,
              "ticks": ""
             }
            },
            "type": "scatterpolar"
           }
          ],
          "scatterpolargl": [
           {
            "marker": {
             "colorbar": {
              "outlinewidth": 0,
              "ticks": ""
             }
            },
            "type": "scatterpolargl"
           }
          ],
          "scatterternary": [
           {
            "marker": {
             "colorbar": {
              "outlinewidth": 0,
              "ticks": ""
             }
            },
            "type": "scatterternary"
           }
          ],
          "surface": [
           {
            "colorbar": {
             "outlinewidth": 0,
             "ticks": ""
            },
            "colorscale": [
             [
              0,
              "#0d0887"
             ],
             [
              0.1111111111111111,
              "#46039f"
             ],
             [
              0.2222222222222222,
              "#7201a8"
             ],
             [
              0.3333333333333333,
              "#9c179e"
             ],
             [
              0.4444444444444444,
              "#bd3786"
             ],
             [
              0.5555555555555556,
              "#d8576b"
             ],
             [
              0.6666666666666666,
              "#ed7953"
             ],
             [
              0.7777777777777778,
              "#fb9f3a"
             ],
             [
              0.8888888888888888,
              "#fdca26"
             ],
             [
              1,
              "#f0f921"
             ]
            ],
            "type": "surface"
           }
          ],
          "table": [
           {
            "cells": {
             "fill": {
              "color": "#EBF0F8"
             },
             "line": {
              "color": "white"
             }
            },
            "header": {
             "fill": {
              "color": "#C8D4E3"
             },
             "line": {
              "color": "white"
             }
            },
            "type": "table"
           }
          ]
         },
         "layout": {
          "annotationdefaults": {
           "arrowcolor": "#2a3f5f",
           "arrowhead": 0,
           "arrowwidth": 1
          },
          "autotypenumbers": "strict",
          "coloraxis": {
           "colorbar": {
            "outlinewidth": 0,
            "ticks": ""
           }
          },
          "colorscale": {
           "diverging": [
            [
             0,
             "#8e0152"
            ],
            [
             0.1,
             "#c51b7d"
            ],
            [
             0.2,
             "#de77ae"
            ],
            [
             0.3,
             "#f1b6da"
            ],
            [
             0.4,
             "#fde0ef"
            ],
            [
             0.5,
             "#f7f7f7"
            ],
            [
             0.6,
             "#e6f5d0"
            ],
            [
             0.7,
             "#b8e186"
            ],
            [
             0.8,
             "#7fbc41"
            ],
            [
             0.9,
             "#4d9221"
            ],
            [
             1,
             "#276419"
            ]
           ],
           "sequential": [
            [
             0,
             "#0d0887"
            ],
            [
             0.1111111111111111,
             "#46039f"
            ],
            [
             0.2222222222222222,
             "#7201a8"
            ],
            [
             0.3333333333333333,
             "#9c179e"
            ],
            [
             0.4444444444444444,
             "#bd3786"
            ],
            [
             0.5555555555555556,
             "#d8576b"
            ],
            [
             0.6666666666666666,
             "#ed7953"
            ],
            [
             0.7777777777777778,
             "#fb9f3a"
            ],
            [
             0.8888888888888888,
             "#fdca26"
            ],
            [
             1,
             "#f0f921"
            ]
           ],
           "sequentialminus": [
            [
             0,
             "#0d0887"
            ],
            [
             0.1111111111111111,
             "#46039f"
            ],
            [
             0.2222222222222222,
             "#7201a8"
            ],
            [
             0.3333333333333333,
             "#9c179e"
            ],
            [
             0.4444444444444444,
             "#bd3786"
            ],
            [
             0.5555555555555556,
             "#d8576b"
            ],
            [
             0.6666666666666666,
             "#ed7953"
            ],
            [
             0.7777777777777778,
             "#fb9f3a"
            ],
            [
             0.8888888888888888,
             "#fdca26"
            ],
            [
             1,
             "#f0f921"
            ]
           ]
          },
          "colorway": [
           "#636efa",
           "#EF553B",
           "#00cc96",
           "#ab63fa",
           "#FFA15A",
           "#19d3f3",
           "#FF6692",
           "#B6E880",
           "#FF97FF",
           "#FECB52"
          ],
          "font": {
           "color": "#2a3f5f"
          },
          "geo": {
           "bgcolor": "white",
           "lakecolor": "white",
           "landcolor": "#E5ECF6",
           "showlakes": true,
           "showland": true,
           "subunitcolor": "white"
          },
          "hoverlabel": {
           "align": "left"
          },
          "hovermode": "closest",
          "mapbox": {
           "style": "light"
          },
          "paper_bgcolor": "white",
          "plot_bgcolor": "#E5ECF6",
          "polar": {
           "angularaxis": {
            "gridcolor": "white",
            "linecolor": "white",
            "ticks": ""
           },
           "bgcolor": "#E5ECF6",
           "radialaxis": {
            "gridcolor": "white",
            "linecolor": "white",
            "ticks": ""
           }
          },
          "scene": {
           "xaxis": {
            "backgroundcolor": "#E5ECF6",
            "gridcolor": "white",
            "gridwidth": 2,
            "linecolor": "white",
            "showbackground": true,
            "ticks": "",
            "zerolinecolor": "white"
           },
           "yaxis": {
            "backgroundcolor": "#E5ECF6",
            "gridcolor": "white",
            "gridwidth": 2,
            "linecolor": "white",
            "showbackground": true,
            "ticks": "",
            "zerolinecolor": "white"
           },
           "zaxis": {
            "backgroundcolor": "#E5ECF6",
            "gridcolor": "white",
            "gridwidth": 2,
            "linecolor": "white",
            "showbackground": true,
            "ticks": "",
            "zerolinecolor": "white"
           }
          },
          "shapedefaults": {
           "line": {
            "color": "#2a3f5f"
           }
          },
          "ternary": {
           "aaxis": {
            "gridcolor": "white",
            "linecolor": "white",
            "ticks": ""
           },
           "baxis": {
            "gridcolor": "white",
            "linecolor": "white",
            "ticks": ""
           },
           "bgcolor": "#E5ECF6",
           "caxis": {
            "gridcolor": "white",
            "linecolor": "white",
            "ticks": ""
           }
          },
          "title": {
           "x": 0.05
          },
          "xaxis": {
           "automargin": true,
           "gridcolor": "white",
           "linecolor": "white",
           "ticks": "",
           "title": {
            "standoff": 15
           },
           "zerolinecolor": "white",
           "zerolinewidth": 2
          },
          "yaxis": {
           "automargin": true,
           "gridcolor": "white",
           "linecolor": "white",
           "ticks": "",
           "title": {
            "standoff": 15
           },
           "zerolinecolor": "white",
           "zerolinewidth": 2
          }
         }
        },
        "title": {
         "text": "Confusion Matrix for Random Forest"
        },
        "xaxis": {
         "scaleanchor": "y",
         "scaleratio": 1,
         "title": {
          "text": "Predicted Label"
         }
        },
        "yaxis": {
         "title": {
          "text": "Actual Label"
         }
        }
       }
      }
     },
     "metadata": {},
     "output_type": "display_data"
    },
    {
     "name": "stdout",
     "output_type": "stream",
     "text": [
      "\n",
      "Training Gradient Boosting...\n"
     ]
    },
    {
     "data": {
      "application/vnd.plotly.v1+json": {
       "config": {
        "plotlyServerURL": "https://plot.ly"
       },
       "data": [
        {
         "colorscale": [
          [
           0,
           "rgb(247,251,255)"
          ],
          [
           0.125,
           "rgb(222,235,247)"
          ],
          [
           0.25,
           "rgb(198,219,239)"
          ],
          [
           0.375,
           "rgb(158,202,225)"
          ],
          [
           0.5,
           "rgb(107,174,214)"
          ],
          [
           0.625,
           "rgb(66,146,198)"
          ],
          [
           0.75,
           "rgb(33,113,181)"
          ],
          [
           0.875,
           "rgb(8,81,156)"
          ],
          [
           1,
           "rgb(8,48,107)"
          ]
         ],
         "showscale": true,
         "text": [
          [
           23,
           0,
           0,
           0,
           0,
           0
          ],
          [
           0,
           25,
           0,
           0,
           0,
           0
          ],
          [
           0,
           1,
           16,
           0,
           0,
           0
          ],
          [
           0,
           0,
           0,
           36,
           0,
           0
          ],
          [
           0,
           0,
           0,
           0,
           23,
           0
          ],
          [
           0,
           0,
           0,
           0,
           0,
           25
          ]
         ],
         "texttemplate": "%{text}",
         "type": "heatmap",
         "x": [
          "Predicted 0",
          "Predicted 1",
          "Predicted 2",
          "Predicted 3",
          "Predicted 4",
          "Predicted 5"
         ],
         "y": [
          "Actual 0",
          "Actual 1",
          "Actual 2",
          "Actual 3",
          "Actual 4",
          "Actual 5"
         ],
         "z": [
          [
           23,
           0,
           0,
           0,
           0,
           0
          ],
          [
           0,
           25,
           0,
           0,
           0,
           0
          ],
          [
           0,
           1,
           16,
           0,
           0,
           0
          ],
          [
           0,
           0,
           0,
           36,
           0,
           0
          ],
          [
           0,
           0,
           0,
           0,
           23,
           0
          ],
          [
           0,
           0,
           0,
           0,
           0,
           25
          ]
         ]
        }
       ],
       "layout": {
        "template": {
         "data": {
          "bar": [
           {
            "error_x": {
             "color": "#2a3f5f"
            },
            "error_y": {
             "color": "#2a3f5f"
            },
            "marker": {
             "line": {
              "color": "#E5ECF6",
              "width": 0.5
             },
             "pattern": {
              "fillmode": "overlay",
              "size": 10,
              "solidity": 0.2
             }
            },
            "type": "bar"
           }
          ],
          "barpolar": [
           {
            "marker": {
             "line": {
              "color": "#E5ECF6",
              "width": 0.5
             },
             "pattern": {
              "fillmode": "overlay",
              "size": 10,
              "solidity": 0.2
             }
            },
            "type": "barpolar"
           }
          ],
          "carpet": [
           {
            "aaxis": {
             "endlinecolor": "#2a3f5f",
             "gridcolor": "white",
             "linecolor": "white",
             "minorgridcolor": "white",
             "startlinecolor": "#2a3f5f"
            },
            "baxis": {
             "endlinecolor": "#2a3f5f",
             "gridcolor": "white",
             "linecolor": "white",
             "minorgridcolor": "white",
             "startlinecolor": "#2a3f5f"
            },
            "type": "carpet"
           }
          ],
          "choropleth": [
           {
            "colorbar": {
             "outlinewidth": 0,
             "ticks": ""
            },
            "type": "choropleth"
           }
          ],
          "contour": [
           {
            "colorbar": {
             "outlinewidth": 0,
             "ticks": ""
            },
            "colorscale": [
             [
              0,
              "#0d0887"
             ],
             [
              0.1111111111111111,
              "#46039f"
             ],
             [
              0.2222222222222222,
              "#7201a8"
             ],
             [
              0.3333333333333333,
              "#9c179e"
             ],
             [
              0.4444444444444444,
              "#bd3786"
             ],
             [
              0.5555555555555556,
              "#d8576b"
             ],
             [
              0.6666666666666666,
              "#ed7953"
             ],
             [
              0.7777777777777778,
              "#fb9f3a"
             ],
             [
              0.8888888888888888,
              "#fdca26"
             ],
             [
              1,
              "#f0f921"
             ]
            ],
            "type": "contour"
           }
          ],
          "contourcarpet": [
           {
            "colorbar": {
             "outlinewidth": 0,
             "ticks": ""
            },
            "type": "contourcarpet"
           }
          ],
          "heatmap": [
           {
            "colorbar": {
             "outlinewidth": 0,
             "ticks": ""
            },
            "colorscale": [
             [
              0,
              "#0d0887"
             ],
             [
              0.1111111111111111,
              "#46039f"
             ],
             [
              0.2222222222222222,
              "#7201a8"
             ],
             [
              0.3333333333333333,
              "#9c179e"
             ],
             [
              0.4444444444444444,
              "#bd3786"
             ],
             [
              0.5555555555555556,
              "#d8576b"
             ],
             [
              0.6666666666666666,
              "#ed7953"
             ],
             [
              0.7777777777777778,
              "#fb9f3a"
             ],
             [
              0.8888888888888888,
              "#fdca26"
             ],
             [
              1,
              "#f0f921"
             ]
            ],
            "type": "heatmap"
           }
          ],
          "heatmapgl": [
           {
            "colorbar": {
             "outlinewidth": 0,
             "ticks": ""
            },
            "colorscale": [
             [
              0,
              "#0d0887"
             ],
             [
              0.1111111111111111,
              "#46039f"
             ],
             [
              0.2222222222222222,
              "#7201a8"
             ],
             [
              0.3333333333333333,
              "#9c179e"
             ],
             [
              0.4444444444444444,
              "#bd3786"
             ],
             [
              0.5555555555555556,
              "#d8576b"
             ],
             [
              0.6666666666666666,
              "#ed7953"
             ],
             [
              0.7777777777777778,
              "#fb9f3a"
             ],
             [
              0.8888888888888888,
              "#fdca26"
             ],
             [
              1,
              "#f0f921"
             ]
            ],
            "type": "heatmapgl"
           }
          ],
          "histogram": [
           {
            "marker": {
             "pattern": {
              "fillmode": "overlay",
              "size": 10,
              "solidity": 0.2
             }
            },
            "type": "histogram"
           }
          ],
          "histogram2d": [
           {
            "colorbar": {
             "outlinewidth": 0,
             "ticks": ""
            },
            "colorscale": [
             [
              0,
              "#0d0887"
             ],
             [
              0.1111111111111111,
              "#46039f"
             ],
             [
              0.2222222222222222,
              "#7201a8"
             ],
             [
              0.3333333333333333,
              "#9c179e"
             ],
             [
              0.4444444444444444,
              "#bd3786"
             ],
             [
              0.5555555555555556,
              "#d8576b"
             ],
             [
              0.6666666666666666,
              "#ed7953"
             ],
             [
              0.7777777777777778,
              "#fb9f3a"
             ],
             [
              0.8888888888888888,
              "#fdca26"
             ],
             [
              1,
              "#f0f921"
             ]
            ],
            "type": "histogram2d"
           }
          ],
          "histogram2dcontour": [
           {
            "colorbar": {
             "outlinewidth": 0,
             "ticks": ""
            },
            "colorscale": [
             [
              0,
              "#0d0887"
             ],
             [
              0.1111111111111111,
              "#46039f"
             ],
             [
              0.2222222222222222,
              "#7201a8"
             ],
             [
              0.3333333333333333,
              "#9c179e"
             ],
             [
              0.4444444444444444,
              "#bd3786"
             ],
             [
              0.5555555555555556,
              "#d8576b"
             ],
             [
              0.6666666666666666,
              "#ed7953"
             ],
             [
              0.7777777777777778,
              "#fb9f3a"
             ],
             [
              0.8888888888888888,
              "#fdca26"
             ],
             [
              1,
              "#f0f921"
             ]
            ],
            "type": "histogram2dcontour"
           }
          ],
          "mesh3d": [
           {
            "colorbar": {
             "outlinewidth": 0,
             "ticks": ""
            },
            "type": "mesh3d"
           }
          ],
          "parcoords": [
           {
            "line": {
             "colorbar": {
              "outlinewidth": 0,
              "ticks": ""
             }
            },
            "type": "parcoords"
           }
          ],
          "pie": [
           {
            "automargin": true,
            "type": "pie"
           }
          ],
          "scatter": [
           {
            "fillpattern": {
             "fillmode": "overlay",
             "size": 10,
             "solidity": 0.2
            },
            "type": "scatter"
           }
          ],
          "scatter3d": [
           {
            "line": {
             "colorbar": {
              "outlinewidth": 0,
              "ticks": ""
             }
            },
            "marker": {
             "colorbar": {
              "outlinewidth": 0,
              "ticks": ""
             }
            },
            "type": "scatter3d"
           }
          ],
          "scattercarpet": [
           {
            "marker": {
             "colorbar": {
              "outlinewidth": 0,
              "ticks": ""
             }
            },
            "type": "scattercarpet"
           }
          ],
          "scattergeo": [
           {
            "marker": {
             "colorbar": {
              "outlinewidth": 0,
              "ticks": ""
             }
            },
            "type": "scattergeo"
           }
          ],
          "scattergl": [
           {
            "marker": {
             "colorbar": {
              "outlinewidth": 0,
              "ticks": ""
             }
            },
            "type": "scattergl"
           }
          ],
          "scattermapbox": [
           {
            "marker": {
             "colorbar": {
              "outlinewidth": 0,
              "ticks": ""
             }
            },
            "type": "scattermapbox"
           }
          ],
          "scatterpolar": [
           {
            "marker": {
             "colorbar": {
              "outlinewidth": 0,
              "ticks": ""
             }
            },
            "type": "scatterpolar"
           }
          ],
          "scatterpolargl": [
           {
            "marker": {
             "colorbar": {
              "outlinewidth": 0,
              "ticks": ""
             }
            },
            "type": "scatterpolargl"
           }
          ],
          "scatterternary": [
           {
            "marker": {
             "colorbar": {
              "outlinewidth": 0,
              "ticks": ""
             }
            },
            "type": "scatterternary"
           }
          ],
          "surface": [
           {
            "colorbar": {
             "outlinewidth": 0,
             "ticks": ""
            },
            "colorscale": [
             [
              0,
              "#0d0887"
             ],
             [
              0.1111111111111111,
              "#46039f"
             ],
             [
              0.2222222222222222,
              "#7201a8"
             ],
             [
              0.3333333333333333,
              "#9c179e"
             ],
             [
              0.4444444444444444,
              "#bd3786"
             ],
             [
              0.5555555555555556,
              "#d8576b"
             ],
             [
              0.6666666666666666,
              "#ed7953"
             ],
             [
              0.7777777777777778,
              "#fb9f3a"
             ],
             [
              0.8888888888888888,
              "#fdca26"
             ],
             [
              1,
              "#f0f921"
             ]
            ],
            "type": "surface"
           }
          ],
          "table": [
           {
            "cells": {
             "fill": {
              "color": "#EBF0F8"
             },
             "line": {
              "color": "white"
             }
            },
            "header": {
             "fill": {
              "color": "#C8D4E3"
             },
             "line": {
              "color": "white"
             }
            },
            "type": "table"
           }
          ]
         },
         "layout": {
          "annotationdefaults": {
           "arrowcolor": "#2a3f5f",
           "arrowhead": 0,
           "arrowwidth": 1
          },
          "autotypenumbers": "strict",
          "coloraxis": {
           "colorbar": {
            "outlinewidth": 0,
            "ticks": ""
           }
          },
          "colorscale": {
           "diverging": [
            [
             0,
             "#8e0152"
            ],
            [
             0.1,
             "#c51b7d"
            ],
            [
             0.2,
             "#de77ae"
            ],
            [
             0.3,
             "#f1b6da"
            ],
            [
             0.4,
             "#fde0ef"
            ],
            [
             0.5,
             "#f7f7f7"
            ],
            [
             0.6,
             "#e6f5d0"
            ],
            [
             0.7,
             "#b8e186"
            ],
            [
             0.8,
             "#7fbc41"
            ],
            [
             0.9,
             "#4d9221"
            ],
            [
             1,
             "#276419"
            ]
           ],
           "sequential": [
            [
             0,
             "#0d0887"
            ],
            [
             0.1111111111111111,
             "#46039f"
            ],
            [
             0.2222222222222222,
             "#7201a8"
            ],
            [
             0.3333333333333333,
             "#9c179e"
            ],
            [
             0.4444444444444444,
             "#bd3786"
            ],
            [
             0.5555555555555556,
             "#d8576b"
            ],
            [
             0.6666666666666666,
             "#ed7953"
            ],
            [
             0.7777777777777778,
             "#fb9f3a"
            ],
            [
             0.8888888888888888,
             "#fdca26"
            ],
            [
             1,
             "#f0f921"
            ]
           ],
           "sequentialminus": [
            [
             0,
             "#0d0887"
            ],
            [
             0.1111111111111111,
             "#46039f"
            ],
            [
             0.2222222222222222,
             "#7201a8"
            ],
            [
             0.3333333333333333,
             "#9c179e"
            ],
            [
             0.4444444444444444,
             "#bd3786"
            ],
            [
             0.5555555555555556,
             "#d8576b"
            ],
            [
             0.6666666666666666,
             "#ed7953"
            ],
            [
             0.7777777777777778,
             "#fb9f3a"
            ],
            [
             0.8888888888888888,
             "#fdca26"
            ],
            [
             1,
             "#f0f921"
            ]
           ]
          },
          "colorway": [
           "#636efa",
           "#EF553B",
           "#00cc96",
           "#ab63fa",
           "#FFA15A",
           "#19d3f3",
           "#FF6692",
           "#B6E880",
           "#FF97FF",
           "#FECB52"
          ],
          "font": {
           "color": "#2a3f5f"
          },
          "geo": {
           "bgcolor": "white",
           "lakecolor": "white",
           "landcolor": "#E5ECF6",
           "showlakes": true,
           "showland": true,
           "subunitcolor": "white"
          },
          "hoverlabel": {
           "align": "left"
          },
          "hovermode": "closest",
          "mapbox": {
           "style": "light"
          },
          "paper_bgcolor": "white",
          "plot_bgcolor": "#E5ECF6",
          "polar": {
           "angularaxis": {
            "gridcolor": "white",
            "linecolor": "white",
            "ticks": ""
           },
           "bgcolor": "#E5ECF6",
           "radialaxis": {
            "gridcolor": "white",
            "linecolor": "white",
            "ticks": ""
           }
          },
          "scene": {
           "xaxis": {
            "backgroundcolor": "#E5ECF6",
            "gridcolor": "white",
            "gridwidth": 2,
            "linecolor": "white",
            "showbackground": true,
            "ticks": "",
            "zerolinecolor": "white"
           },
           "yaxis": {
            "backgroundcolor": "#E5ECF6",
            "gridcolor": "white",
            "gridwidth": 2,
            "linecolor": "white",
            "showbackground": true,
            "ticks": "",
            "zerolinecolor": "white"
           },
           "zaxis": {
            "backgroundcolor": "#E5ECF6",
            "gridcolor": "white",
            "gridwidth": 2,
            "linecolor": "white",
            "showbackground": true,
            "ticks": "",
            "zerolinecolor": "white"
           }
          },
          "shapedefaults": {
           "line": {
            "color": "#2a3f5f"
           }
          },
          "ternary": {
           "aaxis": {
            "gridcolor": "white",
            "linecolor": "white",
            "ticks": ""
           },
           "baxis": {
            "gridcolor": "white",
            "linecolor": "white",
            "ticks": ""
           },
           "bgcolor": "#E5ECF6",
           "caxis": {
            "gridcolor": "white",
            "linecolor": "white",
            "ticks": ""
           }
          },
          "title": {
           "x": 0.05
          },
          "xaxis": {
           "automargin": true,
           "gridcolor": "white",
           "linecolor": "white",
           "ticks": "",
           "title": {
            "standoff": 15
           },
           "zerolinecolor": "white",
           "zerolinewidth": 2
          },
          "yaxis": {
           "automargin": true,
           "gridcolor": "white",
           "linecolor": "white",
           "ticks": "",
           "title": {
            "standoff": 15
           },
           "zerolinecolor": "white",
           "zerolinewidth": 2
          }
         }
        },
        "title": {
         "text": "Confusion Matrix for Gradient Boosting"
        },
        "xaxis": {
         "scaleanchor": "y",
         "scaleratio": 1,
         "title": {
          "text": "Predicted Label"
         }
        },
        "yaxis": {
         "title": {
          "text": "Actual Label"
         }
        }
       }
      }
     },
     "metadata": {},
     "output_type": "display_data"
    },
    {
     "name": "stdout",
     "output_type": "stream",
     "text": [
      "\n",
      "Training AdaBoost...\n"
     ]
    },
    {
     "name": "stderr",
     "output_type": "stream",
     "text": [
      "/home/nirav24/.local/lib/python3.12/site-packages/sklearn/ensemble/_weight_boosting.py:527: FutureWarning:\n",
      "\n",
      "The SAMME.R algorithm (the default) is deprecated and will be removed in 1.6. Use the SAMME algorithm to circumvent this warning.\n",
      "\n",
      "/home/nirav24/.local/lib/python3.12/site-packages/sklearn/metrics/_classification.py:1531: UndefinedMetricWarning:\n",
      "\n",
      "Precision is ill-defined and being set to 0.0 in labels with no predicted samples. Use `zero_division` parameter to control this behavior.\n",
      "\n",
      "/home/nirav24/.local/lib/python3.12/site-packages/sklearn/metrics/_classification.py:1531: UndefinedMetricWarning:\n",
      "\n",
      "Precision is ill-defined and being set to 0.0 in labels with no predicted samples. Use `zero_division` parameter to control this behavior.\n",
      "\n",
      "/home/nirav24/.local/lib/python3.12/site-packages/sklearn/metrics/_classification.py:1531: UndefinedMetricWarning:\n",
      "\n",
      "Precision is ill-defined and being set to 0.0 in labels with no predicted samples. Use `zero_division` parameter to control this behavior.\n",
      "\n",
      "/home/nirav24/.local/lib/python3.12/site-packages/sklearn/metrics/_classification.py:1531: UndefinedMetricWarning:\n",
      "\n",
      "Precision is ill-defined and being set to 0.0 in labels with no predicted samples. Use `zero_division` parameter to control this behavior.\n",
      "\n",
      "/home/nirav24/.local/lib/python3.12/site-packages/sklearn/metrics/_classification.py:1531: UndefinedMetricWarning:\n",
      "\n",
      "Precision is ill-defined and being set to 0.0 in labels with no predicted samples. Use `zero_division` parameter to control this behavior.\n",
      "\n",
      "/home/nirav24/.local/lib/python3.12/site-packages/sklearn/metrics/_classification.py:1531: UndefinedMetricWarning:\n",
      "\n",
      "Precision is ill-defined and being set to 0.0 in labels with no predicted samples. Use `zero_division` parameter to control this behavior.\n",
      "\n",
      "/home/nirav24/.local/lib/python3.12/site-packages/sklearn/metrics/_classification.py:1531: UndefinedMetricWarning:\n",
      "\n",
      "Precision is ill-defined and being set to 0.0 in labels with no predicted samples. Use `zero_division` parameter to control this behavior.\n",
      "\n",
      "/home/nirav24/.local/lib/python3.12/site-packages/sklearn/metrics/_classification.py:1531: UndefinedMetricWarning:\n",
      "\n",
      "Precision is ill-defined and being set to 0.0 in labels with no predicted samples. Use `zero_division` parameter to control this behavior.\n",
      "\n"
     ]
    },
    {
     "data": {
      "application/vnd.plotly.v1+json": {
       "config": {
        "plotlyServerURL": "https://plot.ly"
       },
       "data": [
        {
         "colorscale": [
          [
           0,
           "rgb(247,251,255)"
          ],
          [
           0.125,
           "rgb(222,235,247)"
          ],
          [
           0.25,
           "rgb(198,219,239)"
          ],
          [
           0.375,
           "rgb(158,202,225)"
          ],
          [
           0.5,
           "rgb(107,174,214)"
          ],
          [
           0.625,
           "rgb(66,146,198)"
          ],
          [
           0.75,
           "rgb(33,113,181)"
          ],
          [
           0.875,
           "rgb(8,81,156)"
          ],
          [
           1,
           "rgb(8,48,107)"
          ]
         ],
         "showscale": true,
         "text": [
          [
           23,
           0,
           0,
           0,
           0,
           0
          ],
          [
           25,
           0,
           0,
           0,
           0,
           0
          ],
          [
           0,
           0,
           17,
           0,
           0,
           0
          ],
          [
           36,
           0,
           0,
           0,
           0,
           0
          ],
          [
           0,
           0,
           0,
           0,
           23,
           0
          ],
          [
           0,
           0,
           0,
           0,
           0,
           25
          ]
         ],
         "texttemplate": "%{text}",
         "type": "heatmap",
         "x": [
          "Predicted 0",
          "Predicted 1",
          "Predicted 2",
          "Predicted 3",
          "Predicted 4",
          "Predicted 5"
         ],
         "y": [
          "Actual 0",
          "Actual 1",
          "Actual 2",
          "Actual 3",
          "Actual 4",
          "Actual 5"
         ],
         "z": [
          [
           23,
           0,
           0,
           0,
           0,
           0
          ],
          [
           25,
           0,
           0,
           0,
           0,
           0
          ],
          [
           0,
           0,
           17,
           0,
           0,
           0
          ],
          [
           36,
           0,
           0,
           0,
           0,
           0
          ],
          [
           0,
           0,
           0,
           0,
           23,
           0
          ],
          [
           0,
           0,
           0,
           0,
           0,
           25
          ]
         ]
        }
       ],
       "layout": {
        "template": {
         "data": {
          "bar": [
           {
            "error_x": {
             "color": "#2a3f5f"
            },
            "error_y": {
             "color": "#2a3f5f"
            },
            "marker": {
             "line": {
              "color": "#E5ECF6",
              "width": 0.5
             },
             "pattern": {
              "fillmode": "overlay",
              "size": 10,
              "solidity": 0.2
             }
            },
            "type": "bar"
           }
          ],
          "barpolar": [
           {
            "marker": {
             "line": {
              "color": "#E5ECF6",
              "width": 0.5
             },
             "pattern": {
              "fillmode": "overlay",
              "size": 10,
              "solidity": 0.2
             }
            },
            "type": "barpolar"
           }
          ],
          "carpet": [
           {
            "aaxis": {
             "endlinecolor": "#2a3f5f",
             "gridcolor": "white",
             "linecolor": "white",
             "minorgridcolor": "white",
             "startlinecolor": "#2a3f5f"
            },
            "baxis": {
             "endlinecolor": "#2a3f5f",
             "gridcolor": "white",
             "linecolor": "white",
             "minorgridcolor": "white",
             "startlinecolor": "#2a3f5f"
            },
            "type": "carpet"
           }
          ],
          "choropleth": [
           {
            "colorbar": {
             "outlinewidth": 0,
             "ticks": ""
            },
            "type": "choropleth"
           }
          ],
          "contour": [
           {
            "colorbar": {
             "outlinewidth": 0,
             "ticks": ""
            },
            "colorscale": [
             [
              0,
              "#0d0887"
             ],
             [
              0.1111111111111111,
              "#46039f"
             ],
             [
              0.2222222222222222,
              "#7201a8"
             ],
             [
              0.3333333333333333,
              "#9c179e"
             ],
             [
              0.4444444444444444,
              "#bd3786"
             ],
             [
              0.5555555555555556,
              "#d8576b"
             ],
             [
              0.6666666666666666,
              "#ed7953"
             ],
             [
              0.7777777777777778,
              "#fb9f3a"
             ],
             [
              0.8888888888888888,
              "#fdca26"
             ],
             [
              1,
              "#f0f921"
             ]
            ],
            "type": "contour"
           }
          ],
          "contourcarpet": [
           {
            "colorbar": {
             "outlinewidth": 0,
             "ticks": ""
            },
            "type": "contourcarpet"
           }
          ],
          "heatmap": [
           {
            "colorbar": {
             "outlinewidth": 0,
             "ticks": ""
            },
            "colorscale": [
             [
              0,
              "#0d0887"
             ],
             [
              0.1111111111111111,
              "#46039f"
             ],
             [
              0.2222222222222222,
              "#7201a8"
             ],
             [
              0.3333333333333333,
              "#9c179e"
             ],
             [
              0.4444444444444444,
              "#bd3786"
             ],
             [
              0.5555555555555556,
              "#d8576b"
             ],
             [
              0.6666666666666666,
              "#ed7953"
             ],
             [
              0.7777777777777778,
              "#fb9f3a"
             ],
             [
              0.8888888888888888,
              "#fdca26"
             ],
             [
              1,
              "#f0f921"
             ]
            ],
            "type": "heatmap"
           }
          ],
          "heatmapgl": [
           {
            "colorbar": {
             "outlinewidth": 0,
             "ticks": ""
            },
            "colorscale": [
             [
              0,
              "#0d0887"
             ],
             [
              0.1111111111111111,
              "#46039f"
             ],
             [
              0.2222222222222222,
              "#7201a8"
             ],
             [
              0.3333333333333333,
              "#9c179e"
             ],
             [
              0.4444444444444444,
              "#bd3786"
             ],
             [
              0.5555555555555556,
              "#d8576b"
             ],
             [
              0.6666666666666666,
              "#ed7953"
             ],
             [
              0.7777777777777778,
              "#fb9f3a"
             ],
             [
              0.8888888888888888,
              "#fdca26"
             ],
             [
              1,
              "#f0f921"
             ]
            ],
            "type": "heatmapgl"
           }
          ],
          "histogram": [
           {
            "marker": {
             "pattern": {
              "fillmode": "overlay",
              "size": 10,
              "solidity": 0.2
             }
            },
            "type": "histogram"
           }
          ],
          "histogram2d": [
           {
            "colorbar": {
             "outlinewidth": 0,
             "ticks": ""
            },
            "colorscale": [
             [
              0,
              "#0d0887"
             ],
             [
              0.1111111111111111,
              "#46039f"
             ],
             [
              0.2222222222222222,
              "#7201a8"
             ],
             [
              0.3333333333333333,
              "#9c179e"
             ],
             [
              0.4444444444444444,
              "#bd3786"
             ],
             [
              0.5555555555555556,
              "#d8576b"
             ],
             [
              0.6666666666666666,
              "#ed7953"
             ],
             [
              0.7777777777777778,
              "#fb9f3a"
             ],
             [
              0.8888888888888888,
              "#fdca26"
             ],
             [
              1,
              "#f0f921"
             ]
            ],
            "type": "histogram2d"
           }
          ],
          "histogram2dcontour": [
           {
            "colorbar": {
             "outlinewidth": 0,
             "ticks": ""
            },
            "colorscale": [
             [
              0,
              "#0d0887"
             ],
             [
              0.1111111111111111,
              "#46039f"
             ],
             [
              0.2222222222222222,
              "#7201a8"
             ],
             [
              0.3333333333333333,
              "#9c179e"
             ],
             [
              0.4444444444444444,
              "#bd3786"
             ],
             [
              0.5555555555555556,
              "#d8576b"
             ],
             [
              0.6666666666666666,
              "#ed7953"
             ],
             [
              0.7777777777777778,
              "#fb9f3a"
             ],
             [
              0.8888888888888888,
              "#fdca26"
             ],
             [
              1,
              "#f0f921"
             ]
            ],
            "type": "histogram2dcontour"
           }
          ],
          "mesh3d": [
           {
            "colorbar": {
             "outlinewidth": 0,
             "ticks": ""
            },
            "type": "mesh3d"
           }
          ],
          "parcoords": [
           {
            "line": {
             "colorbar": {
              "outlinewidth": 0,
              "ticks": ""
             }
            },
            "type": "parcoords"
           }
          ],
          "pie": [
           {
            "automargin": true,
            "type": "pie"
           }
          ],
          "scatter": [
           {
            "fillpattern": {
             "fillmode": "overlay",
             "size": 10,
             "solidity": 0.2
            },
            "type": "scatter"
           }
          ],
          "scatter3d": [
           {
            "line": {
             "colorbar": {
              "outlinewidth": 0,
              "ticks": ""
             }
            },
            "marker": {
             "colorbar": {
              "outlinewidth": 0,
              "ticks": ""
             }
            },
            "type": "scatter3d"
           }
          ],
          "scattercarpet": [
           {
            "marker": {
             "colorbar": {
              "outlinewidth": 0,
              "ticks": ""
             }
            },
            "type": "scattercarpet"
           }
          ],
          "scattergeo": [
           {
            "marker": {
             "colorbar": {
              "outlinewidth": 0,
              "ticks": ""
             }
            },
            "type": "scattergeo"
           }
          ],
          "scattergl": [
           {
            "marker": {
             "colorbar": {
              "outlinewidth": 0,
              "ticks": ""
             }
            },
            "type": "scattergl"
           }
          ],
          "scattermapbox": [
           {
            "marker": {
             "colorbar": {
              "outlinewidth": 0,
              "ticks": ""
             }
            },
            "type": "scattermapbox"
           }
          ],
          "scatterpolar": [
           {
            "marker": {
             "colorbar": {
              "outlinewidth": 0,
              "ticks": ""
             }
            },
            "type": "scatterpolar"
           }
          ],
          "scatterpolargl": [
           {
            "marker": {
             "colorbar": {
              "outlinewidth": 0,
              "ticks": ""
             }
            },
            "type": "scatterpolargl"
           }
          ],
          "scatterternary": [
           {
            "marker": {
             "colorbar": {
              "outlinewidth": 0,
              "ticks": ""
             }
            },
            "type": "scatterternary"
           }
          ],
          "surface": [
           {
            "colorbar": {
             "outlinewidth": 0,
             "ticks": ""
            },
            "colorscale": [
             [
              0,
              "#0d0887"
             ],
             [
              0.1111111111111111,
              "#46039f"
             ],
             [
              0.2222222222222222,
              "#7201a8"
             ],
             [
              0.3333333333333333,
              "#9c179e"
             ],
             [
              0.4444444444444444,
              "#bd3786"
             ],
             [
              0.5555555555555556,
              "#d8576b"
             ],
             [
              0.6666666666666666,
              "#ed7953"
             ],
             [
              0.7777777777777778,
              "#fb9f3a"
             ],
             [
              0.8888888888888888,
              "#fdca26"
             ],
             [
              1,
              "#f0f921"
             ]
            ],
            "type": "surface"
           }
          ],
          "table": [
           {
            "cells": {
             "fill": {
              "color": "#EBF0F8"
             },
             "line": {
              "color": "white"
             }
            },
            "header": {
             "fill": {
              "color": "#C8D4E3"
             },
             "line": {
              "color": "white"
             }
            },
            "type": "table"
           }
          ]
         },
         "layout": {
          "annotationdefaults": {
           "arrowcolor": "#2a3f5f",
           "arrowhead": 0,
           "arrowwidth": 1
          },
          "autotypenumbers": "strict",
          "coloraxis": {
           "colorbar": {
            "outlinewidth": 0,
            "ticks": ""
           }
          },
          "colorscale": {
           "diverging": [
            [
             0,
             "#8e0152"
            ],
            [
             0.1,
             "#c51b7d"
            ],
            [
             0.2,
             "#de77ae"
            ],
            [
             0.3,
             "#f1b6da"
            ],
            [
             0.4,
             "#fde0ef"
            ],
            [
             0.5,
             "#f7f7f7"
            ],
            [
             0.6,
             "#e6f5d0"
            ],
            [
             0.7,
             "#b8e186"
            ],
            [
             0.8,
             "#7fbc41"
            ],
            [
             0.9,
             "#4d9221"
            ],
            [
             1,
             "#276419"
            ]
           ],
           "sequential": [
            [
             0,
             "#0d0887"
            ],
            [
             0.1111111111111111,
             "#46039f"
            ],
            [
             0.2222222222222222,
             "#7201a8"
            ],
            [
             0.3333333333333333,
             "#9c179e"
            ],
            [
             0.4444444444444444,
             "#bd3786"
            ],
            [
             0.5555555555555556,
             "#d8576b"
            ],
            [
             0.6666666666666666,
             "#ed7953"
            ],
            [
             0.7777777777777778,
             "#fb9f3a"
            ],
            [
             0.8888888888888888,
             "#fdca26"
            ],
            [
             1,
             "#f0f921"
            ]
           ],
           "sequentialminus": [
            [
             0,
             "#0d0887"
            ],
            [
             0.1111111111111111,
             "#46039f"
            ],
            [
             0.2222222222222222,
             "#7201a8"
            ],
            [
             0.3333333333333333,
             "#9c179e"
            ],
            [
             0.4444444444444444,
             "#bd3786"
            ],
            [
             0.5555555555555556,
             "#d8576b"
            ],
            [
             0.6666666666666666,
             "#ed7953"
            ],
            [
             0.7777777777777778,
             "#fb9f3a"
            ],
            [
             0.8888888888888888,
             "#fdca26"
            ],
            [
             1,
             "#f0f921"
            ]
           ]
          },
          "colorway": [
           "#636efa",
           "#EF553B",
           "#00cc96",
           "#ab63fa",
           "#FFA15A",
           "#19d3f3",
           "#FF6692",
           "#B6E880",
           "#FF97FF",
           "#FECB52"
          ],
          "font": {
           "color": "#2a3f5f"
          },
          "geo": {
           "bgcolor": "white",
           "lakecolor": "white",
           "landcolor": "#E5ECF6",
           "showlakes": true,
           "showland": true,
           "subunitcolor": "white"
          },
          "hoverlabel": {
           "align": "left"
          },
          "hovermode": "closest",
          "mapbox": {
           "style": "light"
          },
          "paper_bgcolor": "white",
          "plot_bgcolor": "#E5ECF6",
          "polar": {
           "angularaxis": {
            "gridcolor": "white",
            "linecolor": "white",
            "ticks": ""
           },
           "bgcolor": "#E5ECF6",
           "radialaxis": {
            "gridcolor": "white",
            "linecolor": "white",
            "ticks": ""
           }
          },
          "scene": {
           "xaxis": {
            "backgroundcolor": "#E5ECF6",
            "gridcolor": "white",
            "gridwidth": 2,
            "linecolor": "white",
            "showbackground": true,
            "ticks": "",
            "zerolinecolor": "white"
           },
           "yaxis": {
            "backgroundcolor": "#E5ECF6",
            "gridcolor": "white",
            "gridwidth": 2,
            "linecolor": "white",
            "showbackground": true,
            "ticks": "",
            "zerolinecolor": "white"
           },
           "zaxis": {
            "backgroundcolor": "#E5ECF6",
            "gridcolor": "white",
            "gridwidth": 2,
            "linecolor": "white",
            "showbackground": true,
            "ticks": "",
            "zerolinecolor": "white"
           }
          },
          "shapedefaults": {
           "line": {
            "color": "#2a3f5f"
           }
          },
          "ternary": {
           "aaxis": {
            "gridcolor": "white",
            "linecolor": "white",
            "ticks": ""
           },
           "baxis": {
            "gridcolor": "white",
            "linecolor": "white",
            "ticks": ""
           },
           "bgcolor": "#E5ECF6",
           "caxis": {
            "gridcolor": "white",
            "linecolor": "white",
            "ticks": ""
           }
          },
          "title": {
           "x": 0.05
          },
          "xaxis": {
           "automargin": true,
           "gridcolor": "white",
           "linecolor": "white",
           "ticks": "",
           "title": {
            "standoff": 15
           },
           "zerolinecolor": "white",
           "zerolinewidth": 2
          },
          "yaxis": {
           "automargin": true,
           "gridcolor": "white",
           "linecolor": "white",
           "ticks": "",
           "title": {
            "standoff": 15
           },
           "zerolinecolor": "white",
           "zerolinewidth": 2
          }
         }
        },
        "title": {
         "text": "Confusion Matrix for AdaBoost"
        },
        "xaxis": {
         "scaleanchor": "y",
         "scaleratio": 1,
         "title": {
          "text": "Predicted Label"
         }
        },
        "yaxis": {
         "title": {
          "text": "Actual Label"
         }
        }
       }
      }
     },
     "metadata": {},
     "output_type": "display_data"
    },
    {
     "name": "stdout",
     "output_type": "stream",
     "text": [
      "\n",
      "Training Naive Bayes...\n"
     ]
    },
    {
     "data": {
      "application/vnd.plotly.v1+json": {
       "config": {
        "plotlyServerURL": "https://plot.ly"
       },
       "data": [
        {
         "colorscale": [
          [
           0,
           "rgb(247,251,255)"
          ],
          [
           0.125,
           "rgb(222,235,247)"
          ],
          [
           0.25,
           "rgb(198,219,239)"
          ],
          [
           0.375,
           "rgb(158,202,225)"
          ],
          [
           0.5,
           "rgb(107,174,214)"
          ],
          [
           0.625,
           "rgb(66,146,198)"
          ],
          [
           0.75,
           "rgb(33,113,181)"
          ],
          [
           0.875,
           "rgb(8,81,156)"
          ],
          [
           1,
           "rgb(8,48,107)"
          ]
         ],
         "showscale": true,
         "text": [
          [
           23,
           0,
           0,
           0,
           0,
           0
          ],
          [
           0,
           25,
           0,
           0,
           0,
           0
          ],
          [
           0,
           0,
           17,
           0,
           0,
           0
          ],
          [
           0,
           0,
           0,
           36,
           0,
           0
          ],
          [
           0,
           0,
           0,
           0,
           23,
           0
          ],
          [
           0,
           0,
           0,
           0,
           0,
           25
          ]
         ],
         "texttemplate": "%{text}",
         "type": "heatmap",
         "x": [
          "Predicted 0",
          "Predicted 1",
          "Predicted 2",
          "Predicted 3",
          "Predicted 4",
          "Predicted 5"
         ],
         "y": [
          "Actual 0",
          "Actual 1",
          "Actual 2",
          "Actual 3",
          "Actual 4",
          "Actual 5"
         ],
         "z": [
          [
           23,
           0,
           0,
           0,
           0,
           0
          ],
          [
           0,
           25,
           0,
           0,
           0,
           0
          ],
          [
           0,
           0,
           17,
           0,
           0,
           0
          ],
          [
           0,
           0,
           0,
           36,
           0,
           0
          ],
          [
           0,
           0,
           0,
           0,
           23,
           0
          ],
          [
           0,
           0,
           0,
           0,
           0,
           25
          ]
         ]
        }
       ],
       "layout": {
        "template": {
         "data": {
          "bar": [
           {
            "error_x": {
             "color": "#2a3f5f"
            },
            "error_y": {
             "color": "#2a3f5f"
            },
            "marker": {
             "line": {
              "color": "#E5ECF6",
              "width": 0.5
             },
             "pattern": {
              "fillmode": "overlay",
              "size": 10,
              "solidity": 0.2
             }
            },
            "type": "bar"
           }
          ],
          "barpolar": [
           {
            "marker": {
             "line": {
              "color": "#E5ECF6",
              "width": 0.5
             },
             "pattern": {
              "fillmode": "overlay",
              "size": 10,
              "solidity": 0.2
             }
            },
            "type": "barpolar"
           }
          ],
          "carpet": [
           {
            "aaxis": {
             "endlinecolor": "#2a3f5f",
             "gridcolor": "white",
             "linecolor": "white",
             "minorgridcolor": "white",
             "startlinecolor": "#2a3f5f"
            },
            "baxis": {
             "endlinecolor": "#2a3f5f",
             "gridcolor": "white",
             "linecolor": "white",
             "minorgridcolor": "white",
             "startlinecolor": "#2a3f5f"
            },
            "type": "carpet"
           }
          ],
          "choropleth": [
           {
            "colorbar": {
             "outlinewidth": 0,
             "ticks": ""
            },
            "type": "choropleth"
           }
          ],
          "contour": [
           {
            "colorbar": {
             "outlinewidth": 0,
             "ticks": ""
            },
            "colorscale": [
             [
              0,
              "#0d0887"
             ],
             [
              0.1111111111111111,
              "#46039f"
             ],
             [
              0.2222222222222222,
              "#7201a8"
             ],
             [
              0.3333333333333333,
              "#9c179e"
             ],
             [
              0.4444444444444444,
              "#bd3786"
             ],
             [
              0.5555555555555556,
              "#d8576b"
             ],
             [
              0.6666666666666666,
              "#ed7953"
             ],
             [
              0.7777777777777778,
              "#fb9f3a"
             ],
             [
              0.8888888888888888,
              "#fdca26"
             ],
             [
              1,
              "#f0f921"
             ]
            ],
            "type": "contour"
           }
          ],
          "contourcarpet": [
           {
            "colorbar": {
             "outlinewidth": 0,
             "ticks": ""
            },
            "type": "contourcarpet"
           }
          ],
          "heatmap": [
           {
            "colorbar": {
             "outlinewidth": 0,
             "ticks": ""
            },
            "colorscale": [
             [
              0,
              "#0d0887"
             ],
             [
              0.1111111111111111,
              "#46039f"
             ],
             [
              0.2222222222222222,
              "#7201a8"
             ],
             [
              0.3333333333333333,
              "#9c179e"
             ],
             [
              0.4444444444444444,
              "#bd3786"
             ],
             [
              0.5555555555555556,
              "#d8576b"
             ],
             [
              0.6666666666666666,
              "#ed7953"
             ],
             [
              0.7777777777777778,
              "#fb9f3a"
             ],
             [
              0.8888888888888888,
              "#fdca26"
             ],
             [
              1,
              "#f0f921"
             ]
            ],
            "type": "heatmap"
           }
          ],
          "heatmapgl": [
           {
            "colorbar": {
             "outlinewidth": 0,
             "ticks": ""
            },
            "colorscale": [
             [
              0,
              "#0d0887"
             ],
             [
              0.1111111111111111,
              "#46039f"
             ],
             [
              0.2222222222222222,
              "#7201a8"
             ],
             [
              0.3333333333333333,
              "#9c179e"
             ],
             [
              0.4444444444444444,
              "#bd3786"
             ],
             [
              0.5555555555555556,
              "#d8576b"
             ],
             [
              0.6666666666666666,
              "#ed7953"
             ],
             [
              0.7777777777777778,
              "#fb9f3a"
             ],
             [
              0.8888888888888888,
              "#fdca26"
             ],
             [
              1,
              "#f0f921"
             ]
            ],
            "type": "heatmapgl"
           }
          ],
          "histogram": [
           {
            "marker": {
             "pattern": {
              "fillmode": "overlay",
              "size": 10,
              "solidity": 0.2
             }
            },
            "type": "histogram"
           }
          ],
          "histogram2d": [
           {
            "colorbar": {
             "outlinewidth": 0,
             "ticks": ""
            },
            "colorscale": [
             [
              0,
              "#0d0887"
             ],
             [
              0.1111111111111111,
              "#46039f"
             ],
             [
              0.2222222222222222,
              "#7201a8"
             ],
             [
              0.3333333333333333,
              "#9c179e"
             ],
             [
              0.4444444444444444,
              "#bd3786"
             ],
             [
              0.5555555555555556,
              "#d8576b"
             ],
             [
              0.6666666666666666,
              "#ed7953"
             ],
             [
              0.7777777777777778,
              "#fb9f3a"
             ],
             [
              0.8888888888888888,
              "#fdca26"
             ],
             [
              1,
              "#f0f921"
             ]
            ],
            "type": "histogram2d"
           }
          ],
          "histogram2dcontour": [
           {
            "colorbar": {
             "outlinewidth": 0,
             "ticks": ""
            },
            "colorscale": [
             [
              0,
              "#0d0887"
             ],
             [
              0.1111111111111111,
              "#46039f"
             ],
             [
              0.2222222222222222,
              "#7201a8"
             ],
             [
              0.3333333333333333,
              "#9c179e"
             ],
             [
              0.4444444444444444,
              "#bd3786"
             ],
             [
              0.5555555555555556,
              "#d8576b"
             ],
             [
              0.6666666666666666,
              "#ed7953"
             ],
             [
              0.7777777777777778,
              "#fb9f3a"
             ],
             [
              0.8888888888888888,
              "#fdca26"
             ],
             [
              1,
              "#f0f921"
             ]
            ],
            "type": "histogram2dcontour"
           }
          ],
          "mesh3d": [
           {
            "colorbar": {
             "outlinewidth": 0,
             "ticks": ""
            },
            "type": "mesh3d"
           }
          ],
          "parcoords": [
           {
            "line": {
             "colorbar": {
              "outlinewidth": 0,
              "ticks": ""
             }
            },
            "type": "parcoords"
           }
          ],
          "pie": [
           {
            "automargin": true,
            "type": "pie"
           }
          ],
          "scatter": [
           {
            "fillpattern": {
             "fillmode": "overlay",
             "size": 10,
             "solidity": 0.2
            },
            "type": "scatter"
           }
          ],
          "scatter3d": [
           {
            "line": {
             "colorbar": {
              "outlinewidth": 0,
              "ticks": ""
             }
            },
            "marker": {
             "colorbar": {
              "outlinewidth": 0,
              "ticks": ""
             }
            },
            "type": "scatter3d"
           }
          ],
          "scattercarpet": [
           {
            "marker": {
             "colorbar": {
              "outlinewidth": 0,
              "ticks": ""
             }
            },
            "type": "scattercarpet"
           }
          ],
          "scattergeo": [
           {
            "marker": {
             "colorbar": {
              "outlinewidth": 0,
              "ticks": ""
             }
            },
            "type": "scattergeo"
           }
          ],
          "scattergl": [
           {
            "marker": {
             "colorbar": {
              "outlinewidth": 0,
              "ticks": ""
             }
            },
            "type": "scattergl"
           }
          ],
          "scattermapbox": [
           {
            "marker": {
             "colorbar": {
              "outlinewidth": 0,
              "ticks": ""
             }
            },
            "type": "scattermapbox"
           }
          ],
          "scatterpolar": [
           {
            "marker": {
             "colorbar": {
              "outlinewidth": 0,
              "ticks": ""
             }
            },
            "type": "scatterpolar"
           }
          ],
          "scatterpolargl": [
           {
            "marker": {
             "colorbar": {
              "outlinewidth": 0,
              "ticks": ""
             }
            },
            "type": "scatterpolargl"
           }
          ],
          "scatterternary": [
           {
            "marker": {
             "colorbar": {
              "outlinewidth": 0,
              "ticks": ""
             }
            },
            "type": "scatterternary"
           }
          ],
          "surface": [
           {
            "colorbar": {
             "outlinewidth": 0,
             "ticks": ""
            },
            "colorscale": [
             [
              0,
              "#0d0887"
             ],
             [
              0.1111111111111111,
              "#46039f"
             ],
             [
              0.2222222222222222,
              "#7201a8"
             ],
             [
              0.3333333333333333,
              "#9c179e"
             ],
             [
              0.4444444444444444,
              "#bd3786"
             ],
             [
              0.5555555555555556,
              "#d8576b"
             ],
             [
              0.6666666666666666,
              "#ed7953"
             ],
             [
              0.7777777777777778,
              "#fb9f3a"
             ],
             [
              0.8888888888888888,
              "#fdca26"
             ],
             [
              1,
              "#f0f921"
             ]
            ],
            "type": "surface"
           }
          ],
          "table": [
           {
            "cells": {
             "fill": {
              "color": "#EBF0F8"
             },
             "line": {
              "color": "white"
             }
            },
            "header": {
             "fill": {
              "color": "#C8D4E3"
             },
             "line": {
              "color": "white"
             }
            },
            "type": "table"
           }
          ]
         },
         "layout": {
          "annotationdefaults": {
           "arrowcolor": "#2a3f5f",
           "arrowhead": 0,
           "arrowwidth": 1
          },
          "autotypenumbers": "strict",
          "coloraxis": {
           "colorbar": {
            "outlinewidth": 0,
            "ticks": ""
           }
          },
          "colorscale": {
           "diverging": [
            [
             0,
             "#8e0152"
            ],
            [
             0.1,
             "#c51b7d"
            ],
            [
             0.2,
             "#de77ae"
            ],
            [
             0.3,
             "#f1b6da"
            ],
            [
             0.4,
             "#fde0ef"
            ],
            [
             0.5,
             "#f7f7f7"
            ],
            [
             0.6,
             "#e6f5d0"
            ],
            [
             0.7,
             "#b8e186"
            ],
            [
             0.8,
             "#7fbc41"
            ],
            [
             0.9,
             "#4d9221"
            ],
            [
             1,
             "#276419"
            ]
           ],
           "sequential": [
            [
             0,
             "#0d0887"
            ],
            [
             0.1111111111111111,
             "#46039f"
            ],
            [
             0.2222222222222222,
             "#7201a8"
            ],
            [
             0.3333333333333333,
             "#9c179e"
            ],
            [
             0.4444444444444444,
             "#bd3786"
            ],
            [
             0.5555555555555556,
             "#d8576b"
            ],
            [
             0.6666666666666666,
             "#ed7953"
            ],
            [
             0.7777777777777778,
             "#fb9f3a"
            ],
            [
             0.8888888888888888,
             "#fdca26"
            ],
            [
             1,
             "#f0f921"
            ]
           ],
           "sequentialminus": [
            [
             0,
             "#0d0887"
            ],
            [
             0.1111111111111111,
             "#46039f"
            ],
            [
             0.2222222222222222,
             "#7201a8"
            ],
            [
             0.3333333333333333,
             "#9c179e"
            ],
            [
             0.4444444444444444,
             "#bd3786"
            ],
            [
             0.5555555555555556,
             "#d8576b"
            ],
            [
             0.6666666666666666,
             "#ed7953"
            ],
            [
             0.7777777777777778,
             "#fb9f3a"
            ],
            [
             0.8888888888888888,
             "#fdca26"
            ],
            [
             1,
             "#f0f921"
            ]
           ]
          },
          "colorway": [
           "#636efa",
           "#EF553B",
           "#00cc96",
           "#ab63fa",
           "#FFA15A",
           "#19d3f3",
           "#FF6692",
           "#B6E880",
           "#FF97FF",
           "#FECB52"
          ],
          "font": {
           "color": "#2a3f5f"
          },
          "geo": {
           "bgcolor": "white",
           "lakecolor": "white",
           "landcolor": "#E5ECF6",
           "showlakes": true,
           "showland": true,
           "subunitcolor": "white"
          },
          "hoverlabel": {
           "align": "left"
          },
          "hovermode": "closest",
          "mapbox": {
           "style": "light"
          },
          "paper_bgcolor": "white",
          "plot_bgcolor": "#E5ECF6",
          "polar": {
           "angularaxis": {
            "gridcolor": "white",
            "linecolor": "white",
            "ticks": ""
           },
           "bgcolor": "#E5ECF6",
           "radialaxis": {
            "gridcolor": "white",
            "linecolor": "white",
            "ticks": ""
           }
          },
          "scene": {
           "xaxis": {
            "backgroundcolor": "#E5ECF6",
            "gridcolor": "white",
            "gridwidth": 2,
            "linecolor": "white",
            "showbackground": true,
            "ticks": "",
            "zerolinecolor": "white"
           },
           "yaxis": {
            "backgroundcolor": "#E5ECF6",
            "gridcolor": "white",
            "gridwidth": 2,
            "linecolor": "white",
            "showbackground": true,
            "ticks": "",
            "zerolinecolor": "white"
           },
           "zaxis": {
            "backgroundcolor": "#E5ECF6",
            "gridcolor": "white",
            "gridwidth": 2,
            "linecolor": "white",
            "showbackground": true,
            "ticks": "",
            "zerolinecolor": "white"
           }
          },
          "shapedefaults": {
           "line": {
            "color": "#2a3f5f"
           }
          },
          "ternary": {
           "aaxis": {
            "gridcolor": "white",
            "linecolor": "white",
            "ticks": ""
           },
           "baxis": {
            "gridcolor": "white",
            "linecolor": "white",
            "ticks": ""
           },
           "bgcolor": "#E5ECF6",
           "caxis": {
            "gridcolor": "white",
            "linecolor": "white",
            "ticks": ""
           }
          },
          "title": {
           "x": 0.05
          },
          "xaxis": {
           "automargin": true,
           "gridcolor": "white",
           "linecolor": "white",
           "ticks": "",
           "title": {
            "standoff": 15
           },
           "zerolinecolor": "white",
           "zerolinewidth": 2
          },
          "yaxis": {
           "automargin": true,
           "gridcolor": "white",
           "linecolor": "white",
           "ticks": "",
           "title": {
            "standoff": 15
           },
           "zerolinecolor": "white",
           "zerolinewidth": 2
          }
         }
        },
        "title": {
         "text": "Confusion Matrix for Naive Bayes"
        },
        "xaxis": {
         "scaleanchor": "y",
         "scaleratio": 1,
         "title": {
          "text": "Predicted Label"
         }
        },
        "yaxis": {
         "title": {
          "text": "Actual Label"
         }
        }
       }
      }
     },
     "metadata": {},
     "output_type": "display_data"
    },
    {
     "name": "stdout",
     "output_type": "stream",
     "text": [
      "\n",
      "Training Decision Tree...\n"
     ]
    },
    {
     "data": {
      "application/vnd.plotly.v1+json": {
       "config": {
        "plotlyServerURL": "https://plot.ly"
       },
       "data": [
        {
         "colorscale": [
          [
           0,
           "rgb(247,251,255)"
          ],
          [
           0.125,
           "rgb(222,235,247)"
          ],
          [
           0.25,
           "rgb(198,219,239)"
          ],
          [
           0.375,
           "rgb(158,202,225)"
          ],
          [
           0.5,
           "rgb(107,174,214)"
          ],
          [
           0.625,
           "rgb(66,146,198)"
          ],
          [
           0.75,
           "rgb(33,113,181)"
          ],
          [
           0.875,
           "rgb(8,81,156)"
          ],
          [
           1,
           "rgb(8,48,107)"
          ]
         ],
         "showscale": true,
         "text": [
          [
           23,
           0,
           0,
           0,
           0,
           0
          ],
          [
           0,
           25,
           0,
           0,
           0,
           0
          ],
          [
           0,
           0,
           17,
           0,
           0,
           0
          ],
          [
           0,
           0,
           0,
           36,
           0,
           0
          ],
          [
           0,
           0,
           0,
           0,
           23,
           0
          ],
          [
           0,
           0,
           0,
           0,
           0,
           25
          ]
         ],
         "texttemplate": "%{text}",
         "type": "heatmap",
         "x": [
          "Predicted 0",
          "Predicted 1",
          "Predicted 2",
          "Predicted 3",
          "Predicted 4",
          "Predicted 5"
         ],
         "y": [
          "Actual 0",
          "Actual 1",
          "Actual 2",
          "Actual 3",
          "Actual 4",
          "Actual 5"
         ],
         "z": [
          [
           23,
           0,
           0,
           0,
           0,
           0
          ],
          [
           0,
           25,
           0,
           0,
           0,
           0
          ],
          [
           0,
           0,
           17,
           0,
           0,
           0
          ],
          [
           0,
           0,
           0,
           36,
           0,
           0
          ],
          [
           0,
           0,
           0,
           0,
           23,
           0
          ],
          [
           0,
           0,
           0,
           0,
           0,
           25
          ]
         ]
        }
       ],
       "layout": {
        "template": {
         "data": {
          "bar": [
           {
            "error_x": {
             "color": "#2a3f5f"
            },
            "error_y": {
             "color": "#2a3f5f"
            },
            "marker": {
             "line": {
              "color": "#E5ECF6",
              "width": 0.5
             },
             "pattern": {
              "fillmode": "overlay",
              "size": 10,
              "solidity": 0.2
             }
            },
            "type": "bar"
           }
          ],
          "barpolar": [
           {
            "marker": {
             "line": {
              "color": "#E5ECF6",
              "width": 0.5
             },
             "pattern": {
              "fillmode": "overlay",
              "size": 10,
              "solidity": 0.2
             }
            },
            "type": "barpolar"
           }
          ],
          "carpet": [
           {
            "aaxis": {
             "endlinecolor": "#2a3f5f",
             "gridcolor": "white",
             "linecolor": "white",
             "minorgridcolor": "white",
             "startlinecolor": "#2a3f5f"
            },
            "baxis": {
             "endlinecolor": "#2a3f5f",
             "gridcolor": "white",
             "linecolor": "white",
             "minorgridcolor": "white",
             "startlinecolor": "#2a3f5f"
            },
            "type": "carpet"
           }
          ],
          "choropleth": [
           {
            "colorbar": {
             "outlinewidth": 0,
             "ticks": ""
            },
            "type": "choropleth"
           }
          ],
          "contour": [
           {
            "colorbar": {
             "outlinewidth": 0,
             "ticks": ""
            },
            "colorscale": [
             [
              0,
              "#0d0887"
             ],
             [
              0.1111111111111111,
              "#46039f"
             ],
             [
              0.2222222222222222,
              "#7201a8"
             ],
             [
              0.3333333333333333,
              "#9c179e"
             ],
             [
              0.4444444444444444,
              "#bd3786"
             ],
             [
              0.5555555555555556,
              "#d8576b"
             ],
             [
              0.6666666666666666,
              "#ed7953"
             ],
             [
              0.7777777777777778,
              "#fb9f3a"
             ],
             [
              0.8888888888888888,
              "#fdca26"
             ],
             [
              1,
              "#f0f921"
             ]
            ],
            "type": "contour"
           }
          ],
          "contourcarpet": [
           {
            "colorbar": {
             "outlinewidth": 0,
             "ticks": ""
            },
            "type": "contourcarpet"
           }
          ],
          "heatmap": [
           {
            "colorbar": {
             "outlinewidth": 0,
             "ticks": ""
            },
            "colorscale": [
             [
              0,
              "#0d0887"
             ],
             [
              0.1111111111111111,
              "#46039f"
             ],
             [
              0.2222222222222222,
              "#7201a8"
             ],
             [
              0.3333333333333333,
              "#9c179e"
             ],
             [
              0.4444444444444444,
              "#bd3786"
             ],
             [
              0.5555555555555556,
              "#d8576b"
             ],
             [
              0.6666666666666666,
              "#ed7953"
             ],
             [
              0.7777777777777778,
              "#fb9f3a"
             ],
             [
              0.8888888888888888,
              "#fdca26"
             ],
             [
              1,
              "#f0f921"
             ]
            ],
            "type": "heatmap"
           }
          ],
          "heatmapgl": [
           {
            "colorbar": {
             "outlinewidth": 0,
             "ticks": ""
            },
            "colorscale": [
             [
              0,
              "#0d0887"
             ],
             [
              0.1111111111111111,
              "#46039f"
             ],
             [
              0.2222222222222222,
              "#7201a8"
             ],
             [
              0.3333333333333333,
              "#9c179e"
             ],
             [
              0.4444444444444444,
              "#bd3786"
             ],
             [
              0.5555555555555556,
              "#d8576b"
             ],
             [
              0.6666666666666666,
              "#ed7953"
             ],
             [
              0.7777777777777778,
              "#fb9f3a"
             ],
             [
              0.8888888888888888,
              "#fdca26"
             ],
             [
              1,
              "#f0f921"
             ]
            ],
            "type": "heatmapgl"
           }
          ],
          "histogram": [
           {
            "marker": {
             "pattern": {
              "fillmode": "overlay",
              "size": 10,
              "solidity": 0.2
             }
            },
            "type": "histogram"
           }
          ],
          "histogram2d": [
           {
            "colorbar": {
             "outlinewidth": 0,
             "ticks": ""
            },
            "colorscale": [
             [
              0,
              "#0d0887"
             ],
             [
              0.1111111111111111,
              "#46039f"
             ],
             [
              0.2222222222222222,
              "#7201a8"
             ],
             [
              0.3333333333333333,
              "#9c179e"
             ],
             [
              0.4444444444444444,
              "#bd3786"
             ],
             [
              0.5555555555555556,
              "#d8576b"
             ],
             [
              0.6666666666666666,
              "#ed7953"
             ],
             [
              0.7777777777777778,
              "#fb9f3a"
             ],
             [
              0.8888888888888888,
              "#fdca26"
             ],
             [
              1,
              "#f0f921"
             ]
            ],
            "type": "histogram2d"
           }
          ],
          "histogram2dcontour": [
           {
            "colorbar": {
             "outlinewidth": 0,
             "ticks": ""
            },
            "colorscale": [
             [
              0,
              "#0d0887"
             ],
             [
              0.1111111111111111,
              "#46039f"
             ],
             [
              0.2222222222222222,
              "#7201a8"
             ],
             [
              0.3333333333333333,
              "#9c179e"
             ],
             [
              0.4444444444444444,
              "#bd3786"
             ],
             [
              0.5555555555555556,
              "#d8576b"
             ],
             [
              0.6666666666666666,
              "#ed7953"
             ],
             [
              0.7777777777777778,
              "#fb9f3a"
             ],
             [
              0.8888888888888888,
              "#fdca26"
             ],
             [
              1,
              "#f0f921"
             ]
            ],
            "type": "histogram2dcontour"
           }
          ],
          "mesh3d": [
           {
            "colorbar": {
             "outlinewidth": 0,
             "ticks": ""
            },
            "type": "mesh3d"
           }
          ],
          "parcoords": [
           {
            "line": {
             "colorbar": {
              "outlinewidth": 0,
              "ticks": ""
             }
            },
            "type": "parcoords"
           }
          ],
          "pie": [
           {
            "automargin": true,
            "type": "pie"
           }
          ],
          "scatter": [
           {
            "fillpattern": {
             "fillmode": "overlay",
             "size": 10,
             "solidity": 0.2
            },
            "type": "scatter"
           }
          ],
          "scatter3d": [
           {
            "line": {
             "colorbar": {
              "outlinewidth": 0,
              "ticks": ""
             }
            },
            "marker": {
             "colorbar": {
              "outlinewidth": 0,
              "ticks": ""
             }
            },
            "type": "scatter3d"
           }
          ],
          "scattercarpet": [
           {
            "marker": {
             "colorbar": {
              "outlinewidth": 0,
              "ticks": ""
             }
            },
            "type": "scattercarpet"
           }
          ],
          "scattergeo": [
           {
            "marker": {
             "colorbar": {
              "outlinewidth": 0,
              "ticks": ""
             }
            },
            "type": "scattergeo"
           }
          ],
          "scattergl": [
           {
            "marker": {
             "colorbar": {
              "outlinewidth": 0,
              "ticks": ""
             }
            },
            "type": "scattergl"
           }
          ],
          "scattermapbox": [
           {
            "marker": {
             "colorbar": {
              "outlinewidth": 0,
              "ticks": ""
             }
            },
            "type": "scattermapbox"
           }
          ],
          "scatterpolar": [
           {
            "marker": {
             "colorbar": {
              "outlinewidth": 0,
              "ticks": ""
             }
            },
            "type": "scatterpolar"
           }
          ],
          "scatterpolargl": [
           {
            "marker": {
             "colorbar": {
              "outlinewidth": 0,
              "ticks": ""
             }
            },
            "type": "scatterpolargl"
           }
          ],
          "scatterternary": [
           {
            "marker": {
             "colorbar": {
              "outlinewidth": 0,
              "ticks": ""
             }
            },
            "type": "scatterternary"
           }
          ],
          "surface": [
           {
            "colorbar": {
             "outlinewidth": 0,
             "ticks": ""
            },
            "colorscale": [
             [
              0,
              "#0d0887"
             ],
             [
              0.1111111111111111,
              "#46039f"
             ],
             [
              0.2222222222222222,
              "#7201a8"
             ],
             [
              0.3333333333333333,
              "#9c179e"
             ],
             [
              0.4444444444444444,
              "#bd3786"
             ],
             [
              0.5555555555555556,
              "#d8576b"
             ],
             [
              0.6666666666666666,
              "#ed7953"
             ],
             [
              0.7777777777777778,
              "#fb9f3a"
             ],
             [
              0.8888888888888888,
              "#fdca26"
             ],
             [
              1,
              "#f0f921"
             ]
            ],
            "type": "surface"
           }
          ],
          "table": [
           {
            "cells": {
             "fill": {
              "color": "#EBF0F8"
             },
             "line": {
              "color": "white"
             }
            },
            "header": {
             "fill": {
              "color": "#C8D4E3"
             },
             "line": {
              "color": "white"
             }
            },
            "type": "table"
           }
          ]
         },
         "layout": {
          "annotationdefaults": {
           "arrowcolor": "#2a3f5f",
           "arrowhead": 0,
           "arrowwidth": 1
          },
          "autotypenumbers": "strict",
          "coloraxis": {
           "colorbar": {
            "outlinewidth": 0,
            "ticks": ""
           }
          },
          "colorscale": {
           "diverging": [
            [
             0,
             "#8e0152"
            ],
            [
             0.1,
             "#c51b7d"
            ],
            [
             0.2,
             "#de77ae"
            ],
            [
             0.3,
             "#f1b6da"
            ],
            [
             0.4,
             "#fde0ef"
            ],
            [
             0.5,
             "#f7f7f7"
            ],
            [
             0.6,
             "#e6f5d0"
            ],
            [
             0.7,
             "#b8e186"
            ],
            [
             0.8,
             "#7fbc41"
            ],
            [
             0.9,
             "#4d9221"
            ],
            [
             1,
             "#276419"
            ]
           ],
           "sequential": [
            [
             0,
             "#0d0887"
            ],
            [
             0.1111111111111111,
             "#46039f"
            ],
            [
             0.2222222222222222,
             "#7201a8"
            ],
            [
             0.3333333333333333,
             "#9c179e"
            ],
            [
             0.4444444444444444,
             "#bd3786"
            ],
            [
             0.5555555555555556,
             "#d8576b"
            ],
            [
             0.6666666666666666,
             "#ed7953"
            ],
            [
             0.7777777777777778,
             "#fb9f3a"
            ],
            [
             0.8888888888888888,
             "#fdca26"
            ],
            [
             1,
             "#f0f921"
            ]
           ],
           "sequentialminus": [
            [
             0,
             "#0d0887"
            ],
            [
             0.1111111111111111,
             "#46039f"
            ],
            [
             0.2222222222222222,
             "#7201a8"
            ],
            [
             0.3333333333333333,
             "#9c179e"
            ],
            [
             0.4444444444444444,
             "#bd3786"
            ],
            [
             0.5555555555555556,
             "#d8576b"
            ],
            [
             0.6666666666666666,
             "#ed7953"
            ],
            [
             0.7777777777777778,
             "#fb9f3a"
            ],
            [
             0.8888888888888888,
             "#fdca26"
            ],
            [
             1,
             "#f0f921"
            ]
           ]
          },
          "colorway": [
           "#636efa",
           "#EF553B",
           "#00cc96",
           "#ab63fa",
           "#FFA15A",
           "#19d3f3",
           "#FF6692",
           "#B6E880",
           "#FF97FF",
           "#FECB52"
          ],
          "font": {
           "color": "#2a3f5f"
          },
          "geo": {
           "bgcolor": "white",
           "lakecolor": "white",
           "landcolor": "#E5ECF6",
           "showlakes": true,
           "showland": true,
           "subunitcolor": "white"
          },
          "hoverlabel": {
           "align": "left"
          },
          "hovermode": "closest",
          "mapbox": {
           "style": "light"
          },
          "paper_bgcolor": "white",
          "plot_bgcolor": "#E5ECF6",
          "polar": {
           "angularaxis": {
            "gridcolor": "white",
            "linecolor": "white",
            "ticks": ""
           },
           "bgcolor": "#E5ECF6",
           "radialaxis": {
            "gridcolor": "white",
            "linecolor": "white",
            "ticks": ""
           }
          },
          "scene": {
           "xaxis": {
            "backgroundcolor": "#E5ECF6",
            "gridcolor": "white",
            "gridwidth": 2,
            "linecolor": "white",
            "showbackground": true,
            "ticks": "",
            "zerolinecolor": "white"
           },
           "yaxis": {
            "backgroundcolor": "#E5ECF6",
            "gridcolor": "white",
            "gridwidth": 2,
            "linecolor": "white",
            "showbackground": true,
            "ticks": "",
            "zerolinecolor": "white"
           },
           "zaxis": {
            "backgroundcolor": "#E5ECF6",
            "gridcolor": "white",
            "gridwidth": 2,
            "linecolor": "white",
            "showbackground": true,
            "ticks": "",
            "zerolinecolor": "white"
           }
          },
          "shapedefaults": {
           "line": {
            "color": "#2a3f5f"
           }
          },
          "ternary": {
           "aaxis": {
            "gridcolor": "white",
            "linecolor": "white",
            "ticks": ""
           },
           "baxis": {
            "gridcolor": "white",
            "linecolor": "white",
            "ticks": ""
           },
           "bgcolor": "#E5ECF6",
           "caxis": {
            "gridcolor": "white",
            "linecolor": "white",
            "ticks": ""
           }
          },
          "title": {
           "x": 0.05
          },
          "xaxis": {
           "automargin": true,
           "gridcolor": "white",
           "linecolor": "white",
           "ticks": "",
           "title": {
            "standoff": 15
           },
           "zerolinecolor": "white",
           "zerolinewidth": 2
          },
          "yaxis": {
           "automargin": true,
           "gridcolor": "white",
           "linecolor": "white",
           "ticks": "",
           "title": {
            "standoff": 15
           },
           "zerolinecolor": "white",
           "zerolinewidth": 2
          }
         }
        },
        "title": {
         "text": "Confusion Matrix for Decision Tree"
        },
        "xaxis": {
         "scaleanchor": "y",
         "scaleratio": 1,
         "title": {
          "text": "Predicted Label"
         }
        },
        "yaxis": {
         "title": {
          "text": "Actual Label"
         }
        }
       }
      }
     },
     "metadata": {},
     "output_type": "display_data"
    },
    {
     "name": "stdout",
     "output_type": "stream",
     "text": [
      "\n",
      "Training XGBoost...\n"
     ]
    },
    {
     "data": {
      "application/vnd.plotly.v1+json": {
       "config": {
        "plotlyServerURL": "https://plot.ly"
       },
       "data": [
        {
         "colorscale": [
          [
           0,
           "rgb(247,251,255)"
          ],
          [
           0.125,
           "rgb(222,235,247)"
          ],
          [
           0.25,
           "rgb(198,219,239)"
          ],
          [
           0.375,
           "rgb(158,202,225)"
          ],
          [
           0.5,
           "rgb(107,174,214)"
          ],
          [
           0.625,
           "rgb(66,146,198)"
          ],
          [
           0.75,
           "rgb(33,113,181)"
          ],
          [
           0.875,
           "rgb(8,81,156)"
          ],
          [
           1,
           "rgb(8,48,107)"
          ]
         ],
         "showscale": true,
         "text": [
          [
           23,
           0,
           0,
           0,
           0,
           0
          ],
          [
           0,
           25,
           0,
           0,
           0,
           0
          ],
          [
           0,
           0,
           17,
           0,
           0,
           0
          ],
          [
           0,
           0,
           0,
           36,
           0,
           0
          ],
          [
           0,
           0,
           0,
           0,
           23,
           0
          ],
          [
           0,
           0,
           0,
           0,
           0,
           25
          ]
         ],
         "texttemplate": "%{text}",
         "type": "heatmap",
         "x": [
          "Predicted 0",
          "Predicted 1",
          "Predicted 2",
          "Predicted 3",
          "Predicted 4",
          "Predicted 5"
         ],
         "y": [
          "Actual 0",
          "Actual 1",
          "Actual 2",
          "Actual 3",
          "Actual 4",
          "Actual 5"
         ],
         "z": [
          [
           23,
           0,
           0,
           0,
           0,
           0
          ],
          [
           0,
           25,
           0,
           0,
           0,
           0
          ],
          [
           0,
           0,
           17,
           0,
           0,
           0
          ],
          [
           0,
           0,
           0,
           36,
           0,
           0
          ],
          [
           0,
           0,
           0,
           0,
           23,
           0
          ],
          [
           0,
           0,
           0,
           0,
           0,
           25
          ]
         ]
        }
       ],
       "layout": {
        "template": {
         "data": {
          "bar": [
           {
            "error_x": {
             "color": "#2a3f5f"
            },
            "error_y": {
             "color": "#2a3f5f"
            },
            "marker": {
             "line": {
              "color": "#E5ECF6",
              "width": 0.5
             },
             "pattern": {
              "fillmode": "overlay",
              "size": 10,
              "solidity": 0.2
             }
            },
            "type": "bar"
           }
          ],
          "barpolar": [
           {
            "marker": {
             "line": {
              "color": "#E5ECF6",
              "width": 0.5
             },
             "pattern": {
              "fillmode": "overlay",
              "size": 10,
              "solidity": 0.2
             }
            },
            "type": "barpolar"
           }
          ],
          "carpet": [
           {
            "aaxis": {
             "endlinecolor": "#2a3f5f",
             "gridcolor": "white",
             "linecolor": "white",
             "minorgridcolor": "white",
             "startlinecolor": "#2a3f5f"
            },
            "baxis": {
             "endlinecolor": "#2a3f5f",
             "gridcolor": "white",
             "linecolor": "white",
             "minorgridcolor": "white",
             "startlinecolor": "#2a3f5f"
            },
            "type": "carpet"
           }
          ],
          "choropleth": [
           {
            "colorbar": {
             "outlinewidth": 0,
             "ticks": ""
            },
            "type": "choropleth"
           }
          ],
          "contour": [
           {
            "colorbar": {
             "outlinewidth": 0,
             "ticks": ""
            },
            "colorscale": [
             [
              0,
              "#0d0887"
             ],
             [
              0.1111111111111111,
              "#46039f"
             ],
             [
              0.2222222222222222,
              "#7201a8"
             ],
             [
              0.3333333333333333,
              "#9c179e"
             ],
             [
              0.4444444444444444,
              "#bd3786"
             ],
             [
              0.5555555555555556,
              "#d8576b"
             ],
             [
              0.6666666666666666,
              "#ed7953"
             ],
             [
              0.7777777777777778,
              "#fb9f3a"
             ],
             [
              0.8888888888888888,
              "#fdca26"
             ],
             [
              1,
              "#f0f921"
             ]
            ],
            "type": "contour"
           }
          ],
          "contourcarpet": [
           {
            "colorbar": {
             "outlinewidth": 0,
             "ticks": ""
            },
            "type": "contourcarpet"
           }
          ],
          "heatmap": [
           {
            "colorbar": {
             "outlinewidth": 0,
             "ticks": ""
            },
            "colorscale": [
             [
              0,
              "#0d0887"
             ],
             [
              0.1111111111111111,
              "#46039f"
             ],
             [
              0.2222222222222222,
              "#7201a8"
             ],
             [
              0.3333333333333333,
              "#9c179e"
             ],
             [
              0.4444444444444444,
              "#bd3786"
             ],
             [
              0.5555555555555556,
              "#d8576b"
             ],
             [
              0.6666666666666666,
              "#ed7953"
             ],
             [
              0.7777777777777778,
              "#fb9f3a"
             ],
             [
              0.8888888888888888,
              "#fdca26"
             ],
             [
              1,
              "#f0f921"
             ]
            ],
            "type": "heatmap"
           }
          ],
          "heatmapgl": [
           {
            "colorbar": {
             "outlinewidth": 0,
             "ticks": ""
            },
            "colorscale": [
             [
              0,
              "#0d0887"
             ],
             [
              0.1111111111111111,
              "#46039f"
             ],
             [
              0.2222222222222222,
              "#7201a8"
             ],
             [
              0.3333333333333333,
              "#9c179e"
             ],
             [
              0.4444444444444444,
              "#bd3786"
             ],
             [
              0.5555555555555556,
              "#d8576b"
             ],
             [
              0.6666666666666666,
              "#ed7953"
             ],
             [
              0.7777777777777778,
              "#fb9f3a"
             ],
             [
              0.8888888888888888,
              "#fdca26"
             ],
             [
              1,
              "#f0f921"
             ]
            ],
            "type": "heatmapgl"
           }
          ],
          "histogram": [
           {
            "marker": {
             "pattern": {
              "fillmode": "overlay",
              "size": 10,
              "solidity": 0.2
             }
            },
            "type": "histogram"
           }
          ],
          "histogram2d": [
           {
            "colorbar": {
             "outlinewidth": 0,
             "ticks": ""
            },
            "colorscale": [
             [
              0,
              "#0d0887"
             ],
             [
              0.1111111111111111,
              "#46039f"
             ],
             [
              0.2222222222222222,
              "#7201a8"
             ],
             [
              0.3333333333333333,
              "#9c179e"
             ],
             [
              0.4444444444444444,
              "#bd3786"
             ],
             [
              0.5555555555555556,
              "#d8576b"
             ],
             [
              0.6666666666666666,
              "#ed7953"
             ],
             [
              0.7777777777777778,
              "#fb9f3a"
             ],
             [
              0.8888888888888888,
              "#fdca26"
             ],
             [
              1,
              "#f0f921"
             ]
            ],
            "type": "histogram2d"
           }
          ],
          "histogram2dcontour": [
           {
            "colorbar": {
             "outlinewidth": 0,
             "ticks": ""
            },
            "colorscale": [
             [
              0,
              "#0d0887"
             ],
             [
              0.1111111111111111,
              "#46039f"
             ],
             [
              0.2222222222222222,
              "#7201a8"
             ],
             [
              0.3333333333333333,
              "#9c179e"
             ],
             [
              0.4444444444444444,
              "#bd3786"
             ],
             [
              0.5555555555555556,
              "#d8576b"
             ],
             [
              0.6666666666666666,
              "#ed7953"
             ],
             [
              0.7777777777777778,
              "#fb9f3a"
             ],
             [
              0.8888888888888888,
              "#fdca26"
             ],
             [
              1,
              "#f0f921"
             ]
            ],
            "type": "histogram2dcontour"
           }
          ],
          "mesh3d": [
           {
            "colorbar": {
             "outlinewidth": 0,
             "ticks": ""
            },
            "type": "mesh3d"
           }
          ],
          "parcoords": [
           {
            "line": {
             "colorbar": {
              "outlinewidth": 0,
              "ticks": ""
             }
            },
            "type": "parcoords"
           }
          ],
          "pie": [
           {
            "automargin": true,
            "type": "pie"
           }
          ],
          "scatter": [
           {
            "fillpattern": {
             "fillmode": "overlay",
             "size": 10,
             "solidity": 0.2
            },
            "type": "scatter"
           }
          ],
          "scatter3d": [
           {
            "line": {
             "colorbar": {
              "outlinewidth": 0,
              "ticks": ""
             }
            },
            "marker": {
             "colorbar": {
              "outlinewidth": 0,
              "ticks": ""
             }
            },
            "type": "scatter3d"
           }
          ],
          "scattercarpet": [
           {
            "marker": {
             "colorbar": {
              "outlinewidth": 0,
              "ticks": ""
             }
            },
            "type": "scattercarpet"
           }
          ],
          "scattergeo": [
           {
            "marker": {
             "colorbar": {
              "outlinewidth": 0,
              "ticks": ""
             }
            },
            "type": "scattergeo"
           }
          ],
          "scattergl": [
           {
            "marker": {
             "colorbar": {
              "outlinewidth": 0,
              "ticks": ""
             }
            },
            "type": "scattergl"
           }
          ],
          "scattermapbox": [
           {
            "marker": {
             "colorbar": {
              "outlinewidth": 0,
              "ticks": ""
             }
            },
            "type": "scattermapbox"
           }
          ],
          "scatterpolar": [
           {
            "marker": {
             "colorbar": {
              "outlinewidth": 0,
              "ticks": ""
             }
            },
            "type": "scatterpolar"
           }
          ],
          "scatterpolargl": [
           {
            "marker": {
             "colorbar": {
              "outlinewidth": 0,
              "ticks": ""
             }
            },
            "type": "scatterpolargl"
           }
          ],
          "scatterternary": [
           {
            "marker": {
             "colorbar": {
              "outlinewidth": 0,
              "ticks": ""
             }
            },
            "type": "scatterternary"
           }
          ],
          "surface": [
           {
            "colorbar": {
             "outlinewidth": 0,
             "ticks": ""
            },
            "colorscale": [
             [
              0,
              "#0d0887"
             ],
             [
              0.1111111111111111,
              "#46039f"
             ],
             [
              0.2222222222222222,
              "#7201a8"
             ],
             [
              0.3333333333333333,
              "#9c179e"
             ],
             [
              0.4444444444444444,
              "#bd3786"
             ],
             [
              0.5555555555555556,
              "#d8576b"
             ],
             [
              0.6666666666666666,
              "#ed7953"
             ],
             [
              0.7777777777777778,
              "#fb9f3a"
             ],
             [
              0.8888888888888888,
              "#fdca26"
             ],
             [
              1,
              "#f0f921"
             ]
            ],
            "type": "surface"
           }
          ],
          "table": [
           {
            "cells": {
             "fill": {
              "color": "#EBF0F8"
             },
             "line": {
              "color": "white"
             }
            },
            "header": {
             "fill": {
              "color": "#C8D4E3"
             },
             "line": {
              "color": "white"
             }
            },
            "type": "table"
           }
          ]
         },
         "layout": {
          "annotationdefaults": {
           "arrowcolor": "#2a3f5f",
           "arrowhead": 0,
           "arrowwidth": 1
          },
          "autotypenumbers": "strict",
          "coloraxis": {
           "colorbar": {
            "outlinewidth": 0,
            "ticks": ""
           }
          },
          "colorscale": {
           "diverging": [
            [
             0,
             "#8e0152"
            ],
            [
             0.1,
             "#c51b7d"
            ],
            [
             0.2,
             "#de77ae"
            ],
            [
             0.3,
             "#f1b6da"
            ],
            [
             0.4,
             "#fde0ef"
            ],
            [
             0.5,
             "#f7f7f7"
            ],
            [
             0.6,
             "#e6f5d0"
            ],
            [
             0.7,
             "#b8e186"
            ],
            [
             0.8,
             "#7fbc41"
            ],
            [
             0.9,
             "#4d9221"
            ],
            [
             1,
             "#276419"
            ]
           ],
           "sequential": [
            [
             0,
             "#0d0887"
            ],
            [
             0.1111111111111111,
             "#46039f"
            ],
            [
             0.2222222222222222,
             "#7201a8"
            ],
            [
             0.3333333333333333,
             "#9c179e"
            ],
            [
             0.4444444444444444,
             "#bd3786"
            ],
            [
             0.5555555555555556,
             "#d8576b"
            ],
            [
             0.6666666666666666,
             "#ed7953"
            ],
            [
             0.7777777777777778,
             "#fb9f3a"
            ],
            [
             0.8888888888888888,
             "#fdca26"
            ],
            [
             1,
             "#f0f921"
            ]
           ],
           "sequentialminus": [
            [
             0,
             "#0d0887"
            ],
            [
             0.1111111111111111,
             "#46039f"
            ],
            [
             0.2222222222222222,
             "#7201a8"
            ],
            [
             0.3333333333333333,
             "#9c179e"
            ],
            [
             0.4444444444444444,
             "#bd3786"
            ],
            [
             0.5555555555555556,
             "#d8576b"
            ],
            [
             0.6666666666666666,
             "#ed7953"
            ],
            [
             0.7777777777777778,
             "#fb9f3a"
            ],
            [
             0.8888888888888888,
             "#fdca26"
            ],
            [
             1,
             "#f0f921"
            ]
           ]
          },
          "colorway": [
           "#636efa",
           "#EF553B",
           "#00cc96",
           "#ab63fa",
           "#FFA15A",
           "#19d3f3",
           "#FF6692",
           "#B6E880",
           "#FF97FF",
           "#FECB52"
          ],
          "font": {
           "color": "#2a3f5f"
          },
          "geo": {
           "bgcolor": "white",
           "lakecolor": "white",
           "landcolor": "#E5ECF6",
           "showlakes": true,
           "showland": true,
           "subunitcolor": "white"
          },
          "hoverlabel": {
           "align": "left"
          },
          "hovermode": "closest",
          "mapbox": {
           "style": "light"
          },
          "paper_bgcolor": "white",
          "plot_bgcolor": "#E5ECF6",
          "polar": {
           "angularaxis": {
            "gridcolor": "white",
            "linecolor": "white",
            "ticks": ""
           },
           "bgcolor": "#E5ECF6",
           "radialaxis": {
            "gridcolor": "white",
            "linecolor": "white",
            "ticks": ""
           }
          },
          "scene": {
           "xaxis": {
            "backgroundcolor": "#E5ECF6",
            "gridcolor": "white",
            "gridwidth": 2,
            "linecolor": "white",
            "showbackground": true,
            "ticks": "",
            "zerolinecolor": "white"
           },
           "yaxis": {
            "backgroundcolor": "#E5ECF6",
            "gridcolor": "white",
            "gridwidth": 2,
            "linecolor": "white",
            "showbackground": true,
            "ticks": "",
            "zerolinecolor": "white"
           },
           "zaxis": {
            "backgroundcolor": "#E5ECF6",
            "gridcolor": "white",
            "gridwidth": 2,
            "linecolor": "white",
            "showbackground": true,
            "ticks": "",
            "zerolinecolor": "white"
           }
          },
          "shapedefaults": {
           "line": {
            "color": "#2a3f5f"
           }
          },
          "ternary": {
           "aaxis": {
            "gridcolor": "white",
            "linecolor": "white",
            "ticks": ""
           },
           "baxis": {
            "gridcolor": "white",
            "linecolor": "white",
            "ticks": ""
           },
           "bgcolor": "#E5ECF6",
           "caxis": {
            "gridcolor": "white",
            "linecolor": "white",
            "ticks": ""
           }
          },
          "title": {
           "x": 0.05
          },
          "xaxis": {
           "automargin": true,
           "gridcolor": "white",
           "linecolor": "white",
           "ticks": "",
           "title": {
            "standoff": 15
           },
           "zerolinecolor": "white",
           "zerolinewidth": 2
          },
          "yaxis": {
           "automargin": true,
           "gridcolor": "white",
           "linecolor": "white",
           "ticks": "",
           "title": {
            "standoff": 15
           },
           "zerolinecolor": "white",
           "zerolinewidth": 2
          }
         }
        },
        "title": {
         "text": "Confusion Matrix for XGBoost"
        },
        "xaxis": {
         "scaleanchor": "y",
         "scaleratio": 1,
         "title": {
          "text": "Predicted Label"
         }
        },
        "yaxis": {
         "title": {
          "text": "Actual Label"
         }
        }
       }
      }
     },
     "metadata": {},
     "output_type": "display_data"
    },
    {
     "name": "stdout",
     "output_type": "stream",
     "text": [
      "\n",
      "Training RandomForest_1...\n"
     ]
    },
    {
     "data": {
      "application/vnd.plotly.v1+json": {
       "config": {
        "plotlyServerURL": "https://plot.ly"
       },
       "data": [
        {
         "colorscale": [
          [
           0,
           "rgb(247,251,255)"
          ],
          [
           0.125,
           "rgb(222,235,247)"
          ],
          [
           0.25,
           "rgb(198,219,239)"
          ],
          [
           0.375,
           "rgb(158,202,225)"
          ],
          [
           0.5,
           "rgb(107,174,214)"
          ],
          [
           0.625,
           "rgb(66,146,198)"
          ],
          [
           0.75,
           "rgb(33,113,181)"
          ],
          [
           0.875,
           "rgb(8,81,156)"
          ],
          [
           1,
           "rgb(8,48,107)"
          ]
         ],
         "showscale": true,
         "text": [
          [
           23,
           0,
           0,
           0,
           0,
           0
          ],
          [
           0,
           25,
           0,
           0,
           0,
           0
          ],
          [
           0,
           0,
           17,
           0,
           0,
           0
          ],
          [
           0,
           0,
           0,
           36,
           0,
           0
          ],
          [
           0,
           0,
           0,
           0,
           23,
           0
          ],
          [
           0,
           0,
           0,
           0,
           0,
           25
          ]
         ],
         "texttemplate": "%{text}",
         "type": "heatmap",
         "x": [
          "Predicted 0",
          "Predicted 1",
          "Predicted 2",
          "Predicted 3",
          "Predicted 4",
          "Predicted 5"
         ],
         "y": [
          "Actual 0",
          "Actual 1",
          "Actual 2",
          "Actual 3",
          "Actual 4",
          "Actual 5"
         ],
         "z": [
          [
           23,
           0,
           0,
           0,
           0,
           0
          ],
          [
           0,
           25,
           0,
           0,
           0,
           0
          ],
          [
           0,
           0,
           17,
           0,
           0,
           0
          ],
          [
           0,
           0,
           0,
           36,
           0,
           0
          ],
          [
           0,
           0,
           0,
           0,
           23,
           0
          ],
          [
           0,
           0,
           0,
           0,
           0,
           25
          ]
         ]
        }
       ],
       "layout": {
        "template": {
         "data": {
          "bar": [
           {
            "error_x": {
             "color": "#2a3f5f"
            },
            "error_y": {
             "color": "#2a3f5f"
            },
            "marker": {
             "line": {
              "color": "#E5ECF6",
              "width": 0.5
             },
             "pattern": {
              "fillmode": "overlay",
              "size": 10,
              "solidity": 0.2
             }
            },
            "type": "bar"
           }
          ],
          "barpolar": [
           {
            "marker": {
             "line": {
              "color": "#E5ECF6",
              "width": 0.5
             },
             "pattern": {
              "fillmode": "overlay",
              "size": 10,
              "solidity": 0.2
             }
            },
            "type": "barpolar"
           }
          ],
          "carpet": [
           {
            "aaxis": {
             "endlinecolor": "#2a3f5f",
             "gridcolor": "white",
             "linecolor": "white",
             "minorgridcolor": "white",
             "startlinecolor": "#2a3f5f"
            },
            "baxis": {
             "endlinecolor": "#2a3f5f",
             "gridcolor": "white",
             "linecolor": "white",
             "minorgridcolor": "white",
             "startlinecolor": "#2a3f5f"
            },
            "type": "carpet"
           }
          ],
          "choropleth": [
           {
            "colorbar": {
             "outlinewidth": 0,
             "ticks": ""
            },
            "type": "choropleth"
           }
          ],
          "contour": [
           {
            "colorbar": {
             "outlinewidth": 0,
             "ticks": ""
            },
            "colorscale": [
             [
              0,
              "#0d0887"
             ],
             [
              0.1111111111111111,
              "#46039f"
             ],
             [
              0.2222222222222222,
              "#7201a8"
             ],
             [
              0.3333333333333333,
              "#9c179e"
             ],
             [
              0.4444444444444444,
              "#bd3786"
             ],
             [
              0.5555555555555556,
              "#d8576b"
             ],
             [
              0.6666666666666666,
              "#ed7953"
             ],
             [
              0.7777777777777778,
              "#fb9f3a"
             ],
             [
              0.8888888888888888,
              "#fdca26"
             ],
             [
              1,
              "#f0f921"
             ]
            ],
            "type": "contour"
           }
          ],
          "contourcarpet": [
           {
            "colorbar": {
             "outlinewidth": 0,
             "ticks": ""
            },
            "type": "contourcarpet"
           }
          ],
          "heatmap": [
           {
            "colorbar": {
             "outlinewidth": 0,
             "ticks": ""
            },
            "colorscale": [
             [
              0,
              "#0d0887"
             ],
             [
              0.1111111111111111,
              "#46039f"
             ],
             [
              0.2222222222222222,
              "#7201a8"
             ],
             [
              0.3333333333333333,
              "#9c179e"
             ],
             [
              0.4444444444444444,
              "#bd3786"
             ],
             [
              0.5555555555555556,
              "#d8576b"
             ],
             [
              0.6666666666666666,
              "#ed7953"
             ],
             [
              0.7777777777777778,
              "#fb9f3a"
             ],
             [
              0.8888888888888888,
              "#fdca26"
             ],
             [
              1,
              "#f0f921"
             ]
            ],
            "type": "heatmap"
           }
          ],
          "heatmapgl": [
           {
            "colorbar": {
             "outlinewidth": 0,
             "ticks": ""
            },
            "colorscale": [
             [
              0,
              "#0d0887"
             ],
             [
              0.1111111111111111,
              "#46039f"
             ],
             [
              0.2222222222222222,
              "#7201a8"
             ],
             [
              0.3333333333333333,
              "#9c179e"
             ],
             [
              0.4444444444444444,
              "#bd3786"
             ],
             [
              0.5555555555555556,
              "#d8576b"
             ],
             [
              0.6666666666666666,
              "#ed7953"
             ],
             [
              0.7777777777777778,
              "#fb9f3a"
             ],
             [
              0.8888888888888888,
              "#fdca26"
             ],
             [
              1,
              "#f0f921"
             ]
            ],
            "type": "heatmapgl"
           }
          ],
          "histogram": [
           {
            "marker": {
             "pattern": {
              "fillmode": "overlay",
              "size": 10,
              "solidity": 0.2
             }
            },
            "type": "histogram"
           }
          ],
          "histogram2d": [
           {
            "colorbar": {
             "outlinewidth": 0,
             "ticks": ""
            },
            "colorscale": [
             [
              0,
              "#0d0887"
             ],
             [
              0.1111111111111111,
              "#46039f"
             ],
             [
              0.2222222222222222,
              "#7201a8"
             ],
             [
              0.3333333333333333,
              "#9c179e"
             ],
             [
              0.4444444444444444,
              "#bd3786"
             ],
             [
              0.5555555555555556,
              "#d8576b"
             ],
             [
              0.6666666666666666,
              "#ed7953"
             ],
             [
              0.7777777777777778,
              "#fb9f3a"
             ],
             [
              0.8888888888888888,
              "#fdca26"
             ],
             [
              1,
              "#f0f921"
             ]
            ],
            "type": "histogram2d"
           }
          ],
          "histogram2dcontour": [
           {
            "colorbar": {
             "outlinewidth": 0,
             "ticks": ""
            },
            "colorscale": [
             [
              0,
              "#0d0887"
             ],
             [
              0.1111111111111111,
              "#46039f"
             ],
             [
              0.2222222222222222,
              "#7201a8"
             ],
             [
              0.3333333333333333,
              "#9c179e"
             ],
             [
              0.4444444444444444,
              "#bd3786"
             ],
             [
              0.5555555555555556,
              "#d8576b"
             ],
             [
              0.6666666666666666,
              "#ed7953"
             ],
             [
              0.7777777777777778,
              "#fb9f3a"
             ],
             [
              0.8888888888888888,
              "#fdca26"
             ],
             [
              1,
              "#f0f921"
             ]
            ],
            "type": "histogram2dcontour"
           }
          ],
          "mesh3d": [
           {
            "colorbar": {
             "outlinewidth": 0,
             "ticks": ""
            },
            "type": "mesh3d"
           }
          ],
          "parcoords": [
           {
            "line": {
             "colorbar": {
              "outlinewidth": 0,
              "ticks": ""
             }
            },
            "type": "parcoords"
           }
          ],
          "pie": [
           {
            "automargin": true,
            "type": "pie"
           }
          ],
          "scatter": [
           {
            "fillpattern": {
             "fillmode": "overlay",
             "size": 10,
             "solidity": 0.2
            },
            "type": "scatter"
           }
          ],
          "scatter3d": [
           {
            "line": {
             "colorbar": {
              "outlinewidth": 0,
              "ticks": ""
             }
            },
            "marker": {
             "colorbar": {
              "outlinewidth": 0,
              "ticks": ""
             }
            },
            "type": "scatter3d"
           }
          ],
          "scattercarpet": [
           {
            "marker": {
             "colorbar": {
              "outlinewidth": 0,
              "ticks": ""
             }
            },
            "type": "scattercarpet"
           }
          ],
          "scattergeo": [
           {
            "marker": {
             "colorbar": {
              "outlinewidth": 0,
              "ticks": ""
             }
            },
            "type": "scattergeo"
           }
          ],
          "scattergl": [
           {
            "marker": {
             "colorbar": {
              "outlinewidth": 0,
              "ticks": ""
             }
            },
            "type": "scattergl"
           }
          ],
          "scattermapbox": [
           {
            "marker": {
             "colorbar": {
              "outlinewidth": 0,
              "ticks": ""
             }
            },
            "type": "scattermapbox"
           }
          ],
          "scatterpolar": [
           {
            "marker": {
             "colorbar": {
              "outlinewidth": 0,
              "ticks": ""
             }
            },
            "type": "scatterpolar"
           }
          ],
          "scatterpolargl": [
           {
            "marker": {
             "colorbar": {
              "outlinewidth": 0,
              "ticks": ""
             }
            },
            "type": "scatterpolargl"
           }
          ],
          "scatterternary": [
           {
            "marker": {
             "colorbar": {
              "outlinewidth": 0,
              "ticks": ""
             }
            },
            "type": "scatterternary"
           }
          ],
          "surface": [
           {
            "colorbar": {
             "outlinewidth": 0,
             "ticks": ""
            },
            "colorscale": [
             [
              0,
              "#0d0887"
             ],
             [
              0.1111111111111111,
              "#46039f"
             ],
             [
              0.2222222222222222,
              "#7201a8"
             ],
             [
              0.3333333333333333,
              "#9c179e"
             ],
             [
              0.4444444444444444,
              "#bd3786"
             ],
             [
              0.5555555555555556,
              "#d8576b"
             ],
             [
              0.6666666666666666,
              "#ed7953"
             ],
             [
              0.7777777777777778,
              "#fb9f3a"
             ],
             [
              0.8888888888888888,
              "#fdca26"
             ],
             [
              1,
              "#f0f921"
             ]
            ],
            "type": "surface"
           }
          ],
          "table": [
           {
            "cells": {
             "fill": {
              "color": "#EBF0F8"
             },
             "line": {
              "color": "white"
             }
            },
            "header": {
             "fill": {
              "color": "#C8D4E3"
             },
             "line": {
              "color": "white"
             }
            },
            "type": "table"
           }
          ]
         },
         "layout": {
          "annotationdefaults": {
           "arrowcolor": "#2a3f5f",
           "arrowhead": 0,
           "arrowwidth": 1
          },
          "autotypenumbers": "strict",
          "coloraxis": {
           "colorbar": {
            "outlinewidth": 0,
            "ticks": ""
           }
          },
          "colorscale": {
           "diverging": [
            [
             0,
             "#8e0152"
            ],
            [
             0.1,
             "#c51b7d"
            ],
            [
             0.2,
             "#de77ae"
            ],
            [
             0.3,
             "#f1b6da"
            ],
            [
             0.4,
             "#fde0ef"
            ],
            [
             0.5,
             "#f7f7f7"
            ],
            [
             0.6,
             "#e6f5d0"
            ],
            [
             0.7,
             "#b8e186"
            ],
            [
             0.8,
             "#7fbc41"
            ],
            [
             0.9,
             "#4d9221"
            ],
            [
             1,
             "#276419"
            ]
           ],
           "sequential": [
            [
             0,
             "#0d0887"
            ],
            [
             0.1111111111111111,
             "#46039f"
            ],
            [
             0.2222222222222222,
             "#7201a8"
            ],
            [
             0.3333333333333333,
             "#9c179e"
            ],
            [
             0.4444444444444444,
             "#bd3786"
            ],
            [
             0.5555555555555556,
             "#d8576b"
            ],
            [
             0.6666666666666666,
             "#ed7953"
            ],
            [
             0.7777777777777778,
             "#fb9f3a"
            ],
            [
             0.8888888888888888,
             "#fdca26"
            ],
            [
             1,
             "#f0f921"
            ]
           ],
           "sequentialminus": [
            [
             0,
             "#0d0887"
            ],
            [
             0.1111111111111111,
             "#46039f"
            ],
            [
             0.2222222222222222,
             "#7201a8"
            ],
            [
             0.3333333333333333,
             "#9c179e"
            ],
            [
             0.4444444444444444,
             "#bd3786"
            ],
            [
             0.5555555555555556,
             "#d8576b"
            ],
            [
             0.6666666666666666,
             "#ed7953"
            ],
            [
             0.7777777777777778,
             "#fb9f3a"
            ],
            [
             0.8888888888888888,
             "#fdca26"
            ],
            [
             1,
             "#f0f921"
            ]
           ]
          },
          "colorway": [
           "#636efa",
           "#EF553B",
           "#00cc96",
           "#ab63fa",
           "#FFA15A",
           "#19d3f3",
           "#FF6692",
           "#B6E880",
           "#FF97FF",
           "#FECB52"
          ],
          "font": {
           "color": "#2a3f5f"
          },
          "geo": {
           "bgcolor": "white",
           "lakecolor": "white",
           "landcolor": "#E5ECF6",
           "showlakes": true,
           "showland": true,
           "subunitcolor": "white"
          },
          "hoverlabel": {
           "align": "left"
          },
          "hovermode": "closest",
          "mapbox": {
           "style": "light"
          },
          "paper_bgcolor": "white",
          "plot_bgcolor": "#E5ECF6",
          "polar": {
           "angularaxis": {
            "gridcolor": "white",
            "linecolor": "white",
            "ticks": ""
           },
           "bgcolor": "#E5ECF6",
           "radialaxis": {
            "gridcolor": "white",
            "linecolor": "white",
            "ticks": ""
           }
          },
          "scene": {
           "xaxis": {
            "backgroundcolor": "#E5ECF6",
            "gridcolor": "white",
            "gridwidth": 2,
            "linecolor": "white",
            "showbackground": true,
            "ticks": "",
            "zerolinecolor": "white"
           },
           "yaxis": {
            "backgroundcolor": "#E5ECF6",
            "gridcolor": "white",
            "gridwidth": 2,
            "linecolor": "white",
            "showbackground": true,
            "ticks": "",
            "zerolinecolor": "white"
           },
           "zaxis": {
            "backgroundcolor": "#E5ECF6",
            "gridcolor": "white",
            "gridwidth": 2,
            "linecolor": "white",
            "showbackground": true,
            "ticks": "",
            "zerolinecolor": "white"
           }
          },
          "shapedefaults": {
           "line": {
            "color": "#2a3f5f"
           }
          },
          "ternary": {
           "aaxis": {
            "gridcolor": "white",
            "linecolor": "white",
            "ticks": ""
           },
           "baxis": {
            "gridcolor": "white",
            "linecolor": "white",
            "ticks": ""
           },
           "bgcolor": "#E5ECF6",
           "caxis": {
            "gridcolor": "white",
            "linecolor": "white",
            "ticks": ""
           }
          },
          "title": {
           "x": 0.05
          },
          "xaxis": {
           "automargin": true,
           "gridcolor": "white",
           "linecolor": "white",
           "ticks": "",
           "title": {
            "standoff": 15
           },
           "zerolinecolor": "white",
           "zerolinewidth": 2
          },
          "yaxis": {
           "automargin": true,
           "gridcolor": "white",
           "linecolor": "white",
           "ticks": "",
           "title": {
            "standoff": 15
           },
           "zerolinecolor": "white",
           "zerolinewidth": 2
          }
         }
        },
        "title": {
         "text": "Confusion Matrix for RandomForest_1"
        },
        "xaxis": {
         "scaleanchor": "y",
         "scaleratio": 1,
         "title": {
          "text": "Predicted Label"
         }
        },
        "yaxis": {
         "title": {
          "text": "Actual Label"
         }
        }
       }
      }
     },
     "metadata": {},
     "output_type": "display_data"
    },
    {
     "name": "stdout",
     "output_type": "stream",
     "text": [
      "\n",
      "Training RandomForest_3...\n"
     ]
    },
    {
     "data": {
      "application/vnd.plotly.v1+json": {
       "config": {
        "plotlyServerURL": "https://plot.ly"
       },
       "data": [
        {
         "colorscale": [
          [
           0,
           "rgb(247,251,255)"
          ],
          [
           0.125,
           "rgb(222,235,247)"
          ],
          [
           0.25,
           "rgb(198,219,239)"
          ],
          [
           0.375,
           "rgb(158,202,225)"
          ],
          [
           0.5,
           "rgb(107,174,214)"
          ],
          [
           0.625,
           "rgb(66,146,198)"
          ],
          [
           0.75,
           "rgb(33,113,181)"
          ],
          [
           0.875,
           "rgb(8,81,156)"
          ],
          [
           1,
           "rgb(8,48,107)"
          ]
         ],
         "showscale": true,
         "text": [
          [
           23,
           0,
           0,
           0,
           0,
           0
          ],
          [
           0,
           25,
           0,
           0,
           0,
           0
          ],
          [
           0,
           0,
           17,
           0,
           0,
           0
          ],
          [
           0,
           0,
           0,
           36,
           0,
           0
          ],
          [
           0,
           0,
           0,
           0,
           23,
           0
          ],
          [
           0,
           0,
           0,
           0,
           0,
           25
          ]
         ],
         "texttemplate": "%{text}",
         "type": "heatmap",
         "x": [
          "Predicted 0",
          "Predicted 1",
          "Predicted 2",
          "Predicted 3",
          "Predicted 4",
          "Predicted 5"
         ],
         "y": [
          "Actual 0",
          "Actual 1",
          "Actual 2",
          "Actual 3",
          "Actual 4",
          "Actual 5"
         ],
         "z": [
          [
           23,
           0,
           0,
           0,
           0,
           0
          ],
          [
           0,
           25,
           0,
           0,
           0,
           0
          ],
          [
           0,
           0,
           17,
           0,
           0,
           0
          ],
          [
           0,
           0,
           0,
           36,
           0,
           0
          ],
          [
           0,
           0,
           0,
           0,
           23,
           0
          ],
          [
           0,
           0,
           0,
           0,
           0,
           25
          ]
         ]
        }
       ],
       "layout": {
        "template": {
         "data": {
          "bar": [
           {
            "error_x": {
             "color": "#2a3f5f"
            },
            "error_y": {
             "color": "#2a3f5f"
            },
            "marker": {
             "line": {
              "color": "#E5ECF6",
              "width": 0.5
             },
             "pattern": {
              "fillmode": "overlay",
              "size": 10,
              "solidity": 0.2
             }
            },
            "type": "bar"
           }
          ],
          "barpolar": [
           {
            "marker": {
             "line": {
              "color": "#E5ECF6",
              "width": 0.5
             },
             "pattern": {
              "fillmode": "overlay",
              "size": 10,
              "solidity": 0.2
             }
            },
            "type": "barpolar"
           }
          ],
          "carpet": [
           {
            "aaxis": {
             "endlinecolor": "#2a3f5f",
             "gridcolor": "white",
             "linecolor": "white",
             "minorgridcolor": "white",
             "startlinecolor": "#2a3f5f"
            },
            "baxis": {
             "endlinecolor": "#2a3f5f",
             "gridcolor": "white",
             "linecolor": "white",
             "minorgridcolor": "white",
             "startlinecolor": "#2a3f5f"
            },
            "type": "carpet"
           }
          ],
          "choropleth": [
           {
            "colorbar": {
             "outlinewidth": 0,
             "ticks": ""
            },
            "type": "choropleth"
           }
          ],
          "contour": [
           {
            "colorbar": {
             "outlinewidth": 0,
             "ticks": ""
            },
            "colorscale": [
             [
              0,
              "#0d0887"
             ],
             [
              0.1111111111111111,
              "#46039f"
             ],
             [
              0.2222222222222222,
              "#7201a8"
             ],
             [
              0.3333333333333333,
              "#9c179e"
             ],
             [
              0.4444444444444444,
              "#bd3786"
             ],
             [
              0.5555555555555556,
              "#d8576b"
             ],
             [
              0.6666666666666666,
              "#ed7953"
             ],
             [
              0.7777777777777778,
              "#fb9f3a"
             ],
             [
              0.8888888888888888,
              "#fdca26"
             ],
             [
              1,
              "#f0f921"
             ]
            ],
            "type": "contour"
           }
          ],
          "contourcarpet": [
           {
            "colorbar": {
             "outlinewidth": 0,
             "ticks": ""
            },
            "type": "contourcarpet"
           }
          ],
          "heatmap": [
           {
            "colorbar": {
             "outlinewidth": 0,
             "ticks": ""
            },
            "colorscale": [
             [
              0,
              "#0d0887"
             ],
             [
              0.1111111111111111,
              "#46039f"
             ],
             [
              0.2222222222222222,
              "#7201a8"
             ],
             [
              0.3333333333333333,
              "#9c179e"
             ],
             [
              0.4444444444444444,
              "#bd3786"
             ],
             [
              0.5555555555555556,
              "#d8576b"
             ],
             [
              0.6666666666666666,
              "#ed7953"
             ],
             [
              0.7777777777777778,
              "#fb9f3a"
             ],
             [
              0.8888888888888888,
              "#fdca26"
             ],
             [
              1,
              "#f0f921"
             ]
            ],
            "type": "heatmap"
           }
          ],
          "heatmapgl": [
           {
            "colorbar": {
             "outlinewidth": 0,
             "ticks": ""
            },
            "colorscale": [
             [
              0,
              "#0d0887"
             ],
             [
              0.1111111111111111,
              "#46039f"
             ],
             [
              0.2222222222222222,
              "#7201a8"
             ],
             [
              0.3333333333333333,
              "#9c179e"
             ],
             [
              0.4444444444444444,
              "#bd3786"
             ],
             [
              0.5555555555555556,
              "#d8576b"
             ],
             [
              0.6666666666666666,
              "#ed7953"
             ],
             [
              0.7777777777777778,
              "#fb9f3a"
             ],
             [
              0.8888888888888888,
              "#fdca26"
             ],
             [
              1,
              "#f0f921"
             ]
            ],
            "type": "heatmapgl"
           }
          ],
          "histogram": [
           {
            "marker": {
             "pattern": {
              "fillmode": "overlay",
              "size": 10,
              "solidity": 0.2
             }
            },
            "type": "histogram"
           }
          ],
          "histogram2d": [
           {
            "colorbar": {
             "outlinewidth": 0,
             "ticks": ""
            },
            "colorscale": [
             [
              0,
              "#0d0887"
             ],
             [
              0.1111111111111111,
              "#46039f"
             ],
             [
              0.2222222222222222,
              "#7201a8"
             ],
             [
              0.3333333333333333,
              "#9c179e"
             ],
             [
              0.4444444444444444,
              "#bd3786"
             ],
             [
              0.5555555555555556,
              "#d8576b"
             ],
             [
              0.6666666666666666,
              "#ed7953"
             ],
             [
              0.7777777777777778,
              "#fb9f3a"
             ],
             [
              0.8888888888888888,
              "#fdca26"
             ],
             [
              1,
              "#f0f921"
             ]
            ],
            "type": "histogram2d"
           }
          ],
          "histogram2dcontour": [
           {
            "colorbar": {
             "outlinewidth": 0,
             "ticks": ""
            },
            "colorscale": [
             [
              0,
              "#0d0887"
             ],
             [
              0.1111111111111111,
              "#46039f"
             ],
             [
              0.2222222222222222,
              "#7201a8"
             ],
             [
              0.3333333333333333,
              "#9c179e"
             ],
             [
              0.4444444444444444,
              "#bd3786"
             ],
             [
              0.5555555555555556,
              "#d8576b"
             ],
             [
              0.6666666666666666,
              "#ed7953"
             ],
             [
              0.7777777777777778,
              "#fb9f3a"
             ],
             [
              0.8888888888888888,
              "#fdca26"
             ],
             [
              1,
              "#f0f921"
             ]
            ],
            "type": "histogram2dcontour"
           }
          ],
          "mesh3d": [
           {
            "colorbar": {
             "outlinewidth": 0,
             "ticks": ""
            },
            "type": "mesh3d"
           }
          ],
          "parcoords": [
           {
            "line": {
             "colorbar": {
              "outlinewidth": 0,
              "ticks": ""
             }
            },
            "type": "parcoords"
           }
          ],
          "pie": [
           {
            "automargin": true,
            "type": "pie"
           }
          ],
          "scatter": [
           {
            "fillpattern": {
             "fillmode": "overlay",
             "size": 10,
             "solidity": 0.2
            },
            "type": "scatter"
           }
          ],
          "scatter3d": [
           {
            "line": {
             "colorbar": {
              "outlinewidth": 0,
              "ticks": ""
             }
            },
            "marker": {
             "colorbar": {
              "outlinewidth": 0,
              "ticks": ""
             }
            },
            "type": "scatter3d"
           }
          ],
          "scattercarpet": [
           {
            "marker": {
             "colorbar": {
              "outlinewidth": 0,
              "ticks": ""
             }
            },
            "type": "scattercarpet"
           }
          ],
          "scattergeo": [
           {
            "marker": {
             "colorbar": {
              "outlinewidth": 0,
              "ticks": ""
             }
            },
            "type": "scattergeo"
           }
          ],
          "scattergl": [
           {
            "marker": {
             "colorbar": {
              "outlinewidth": 0,
              "ticks": ""
             }
            },
            "type": "scattergl"
           }
          ],
          "scattermapbox": [
           {
            "marker": {
             "colorbar": {
              "outlinewidth": 0,
              "ticks": ""
             }
            },
            "type": "scattermapbox"
           }
          ],
          "scatterpolar": [
           {
            "marker": {
             "colorbar": {
              "outlinewidth": 0,
              "ticks": ""
             }
            },
            "type": "scatterpolar"
           }
          ],
          "scatterpolargl": [
           {
            "marker": {
             "colorbar": {
              "outlinewidth": 0,
              "ticks": ""
             }
            },
            "type": "scatterpolargl"
           }
          ],
          "scatterternary": [
           {
            "marker": {
             "colorbar": {
              "outlinewidth": 0,
              "ticks": ""
             }
            },
            "type": "scatterternary"
           }
          ],
          "surface": [
           {
            "colorbar": {
             "outlinewidth": 0,
             "ticks": ""
            },
            "colorscale": [
             [
              0,
              "#0d0887"
             ],
             [
              0.1111111111111111,
              "#46039f"
             ],
             [
              0.2222222222222222,
              "#7201a8"
             ],
             [
              0.3333333333333333,
              "#9c179e"
             ],
             [
              0.4444444444444444,
              "#bd3786"
             ],
             [
              0.5555555555555556,
              "#d8576b"
             ],
             [
              0.6666666666666666,
              "#ed7953"
             ],
             [
              0.7777777777777778,
              "#fb9f3a"
             ],
             [
              0.8888888888888888,
              "#fdca26"
             ],
             [
              1,
              "#f0f921"
             ]
            ],
            "type": "surface"
           }
          ],
          "table": [
           {
            "cells": {
             "fill": {
              "color": "#EBF0F8"
             },
             "line": {
              "color": "white"
             }
            },
            "header": {
             "fill": {
              "color": "#C8D4E3"
             },
             "line": {
              "color": "white"
             }
            },
            "type": "table"
           }
          ]
         },
         "layout": {
          "annotationdefaults": {
           "arrowcolor": "#2a3f5f",
           "arrowhead": 0,
           "arrowwidth": 1
          },
          "autotypenumbers": "strict",
          "coloraxis": {
           "colorbar": {
            "outlinewidth": 0,
            "ticks": ""
           }
          },
          "colorscale": {
           "diverging": [
            [
             0,
             "#8e0152"
            ],
            [
             0.1,
             "#c51b7d"
            ],
            [
             0.2,
             "#de77ae"
            ],
            [
             0.3,
             "#f1b6da"
            ],
            [
             0.4,
             "#fde0ef"
            ],
            [
             0.5,
             "#f7f7f7"
            ],
            [
             0.6,
             "#e6f5d0"
            ],
            [
             0.7,
             "#b8e186"
            ],
            [
             0.8,
             "#7fbc41"
            ],
            [
             0.9,
             "#4d9221"
            ],
            [
             1,
             "#276419"
            ]
           ],
           "sequential": [
            [
             0,
             "#0d0887"
            ],
            [
             0.1111111111111111,
             "#46039f"
            ],
            [
             0.2222222222222222,
             "#7201a8"
            ],
            [
             0.3333333333333333,
             "#9c179e"
            ],
            [
             0.4444444444444444,
             "#bd3786"
            ],
            [
             0.5555555555555556,
             "#d8576b"
            ],
            [
             0.6666666666666666,
             "#ed7953"
            ],
            [
             0.7777777777777778,
             "#fb9f3a"
            ],
            [
             0.8888888888888888,
             "#fdca26"
            ],
            [
             1,
             "#f0f921"
            ]
           ],
           "sequentialminus": [
            [
             0,
             "#0d0887"
            ],
            [
             0.1111111111111111,
             "#46039f"
            ],
            [
             0.2222222222222222,
             "#7201a8"
            ],
            [
             0.3333333333333333,
             "#9c179e"
            ],
            [
             0.4444444444444444,
             "#bd3786"
            ],
            [
             0.5555555555555556,
             "#d8576b"
            ],
            [
             0.6666666666666666,
             "#ed7953"
            ],
            [
             0.7777777777777778,
             "#fb9f3a"
            ],
            [
             0.8888888888888888,
             "#fdca26"
            ],
            [
             1,
             "#f0f921"
            ]
           ]
          },
          "colorway": [
           "#636efa",
           "#EF553B",
           "#00cc96",
           "#ab63fa",
           "#FFA15A",
           "#19d3f3",
           "#FF6692",
           "#B6E880",
           "#FF97FF",
           "#FECB52"
          ],
          "font": {
           "color": "#2a3f5f"
          },
          "geo": {
           "bgcolor": "white",
           "lakecolor": "white",
           "landcolor": "#E5ECF6",
           "showlakes": true,
           "showland": true,
           "subunitcolor": "white"
          },
          "hoverlabel": {
           "align": "left"
          },
          "hovermode": "closest",
          "mapbox": {
           "style": "light"
          },
          "paper_bgcolor": "white",
          "plot_bgcolor": "#E5ECF6",
          "polar": {
           "angularaxis": {
            "gridcolor": "white",
            "linecolor": "white",
            "ticks": ""
           },
           "bgcolor": "#E5ECF6",
           "radialaxis": {
            "gridcolor": "white",
            "linecolor": "white",
            "ticks": ""
           }
          },
          "scene": {
           "xaxis": {
            "backgroundcolor": "#E5ECF6",
            "gridcolor": "white",
            "gridwidth": 2,
            "linecolor": "white",
            "showbackground": true,
            "ticks": "",
            "zerolinecolor": "white"
           },
           "yaxis": {
            "backgroundcolor": "#E5ECF6",
            "gridcolor": "white",
            "gridwidth": 2,
            "linecolor": "white",
            "showbackground": true,
            "ticks": "",
            "zerolinecolor": "white"
           },
           "zaxis": {
            "backgroundcolor": "#E5ECF6",
            "gridcolor": "white",
            "gridwidth": 2,
            "linecolor": "white",
            "showbackground": true,
            "ticks": "",
            "zerolinecolor": "white"
           }
          },
          "shapedefaults": {
           "line": {
            "color": "#2a3f5f"
           }
          },
          "ternary": {
           "aaxis": {
            "gridcolor": "white",
            "linecolor": "white",
            "ticks": ""
           },
           "baxis": {
            "gridcolor": "white",
            "linecolor": "white",
            "ticks": ""
           },
           "bgcolor": "#E5ECF6",
           "caxis": {
            "gridcolor": "white",
            "linecolor": "white",
            "ticks": ""
           }
          },
          "title": {
           "x": 0.05
          },
          "xaxis": {
           "automargin": true,
           "gridcolor": "white",
           "linecolor": "white",
           "ticks": "",
           "title": {
            "standoff": 15
           },
           "zerolinecolor": "white",
           "zerolinewidth": 2
          },
          "yaxis": {
           "automargin": true,
           "gridcolor": "white",
           "linecolor": "white",
           "ticks": "",
           "title": {
            "standoff": 15
           },
           "zerolinecolor": "white",
           "zerolinewidth": 2
          }
         }
        },
        "title": {
         "text": "Confusion Matrix for RandomForest_3"
        },
        "xaxis": {
         "scaleanchor": "y",
         "scaleratio": 1,
         "title": {
          "text": "Predicted Label"
         }
        },
        "yaxis": {
         "title": {
          "text": "Actual Label"
         }
        }
       }
      }
     },
     "metadata": {},
     "output_type": "display_data"
    },
    {
     "name": "stdout",
     "output_type": "stream",
     "text": [
      "\n",
      "Training RandomForest_5...\n"
     ]
    },
    {
     "data": {
      "application/vnd.plotly.v1+json": {
       "config": {
        "plotlyServerURL": "https://plot.ly"
       },
       "data": [
        {
         "colorscale": [
          [
           0,
           "rgb(247,251,255)"
          ],
          [
           0.125,
           "rgb(222,235,247)"
          ],
          [
           0.25,
           "rgb(198,219,239)"
          ],
          [
           0.375,
           "rgb(158,202,225)"
          ],
          [
           0.5,
           "rgb(107,174,214)"
          ],
          [
           0.625,
           "rgb(66,146,198)"
          ],
          [
           0.75,
           "rgb(33,113,181)"
          ],
          [
           0.875,
           "rgb(8,81,156)"
          ],
          [
           1,
           "rgb(8,48,107)"
          ]
         ],
         "showscale": true,
         "text": [
          [
           23,
           0,
           0,
           0,
           0,
           0
          ],
          [
           0,
           25,
           0,
           0,
           0,
           0
          ],
          [
           0,
           0,
           17,
           0,
           0,
           0
          ],
          [
           0,
           0,
           0,
           36,
           0,
           0
          ],
          [
           0,
           0,
           0,
           0,
           23,
           0
          ],
          [
           0,
           0,
           0,
           0,
           0,
           25
          ]
         ],
         "texttemplate": "%{text}",
         "type": "heatmap",
         "x": [
          "Predicted 0",
          "Predicted 1",
          "Predicted 2",
          "Predicted 3",
          "Predicted 4",
          "Predicted 5"
         ],
         "y": [
          "Actual 0",
          "Actual 1",
          "Actual 2",
          "Actual 3",
          "Actual 4",
          "Actual 5"
         ],
         "z": [
          [
           23,
           0,
           0,
           0,
           0,
           0
          ],
          [
           0,
           25,
           0,
           0,
           0,
           0
          ],
          [
           0,
           0,
           17,
           0,
           0,
           0
          ],
          [
           0,
           0,
           0,
           36,
           0,
           0
          ],
          [
           0,
           0,
           0,
           0,
           23,
           0
          ],
          [
           0,
           0,
           0,
           0,
           0,
           25
          ]
         ]
        }
       ],
       "layout": {
        "template": {
         "data": {
          "bar": [
           {
            "error_x": {
             "color": "#2a3f5f"
            },
            "error_y": {
             "color": "#2a3f5f"
            },
            "marker": {
             "line": {
              "color": "#E5ECF6",
              "width": 0.5
             },
             "pattern": {
              "fillmode": "overlay",
              "size": 10,
              "solidity": 0.2
             }
            },
            "type": "bar"
           }
          ],
          "barpolar": [
           {
            "marker": {
             "line": {
              "color": "#E5ECF6",
              "width": 0.5
             },
             "pattern": {
              "fillmode": "overlay",
              "size": 10,
              "solidity": 0.2
             }
            },
            "type": "barpolar"
           }
          ],
          "carpet": [
           {
            "aaxis": {
             "endlinecolor": "#2a3f5f",
             "gridcolor": "white",
             "linecolor": "white",
             "minorgridcolor": "white",
             "startlinecolor": "#2a3f5f"
            },
            "baxis": {
             "endlinecolor": "#2a3f5f",
             "gridcolor": "white",
             "linecolor": "white",
             "minorgridcolor": "white",
             "startlinecolor": "#2a3f5f"
            },
            "type": "carpet"
           }
          ],
          "choropleth": [
           {
            "colorbar": {
             "outlinewidth": 0,
             "ticks": ""
            },
            "type": "choropleth"
           }
          ],
          "contour": [
           {
            "colorbar": {
             "outlinewidth": 0,
             "ticks": ""
            },
            "colorscale": [
             [
              0,
              "#0d0887"
             ],
             [
              0.1111111111111111,
              "#46039f"
             ],
             [
              0.2222222222222222,
              "#7201a8"
             ],
             [
              0.3333333333333333,
              "#9c179e"
             ],
             [
              0.4444444444444444,
              "#bd3786"
             ],
             [
              0.5555555555555556,
              "#d8576b"
             ],
             [
              0.6666666666666666,
              "#ed7953"
             ],
             [
              0.7777777777777778,
              "#fb9f3a"
             ],
             [
              0.8888888888888888,
              "#fdca26"
             ],
             [
              1,
              "#f0f921"
             ]
            ],
            "type": "contour"
           }
          ],
          "contourcarpet": [
           {
            "colorbar": {
             "outlinewidth": 0,
             "ticks": ""
            },
            "type": "contourcarpet"
           }
          ],
          "heatmap": [
           {
            "colorbar": {
             "outlinewidth": 0,
             "ticks": ""
            },
            "colorscale": [
             [
              0,
              "#0d0887"
             ],
             [
              0.1111111111111111,
              "#46039f"
             ],
             [
              0.2222222222222222,
              "#7201a8"
             ],
             [
              0.3333333333333333,
              "#9c179e"
             ],
             [
              0.4444444444444444,
              "#bd3786"
             ],
             [
              0.5555555555555556,
              "#d8576b"
             ],
             [
              0.6666666666666666,
              "#ed7953"
             ],
             [
              0.7777777777777778,
              "#fb9f3a"
             ],
             [
              0.8888888888888888,
              "#fdca26"
             ],
             [
              1,
              "#f0f921"
             ]
            ],
            "type": "heatmap"
           }
          ],
          "heatmapgl": [
           {
            "colorbar": {
             "outlinewidth": 0,
             "ticks": ""
            },
            "colorscale": [
             [
              0,
              "#0d0887"
             ],
             [
              0.1111111111111111,
              "#46039f"
             ],
             [
              0.2222222222222222,
              "#7201a8"
             ],
             [
              0.3333333333333333,
              "#9c179e"
             ],
             [
              0.4444444444444444,
              "#bd3786"
             ],
             [
              0.5555555555555556,
              "#d8576b"
             ],
             [
              0.6666666666666666,
              "#ed7953"
             ],
             [
              0.7777777777777778,
              "#fb9f3a"
             ],
             [
              0.8888888888888888,
              "#fdca26"
             ],
             [
              1,
              "#f0f921"
             ]
            ],
            "type": "heatmapgl"
           }
          ],
          "histogram": [
           {
            "marker": {
             "pattern": {
              "fillmode": "overlay",
              "size": 10,
              "solidity": 0.2
             }
            },
            "type": "histogram"
           }
          ],
          "histogram2d": [
           {
            "colorbar": {
             "outlinewidth": 0,
             "ticks": ""
            },
            "colorscale": [
             [
              0,
              "#0d0887"
             ],
             [
              0.1111111111111111,
              "#46039f"
             ],
             [
              0.2222222222222222,
              "#7201a8"
             ],
             [
              0.3333333333333333,
              "#9c179e"
             ],
             [
              0.4444444444444444,
              "#bd3786"
             ],
             [
              0.5555555555555556,
              "#d8576b"
             ],
             [
              0.6666666666666666,
              "#ed7953"
             ],
             [
              0.7777777777777778,
              "#fb9f3a"
             ],
             [
              0.8888888888888888,
              "#fdca26"
             ],
             [
              1,
              "#f0f921"
             ]
            ],
            "type": "histogram2d"
           }
          ],
          "histogram2dcontour": [
           {
            "colorbar": {
             "outlinewidth": 0,
             "ticks": ""
            },
            "colorscale": [
             [
              0,
              "#0d0887"
             ],
             [
              0.1111111111111111,
              "#46039f"
             ],
             [
              0.2222222222222222,
              "#7201a8"
             ],
             [
              0.3333333333333333,
              "#9c179e"
             ],
             [
              0.4444444444444444,
              "#bd3786"
             ],
             [
              0.5555555555555556,
              "#d8576b"
             ],
             [
              0.6666666666666666,
              "#ed7953"
             ],
             [
              0.7777777777777778,
              "#fb9f3a"
             ],
             [
              0.8888888888888888,
              "#fdca26"
             ],
             [
              1,
              "#f0f921"
             ]
            ],
            "type": "histogram2dcontour"
           }
          ],
          "mesh3d": [
           {
            "colorbar": {
             "outlinewidth": 0,
             "ticks": ""
            },
            "type": "mesh3d"
           }
          ],
          "parcoords": [
           {
            "line": {
             "colorbar": {
              "outlinewidth": 0,
              "ticks": ""
             }
            },
            "type": "parcoords"
           }
          ],
          "pie": [
           {
            "automargin": true,
            "type": "pie"
           }
          ],
          "scatter": [
           {
            "fillpattern": {
             "fillmode": "overlay",
             "size": 10,
             "solidity": 0.2
            },
            "type": "scatter"
           }
          ],
          "scatter3d": [
           {
            "line": {
             "colorbar": {
              "outlinewidth": 0,
              "ticks": ""
             }
            },
            "marker": {
             "colorbar": {
              "outlinewidth": 0,
              "ticks": ""
             }
            },
            "type": "scatter3d"
           }
          ],
          "scattercarpet": [
           {
            "marker": {
             "colorbar": {
              "outlinewidth": 0,
              "ticks": ""
             }
            },
            "type": "scattercarpet"
           }
          ],
          "scattergeo": [
           {
            "marker": {
             "colorbar": {
              "outlinewidth": 0,
              "ticks": ""
             }
            },
            "type": "scattergeo"
           }
          ],
          "scattergl": [
           {
            "marker": {
             "colorbar": {
              "outlinewidth": 0,
              "ticks": ""
             }
            },
            "type": "scattergl"
           }
          ],
          "scattermapbox": [
           {
            "marker": {
             "colorbar": {
              "outlinewidth": 0,
              "ticks": ""
             }
            },
            "type": "scattermapbox"
           }
          ],
          "scatterpolar": [
           {
            "marker": {
             "colorbar": {
              "outlinewidth": 0,
              "ticks": ""
             }
            },
            "type": "scatterpolar"
           }
          ],
          "scatterpolargl": [
           {
            "marker": {
             "colorbar": {
              "outlinewidth": 0,
              "ticks": ""
             }
            },
            "type": "scatterpolargl"
           }
          ],
          "scatterternary": [
           {
            "marker": {
             "colorbar": {
              "outlinewidth": 0,
              "ticks": ""
             }
            },
            "type": "scatterternary"
           }
          ],
          "surface": [
           {
            "colorbar": {
             "outlinewidth": 0,
             "ticks": ""
            },
            "colorscale": [
             [
              0,
              "#0d0887"
             ],
             [
              0.1111111111111111,
              "#46039f"
             ],
             [
              0.2222222222222222,
              "#7201a8"
             ],
             [
              0.3333333333333333,
              "#9c179e"
             ],
             [
              0.4444444444444444,
              "#bd3786"
             ],
             [
              0.5555555555555556,
              "#d8576b"
             ],
             [
              0.6666666666666666,
              "#ed7953"
             ],
             [
              0.7777777777777778,
              "#fb9f3a"
             ],
             [
              0.8888888888888888,
              "#fdca26"
             ],
             [
              1,
              "#f0f921"
             ]
            ],
            "type": "surface"
           }
          ],
          "table": [
           {
            "cells": {
             "fill": {
              "color": "#EBF0F8"
             },
             "line": {
              "color": "white"
             }
            },
            "header": {
             "fill": {
              "color": "#C8D4E3"
             },
             "line": {
              "color": "white"
             }
            },
            "type": "table"
           }
          ]
         },
         "layout": {
          "annotationdefaults": {
           "arrowcolor": "#2a3f5f",
           "arrowhead": 0,
           "arrowwidth": 1
          },
          "autotypenumbers": "strict",
          "coloraxis": {
           "colorbar": {
            "outlinewidth": 0,
            "ticks": ""
           }
          },
          "colorscale": {
           "diverging": [
            [
             0,
             "#8e0152"
            ],
            [
             0.1,
             "#c51b7d"
            ],
            [
             0.2,
             "#de77ae"
            ],
            [
             0.3,
             "#f1b6da"
            ],
            [
             0.4,
             "#fde0ef"
            ],
            [
             0.5,
             "#f7f7f7"
            ],
            [
             0.6,
             "#e6f5d0"
            ],
            [
             0.7,
             "#b8e186"
            ],
            [
             0.8,
             "#7fbc41"
            ],
            [
             0.9,
             "#4d9221"
            ],
            [
             1,
             "#276419"
            ]
           ],
           "sequential": [
            [
             0,
             "#0d0887"
            ],
            [
             0.1111111111111111,
             "#46039f"
            ],
            [
             0.2222222222222222,
             "#7201a8"
            ],
            [
             0.3333333333333333,
             "#9c179e"
            ],
            [
             0.4444444444444444,
             "#bd3786"
            ],
            [
             0.5555555555555556,
             "#d8576b"
            ],
            [
             0.6666666666666666,
             "#ed7953"
            ],
            [
             0.7777777777777778,
             "#fb9f3a"
            ],
            [
             0.8888888888888888,
             "#fdca26"
            ],
            [
             1,
             "#f0f921"
            ]
           ],
           "sequentialminus": [
            [
             0,
             "#0d0887"
            ],
            [
             0.1111111111111111,
             "#46039f"
            ],
            [
             0.2222222222222222,
             "#7201a8"
            ],
            [
             0.3333333333333333,
             "#9c179e"
            ],
            [
             0.4444444444444444,
             "#bd3786"
            ],
            [
             0.5555555555555556,
             "#d8576b"
            ],
            [
             0.6666666666666666,
             "#ed7953"
            ],
            [
             0.7777777777777778,
             "#fb9f3a"
            ],
            [
             0.8888888888888888,
             "#fdca26"
            ],
            [
             1,
             "#f0f921"
            ]
           ]
          },
          "colorway": [
           "#636efa",
           "#EF553B",
           "#00cc96",
           "#ab63fa",
           "#FFA15A",
           "#19d3f3",
           "#FF6692",
           "#B6E880",
           "#FF97FF",
           "#FECB52"
          ],
          "font": {
           "color": "#2a3f5f"
          },
          "geo": {
           "bgcolor": "white",
           "lakecolor": "white",
           "landcolor": "#E5ECF6",
           "showlakes": true,
           "showland": true,
           "subunitcolor": "white"
          },
          "hoverlabel": {
           "align": "left"
          },
          "hovermode": "closest",
          "mapbox": {
           "style": "light"
          },
          "paper_bgcolor": "white",
          "plot_bgcolor": "#E5ECF6",
          "polar": {
           "angularaxis": {
            "gridcolor": "white",
            "linecolor": "white",
            "ticks": ""
           },
           "bgcolor": "#E5ECF6",
           "radialaxis": {
            "gridcolor": "white",
            "linecolor": "white",
            "ticks": ""
           }
          },
          "scene": {
           "xaxis": {
            "backgroundcolor": "#E5ECF6",
            "gridcolor": "white",
            "gridwidth": 2,
            "linecolor": "white",
            "showbackground": true,
            "ticks": "",
            "zerolinecolor": "white"
           },
           "yaxis": {
            "backgroundcolor": "#E5ECF6",
            "gridcolor": "white",
            "gridwidth": 2,
            "linecolor": "white",
            "showbackground": true,
            "ticks": "",
            "zerolinecolor": "white"
           },
           "zaxis": {
            "backgroundcolor": "#E5ECF6",
            "gridcolor": "white",
            "gridwidth": 2,
            "linecolor": "white",
            "showbackground": true,
            "ticks": "",
            "zerolinecolor": "white"
           }
          },
          "shapedefaults": {
           "line": {
            "color": "#2a3f5f"
           }
          },
          "ternary": {
           "aaxis": {
            "gridcolor": "white",
            "linecolor": "white",
            "ticks": ""
           },
           "baxis": {
            "gridcolor": "white",
            "linecolor": "white",
            "ticks": ""
           },
           "bgcolor": "#E5ECF6",
           "caxis": {
            "gridcolor": "white",
            "linecolor": "white",
            "ticks": ""
           }
          },
          "title": {
           "x": 0.05
          },
          "xaxis": {
           "automargin": true,
           "gridcolor": "white",
           "linecolor": "white",
           "ticks": "",
           "title": {
            "standoff": 15
           },
           "zerolinecolor": "white",
           "zerolinewidth": 2
          },
          "yaxis": {
           "automargin": true,
           "gridcolor": "white",
           "linecolor": "white",
           "ticks": "",
           "title": {
            "standoff": 15
           },
           "zerolinecolor": "white",
           "zerolinewidth": 2
          }
         }
        },
        "title": {
         "text": "Confusion Matrix for RandomForest_5"
        },
        "xaxis": {
         "scaleanchor": "y",
         "scaleratio": 1,
         "title": {
          "text": "Predicted Label"
         }
        },
        "yaxis": {
         "title": {
          "text": "Actual Label"
         }
        }
       }
      }
     },
     "metadata": {},
     "output_type": "display_data"
    },
    {
     "name": "stdout",
     "output_type": "stream",
     "text": [
      "\n",
      "Training NeuralNetwork_1...\n"
     ]
    },
    {
     "name": "stderr",
     "output_type": "stream",
     "text": [
      "/home/nirav24/.local/lib/python3.12/site-packages/sklearn/neural_network/_multilayer_perceptron.py:690: ConvergenceWarning:\n",
      "\n",
      "Stochastic Optimizer: Maximum iterations (200) reached and the optimization hasn't converged yet.\n",
      "\n"
     ]
    },
    {
     "data": {
      "application/vnd.plotly.v1+json": {
       "config": {
        "plotlyServerURL": "https://plot.ly"
       },
       "data": [
        {
         "colorscale": [
          [
           0,
           "rgb(247,251,255)"
          ],
          [
           0.125,
           "rgb(222,235,247)"
          ],
          [
           0.25,
           "rgb(198,219,239)"
          ],
          [
           0.375,
           "rgb(158,202,225)"
          ],
          [
           0.5,
           "rgb(107,174,214)"
          ],
          [
           0.625,
           "rgb(66,146,198)"
          ],
          [
           0.75,
           "rgb(33,113,181)"
          ],
          [
           0.875,
           "rgb(8,81,156)"
          ],
          [
           1,
           "rgb(8,48,107)"
          ]
         ],
         "showscale": true,
         "text": [
          [
           23,
           0,
           0,
           0,
           0,
           0
          ],
          [
           0,
           25,
           0,
           0,
           0,
           0
          ],
          [
           0,
           0,
           17,
           0,
           0,
           0
          ],
          [
           0,
           0,
           0,
           36,
           0,
           0
          ],
          [
           0,
           0,
           0,
           0,
           23,
           0
          ],
          [
           0,
           0,
           0,
           0,
           0,
           25
          ]
         ],
         "texttemplate": "%{text}",
         "type": "heatmap",
         "x": [
          "Predicted 0",
          "Predicted 1",
          "Predicted 2",
          "Predicted 3",
          "Predicted 4",
          "Predicted 5"
         ],
         "y": [
          "Actual 0",
          "Actual 1",
          "Actual 2",
          "Actual 3",
          "Actual 4",
          "Actual 5"
         ],
         "z": [
          [
           23,
           0,
           0,
           0,
           0,
           0
          ],
          [
           0,
           25,
           0,
           0,
           0,
           0
          ],
          [
           0,
           0,
           17,
           0,
           0,
           0
          ],
          [
           0,
           0,
           0,
           36,
           0,
           0
          ],
          [
           0,
           0,
           0,
           0,
           23,
           0
          ],
          [
           0,
           0,
           0,
           0,
           0,
           25
          ]
         ]
        }
       ],
       "layout": {
        "template": {
         "data": {
          "bar": [
           {
            "error_x": {
             "color": "#2a3f5f"
            },
            "error_y": {
             "color": "#2a3f5f"
            },
            "marker": {
             "line": {
              "color": "#E5ECF6",
              "width": 0.5
             },
             "pattern": {
              "fillmode": "overlay",
              "size": 10,
              "solidity": 0.2
             }
            },
            "type": "bar"
           }
          ],
          "barpolar": [
           {
            "marker": {
             "line": {
              "color": "#E5ECF6",
              "width": 0.5
             },
             "pattern": {
              "fillmode": "overlay",
              "size": 10,
              "solidity": 0.2
             }
            },
            "type": "barpolar"
           }
          ],
          "carpet": [
           {
            "aaxis": {
             "endlinecolor": "#2a3f5f",
             "gridcolor": "white",
             "linecolor": "white",
             "minorgridcolor": "white",
             "startlinecolor": "#2a3f5f"
            },
            "baxis": {
             "endlinecolor": "#2a3f5f",
             "gridcolor": "white",
             "linecolor": "white",
             "minorgridcolor": "white",
             "startlinecolor": "#2a3f5f"
            },
            "type": "carpet"
           }
          ],
          "choropleth": [
           {
            "colorbar": {
             "outlinewidth": 0,
             "ticks": ""
            },
            "type": "choropleth"
           }
          ],
          "contour": [
           {
            "colorbar": {
             "outlinewidth": 0,
             "ticks": ""
            },
            "colorscale": [
             [
              0,
              "#0d0887"
             ],
             [
              0.1111111111111111,
              "#46039f"
             ],
             [
              0.2222222222222222,
              "#7201a8"
             ],
             [
              0.3333333333333333,
              "#9c179e"
             ],
             [
              0.4444444444444444,
              "#bd3786"
             ],
             [
              0.5555555555555556,
              "#d8576b"
             ],
             [
              0.6666666666666666,
              "#ed7953"
             ],
             [
              0.7777777777777778,
              "#fb9f3a"
             ],
             [
              0.8888888888888888,
              "#fdca26"
             ],
             [
              1,
              "#f0f921"
             ]
            ],
            "type": "contour"
           }
          ],
          "contourcarpet": [
           {
            "colorbar": {
             "outlinewidth": 0,
             "ticks": ""
            },
            "type": "contourcarpet"
           }
          ],
          "heatmap": [
           {
            "colorbar": {
             "outlinewidth": 0,
             "ticks": ""
            },
            "colorscale": [
             [
              0,
              "#0d0887"
             ],
             [
              0.1111111111111111,
              "#46039f"
             ],
             [
              0.2222222222222222,
              "#7201a8"
             ],
             [
              0.3333333333333333,
              "#9c179e"
             ],
             [
              0.4444444444444444,
              "#bd3786"
             ],
             [
              0.5555555555555556,
              "#d8576b"
             ],
             [
              0.6666666666666666,
              "#ed7953"
             ],
             [
              0.7777777777777778,
              "#fb9f3a"
             ],
             [
              0.8888888888888888,
              "#fdca26"
             ],
             [
              1,
              "#f0f921"
             ]
            ],
            "type": "heatmap"
           }
          ],
          "heatmapgl": [
           {
            "colorbar": {
             "outlinewidth": 0,
             "ticks": ""
            },
            "colorscale": [
             [
              0,
              "#0d0887"
             ],
             [
              0.1111111111111111,
              "#46039f"
             ],
             [
              0.2222222222222222,
              "#7201a8"
             ],
             [
              0.3333333333333333,
              "#9c179e"
             ],
             [
              0.4444444444444444,
              "#bd3786"
             ],
             [
              0.5555555555555556,
              "#d8576b"
             ],
             [
              0.6666666666666666,
              "#ed7953"
             ],
             [
              0.7777777777777778,
              "#fb9f3a"
             ],
             [
              0.8888888888888888,
              "#fdca26"
             ],
             [
              1,
              "#f0f921"
             ]
            ],
            "type": "heatmapgl"
           }
          ],
          "histogram": [
           {
            "marker": {
             "pattern": {
              "fillmode": "overlay",
              "size": 10,
              "solidity": 0.2
             }
            },
            "type": "histogram"
           }
          ],
          "histogram2d": [
           {
            "colorbar": {
             "outlinewidth": 0,
             "ticks": ""
            },
            "colorscale": [
             [
              0,
              "#0d0887"
             ],
             [
              0.1111111111111111,
              "#46039f"
             ],
             [
              0.2222222222222222,
              "#7201a8"
             ],
             [
              0.3333333333333333,
              "#9c179e"
             ],
             [
              0.4444444444444444,
              "#bd3786"
             ],
             [
              0.5555555555555556,
              "#d8576b"
             ],
             [
              0.6666666666666666,
              "#ed7953"
             ],
             [
              0.7777777777777778,
              "#fb9f3a"
             ],
             [
              0.8888888888888888,
              "#fdca26"
             ],
             [
              1,
              "#f0f921"
             ]
            ],
            "type": "histogram2d"
           }
          ],
          "histogram2dcontour": [
           {
            "colorbar": {
             "outlinewidth": 0,
             "ticks": ""
            },
            "colorscale": [
             [
              0,
              "#0d0887"
             ],
             [
              0.1111111111111111,
              "#46039f"
             ],
             [
              0.2222222222222222,
              "#7201a8"
             ],
             [
              0.3333333333333333,
              "#9c179e"
             ],
             [
              0.4444444444444444,
              "#bd3786"
             ],
             [
              0.5555555555555556,
              "#d8576b"
             ],
             [
              0.6666666666666666,
              "#ed7953"
             ],
             [
              0.7777777777777778,
              "#fb9f3a"
             ],
             [
              0.8888888888888888,
              "#fdca26"
             ],
             [
              1,
              "#f0f921"
             ]
            ],
            "type": "histogram2dcontour"
           }
          ],
          "mesh3d": [
           {
            "colorbar": {
             "outlinewidth": 0,
             "ticks": ""
            },
            "type": "mesh3d"
           }
          ],
          "parcoords": [
           {
            "line": {
             "colorbar": {
              "outlinewidth": 0,
              "ticks": ""
             }
            },
            "type": "parcoords"
           }
          ],
          "pie": [
           {
            "automargin": true,
            "type": "pie"
           }
          ],
          "scatter": [
           {
            "fillpattern": {
             "fillmode": "overlay",
             "size": 10,
             "solidity": 0.2
            },
            "type": "scatter"
           }
          ],
          "scatter3d": [
           {
            "line": {
             "colorbar": {
              "outlinewidth": 0,
              "ticks": ""
             }
            },
            "marker": {
             "colorbar": {
              "outlinewidth": 0,
              "ticks": ""
             }
            },
            "type": "scatter3d"
           }
          ],
          "scattercarpet": [
           {
            "marker": {
             "colorbar": {
              "outlinewidth": 0,
              "ticks": ""
             }
            },
            "type": "scattercarpet"
           }
          ],
          "scattergeo": [
           {
            "marker": {
             "colorbar": {
              "outlinewidth": 0,
              "ticks": ""
             }
            },
            "type": "scattergeo"
           }
          ],
          "scattergl": [
           {
            "marker": {
             "colorbar": {
              "outlinewidth": 0,
              "ticks": ""
             }
            },
            "type": "scattergl"
           }
          ],
          "scattermapbox": [
           {
            "marker": {
             "colorbar": {
              "outlinewidth": 0,
              "ticks": ""
             }
            },
            "type": "scattermapbox"
           }
          ],
          "scatterpolar": [
           {
            "marker": {
             "colorbar": {
              "outlinewidth": 0,
              "ticks": ""
             }
            },
            "type": "scatterpolar"
           }
          ],
          "scatterpolargl": [
           {
            "marker": {
             "colorbar": {
              "outlinewidth": 0,
              "ticks": ""
             }
            },
            "type": "scatterpolargl"
           }
          ],
          "scatterternary": [
           {
            "marker": {
             "colorbar": {
              "outlinewidth": 0,
              "ticks": ""
             }
            },
            "type": "scatterternary"
           }
          ],
          "surface": [
           {
            "colorbar": {
             "outlinewidth": 0,
             "ticks": ""
            },
            "colorscale": [
             [
              0,
              "#0d0887"
             ],
             [
              0.1111111111111111,
              "#46039f"
             ],
             [
              0.2222222222222222,
              "#7201a8"
             ],
             [
              0.3333333333333333,
              "#9c179e"
             ],
             [
              0.4444444444444444,
              "#bd3786"
             ],
             [
              0.5555555555555556,
              "#d8576b"
             ],
             [
              0.6666666666666666,
              "#ed7953"
             ],
             [
              0.7777777777777778,
              "#fb9f3a"
             ],
             [
              0.8888888888888888,
              "#fdca26"
             ],
             [
              1,
              "#f0f921"
             ]
            ],
            "type": "surface"
           }
          ],
          "table": [
           {
            "cells": {
             "fill": {
              "color": "#EBF0F8"
             },
             "line": {
              "color": "white"
             }
            },
            "header": {
             "fill": {
              "color": "#C8D4E3"
             },
             "line": {
              "color": "white"
             }
            },
            "type": "table"
           }
          ]
         },
         "layout": {
          "annotationdefaults": {
           "arrowcolor": "#2a3f5f",
           "arrowhead": 0,
           "arrowwidth": 1
          },
          "autotypenumbers": "strict",
          "coloraxis": {
           "colorbar": {
            "outlinewidth": 0,
            "ticks": ""
           }
          },
          "colorscale": {
           "diverging": [
            [
             0,
             "#8e0152"
            ],
            [
             0.1,
             "#c51b7d"
            ],
            [
             0.2,
             "#de77ae"
            ],
            [
             0.3,
             "#f1b6da"
            ],
            [
             0.4,
             "#fde0ef"
            ],
            [
             0.5,
             "#f7f7f7"
            ],
            [
             0.6,
             "#e6f5d0"
            ],
            [
             0.7,
             "#b8e186"
            ],
            [
             0.8,
             "#7fbc41"
            ],
            [
             0.9,
             "#4d9221"
            ],
            [
             1,
             "#276419"
            ]
           ],
           "sequential": [
            [
             0,
             "#0d0887"
            ],
            [
             0.1111111111111111,
             "#46039f"
            ],
            [
             0.2222222222222222,
             "#7201a8"
            ],
            [
             0.3333333333333333,
             "#9c179e"
            ],
            [
             0.4444444444444444,
             "#bd3786"
            ],
            [
             0.5555555555555556,
             "#d8576b"
            ],
            [
             0.6666666666666666,
             "#ed7953"
            ],
            [
             0.7777777777777778,
             "#fb9f3a"
            ],
            [
             0.8888888888888888,
             "#fdca26"
            ],
            [
             1,
             "#f0f921"
            ]
           ],
           "sequentialminus": [
            [
             0,
             "#0d0887"
            ],
            [
             0.1111111111111111,
             "#46039f"
            ],
            [
             0.2222222222222222,
             "#7201a8"
            ],
            [
             0.3333333333333333,
             "#9c179e"
            ],
            [
             0.4444444444444444,
             "#bd3786"
            ],
            [
             0.5555555555555556,
             "#d8576b"
            ],
            [
             0.6666666666666666,
             "#ed7953"
            ],
            [
             0.7777777777777778,
             "#fb9f3a"
            ],
            [
             0.8888888888888888,
             "#fdca26"
            ],
            [
             1,
             "#f0f921"
            ]
           ]
          },
          "colorway": [
           "#636efa",
           "#EF553B",
           "#00cc96",
           "#ab63fa",
           "#FFA15A",
           "#19d3f3",
           "#FF6692",
           "#B6E880",
           "#FF97FF",
           "#FECB52"
          ],
          "font": {
           "color": "#2a3f5f"
          },
          "geo": {
           "bgcolor": "white",
           "lakecolor": "white",
           "landcolor": "#E5ECF6",
           "showlakes": true,
           "showland": true,
           "subunitcolor": "white"
          },
          "hoverlabel": {
           "align": "left"
          },
          "hovermode": "closest",
          "mapbox": {
           "style": "light"
          },
          "paper_bgcolor": "white",
          "plot_bgcolor": "#E5ECF6",
          "polar": {
           "angularaxis": {
            "gridcolor": "white",
            "linecolor": "white",
            "ticks": ""
           },
           "bgcolor": "#E5ECF6",
           "radialaxis": {
            "gridcolor": "white",
            "linecolor": "white",
            "ticks": ""
           }
          },
          "scene": {
           "xaxis": {
            "backgroundcolor": "#E5ECF6",
            "gridcolor": "white",
            "gridwidth": 2,
            "linecolor": "white",
            "showbackground": true,
            "ticks": "",
            "zerolinecolor": "white"
           },
           "yaxis": {
            "backgroundcolor": "#E5ECF6",
            "gridcolor": "white",
            "gridwidth": 2,
            "linecolor": "white",
            "showbackground": true,
            "ticks": "",
            "zerolinecolor": "white"
           },
           "zaxis": {
            "backgroundcolor": "#E5ECF6",
            "gridcolor": "white",
            "gridwidth": 2,
            "linecolor": "white",
            "showbackground": true,
            "ticks": "",
            "zerolinecolor": "white"
           }
          },
          "shapedefaults": {
           "line": {
            "color": "#2a3f5f"
           }
          },
          "ternary": {
           "aaxis": {
            "gridcolor": "white",
            "linecolor": "white",
            "ticks": ""
           },
           "baxis": {
            "gridcolor": "white",
            "linecolor": "white",
            "ticks": ""
           },
           "bgcolor": "#E5ECF6",
           "caxis": {
            "gridcolor": "white",
            "linecolor": "white",
            "ticks": ""
           }
          },
          "title": {
           "x": 0.05
          },
          "xaxis": {
           "automargin": true,
           "gridcolor": "white",
           "linecolor": "white",
           "ticks": "",
           "title": {
            "standoff": 15
           },
           "zerolinecolor": "white",
           "zerolinewidth": 2
          },
          "yaxis": {
           "automargin": true,
           "gridcolor": "white",
           "linecolor": "white",
           "ticks": "",
           "title": {
            "standoff": 15
           },
           "zerolinecolor": "white",
           "zerolinewidth": 2
          }
         }
        },
        "title": {
         "text": "Confusion Matrix for NeuralNetwork_1"
        },
        "xaxis": {
         "scaleanchor": "y",
         "scaleratio": 1,
         "title": {
          "text": "Predicted Label"
         }
        },
        "yaxis": {
         "title": {
          "text": "Actual Label"
         }
        }
       }
      }
     },
     "metadata": {},
     "output_type": "display_data"
    },
    {
     "name": "stdout",
     "output_type": "stream",
     "text": [
      "\n",
      "Training NeuralNetwork_2...\n"
     ]
    },
    {
     "name": "stderr",
     "output_type": "stream",
     "text": [
      "/home/nirav24/.local/lib/python3.12/site-packages/sklearn/neural_network/_multilayer_perceptron.py:690: ConvergenceWarning:\n",
      "\n",
      "Stochastic Optimizer: Maximum iterations (200) reached and the optimization hasn't converged yet.\n",
      "\n"
     ]
    },
    {
     "data": {
      "application/vnd.plotly.v1+json": {
       "config": {
        "plotlyServerURL": "https://plot.ly"
       },
       "data": [
        {
         "colorscale": [
          [
           0,
           "rgb(247,251,255)"
          ],
          [
           0.125,
           "rgb(222,235,247)"
          ],
          [
           0.25,
           "rgb(198,219,239)"
          ],
          [
           0.375,
           "rgb(158,202,225)"
          ],
          [
           0.5,
           "rgb(107,174,214)"
          ],
          [
           0.625,
           "rgb(66,146,198)"
          ],
          [
           0.75,
           "rgb(33,113,181)"
          ],
          [
           0.875,
           "rgb(8,81,156)"
          ],
          [
           1,
           "rgb(8,48,107)"
          ]
         ],
         "showscale": true,
         "text": [
          [
           23,
           0,
           0,
           0,
           0,
           0
          ],
          [
           0,
           25,
           0,
           0,
           0,
           0
          ],
          [
           0,
           0,
           17,
           0,
           0,
           0
          ],
          [
           0,
           0,
           0,
           36,
           0,
           0
          ],
          [
           0,
           0,
           0,
           0,
           23,
           0
          ],
          [
           0,
           0,
           0,
           0,
           0,
           25
          ]
         ],
         "texttemplate": "%{text}",
         "type": "heatmap",
         "x": [
          "Predicted 0",
          "Predicted 1",
          "Predicted 2",
          "Predicted 3",
          "Predicted 4",
          "Predicted 5"
         ],
         "y": [
          "Actual 0",
          "Actual 1",
          "Actual 2",
          "Actual 3",
          "Actual 4",
          "Actual 5"
         ],
         "z": [
          [
           23,
           0,
           0,
           0,
           0,
           0
          ],
          [
           0,
           25,
           0,
           0,
           0,
           0
          ],
          [
           0,
           0,
           17,
           0,
           0,
           0
          ],
          [
           0,
           0,
           0,
           36,
           0,
           0
          ],
          [
           0,
           0,
           0,
           0,
           23,
           0
          ],
          [
           0,
           0,
           0,
           0,
           0,
           25
          ]
         ]
        }
       ],
       "layout": {
        "template": {
         "data": {
          "bar": [
           {
            "error_x": {
             "color": "#2a3f5f"
            },
            "error_y": {
             "color": "#2a3f5f"
            },
            "marker": {
             "line": {
              "color": "#E5ECF6",
              "width": 0.5
             },
             "pattern": {
              "fillmode": "overlay",
              "size": 10,
              "solidity": 0.2
             }
            },
            "type": "bar"
           }
          ],
          "barpolar": [
           {
            "marker": {
             "line": {
              "color": "#E5ECF6",
              "width": 0.5
             },
             "pattern": {
              "fillmode": "overlay",
              "size": 10,
              "solidity": 0.2
             }
            },
            "type": "barpolar"
           }
          ],
          "carpet": [
           {
            "aaxis": {
             "endlinecolor": "#2a3f5f",
             "gridcolor": "white",
             "linecolor": "white",
             "minorgridcolor": "white",
             "startlinecolor": "#2a3f5f"
            },
            "baxis": {
             "endlinecolor": "#2a3f5f",
             "gridcolor": "white",
             "linecolor": "white",
             "minorgridcolor": "white",
             "startlinecolor": "#2a3f5f"
            },
            "type": "carpet"
           }
          ],
          "choropleth": [
           {
            "colorbar": {
             "outlinewidth": 0,
             "ticks": ""
            },
            "type": "choropleth"
           }
          ],
          "contour": [
           {
            "colorbar": {
             "outlinewidth": 0,
             "ticks": ""
            },
            "colorscale": [
             [
              0,
              "#0d0887"
             ],
             [
              0.1111111111111111,
              "#46039f"
             ],
             [
              0.2222222222222222,
              "#7201a8"
             ],
             [
              0.3333333333333333,
              "#9c179e"
             ],
             [
              0.4444444444444444,
              "#bd3786"
             ],
             [
              0.5555555555555556,
              "#d8576b"
             ],
             [
              0.6666666666666666,
              "#ed7953"
             ],
             [
              0.7777777777777778,
              "#fb9f3a"
             ],
             [
              0.8888888888888888,
              "#fdca26"
             ],
             [
              1,
              "#f0f921"
             ]
            ],
            "type": "contour"
           }
          ],
          "contourcarpet": [
           {
            "colorbar": {
             "outlinewidth": 0,
             "ticks": ""
            },
            "type": "contourcarpet"
           }
          ],
          "heatmap": [
           {
            "colorbar": {
             "outlinewidth": 0,
             "ticks": ""
            },
            "colorscale": [
             [
              0,
              "#0d0887"
             ],
             [
              0.1111111111111111,
              "#46039f"
             ],
             [
              0.2222222222222222,
              "#7201a8"
             ],
             [
              0.3333333333333333,
              "#9c179e"
             ],
             [
              0.4444444444444444,
              "#bd3786"
             ],
             [
              0.5555555555555556,
              "#d8576b"
             ],
             [
              0.6666666666666666,
              "#ed7953"
             ],
             [
              0.7777777777777778,
              "#fb9f3a"
             ],
             [
              0.8888888888888888,
              "#fdca26"
             ],
             [
              1,
              "#f0f921"
             ]
            ],
            "type": "heatmap"
           }
          ],
          "heatmapgl": [
           {
            "colorbar": {
             "outlinewidth": 0,
             "ticks": ""
            },
            "colorscale": [
             [
              0,
              "#0d0887"
             ],
             [
              0.1111111111111111,
              "#46039f"
             ],
             [
              0.2222222222222222,
              "#7201a8"
             ],
             [
              0.3333333333333333,
              "#9c179e"
             ],
             [
              0.4444444444444444,
              "#bd3786"
             ],
             [
              0.5555555555555556,
              "#d8576b"
             ],
             [
              0.6666666666666666,
              "#ed7953"
             ],
             [
              0.7777777777777778,
              "#fb9f3a"
             ],
             [
              0.8888888888888888,
              "#fdca26"
             ],
             [
              1,
              "#f0f921"
             ]
            ],
            "type": "heatmapgl"
           }
          ],
          "histogram": [
           {
            "marker": {
             "pattern": {
              "fillmode": "overlay",
              "size": 10,
              "solidity": 0.2
             }
            },
            "type": "histogram"
           }
          ],
          "histogram2d": [
           {
            "colorbar": {
             "outlinewidth": 0,
             "ticks": ""
            },
            "colorscale": [
             [
              0,
              "#0d0887"
             ],
             [
              0.1111111111111111,
              "#46039f"
             ],
             [
              0.2222222222222222,
              "#7201a8"
             ],
             [
              0.3333333333333333,
              "#9c179e"
             ],
             [
              0.4444444444444444,
              "#bd3786"
             ],
             [
              0.5555555555555556,
              "#d8576b"
             ],
             [
              0.6666666666666666,
              "#ed7953"
             ],
             [
              0.7777777777777778,
              "#fb9f3a"
             ],
             [
              0.8888888888888888,
              "#fdca26"
             ],
             [
              1,
              "#f0f921"
             ]
            ],
            "type": "histogram2d"
           }
          ],
          "histogram2dcontour": [
           {
            "colorbar": {
             "outlinewidth": 0,
             "ticks": ""
            },
            "colorscale": [
             [
              0,
              "#0d0887"
             ],
             [
              0.1111111111111111,
              "#46039f"
             ],
             [
              0.2222222222222222,
              "#7201a8"
             ],
             [
              0.3333333333333333,
              "#9c179e"
             ],
             [
              0.4444444444444444,
              "#bd3786"
             ],
             [
              0.5555555555555556,
              "#d8576b"
             ],
             [
              0.6666666666666666,
              "#ed7953"
             ],
             [
              0.7777777777777778,
              "#fb9f3a"
             ],
             [
              0.8888888888888888,
              "#fdca26"
             ],
             [
              1,
              "#f0f921"
             ]
            ],
            "type": "histogram2dcontour"
           }
          ],
          "mesh3d": [
           {
            "colorbar": {
             "outlinewidth": 0,
             "ticks": ""
            },
            "type": "mesh3d"
           }
          ],
          "parcoords": [
           {
            "line": {
             "colorbar": {
              "outlinewidth": 0,
              "ticks": ""
             }
            },
            "type": "parcoords"
           }
          ],
          "pie": [
           {
            "automargin": true,
            "type": "pie"
           }
          ],
          "scatter": [
           {
            "fillpattern": {
             "fillmode": "overlay",
             "size": 10,
             "solidity": 0.2
            },
            "type": "scatter"
           }
          ],
          "scatter3d": [
           {
            "line": {
             "colorbar": {
              "outlinewidth": 0,
              "ticks": ""
             }
            },
            "marker": {
             "colorbar": {
              "outlinewidth": 0,
              "ticks": ""
             }
            },
            "type": "scatter3d"
           }
          ],
          "scattercarpet": [
           {
            "marker": {
             "colorbar": {
              "outlinewidth": 0,
              "ticks": ""
             }
            },
            "type": "scattercarpet"
           }
          ],
          "scattergeo": [
           {
            "marker": {
             "colorbar": {
              "outlinewidth": 0,
              "ticks": ""
             }
            },
            "type": "scattergeo"
           }
          ],
          "scattergl": [
           {
            "marker": {
             "colorbar": {
              "outlinewidth": 0,
              "ticks": ""
             }
            },
            "type": "scattergl"
           }
          ],
          "scattermapbox": [
           {
            "marker": {
             "colorbar": {
              "outlinewidth": 0,
              "ticks": ""
             }
            },
            "type": "scattermapbox"
           }
          ],
          "scatterpolar": [
           {
            "marker": {
             "colorbar": {
              "outlinewidth": 0,
              "ticks": ""
             }
            },
            "type": "scatterpolar"
           }
          ],
          "scatterpolargl": [
           {
            "marker": {
             "colorbar": {
              "outlinewidth": 0,
              "ticks": ""
             }
            },
            "type": "scatterpolargl"
           }
          ],
          "scatterternary": [
           {
            "marker": {
             "colorbar": {
              "outlinewidth": 0,
              "ticks": ""
             }
            },
            "type": "scatterternary"
           }
          ],
          "surface": [
           {
            "colorbar": {
             "outlinewidth": 0,
             "ticks": ""
            },
            "colorscale": [
             [
              0,
              "#0d0887"
             ],
             [
              0.1111111111111111,
              "#46039f"
             ],
             [
              0.2222222222222222,
              "#7201a8"
             ],
             [
              0.3333333333333333,
              "#9c179e"
             ],
             [
              0.4444444444444444,
              "#bd3786"
             ],
             [
              0.5555555555555556,
              "#d8576b"
             ],
             [
              0.6666666666666666,
              "#ed7953"
             ],
             [
              0.7777777777777778,
              "#fb9f3a"
             ],
             [
              0.8888888888888888,
              "#fdca26"
             ],
             [
              1,
              "#f0f921"
             ]
            ],
            "type": "surface"
           }
          ],
          "table": [
           {
            "cells": {
             "fill": {
              "color": "#EBF0F8"
             },
             "line": {
              "color": "white"
             }
            },
            "header": {
             "fill": {
              "color": "#C8D4E3"
             },
             "line": {
              "color": "white"
             }
            },
            "type": "table"
           }
          ]
         },
         "layout": {
          "annotationdefaults": {
           "arrowcolor": "#2a3f5f",
           "arrowhead": 0,
           "arrowwidth": 1
          },
          "autotypenumbers": "strict",
          "coloraxis": {
           "colorbar": {
            "outlinewidth": 0,
            "ticks": ""
           }
          },
          "colorscale": {
           "diverging": [
            [
             0,
             "#8e0152"
            ],
            [
             0.1,
             "#c51b7d"
            ],
            [
             0.2,
             "#de77ae"
            ],
            [
             0.3,
             "#f1b6da"
            ],
            [
             0.4,
             "#fde0ef"
            ],
            [
             0.5,
             "#f7f7f7"
            ],
            [
             0.6,
             "#e6f5d0"
            ],
            [
             0.7,
             "#b8e186"
            ],
            [
             0.8,
             "#7fbc41"
            ],
            [
             0.9,
             "#4d9221"
            ],
            [
             1,
             "#276419"
            ]
           ],
           "sequential": [
            [
             0,
             "#0d0887"
            ],
            [
             0.1111111111111111,
             "#46039f"
            ],
            [
             0.2222222222222222,
             "#7201a8"
            ],
            [
             0.3333333333333333,
             "#9c179e"
            ],
            [
             0.4444444444444444,
             "#bd3786"
            ],
            [
             0.5555555555555556,
             "#d8576b"
            ],
            [
             0.6666666666666666,
             "#ed7953"
            ],
            [
             0.7777777777777778,
             "#fb9f3a"
            ],
            [
             0.8888888888888888,
             "#fdca26"
            ],
            [
             1,
             "#f0f921"
            ]
           ],
           "sequentialminus": [
            [
             0,
             "#0d0887"
            ],
            [
             0.1111111111111111,
             "#46039f"
            ],
            [
             0.2222222222222222,
             "#7201a8"
            ],
            [
             0.3333333333333333,
             "#9c179e"
            ],
            [
             0.4444444444444444,
             "#bd3786"
            ],
            [
             0.5555555555555556,
             "#d8576b"
            ],
            [
             0.6666666666666666,
             "#ed7953"
            ],
            [
             0.7777777777777778,
             "#fb9f3a"
            ],
            [
             0.8888888888888888,
             "#fdca26"
            ],
            [
             1,
             "#f0f921"
            ]
           ]
          },
          "colorway": [
           "#636efa",
           "#EF553B",
           "#00cc96",
           "#ab63fa",
           "#FFA15A",
           "#19d3f3",
           "#FF6692",
           "#B6E880",
           "#FF97FF",
           "#FECB52"
          ],
          "font": {
           "color": "#2a3f5f"
          },
          "geo": {
           "bgcolor": "white",
           "lakecolor": "white",
           "landcolor": "#E5ECF6",
           "showlakes": true,
           "showland": true,
           "subunitcolor": "white"
          },
          "hoverlabel": {
           "align": "left"
          },
          "hovermode": "closest",
          "mapbox": {
           "style": "light"
          },
          "paper_bgcolor": "white",
          "plot_bgcolor": "#E5ECF6",
          "polar": {
           "angularaxis": {
            "gridcolor": "white",
            "linecolor": "white",
            "ticks": ""
           },
           "bgcolor": "#E5ECF6",
           "radialaxis": {
            "gridcolor": "white",
            "linecolor": "white",
            "ticks": ""
           }
          },
          "scene": {
           "xaxis": {
            "backgroundcolor": "#E5ECF6",
            "gridcolor": "white",
            "gridwidth": 2,
            "linecolor": "white",
            "showbackground": true,
            "ticks": "",
            "zerolinecolor": "white"
           },
           "yaxis": {
            "backgroundcolor": "#E5ECF6",
            "gridcolor": "white",
            "gridwidth": 2,
            "linecolor": "white",
            "showbackground": true,
            "ticks": "",
            "zerolinecolor": "white"
           },
           "zaxis": {
            "backgroundcolor": "#E5ECF6",
            "gridcolor": "white",
            "gridwidth": 2,
            "linecolor": "white",
            "showbackground": true,
            "ticks": "",
            "zerolinecolor": "white"
           }
          },
          "shapedefaults": {
           "line": {
            "color": "#2a3f5f"
           }
          },
          "ternary": {
           "aaxis": {
            "gridcolor": "white",
            "linecolor": "white",
            "ticks": ""
           },
           "baxis": {
            "gridcolor": "white",
            "linecolor": "white",
            "ticks": ""
           },
           "bgcolor": "#E5ECF6",
           "caxis": {
            "gridcolor": "white",
            "linecolor": "white",
            "ticks": ""
           }
          },
          "title": {
           "x": 0.05
          },
          "xaxis": {
           "automargin": true,
           "gridcolor": "white",
           "linecolor": "white",
           "ticks": "",
           "title": {
            "standoff": 15
           },
           "zerolinecolor": "white",
           "zerolinewidth": 2
          },
          "yaxis": {
           "automargin": true,
           "gridcolor": "white",
           "linecolor": "white",
           "ticks": "",
           "title": {
            "standoff": 15
           },
           "zerolinecolor": "white",
           "zerolinewidth": 2
          }
         }
        },
        "title": {
         "text": "Confusion Matrix for NeuralNetwork_2"
        },
        "xaxis": {
         "scaleanchor": "y",
         "scaleratio": 1,
         "title": {
          "text": "Predicted Label"
         }
        },
        "yaxis": {
         "title": {
          "text": "Actual Label"
         }
        }
       }
      }
     },
     "metadata": {},
     "output_type": "display_data"
    },
    {
     "name": "stdout",
     "output_type": "stream",
     "text": [
      "\n",
      "Training NeuralNetwork_3...\n"
     ]
    },
    {
     "name": "stderr",
     "output_type": "stream",
     "text": [
      "/home/nirav24/.local/lib/python3.12/site-packages/sklearn/neural_network/_multilayer_perceptron.py:690: ConvergenceWarning:\n",
      "\n",
      "Stochastic Optimizer: Maximum iterations (200) reached and the optimization hasn't converged yet.\n",
      "\n"
     ]
    },
    {
     "data": {
      "application/vnd.plotly.v1+json": {
       "config": {
        "plotlyServerURL": "https://plot.ly"
       },
       "data": [
        {
         "colorscale": [
          [
           0,
           "rgb(247,251,255)"
          ],
          [
           0.125,
           "rgb(222,235,247)"
          ],
          [
           0.25,
           "rgb(198,219,239)"
          ],
          [
           0.375,
           "rgb(158,202,225)"
          ],
          [
           0.5,
           "rgb(107,174,214)"
          ],
          [
           0.625,
           "rgb(66,146,198)"
          ],
          [
           0.75,
           "rgb(33,113,181)"
          ],
          [
           0.875,
           "rgb(8,81,156)"
          ],
          [
           1,
           "rgb(8,48,107)"
          ]
         ],
         "showscale": true,
         "text": [
          [
           23,
           0,
           0,
           0,
           0,
           0
          ],
          [
           0,
           25,
           0,
           0,
           0,
           0
          ],
          [
           2,
           0,
           14,
           0,
           0,
           1
          ],
          [
           0,
           0,
           0,
           36,
           0,
           0
          ],
          [
           0,
           0,
           0,
           0,
           23,
           0
          ],
          [
           0,
           0,
           0,
           0,
           0,
           25
          ]
         ],
         "texttemplate": "%{text}",
         "type": "heatmap",
         "x": [
          "Predicted 0",
          "Predicted 1",
          "Predicted 2",
          "Predicted 3",
          "Predicted 4",
          "Predicted 5"
         ],
         "y": [
          "Actual 0",
          "Actual 1",
          "Actual 2",
          "Actual 3",
          "Actual 4",
          "Actual 5"
         ],
         "z": [
          [
           23,
           0,
           0,
           0,
           0,
           0
          ],
          [
           0,
           25,
           0,
           0,
           0,
           0
          ],
          [
           2,
           0,
           14,
           0,
           0,
           1
          ],
          [
           0,
           0,
           0,
           36,
           0,
           0
          ],
          [
           0,
           0,
           0,
           0,
           23,
           0
          ],
          [
           0,
           0,
           0,
           0,
           0,
           25
          ]
         ]
        }
       ],
       "layout": {
        "template": {
         "data": {
          "bar": [
           {
            "error_x": {
             "color": "#2a3f5f"
            },
            "error_y": {
             "color": "#2a3f5f"
            },
            "marker": {
             "line": {
              "color": "#E5ECF6",
              "width": 0.5
             },
             "pattern": {
              "fillmode": "overlay",
              "size": 10,
              "solidity": 0.2
             }
            },
            "type": "bar"
           }
          ],
          "barpolar": [
           {
            "marker": {
             "line": {
              "color": "#E5ECF6",
              "width": 0.5
             },
             "pattern": {
              "fillmode": "overlay",
              "size": 10,
              "solidity": 0.2
             }
            },
            "type": "barpolar"
           }
          ],
          "carpet": [
           {
            "aaxis": {
             "endlinecolor": "#2a3f5f",
             "gridcolor": "white",
             "linecolor": "white",
             "minorgridcolor": "white",
             "startlinecolor": "#2a3f5f"
            },
            "baxis": {
             "endlinecolor": "#2a3f5f",
             "gridcolor": "white",
             "linecolor": "white",
             "minorgridcolor": "white",
             "startlinecolor": "#2a3f5f"
            },
            "type": "carpet"
           }
          ],
          "choropleth": [
           {
            "colorbar": {
             "outlinewidth": 0,
             "ticks": ""
            },
            "type": "choropleth"
           }
          ],
          "contour": [
           {
            "colorbar": {
             "outlinewidth": 0,
             "ticks": ""
            },
            "colorscale": [
             [
              0,
              "#0d0887"
             ],
             [
              0.1111111111111111,
              "#46039f"
             ],
             [
              0.2222222222222222,
              "#7201a8"
             ],
             [
              0.3333333333333333,
              "#9c179e"
             ],
             [
              0.4444444444444444,
              "#bd3786"
             ],
             [
              0.5555555555555556,
              "#d8576b"
             ],
             [
              0.6666666666666666,
              "#ed7953"
             ],
             [
              0.7777777777777778,
              "#fb9f3a"
             ],
             [
              0.8888888888888888,
              "#fdca26"
             ],
             [
              1,
              "#f0f921"
             ]
            ],
            "type": "contour"
           }
          ],
          "contourcarpet": [
           {
            "colorbar": {
             "outlinewidth": 0,
             "ticks": ""
            },
            "type": "contourcarpet"
           }
          ],
          "heatmap": [
           {
            "colorbar": {
             "outlinewidth": 0,
             "ticks": ""
            },
            "colorscale": [
             [
              0,
              "#0d0887"
             ],
             [
              0.1111111111111111,
              "#46039f"
             ],
             [
              0.2222222222222222,
              "#7201a8"
             ],
             [
              0.3333333333333333,
              "#9c179e"
             ],
             [
              0.4444444444444444,
              "#bd3786"
             ],
             [
              0.5555555555555556,
              "#d8576b"
             ],
             [
              0.6666666666666666,
              "#ed7953"
             ],
             [
              0.7777777777777778,
              "#fb9f3a"
             ],
             [
              0.8888888888888888,
              "#fdca26"
             ],
             [
              1,
              "#f0f921"
             ]
            ],
            "type": "heatmap"
           }
          ],
          "heatmapgl": [
           {
            "colorbar": {
             "outlinewidth": 0,
             "ticks": ""
            },
            "colorscale": [
             [
              0,
              "#0d0887"
             ],
             [
              0.1111111111111111,
              "#46039f"
             ],
             [
              0.2222222222222222,
              "#7201a8"
             ],
             [
              0.3333333333333333,
              "#9c179e"
             ],
             [
              0.4444444444444444,
              "#bd3786"
             ],
             [
              0.5555555555555556,
              "#d8576b"
             ],
             [
              0.6666666666666666,
              "#ed7953"
             ],
             [
              0.7777777777777778,
              "#fb9f3a"
             ],
             [
              0.8888888888888888,
              "#fdca26"
             ],
             [
              1,
              "#f0f921"
             ]
            ],
            "type": "heatmapgl"
           }
          ],
          "histogram": [
           {
            "marker": {
             "pattern": {
              "fillmode": "overlay",
              "size": 10,
              "solidity": 0.2
             }
            },
            "type": "histogram"
           }
          ],
          "histogram2d": [
           {
            "colorbar": {
             "outlinewidth": 0,
             "ticks": ""
            },
            "colorscale": [
             [
              0,
              "#0d0887"
             ],
             [
              0.1111111111111111,
              "#46039f"
             ],
             [
              0.2222222222222222,
              "#7201a8"
             ],
             [
              0.3333333333333333,
              "#9c179e"
             ],
             [
              0.4444444444444444,
              "#bd3786"
             ],
             [
              0.5555555555555556,
              "#d8576b"
             ],
             [
              0.6666666666666666,
              "#ed7953"
             ],
             [
              0.7777777777777778,
              "#fb9f3a"
             ],
             [
              0.8888888888888888,
              "#fdca26"
             ],
             [
              1,
              "#f0f921"
             ]
            ],
            "type": "histogram2d"
           }
          ],
          "histogram2dcontour": [
           {
            "colorbar": {
             "outlinewidth": 0,
             "ticks": ""
            },
            "colorscale": [
             [
              0,
              "#0d0887"
             ],
             [
              0.1111111111111111,
              "#46039f"
             ],
             [
              0.2222222222222222,
              "#7201a8"
             ],
             [
              0.3333333333333333,
              "#9c179e"
             ],
             [
              0.4444444444444444,
              "#bd3786"
             ],
             [
              0.5555555555555556,
              "#d8576b"
             ],
             [
              0.6666666666666666,
              "#ed7953"
             ],
             [
              0.7777777777777778,
              "#fb9f3a"
             ],
             [
              0.8888888888888888,
              "#fdca26"
             ],
             [
              1,
              "#f0f921"
             ]
            ],
            "type": "histogram2dcontour"
           }
          ],
          "mesh3d": [
           {
            "colorbar": {
             "outlinewidth": 0,
             "ticks": ""
            },
            "type": "mesh3d"
           }
          ],
          "parcoords": [
           {
            "line": {
             "colorbar": {
              "outlinewidth": 0,
              "ticks": ""
             }
            },
            "type": "parcoords"
           }
          ],
          "pie": [
           {
            "automargin": true,
            "type": "pie"
           }
          ],
          "scatter": [
           {
            "fillpattern": {
             "fillmode": "overlay",
             "size": 10,
             "solidity": 0.2
            },
            "type": "scatter"
           }
          ],
          "scatter3d": [
           {
            "line": {
             "colorbar": {
              "outlinewidth": 0,
              "ticks": ""
             }
            },
            "marker": {
             "colorbar": {
              "outlinewidth": 0,
              "ticks": ""
             }
            },
            "type": "scatter3d"
           }
          ],
          "scattercarpet": [
           {
            "marker": {
             "colorbar": {
              "outlinewidth": 0,
              "ticks": ""
             }
            },
            "type": "scattercarpet"
           }
          ],
          "scattergeo": [
           {
            "marker": {
             "colorbar": {
              "outlinewidth": 0,
              "ticks": ""
             }
            },
            "type": "scattergeo"
           }
          ],
          "scattergl": [
           {
            "marker": {
             "colorbar": {
              "outlinewidth": 0,
              "ticks": ""
             }
            },
            "type": "scattergl"
           }
          ],
          "scattermapbox": [
           {
            "marker": {
             "colorbar": {
              "outlinewidth": 0,
              "ticks": ""
             }
            },
            "type": "scattermapbox"
           }
          ],
          "scatterpolar": [
           {
            "marker": {
             "colorbar": {
              "outlinewidth": 0,
              "ticks": ""
             }
            },
            "type": "scatterpolar"
           }
          ],
          "scatterpolargl": [
           {
            "marker": {
             "colorbar": {
              "outlinewidth": 0,
              "ticks": ""
             }
            },
            "type": "scatterpolargl"
           }
          ],
          "scatterternary": [
           {
            "marker": {
             "colorbar": {
              "outlinewidth": 0,
              "ticks": ""
             }
            },
            "type": "scatterternary"
           }
          ],
          "surface": [
           {
            "colorbar": {
             "outlinewidth": 0,
             "ticks": ""
            },
            "colorscale": [
             [
              0,
              "#0d0887"
             ],
             [
              0.1111111111111111,
              "#46039f"
             ],
             [
              0.2222222222222222,
              "#7201a8"
             ],
             [
              0.3333333333333333,
              "#9c179e"
             ],
             [
              0.4444444444444444,
              "#bd3786"
             ],
             [
              0.5555555555555556,
              "#d8576b"
             ],
             [
              0.6666666666666666,
              "#ed7953"
             ],
             [
              0.7777777777777778,
              "#fb9f3a"
             ],
             [
              0.8888888888888888,
              "#fdca26"
             ],
             [
              1,
              "#f0f921"
             ]
            ],
            "type": "surface"
           }
          ],
          "table": [
           {
            "cells": {
             "fill": {
              "color": "#EBF0F8"
             },
             "line": {
              "color": "white"
             }
            },
            "header": {
             "fill": {
              "color": "#C8D4E3"
             },
             "line": {
              "color": "white"
             }
            },
            "type": "table"
           }
          ]
         },
         "layout": {
          "annotationdefaults": {
           "arrowcolor": "#2a3f5f",
           "arrowhead": 0,
           "arrowwidth": 1
          },
          "autotypenumbers": "strict",
          "coloraxis": {
           "colorbar": {
            "outlinewidth": 0,
            "ticks": ""
           }
          },
          "colorscale": {
           "diverging": [
            [
             0,
             "#8e0152"
            ],
            [
             0.1,
             "#c51b7d"
            ],
            [
             0.2,
             "#de77ae"
            ],
            [
             0.3,
             "#f1b6da"
            ],
            [
             0.4,
             "#fde0ef"
            ],
            [
             0.5,
             "#f7f7f7"
            ],
            [
             0.6,
             "#e6f5d0"
            ],
            [
             0.7,
             "#b8e186"
            ],
            [
             0.8,
             "#7fbc41"
            ],
            [
             0.9,
             "#4d9221"
            ],
            [
             1,
             "#276419"
            ]
           ],
           "sequential": [
            [
             0,
             "#0d0887"
            ],
            [
             0.1111111111111111,
             "#46039f"
            ],
            [
             0.2222222222222222,
             "#7201a8"
            ],
            [
             0.3333333333333333,
             "#9c179e"
            ],
            [
             0.4444444444444444,
             "#bd3786"
            ],
            [
             0.5555555555555556,
             "#d8576b"
            ],
            [
             0.6666666666666666,
             "#ed7953"
            ],
            [
             0.7777777777777778,
             "#fb9f3a"
            ],
            [
             0.8888888888888888,
             "#fdca26"
            ],
            [
             1,
             "#f0f921"
            ]
           ],
           "sequentialminus": [
            [
             0,
             "#0d0887"
            ],
            [
             0.1111111111111111,
             "#46039f"
            ],
            [
             0.2222222222222222,
             "#7201a8"
            ],
            [
             0.3333333333333333,
             "#9c179e"
            ],
            [
             0.4444444444444444,
             "#bd3786"
            ],
            [
             0.5555555555555556,
             "#d8576b"
            ],
            [
             0.6666666666666666,
             "#ed7953"
            ],
            [
             0.7777777777777778,
             "#fb9f3a"
            ],
            [
             0.8888888888888888,
             "#fdca26"
            ],
            [
             1,
             "#f0f921"
            ]
           ]
          },
          "colorway": [
           "#636efa",
           "#EF553B",
           "#00cc96",
           "#ab63fa",
           "#FFA15A",
           "#19d3f3",
           "#FF6692",
           "#B6E880",
           "#FF97FF",
           "#FECB52"
          ],
          "font": {
           "color": "#2a3f5f"
          },
          "geo": {
           "bgcolor": "white",
           "lakecolor": "white",
           "landcolor": "#E5ECF6",
           "showlakes": true,
           "showland": true,
           "subunitcolor": "white"
          },
          "hoverlabel": {
           "align": "left"
          },
          "hovermode": "closest",
          "mapbox": {
           "style": "light"
          },
          "paper_bgcolor": "white",
          "plot_bgcolor": "#E5ECF6",
          "polar": {
           "angularaxis": {
            "gridcolor": "white",
            "linecolor": "white",
            "ticks": ""
           },
           "bgcolor": "#E5ECF6",
           "radialaxis": {
            "gridcolor": "white",
            "linecolor": "white",
            "ticks": ""
           }
          },
          "scene": {
           "xaxis": {
            "backgroundcolor": "#E5ECF6",
            "gridcolor": "white",
            "gridwidth": 2,
            "linecolor": "white",
            "showbackground": true,
            "ticks": "",
            "zerolinecolor": "white"
           },
           "yaxis": {
            "backgroundcolor": "#E5ECF6",
            "gridcolor": "white",
            "gridwidth": 2,
            "linecolor": "white",
            "showbackground": true,
            "ticks": "",
            "zerolinecolor": "white"
           },
           "zaxis": {
            "backgroundcolor": "#E5ECF6",
            "gridcolor": "white",
            "gridwidth": 2,
            "linecolor": "white",
            "showbackground": true,
            "ticks": "",
            "zerolinecolor": "white"
           }
          },
          "shapedefaults": {
           "line": {
            "color": "#2a3f5f"
           }
          },
          "ternary": {
           "aaxis": {
            "gridcolor": "white",
            "linecolor": "white",
            "ticks": ""
           },
           "baxis": {
            "gridcolor": "white",
            "linecolor": "white",
            "ticks": ""
           },
           "bgcolor": "#E5ECF6",
           "caxis": {
            "gridcolor": "white",
            "linecolor": "white",
            "ticks": ""
           }
          },
          "title": {
           "x": 0.05
          },
          "xaxis": {
           "automargin": true,
           "gridcolor": "white",
           "linecolor": "white",
           "ticks": "",
           "title": {
            "standoff": 15
           },
           "zerolinecolor": "white",
           "zerolinewidth": 2
          },
          "yaxis": {
           "automargin": true,
           "gridcolor": "white",
           "linecolor": "white",
           "ticks": "",
           "title": {
            "standoff": 15
           },
           "zerolinecolor": "white",
           "zerolinewidth": 2
          }
         }
        },
        "title": {
         "text": "Confusion Matrix for NeuralNetwork_3"
        },
        "xaxis": {
         "scaleanchor": "y",
         "scaleratio": 1,
         "title": {
          "text": "Predicted Label"
         }
        },
        "yaxis": {
         "title": {
          "text": "Actual Label"
         }
        }
       }
      }
     },
     "metadata": {},
     "output_type": "display_data"
    },
    {
     "name": "stdout",
     "output_type": "stream",
     "text": [
      "\n",
      "Training NeuralNetwork_4...\n"
     ]
    },
    {
     "name": "stderr",
     "output_type": "stream",
     "text": [
      "/home/nirav24/.local/lib/python3.12/site-packages/sklearn/neural_network/_multilayer_perceptron.py:690: ConvergenceWarning:\n",
      "\n",
      "Stochastic Optimizer: Maximum iterations (200) reached and the optimization hasn't converged yet.\n",
      "\n"
     ]
    },
    {
     "data": {
      "application/vnd.plotly.v1+json": {
       "config": {
        "plotlyServerURL": "https://plot.ly"
       },
       "data": [
        {
         "colorscale": [
          [
           0,
           "rgb(247,251,255)"
          ],
          [
           0.125,
           "rgb(222,235,247)"
          ],
          [
           0.25,
           "rgb(198,219,239)"
          ],
          [
           0.375,
           "rgb(158,202,225)"
          ],
          [
           0.5,
           "rgb(107,174,214)"
          ],
          [
           0.625,
           "rgb(66,146,198)"
          ],
          [
           0.75,
           "rgb(33,113,181)"
          ],
          [
           0.875,
           "rgb(8,81,156)"
          ],
          [
           1,
           "rgb(8,48,107)"
          ]
         ],
         "showscale": true,
         "text": [
          [
           23,
           0,
           0,
           0,
           0,
           0
          ],
          [
           0,
           25,
           0,
           0,
           0,
           0
          ],
          [
           0,
           0,
           17,
           0,
           0,
           0
          ],
          [
           0,
           0,
           0,
           36,
           0,
           0
          ],
          [
           0,
           0,
           0,
           0,
           23,
           0
          ],
          [
           0,
           0,
           0,
           0,
           0,
           25
          ]
         ],
         "texttemplate": "%{text}",
         "type": "heatmap",
         "x": [
          "Predicted 0",
          "Predicted 1",
          "Predicted 2",
          "Predicted 3",
          "Predicted 4",
          "Predicted 5"
         ],
         "y": [
          "Actual 0",
          "Actual 1",
          "Actual 2",
          "Actual 3",
          "Actual 4",
          "Actual 5"
         ],
         "z": [
          [
           23,
           0,
           0,
           0,
           0,
           0
          ],
          [
           0,
           25,
           0,
           0,
           0,
           0
          ],
          [
           0,
           0,
           17,
           0,
           0,
           0
          ],
          [
           0,
           0,
           0,
           36,
           0,
           0
          ],
          [
           0,
           0,
           0,
           0,
           23,
           0
          ],
          [
           0,
           0,
           0,
           0,
           0,
           25
          ]
         ]
        }
       ],
       "layout": {
        "template": {
         "data": {
          "bar": [
           {
            "error_x": {
             "color": "#2a3f5f"
            },
            "error_y": {
             "color": "#2a3f5f"
            },
            "marker": {
             "line": {
              "color": "#E5ECF6",
              "width": 0.5
             },
             "pattern": {
              "fillmode": "overlay",
              "size": 10,
              "solidity": 0.2
             }
            },
            "type": "bar"
           }
          ],
          "barpolar": [
           {
            "marker": {
             "line": {
              "color": "#E5ECF6",
              "width": 0.5
             },
             "pattern": {
              "fillmode": "overlay",
              "size": 10,
              "solidity": 0.2
             }
            },
            "type": "barpolar"
           }
          ],
          "carpet": [
           {
            "aaxis": {
             "endlinecolor": "#2a3f5f",
             "gridcolor": "white",
             "linecolor": "white",
             "minorgridcolor": "white",
             "startlinecolor": "#2a3f5f"
            },
            "baxis": {
             "endlinecolor": "#2a3f5f",
             "gridcolor": "white",
             "linecolor": "white",
             "minorgridcolor": "white",
             "startlinecolor": "#2a3f5f"
            },
            "type": "carpet"
           }
          ],
          "choropleth": [
           {
            "colorbar": {
             "outlinewidth": 0,
             "ticks": ""
            },
            "type": "choropleth"
           }
          ],
          "contour": [
           {
            "colorbar": {
             "outlinewidth": 0,
             "ticks": ""
            },
            "colorscale": [
             [
              0,
              "#0d0887"
             ],
             [
              0.1111111111111111,
              "#46039f"
             ],
             [
              0.2222222222222222,
              "#7201a8"
             ],
             [
              0.3333333333333333,
              "#9c179e"
             ],
             [
              0.4444444444444444,
              "#bd3786"
             ],
             [
              0.5555555555555556,
              "#d8576b"
             ],
             [
              0.6666666666666666,
              "#ed7953"
             ],
             [
              0.7777777777777778,
              "#fb9f3a"
             ],
             [
              0.8888888888888888,
              "#fdca26"
             ],
             [
              1,
              "#f0f921"
             ]
            ],
            "type": "contour"
           }
          ],
          "contourcarpet": [
           {
            "colorbar": {
             "outlinewidth": 0,
             "ticks": ""
            },
            "type": "contourcarpet"
           }
          ],
          "heatmap": [
           {
            "colorbar": {
             "outlinewidth": 0,
             "ticks": ""
            },
            "colorscale": [
             [
              0,
              "#0d0887"
             ],
             [
              0.1111111111111111,
              "#46039f"
             ],
             [
              0.2222222222222222,
              "#7201a8"
             ],
             [
              0.3333333333333333,
              "#9c179e"
             ],
             [
              0.4444444444444444,
              "#bd3786"
             ],
             [
              0.5555555555555556,
              "#d8576b"
             ],
             [
              0.6666666666666666,
              "#ed7953"
             ],
             [
              0.7777777777777778,
              "#fb9f3a"
             ],
             [
              0.8888888888888888,
              "#fdca26"
             ],
             [
              1,
              "#f0f921"
             ]
            ],
            "type": "heatmap"
           }
          ],
          "heatmapgl": [
           {
            "colorbar": {
             "outlinewidth": 0,
             "ticks": ""
            },
            "colorscale": [
             [
              0,
              "#0d0887"
             ],
             [
              0.1111111111111111,
              "#46039f"
             ],
             [
              0.2222222222222222,
              "#7201a8"
             ],
             [
              0.3333333333333333,
              "#9c179e"
             ],
             [
              0.4444444444444444,
              "#bd3786"
             ],
             [
              0.5555555555555556,
              "#d8576b"
             ],
             [
              0.6666666666666666,
              "#ed7953"
             ],
             [
              0.7777777777777778,
              "#fb9f3a"
             ],
             [
              0.8888888888888888,
              "#fdca26"
             ],
             [
              1,
              "#f0f921"
             ]
            ],
            "type": "heatmapgl"
           }
          ],
          "histogram": [
           {
            "marker": {
             "pattern": {
              "fillmode": "overlay",
              "size": 10,
              "solidity": 0.2
             }
            },
            "type": "histogram"
           }
          ],
          "histogram2d": [
           {
            "colorbar": {
             "outlinewidth": 0,
             "ticks": ""
            },
            "colorscale": [
             [
              0,
              "#0d0887"
             ],
             [
              0.1111111111111111,
              "#46039f"
             ],
             [
              0.2222222222222222,
              "#7201a8"
             ],
             [
              0.3333333333333333,
              "#9c179e"
             ],
             [
              0.4444444444444444,
              "#bd3786"
             ],
             [
              0.5555555555555556,
              "#d8576b"
             ],
             [
              0.6666666666666666,
              "#ed7953"
             ],
             [
              0.7777777777777778,
              "#fb9f3a"
             ],
             [
              0.8888888888888888,
              "#fdca26"
             ],
             [
              1,
              "#f0f921"
             ]
            ],
            "type": "histogram2d"
           }
          ],
          "histogram2dcontour": [
           {
            "colorbar": {
             "outlinewidth": 0,
             "ticks": ""
            },
            "colorscale": [
             [
              0,
              "#0d0887"
             ],
             [
              0.1111111111111111,
              "#46039f"
             ],
             [
              0.2222222222222222,
              "#7201a8"
             ],
             [
              0.3333333333333333,
              "#9c179e"
             ],
             [
              0.4444444444444444,
              "#bd3786"
             ],
             [
              0.5555555555555556,
              "#d8576b"
             ],
             [
              0.6666666666666666,
              "#ed7953"
             ],
             [
              0.7777777777777778,
              "#fb9f3a"
             ],
             [
              0.8888888888888888,
              "#fdca26"
             ],
             [
              1,
              "#f0f921"
             ]
            ],
            "type": "histogram2dcontour"
           }
          ],
          "mesh3d": [
           {
            "colorbar": {
             "outlinewidth": 0,
             "ticks": ""
            },
            "type": "mesh3d"
           }
          ],
          "parcoords": [
           {
            "line": {
             "colorbar": {
              "outlinewidth": 0,
              "ticks": ""
             }
            },
            "type": "parcoords"
           }
          ],
          "pie": [
           {
            "automargin": true,
            "type": "pie"
           }
          ],
          "scatter": [
           {
            "fillpattern": {
             "fillmode": "overlay",
             "size": 10,
             "solidity": 0.2
            },
            "type": "scatter"
           }
          ],
          "scatter3d": [
           {
            "line": {
             "colorbar": {
              "outlinewidth": 0,
              "ticks": ""
             }
            },
            "marker": {
             "colorbar": {
              "outlinewidth": 0,
              "ticks": ""
             }
            },
            "type": "scatter3d"
           }
          ],
          "scattercarpet": [
           {
            "marker": {
             "colorbar": {
              "outlinewidth": 0,
              "ticks": ""
             }
            },
            "type": "scattercarpet"
           }
          ],
          "scattergeo": [
           {
            "marker": {
             "colorbar": {
              "outlinewidth": 0,
              "ticks": ""
             }
            },
            "type": "scattergeo"
           }
          ],
          "scattergl": [
           {
            "marker": {
             "colorbar": {
              "outlinewidth": 0,
              "ticks": ""
             }
            },
            "type": "scattergl"
           }
          ],
          "scattermapbox": [
           {
            "marker": {
             "colorbar": {
              "outlinewidth": 0,
              "ticks": ""
             }
            },
            "type": "scattermapbox"
           }
          ],
          "scatterpolar": [
           {
            "marker": {
             "colorbar": {
              "outlinewidth": 0,
              "ticks": ""
             }
            },
            "type": "scatterpolar"
           }
          ],
          "scatterpolargl": [
           {
            "marker": {
             "colorbar": {
              "outlinewidth": 0,
              "ticks": ""
             }
            },
            "type": "scatterpolargl"
           }
          ],
          "scatterternary": [
           {
            "marker": {
             "colorbar": {
              "outlinewidth": 0,
              "ticks": ""
             }
            },
            "type": "scatterternary"
           }
          ],
          "surface": [
           {
            "colorbar": {
             "outlinewidth": 0,
             "ticks": ""
            },
            "colorscale": [
             [
              0,
              "#0d0887"
             ],
             [
              0.1111111111111111,
              "#46039f"
             ],
             [
              0.2222222222222222,
              "#7201a8"
             ],
             [
              0.3333333333333333,
              "#9c179e"
             ],
             [
              0.4444444444444444,
              "#bd3786"
             ],
             [
              0.5555555555555556,
              "#d8576b"
             ],
             [
              0.6666666666666666,
              "#ed7953"
             ],
             [
              0.7777777777777778,
              "#fb9f3a"
             ],
             [
              0.8888888888888888,
              "#fdca26"
             ],
             [
              1,
              "#f0f921"
             ]
            ],
            "type": "surface"
           }
          ],
          "table": [
           {
            "cells": {
             "fill": {
              "color": "#EBF0F8"
             },
             "line": {
              "color": "white"
             }
            },
            "header": {
             "fill": {
              "color": "#C8D4E3"
             },
             "line": {
              "color": "white"
             }
            },
            "type": "table"
           }
          ]
         },
         "layout": {
          "annotationdefaults": {
           "arrowcolor": "#2a3f5f",
           "arrowhead": 0,
           "arrowwidth": 1
          },
          "autotypenumbers": "strict",
          "coloraxis": {
           "colorbar": {
            "outlinewidth": 0,
            "ticks": ""
           }
          },
          "colorscale": {
           "diverging": [
            [
             0,
             "#8e0152"
            ],
            [
             0.1,
             "#c51b7d"
            ],
            [
             0.2,
             "#de77ae"
            ],
            [
             0.3,
             "#f1b6da"
            ],
            [
             0.4,
             "#fde0ef"
            ],
            [
             0.5,
             "#f7f7f7"
            ],
            [
             0.6,
             "#e6f5d0"
            ],
            [
             0.7,
             "#b8e186"
            ],
            [
             0.8,
             "#7fbc41"
            ],
            [
             0.9,
             "#4d9221"
            ],
            [
             1,
             "#276419"
            ]
           ],
           "sequential": [
            [
             0,
             "#0d0887"
            ],
            [
             0.1111111111111111,
             "#46039f"
            ],
            [
             0.2222222222222222,
             "#7201a8"
            ],
            [
             0.3333333333333333,
             "#9c179e"
            ],
            [
             0.4444444444444444,
             "#bd3786"
            ],
            [
             0.5555555555555556,
             "#d8576b"
            ],
            [
             0.6666666666666666,
             "#ed7953"
            ],
            [
             0.7777777777777778,
             "#fb9f3a"
            ],
            [
             0.8888888888888888,
             "#fdca26"
            ],
            [
             1,
             "#f0f921"
            ]
           ],
           "sequentialminus": [
            [
             0,
             "#0d0887"
            ],
            [
             0.1111111111111111,
             "#46039f"
            ],
            [
             0.2222222222222222,
             "#7201a8"
            ],
            [
             0.3333333333333333,
             "#9c179e"
            ],
            [
             0.4444444444444444,
             "#bd3786"
            ],
            [
             0.5555555555555556,
             "#d8576b"
            ],
            [
             0.6666666666666666,
             "#ed7953"
            ],
            [
             0.7777777777777778,
             "#fb9f3a"
            ],
            [
             0.8888888888888888,
             "#fdca26"
            ],
            [
             1,
             "#f0f921"
            ]
           ]
          },
          "colorway": [
           "#636efa",
           "#EF553B",
           "#00cc96",
           "#ab63fa",
           "#FFA15A",
           "#19d3f3",
           "#FF6692",
           "#B6E880",
           "#FF97FF",
           "#FECB52"
          ],
          "font": {
           "color": "#2a3f5f"
          },
          "geo": {
           "bgcolor": "white",
           "lakecolor": "white",
           "landcolor": "#E5ECF6",
           "showlakes": true,
           "showland": true,
           "subunitcolor": "white"
          },
          "hoverlabel": {
           "align": "left"
          },
          "hovermode": "closest",
          "mapbox": {
           "style": "light"
          },
          "paper_bgcolor": "white",
          "plot_bgcolor": "#E5ECF6",
          "polar": {
           "angularaxis": {
            "gridcolor": "white",
            "linecolor": "white",
            "ticks": ""
           },
           "bgcolor": "#E5ECF6",
           "radialaxis": {
            "gridcolor": "white",
            "linecolor": "white",
            "ticks": ""
           }
          },
          "scene": {
           "xaxis": {
            "backgroundcolor": "#E5ECF6",
            "gridcolor": "white",
            "gridwidth": 2,
            "linecolor": "white",
            "showbackground": true,
            "ticks": "",
            "zerolinecolor": "white"
           },
           "yaxis": {
            "backgroundcolor": "#E5ECF6",
            "gridcolor": "white",
            "gridwidth": 2,
            "linecolor": "white",
            "showbackground": true,
            "ticks": "",
            "zerolinecolor": "white"
           },
           "zaxis": {
            "backgroundcolor": "#E5ECF6",
            "gridcolor": "white",
            "gridwidth": 2,
            "linecolor": "white",
            "showbackground": true,
            "ticks": "",
            "zerolinecolor": "white"
           }
          },
          "shapedefaults": {
           "line": {
            "color": "#2a3f5f"
           }
          },
          "ternary": {
           "aaxis": {
            "gridcolor": "white",
            "linecolor": "white",
            "ticks": ""
           },
           "baxis": {
            "gridcolor": "white",
            "linecolor": "white",
            "ticks": ""
           },
           "bgcolor": "#E5ECF6",
           "caxis": {
            "gridcolor": "white",
            "linecolor": "white",
            "ticks": ""
           }
          },
          "title": {
           "x": 0.05
          },
          "xaxis": {
           "automargin": true,
           "gridcolor": "white",
           "linecolor": "white",
           "ticks": "",
           "title": {
            "standoff": 15
           },
           "zerolinecolor": "white",
           "zerolinewidth": 2
          },
          "yaxis": {
           "automargin": true,
           "gridcolor": "white",
           "linecolor": "white",
           "ticks": "",
           "title": {
            "standoff": 15
           },
           "zerolinecolor": "white",
           "zerolinewidth": 2
          }
         }
        },
        "title": {
         "text": "Confusion Matrix for NeuralNetwork_4"
        },
        "xaxis": {
         "scaleanchor": "y",
         "scaleratio": 1,
         "title": {
          "text": "Predicted Label"
         }
        },
        "yaxis": {
         "title": {
          "text": "Actual Label"
         }
        }
       }
      }
     },
     "metadata": {},
     "output_type": "display_data"
    }
   ],
   "source": [
    "import plotly.graph_objects as go\n",
    "\n",
    "results = {}\n",
    "\n",
    "# Training, prediction, and metric calculations\n",
    "for model_name, model in models.items():\n",
    "    print(f\"\\nTraining {model_name}...\")\n",
    "    model.fit(X_train, y_train_encoded)  # Train the model\n",
    "    y_pred_train = model.predict(X_train) #Predict on train set\n",
    "    y_pred_test = model.predict(X_test)  # Predict on the test set\n",
    "    \n",
    "    # Storing metrics\n",
    "    results[model_name] = {\n",
    "        \"Accuracy_Train\": accuracy_score(y_train_encoded, y_pred_train),\n",
    "        \"Accuracy_Test\": accuracy_score(y_test_encoded, y_pred_test),\n",
    "        \"Precision\": precision_score(y_train_encoded, y_pred_train, average='weighted'),\n",
    "        \"Precision\": precision_score(y_test_encoded, y_pred_test, average='weighted'),\n",
    "        \"Recall\": recall_score(y_train_encoded, y_pred_train, average='weighted'),\n",
    "        \"Recall\": recall_score(y_test_encoded, y_pred_test, average='weighted'),\n",
    "        \"F1 Score\": f1_score(y_train_encoded, y_pred_train, average='weighted'),\n",
    "        \"F1 Score\": f1_score(y_test_encoded, y_pred_test, average='weighted'),\n",
    "        \"Confusion Matrix\": confusion_matrix(y_test_encoded, y_pred_test),\n",
    "        \"Classification Report\": classification_report(y_train_encoded, y_pred_train),\n",
    "        \"Classification Report\": classification_report(y_test_encoded, y_pred_test)\n",
    "    }\n",
    "\n",
    "    # Plotting the confusion matrix using Plotly with numbers displayed and square grid\n",
    "    confusion_mat = results[model_name][\"Confusion Matrix\"]\n",
    "    fig = go.Figure(data=go.Heatmap(\n",
    "        z=confusion_mat,\n",
    "        x=[f\"Predicted {i}\" for i in range(len(confusion_mat))],\n",
    "        y=[f\"Actual {i}\" for i in range(len(confusion_mat))],\n",
    "        colorscale=\"Blues\",\n",
    "        text=confusion_mat,  # Display numbers in each cell\n",
    "        texttemplate=\"%{text}\",  # Format to show text values\n",
    "        showscale=True\n",
    "    ))\n",
    "    fig.update_layout(\n",
    "        title=f\"Confusion Matrix for {model_name}\",\n",
    "        xaxis_title=\"Predicted Label\",\n",
    "        yaxis_title=\"Actual Label\",\n",
    "        xaxis=dict(scaleanchor=\"y\", scaleratio=1)  # Ensures square cells\n",
    "    )\n",
    "    fig.show()\n"
   ]
  },
  {
   "cell_type": "code",
   "execution_count": 40,
   "metadata": {},
   "outputs": [
    {
     "name": "stdout",
     "output_type": "stream",
     "text": [
      "\n",
      "Metrics for Logistic Regression:\n",
      "\n",
      "Accuracy_Train:\n",
      "0.9954954954954955\n",
      "\n",
      "Accuracy_Test:\n",
      "1.0\n",
      "\n",
      "Precision:\n",
      "1.0\n",
      "\n",
      "Recall:\n",
      "1.0\n",
      "\n",
      "F1 Score:\n",
      "1.0\n",
      "\n",
      "Confusion Matrix:\n",
      "[[23  0  0  0  0  0]\n",
      " [ 0 25  0  0  0  0]\n",
      " [ 0  0 17  0  0  0]\n",
      " [ 0  0  0 36  0  0]\n",
      " [ 0  0  0  0 23  0]\n",
      " [ 0  0  0  0  0 25]]\n",
      "\n",
      "Classification Report:\n",
      "              precision    recall  f1-score   support\n",
      "\n",
      "           0       1.00      1.00      1.00        23\n",
      "           1       1.00      1.00      1.00        25\n",
      "           2       1.00      1.00      1.00        17\n",
      "           3       1.00      1.00      1.00        36\n",
      "           4       1.00      1.00      1.00        23\n",
      "           5       1.00      1.00      1.00        25\n",
      "\n",
      "    accuracy                           1.00       149\n",
      "   macro avg       1.00      1.00      1.00       149\n",
      "weighted avg       1.00      1.00      1.00       149\n",
      "\n",
      "\n",
      "\n",
      "Metrics for K-Nearest Neighbors:\n",
      "\n",
      "Accuracy_Train:\n",
      "0.9954954954954955\n",
      "\n",
      "Accuracy_Test:\n",
      "1.0\n",
      "\n",
      "Precision:\n",
      "1.0\n",
      "\n",
      "Recall:\n",
      "1.0\n",
      "\n",
      "F1 Score:\n",
      "1.0\n",
      "\n",
      "Confusion Matrix:\n",
      "[[23  0  0  0  0  0]\n",
      " [ 0 25  0  0  0  0]\n",
      " [ 0  0 17  0  0  0]\n",
      " [ 0  0  0 36  0  0]\n",
      " [ 0  0  0  0 23  0]\n",
      " [ 0  0  0  0  0 25]]\n",
      "\n",
      "Classification Report:\n",
      "              precision    recall  f1-score   support\n",
      "\n",
      "           0       1.00      1.00      1.00        23\n",
      "           1       1.00      1.00      1.00        25\n",
      "           2       1.00      1.00      1.00        17\n",
      "           3       1.00      1.00      1.00        36\n",
      "           4       1.00      1.00      1.00        23\n",
      "           5       1.00      1.00      1.00        25\n",
      "\n",
      "    accuracy                           1.00       149\n",
      "   macro avg       1.00      1.00      1.00       149\n",
      "weighted avg       1.00      1.00      1.00       149\n",
      "\n",
      "\n",
      "\n",
      "Metrics for Random Forest:\n",
      "\n",
      "Accuracy_Train:\n",
      "0.9954954954954955\n",
      "\n",
      "Accuracy_Test:\n",
      "1.0\n",
      "\n",
      "Precision:\n",
      "1.0\n",
      "\n",
      "Recall:\n",
      "1.0\n",
      "\n",
      "F1 Score:\n",
      "1.0\n",
      "\n",
      "Confusion Matrix:\n",
      "[[23  0  0  0  0  0]\n",
      " [ 0 25  0  0  0  0]\n",
      " [ 0  0 17  0  0  0]\n",
      " [ 0  0  0 36  0  0]\n",
      " [ 0  0  0  0 23  0]\n",
      " [ 0  0  0  0  0 25]]\n",
      "\n",
      "Classification Report:\n",
      "              precision    recall  f1-score   support\n",
      "\n",
      "           0       1.00      1.00      1.00        23\n",
      "           1       1.00      1.00      1.00        25\n",
      "           2       1.00      1.00      1.00        17\n",
      "           3       1.00      1.00      1.00        36\n",
      "           4       1.00      1.00      1.00        23\n",
      "           5       1.00      1.00      1.00        25\n",
      "\n",
      "    accuracy                           1.00       149\n",
      "   macro avg       1.00      1.00      1.00       149\n",
      "weighted avg       1.00      1.00      1.00       149\n",
      "\n",
      "\n",
      "\n",
      "Metrics for Gradient Boosting:\n",
      "\n",
      "Accuracy_Train:\n",
      "0.9954954954954955\n",
      "\n",
      "Accuracy_Test:\n",
      "0.9932885906040269\n",
      "\n",
      "Precision:\n",
      "0.9935467217346412\n",
      "\n",
      "Recall:\n",
      "0.9932885906040269\n",
      "\n",
      "F1 Score:\n",
      "0.9932527007142088\n",
      "\n",
      "Confusion Matrix:\n",
      "[[23  0  0  0  0  0]\n",
      " [ 0 25  0  0  0  0]\n",
      " [ 0  1 16  0  0  0]\n",
      " [ 0  0  0 36  0  0]\n",
      " [ 0  0  0  0 23  0]\n",
      " [ 0  0  0  0  0 25]]\n",
      "\n",
      "Classification Report:\n",
      "              precision    recall  f1-score   support\n",
      "\n",
      "           0       1.00      1.00      1.00        23\n",
      "           1       0.96      1.00      0.98        25\n",
      "           2       1.00      0.94      0.97        17\n",
      "           3       1.00      1.00      1.00        36\n",
      "           4       1.00      1.00      1.00        23\n",
      "           5       1.00      1.00      1.00        25\n",
      "\n",
      "    accuracy                           0.99       149\n",
      "   macro avg       0.99      0.99      0.99       149\n",
      "weighted avg       0.99      0.99      0.99       149\n",
      "\n",
      "\n",
      "\n",
      "Metrics for AdaBoost:\n",
      "\n",
      "Accuracy_Train:\n",
      "0.6666666666666666\n",
      "\n",
      "Accuracy_Test:\n",
      "0.5906040268456376\n",
      "\n",
      "Precision:\n",
      "0.478507510386705\n",
      "\n",
      "Recall:\n",
      "0.5906040268456376\n",
      "\n",
      "F1 Score:\n",
      "0.5026030232704009\n",
      "\n",
      "Confusion Matrix:\n",
      "[[23  0  0  0  0  0]\n",
      " [25  0  0  0  0  0]\n",
      " [ 0  0 17  0  0  0]\n",
      " [36  0  0  0  0  0]\n",
      " [ 0  0  0  0 23  0]\n",
      " [ 0  0  0  0  0 25]]\n",
      "\n",
      "Classification Report:\n",
      "              precision    recall  f1-score   support\n",
      "\n",
      "           0       0.27      1.00      0.43        23\n",
      "           1       0.00      0.00      0.00        25\n",
      "           2       1.00      1.00      1.00        17\n",
      "           3       0.00      0.00      0.00        36\n",
      "           4       1.00      1.00      1.00        23\n",
      "           5       1.00      1.00      1.00        25\n",
      "\n",
      "    accuracy                           0.59       149\n",
      "   macro avg       0.55      0.67      0.57       149\n",
      "weighted avg       0.48      0.59      0.50       149\n",
      "\n",
      "\n",
      "\n",
      "Metrics for Naive Bayes:\n",
      "\n",
      "Accuracy_Train:\n",
      "0.9954954954954955\n",
      "\n",
      "Accuracy_Test:\n",
      "1.0\n",
      "\n",
      "Precision:\n",
      "1.0\n",
      "\n",
      "Recall:\n",
      "1.0\n",
      "\n",
      "F1 Score:\n",
      "1.0\n",
      "\n",
      "Confusion Matrix:\n",
      "[[23  0  0  0  0  0]\n",
      " [ 0 25  0  0  0  0]\n",
      " [ 0  0 17  0  0  0]\n",
      " [ 0  0  0 36  0  0]\n",
      " [ 0  0  0  0 23  0]\n",
      " [ 0  0  0  0  0 25]]\n",
      "\n",
      "Classification Report:\n",
      "              precision    recall  f1-score   support\n",
      "\n",
      "           0       1.00      1.00      1.00        23\n",
      "           1       1.00      1.00      1.00        25\n",
      "           2       1.00      1.00      1.00        17\n",
      "           3       1.00      1.00      1.00        36\n",
      "           4       1.00      1.00      1.00        23\n",
      "           5       1.00      1.00      1.00        25\n",
      "\n",
      "    accuracy                           1.00       149\n",
      "   macro avg       1.00      1.00      1.00       149\n",
      "weighted avg       1.00      1.00      1.00       149\n",
      "\n",
      "\n",
      "\n",
      "Metrics for Decision Tree:\n",
      "\n",
      "Accuracy_Train:\n",
      "0.9954954954954955\n",
      "\n",
      "Accuracy_Test:\n",
      "1.0\n",
      "\n",
      "Precision:\n",
      "1.0\n",
      "\n",
      "Recall:\n",
      "1.0\n",
      "\n",
      "F1 Score:\n",
      "1.0\n",
      "\n",
      "Confusion Matrix:\n",
      "[[23  0  0  0  0  0]\n",
      " [ 0 25  0  0  0  0]\n",
      " [ 0  0 17  0  0  0]\n",
      " [ 0  0  0 36  0  0]\n",
      " [ 0  0  0  0 23  0]\n",
      " [ 0  0  0  0  0 25]]\n",
      "\n",
      "Classification Report:\n",
      "              precision    recall  f1-score   support\n",
      "\n",
      "           0       1.00      1.00      1.00        23\n",
      "           1       1.00      1.00      1.00        25\n",
      "           2       1.00      1.00      1.00        17\n",
      "           3       1.00      1.00      1.00        36\n",
      "           4       1.00      1.00      1.00        23\n",
      "           5       1.00      1.00      1.00        25\n",
      "\n",
      "    accuracy                           1.00       149\n",
      "   macro avg       1.00      1.00      1.00       149\n",
      "weighted avg       1.00      1.00      1.00       149\n",
      "\n",
      "\n",
      "\n",
      "Metrics for XGBoost:\n",
      "\n",
      "Accuracy_Train:\n",
      "0.9954954954954955\n",
      "\n",
      "Accuracy_Test:\n",
      "1.0\n",
      "\n",
      "Precision:\n",
      "1.0\n",
      "\n",
      "Recall:\n",
      "1.0\n",
      "\n",
      "F1 Score:\n",
      "1.0\n",
      "\n",
      "Confusion Matrix:\n",
      "[[23  0  0  0  0  0]\n",
      " [ 0 25  0  0  0  0]\n",
      " [ 0  0 17  0  0  0]\n",
      " [ 0  0  0 36  0  0]\n",
      " [ 0  0  0  0 23  0]\n",
      " [ 0  0  0  0  0 25]]\n",
      "\n",
      "Classification Report:\n",
      "              precision    recall  f1-score   support\n",
      "\n",
      "           0       1.00      1.00      1.00        23\n",
      "           1       1.00      1.00      1.00        25\n",
      "           2       1.00      1.00      1.00        17\n",
      "           3       1.00      1.00      1.00        36\n",
      "           4       1.00      1.00      1.00        23\n",
      "           5       1.00      1.00      1.00        25\n",
      "\n",
      "    accuracy                           1.00       149\n",
      "   macro avg       1.00      1.00      1.00       149\n",
      "weighted avg       1.00      1.00      1.00       149\n",
      "\n",
      "\n",
      "\n",
      "Metrics for RandomForest_1:\n",
      "\n",
      "Accuracy_Train:\n",
      "0.9954954954954955\n",
      "\n",
      "Accuracy_Test:\n",
      "1.0\n",
      "\n",
      "Precision:\n",
      "1.0\n",
      "\n",
      "Recall:\n",
      "1.0\n",
      "\n",
      "F1 Score:\n",
      "1.0\n",
      "\n",
      "Confusion Matrix:\n",
      "[[23  0  0  0  0  0]\n",
      " [ 0 25  0  0  0  0]\n",
      " [ 0  0 17  0  0  0]\n",
      " [ 0  0  0 36  0  0]\n",
      " [ 0  0  0  0 23  0]\n",
      " [ 0  0  0  0  0 25]]\n",
      "\n",
      "Classification Report:\n",
      "              precision    recall  f1-score   support\n",
      "\n",
      "           0       1.00      1.00      1.00        23\n",
      "           1       1.00      1.00      1.00        25\n",
      "           2       1.00      1.00      1.00        17\n",
      "           3       1.00      1.00      1.00        36\n",
      "           4       1.00      1.00      1.00        23\n",
      "           5       1.00      1.00      1.00        25\n",
      "\n",
      "    accuracy                           1.00       149\n",
      "   macro avg       1.00      1.00      1.00       149\n",
      "weighted avg       1.00      1.00      1.00       149\n",
      "\n",
      "\n",
      "\n",
      "Metrics for RandomForest_3:\n",
      "\n",
      "Accuracy_Train:\n",
      "0.9954954954954955\n",
      "\n",
      "Accuracy_Test:\n",
      "1.0\n",
      "\n",
      "Precision:\n",
      "1.0\n",
      "\n",
      "Recall:\n",
      "1.0\n",
      "\n",
      "F1 Score:\n",
      "1.0\n",
      "\n",
      "Confusion Matrix:\n",
      "[[23  0  0  0  0  0]\n",
      " [ 0 25  0  0  0  0]\n",
      " [ 0  0 17  0  0  0]\n",
      " [ 0  0  0 36  0  0]\n",
      " [ 0  0  0  0 23  0]\n",
      " [ 0  0  0  0  0 25]]\n",
      "\n",
      "Classification Report:\n",
      "              precision    recall  f1-score   support\n",
      "\n",
      "           0       1.00      1.00      1.00        23\n",
      "           1       1.00      1.00      1.00        25\n",
      "           2       1.00      1.00      1.00        17\n",
      "           3       1.00      1.00      1.00        36\n",
      "           4       1.00      1.00      1.00        23\n",
      "           5       1.00      1.00      1.00        25\n",
      "\n",
      "    accuracy                           1.00       149\n",
      "   macro avg       1.00      1.00      1.00       149\n",
      "weighted avg       1.00      1.00      1.00       149\n",
      "\n",
      "\n",
      "\n",
      "Metrics for RandomForest_5:\n",
      "\n",
      "Accuracy_Train:\n",
      "0.9954954954954955\n",
      "\n",
      "Accuracy_Test:\n",
      "1.0\n",
      "\n",
      "Precision:\n",
      "1.0\n",
      "\n",
      "Recall:\n",
      "1.0\n",
      "\n",
      "F1 Score:\n",
      "1.0\n",
      "\n",
      "Confusion Matrix:\n",
      "[[23  0  0  0  0  0]\n",
      " [ 0 25  0  0  0  0]\n",
      " [ 0  0 17  0  0  0]\n",
      " [ 0  0  0 36  0  0]\n",
      " [ 0  0  0  0 23  0]\n",
      " [ 0  0  0  0  0 25]]\n",
      "\n",
      "Classification Report:\n",
      "              precision    recall  f1-score   support\n",
      "\n",
      "           0       1.00      1.00      1.00        23\n",
      "           1       1.00      1.00      1.00        25\n",
      "           2       1.00      1.00      1.00        17\n",
      "           3       1.00      1.00      1.00        36\n",
      "           4       1.00      1.00      1.00        23\n",
      "           5       1.00      1.00      1.00        25\n",
      "\n",
      "    accuracy                           1.00       149\n",
      "   macro avg       1.00      1.00      1.00       149\n",
      "weighted avg       1.00      1.00      1.00       149\n",
      "\n",
      "\n",
      "\n",
      "Metrics for NeuralNetwork_1:\n",
      "\n",
      "Accuracy_Train:\n",
      "0.9954954954954955\n",
      "\n",
      "Accuracy_Test:\n",
      "1.0\n",
      "\n",
      "Precision:\n",
      "1.0\n",
      "\n",
      "Recall:\n",
      "1.0\n",
      "\n",
      "F1 Score:\n",
      "1.0\n",
      "\n",
      "Confusion Matrix:\n",
      "[[23  0  0  0  0  0]\n",
      " [ 0 25  0  0  0  0]\n",
      " [ 0  0 17  0  0  0]\n",
      " [ 0  0  0 36  0  0]\n",
      " [ 0  0  0  0 23  0]\n",
      " [ 0  0  0  0  0 25]]\n",
      "\n",
      "Classification Report:\n",
      "              precision    recall  f1-score   support\n",
      "\n",
      "           0       1.00      1.00      1.00        23\n",
      "           1       1.00      1.00      1.00        25\n",
      "           2       1.00      1.00      1.00        17\n",
      "           3       1.00      1.00      1.00        36\n",
      "           4       1.00      1.00      1.00        23\n",
      "           5       1.00      1.00      1.00        25\n",
      "\n",
      "    accuracy                           1.00       149\n",
      "   macro avg       1.00      1.00      1.00       149\n",
      "weighted avg       1.00      1.00      1.00       149\n",
      "\n",
      "\n",
      "\n",
      "Metrics for NeuralNetwork_2:\n",
      "\n",
      "Accuracy_Train:\n",
      "0.9954954954954955\n",
      "\n",
      "Accuracy_Test:\n",
      "1.0\n",
      "\n",
      "Precision:\n",
      "1.0\n",
      "\n",
      "Recall:\n",
      "1.0\n",
      "\n",
      "F1 Score:\n",
      "1.0\n",
      "\n",
      "Confusion Matrix:\n",
      "[[23  0  0  0  0  0]\n",
      " [ 0 25  0  0  0  0]\n",
      " [ 0  0 17  0  0  0]\n",
      " [ 0  0  0 36  0  0]\n",
      " [ 0  0  0  0 23  0]\n",
      " [ 0  0  0  0  0 25]]\n",
      "\n",
      "Classification Report:\n",
      "              precision    recall  f1-score   support\n",
      "\n",
      "           0       1.00      1.00      1.00        23\n",
      "           1       1.00      1.00      1.00        25\n",
      "           2       1.00      1.00      1.00        17\n",
      "           3       1.00      1.00      1.00        36\n",
      "           4       1.00      1.00      1.00        23\n",
      "           5       1.00      1.00      1.00        25\n",
      "\n",
      "    accuracy                           1.00       149\n",
      "   macro avg       1.00      1.00      1.00       149\n",
      "weighted avg       1.00      1.00      1.00       149\n",
      "\n",
      "\n",
      "\n",
      "Metrics for NeuralNetwork_3:\n",
      "\n",
      "Accuracy_Train:\n",
      "0.9752252252252253\n",
      "\n",
      "Accuracy_Test:\n",
      "0.9798657718120806\n",
      "\n",
      "Precision:\n",
      "0.9811977284460506\n",
      "\n",
      "Recall:\n",
      "0.9798657718120806\n",
      "\n",
      "F1 Score:\n",
      "0.9792369751537766\n",
      "\n",
      "Confusion Matrix:\n",
      "[[23  0  0  0  0  0]\n",
      " [ 0 25  0  0  0  0]\n",
      " [ 2  0 14  0  0  1]\n",
      " [ 0  0  0 36  0  0]\n",
      " [ 0  0  0  0 23  0]\n",
      " [ 0  0  0  0  0 25]]\n",
      "\n",
      "Classification Report:\n",
      "              precision    recall  f1-score   support\n",
      "\n",
      "           0       0.92      1.00      0.96        23\n",
      "           1       1.00      1.00      1.00        25\n",
      "           2       1.00      0.82      0.90        17\n",
      "           3       1.00      1.00      1.00        36\n",
      "           4       1.00      1.00      1.00        23\n",
      "           5       0.96      1.00      0.98        25\n",
      "\n",
      "    accuracy                           0.98       149\n",
      "   macro avg       0.98      0.97      0.97       149\n",
      "weighted avg       0.98      0.98      0.98       149\n",
      "\n",
      "\n",
      "\n",
      "Metrics for NeuralNetwork_4:\n",
      "\n",
      "Accuracy_Train:\n",
      "0.9954954954954955\n",
      "\n",
      "Accuracy_Test:\n",
      "1.0\n",
      "\n",
      "Precision:\n",
      "1.0\n",
      "\n",
      "Recall:\n",
      "1.0\n",
      "\n",
      "F1 Score:\n",
      "1.0\n",
      "\n",
      "Confusion Matrix:\n",
      "[[23  0  0  0  0  0]\n",
      " [ 0 25  0  0  0  0]\n",
      " [ 0  0 17  0  0  0]\n",
      " [ 0  0  0 36  0  0]\n",
      " [ 0  0  0  0 23  0]\n",
      " [ 0  0  0  0  0 25]]\n",
      "\n",
      "Classification Report:\n",
      "              precision    recall  f1-score   support\n",
      "\n",
      "           0       1.00      1.00      1.00        23\n",
      "           1       1.00      1.00      1.00        25\n",
      "           2       1.00      1.00      1.00        17\n",
      "           3       1.00      1.00      1.00        36\n",
      "           4       1.00      1.00      1.00        23\n",
      "           5       1.00      1.00      1.00        25\n",
      "\n",
      "    accuracy                           1.00       149\n",
      "   macro avg       1.00      1.00      1.00       149\n",
      "weighted avg       1.00      1.00      1.00       149\n",
      "\n",
      "\n"
     ]
    }
   ],
   "source": [
    "\n",
    "# Display the results\n",
    "for model_name, metrics in results.items():\n",
    "    print(f\"\\nMetrics for {model_name}:\\n\")\n",
    "    for metric, value in metrics.items():\n",
    "        print(f\"{metric}:\\n{value}\\n\")\n"
   ]
  },
  {
   "cell_type": "code",
   "execution_count": 41,
   "metadata": {},
   "outputs": [
    {
     "name": "stdout",
     "output_type": "stream",
     "text": [
      "\n",
      "All Models Accuracy:\n",
      "\n",
      "Logistic Regression: 0.9955 Logistic Regression: 1.0000\n",
      "K-Nearest Neighbors: 0.9955 K-Nearest Neighbors: 1.0000\n",
      "Random Forest: 0.9955 Random Forest: 1.0000\n",
      "Gradient Boosting: 0.9955 Gradient Boosting: 0.9933\n",
      "AdaBoost: 0.6667 AdaBoost: 0.5906\n",
      "Naive Bayes: 0.9955 Naive Bayes: 1.0000\n",
      "Decision Tree: 0.9955 Decision Tree: 1.0000\n",
      "XGBoost: 0.9955 XGBoost: 1.0000\n",
      "RandomForest_1: 0.9955 RandomForest_1: 1.0000\n",
      "RandomForest_3: 0.9955 RandomForest_3: 1.0000\n",
      "RandomForest_5: 0.9955 RandomForest_5: 1.0000\n",
      "NeuralNetwork_1: 0.9955 NeuralNetwork_1: 1.0000\n",
      "NeuralNetwork_2: 0.9955 NeuralNetwork_2: 1.0000\n",
      "NeuralNetwork_3: 0.9752 NeuralNetwork_3: 0.9799\n",
      "NeuralNetwork_4: 0.9955 NeuralNetwork_4: 1.0000\n"
     ]
    }
   ],
   "source": [
    "print(\"\\nAll Models Accuracy:\")\n",
    "print(f\"\")\n",
    "for model_name, metrics in results.items():\n",
    "    print(f\"{model_name}: {metrics['Accuracy_Train']:.4f}\", f\"{model_name}: {metrics['Accuracy_Test']:.4f}\")"
   ]
  },
  {
   "cell_type": "code",
   "execution_count": 20,
   "metadata": {},
   "outputs": [
    {
     "name": "stdout",
     "output_type": "stream",
     "text": [
      "\n",
      "All Models Precison:\n",
      "Logistic Regression: 1.0000\n",
      "K-Nearest Neighbors: 1.0000\n",
      "Random Forest: 1.0000\n",
      "Gradient Boosting: 1.0000\n",
      "AdaBoost: 0.3151\n",
      "Naive Bayes: 1.0000\n",
      "Decision Tree: 1.0000\n",
      "XGBoost: 1.0000\n",
      "RandomForest_1: 1.0000\n",
      "RandomForest_3: 1.0000\n",
      "RandomForest_5: 1.0000\n",
      "NeuralNetwork_1: 0.9307\n",
      "NeuralNetwork_2: 0.6418\n",
      "NeuralNetwork_3: 0.7523\n",
      "NeuralNetwork_4: 1.0000\n"
     ]
    }
   ],
   "source": [
    "print(\"\\nAll Models Precison:\")\n",
    "for model_name, metrics in results.items():\n",
    "    print(f\"{model_name}: {metrics['Precision']:.4f}\")"
   ]
  },
  {
   "cell_type": "code",
   "execution_count": 21,
   "metadata": {},
   "outputs": [
    {
     "name": "stdout",
     "output_type": "stream",
     "text": [
      "\n",
      "All Models Recall:\n",
      "Logistic Regression: 1.0000\n",
      "K-Nearest Neighbors: 1.0000\n",
      "Random Forest: 1.0000\n",
      "Gradient Boosting: 1.0000\n",
      "AdaBoost: 0.4362\n",
      "Naive Bayes: 1.0000\n",
      "Decision Tree: 1.0000\n",
      "XGBoost: 1.0000\n",
      "RandomForest_1: 1.0000\n",
      "RandomForest_3: 1.0000\n",
      "RandomForest_5: 1.0000\n",
      "NeuralNetwork_1: 0.8926\n",
      "NeuralNetwork_2: 0.6443\n",
      "NeuralNetwork_3: 0.8322\n",
      "NeuralNetwork_4: 1.0000\n"
     ]
    }
   ],
   "source": [
    "print(\"\\nAll Models Recall:\")\n",
    "for model_name, metrics in results.items():\n",
    "    print(f\"{model_name}: {metrics['Recall']:.4f}\")"
   ]
  },
  {
   "cell_type": "code",
   "execution_count": 22,
   "metadata": {},
   "outputs": [
    {
     "name": "stdout",
     "output_type": "stream",
     "text": [
      "\n",
      "All Models f1-Score:\n",
      "Logistic Regression: 1.0000\n",
      "K-Nearest Neighbors: 1.0000\n",
      "Random Forest: 1.0000\n",
      "Gradient Boosting: 1.0000\n",
      "AdaBoost: 0.3365\n",
      "Naive Bayes: 1.0000\n",
      "Decision Tree: 1.0000\n",
      "XGBoost: 1.0000\n",
      "RandomForest_1: 1.0000\n",
      "RandomForest_3: 1.0000\n",
      "RandomForest_5: 1.0000\n",
      "NeuralNetwork_1: 0.8757\n",
      "NeuralNetwork_2: 0.6133\n",
      "NeuralNetwork_3: 0.7790\n",
      "NeuralNetwork_4: 1.0000\n"
     ]
    }
   ],
   "source": [
    "print(\"\\nAll Models f1-Score:\")\n",
    "for model_name, metrics in results.items():\n",
    "    print(f\"{model_name}: {metrics['F1 Score']:.4f}\")"
   ]
  },
  {
   "cell_type": "code",
   "execution_count": null,
   "metadata": {},
   "outputs": [],
   "source": [
    "#show decision boundary\n",
    "#ROC Curve"
   ]
  },
  {
   "cell_type": "code",
   "execution_count": null,
   "metadata": {},
   "outputs": [],
   "source": [
    "#identify the three songs of each category\n",
    "#showcase the waveform for each of the three songs found for each category"
   ]
  },
  {
   "cell_type": "code",
   "execution_count": 46,
   "metadata": {},
   "outputs": [
    {
     "ename": "ValueError",
     "evalue": "Expected 2D array, got 1D array instead:\narray=[-4.56737555e+00  1.12342880e+00 -4.70987669e+00 -3.08722944e+00\n -4.88002557e-01  4.12201436e-01 -2.51518691e+00  8.27424794e+00\n  7.35803827e+00  8.50668491e+00  7.17105952e+00  9.01378776e+00\n  6.53625363e+00  7.14754599e+00  2.53485640e+01  2.49029060e+01\n  2.25392200e+01  2.01997760e+01  3.62832640e+01  2.78409770e+01\n  2.36941910e+01 -3.88349900e+01 -2.47220900e+01 -3.40722270e+01\n -3.17406520e+01 -2.99348000e+01 -2.34847830e+01 -3.01082600e+01\n -1.94086772e+01  4.18533708e+00 -1.97600584e+00  2.81898634e+01\n  3.76267057e+00  3.23184288e+00  2.36324013e+01  1.60909231e+01\n  9.70393877e+00 -1.88536200e+02 -9.31385265e+00 -1.69360381e+01\n  4.85072130e+02  2.34995827e+02  1.44690330e+02  1.24719988e+02\n  9.23822440e+01  8.47525580e+01  8.13669300e+01  7.45850050e+01\n  9.43299200e+01  8.74453100e+01  7.56156280e+01  6.01835130e+01\n  5.41429630e+01  6.41835540e+01  4.96249960e+01  5.66114470e+01\n  5.19404280e+01  6.62180640e+01  5.13257600e+01  5.38024510e+01\n -2.42638670e+00 -2.35368704e+00  1.55226972e+00 -2.12091707e-01\n -2.38031231e-02 -2.83767149e-02  7.96363780e-03 -1.07785933e-03\n  5.54916380e-01  8.33072037e-02 -2.05342944e-01  2.33477751e-01\n -1.02596638e-01 -2.03992013e-01 -1.33495713e-03  7.48031323e-03\n -2.66386521e-01  9.59319048e-02  8.12280994e-02  7.53382141e-02\n  7.67941426e+00  9.40052228e+00  4.82962822e+00  9.15651538e-01\n  3.56850557e-02 -7.09693311e-01 -5.07494458e-01  1.73310711e-01\n  7.33883159e-01 -1.71368964e-01 -1.83227339e-01 -3.20853529e-01\n -6.78612721e-02  5.94237542e-02 -1.01117747e-01 -1.21376697e-01\n  1.82779413e-01  9.04832358e-02  1.24945124e-01  5.67960881e-02\n  4.85153286e+08  2.50692735e+08  3.63656320e+06  1.41215444e+07\n  1.44452061e+06  9.65697975e+06  4.69977848e+06  1.57900258e+06\n  1.78918133e+06  3.06781695e+06  2.44679652e+06  1.40843380e+06\n  7.70987958e+05  8.24372104e+05  5.11312620e+05  8.72570817e+05\n  5.62554436e+05  7.52039059e+05  3.95855081e+05  5.29869919e+05\n -5.40532391e+09 -2.57365877e+09 -2.59222186e+07 -1.06668101e+08\n -8.39295274e+06 -7.07834269e+07 -3.18365689e+07 -9.11788671e+06\n -1.10477614e+07 -1.96300659e+07 -1.51789413e+07 -8.07829246e+06\n -3.95287408e+06 -4.34562520e+06 -2.42594760e+06 -4.57438028e+06\n -2.77033676e+06 -3.88387773e+06 -1.79305037e+06 -2.52872039e+06\n -2.39512080e+02  1.49763700e+02 -1.55104580e+01  2.81503800e+01\n -7.70669360e+00  1.75648380e+01 -2.77639220e+01  2.53597550e+00\n -5.47008630e-01 -2.19007110e+01 -1.96174010e+01  1.45675280e+00\n -1.04844890e+01 -1.00253960e+01 -3.65045710e+00 -1.04195385e+01\n -7.51995400e+00 -6.27026100e+00 -3.87538240e+00 -7.44538450e+00\n -1.70802690e+02  1.79690890e+02  3.65526220e+00  4.58889850e+01\n  8.57085600e+00  4.05843900e+01 -7.04486000e+00  1.53769770e+01\n  1.39449040e+01 -4.30104640e+00 -4.65723750e+00  1.45610600e+01\n -5.13392000e-01  1.10544610e+00  6.06054800e+00  8.70725800e-01\n  1.75764130e+00  5.33505440e+00  4.56187960e+00  2.22299390e+00\n  1.47211868e-05  1.08464741e-04  3.46697452e-05  8.35443697e-05\n  6.40515281e-05  5.47004984e-05  8.48501743e-05  4.27680738e-05\n  8.47745224e-05  4.88880870e-05  7.31550607e-05  5.69648902e-05\n  6.73911489e-05  5.38779791e-05  7.24051023e-05  4.40937806e-05\n  7.62722264e-05  4.27252614e-05  6.60275149e-05  5.60139879e-05\n  3.33673292e+00  2.22866837e+00  1.49789090e+00  1.31461206e+00\n  1.33284132e+00  1.32081716e+00  1.23043687e+00  1.08144863e+00\n  1.23942232e+00  1.28945341e+00  1.09981454e+00  9.73167766e-01\n  9.68483988e-01  1.02681603e+00  9.49082664e-01  9.45942119e-01\n  9.42751213e-01  1.01295356e+00  8.95072925e-01  8.84258778e-01\n  2.99414700e+01  1.39834398e+01  9.61736089e+00  1.03424971e+01\n  8.51750912e+00  7.49960256e+00  5.09964316e+00  5.40155163e+00\n  6.14344443e+00  7.98554582e+00  4.22812760e+00  4.21478145e+00\n  4.81848921e+00  4.44645050e+00  3.58009810e+00  4.33524737e+00\n  3.86148812e+00  4.04913443e+00  3.67625120e+00  3.61500469e+00\n -1.32176810e+01 -2.05697202e+01 -1.11453368e+01 -8.62243467e+00\n -8.48539310e+00 -5.90763380e+00 -5.42846773e+00 -6.23055006e+00\n -5.94487713e+00 -8.27315448e+00 -4.93695954e+00 -4.40415133e+00\n -4.57426798e+00 -4.74368653e+00 -5.03762191e+00 -3.32540781e+00\n -4.63206351e+00 -4.52203417e+00 -4.26376974e+00 -3.96678500e+00\n  1.73647631e+00 -1.08988384e+00 -1.08575317e-01  3.35885810e-01\n -2.28353376e-01  3.74693160e-01 -3.09537668e-01  1.98555697e-01\n -1.91624911e-01 -3.53190602e-02 -2.01801989e-01  1.45833612e-01\n -2.09474073e-02  2.90379624e-02  8.38114322e-03  1.55087952e-01\n -2.38372396e-02 -7.65623254e-02 -5.42700199e-02 -6.92659376e-02\n  9.13355430e+00  1.18497052e+01  5.39354434e+00  5.07236842e+00\n  3.64037853e+00  2.66934291e+00  1.38536452e+00  1.88661786e+00\n  1.58867270e+00  3.64474594e+00  8.84466064e-01  7.49612741e-01\n  5.67063610e-01  1.09217807e+00  4.84770050e-01  4.94956108e-01\n  5.79454552e-01  9.01404518e-01  6.14083481e-01  3.22020508e-01\n  4.31591510e+01  3.45531600e+01  2.07626977e+01  1.89649318e+01\n  1.70029022e+01  1.34072364e+01  1.05281109e+01  1.16321017e+01\n  1.20883216e+01  1.62587003e+01  9.16508714e+00  8.61893278e+00\n  9.39275718e+00  9.19013703e+00  8.61772001e+00  7.66065518e+00\n  8.49355163e+00  8.57116860e+00  7.94002094e+00  7.58178969e+00\n  1.02753717e+05  4.58400987e+04  2.07068964e+04  1.59496027e+04\n  1.63950045e+04  1.61005256e+04  1.39724743e+04  1.07936028e+04\n  1.41772917e+04  1.53449668e+04  1.11633248e+04  8.74037525e+03\n  8.65644428e+03  9.73060682e+03  8.31309474e+03  8.25816914e+03\n  8.20254928e+03  9.46964532e+03  7.39386453e+03  7.21628051e+03\n -4.18393032e+05 -1.54949516e+05 -4.39262300e+04 -2.84952522e+04\n -2.83286200e+04 -2.67513566e+04 -1.95171295e+04 -1.21353042e+04\n -1.97997130e+04 -2.53529411e+04 -1.20010459e+04 -7.01320284e+03\n -6.48711545e+03 -9.25377113e+03 -5.81082453e+03 -5.85223324e+03\n -5.80450119e+03 -8.69478184e+03 -4.49638685e+03 -3.89282710e+03\n -1.40476333e+00 -7.72277000e-01 -6.97145792e-01 -7.19607967e-01\n -6.87667542e-01 -7.38472867e-01 -6.46770217e-01 -6.63571917e-01\n -6.99325897e-01 -6.79117942e-01 -6.52292657e-01 -6.13938123e-01\n -6.27292142e-01 -6.36525126e-01 -6.24627339e-01 -6.08760728e-01\n -5.96346728e-01 -5.99039885e-01 -5.57175481e-01 -5.73490918e-01\n  7.94054000e-01  9.92350333e-01  7.31170733e-01  6.71373383e-01\n  7.35261100e-01  6.80286667e-01  7.32065267e-01  6.29952357e-01\n  7.39235633e-01  7.04462973e-01  6.90648905e-01  5.85159828e-01\n  6.23806658e-01  6.29620243e-01  6.07413027e-01  5.93244047e-01\n  6.06424894e-01  6.17934167e-01  5.77320325e-01  5.83112258e-01\n -2.99730820e-04  3.26885721e-04 -2.98083212e-04  1.05338115e-04\n -3.19154208e-05 -1.45521539e-04  1.53168391e-04 -2.33561011e-04\n  1.43025856e-04 -1.47913210e-04  2.53757554e-05 -4.24781480e-05\n -2.95909829e-05 -5.15406766e-05  3.74535102e-05 -1.44855446e-04\n  1.20197505e-04 -1.76954856e-04  8.25643486e-05 -6.63371312e-05\n  1.43706039e+00  1.09717337e+00  7.14247954e-01  6.86461169e-01\n  7.43525467e-01  6.93200031e-01  6.45151124e-01  6.23714598e-01\n  7.06186524e-01  7.03988132e-01  6.12068141e-01  5.90270422e-01\n  5.80357888e-01  6.00447894e-01  5.72856908e-01  5.64000712e-01\n  5.59597260e-01  5.81299771e-01  5.59681106e-01  5.54857268e-01\n  1.06006857e+01  1.16432412e+01  3.07493950e+00  3.51136758e+00\n  5.40326645e+00  4.52472377e+00  3.22865900e+00  3.13269029e+00\n  4.41697429e+00  4.19274430e+00  2.60670740e+00  3.05099544e+00\n  2.26262696e+00  2.87205260e+00  2.52675483e+00  2.48745800e+00\n  2.11199807e+00  2.48430213e+00  2.66932549e+00  2.22651892e+00\n -9.57996292e+00 -6.79222229e+00 -3.63086905e+00 -5.72661252e+00\n -3.77128207e+00 -3.85856649e+00 -3.07960271e+00 -3.23368353e+00\n -3.62610208e+00 -4.41465618e+00 -2.71214264e+00 -2.72181996e+00\n -2.26149531e+00 -2.48932805e+00 -2.78885285e+00 -2.69601003e+00\n -2.27723686e+00 -2.76707568e+00 -2.16931070e+00 -1.99357903e+00\n -3.95708893e-02 -5.67578706e-01  3.29727798e-02  2.24141754e-01\n -1.24162404e-01  5.23042555e-02 -1.11443349e-02 -2.25639693e-03\n -6.86401187e-02  4.56165336e-02  3.65813956e-03 -1.74962461e-03\n -3.14876846e-03 -3.54522598e-02  4.45090759e-04  2.19662620e-02\n  4.19712216e-03  3.83004267e-02 -4.04007812e-03 -2.29669395e-02\n  7.14023561e+00  1.21549872e+01  1.54437261e+00  3.42611112e+00\n  2.41172671e+00  1.31519060e+00  6.95907688e-01  9.52744687e-01\n  1.49333856e+00  1.56520682e+00  4.77706011e-01  2.62982721e-01\n  1.21830589e-01  5.88121035e-01  3.85816681e-01  3.13675993e-01\n  2.94386022e-01  3.51104813e-01  1.95853116e-01  1.44234036e-01\n  3.62225314e+00  3.31806754e+00  1.26765177e+00  1.83430348e+00\n  1.78885158e+00  1.57363377e+00  1.12592463e+00  1.25382892e+00\n  1.47175567e+00  1.42554672e+00  1.01874745e+00  9.97180938e-01\n  8.54676458e-01  1.01912773e+00  1.12763519e+00  1.03941306e+00\n  8.44710235e-01  9.35135632e-01  8.51367059e-01  8.58755856e-01\n  6.14670979e+02  3.73654577e+02  1.53885145e+02  1.52351392e+02\n  1.84619931e+02  1.57183365e+02  1.36480665e+02  1.30880843e+02\n  1.69743530e+02  1.61896462e+02  1.25508969e+02  1.20131066e+02\n  1.15436538e+02  1.20494577e+02  1.12361068e+02  1.06536174e+02\n  1.06161643e+02  1.13527882e+02  1.08691808e+02  1.08472641e+02\n  7.53244657e+02  5.72867215e+02  4.82713481e+02  4.68869879e+02\n  5.40051106e+02  5.00074252e+02  4.61694610e+02  4.43779804e+02\n  5.23648663e+02  5.02537508e+02  4.38050711e+02  4.28123699e+02\n  4.18362765e+02  4.22356831e+02  4.07114777e+02  3.91621704e+02\n  3.90160415e+02  4.10158182e+02  3.99144665e+02  4.00245978e+02\n -5.95993009e-01 -4.76124221e-01 -3.92583635e-01 -3.92810186e-01\n -4.32666652e-01 -4.20274600e-01 -4.03183280e-01 -3.95657539e-01\n -4.24932550e-01 -4.06773775e-01 -3.88662379e-01 -3.77027753e-01\n -3.78433725e-01 -3.77541048e-01 -3.77109171e-01 -3.66591104e-01\n -3.60042907e-01 -3.70782530e-01 -3.72229203e-01 -3.62402937e-01\n  5.62060152e-01  4.45461580e-01  4.06472354e-01  4.14415946e-01\n  4.24819513e-01  4.25369346e-01  4.04390093e-01  3.83549164e-01\n  4.23762959e-01  4.14005527e-01  4.07216234e-01  3.81661536e-01\n  3.82952993e-01  3.70042038e-01  3.67736397e-01  3.70768450e-01\n  3.67634541e-01  3.78566568e-01  3.70522818e-01  3.63993850e-01\n  5.26185577e-05  6.61088354e-05  5.87736932e-05  9.04213448e-01\n  3.08474072e-01  3.59166477e-01  8.10384607e+00  1.57404853e+00\n  1.74030444e+00 -5.93924856e+00 -1.68278592e+00 -1.34970666e+00\n -9.03094367e-05 -2.04072194e-05 -2.84961066e-05  4.45116225e-01\n  1.82448691e-01  2.16077907e-01  2.71142698e+00  7.12806333e-01\n  1.15754128e+00 -3.20693615e+00 -7.31653987e-01 -8.77409182e-01\n  6.28896889e+01  1.13724606e+01  1.58418215e+01  2.53757585e+02\n  6.71359502e+01  8.86364390e+01 -2.64083591e-01 -1.19160330e-01\n -1.43004980e-01  2.54661608e-01  1.17353656e-01  1.42191435e-01].\nReshape your data either using array.reshape(-1, 1) if your data has a single feature or array.reshape(1, -1) if it contains a single sample.",
     "output_type": "error",
     "traceback": [
      "\u001b[0;31m---------------------------------------------------------------------------\u001b[0m",
      "\u001b[0;31mValueError\u001b[0m                                Traceback (most recent call last)",
      "Cell \u001b[0;32mIn[46], line 145\u001b[0m\n\u001b[1;32m     93\u001b[0m features \u001b[38;5;241m=\u001b[39m np\u001b[38;5;241m.\u001b[39mconcatenate([\n\u001b[1;32m     94\u001b[0m     aggregated_features\u001b[38;5;241m.\u001b[39mflatten(),\n\u001b[1;32m     95\u001b[0m     aggregated_features2\u001b[38;5;241m.\u001b[39mflatten(),\n\u001b[0;32m   (...)\u001b[0m\n\u001b[1;32m    141\u001b[0m     \u001b[38;5;66;03m# PCA_mfcc_features.flatten(),\u001b[39;00m\n\u001b[1;32m    142\u001b[0m ])\n\u001b[1;32m    144\u001b[0m \u001b[38;5;66;03m# Apply LDA transformation to reduce features to 5 components\u001b[39;00m\n\u001b[0;32m--> 145\u001b[0m features_reduced \u001b[38;5;241m=\u001b[39m \u001b[43mlda\u001b[49m\u001b[38;5;241;43m.\u001b[39;49m\u001b[43mtransform\u001b[49m\u001b[43m(\u001b[49m\u001b[43mfeatures\u001b[49m\u001b[43m)\u001b[49m  \u001b[38;5;66;03m# Apply LDA transformation\u001b[39;00m\n\u001b[1;32m    147\u001b[0m \u001b[38;5;66;03m# Make predictions using each model\u001b[39;00m\n\u001b[1;32m    148\u001b[0m song_predictions \u001b[38;5;241m=\u001b[39m {\u001b[38;5;124m'\u001b[39m\u001b[38;5;124mfile\u001b[39m\u001b[38;5;124m'\u001b[39m: file_name}\n",
      "File \u001b[0;32m~/.local/lib/python3.12/site-packages/sklearn/utils/_set_output.py:316\u001b[0m, in \u001b[0;36m_wrap_method_output.<locals>.wrapped\u001b[0;34m(self, X, *args, **kwargs)\u001b[0m\n\u001b[1;32m    314\u001b[0m \u001b[38;5;129m@wraps\u001b[39m(f)\n\u001b[1;32m    315\u001b[0m \u001b[38;5;28;01mdef\u001b[39;00m \u001b[38;5;21mwrapped\u001b[39m(\u001b[38;5;28mself\u001b[39m, X, \u001b[38;5;241m*\u001b[39margs, \u001b[38;5;241m*\u001b[39m\u001b[38;5;241m*\u001b[39mkwargs):\n\u001b[0;32m--> 316\u001b[0m     data_to_wrap \u001b[38;5;241m=\u001b[39m \u001b[43mf\u001b[49m\u001b[43m(\u001b[49m\u001b[38;5;28;43mself\u001b[39;49m\u001b[43m,\u001b[49m\u001b[43m \u001b[49m\u001b[43mX\u001b[49m\u001b[43m,\u001b[49m\u001b[43m \u001b[49m\u001b[38;5;241;43m*\u001b[39;49m\u001b[43margs\u001b[49m\u001b[43m,\u001b[49m\u001b[43m \u001b[49m\u001b[38;5;241;43m*\u001b[39;49m\u001b[38;5;241;43m*\u001b[39;49m\u001b[43mkwargs\u001b[49m\u001b[43m)\u001b[49m\n\u001b[1;32m    317\u001b[0m     \u001b[38;5;28;01mif\u001b[39;00m \u001b[38;5;28misinstance\u001b[39m(data_to_wrap, \u001b[38;5;28mtuple\u001b[39m):\n\u001b[1;32m    318\u001b[0m         \u001b[38;5;66;03m# only wrap the first output for cross decomposition\u001b[39;00m\n\u001b[1;32m    319\u001b[0m         return_tuple \u001b[38;5;241m=\u001b[39m (\n\u001b[1;32m    320\u001b[0m             _wrap_data_with_container(method, data_to_wrap[\u001b[38;5;241m0\u001b[39m], X, \u001b[38;5;28mself\u001b[39m),\n\u001b[1;32m    321\u001b[0m             \u001b[38;5;241m*\u001b[39mdata_to_wrap[\u001b[38;5;241m1\u001b[39m:],\n\u001b[1;32m    322\u001b[0m         )\n",
      "File \u001b[0;32m~/.local/lib/python3.12/site-packages/sklearn/discriminant_analysis.py:682\u001b[0m, in \u001b[0;36mLinearDiscriminantAnalysis.transform\u001b[0;34m(self, X)\u001b[0m\n\u001b[1;32m    680\u001b[0m check_is_fitted(\u001b[38;5;28mself\u001b[39m)\n\u001b[1;32m    681\u001b[0m xp, _ \u001b[38;5;241m=\u001b[39m get_namespace(X)\n\u001b[0;32m--> 682\u001b[0m X \u001b[38;5;241m=\u001b[39m \u001b[38;5;28;43mself\u001b[39;49m\u001b[38;5;241;43m.\u001b[39;49m\u001b[43m_validate_data\u001b[49m\u001b[43m(\u001b[49m\u001b[43mX\u001b[49m\u001b[43m,\u001b[49m\u001b[43m \u001b[49m\u001b[43mreset\u001b[49m\u001b[38;5;241;43m=\u001b[39;49m\u001b[38;5;28;43;01mFalse\u001b[39;49;00m\u001b[43m)\u001b[49m\n\u001b[1;32m    684\u001b[0m \u001b[38;5;28;01mif\u001b[39;00m \u001b[38;5;28mself\u001b[39m\u001b[38;5;241m.\u001b[39msolver \u001b[38;5;241m==\u001b[39m \u001b[38;5;124m\"\u001b[39m\u001b[38;5;124msvd\u001b[39m\u001b[38;5;124m\"\u001b[39m:\n\u001b[1;32m    685\u001b[0m     X_new \u001b[38;5;241m=\u001b[39m (X \u001b[38;5;241m-\u001b[39m \u001b[38;5;28mself\u001b[39m\u001b[38;5;241m.\u001b[39mxbar_) \u001b[38;5;241m@\u001b[39m \u001b[38;5;28mself\u001b[39m\u001b[38;5;241m.\u001b[39mscalings_\n",
      "File \u001b[0;32m~/.local/lib/python3.12/site-packages/sklearn/base.py:633\u001b[0m, in \u001b[0;36mBaseEstimator._validate_data\u001b[0;34m(self, X, y, reset, validate_separately, cast_to_ndarray, **check_params)\u001b[0m\n\u001b[1;32m    631\u001b[0m         out \u001b[38;5;241m=\u001b[39m X, y\n\u001b[1;32m    632\u001b[0m \u001b[38;5;28;01melif\u001b[39;00m \u001b[38;5;129;01mnot\u001b[39;00m no_val_X \u001b[38;5;129;01mand\u001b[39;00m no_val_y:\n\u001b[0;32m--> 633\u001b[0m     out \u001b[38;5;241m=\u001b[39m \u001b[43mcheck_array\u001b[49m\u001b[43m(\u001b[49m\u001b[43mX\u001b[49m\u001b[43m,\u001b[49m\u001b[43m \u001b[49m\u001b[43minput_name\u001b[49m\u001b[38;5;241;43m=\u001b[39;49m\u001b[38;5;124;43m\"\u001b[39;49m\u001b[38;5;124;43mX\u001b[39;49m\u001b[38;5;124;43m\"\u001b[39;49m\u001b[43m,\u001b[49m\u001b[43m \u001b[49m\u001b[38;5;241;43m*\u001b[39;49m\u001b[38;5;241;43m*\u001b[39;49m\u001b[43mcheck_params\u001b[49m\u001b[43m)\u001b[49m\n\u001b[1;32m    634\u001b[0m \u001b[38;5;28;01melif\u001b[39;00m no_val_X \u001b[38;5;129;01mand\u001b[39;00m \u001b[38;5;129;01mnot\u001b[39;00m no_val_y:\n\u001b[1;32m    635\u001b[0m     out \u001b[38;5;241m=\u001b[39m _check_y(y, \u001b[38;5;241m*\u001b[39m\u001b[38;5;241m*\u001b[39mcheck_params)\n",
      "File \u001b[0;32m~/.local/lib/python3.12/site-packages/sklearn/utils/validation.py:1050\u001b[0m, in \u001b[0;36mcheck_array\u001b[0;34m(array, accept_sparse, accept_large_sparse, dtype, order, copy, force_writeable, force_all_finite, ensure_2d, allow_nd, ensure_min_samples, ensure_min_features, estimator, input_name)\u001b[0m\n\u001b[1;32m   1043\u001b[0m         \u001b[38;5;28;01melse\u001b[39;00m:\n\u001b[1;32m   1044\u001b[0m             msg \u001b[38;5;241m=\u001b[39m (\n\u001b[1;32m   1045\u001b[0m                 \u001b[38;5;124mf\u001b[39m\u001b[38;5;124m\"\u001b[39m\u001b[38;5;124mExpected 2D array, got 1D array instead:\u001b[39m\u001b[38;5;130;01m\\n\u001b[39;00m\u001b[38;5;124marray=\u001b[39m\u001b[38;5;132;01m{\u001b[39;00marray\u001b[38;5;132;01m}\u001b[39;00m\u001b[38;5;124m.\u001b[39m\u001b[38;5;130;01m\\n\u001b[39;00m\u001b[38;5;124m\"\u001b[39m\n\u001b[1;32m   1046\u001b[0m                 \u001b[38;5;124m\"\u001b[39m\u001b[38;5;124mReshape your data either using array.reshape(-1, 1) if \u001b[39m\u001b[38;5;124m\"\u001b[39m\n\u001b[1;32m   1047\u001b[0m                 \u001b[38;5;124m\"\u001b[39m\u001b[38;5;124myour data has a single feature or array.reshape(1, -1) \u001b[39m\u001b[38;5;124m\"\u001b[39m\n\u001b[1;32m   1048\u001b[0m                 \u001b[38;5;124m\"\u001b[39m\u001b[38;5;124mif it contains a single sample.\u001b[39m\u001b[38;5;124m\"\u001b[39m\n\u001b[1;32m   1049\u001b[0m             )\n\u001b[0;32m-> 1050\u001b[0m         \u001b[38;5;28;01mraise\u001b[39;00m \u001b[38;5;167;01mValueError\u001b[39;00m(msg)\n\u001b[1;32m   1052\u001b[0m \u001b[38;5;28;01mif\u001b[39;00m dtype_numeric \u001b[38;5;129;01mand\u001b[39;00m \u001b[38;5;28mhasattr\u001b[39m(array\u001b[38;5;241m.\u001b[39mdtype, \u001b[38;5;124m\"\u001b[39m\u001b[38;5;124mkind\u001b[39m\u001b[38;5;124m\"\u001b[39m) \u001b[38;5;129;01mand\u001b[39;00m array\u001b[38;5;241m.\u001b[39mdtype\u001b[38;5;241m.\u001b[39mkind \u001b[38;5;129;01min\u001b[39;00m \u001b[38;5;124m\"\u001b[39m\u001b[38;5;124mUSV\u001b[39m\u001b[38;5;124m\"\u001b[39m:\n\u001b[1;32m   1053\u001b[0m     \u001b[38;5;28;01mraise\u001b[39;00m \u001b[38;5;167;01mValueError\u001b[39;00m(\n\u001b[1;32m   1054\u001b[0m         \u001b[38;5;124m\"\u001b[39m\u001b[38;5;124mdtype=\u001b[39m\u001b[38;5;124m'\u001b[39m\u001b[38;5;124mnumeric\u001b[39m\u001b[38;5;124m'\u001b[39m\u001b[38;5;124m is not compatible with arrays of bytes/strings.\u001b[39m\u001b[38;5;124m\"\u001b[39m\n\u001b[1;32m   1055\u001b[0m         \u001b[38;5;124m\"\u001b[39m\u001b[38;5;124mConvert your data to numeric values explicitly instead.\u001b[39m\u001b[38;5;124m\"\u001b[39m\n\u001b[1;32m   1056\u001b[0m     )\n",
      "\u001b[0;31mValueError\u001b[0m: Expected 2D array, got 1D array instead:\narray=[-4.56737555e+00  1.12342880e+00 -4.70987669e+00 -3.08722944e+00\n -4.88002557e-01  4.12201436e-01 -2.51518691e+00  8.27424794e+00\n  7.35803827e+00  8.50668491e+00  7.17105952e+00  9.01378776e+00\n  6.53625363e+00  7.14754599e+00  2.53485640e+01  2.49029060e+01\n  2.25392200e+01  2.01997760e+01  3.62832640e+01  2.78409770e+01\n  2.36941910e+01 -3.88349900e+01 -2.47220900e+01 -3.40722270e+01\n -3.17406520e+01 -2.99348000e+01 -2.34847830e+01 -3.01082600e+01\n -1.94086772e+01  4.18533708e+00 -1.97600584e+00  2.81898634e+01\n  3.76267057e+00  3.23184288e+00  2.36324013e+01  1.60909231e+01\n  9.70393877e+00 -1.88536200e+02 -9.31385265e+00 -1.69360381e+01\n  4.85072130e+02  2.34995827e+02  1.44690330e+02  1.24719988e+02\n  9.23822440e+01  8.47525580e+01  8.13669300e+01  7.45850050e+01\n  9.43299200e+01  8.74453100e+01  7.56156280e+01  6.01835130e+01\n  5.41429630e+01  6.41835540e+01  4.96249960e+01  5.66114470e+01\n  5.19404280e+01  6.62180640e+01  5.13257600e+01  5.38024510e+01\n -2.42638670e+00 -2.35368704e+00  1.55226972e+00 -2.12091707e-01\n -2.38031231e-02 -2.83767149e-02  7.96363780e-03 -1.07785933e-03\n  5.54916380e-01  8.33072037e-02 -2.05342944e-01  2.33477751e-01\n -1.02596638e-01 -2.03992013e-01 -1.33495713e-03  7.48031323e-03\n -2.66386521e-01  9.59319048e-02  8.12280994e-02  7.53382141e-02\n  7.67941426e+00  9.40052228e+00  4.82962822e+00  9.15651538e-01\n  3.56850557e-02 -7.09693311e-01 -5.07494458e-01  1.73310711e-01\n  7.33883159e-01 -1.71368964e-01 -1.83227339e-01 -3.20853529e-01\n -6.78612721e-02  5.94237542e-02 -1.01117747e-01 -1.21376697e-01\n  1.82779413e-01  9.04832358e-02  1.24945124e-01  5.67960881e-02\n  4.85153286e+08  2.50692735e+08  3.63656320e+06  1.41215444e+07\n  1.44452061e+06  9.65697975e+06  4.69977848e+06  1.57900258e+06\n  1.78918133e+06  3.06781695e+06  2.44679652e+06  1.40843380e+06\n  7.70987958e+05  8.24372104e+05  5.11312620e+05  8.72570817e+05\n  5.62554436e+05  7.52039059e+05  3.95855081e+05  5.29869919e+05\n -5.40532391e+09 -2.57365877e+09 -2.59222186e+07 -1.06668101e+08\n -8.39295274e+06 -7.07834269e+07 -3.18365689e+07 -9.11788671e+06\n -1.10477614e+07 -1.96300659e+07 -1.51789413e+07 -8.07829246e+06\n -3.95287408e+06 -4.34562520e+06 -2.42594760e+06 -4.57438028e+06\n -2.77033676e+06 -3.88387773e+06 -1.79305037e+06 -2.52872039e+06\n -2.39512080e+02  1.49763700e+02 -1.55104580e+01  2.81503800e+01\n -7.70669360e+00  1.75648380e+01 -2.77639220e+01  2.53597550e+00\n -5.47008630e-01 -2.19007110e+01 -1.96174010e+01  1.45675280e+00\n -1.04844890e+01 -1.00253960e+01 -3.65045710e+00 -1.04195385e+01\n -7.51995400e+00 -6.27026100e+00 -3.87538240e+00 -7.44538450e+00\n -1.70802690e+02  1.79690890e+02  3.65526220e+00  4.58889850e+01\n  8.57085600e+00  4.05843900e+01 -7.04486000e+00  1.53769770e+01\n  1.39449040e+01 -4.30104640e+00 -4.65723750e+00  1.45610600e+01\n -5.13392000e-01  1.10544610e+00  6.06054800e+00  8.70725800e-01\n  1.75764130e+00  5.33505440e+00  4.56187960e+00  2.22299390e+00\n  1.47211868e-05  1.08464741e-04  3.46697452e-05  8.35443697e-05\n  6.40515281e-05  5.47004984e-05  8.48501743e-05  4.27680738e-05\n  8.47745224e-05  4.88880870e-05  7.31550607e-05  5.69648902e-05\n  6.73911489e-05  5.38779791e-05  7.24051023e-05  4.40937806e-05\n  7.62722264e-05  4.27252614e-05  6.60275149e-05  5.60139879e-05\n  3.33673292e+00  2.22866837e+00  1.49789090e+00  1.31461206e+00\n  1.33284132e+00  1.32081716e+00  1.23043687e+00  1.08144863e+00\n  1.23942232e+00  1.28945341e+00  1.09981454e+00  9.73167766e-01\n  9.68483988e-01  1.02681603e+00  9.49082664e-01  9.45942119e-01\n  9.42751213e-01  1.01295356e+00  8.95072925e-01  8.84258778e-01\n  2.99414700e+01  1.39834398e+01  9.61736089e+00  1.03424971e+01\n  8.51750912e+00  7.49960256e+00  5.09964316e+00  5.40155163e+00\n  6.14344443e+00  7.98554582e+00  4.22812760e+00  4.21478145e+00\n  4.81848921e+00  4.44645050e+00  3.58009810e+00  4.33524737e+00\n  3.86148812e+00  4.04913443e+00  3.67625120e+00  3.61500469e+00\n -1.32176810e+01 -2.05697202e+01 -1.11453368e+01 -8.62243467e+00\n -8.48539310e+00 -5.90763380e+00 -5.42846773e+00 -6.23055006e+00\n -5.94487713e+00 -8.27315448e+00 -4.93695954e+00 -4.40415133e+00\n -4.57426798e+00 -4.74368653e+00 -5.03762191e+00 -3.32540781e+00\n -4.63206351e+00 -4.52203417e+00 -4.26376974e+00 -3.96678500e+00\n  1.73647631e+00 -1.08988384e+00 -1.08575317e-01  3.35885810e-01\n -2.28353376e-01  3.74693160e-01 -3.09537668e-01  1.98555697e-01\n -1.91624911e-01 -3.53190602e-02 -2.01801989e-01  1.45833612e-01\n -2.09474073e-02  2.90379624e-02  8.38114322e-03  1.55087952e-01\n -2.38372396e-02 -7.65623254e-02 -5.42700199e-02 -6.92659376e-02\n  9.13355430e+00  1.18497052e+01  5.39354434e+00  5.07236842e+00\n  3.64037853e+00  2.66934291e+00  1.38536452e+00  1.88661786e+00\n  1.58867270e+00  3.64474594e+00  8.84466064e-01  7.49612741e-01\n  5.67063610e-01  1.09217807e+00  4.84770050e-01  4.94956108e-01\n  5.79454552e-01  9.01404518e-01  6.14083481e-01  3.22020508e-01\n  4.31591510e+01  3.45531600e+01  2.07626977e+01  1.89649318e+01\n  1.70029022e+01  1.34072364e+01  1.05281109e+01  1.16321017e+01\n  1.20883216e+01  1.62587003e+01  9.16508714e+00  8.61893278e+00\n  9.39275718e+00  9.19013703e+00  8.61772001e+00  7.66065518e+00\n  8.49355163e+00  8.57116860e+00  7.94002094e+00  7.58178969e+00\n  1.02753717e+05  4.58400987e+04  2.07068964e+04  1.59496027e+04\n  1.63950045e+04  1.61005256e+04  1.39724743e+04  1.07936028e+04\n  1.41772917e+04  1.53449668e+04  1.11633248e+04  8.74037525e+03\n  8.65644428e+03  9.73060682e+03  8.31309474e+03  8.25816914e+03\n  8.20254928e+03  9.46964532e+03  7.39386453e+03  7.21628051e+03\n -4.18393032e+05 -1.54949516e+05 -4.39262300e+04 -2.84952522e+04\n -2.83286200e+04 -2.67513566e+04 -1.95171295e+04 -1.21353042e+04\n -1.97997130e+04 -2.53529411e+04 -1.20010459e+04 -7.01320284e+03\n -6.48711545e+03 -9.25377113e+03 -5.81082453e+03 -5.85223324e+03\n -5.80450119e+03 -8.69478184e+03 -4.49638685e+03 -3.89282710e+03\n -1.40476333e+00 -7.72277000e-01 -6.97145792e-01 -7.19607967e-01\n -6.87667542e-01 -7.38472867e-01 -6.46770217e-01 -6.63571917e-01\n -6.99325897e-01 -6.79117942e-01 -6.52292657e-01 -6.13938123e-01\n -6.27292142e-01 -6.36525126e-01 -6.24627339e-01 -6.08760728e-01\n -5.96346728e-01 -5.99039885e-01 -5.57175481e-01 -5.73490918e-01\n  7.94054000e-01  9.92350333e-01  7.31170733e-01  6.71373383e-01\n  7.35261100e-01  6.80286667e-01  7.32065267e-01  6.29952357e-01\n  7.39235633e-01  7.04462973e-01  6.90648905e-01  5.85159828e-01\n  6.23806658e-01  6.29620243e-01  6.07413027e-01  5.93244047e-01\n  6.06424894e-01  6.17934167e-01  5.77320325e-01  5.83112258e-01\n -2.99730820e-04  3.26885721e-04 -2.98083212e-04  1.05338115e-04\n -3.19154208e-05 -1.45521539e-04  1.53168391e-04 -2.33561011e-04\n  1.43025856e-04 -1.47913210e-04  2.53757554e-05 -4.24781480e-05\n -2.95909829e-05 -5.15406766e-05  3.74535102e-05 -1.44855446e-04\n  1.20197505e-04 -1.76954856e-04  8.25643486e-05 -6.63371312e-05\n  1.43706039e+00  1.09717337e+00  7.14247954e-01  6.86461169e-01\n  7.43525467e-01  6.93200031e-01  6.45151124e-01  6.23714598e-01\n  7.06186524e-01  7.03988132e-01  6.12068141e-01  5.90270422e-01\n  5.80357888e-01  6.00447894e-01  5.72856908e-01  5.64000712e-01\n  5.59597260e-01  5.81299771e-01  5.59681106e-01  5.54857268e-01\n  1.06006857e+01  1.16432412e+01  3.07493950e+00  3.51136758e+00\n  5.40326645e+00  4.52472377e+00  3.22865900e+00  3.13269029e+00\n  4.41697429e+00  4.19274430e+00  2.60670740e+00  3.05099544e+00\n  2.26262696e+00  2.87205260e+00  2.52675483e+00  2.48745800e+00\n  2.11199807e+00  2.48430213e+00  2.66932549e+00  2.22651892e+00\n -9.57996292e+00 -6.79222229e+00 -3.63086905e+00 -5.72661252e+00\n -3.77128207e+00 -3.85856649e+00 -3.07960271e+00 -3.23368353e+00\n -3.62610208e+00 -4.41465618e+00 -2.71214264e+00 -2.72181996e+00\n -2.26149531e+00 -2.48932805e+00 -2.78885285e+00 -2.69601003e+00\n -2.27723686e+00 -2.76707568e+00 -2.16931070e+00 -1.99357903e+00\n -3.95708893e-02 -5.67578706e-01  3.29727798e-02  2.24141754e-01\n -1.24162404e-01  5.23042555e-02 -1.11443349e-02 -2.25639693e-03\n -6.86401187e-02  4.56165336e-02  3.65813956e-03 -1.74962461e-03\n -3.14876846e-03 -3.54522598e-02  4.45090759e-04  2.19662620e-02\n  4.19712216e-03  3.83004267e-02 -4.04007812e-03 -2.29669395e-02\n  7.14023561e+00  1.21549872e+01  1.54437261e+00  3.42611112e+00\n  2.41172671e+00  1.31519060e+00  6.95907688e-01  9.52744687e-01\n  1.49333856e+00  1.56520682e+00  4.77706011e-01  2.62982721e-01\n  1.21830589e-01  5.88121035e-01  3.85816681e-01  3.13675993e-01\n  2.94386022e-01  3.51104813e-01  1.95853116e-01  1.44234036e-01\n  3.62225314e+00  3.31806754e+00  1.26765177e+00  1.83430348e+00\n  1.78885158e+00  1.57363377e+00  1.12592463e+00  1.25382892e+00\n  1.47175567e+00  1.42554672e+00  1.01874745e+00  9.97180938e-01\n  8.54676458e-01  1.01912773e+00  1.12763519e+00  1.03941306e+00\n  8.44710235e-01  9.35135632e-01  8.51367059e-01  8.58755856e-01\n  6.14670979e+02  3.73654577e+02  1.53885145e+02  1.52351392e+02\n  1.84619931e+02  1.57183365e+02  1.36480665e+02  1.30880843e+02\n  1.69743530e+02  1.61896462e+02  1.25508969e+02  1.20131066e+02\n  1.15436538e+02  1.20494577e+02  1.12361068e+02  1.06536174e+02\n  1.06161643e+02  1.13527882e+02  1.08691808e+02  1.08472641e+02\n  7.53244657e+02  5.72867215e+02  4.82713481e+02  4.68869879e+02\n  5.40051106e+02  5.00074252e+02  4.61694610e+02  4.43779804e+02\n  5.23648663e+02  5.02537508e+02  4.38050711e+02  4.28123699e+02\n  4.18362765e+02  4.22356831e+02  4.07114777e+02  3.91621704e+02\n  3.90160415e+02  4.10158182e+02  3.99144665e+02  4.00245978e+02\n -5.95993009e-01 -4.76124221e-01 -3.92583635e-01 -3.92810186e-01\n -4.32666652e-01 -4.20274600e-01 -4.03183280e-01 -3.95657539e-01\n -4.24932550e-01 -4.06773775e-01 -3.88662379e-01 -3.77027753e-01\n -3.78433725e-01 -3.77541048e-01 -3.77109171e-01 -3.66591104e-01\n -3.60042907e-01 -3.70782530e-01 -3.72229203e-01 -3.62402937e-01\n  5.62060152e-01  4.45461580e-01  4.06472354e-01  4.14415946e-01\n  4.24819513e-01  4.25369346e-01  4.04390093e-01  3.83549164e-01\n  4.23762959e-01  4.14005527e-01  4.07216234e-01  3.81661536e-01\n  3.82952993e-01  3.70042038e-01  3.67736397e-01  3.70768450e-01\n  3.67634541e-01  3.78566568e-01  3.70522818e-01  3.63993850e-01\n  5.26185577e-05  6.61088354e-05  5.87736932e-05  9.04213448e-01\n  3.08474072e-01  3.59166477e-01  8.10384607e+00  1.57404853e+00\n  1.74030444e+00 -5.93924856e+00 -1.68278592e+00 -1.34970666e+00\n -9.03094367e-05 -2.04072194e-05 -2.84961066e-05  4.45116225e-01\n  1.82448691e-01  2.16077907e-01  2.71142698e+00  7.12806333e-01\n  1.15754128e+00 -3.20693615e+00 -7.31653987e-01 -8.77409182e-01\n  6.28896889e+01  1.13724606e+01  1.58418215e+01  2.53757585e+02\n  6.71359502e+01  8.86364390e+01 -2.64083591e-01 -1.19160330e-01\n -1.43004980e-01  2.54661608e-01  1.17353656e-01  1.42191435e-01].\nReshape your data either using array.reshape(-1, 1) if your data has a single feature or array.reshape(1, -1) if it contains a single sample."
     ]
    }
   ],
   "source": [
    "# I have unlabelled mfcc data for each song in a folder called 'data-v2', and I want to run the trained model on this data to predict the labels of each song.\n",
    "# the data is stored in the same format as the training data, with each song's mfcc features stored in a separate CSV file.\n",
    "# I want to load the data, preprocess it in the same way as the training data, and then use the trained model to predict the labels of each song.\n",
    "\n",
    "# Load the unlabelled data\n",
    "import os\n",
    "import pandas as pd\n",
    "import numpy as np\n",
    "\n",
    "# Directory containing the unlabelled data\n",
    "data_dir = './data-v2'\n",
    "data2_dir = './data-v2-copy'\n",
    "\n",
    "predictions = []\n",
    "\n",
    "# LDA model\n",
    "lda = LDA(n_components=5)\n",
    "X_train_reduced = lda.fit_transform(X_train, y_train)\n",
    "\n",
    "\n",
    "for file_name in os.listdir(data_dir):\n",
    "    if file_name.endswith('.csv'):\n",
    "        file_path = os.path.join(data_dir, file_name)\n",
    "        file_path2 = os.path.join(data2_dir, file_name)\n",
    "        mfcc_data = pd.read_csv(file_path, header=None).values\n",
    "        mfcc_data = mfcc_data[:20]\n",
    "        mfcc_data2 = pd.read_csv(file_path2, header=None).values\n",
    "        # Compute aggregated MFCC features\n",
    "        aggregated_features = aggregate_mfcc_selective(mfcc_data)\n",
    "        aggregated_features2 = aggregate_mfcc_selective2(mfcc_data2)\n",
    "\n",
    "        skewness = skew(mfcc_data, axis=1)\n",
    "        kurt = kurtosis(mfcc_data, axis=1)\n",
    "        range_max_min = np.ptp(mfcc_data, axis=1)\n",
    "\n",
    "        total_energy = np.sum(mfcc_data ** 2, axis=1)\n",
    "        energy_entropy = -np.sum(mfcc_data ** 2 * np.log(mfcc_data ** 2 + 1e-10), axis=1)\n",
    "        q25 = np.percentile(mfcc_data, 25, axis=1)\n",
    "        q75 = np.percentile(mfcc_data, 75, axis=1)\n",
    "    \n",
    "        delta_mfcc = librosa.feature.delta(mfcc_data, order=1)\n",
    "        delta_delta_mfcc = librosa.feature.delta(mfcc_data, order=2)\n",
    "        \n",
    "\n",
    "        delta_mean = np.mean(delta_mfcc, axis=1)\n",
    "        delta_std = np.std(delta_mfcc, axis=1)\n",
    "        delta_max = np.max(delta_mfcc, axis=1)\n",
    "        delta_min = np.min(delta_mfcc, axis=1)\n",
    "        delta_skew = skew(librosa.feature.delta(mfcc_data), axis=1)\n",
    "        delta_kurtosis = kurtosis(librosa.feature.delta(mfcc_data), axis=1)\n",
    "        delta_range = np.ptp(librosa.feature.delta(mfcc_data), axis=1)\n",
    "        delta_total_energy = np.sum(librosa.feature.delta(mfcc_data) ** 2, axis=1)\n",
    "        delta_energy_entropy = -np.sum(librosa.feature.delta(mfcc_data) ** 2 * np.log(librosa.feature.delta(mfcc_data) ** 2 + 1e-10), axis=1)\n",
    "        delta_q25 = np.percentile(delta_mfcc, 25, axis=1)\n",
    "        delta_q75 = np.percentile(delta_mfcc, 75, axis=1)\n",
    "            \n",
    "        delta_delta_mean = np.mean(delta_delta_mfcc, axis=1)\n",
    "        delta_delta_std = np.std(delta_delta_mfcc, axis=1)\n",
    "        delta_delta_max = np.max(delta_delta_mfcc, axis=1)\n",
    "        delta_delta_min = np.min(delta_delta_mfcc, axis=1)\n",
    "        delta_delta_skew = skew(librosa.feature.delta(delta_delta_mfcc, order=2), axis=1)\n",
    "        delta_delta_kurtosis = kurtosis(librosa.feature.delta(delta_delta_mfcc, order=2), axis=1)\n",
    "        delta_delta_range = np.ptp(librosa.feature.delta(delta_delta_mfcc, order=2), axis=1)\n",
    "        delta_delta_total_energy = np.sum(librosa.feature.delta(delta_delta_mfcc, order=2) ** 2, axis=1)\n",
    "        delta_delta_energy_entropy = -np.sum(librosa.feature.delta(delta_delta_mfcc, order=2) \n",
    "                                              ** 2 * np.log(librosa.feature.delta(delta_delta_mfcc, order=2) ** 2 + 1e-10), axis=1)\n",
    "        delta_delta_q25 = np.percentile(delta_delta_mfcc, 25, axis=1)\n",
    "        delta_delta_q75 = np.percentile(delta_delta_mfcc, 75, axis=1)\n",
    "\n",
    "    \n",
    "        delta_mfcc2 = librosa.feature.delta(mfcc_data2, order=1)\n",
    "        delta_delta_mfcc2 = librosa.feature.delta(mfcc_data2, order=2)\n",
    "        delta_mean2 = np.mean(delta_mfcc2, axis=1)\n",
    "        delta_std2 = np.std(delta_mfcc2, axis=1)\n",
    "        delta_max2 = np.max(delta_mfcc2, axis=1)\n",
    "        delta_min2 = np.min(delta_mfcc2, axis=1)\n",
    "        delta_delta_mean2 = np.mean(delta_delta_mfcc2, axis=1)\n",
    "        delta_delta_std2 = np.std(delta_delta_mfcc2, axis=1)\n",
    "        delta_delta_max2 = np.max(delta_delta_mfcc2, axis=1)\n",
    "        delta_delta_min2 = np.min(delta_delta_mfcc2, axis=1)\n",
    "        delta_delta_range2 = np.ptp(delta_delta_mfcc2, axis=1)  \n",
    "        delta_delta_total_energy2 = np.sum(librosa.feature.delta(delta_delta_mfcc2, order=2) ** 2, axis=1)\n",
    "        delta_delta_energy_entropy2 = -np.sum(librosa.feature.delta(delta_delta_mfcc2, order=2) \n",
    "                                              ** 2 * np.log(librosa.feature.delta(delta_delta_mfcc2, order=2) ** 2 + 1e-10), axis=1)\n",
    "        delta_delta_q252 = np.percentile(delta_delta_mfcc2, 25, axis=1)\n",
    "        delta_delta_q752 = np.percentile(delta_delta_mfcc2, 75, axis=1)\n",
    "\n",
    "        # PCA_mfcc = PCA(n_components=5)\n",
    "        # PCA_mfcc.fit(mfcc_data.T)\n",
    "        # PCA_mfcc_features = PCA_mfcc.components_.flatten()\n",
    "\n",
    "        # Compile all features into a single vector\n",
    "        features = np.concatenate([\n",
    "            aggregated_features.flatten(),\n",
    "            aggregated_features2.flatten(),\n",
    "            range_max_min.flatten(),\n",
    "            skewness.flatten(),\n",
    "            kurt.flatten(),\n",
    "            total_energy.flatten(),\n",
    "            energy_entropy.flatten(),\n",
    "            q25.flatten(),\n",
    "            q75.flatten(),\n",
    "            \n",
    "            delta_mean.flatten(),\n",
    "            delta_std.flatten(),\n",
    "            delta_max.flatten(),\n",
    "            delta_min.flatten(),\n",
    "            delta_skew.flatten(),\n",
    "            delta_kurtosis.flatten(),\n",
    "            delta_range.flatten(),\n",
    "            delta_total_energy.flatten(),\n",
    "            delta_energy_entropy.flatten(),\n",
    "            delta_q25.flatten(),\n",
    "            delta_q75.flatten(),\n",
    "            \n",
    "            delta_delta_mean.flatten(),\n",
    "            delta_delta_std.flatten(),\n",
    "            delta_delta_max.flatten(),\n",
    "            delta_delta_min.flatten(),\n",
    "            delta_delta_skew.flatten(),\n",
    "            delta_delta_kurtosis.flatten(),\n",
    "            delta_delta_range.flatten(),\n",
    "            delta_delta_total_energy.flatten(),\n",
    "            delta_delta_energy_entropy.flatten(),\n",
    "            delta_delta_q25.flatten(),\n",
    "            delta_delta_q75.flatten(),\n",
    "            \n",
    "            delta_mean2.flatten(),\n",
    "            delta_std2.flatten(),\n",
    "            delta_max2.flatten(),\n",
    "            delta_min2.flatten(),\n",
    "            delta_delta_mean2.flatten(),\n",
    "            delta_delta_std2.flatten(),\n",
    "            delta_delta_max2.flatten(),\n",
    "            delta_delta_min2.flatten(),\n",
    "            delta_delta_total_energy2.flatten(),\n",
    "            delta_delta_energy_entropy2.flatten(),\n",
    "            delta_delta_q252.flatten(),\n",
    "            delta_delta_q752.flatten(),\n",
    "\n",
    "            # PCA_mfcc_features.flatten(),\n",
    "        ])\n",
    "\n",
    "        # Apply LDA transformation to reduce features to 5 components\n",
    "        features_reduced = lda.transform(features)  # Apply LDA transformation\n",
    "\n",
    "        # Make predictions using each model\n",
    "        song_predictions = {'file': file_name}\n",
    "        for model_name, model in models.items():\n",
    "            try:\n",
    "                prediction = model.predict(features_reduced)\n",
    "                song_predictions[model_name] = prediction[0]\n",
    "            except Exception as e:\n",
    "                print(f\"Error with {model_name}: {e}\")\n",
    "                song_predictions[model_name] = None\n",
    "\n",
    "        # Append predictions for this song\n",
    "        predictions.append(song_predictions)\n",
    "\n",
    "# Convert predictions to a DataFrame and save\n",
    "predictions_df = pd.DataFrame(predictions)\n",
    "predictions_df.to_csv('predictions_unlabeled_songs.csv', index=False)\n",
    "print(predictions_df)       "
   ]
  }
 ],
 "metadata": {
  "kernelspec": {
   "display_name": "Python 3",
   "language": "python",
   "name": "python3"
  },
  "language_info": {
   "codemirror_mode": {
    "name": "ipython",
    "version": 3
   },
   "file_extension": ".py",
   "mimetype": "text/x-python",
   "name": "python",
   "nbconvert_exporter": "python",
   "pygments_lexer": "ipython3",
   "version": "3.12.3"
  }
 },
 "nbformat": 4,
 "nbformat_minor": 4
}
