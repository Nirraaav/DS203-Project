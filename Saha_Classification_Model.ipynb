{
 "cells": [
  {
   "cell_type": "code",
   "execution_count": 1,
   "metadata": {},
   "outputs": [
    {
     "name": "stdout",
     "output_type": "stream",
     "text": [
      "Defaulting to user installation because normal site-packages is not writeable\n",
      "Requirement already satisfied: xgboost in /home/nirav24/.local/lib/python3.12/site-packages (2.1.1)\n",
      "Requirement already satisfied: numpy in /home/nirav24/.local/lib/python3.12/site-packages (from xgboost) (2.0.2)\n",
      "Requirement already satisfied: nvidia-nccl-cu12 in /home/nirav24/.local/lib/python3.12/site-packages (from xgboost) (2.23.4)\n",
      "Requirement already satisfied: scipy in /home/nirav24/.local/lib/python3.12/site-packages (from xgboost) (1.14.1)\n"
     ]
    }
   ],
   "source": [
    "!pip install xgboost"
   ]
  },
  {
   "cell_type": "code",
   "execution_count": 2,
   "metadata": {},
   "outputs": [],
   "source": [
    "import pandas as pd\n",
    "import numpy as np\n",
    "from sklearn.model_selection import train_test_split\n",
    "from sklearn.ensemble import AdaBoostClassifier\n",
    "import librosa\n",
    "from sklearn.svm import SVC\n",
    "from sklearn.naive_bayes import GaussianNB\n",
    "from sklearn.metrics import classification_report, accuracy_score, precision_score, recall_score, f1_score, confusion_matrix"
   ]
  },
  {
   "cell_type": "code",
   "execution_count": 3,
   "metadata": {},
   "outputs": [
    {
     "name": "stdout",
     "output_type": "stream",
     "text": [
      "Processed Asha-Bhosle-23.csv\n",
      "Processed 1 of 495\n",
      "Processed Michael-Jackson-55.csv\n",
      "Processed 2 of 495\n",
      "Processed Kishore-Kumar-63.csv\n",
      "Processed 3 of 495\n",
      "Processed Asha-Bhosle-32.csv\n",
      "Processed 4 of 495\n",
      "Processed Jana-Gana-Mana-8-MFCC.csv\n",
      "Processed 5 of 495\n",
      "Processed Bhavgeet-47.csv\n",
      "Processed 6 of 495\n",
      "Processed Lavni-20.csv\n",
      "Processed 7 of 495\n",
      "Processed Bhavgeet-61.csv\n",
      "Processed 8 of 495\n",
      "Processed Michael-Jackson-42.csv\n",
      "Processed 9 of 495\n",
      "Processed Asha-Bhosle-71.csv\n",
      "Processed 10 of 495\n",
      "Processed Bhavgeet-14.csv\n",
      "Processed 11 of 495\n",
      "Processed Michael-Jackson-17.csv\n",
      "Processed 12 of 495\n",
      "Processed Bhavgeet-18.csv\n",
      "Processed 13 of 495\n",
      "Processed Asha-Bhosle-47.csv\n",
      "Processed 14 of 495\n",
      "Processed Kishore-Kumar-5-MFCC.csv\n",
      "Processed 15 of 495\n",
      "Processed Michael-Jackson-24.csv\n",
      "Processed 16 of 495\n",
      "Processed Bhavgeet-5-MFCC.csv\n",
      "Processed 17 of 495\n",
      "Processed Michael-Jackson-71.csv\n",
      "Processed 18 of 495\n",
      "Processed Jana-Gana-Mana-49.csv\n",
      "Processed 19 of 495\n",
      "Processed Asha-Bhosle-66.csv\n",
      "Processed 20 of 495\n",
      "Processed Bhavgeet-54.csv\n",
      "Processed 21 of 495\n",
      "Processed Asha-Bhosle-15-MFCC.csv\n",
      "Processed 22 of 495\n",
      "Processed Bhavgeet-73.csv\n",
      "Processed 23 of 495\n",
      "Processed Kishore-Kumar-49.csv\n",
      "Processed 24 of 495\n",
      "Processed Kishore-Kumar-25.csv\n",
      "Processed 25 of 495\n",
      "Processed Kishore-Kumar-2.csv\n",
      "Processed 26 of 495\n",
      "Processed Kishore-Kumar-38.csv\n",
      "Processed 27 of 495\n",
      "Processed Bhavgeet-21.csv\n",
      "Processed 28 of 495\n",
      "Processed Asha-Bhosle-19-MFCC.csv\n",
      "Processed 29 of 495\n",
      "Processed Asha-Bhosle-1-MFCC.csv\n",
      "Processed 30 of 495\n",
      "Processed Asha-Bhosle-7-MFCC.csv\n",
      "Processed 31 of 495\n",
      "Processed Michael-Jackson-44.csv\n",
      "Processed 32 of 495\n",
      "Processed Kishore-Kumar-1-MFCC.csv\n",
      "Processed 33 of 495\n",
      "Processed Michael-Jackson-66.csv\n",
      "Processed 34 of 495\n",
      "Processed Asha-Bhosle-37.csv\n",
      "Processed 35 of 495\n",
      "Processed Bhavgeet-65.csv\n",
      "Processed 36 of 495\n",
      "Processed Michael-Jackson-15.csv\n",
      "Processed 37 of 495\n",
      "Processed Bhavgeet-34.csv\n",
      "Processed 38 of 495\n",
      "Processed Kishore-Kumar-39.csv\n",
      "Processed 39 of 495\n",
      "Processed Michael-Jackson-16.csv\n",
      "Processed 40 of 495\n",
      "Processed Asha-Bhosle-17.csv\n",
      "Processed 41 of 495\n",
      "Processed Bhavgeet-43.csv\n",
      "Processed 42 of 495\n",
      "Processed Kishore-Kumar-54.csv\n",
      "Processed 43 of 495\n",
      "Processed Bhavgeet-10-MFCC.csv\n",
      "Processed 44 of 495\n",
      "Processed Asha-Bhosle-55.csv\n",
      "Processed 45 of 495\n",
      "Processed Lavni-1.csv\n",
      "Processed 46 of 495\n",
      "Processed Kishore-Kumar-40.csv\n",
      "Processed 47 of 495\n",
      "Processed Bhavgeet-1-MFCC.csv\n",
      "Processed 48 of 495\n",
      "Processed Bhavgeet-10.csv\n",
      "Processed 49 of 495\n",
      "Processed Asha-Bhosle-2-MFCC.csv\n",
      "Processed 50 of 495\n",
      "Processed Bhavgeet-66.csv\n",
      "Processed 51 of 495\n",
      "Processed Lavni-Song-4-MFCC.csv\n",
      "Processed 52 of 495\n",
      "Processed Lavni-48.csv\n",
      "Processed 53 of 495\n",
      "Processed Bhavgeet-46.csv\n",
      "Processed 54 of 495\n",
      "Processed Michael-Jackson-30.csv\n",
      "Processed 55 of 495\n",
      "Processed Jana-Gana-Mana-17.csv\n",
      "Processed 56 of 495\n",
      "Processed Michael-Jackson-27.csv\n",
      "Processed 57 of 495\n",
      "Processed Kishore-Kumar-46.csv\n",
      "Processed 58 of 495\n",
      "Processed Kishore-Kumar-7-MFCC.csv\n",
      "Processed 59 of 495\n",
      "Processed Michael-Jackson-20.csv\n",
      "Processed 60 of 495\n",
      "Processed Jana-Gana-Mana-27.csv\n",
      "Processed 61 of 495\n",
      "Processed Asha-Bhosle-28.csv\n",
      "Processed 62 of 495\n",
      "Processed Asha-Bhosle-48.csv\n",
      "Processed 63 of 495\n",
      "Processed Bhavgeet-35.csv\n",
      "Processed 64 of 495\n",
      "Processed Asha-Bhosle-15.csv\n",
      "Processed 65 of 495\n",
      "Processed Lavni-44.csv\n",
      "Processed 66 of 495\n",
      "Processed Asha-Bhosle-14-MFCC.csv\n",
      "Processed 67 of 495\n",
      "Processed Asha-Bhosle-41.csv\n",
      "Processed 68 of 495\n",
      "Processed Asha-Bhosle-13.csv\n",
      "Processed 69 of 495\n",
      "Processed Michael-Jackson-51.csv\n",
      "Processed 70 of 495\n",
      "Processed Bhavgeet-51.csv\n",
      "Processed 71 of 495\n",
      "Processed Bhavgeet-69.csv\n",
      "Processed 72 of 495\n",
      "Processed Kishore-Kumar-32.csv\n",
      "Processed 73 of 495\n",
      "Processed Kishore-Kumar-19.csv\n",
      "Processed 74 of 495\n",
      "Processed Asha-Bhosle-22-MFCC.csv\n",
      "Processed 75 of 495\n",
      "Processed Kishore-Kumar-52.csv\n",
      "Processed 76 of 495\n",
      "Processed Lavni-10.csv\n",
      "Processed 77 of 495\n",
      "Processed Asha-Bhosle-6.csv\n",
      "Processed 78 of 495\n",
      "Processed Kishore-Kumar-5.csv\n",
      "Processed 79 of 495\n",
      "Processed Asha-Bhosle-12-MFCC.csv\n",
      "Processed 80 of 495\n",
      "Processed Asha-Bhosle-16.csv\n",
      "Processed 81 of 495\n",
      "Processed Bhavgeet-17-MFCC.csv\n",
      "Processed 82 of 495\n",
      "Processed Kishore-Kumar-12-MFCC.csv\n",
      "Processed 83 of 495\n",
      "Processed Asha-Bhosle-3-MFCC.csv\n",
      "Processed 84 of 495\n",
      "Processed Lavni-21.csv\n",
      "Processed 85 of 495\n",
      "Processed Michael-Jackson-31.csv\n",
      "Processed 86 of 495\n",
      "Processed Kishore-Kumar-56.csv\n",
      "Processed 87 of 495\n",
      "Processed Lavni-3.csv\n",
      "Processed 88 of 495\n",
      "Processed Lavni-56.csv\n",
      "Processed 89 of 495\n",
      "Processed Michael-Jackson-9-MFCC.csv\n",
      "Processed 90 of 495\n",
      "Processed Kishore-Kumar-57.csv\n",
      "Processed 91 of 495\n",
      "Processed Lavni-53.csv\n",
      "Processed 92 of 495\n",
      "Processed Kishore-Kumar-2-MFCC.csv\n",
      "Processed 93 of 495\n",
      "Processed Kishore-Kumar-62.csv\n",
      "Processed 94 of 495\n",
      "Processed Bhavgeet-22.csv\n",
      "Processed 95 of 495\n",
      "Processed Bhavgeet-36.csv\n",
      "Processed 96 of 495\n",
      "Processed Kishore-Kumar-43.csv\n",
      "Processed 97 of 495\n",
      "Processed Michael-Jackson-45.csv\n",
      "Processed 98 of 495\n",
      "Processed Kishore-Kumar-58.csv\n",
      "Processed 99 of 495\n",
      "Processed Jana-Gana-Mana-30.csv\n",
      "Processed 100 of 495\n",
      "Processed Asha-Bhosle-57.csv\n",
      "Processed 101 of 495\n",
      "Processed Kishore-Kumar-44.csv\n",
      "Processed 102 of 495\n",
      "Processed Lavni-Song-10-MFCC.csv\n",
      "Processed 103 of 495\n",
      "Processed Michael-Jackson-67.csv\n",
      "Processed 104 of 495\n",
      "Processed Asha-Bhosle-40.csv\n",
      "Processed 105 of 495\n",
      "Processed Jana-Gana-Mana-38.csv\n",
      "Processed 106 of 495\n",
      "Processed Lavni-38.csv\n",
      "Processed 107 of 495\n",
      "Processed Bhavgeet-11-MFCC.csv\n",
      "Processed 108 of 495\n",
      "Processed Michael-Jackson-8-MFCC.csv\n",
      "Processed 109 of 495\n",
      "Processed Jana-Gana-Mana-34.csv\n",
      "Processed 110 of 495\n",
      "Processed Jana-Gana-Mana-22.csv\n",
      "Processed 111 of 495\n",
      "Processed Kishore-Kumar-68.csv\n",
      "Processed 112 of 495\n",
      "Processed Asha-Bhosle-49.csv\n",
      "Processed 113 of 495\n",
      "Processed Bhavgeet-6-MFCC.csv\n",
      "Processed 114 of 495\n",
      "Processed Michael-Jackson-23.csv\n",
      "Processed 115 of 495\n",
      "Processed Bhavgeet-2-MFCC.csv\n",
      "Processed 116 of 495\n",
      "Processed Kishore-Kumar-72.csv\n",
      "Processed 117 of 495\n",
      "Processed Asha-Bhosle-26.csv\n",
      "Processed 118 of 495\n",
      "Processed Asha-Bhosle-50.csv\n",
      "Processed 119 of 495\n",
      "Processed Michael-Jackson-25.csv\n",
      "Processed 120 of 495\n",
      "Processed Lavni-2.csv\n",
      "Processed 121 of 495\n",
      "Processed Kishore-Kumar-18.csv\n",
      "Processed 122 of 495\n",
      "Processed Kishore-Kumar-17.csv\n",
      "Processed 123 of 495\n",
      "Processed Asha-Bhosle-38.csv\n",
      "Processed 124 of 495\n",
      "Processed Jana-Gana-Mana-19.csv\n",
      "Processed 125 of 495\n",
      "Processed Kishore-Kumar-6.csv\n",
      "Processed 126 of 495\n",
      "Processed Michael-Jackson-12.csv\n",
      "Processed 127 of 495\n",
      "Processed Asha-Bhosle-7.csv\n",
      "Processed 128 of 495\n",
      "Processed Asha-Bhosle-14.csv\n",
      "Processed 129 of 495\n",
      "Processed Asha-Bhosle-36.csv\n",
      "Processed 130 of 495\n",
      "Processed Asha-Bhosle-17-MFCC.csv\n",
      "Processed 131 of 495\n",
      "Processed Asha-Bhosle-11-MFCC.csv\n",
      "Processed 132 of 495\n",
      "Processed Lavni-65.csv\n",
      "Processed 133 of 495\n",
      "Processed Lavni-Song-9-MFCC.csv\n",
      "Processed 134 of 495\n",
      "Processed Lavni-62.csv\n",
      "Processed 135 of 495\n",
      "Processed Bhavgeet-48.csv\n",
      "Processed 136 of 495\n",
      "Processed Michael-Jackson-22.csv\n",
      "Processed 137 of 495\n",
      "Processed Bhavgeet-9.csv\n",
      "Processed 138 of 495\n",
      "Processed Lavni-4.csv\n",
      "Processed 139 of 495\n",
      "Processed Asha-Bhosle-3.csv\n",
      "Processed 140 of 495\n",
      "Processed Lavni-19.csv\n",
      "Processed 141 of 495\n",
      "Processed Bhavgeet-5.csv\n",
      "Processed 142 of 495\n",
      "Processed Bhavgeet-15.csv\n",
      "Processed 143 of 495\n",
      "Processed Asha-Bhosle-33.csv\n",
      "Processed 144 of 495\n",
      "Processed Kishore-Kumar-10-MFCC.csv\n",
      "Processed 145 of 495\n",
      "Processed Asha-Bhosle-21.csv\n",
      "Processed 146 of 495\n",
      "Processed Lavni-47.csv\n",
      "Processed 147 of 495\n",
      "Processed Asha-Bhosle-51.csv\n",
      "Processed 148 of 495\n",
      "Processed Kishore-Kumar-11.csv\n",
      "Processed 149 of 495\n",
      "Processed Bhavgeet-71.csv\n",
      "Processed 150 of 495\n",
      "Processed Jana-Gana-Mana-33.csv\n",
      "Processed 151 of 495\n",
      "Processed Kishore-Kumar-48.csv\n",
      "Processed 152 of 495\n",
      "Processed Michael-Jackson-35.csv\n",
      "Processed 153 of 495\n",
      "Processed Bhavgeet-27.csv\n",
      "Processed 154 of 495\n",
      "Processed Kishore-Kumar-53.csv\n",
      "Processed 155 of 495\n",
      "Processed Michael-Jackson-34.csv\n",
      "Processed 156 of 495\n",
      "Processed Bhavgeet-31.csv\n",
      "Processed 157 of 495\n",
      "Processed Kishore-Kumar-30.csv\n",
      "Processed 158 of 495\n",
      "Processed Jana-Gana-Mana-42.csv\n",
      "Processed 159 of 495\n",
      "Processed Lavni-61.csv\n",
      "Processed 160 of 495\n",
      "Processed Jana-Gana-Mana-48.csv\n",
      "Processed 161 of 495\n",
      "Processed Bhavgeet-62.csv\n",
      "Processed 162 of 495\n",
      "Processed Michael-Jackson-29.csv\n",
      "Processed 163 of 495\n",
      "Processed Kishore-Kumar-22.csv\n",
      "Processed 164 of 495\n",
      "Processed Bhavgeet-19-MFCC.csv\n",
      "Processed 165 of 495\n",
      "Processed Lavni-25.csv\n",
      "Processed 166 of 495\n",
      "Processed Asha-Bhosle-25.csv\n",
      "Processed 167 of 495\n",
      "Processed Asha-Bhosle-31.csv\n",
      "Processed 168 of 495\n",
      "Processed Asha-Bhosle-54.csv\n",
      "Processed 169 of 495\n",
      "Processed Kishore-Kumar-74.csv\n",
      "Processed 170 of 495\n",
      "Processed Michael-Jackson-58.csv\n",
      "Processed 171 of 495\n",
      "Processed Asha-Bhosle-18-MFCC.csv\n",
      "Processed 172 of 495\n",
      "Processed Michael-Jackson-40.csv\n",
      "Processed 173 of 495\n",
      "Processed Lavni-52.csv\n",
      "Processed 174 of 495\n",
      "Processed Lavni-22.csv\n",
      "Processed 175 of 495\n",
      "Processed Bhavgeet-7.csv\n",
      "Processed 176 of 495\n",
      "Processed Bhavgeet-26.csv\n",
      "Processed 177 of 495\n",
      "Processed Asha-Bhosle-13-MFCC.csv\n",
      "Processed 178 of 495\n",
      "Processed Asha-Bhosle-27.csv\n",
      "Processed 179 of 495\n",
      "Processed Michael-Jackson-56.csv\n",
      "Processed 180 of 495\n",
      "Processed Lavni-66.csv\n",
      "Processed 181 of 495\n",
      "Processed Lavni-43.csv\n",
      "Processed 182 of 495\n",
      "Processed Asha-Bhosle-68.csv\n",
      "Processed 183 of 495\n",
      "Processed Jana-Gana-Mana-46.csv\n",
      "Processed 184 of 495\n",
      "Processed Jana-Gana-Mana-28.csv\n",
      "Processed 185 of 495\n",
      "Processed Kishore-Kumar-4-MFCC.csv\n",
      "Processed 186 of 495\n",
      "Processed Kishore-Kumar-3-MFCC.csv\n",
      "Processed 187 of 495\n",
      "Processed Bhavgeet-16-MFCC.csv\n",
      "Processed 188 of 495\n",
      "Processed Bhavgeet-19.csv\n",
      "Processed 189 of 495\n",
      "Processed Jana-Gana-Mana-26.csv\n",
      "Processed 190 of 495\n",
      "Processed Asha-Bhosle-45.csv\n",
      "Processed 191 of 495\n",
      "Processed Lavni-37.csv\n",
      "Processed 192 of 495\n",
      "Processed Lavni-Song-5-MFCC.csv\n",
      "Processed 193 of 495\n",
      "Processed Michael-Jackson-13.csv\n",
      "Processed 194 of 495\n",
      "Processed Michael-Jackson-4-MFCC.csv\n",
      "Processed 195 of 495\n",
      "Processed Kishore-Kumar-3.csv\n",
      "Processed 196 of 495\n",
      "Processed Jana-Gana-Mana-44.csv\n",
      "Processed 197 of 495\n",
      "Processed Michael-Jackson-10.csv\n",
      "Processed 198 of 495\n",
      "Processed Bhavgeet-42.csv\n",
      "Processed 199 of 495\n",
      "Processed Kishore-Kumar-41.csv\n",
      "Processed 200 of 495\n",
      "Processed Asha-Bhosle-5-MFCC.csv\n",
      "Processed 201 of 495\n",
      "Processed Bhavgeet-13.csv\n",
      "Processed 202 of 495\n",
      "Processed Bhavgeet-50.csv\n",
      "Processed 203 of 495\n",
      "Processed Kishore-Kumar-59.csv\n",
      "Processed 204 of 495\n",
      "Processed Michael-Jackson-5.csv\n",
      "Processed 205 of 495\n",
      "Processed Jana-Gana-Mana-5-MFCC.csv\n",
      "Processed 206 of 495\n",
      "Processed Asha-Bhosle-64.csv\n",
      "Processed 207 of 495\n",
      "Processed Kishore-Kumar-15-MFCC.csv\n",
      "Processed 208 of 495\n",
      "Processed Lavni-35.csv\n",
      "Processed 209 of 495\n",
      "Processed Lavni-45.csv\n",
      "Processed 210 of 495\n",
      "Processed Kishore-Kumar-69.csv\n",
      "Processed 211 of 495\n",
      "Processed Lavni-46.csv\n",
      "Processed 212 of 495\n",
      "Processed Asha-Bhosle-56.csv\n",
      "Processed 213 of 495\n",
      "Processed Asha-Bhosle-52.csv\n",
      "Processed 214 of 495\n",
      "Processed Michael-Jackson-7-MFCC.csv\n",
      "Processed 215 of 495\n",
      "Processed Michael-Jackson-26.csv\n",
      "Processed 216 of 495\n",
      "Processed Asha-Bhosle-61.csv\n",
      "Processed 217 of 495\n",
      "Processed Bhavgeet-28.csv\n",
      "Processed 218 of 495\n",
      "Processed Jana-Gana-Mana-12.csv\n",
      "Processed 219 of 495\n",
      "Processed Kishore-Kumar-28.csv\n",
      "Processed 220 of 495\n",
      "Processed Michael-Jackson-18.csv\n",
      "Processed 221 of 495\n",
      "Processed Lavni-Song-11-MFCC.csv\n",
      "Processed 222 of 495\n",
      "Processed Kishore-Kumar-50.csv\n",
      "Processed 223 of 495\n",
      "Processed Lavni-9.csv\n",
      "Processed 224 of 495\n",
      "Processed Bhavgeet-3-MFCC.csv\n",
      "Processed 225 of 495\n",
      "Processed Jana-Gana-Mana-7-MFCC.csv\n",
      "Processed 226 of 495\n",
      "Processed Jana-Gana-Mana-1-MFCC.csv\n",
      "Processed 227 of 495\n",
      "Processed Kishore-Kumar-47.csv\n",
      "Processed 228 of 495\n",
      "Processed Lavni-54.csv\n",
      "Processed 229 of 495\n",
      "Processed Jana-Gana-Mana-3-MFCC.csv\n",
      "Processed 230 of 495\n",
      "Processed Kishore-Kumar-67.csv\n",
      "Processed 231 of 495\n",
      "Processed Lavni-40.csv\n",
      "Processed 232 of 495\n",
      "Processed Bhavgeet-72.csv\n",
      "Processed 233 of 495\n",
      "Processed Lavni-Song-8-MFCC.csv\n",
      "Processed 234 of 495\n",
      "Processed Kishore-Kumar-34.csv\n",
      "Processed 235 of 495\n",
      "Processed Asha-Bhosle-9-MFCC.csv\n",
      "Processed 236 of 495\n",
      "Processed Asha-Bhosle-12.csv\n",
      "Processed 237 of 495\n",
      "Processed Jana-Gana-Mana-15.csv\n",
      "Processed 238 of 495\n",
      "Processed Kishore-Kumar-73.csv\n",
      "Processed 239 of 495\n",
      "Processed Bhavgeet-23.csv\n",
      "Processed 240 of 495\n",
      "Processed Kishore-Kumar-27.csv\n",
      "Processed 241 of 495\n",
      "Processed Lavni-6.csv\n",
      "Processed 242 of 495\n",
      "Processed Asha-Bhosle-10.csv\n",
      "Processed 243 of 495\n",
      "Processed Jana-Gana-Mana-2-MFCC.csv\n",
      "Processed 244 of 495\n",
      "Processed Lavni-42.csv\n",
      "Processed 245 of 495\n",
      "Processed Bhavgeet-38.csv\n",
      "Processed 246 of 495\n",
      "Processed Bhavgeet-13-MFCC.csv\n",
      "Processed 247 of 495\n",
      "Processed Asha-Bhosle-30.csv\n",
      "Processed 248 of 495\n",
      "Processed Jana-Gana-Mana-6-MFCC.csv\n",
      "Processed 249 of 495\n",
      "Processed Asha-Bhosle-9.csv\n",
      "Processed 250 of 495\n",
      "Processed Jana-Gana-Mana-47.csv\n",
      "Processed 251 of 495\n",
      "Processed Bhavgeet-40.csv\n",
      "Processed 252 of 495\n",
      "Processed Asha-Bhosle-20.csv\n",
      "Processed 253 of 495\n",
      "Processed Michael-Jackson-63.csv\n",
      "Processed 254 of 495\n",
      "Processed Asha-Bhosle-46.csv\n",
      "Processed 255 of 495\n",
      "Processed Michael-Jackson-65.csv\n",
      "Processed 256 of 495\n",
      "Processed Asha-Bhosle-58.csv\n",
      "Processed 257 of 495\n",
      "Processed Asha-Bhosle-23-MFCC.csv\n",
      "Processed 258 of 495\n",
      "Processed Bhavgeet-9-MFCC.csv\n",
      "Processed 259 of 495\n",
      "Processed Bhavgeet-64.csv\n",
      "Processed 260 of 495\n",
      "Processed Asha-Bhosle-21-MFCC.csv\n",
      "Processed 261 of 495\n",
      "Processed Jana-Gana-Mana-36.csv\n",
      "Processed 262 of 495\n",
      "Processed Kishore-Kumar-8.csv\n",
      "Processed 263 of 495\n",
      "Processed Bhavgeet-32.csv\n",
      "Processed 264 of 495\n",
      "Processed Kishore-Kumar-15.csv\n",
      "Processed 265 of 495\n",
      "Processed Kishore-Kumar-33.csv\n",
      "Processed 266 of 495\n",
      "Processed Jana-Gana-Mana-18.csv\n",
      "Processed 267 of 495\n",
      "Processed Asha-Bhosle-29.csv\n",
      "Processed 268 of 495\n",
      "Processed Bhavgeet-68.csv\n",
      "Processed 269 of 495\n",
      "Processed Jana-Gana-Mana-1.csv\n",
      "Processed 270 of 495\n",
      "Processed Kishore-Kumar-60.csv\n",
      "Processed 271 of 495\n",
      "Processed Bhavgeet-24.csv\n",
      "Processed 272 of 495\n",
      "Processed Asha-Bhosle-63.csv\n",
      "Processed 273 of 495\n",
      "Processed Michael-Jackson-70.csv\n",
      "Processed 274 of 495\n",
      "Processed Kishore-Kumar-37.csv\n",
      "Processed 275 of 495\n",
      "Processed Lavni-Song-3-MFCC.csv\n",
      "Processed 276 of 495\n",
      "Processed Bhavgeet-8.csv\n",
      "Processed 277 of 495\n",
      "Processed Kishore-Kumar-24.csv\n",
      "Processed 278 of 495\n",
      "Processed Michael-Jackson-57.csv\n",
      "Processed 279 of 495\n",
      "Processed Lavni-28.csv\n",
      "Processed 280 of 495\n",
      "Processed Asha-Bhosle-72.csv\n",
      "Processed 281 of 495\n",
      "Processed Kishore-Kumar-65.csv\n",
      "Processed 282 of 495\n",
      "Processed Jana-Gana-Mana-45.csv\n",
      "Processed 283 of 495\n",
      "Processed Bhavgeet-58.csv\n",
      "Processed 284 of 495\n",
      "Processed Kishore-Kumar-55.csv\n",
      "Processed 285 of 495\n",
      "Processed Michael-Jackson-5-MFCC.csv\n",
      "Processed 286 of 495\n",
      "Processed Lavni-7.csv\n",
      "Processed 287 of 495\n",
      "Processed Kishore-Kumar-7.csv\n",
      "Processed 288 of 495\n",
      "Processed Bhavgeet-14-MFCC.csv\n",
      "Processed 289 of 495\n",
      "Processed Kishore-Kumar-14.csv\n",
      "Processed 290 of 495\n",
      "Processed Lavni-29.csv\n",
      "Processed 291 of 495\n",
      "Processed Bhavgeet-49.csv\n",
      "Processed 292 of 495\n",
      "Processed Michael-Jackson-47.csv\n",
      "Processed 293 of 495\n",
      "Processed Bhavgeet-52.csv\n",
      "Processed 294 of 495\n",
      "Processed Asha-Bhosle-73.csv\n",
      "Processed 295 of 495\n",
      "Processed Asha-Bhosle-8-MFCC.csv\n",
      "Processed 296 of 495\n",
      "Processed Asha-Bhosle-44.csv\n",
      "Processed 297 of 495\n",
      "Processed Jana-Gana-Mana-29.csv\n",
      "Processed 298 of 495\n",
      "Processed Bhavgeet-7-MFCC.csv\n",
      "Processed 299 of 495\n",
      "Processed Michael-Jackson-1.csv\n",
      "Processed 300 of 495\n",
      "Processed Michael-Jackson-61.csv\n",
      "Processed 301 of 495\n",
      "Processed Kishore-Kumar-51.csv\n",
      "Processed 302 of 495\n",
      "Processed Asha-Bhosle-67.csv\n",
      "Processed 303 of 495\n",
      "Processed Bhavgeet-8-MFCC.csv\n",
      "Processed 304 of 495\n",
      "Processed Kishore-Kumar-16-MFCC.csv\n",
      "Processed 305 of 495\n",
      "Processed Jana-Gana-Mana-13.csv\n",
      "Processed 306 of 495\n",
      "Processed Michael-Jackson-37.csv\n",
      "Processed 307 of 495\n",
      "Processed Asha-Bhosle-16-MFCC.csv\n",
      "Processed 308 of 495\n",
      "Processed Lavni-13.csv\n",
      "Processed 309 of 495\n",
      "Processed Lavni-Song-1-MFCC.csv\n",
      "Processed 310 of 495\n",
      "Processed Kishore-Kumar-21.csv\n",
      "Processed 311 of 495\n",
      "Processed Michael-Jackson-49.csv\n",
      "Processed 312 of 495\n",
      "Processed Jana-Gana-Mana-32.csv\n",
      "Processed 313 of 495\n",
      "Processed Bhavgeet-6.csv\n",
      "Processed 314 of 495\n",
      "Processed Bhavgeet-45.csv\n",
      "Processed 315 of 495\n",
      "Processed Lavni-33.csv\n",
      "Processed 316 of 495\n",
      "Processed Kishore-Kumar-8-MFCC.csv\n",
      "Processed 317 of 495\n",
      "Processed Bhavgeet-41.csv\n",
      "Processed 318 of 495\n",
      "Processed Lavni-64.csv\n",
      "Processed 319 of 495\n",
      "Processed Kishore-Kumar-45.csv\n",
      "Processed 320 of 495\n",
      "Processed Jana-Gana-Mana-16.csv\n",
      "Processed 321 of 495\n",
      "Processed Lavni-Song-7-MFCC.csv\n",
      "Processed 322 of 495\n",
      "Processed Michael-Jackson-7.csv\n",
      "Processed 323 of 495\n",
      "Processed Lavni-15.csv\n",
      "Processed 324 of 495\n",
      "Processed Michael-Jackson-38.csv\n",
      "Processed 325 of 495\n",
      "Processed Michael-Jackson-60.csv\n",
      "Processed 326 of 495\n",
      "Processed Kishore-Kumar-16.csv\n",
      "Processed 327 of 495\n",
      "Processed Michael-Jackson-53.csv\n",
      "Processed 328 of 495\n",
      "Processed Michael-Jackson-14.csv\n",
      "Processed 329 of 495\n",
      "Processed Bhavgeet-63.csv\n",
      "Processed 330 of 495\n",
      "Processed Michael-Jackson-9.csv\n",
      "Processed 331 of 495\n",
      "Processed Asha-Bhosle-20-MFCC.csv\n",
      "Processed 332 of 495\n",
      "Processed Bhavgeet-53.csv\n",
      "Processed 333 of 495\n",
      "Processed Asha-Bhosle-2.csv\n",
      "Processed 334 of 495\n",
      "Processed Lavni-5.csv\n",
      "Processed 335 of 495\n",
      "Processed Lavni-23.csv\n",
      "Processed 336 of 495\n",
      "Processed Bhavgeet-56.csv\n",
      "Processed 337 of 495\n",
      "Processed Lavni-12.csv\n",
      "Processed 338 of 495\n",
      "Processed Jana-Gana-Mana-40.csv\n",
      "Processed 339 of 495\n",
      "Processed Lavni-27.csv\n",
      "Processed 340 of 495\n",
      "Processed Jana-Gana-Mana-5.csv\n",
      "Processed 341 of 495\n",
      "Processed Michael-Jackson-1-MFCC.csv\n",
      "Processed 342 of 495\n",
      "Processed Jana-Gana-Mana-37.csv\n",
      "Processed 343 of 495\n",
      "Processed Michael-Jackson-72.csv\n",
      "Processed 344 of 495\n",
      "Processed Bhavgeet-12.csv\n",
      "Processed 345 of 495\n",
      "Processed Asha-Bhosle-34.csv\n",
      "Processed 346 of 495\n",
      "Processed Kishore-Kumar-70.csv\n",
      "Processed 347 of 495\n",
      "Processed Michael-Jackson-3.csv\n",
      "Processed 348 of 495\n",
      "Processed Michael-Jackson-3-MFCC.csv\n",
      "Processed 349 of 495\n",
      "Processed Bhavgeet-59.csv\n",
      "Processed 350 of 495\n",
      "Processed Jana-Gana-Mana-3.csv\n",
      "Processed 351 of 495\n",
      "Processed Bhavgeet-44.csv\n",
      "Processed 352 of 495\n",
      "Processed Lavni-60.csv\n",
      "Processed 353 of 495\n",
      "Processed Michael-Jackson-43.csv\n",
      "Processed 354 of 495\n",
      "Processed Bhavgeet-2.csv\n",
      "Processed 355 of 495\n",
      "Processed Michael-Jackson-62.csv\n",
      "Processed 356 of 495\n",
      "Processed Kishore-Kumar-14-MFCC.csv\n",
      "Processed 357 of 495\n",
      "Processed Kishore-Kumar-23.csv\n",
      "Processed 358 of 495\n",
      "Processed Kishore-Kumar-6-MFCC.csv\n",
      "Processed 359 of 495\n",
      "Processed Kishore-Kumar-4.csv\n",
      "Processed 360 of 495\n",
      "Processed Bhavgeet-16.csv\n",
      "Processed 361 of 495\n",
      "Processed Michael-Jackson-36.csv\n",
      "Processed 362 of 495\n",
      "Processed Bhavgeet-15-MFCC.csv\n",
      "Processed 363 of 495\n",
      "Processed Bhavgeet-18-MFCC.csv\n",
      "Processed 364 of 495\n",
      "Processed Jana-Gana-Mana-43.csv\n",
      "Processed 365 of 495\n",
      "Processed Jana-Gana-Mana-25.csv\n",
      "Processed 366 of 495\n",
      "Processed Michael-Jackson-11.csv\n",
      "Processed 367 of 495\n",
      "Processed Jana-Gana-Mana-23.csv\n",
      "Processed 368 of 495\n",
      "Processed Asha-Bhosle-74.csv\n",
      "Processed 369 of 495\n",
      "Processed Michael-Jackson-6.csv\n",
      "Processed 370 of 495\n",
      "Processed Lavni-17.csv\n",
      "Processed 371 of 495\n",
      "Processed Lavni-30.csv\n",
      "Processed 372 of 495\n",
      "Processed Jana-Gana-Mana-21.csv\n",
      "Processed 373 of 495\n",
      "Processed Lavni-11.csv\n",
      "Processed 374 of 495\n",
      "Processed Kishore-Kumar-17-MFCC.csv\n",
      "Processed 375 of 495\n",
      "Processed Asha-Bhosle-75.csv\n",
      "Processed 376 of 495\n",
      "Processed Kishore-Kumar-20.csv\n",
      "Processed 377 of 495\n",
      "Processed Michael-Jackson-73.csv\n",
      "Processed 378 of 495\n",
      "Processed Lavni-34.csv\n",
      "Processed 379 of 495\n",
      "Processed Bhavgeet-37.csv\n",
      "Processed 380 of 495\n",
      "Processed Lavni-8.csv\n",
      "Processed 381 of 495\n",
      "Processed Bhavgeet-25.csv\n",
      "Processed 382 of 495\n",
      "Processed Asha-Bhosle-4-MFCC.csv\n",
      "Processed 383 of 495\n",
      "Processed Bhavgeet-3.csv\n",
      "Processed 384 of 495\n",
      "Processed Asha-Bhosle-59.csv\n",
      "Processed 385 of 495\n",
      "Processed Jana-Gana-Mana-39.csv\n",
      "Processed 386 of 495\n",
      "Processed Jana-Gana-Mana-20.csv\n",
      "Processed 387 of 495\n",
      "Processed Kishore-Kumar-61.csv\n",
      "Processed 388 of 495\n",
      "Processed Asha-Bhosle-53.csv\n",
      "Processed 389 of 495\n",
      "Processed Jana-Gana-Mana-4.csv\n",
      "Processed 390 of 495\n",
      "Processed Jana-Gana-Mana-41.csv\n",
      "Processed 391 of 495\n",
      "Processed Michael-Jackson-48.csv\n",
      "Processed 392 of 495\n",
      "Processed Bhavgeet-57.csv\n",
      "Processed 393 of 495\n",
      "Processed Lavni-Song-6-MFCC.csv\n",
      "Processed 394 of 495\n",
      "Processed Asha-Bhosle-5.csv\n",
      "Processed 395 of 495\n",
      "Processed Michael-Jackson-2.csv\n",
      "Processed 396 of 495\n",
      "Processed Asha-Bhosle-62.csv\n",
      "Processed 397 of 495\n",
      "Processed Michael-Jackson-4.csv\n",
      "Processed 398 of 495\n",
      "Processed Michael-Jackson-6-MFCC.csv\n",
      "Processed 399 of 495\n",
      "Processed Lavni-49.csv\n",
      "Processed 400 of 495\n",
      "Processed Jana-Gana-Mana-10.csv\n",
      "Processed 401 of 495\n",
      "Processed Asha-Bhosle-8.csv\n",
      "Processed 402 of 495\n",
      "Processed Kishore-Kumar-36.csv\n",
      "Processed 403 of 495\n",
      "Processed Michael-Jackson-41.csv\n",
      "Processed 404 of 495\n",
      "Processed Michael-Jackson-54.csv\n",
      "Processed 405 of 495\n",
      "Processed Jana-Gana-Mana-8.csv\n",
      "Processed 406 of 495\n",
      "Processed Michael-Jackson-52.csv\n",
      "Processed 407 of 495\n",
      "Processed Bhavgeet-67.csv\n",
      "Processed 408 of 495\n",
      "Processed Jana-Gana-Mana-6.csv\n",
      "Processed 409 of 495\n",
      "Processed Kishore-Kumar-10.csv\n",
      "Processed 410 of 495\n",
      "Processed Jana-Gana-Mana-35.csv\n",
      "Processed 411 of 495\n",
      "Processed Kishore-Kumar-66.csv\n",
      "Processed 412 of 495\n",
      "Processed Bhavgeet-55.csv\n",
      "Processed 413 of 495\n",
      "Processed Bhavgeet-29.csv\n",
      "Processed 414 of 495\n",
      "Processed Kishore-Kumar-29.csv\n",
      "Processed 415 of 495\n",
      "Processed Michael-Jackson-32.csv\n",
      "Processed 416 of 495\n",
      "Processed Michael-Jackson-39.csv\n",
      "Processed 417 of 495\n",
      "Processed Bhavgeet-70.csv\n",
      "Processed 418 of 495\n",
      "Processed Kishore-Kumar-13.csv\n",
      "Processed 419 of 495\n",
      "Processed Michael-Jackson-64.csv\n",
      "Processed 420 of 495\n",
      "Processed Lavni-18.csv\n",
      "Processed 421 of 495\n",
      "Processed Jana-Gana-Mana-31.csv\n",
      "Processed 422 of 495\n",
      "Processed Michael-Jackson-50.csv\n",
      "Processed 423 of 495\n",
      "Processed Bhavgeet-1.csv\n",
      "Processed 424 of 495\n",
      "Processed Lavni-41.csv\n",
      "Processed 425 of 495\n",
      "Processed Lavni-24.csv\n",
      "Processed 426 of 495\n",
      "Processed Jana-Gana-Mana-24.csv\n",
      "Processed 427 of 495\n",
      "Processed Bhavgeet-12-MFCC.csv\n",
      "Processed 428 of 495\n",
      "Processed Bhavgeet-20.csv\n",
      "Processed 429 of 495\n",
      "Processed Bhavgeet-39.csv\n",
      "Processed 430 of 495\n",
      "Processed Kishore-Kumar-26.csv\n",
      "Processed 431 of 495\n",
      "Processed Michael-Jackson-19.csv\n",
      "Processed 432 of 495\n",
      "Processed Kishore-Kumar-31.csv\n",
      "Processed 433 of 495\n",
      "Processed Bhavgeet-33.csv\n",
      "Processed 434 of 495\n",
      "Processed Asha-Bhosle-10-MFCC.csv\n",
      "Processed 435 of 495\n",
      "Processed Asha-Bhosle-42.csv\n",
      "Processed 436 of 495\n",
      "Processed Lavni-31.csv\n",
      "Processed 437 of 495\n",
      "Processed Michael-Jackson-2-MFCC.csv\n",
      "Processed 438 of 495\n",
      "Processed Kishore-Kumar-13-MFCC.csv\n",
      "Processed 439 of 495\n",
      "Processed Michael-Jackson-69.csv\n",
      "Processed 440 of 495\n",
      "Processed Jana-Gana-Mana-2.csv\n",
      "Processed 441 of 495\n",
      "Processed Kishore-Kumar-64.csv\n",
      "Processed 442 of 495\n",
      "Processed Michael-Jackson-28.csv\n",
      "Processed 443 of 495\n",
      "Processed Asha-Bhosle-1.csv\n",
      "Processed 444 of 495\n",
      "Processed Kishore-Kumar-75.csv\n",
      "Processed 445 of 495\n",
      "Processed Jana-Gana-Mana-9.csv\n",
      "Processed 446 of 495\n",
      "Processed Asha-Bhosle-18.csv\n",
      "Processed 447 of 495\n",
      "Processed Bhavgeet-60.csv\n",
      "Processed 448 of 495\n",
      "Processed Lavni-50.csv\n",
      "Processed 449 of 495\n",
      "Processed Asha-Bhosle-22.csv\n",
      "Processed 450 of 495\n",
      "Processed Asha-Bhosle-6-MFCC.csv\n",
      "Processed 451 of 495\n",
      "Processed Asha-Bhosle-39.csv\n",
      "Processed 452 of 495\n",
      "Processed Kishore-Kumar-1.csv\n",
      "Processed 453 of 495\n",
      "Processed Asha-Bhosle-24.csv\n",
      "Processed 454 of 495\n",
      "Processed Bhavgeet-20-MFCC.csv\n",
      "Processed 455 of 495\n",
      "Processed Lavni-58.csv\n",
      "Processed 456 of 495\n",
      "Processed Kishore-Kumar-9.csv\n",
      "Processed 457 of 495\n",
      "Processed Lavni-26.csv\n",
      "Processed 458 of 495\n",
      "Processed Lavni-63.csv\n",
      "Processed 459 of 495\n",
      "Processed Kishore-Kumar-12.csv\n",
      "Processed 460 of 495\n",
      "Processed Asha-Bhosle-60.csv\n",
      "Processed 461 of 495\n",
      "Processed Asha-Bhosle-69.csv\n",
      "Processed 462 of 495\n",
      "Processed Lavni-57.csv\n",
      "Processed 463 of 495\n",
      "Processed Asha-Bhosle-43.csv\n",
      "Processed 464 of 495\n",
      "Processed Asha-Bhosle-4.csv\n",
      "Processed 465 of 495\n",
      "Processed Bhavgeet-17.csv\n",
      "Processed 466 of 495\n",
      "Processed Jana-Gana-Mana-7.csv\n",
      "Processed 467 of 495\n",
      "Processed Bhavgeet-4.csv\n",
      "Processed 468 of 495\n",
      "Processed Kishore-Kumar-9-MFCC.csv\n",
      "Processed 469 of 495\n",
      "Processed Michael-Jackson-21.csv\n",
      "Processed 470 of 495\n",
      "Processed Jana-Gana-Mana-14.csv\n",
      "Processed 471 of 495\n",
      "Processed Lavni-55.csv\n",
      "Processed 472 of 495\n",
      "Processed Kishore-Kumar-35.csv\n",
      "Processed 473 of 495\n",
      "Processed Jana-Gana-Mana-4-MFCC.csv\n",
      "Processed 474 of 495\n",
      "Processed Michael-Jackson-59.csv\n",
      "Processed 475 of 495\n",
      "Processed Lavni-59.csv\n",
      "Processed 476 of 495\n",
      "Processed Kishore-Kumar-71.csv\n",
      "Processed 477 of 495\n",
      "Processed Michael-Jackson-46.csv\n",
      "Processed 478 of 495\n",
      "Processed Bhavgeet-30.csv\n",
      "Processed 479 of 495\n",
      "Processed Lavni-Song-2-MFCC.csv\n",
      "Processed 480 of 495\n",
      "Processed Bhavgeet-11.csv\n",
      "Processed 481 of 495\n",
      "Processed Bhavgeet-4-MFCC.csv\n",
      "Processed 482 of 495\n",
      "Processed Michael-Jackson-8.csv\n",
      "Processed 483 of 495\n",
      "Processed Asha-Bhosle-11.csv\n",
      "Processed 484 of 495\n",
      "Processed Asha-Bhosle-70.csv\n",
      "Processed 485 of 495\n",
      "Processed Kishore-Kumar-42.csv\n",
      "Processed 486 of 495\n",
      "Processed Lavni-36.csv\n",
      "Processed 487 of 495\n",
      "Processed Kishore-Kumar-11-MFCC.csv\n",
      "Processed 488 of 495\n",
      "Processed Jana-Gana-Mana-11.csv\n",
      "Processed 489 of 495\n",
      "Processed Michael-Jackson-68.csv\n",
      "Processed 490 of 495\n",
      "Processed Asha-Bhosle-65.csv\n",
      "Processed 491 of 495\n",
      "Processed Michael-Jackson-33.csv\n",
      "Processed 492 of 495\n",
      "Processed Lavni-14.csv\n",
      "Processed 493 of 495\n",
      "Processed Asha-Bhosle-35.csv\n",
      "Processed 494 of 495\n",
      "Processed Lavni-32.csv\n",
      "Processed 495 of 495\n"
     ]
    }
   ],
   "source": [
    "import os\n",
    "import pandas as pd\n",
    "import numpy as np\n",
    "from sklearn.decomposition import PCA\n",
    "from scipy.stats import skew, kurtosis\n",
    "\n",
    "INDEX = 13\n",
    "DATA_DIR = './new-test-data/test-mfcc-v2' #update with where you stored the file\n",
    "DATA2_DIR = './new-test-data/test-mfcc-v2-copy'\n",
    "def aggregate_mfcc_selective(mfcc_data):\n",
    "    mfcc_selected = mfcc_data[INDEX:, :]\n",
    "    #features for data from 13-20\n",
    "    mfcc_mean = np.mean(mfcc_selected, axis=1)\n",
    "    mfcc_std = np.std(mfcc_selected, axis=1)\n",
    "    mfcc_max = np.max(mfcc_selected, axis=1)\n",
    "    mfcc_min = np.min(mfcc_selected, axis=1)\n",
    "    \n",
    "    features = np.concatenate([mfcc_mean, mfcc_std, mfcc_max, mfcc_min])\n",
    "    return features\n",
    "\n",
    "def aggregate_mfcc_selective2(mfcc_data):\n",
    "    mfcc_selected = mfcc_data[:3, :] # Select first 20 MFCCs\n",
    "    \n",
    "    mfcc_mean = np.mean(mfcc_selected, axis=1)\n",
    "    mfcc_std = np.std(mfcc_selected, axis=1)\n",
    "    mfcc_max = np.max(mfcc_selected, axis=1)\n",
    "    mfcc_min = np.min(mfcc_selected, axis=1)\n",
    "    \n",
    "    features = np.concatenate([mfcc_mean, mfcc_std, mfcc_max, mfcc_min])\n",
    "    return features\n",
    "\n",
    "# total number of files in the directory\n",
    "total_files = len(os.listdir(DATA_DIR))\n",
    "index = 1\n",
    "\n",
    "# Initialize lists to store features, file names, and labels\n",
    "mfcc_all_songs = []\n",
    "file_names = []\n",
    "generated_features = []\n",
    "labels = []\n",
    "\n",
    "total_songs = len(os.listdir(DATA_DIR))\n",
    "idx = 1\n",
    "\n",
    "# Iterate over all files in the specified directory\n",
    "for file_name in os.listdir(DATA_DIR):\n",
    "        file_path = os.path.join(DATA_DIR, file_name)\n",
    "        file_path2 = os.path.join(DATA2_DIR, file_name)\n",
    "        mfcc_data = pd.read_csv(file_path, header=None).values\n",
    "        mfcc_data = mfcc_data[:20]\n",
    "        mfcc_data2 = pd.read_csv(file_path2, header=None).values\n",
    "        # Compute aggregated MFCC features\n",
    "        aggregated_features = aggregate_mfcc_selective(mfcc_data)\n",
    "        aggregated_features2 = aggregate_mfcc_selective2(mfcc_data2)\n",
    "\n",
    "        skewness = skew(mfcc_data, axis=1)\n",
    "        kurt = kurtosis(mfcc_data, axis=1)\n",
    "        range_max_min = np.ptp(mfcc_data, axis=1)\n",
    "\n",
    "        total_energy = np.sum(mfcc_data ** 2, axis=1)\n",
    "        energy_entropy = -np.sum(mfcc_data ** 2 * np.log(mfcc_data ** 2 + 1e-10), axis=1)\n",
    "        q25 = np.percentile(mfcc_data, 25, axis=1)\n",
    "        q75 = np.percentile(mfcc_data, 75, axis=1)\n",
    "    \n",
    "        delta_mfcc = librosa.feature.delta(mfcc_data, order=1)\n",
    "        delta_delta_mfcc = librosa.feature.delta(mfcc_data, order=2)\n",
    "        \n",
    "\n",
    "        delta_mean = np.mean(delta_mfcc, axis=1)\n",
    "        delta_std = np.std(delta_mfcc, axis=1)\n",
    "        delta_max = np.max(delta_mfcc, axis=1)\n",
    "        delta_min = np.min(delta_mfcc, axis=1)\n",
    "        delta_skew = skew(librosa.feature.delta(mfcc_data), axis=1)\n",
    "        delta_kurtosis = kurtosis(librosa.feature.delta(mfcc_data), axis=1)\n",
    "        delta_range = np.ptp(librosa.feature.delta(mfcc_data), axis=1)\n",
    "        delta_total_energy = np.sum(librosa.feature.delta(mfcc_data) ** 2, axis=1)\n",
    "        delta_energy_entropy = -np.sum(librosa.feature.delta(mfcc_data) ** 2 * np.log(librosa.feature.delta(mfcc_data) ** 2 + 1e-10), axis=1)\n",
    "        delta_q25 = np.percentile(delta_mfcc, 25, axis=1)\n",
    "        delta_q75 = np.percentile(delta_mfcc, 75, axis=1)\n",
    "            \n",
    "        delta_delta_mean = np.mean(delta_delta_mfcc, axis=1)\n",
    "        delta_delta_std = np.std(delta_delta_mfcc, axis=1)\n",
    "        delta_delta_max = np.max(delta_delta_mfcc, axis=1)\n",
    "        delta_delta_min = np.min(delta_delta_mfcc, axis=1)\n",
    "        delta_delta_skew = skew(librosa.feature.delta(delta_delta_mfcc, order=2), axis=1)\n",
    "        delta_delta_kurtosis = kurtosis(librosa.feature.delta(delta_delta_mfcc, order=2), axis=1)\n",
    "        delta_delta_range = np.ptp(librosa.feature.delta(delta_delta_mfcc, order=2), axis=1)\n",
    "        delta_delta_total_energy = np.sum(librosa.feature.delta(delta_delta_mfcc, order=2) ** 2, axis=1)\n",
    "        delta_delta_energy_entropy = -np.sum(librosa.feature.delta(delta_delta_mfcc, order=2) \n",
    "                                              ** 2 * np.log(librosa.feature.delta(delta_delta_mfcc, order=2) ** 2 + 1e-10), axis=1)\n",
    "        delta_delta_q25 = np.percentile(delta_delta_mfcc, 25, axis=1)\n",
    "        delta_delta_q75 = np.percentile(delta_delta_mfcc, 75, axis=1)\n",
    "\n",
    "    \n",
    "        delta_mfcc2 = librosa.feature.delta(mfcc_data2, order=1)\n",
    "        delta_delta_mfcc2 = librosa.feature.delta(mfcc_data2, order=2)\n",
    "        delta_mean2 = np.mean(delta_mfcc2, axis=1)\n",
    "        delta_std2 = np.std(delta_mfcc2, axis=1)\n",
    "        delta_max2 = np.max(delta_mfcc2, axis=1)\n",
    "        delta_min2 = np.min(delta_mfcc2, axis=1)\n",
    "        delta_delta_mean2 = np.mean(delta_delta_mfcc2, axis=1)\n",
    "        delta_delta_std2 = np.std(delta_delta_mfcc2, axis=1)\n",
    "        delta_delta_max2 = np.max(delta_delta_mfcc2, axis=1)\n",
    "        delta_delta_min2 = np.min(delta_delta_mfcc2, axis=1)\n",
    "        delta_delta_range2 = np.ptp(delta_delta_mfcc2, axis=1)  \n",
    "        delta_delta_total_energy2 = np.sum(librosa.feature.delta(delta_delta_mfcc2, order=2) ** 2, axis=1)\n",
    "        delta_delta_energy_entropy2 = -np.sum(librosa.feature.delta(delta_delta_mfcc2, order=2) \n",
    "                                              ** 2 * np.log(librosa.feature.delta(delta_delta_mfcc2, order=2) ** 2 + 1e-10), axis=1)\n",
    "        delta_delta_q252 = np.percentile(delta_delta_mfcc2, 25, axis=1)\n",
    "        delta_delta_q752 = np.percentile(delta_delta_mfcc2, 75, axis=1)\n",
    "\n",
    "        # PCA_mfcc = PCA(n_components=5)\n",
    "        # PCA_mfcc.fit(mfcc_data.T)\n",
    "        # PCA_mfcc_features = PCA_mfcc.components_.flatten()\n",
    "\n",
    "        # Compile all features into a single vector\n",
    "        features = np.concatenate([\n",
    "            aggregated_features.flatten(),\n",
    "            aggregated_features2.flatten(),\n",
    "            range_max_min.flatten(),\n",
    "            skewness.flatten(),\n",
    "            kurt.flatten(),\n",
    "            total_energy.flatten(),\n",
    "            energy_entropy.flatten(),\n",
    "            q25.flatten(),\n",
    "            q75.flatten(),\n",
    "            \n",
    "            delta_mean.flatten(),\n",
    "            delta_std.flatten(),\n",
    "            delta_max.flatten(),\n",
    "            delta_min.flatten(),\n",
    "            delta_skew.flatten(),\n",
    "            delta_kurtosis.flatten(),\n",
    "            delta_range.flatten(),\n",
    "            delta_total_energy.flatten(),\n",
    "            delta_energy_entropy.flatten(),\n",
    "            delta_q25.flatten(),\n",
    "            delta_q75.flatten(),\n",
    "            \n",
    "            delta_delta_mean.flatten(),\n",
    "            delta_delta_std.flatten(),\n",
    "            delta_delta_max.flatten(),\n",
    "            delta_delta_min.flatten(),\n",
    "            delta_delta_skew.flatten(),\n",
    "            delta_delta_kurtosis.flatten(),\n",
    "            delta_delta_range.flatten(),\n",
    "            delta_delta_total_energy.flatten(),\n",
    "            delta_delta_energy_entropy.flatten(),\n",
    "            delta_delta_q25.flatten(),\n",
    "            delta_delta_q75.flatten(),\n",
    "            \n",
    "            delta_mean2.flatten(),\n",
    "            delta_std2.flatten(),\n",
    "            delta_max2.flatten(),\n",
    "            delta_min2.flatten(),\n",
    "            delta_delta_mean2.flatten(),\n",
    "            delta_delta_std2.flatten(),\n",
    "            delta_delta_max2.flatten(),\n",
    "            delta_delta_min2.flatten(),\n",
    "            delta_delta_total_energy2.flatten(),\n",
    "            delta_delta_energy_entropy2.flatten(),\n",
    "            delta_delta_q252.flatten(),\n",
    "            delta_delta_q752.flatten(),\n",
    "\n",
    "            # PCA_mfcc_features.flatten(),\n",
    "        ])\n",
    "\n",
    "        # Determine label based on filename pattern\n",
    "        if file_name.startswith('Asha-Bhosle'):\n",
    "            label = 'Asha Bhosle'\n",
    "        elif file_name.startswith('Kishore-Kumar'):\n",
    "            label = 'Kishore Kumar'\n",
    "        elif file_name.startswith('Lavni'):\n",
    "            label = 'Lavni'\n",
    "        elif file_name.startswith('Michael-Jackson'):\n",
    "            label = 'Michael Jackson'\n",
    "        elif file_name.startswith('Jana-Gana-Mana'):\n",
    "            label = 'Jana-Gana-Mana'\n",
    "        elif file_name.startswith('Bhavgeet'):\n",
    "             label = 'Bhavgeet'\n",
    "        else:\n",
    "            print(f'Unknown label for file: {file_name}')\n",
    "            \n",
    "        print(f'Processed {file_name}')\n",
    "        print(f'Processed {idx} of {total_songs}')\n",
    "        generated_features.append(features)\n",
    "        file_names.append(file_name)\n",
    "        labels.append(label)\n",
    "        idx += 1\n",
    "\n",
    "# Create DataFrame and save to CSV\n",
    "generated_features = np.vstack(generated_features)\n",
    "total_features = generated_features.shape[1]\n",
    "feature_columns = [f'feature_{i}' for i in range(total_features)]\n",
    "\n",
    "total_data_df = pd.DataFrame(generated_features, columns=feature_columns)\n",
    "total_data_df.insert(0, 'File', file_names)\n",
    "total_data_df.insert(1, 'Label', labels)\n",
    "\n",
    "# Save generated features to 'features_generated.csv'\n",
    "total_data_df.to_csv(f'features_generated_{INDEX}.csv', index=False)\n"
   ]
  },
  {
   "cell_type": "code",
   "execution_count": 4,
   "metadata": {},
   "outputs": [],
   "source": [
    "\n",
    "# Splitting the data into features (X) and labels (y)\n",
    "X = total_data_df.drop(columns=['File', 'Label'])\n",
    "y = total_data_df['Label']\n"
   ]
  },
  {
   "cell_type": "code",
   "execution_count": 5,
   "metadata": {},
   "outputs": [
    {
     "name": "stdout",
     "output_type": "stream",
     "text": [
      "Shape of dataset: (495, 658)\n",
      "\n",
      "Columns in dataset:\n",
      " Index(['File', 'Label', 'feature_0', 'feature_1', 'feature_2', 'feature_3',\n",
      "       'feature_4', 'feature_5', 'feature_6', 'feature_7',\n",
      "       ...\n",
      "       'feature_646', 'feature_647', 'feature_648', 'feature_649',\n",
      "       'feature_650', 'feature_651', 'feature_652', 'feature_653',\n",
      "       'feature_654', 'feature_655'],\n",
      "      dtype='object', length=658)\n",
      "\n",
      "First 5 rows of the dataset:\n",
      "                         File            Label  feature_0  feature_1  \\\n",
      "0         Asha-Bhosle-23.csv      Asha Bhosle -12.033679  -9.780576   \n",
      "1     Michael-Jackson-55.csv  Michael Jackson  -2.017992   4.719863   \n",
      "2       Kishore-Kumar-63.csv    Kishore Kumar   2.609654  -4.029758   \n",
      "3         Asha-Bhosle-32.csv      Asha Bhosle  -7.141288   2.708933   \n",
      "4  Jana-Gana-Mana-8-MFCC.csv   Jana-Gana-Mana   0.578080   2.455614   \n",
      "\n",
      "   feature_2  feature_3  feature_4  feature_5  feature_6  feature_7  ...  \\\n",
      "0 -11.141942  -9.832152  -8.217274  -9.227260  -6.950433   9.642014  ...   \n",
      "1  -1.181097   5.227315  -0.382820   3.048660  -0.742157   7.672998  ...   \n",
      "2  -4.405764  -6.279960  -4.127350   0.972850  -4.721149   8.237578  ...   \n",
      "3   2.506916  -2.541588   0.201354   1.340796   0.524448  10.349133  ...   \n",
      "4  -1.052549  -1.702947  -1.820131   1.056097   0.504008   7.134788  ...   \n",
      "\n",
      "   feature_646  feature_647  feature_648  feature_649  feature_650  \\\n",
      "0    74.839823  2456.497395   534.617899   355.391118    -0.790755   \n",
      "1   202.186106   774.506780  1042.770251   855.781418    -0.908459   \n",
      "2   208.556808   816.914701   807.581886   781.693650    -0.364723   \n",
      "3   131.894464  3932.987490   710.034056   587.688781    -1.043972   \n",
      "4    21.485757   423.062089    97.089066   116.288651    -0.274286   \n",
      "\n",
      "   feature_651  feature_652  feature_653  feature_654  feature_655  \n",
      "0    -0.240257    -0.197438     0.746567     0.247058     0.196085  \n",
      "1    -0.276624    -0.256496     0.953440     0.264024     0.234428  \n",
      "2    -0.362311    -0.359087     0.365695     0.361035     0.363982  \n",
      "3    -0.254482    -0.233801     1.052280     0.249233     0.234681  \n",
      "4    -0.119427    -0.141959     0.283907     0.115228     0.142165  \n",
      "\n",
      "[5 rows x 658 columns]\n",
      "\n",
      "Data Types of each column:\n",
      " File            object\n",
      "Label           object\n",
      "feature_0      float64\n",
      "feature_1      float64\n",
      "feature_2      float64\n",
      "                ...   \n",
      "feature_651    float64\n",
      "feature_652    float64\n",
      "feature_653    float64\n",
      "feature_654    float64\n",
      "feature_655    float64\n",
      "Length: 658, dtype: object\n",
      "\n",
      "Missing values in each column:\n",
      " File           0\n",
      "Label          0\n",
      "feature_0      0\n",
      "feature_1      0\n",
      "feature_2      0\n",
      "              ..\n",
      "feature_651    0\n",
      "feature_652    0\n",
      "feature_653    0\n",
      "feature_654    0\n",
      "feature_655    0\n",
      "Length: 658, dtype: int64\n",
      "\n",
      "Statistical Summary:\n",
      "         feature_0   feature_1   feature_2   feature_3   feature_4   feature_5  \\\n",
      "count  495.000000  495.000000  495.000000  495.000000  495.000000  495.000000   \n",
      "mean    -3.934730   -3.171633   -3.176717   -2.831550   -2.260723   -1.591201   \n",
      "std      4.510940    4.531531    4.424569    4.181256    4.186246    3.926331   \n",
      "min    -16.778638  -16.783382  -17.281414  -13.844731  -14.201208  -12.282071   \n",
      "25%     -6.615744   -6.362751   -5.818090   -5.888160   -5.109298   -4.362350   \n",
      "50%     -3.701934   -3.331875   -3.144141   -3.057128   -2.499270   -1.456091   \n",
      "75%     -0.922591    0.110503   -0.327898    0.120847    0.201069    1.091155   \n",
      "max     14.736119    9.363676    9.682833    9.595983   13.470824   13.270560   \n",
      "\n",
      "        feature_6   feature_7   feature_8   feature_9  ...  feature_646  \\\n",
      "count  495.000000  495.000000  495.000000  495.000000  ...   495.000000   \n",
      "mean    -2.120396    9.097721    9.030220    9.075182  ...   122.391554   \n",
      "std      3.856264    1.591026    1.613445    1.734305  ...   103.999153   \n",
      "min    -13.518667    5.425082    5.426349    5.403582  ...    10.390508   \n",
      "25%     -4.575581    8.044290    8.023639    7.946433  ...    60.584816   \n",
      "50%     -2.559763    8.845341    8.789567    8.823377  ...    93.468281   \n",
      "75%      0.198561    9.767960    9.840060    9.934268  ...   137.914814   \n",
      "max     11.553724   18.584419   18.694048   16.990657  ...   858.347553   \n",
      "\n",
      "       feature_647  feature_648  feature_649  feature_650  feature_651  \\\n",
      "count   495.000000   495.000000   495.000000   495.000000   495.000000   \n",
      "mean   1936.130924   572.816532   514.900050    -0.577172    -0.230940   \n",
      "std    1180.993935   375.592226   350.366684     0.222743     0.077550   \n",
      "min   -2703.876170    48.241316    55.791792    -1.480678    -0.497769   \n",
      "25%    1140.594174   335.535292   294.700193    -0.700810    -0.266113   \n",
      "50%    1901.182686   503.573956   433.670949    -0.545776    -0.211179   \n",
      "75%    2611.302661   764.043541   625.360786    -0.398161    -0.180629   \n",
      "max    9098.352115  2713.520502  2654.764091    -0.212636    -0.101272   \n",
      "\n",
      "       feature_652  feature_653  feature_654  feature_655  \n",
      "count   495.000000   495.000000   495.000000   495.000000  \n",
      "mean     -0.224360     0.598690     0.229390     0.224121  \n",
      "std       0.072401     0.230524     0.076956     0.072426  \n",
      "min      -0.497820     0.202029     0.101889     0.124764  \n",
      "25%      -0.231286     0.405547     0.181140     0.181144  \n",
      "50%      -0.203476     0.570627     0.207506     0.202602  \n",
      "75%      -0.180649     0.729684     0.260661     0.230438  \n",
      "max      -0.119579     1.535361     0.497097     0.492704  \n",
      "\n",
      "[8 rows x 656 columns]\n",
      "\n",
      "Number of duplicate rows: 0\n",
      "\n",
      "Label distribution in 'Label':\n",
      " Label\n",
      "Asha Bhosle        97\n",
      "Bhavgeet           93\n",
      "Kishore Kumar      92\n",
      "Michael Jackson    82\n",
      "Lavni              74\n",
      "Jana-Gana-Mana     57\n",
      "Name: count, dtype: int64\n"
     ]
    }
   ],
   "source": [
    "import pandas as pd\n",
    "import numpy as np\n",
    "import matplotlib.pyplot as plt\n",
    "import seaborn as sns\n",
    "\n",
    "print(\"Shape of dataset:\", total_data_df.shape)\n",
    "print(\"\\nColumns in dataset:\\n\", total_data_df.columns)\n",
    "print(\"\\nFirst 5 rows of the dataset:\\n\", total_data_df.head())\n",
    "print(\"\\nData Types of each column:\\n\", total_data_df.dtypes)\n",
    "print(\"\\nMissing values in each column:\\n\", total_data_df.isnull().sum())\n",
    "\n",
    "print(\"\\nStatistical Summary:\\n\", total_data_df.describe())\n",
    "print(\"\\nNumber of duplicate rows:\", total_data_df.duplicated().sum())\n",
    "\n",
    "# plt.figure(figsize=(10, 8))\n",
    "# sns.heatmap(X, annot=True, cmap='coolwarm', square=True)\n",
    "# plt.title(\"Correlation Matrix\")\n",
    "# plt.show()\n",
    "label_column = 'Label'\n",
    "print(f\"\\nLabel distribution in '{label_column}':\\n\", total_data_df[label_column].value_counts())\n",
    "# label_column = 'Label'  # Replace 'label' with the actual name of the label column in your dataset\n",
    "# if label_column in total_data_df.columns:\n",
    "#     print(f\"\\nNumber of unique labels in '{label_column}':\", df[label_column].nunique())\n",
    "#     print(f\"\\nLabel distribution in '{label_column}':\\n\", df[label_column].value_counts())\n",
    "# else:\n",
    "#     print(f\"\\nWarning: Column '{label_column}' not found in the dataset.\")\n",
    "\n",
    "\n",
    "#Add a Correlation HeatMap\n",
    "\n",
    "#too many features to analyse the plots of all of them manually "
   ]
  },
  {
   "cell_type": "code",
   "execution_count": 6,
   "metadata": {},
   "outputs": [
    {
     "name": "stdout",
     "output_type": "stream",
     "text": [
      "(495, 656)\n",
      "(495, 447)\n"
     ]
    }
   ],
   "source": [
    "from sklearn.feature_selection import VarianceThreshold\n",
    "\n",
    "# Remove features with variance below a threshold\n",
    "selector = VarianceThreshold(threshold=0.1)\n",
    "print(X.shape)\n",
    "X_selected = selector.fit_transform(X)\n",
    "print(X_selected.shape)\n",
    "X_selected = pd.DataFrame(X_selected, columns=X.columns[selector.get_support()])\n"
   ]
  },
  {
   "cell_type": "code",
   "execution_count": 7,
   "metadata": {},
   "outputs": [
    {
     "name": "stdout",
     "output_type": "stream",
     "text": [
      "Shape after dropping constant/correlated features: (495, 334)\n"
     ]
    },
    {
     "name": "stderr",
     "output_type": "stream",
     "text": [
      "/home/nirav24/.local/lib/python3.12/site-packages/statsmodels/regression/linear_model.py:1782: RuntimeWarning: divide by zero encountered in scalar divide\n",
      "  return 1 - self.ssr/self.centered_tss\n"
     ]
    },
    {
     "data": {
      "image/png": "[encoded data removed]",
      "text/plain": [
       "<Figure size 1000x600 with 1 Axes>"
      ]
     },
     "metadata": {},
     "output_type": "display_data"
    },
    {
     "name": "stdout",
     "output_type": "stream",
     "text": [
      "\n",
      "Initial VIF values for each feature:\n",
      "         Feature         VIF\n",
      "0          const    0.000000\n",
      "1      feature_0   16.533267\n",
      "2      feature_1   17.652723\n",
      "3      feature_2   24.496965\n",
      "4      feature_3   17.929310\n",
      "..           ...         ...\n",
      "330  feature_643   21.996175\n",
      "331  feature_644  105.218002\n",
      "332  feature_645  123.816697\n",
      "333  feature_646  140.845214\n",
      "334  feature_647   20.013973\n",
      "\n",
      "[335 rows x 2 columns]\n",
      "Dropping feature 'feature_15' with VIF: 35253918.70611701\n",
      "Dropping feature 'feature_16' with VIF: 37744640.91694992\n",
      "Dropping feature 'feature_17' with VIF: 68572385.53705548\n",
      "Dropping feature 'feature_20' with VIF: 25462475.56468728\n",
      "Dropping feature 'feature_22' with VIF: 28201703.195343822\n",
      "Dropping feature 'feature_53' with VIF: 76310114.99622314\n",
      "Dropping feature 'feature_54' with VIF: 121590852.31980336\n",
      "Dropping feature 'feature_55' with VIF: 114922103.4939386\n",
      "Dropping feature 'feature_56' with VIF: 80248144.67793187\n",
      "Dropping feature 'feature_57' with VIF: 112029738.36492977\n",
      "Dropping feature 'feature_58' with VIF: 155415453.13310575\n",
      "Dropping feature 'feature_59' with VIF: 88098468.7944657\n",
      "Dropping feature 'feature_221' with VIF: 83950622.12066074\n",
      "Dropping feature 'feature_301' with VIF: 50590315.626715735\n"
     ]
    },
    {
     "name": "stderr",
     "output_type": "stream",
     "text": [
      "/home/nirav24/.local/lib/python3.12/site-packages/statsmodels/regression/linear_model.py:1782: RuntimeWarning: divide by zero encountered in scalar divide\n",
      "  return 1 - self.ssr/self.centered_tss\n"
     ]
    },
    {
     "name": "stdout",
     "output_type": "stream",
     "text": [
      "\n",
      "Final VIF values after dropping features:\n",
      "         Feature         VIF\n",
      "0          const    0.000000\n",
      "1      feature_0   15.951362\n",
      "2      feature_1   13.566848\n",
      "3      feature_2   18.502698\n",
      "4      feature_3   15.279235\n",
      "..           ...         ...\n",
      "316  feature_643   20.785529\n",
      "317  feature_644  100.392501\n",
      "318  feature_645  122.793494\n",
      "319  feature_646  139.294620\n",
      "320  feature_647   19.497128\n",
      "\n",
      "[321 rows x 2 columns]\n"
     ]
    },
    {
     "data": {
      "image/png": "[encoded data removed]",
      "text/plain": [
       "<Figure size 1000x600 with 1 Axes>"
      ]
     },
     "metadata": {},
     "output_type": "display_data"
    },
    {
     "name": "stdout",
     "output_type": "stream",
     "text": [
      "\n",
      "Shape of the dataset after removing high VIF features: (495, 320)\n"
     ]
    }
   ],
   "source": [
    "import pandas as pd\n",
    "import numpy as np\n",
    "import statsmodels.api as sm\n",
    "import matplotlib.pyplot as plt\n",
    "from statsmodels.stats.outliers_influence import variance_inflation_factor\n",
    "\n",
    "# Assuming X_selected is your feature matrix (DataFrame)\n",
    "# X_selected = your_data\n",
    "\n",
    "# Check for constant features and drop them\n",
    "constant_features = X_selected.columns[X_selected.nunique() == 1]\n",
    "X_selected = X_selected.drop(columns=constant_features)\n",
    "\n",
    "# Check for highly correlated features and drop them (optional)\n",
    "corr_matrix = X_selected.corr()\n",
    "correlated_features = set()\n",
    "for i in range(len(corr_matrix.columns)):\n",
    "    for j in range(i):\n",
    "        if abs(corr_matrix.iloc[i, j]) > 0.95:  # Adjust the threshold as needed\n",
    "            colname = corr_matrix.columns[i]\n",
    "            correlated_features.add(colname)\n",
    "\n",
    "X_selected = X_selected.drop(columns=correlated_features)\n",
    "print(f\"Shape after dropping constant/correlated features: {X_selected.shape}\")\n",
    "\n",
    "# Add a constant to the model (for intercept)\n",
    "X_with_const = sm.add_constant(X_selected)\n",
    "\n",
    "# Function to calculate VIF for the current dataset\n",
    "def calculate_vif(X):\n",
    "    vif_data = pd.DataFrame()\n",
    "    vif_data['Feature'] = X.columns\n",
    "    vif_data['VIF'] = [variance_inflation_factor(X.values, i) for i in range(X.shape[1])]\n",
    "    # Remove infinite or NaN VIF values\n",
    "    vif_data = vif_data[~vif_data['VIF'].isin([np.inf, -np.inf, np.nan])]\n",
    "    return vif_data\n",
    "\n",
    "# Initial VIF calculation\n",
    "vif_data = calculate_vif(X_with_const)\n",
    "\n",
    "# Plot initial VIF values\n",
    "plt.figure(figsize=(10, 6))\n",
    "plt.barh(vif_data['Feature'], vif_data['VIF'], color='skyblue')\n",
    "plt.xlabel('VIF')\n",
    "plt.title('Initial Variance Inflation Factor (VIF) for Features')\n",
    "plt.show()\n",
    "\n",
    "print(\"\\nInitial VIF values for each feature:\")\n",
    "print(vif_data)\n",
    "\n",
    "# Define the threshold\n",
    "threshold = 0.2 * 10**8\n",
    "\n",
    "# Use a for loop to iterate over the features and remove those with VIF > threshold\n",
    "features_to_drop = vif_data[vif_data['VIF'] > threshold]['Feature']\n",
    "\n",
    "# Drop all features that exceed the threshold\n",
    "for feature in features_to_drop:\n",
    "    if feature in X_selected.columns:  # Check if the feature exists in X_selected\n",
    "        print(f\"Dropping feature '{feature}' with VIF: {vif_data[vif_data['Feature'] == feature]['VIF'].values[0]}\")\n",
    "        X_selected = X_selected.drop(columns=[feature])\n",
    "\n",
    "# Recompute VIF for the remaining features\n",
    "X_with_const = sm.add_constant(X_selected)\n",
    "vif_data = calculate_vif(X_with_const)\n",
    "\n",
    "# Display the final VIF values after dropping high VIF features\n",
    "print(\"\\nFinal VIF values after dropping features:\")\n",
    "print(vif_data)\n",
    "\n",
    "# Plot VIF after dropping features\n",
    "plt.figure(figsize=(10, 6))\n",
    "plt.barh(vif_data['Feature'], vif_data['VIF'], color='skyblue')\n",
    "plt.xlabel('VIF')\n",
    "plt.title('Variance Inflation Factor (VIF) for Features After Dropping High VIF Features')\n",
    "plt.show()\n",
    "\n",
    "# Final shape of the dataset after dropping high VIF features\n",
    "print(f\"\\nShape of the dataset after removing high VIF features: {X_selected.shape}\")\n"
   ]
  },
  {
   "cell_type": "code",
   "execution_count": 8,
   "metadata": {},
   "outputs": [
    {
     "data": {
      "image/png": "[encoded data removed]",
      "text/plain": [
       "<Figure size 1000x600 with 1 Axes>"
      ]
     },
     "metadata": {},
     "output_type": "display_data"
    },
    {
     "name": "stdout",
     "output_type": "stream",
     "text": [
      "(314,)\n"
     ]
    }
   ],
   "source": [
    "import matplotlib.pyplot as plt\n",
    "from sklearn.ensemble import RandomForestClassifier\n",
    "import pandas as pd\n",
    "\n",
    "# Fit a random forest model\n",
    "model = RandomForestClassifier()\n",
    "model.fit(X_selected, y)\n",
    "\n",
    "# Get feature importances\n",
    "importances = model.feature_importances_\n",
    "\n",
    "# Sort feature importances in descending order\n",
    "sorted_idx = importances.argsort()\n",
    "\n",
    "# Plot feature importances\n",
    "plt.figure(figsize=(10, 6))\n",
    "plt.barh(X_selected.columns[sorted_idx], importances[sorted_idx], align='center')\n",
    "plt.xlabel('Feature Importance')\n",
    "plt.title('Feature Importance from Random Forest')\n",
    "plt.show()\n",
    "\n",
    "# Optionally, select features with importance greater than 0.005\n",
    "selected_features = X_selected.columns[importances > 0.0005]\n",
    "print(selected_features.shape)\n",
    "X_selected = X_selected.drop(columns=X_selected.columns[importances < 0.0005])"
   ]
  },
  {
   "cell_type": "code",
   "execution_count": 9,
   "metadata": {},
   "outputs": [
    {
     "name": "stdout",
     "output_type": "stream",
     "text": [
      "Index(['feature_1', 'feature_2', 'feature_3', 'feature_4', 'feature_5',\n",
      "       'feature_6', 'feature_7', 'feature_8', 'feature_9', 'feature_10',\n",
      "       ...\n",
      "       'feature_638', 'feature_639', 'feature_640', 'feature_641',\n",
      "       'feature_642', 'feature_643', 'feature_644', 'feature_645',\n",
      "       'feature_646', 'feature_647'],\n",
      "      dtype='object', length=293)\n"
     ]
    }
   ],
   "source": [
    "from sklearn.feature_selection import mutual_info_classif\n",
    "\n",
    "# Get information gain for each feature\n",
    "info_gain = mutual_info_classif(X_selected, y)\n",
    "\n",
    "# Use X_selected.columns to match the feature set size\n",
    "selected_features = X_selected.columns[info_gain > 0.05]\n",
    "\n",
    "# Print selected features\n",
    "print(selected_features)\n"
   ]
  },
  {
   "cell_type": "code",
   "execution_count": 10,
   "metadata": {},
   "outputs": [
    {
     "name": "stdout",
     "output_type": "stream",
     "text": [
      "(495, 656)\n",
      "(495, 3)\n"
     ]
    }
   ],
   "source": [
    "#method of feature selection 1\n",
    "from sklearn.discriminant_analysis import LinearDiscriminantAnalysis as LDA\n",
    "print(X.shape)\n",
    "\n",
    "lda = LDA(n_components=3)  # LDA can have a maximum of (number of classes - 1) components\n",
    "X_reduced = lda.fit_transform(X, y)  # Transformed features for the classification model\n",
    "print(X_reduced.shape)\n",
    "#X_reduced"
   ]
  },
  {
   "cell_type": "code",
   "execution_count": 33,
   "metadata": {},
   "outputs": [
    {
     "name": "stdout",
     "output_type": "stream",
     "text": [
      "(495, 656)\n",
      "(495, 10)\n"
     ]
    }
   ],
   "source": [
    "#method of feature selection 2\n",
    "from sklearn.feature_selection import chi2\n",
    "from sklearn.feature_selection import SelectKBest\n",
    "print(X.shape)\n",
    "\n",
    "# Select top k features based on chi-square score\n",
    "selector = SelectKBest(chi2, k=10)\n",
    "X_selected = selector.fit_transform(abs(X), y)\n",
    "print(X_selected.shape)\n",
    "#X_selected"
   ]
  },
  {
   "cell_type": "code",
   "execution_count": 12,
   "metadata": {},
   "outputs": [
    {
     "name": "stdout",
     "output_type": "stream",
     "text": [
      "(495, 10)\n"
     ]
    }
   ],
   "source": [
    "#method of feature selection 3\n",
    "from sklearn.feature_selection import RFE\n",
    "from sklearn.ensemble import RandomForestClassifier\n",
    "\n",
    "# Define model\n",
    "model = RandomForestClassifier()\n",
    "# Initialize RFE and fit to data\n",
    "rfe = RFE(estimator=model, n_features_to_select=10)\n",
    "X_rfe = rfe.fit_transform(X, y)\n",
    "print(X_rfe.shape)\n",
    "\n",
    "#X_rfe"
   ]
  },
  {
   "cell_type": "code",
   "execution_count": 15,
   "metadata": {},
   "outputs": [
    {
     "name": "stdout",
     "output_type": "stream",
     "text": [
      "(495, 217)\n"
     ]
    },
    {
     "name": "stderr",
     "output_type": "stream",
     "text": [
      "/home/nirav24/.local/lib/python3.12/site-packages/sklearn/linear_model/_coordinate_descent.py:697: ConvergenceWarning: Objective did not converge. You might want to increase the number of iterations, check the scale of the features or consider increasing regularisation. Duality gap: 1.470e+02, tolerance: 1.527e-01\n",
      "  model = cd_fast.enet_coordinate_descent(\n",
      "/home/nirav24/.local/lib/python3.12/site-packages/sklearn/base.py:486: UserWarning: X has feature names, but SelectFromModel was fitted without feature names\n",
      "  warnings.warn(\n"
     ]
    }
   ],
   "source": [
    "from sklearn.preprocessing import LabelEncoder\n",
    "from sklearn.linear_model import Lasso\n",
    "from sklearn.feature_selection import SelectFromModel\n",
    "\n",
    "# Convert categorical target to numeric labels\n",
    "le = LabelEncoder()\n",
    "y_encoded = le.fit_transform(y)\n",
    "\n",
    "# Now fit the Lasso model\n",
    "lasso = Lasso(alpha=0.01).fit(X, y_encoded)\n",
    "model = SelectFromModel(lasso, prefit=True)\n",
    "X_lasso = model.transform(X)\n",
    "print(X_lasso.shape)\n"
   ]
  },
  {
   "cell_type": "code",
   "execution_count": 16,
   "metadata": {},
   "outputs": [
    {
     "name": "stdout",
     "output_type": "stream",
     "text": [
      "(495, 10)\n"
     ]
    }
   ],
   "source": [
    "#method of feature selection 5\n",
    "from sklearn.decomposition import PCA\n",
    "\n",
    "# Initialize PCA and fit to data\n",
    "pca = PCA(n_components=10)\n",
    "X_pca = pca.fit_transform(X_selected)\n",
    "print(X_pca.shape)\n"
   ]
  },
  {
   "cell_type": "code",
   "execution_count": 34,
   "metadata": {},
   "outputs": [
    {
     "name": "stdout",
     "output_type": "stream",
     "text": [
      "(495, 10)\n"
     ]
    }
   ],
   "source": [
    "#method of feature selection 6\n",
    "from sklearn.feature_selection import mutual_info_classif, SelectKBest\n",
    "\n",
    "# Select top k features based on mutual information score\n",
    "selector = SelectKBest(mutual_info_classif, k=10)\n",
    "X_selected = selector.fit_transform(X, y)\n",
    "print(X_selected.shape)"
   ]
  },
  {
   "cell_type": "code",
   "execution_count": 18,
   "metadata": {},
   "outputs": [
    {
     "name": "stdout",
     "output_type": "stream",
     "text": [
      "Index(['feature_1', 'feature_2', 'feature_3', 'feature_4', 'feature_5',\n",
      "       'feature_6', 'feature_7', 'feature_8', 'feature_9', 'feature_10',\n",
      "       ...\n",
      "       'feature_646', 'feature_647', 'feature_648', 'feature_649',\n",
      "       'feature_650', 'feature_651', 'feature_652', 'feature_653',\n",
      "       'feature_654', 'feature_655'],\n",
      "      dtype='object', length=610)\n"
     ]
    }
   ],
   "source": [
    "#method of feature selection 7\n",
    "from sklearn.feature_selection import mutual_info_classif\n",
    "\n",
    "# Get information gain for each feature\n",
    "info_gain = mutual_info_classif(X, y)\n",
    "selected_features = X.columns[info_gain > 0.05]\n",
    "print(selected_features)"
   ]
  },
  {
   "cell_type": "code",
   "execution_count": 35,
   "metadata": {},
   "outputs": [],
   "source": [
    "\n",
    "# Splitting into training (70%) and test (30%) datasets\n",
    "X_train, X_test, y_train, y_test = train_test_split(X_selected, y, test_size=0.2, random_state=42)\n"
   ]
  },
  {
   "cell_type": "code",
   "execution_count": 36,
   "metadata": {},
   "outputs": [
    {
     "data": {
      "image/png": "[encoded data removed]",
      "text/plain": [
       "<Figure size 800x800 with 1 Axes>"
      ]
     },
     "metadata": {},
     "output_type": "display_data"
    }
   ],
   "source": [
    "\n",
    "#making a pie chart to show weight of each label\n",
    "import matplotlib.pyplot as plt\n",
    "import numpy as np\n",
    "\n",
    "# Assuming 'labels' is a list of the labels in your dataset (replace it with your actual labels)\n",
    "labels = ['Asha Bhosale', 'Kishore Kumar', 'Lavni', 'Michael Jackson', 'Jana Gana Mana', 'Bhavgeet']  \n",
    "\n",
    "# Count the occurrences of each label in the 'labels' column using value_counts\n",
    "label_counts = y_train.value_counts()\n",
    "\n",
    "# Data for the pie chart\n",
    "labels = label_counts.index\n",
    "sizes = label_counts.values\n",
    "\n",
    "# Create a pie chart\n",
    "plt.figure(figsize=(8, 8))\n",
    "plt.pie(sizes, labels=labels, autopct='%1.1f%%', startangle=90, colors=['#ff9999','#66b3ff','#99ff99','#ffcc99', '#c2c2f0','#ffb3e6'])\n",
    "\n",
    "# Equal aspect ratio ensures that pie is drawn as a circle.\n",
    "plt.axis('equal')\n",
    "\n",
    "# Title\n",
    "plt.title('Label Distribution in Dataset')\n",
    "\n",
    "# Show the chart\n",
    "plt.show()"
   ]
  },
  {
   "cell_type": "code",
   "execution_count": 37,
   "metadata": {},
   "outputs": [
    {
     "name": "stdout",
     "output_type": "stream",
     "text": [
      "Defaulting to user installation because normal site-packages is not writeable\n",
      "Requirement already satisfied: imblearn in /home/nirav24/.local/lib/python3.12/site-packages (0.0)\n",
      "Requirement already satisfied: imbalanced-learn in /home/nirav24/.local/lib/python3.12/site-packages (from imblearn) (0.12.4)\n",
      "Requirement already satisfied: numpy>=1.17.3 in /home/nirav24/.local/lib/python3.12/site-packages (from imbalanced-learn->imblearn) (2.0.2)\n",
      "Requirement already satisfied: scipy>=1.5.0 in /home/nirav24/.local/lib/python3.12/site-packages (from imbalanced-learn->imblearn) (1.14.1)\n",
      "Requirement already satisfied: scikit-learn>=1.0.2 in /home/nirav24/.local/lib/python3.12/site-packages (from imbalanced-learn->imblearn) (1.5.2)\n",
      "Requirement already satisfied: joblib>=1.1.1 in /home/nirav24/.local/lib/python3.12/site-packages (from imbalanced-learn->imblearn) (1.4.2)\n",
      "Requirement already satisfied: threadpoolctl>=2.0.0 in /home/nirav24/.local/lib/python3.12/site-packages (from imbalanced-learn->imblearn) (3.5.0)\n"
     ]
    }
   ],
   "source": [
    "!pip install imblearn"
   ]
  },
  {
   "cell_type": "code",
   "execution_count": 38,
   "metadata": {},
   "outputs": [
    {
     "data": {
      "image/png": "[encoded data removed]",
      "text/plain": [
       "<Figure size 800x800 with 1 Axes>"
      ]
     },
     "metadata": {},
     "output_type": "display_data"
    }
   ],
   "source": [
    "#from the above pie chart we can tell that the data is imbalanced, to fix the data imbalance we can use SMOTE\n",
    "from imblearn.over_sampling import SMOTE\n",
    "from sklearn.model_selection import train_test_split\n",
    "\n",
    "# Initialize SMOTE\n",
    "smote = SMOTE(sampling_strategy='auto', random_state=42)\n",
    "\n",
    "# Apply SMOTE to the training data\n",
    "X_train, y_train = smote.fit_resample(X_train, y_train)\n",
    "\n",
    "\n",
    "# Count the occurrences of each label in the 'labels' column using value_counts\n",
    "label_counts = y_train.value_counts()\n",
    "\n",
    "# Data for the pie chart\n",
    "labels = label_counts.index\n",
    "sizes = label_counts.values\n",
    "\n",
    "# Create a pie chart\n",
    "plt.figure(figsize=(8, 8))\n",
    "plt.pie(sizes, labels=labels, autopct='%1.1f%%', startangle=90, colors=['#ff9999','#66b3ff','#99ff99','#ffcc99', '#c2c2f0','#ffb3e6'])\n",
    "\n",
    "# Equal aspect ratio ensures that pie is drawn as a circle.\n",
    "plt.axis('equal')\n",
    "\n",
    "# Title\n",
    "plt.title('Label Distribution in Dataset')\n",
    "\n",
    "# Show the chart\n",
    "plt.show()"
   ]
  },
  {
   "cell_type": "code",
   "execution_count": 39,
   "metadata": {},
   "outputs": [],
   "source": [
    "from sklearn.preprocessing import LabelEncoder\n",
    "\n",
    "#dimensional reduction\n",
    "\n",
    "le = LabelEncoder()\n",
    "y_train_encoded = le.fit_transform(y_train)\n",
    "y_test_encoded = le.transform(y_test)\n"
   ]
  },
  {
   "cell_type": "code",
   "execution_count": 40,
   "metadata": {},
   "outputs": [],
   "source": [
    "from sklearn.linear_model import LogisticRegression\n",
    "from sklearn.svm import SVC\n",
    "from sklearn.neighbors import KNeighborsClassifier\n",
    "from sklearn.ensemble import RandomForestClassifier, GradientBoostingClassifier, AdaBoostClassifier\n",
    "from sklearn.naive_bayes import GaussianNB\n",
    "from sklearn.tree import DecisionTreeClassifier\n",
    "import xgboost as xgb\n",
    "from sklearn.preprocessing import LabelEncoder\n",
    "from sklearn.neural_network import MLPClassifier\n",
    "\n",
    "# Dictionary to store models and results\n",
    "models = {\n",
    "    \"Logistic Regression\": LogisticRegression(max_iter=1000),\n",
    "    #'SVM': SVC(kernel='rbf', C=1.0, probability=True), # SVC with probability=True for probability estimates\n",
    "    'K-Nearest Neighbors': KNeighborsClassifier(n_neighbors=5),\n",
    "    'Random Forest': RandomForestClassifier(n_estimators=100, random_state=42),\n",
    "    'Gradient Boosting': GradientBoostingClassifier(n_estimators=100, learning_rate=0.1),\n",
    "    'AdaBoost': AdaBoostClassifier(n_estimators=50),\n",
    "    'Naive Bayes': GaussianNB(),\n",
    "    'Decision Tree': DecisionTreeClassifier(max_depth=10),\n",
    "    'XGBoost': xgb.XGBClassifier(n_estimators=100, learning_rate=0.1),\n",
    "    # 'SVC_linear': SVC(kernel='linear', probability=True),\n",
    "    # 'SVC_rbf': SVC(kernel='rbf', probability=True),\n",
    "    'RandomForest_1': RandomForestClassifier(min_samples_leaf=1),\n",
    "    'RandomForest_3': RandomForestClassifier(min_samples_leaf=3),\n",
    "    'RandomForest_5': RandomForestClassifier(min_samples_leaf=5),\n",
    "    'NeuralNetwork_1': MLPClassifier(hidden_layer_sizes=(5)),\n",
    "    'NeuralNetwork_2': MLPClassifier(hidden_layer_sizes=(5, 5)),\n",
    "    'NeuralNetwork_3': MLPClassifier(hidden_layer_sizes=(5, 5, 5)),\n",
    "    'NeuralNetwork_4': MLPClassifier(hidden_layer_sizes=(10))\n",
    "\n",
    "}\n"
   ]
  },
  {
   "cell_type": "code",
   "execution_count": 41,
   "metadata": {},
   "outputs": [
    {
     "name": "stdout",
     "output_type": "stream",
     "text": [
      "\n",
      "Training Logistic Regression...\n"
     ]
    },
    {
     "name": "stderr",
     "output_type": "stream",
     "text": [
      "/home/nirav24/.local/lib/python3.12/site-packages/sklearn/linear_model/_logistic.py:469: ConvergenceWarning:\n",
      "\n",
      "lbfgs failed to converge (status=1):\n",
      "STOP: TOTAL NO. of ITERATIONS REACHED LIMIT.\n",
      "\n",
      "Increase the number of iterations (max_iter) or scale the data as shown in:\n",
      "    https://scikit-learn.org/stable/modules/preprocessing.html\n",
      "Please also refer to the documentation for alternative solver options:\n",
      "    https://scikit-learn.org/stable/modules/linear_model.html#logistic-regression\n",
      "\n"
     ]
    },
    {
     "data": {
      "application/vnd.plotly.v1+json": {
       "config": {
        "plotlyServerURL": "https://plot.ly"
       },
       "data": [
        {
         "colorscale": [
          [
           0,
           "rgb(247,251,255)"
          ],
          [
           0.125,
           "rgb(222,235,247)"
          ],
          [
           0.25,
           "rgb(198,219,239)"
          ],
          [
           0.375,
           "rgb(158,202,225)"
          ],
          [
           0.5,
           "rgb(107,174,214)"
          ],
          [
           0.625,
           "rgb(66,146,198)"
          ],
          [
           0.75,
           "rgb(33,113,181)"
          ],
          [
           0.875,
           "rgb(8,81,156)"
          ],
          [
           1,
           "rgb(8,48,107)"
          ]
         ],
         "showscale": true,
         "text": [
          [
           9,
           6,
           0,
           1,
           4,
           1
          ],
          [
           1,
           12,
           0,
           0,
           1,
           1
          ],
          [
           0,
           0,
           11,
           0,
           2,
           0
          ],
          [
           2,
           0,
           0,
           19,
           0,
           0
          ],
          [
           2,
           1,
           0,
           0,
           7,
           4
          ],
          [
           1,
           0,
           3,
           0,
           1,
           10
          ]
         ],
         "texttemplate": "%{text}",
         "type": "heatmap",
         "x": [
          "Predicted 0",
          "Predicted 1",
          "Predicted 2",
          "Predicted 3",
          "Predicted 4",
          "Predicted 5"
         ],
         "y": [
          "Actual 0",
          "Actual 1",
          "Actual 2",
          "Actual 3",
          "Actual 4",
          "Actual 5"
         ],
         "z": [
          [
           9,
           6,
           0,
           1,
           4,
           1
          ],
          [
           1,
           12,
           0,
           0,
           1,
           1
          ],
          [
           0,
           0,
           11,
           0,
           2,
           0
          ],
          [
           2,
           0,
           0,
           19,
           0,
           0
          ],
          [
           2,
           1,
           0,
           0,
           7,
           4
          ],
          [
           1,
           0,
           3,
           0,
           1,
           10
          ]
         ]
        }
       ],
       "layout": {
        "template": {
         "data": {
          "bar": [
           {
            "error_x": {
             "color": "#2a3f5f"
            },
            "error_y": {
             "color": "#2a3f5f"
            },
            "marker": {
             "line": {
              "color": "#E5ECF6",
              "width": 0.5
             },
             "pattern": {
              "fillmode": "overlay",
              "size": 10,
              "solidity": 0.2
             }
            },
            "type": "bar"
           }
          ],
          "barpolar": [
           {
            "marker": {
             "line": {
              "color": "#E5ECF6",
              "width": 0.5
             },
             "pattern": {
              "fillmode": "overlay",
              "size": 10,
              "solidity": 0.2
             }
            },
            "type": "barpolar"
           }
          ],
          "carpet": [
           {
            "aaxis": {
             "endlinecolor": "#2a3f5f",
             "gridcolor": "white",
             "linecolor": "white",
             "minorgridcolor": "white",
             "startlinecolor": "#2a3f5f"
            },
            "baxis": {
             "endlinecolor": "#2a3f5f",
             "gridcolor": "white",
             "linecolor": "white",
             "minorgridcolor": "white",
             "startlinecolor": "#2a3f5f"
            },
            "type": "carpet"
           }
          ],
          "choropleth": [
           {
            "colorbar": {
             "outlinewidth": 0,
             "ticks": ""
            },
            "type": "choropleth"
           }
          ],
          "contour": [
           {
            "colorbar": {
             "outlinewidth": 0,
             "ticks": ""
            },
            "colorscale": [
             [
              0,
              "#0d0887"
             ],
             [
              0.1111111111111111,
              "#46039f"
             ],
             [
              0.2222222222222222,
              "#7201a8"
             ],
             [
              0.3333333333333333,
              "#9c179e"
             ],
             [
              0.4444444444444444,
              "#bd3786"
             ],
             [
              0.5555555555555556,
              "#d8576b"
             ],
             [
              0.6666666666666666,
              "#ed7953"
             ],
             [
              0.7777777777777778,
              "#fb9f3a"
             ],
             [
              0.8888888888888888,
              "#fdca26"
             ],
             [
              1,
              "#f0f921"
             ]
            ],
            "type": "contour"
           }
          ],
          "contourcarpet": [
           {
            "colorbar": {
             "outlinewidth": 0,
             "ticks": ""
            },
            "type": "contourcarpet"
           }
          ],
          "heatmap": [
           {
            "colorbar": {
             "outlinewidth": 0,
             "ticks": ""
            },
            "colorscale": [
             [
              0,
              "#0d0887"
             ],
             [
              0.1111111111111111,
              "#46039f"
             ],
             [
              0.2222222222222222,
              "#7201a8"
             ],
             [
              0.3333333333333333,
              "#9c179e"
             ],
             [
              0.4444444444444444,
              "#bd3786"
             ],
             [
              0.5555555555555556,
              "#d8576b"
             ],
             [
              0.6666666666666666,
              "#ed7953"
             ],
             [
              0.7777777777777778,
              "#fb9f3a"
             ],
             [
              0.8888888888888888,
              "#fdca26"
             ],
             [
              1,
              "#f0f921"
             ]
            ],
            "type": "heatmap"
           }
          ],
          "heatmapgl": [
           {
            "colorbar": {
             "outlinewidth": 0,
             "ticks": ""
            },
            "colorscale": [
             [
              0,
              "#0d0887"
             ],
             [
              0.1111111111111111,
              "#46039f"
             ],
             [
              0.2222222222222222,
              "#7201a8"
             ],
             [
              0.3333333333333333,
              "#9c179e"
             ],
             [
              0.4444444444444444,
              "#bd3786"
             ],
             [
              0.5555555555555556,
              "#d8576b"
             ],
             [
              0.6666666666666666,
              "#ed7953"
             ],
             [
              0.7777777777777778,
              "#fb9f3a"
             ],
             [
              0.8888888888888888,
              "#fdca26"
             ],
             [
              1,
              "#f0f921"
             ]
            ],
            "type": "heatmapgl"
           }
          ],
          "histogram": [
           {
            "marker": {
             "pattern": {
              "fillmode": "overlay",
              "size": 10,
              "solidity": 0.2
             }
            },
            "type": "histogram"
           }
          ],
          "histogram2d": [
           {
            "colorbar": {
             "outlinewidth": 0,
             "ticks": ""
            },
            "colorscale": [
             [
              0,
              "#0d0887"
             ],
             [
              0.1111111111111111,
              "#46039f"
             ],
             [
              0.2222222222222222,
              "#7201a8"
             ],
             [
              0.3333333333333333,
              "#9c179e"
             ],
             [
              0.4444444444444444,
              "#bd3786"
             ],
             [
              0.5555555555555556,
              "#d8576b"
             ],
             [
              0.6666666666666666,
              "#ed7953"
             ],
             [
              0.7777777777777778,
              "#fb9f3a"
             ],
             [
              0.8888888888888888,
              "#fdca26"
             ],
             [
              1,
              "#f0f921"
             ]
            ],
            "type": "histogram2d"
           }
          ],
          "histogram2dcontour": [
           {
            "colorbar": {
             "outlinewidth": 0,
             "ticks": ""
            },
            "colorscale": [
             [
              0,
              "#0d0887"
             ],
             [
              0.1111111111111111,
              "#46039f"
             ],
             [
              0.2222222222222222,
              "#7201a8"
             ],
             [
              0.3333333333333333,
              "#9c179e"
             ],
             [
              0.4444444444444444,
              "#bd3786"
             ],
             [
              0.5555555555555556,
              "#d8576b"
             ],
             [
              0.6666666666666666,
              "#ed7953"
             ],
             [
              0.7777777777777778,
              "#fb9f3a"
             ],
             [
              0.8888888888888888,
              "#fdca26"
             ],
             [
              1,
              "#f0f921"
             ]
            ],
            "type": "histogram2dcontour"
           }
          ],
          "mesh3d": [
           {
            "colorbar": {
             "outlinewidth": 0,
             "ticks": ""
            },
            "type": "mesh3d"
           }
          ],
          "parcoords": [
           {
            "line": {
             "colorbar": {
              "outlinewidth": 0,
              "ticks": ""
             }
            },
            "type": "parcoords"
           }
          ],
          "pie": [
           {
            "automargin": true,
            "type": "pie"
           }
          ],
          "scatter": [
           {
            "fillpattern": {
             "fillmode": "overlay",
             "size": 10,
             "solidity": 0.2
            },
            "type": "scatter"
           }
          ],
          "scatter3d": [
           {
            "line": {
             "colorbar": {
              "outlinewidth": 0,
              "ticks": ""
             }
            },
            "marker": {
             "colorbar": {
              "outlinewidth": 0,
              "ticks": ""
             }
            },
            "type": "scatter3d"
           }
          ],
          "scattercarpet": [
           {
            "marker": {
             "colorbar": {
              "outlinewidth": 0,
              "ticks": ""
             }
            },
            "type": "scattercarpet"
           }
          ],
          "scattergeo": [
           {
            "marker": {
             "colorbar": {
              "outlinewidth": 0,
              "ticks": ""
             }
            },
            "type": "scattergeo"
           }
          ],
          "scattergl": [
           {
            "marker": {
             "colorbar": {
              "outlinewidth": 0,
              "ticks": ""
             }
            },
            "type": "scattergl"
           }
          ],
          "scattermapbox": [
           {
            "marker": {
             "colorbar": {
              "outlinewidth": 0,
              "ticks": ""
             }
            },
            "type": "scattermapbox"
           }
          ],
          "scatterpolar": [
           {
            "marker": {
             "colorbar": {
              "outlinewidth": 0,
              "ticks": ""
             }
            },
            "type": "scatterpolar"
           }
          ],
          "scatterpolargl": [
           {
            "marker": {
             "colorbar": {
              "outlinewidth": 0,
              "ticks": ""
             }
            },
            "type": "scatterpolargl"
           }
          ],
          "scatterternary": [
           {
            "marker": {
             "colorbar": {
              "outlinewidth": 0,
              "ticks": ""
             }
            },
            "type": "scatterternary"
           }
          ],
          "surface": [
           {
            "colorbar": {
             "outlinewidth": 0,
             "ticks": ""
            },
            "colorscale": [
             [
              0,
              "#0d0887"
             ],
             [
              0.1111111111111111,
              "#46039f"
             ],
             [
              0.2222222222222222,
              "#7201a8"
             ],
             [
              0.3333333333333333,
              "#9c179e"
             ],
             [
              0.4444444444444444,
              "#bd3786"
             ],
             [
              0.5555555555555556,
              "#d8576b"
             ],
             [
              0.6666666666666666,
              "#ed7953"
             ],
             [
              0.7777777777777778,
              "#fb9f3a"
             ],
             [
              0.8888888888888888,
              "#fdca26"
             ],
             [
              1,
              "#f0f921"
             ]
            ],
            "type": "surface"
           }
          ],
          "table": [
           {
            "cells": {
             "fill": {
              "color": "#EBF0F8"
             },
             "line": {
              "color": "white"
             }
            },
            "header": {
             "fill": {
              "color": "#C8D4E3"
             },
             "line": {
              "color": "white"
             }
            },
            "type": "table"
           }
          ]
         },
         "layout": {
          "annotationdefaults": {
           "arrowcolor": "#2a3f5f",
           "arrowhead": 0,
           "arrowwidth": 1
          },
          "autotypenumbers": "strict",
          "coloraxis": {
           "colorbar": {
            "outlinewidth": 0,
            "ticks": ""
           }
          },
          "colorscale": {
           "diverging": [
            [
             0,
             "#8e0152"
            ],
            [
             0.1,
             "#c51b7d"
            ],
            [
             0.2,
             "#de77ae"
            ],
            [
             0.3,
             "#f1b6da"
            ],
            [
             0.4,
             "#fde0ef"
            ],
            [
             0.5,
             "#f7f7f7"
            ],
            [
             0.6,
             "#e6f5d0"
            ],
            [
             0.7,
             "#b8e186"
            ],
            [
             0.8,
             "#7fbc41"
            ],
            [
             0.9,
             "#4d9221"
            ],
            [
             1,
             "#276419"
            ]
           ],
           "sequential": [
            [
             0,
             "#0d0887"
            ],
            [
             0.1111111111111111,
             "#46039f"
            ],
            [
             0.2222222222222222,
             "#7201a8"
            ],
            [
             0.3333333333333333,
             "#9c179e"
            ],
            [
             0.4444444444444444,
             "#bd3786"
            ],
            [
             0.5555555555555556,
             "#d8576b"
            ],
            [
             0.6666666666666666,
             "#ed7953"
            ],
            [
             0.7777777777777778,
             "#fb9f3a"
            ],
            [
             0.8888888888888888,
             "#fdca26"
            ],
            [
             1,
             "#f0f921"
            ]
           ],
           "sequentialminus": [
            [
             0,
             "#0d0887"
            ],
            [
             0.1111111111111111,
             "#46039f"
            ],
            [
             0.2222222222222222,
             "#7201a8"
            ],
            [
             0.3333333333333333,
             "#9c179e"
            ],
            [
             0.4444444444444444,
             "#bd3786"
            ],
            [
             0.5555555555555556,
             "#d8576b"
            ],
            [
             0.6666666666666666,
             "#ed7953"
            ],
            [
             0.7777777777777778,
             "#fb9f3a"
            ],
            [
             0.8888888888888888,
             "#fdca26"
            ],
            [
             1,
             "#f0f921"
            ]
           ]
          },
          "colorway": [
           "#636efa",
           "#EF553B",
           "#00cc96",
           "#ab63fa",
           "#FFA15A",
           "#19d3f3",
           "#FF6692",
           "#B6E880",
           "#FF97FF",
           "#FECB52"
          ],
          "font": {
           "color": "#2a3f5f"
          },
          "geo": {
           "bgcolor": "white",
           "lakecolor": "white",
           "landcolor": "#E5ECF6",
           "showlakes": true,
           "showland": true,
           "subunitcolor": "white"
          },
          "hoverlabel": {
           "align": "left"
          },
          "hovermode": "closest",
          "mapbox": {
           "style": "light"
          },
          "paper_bgcolor": "white",
          "plot_bgcolor": "#E5ECF6",
          "polar": {
           "angularaxis": {
            "gridcolor": "white",
            "linecolor": "white",
            "ticks": ""
           },
           "bgcolor": "#E5ECF6",
           "radialaxis": {
            "gridcolor": "white",
            "linecolor": "white",
            "ticks": ""
           }
          },
          "scene": {
           "xaxis": {
            "backgroundcolor": "#E5ECF6",
            "gridcolor": "white",
            "gridwidth": 2,
            "linecolor": "white",
            "showbackground": true,
            "ticks": "",
            "zerolinecolor": "white"
           },
           "yaxis": {
            "backgroundcolor": "#E5ECF6",
            "gridcolor": "white",
            "gridwidth": 2,
            "linecolor": "white",
            "showbackground": true,
            "ticks": "",
            "zerolinecolor": "white"
           },
           "zaxis": {
            "backgroundcolor": "#E5ECF6",
            "gridcolor": "white",
            "gridwidth": 2,
            "linecolor": "white",
            "showbackground": true,
            "ticks": "",
            "zerolinecolor": "white"
           }
          },
          "shapedefaults": {
           "line": {
            "color": "#2a3f5f"
           }
          },
          "ternary": {
           "aaxis": {
            "gridcolor": "white",
            "linecolor": "white",
            "ticks": ""
           },
           "baxis": {
            "gridcolor": "white",
            "linecolor": "white",
            "ticks": ""
           },
           "bgcolor": "#E5ECF6",
           "caxis": {
            "gridcolor": "white",
            "linecolor": "white",
            "ticks": ""
           }
          },
          "title": {
           "x": 0.05
          },
          "xaxis": {
           "automargin": true,
           "gridcolor": "white",
           "linecolor": "white",
           "ticks": "",
           "title": {
            "standoff": 15
           },
           "zerolinecolor": "white",
           "zerolinewidth": 2
          },
          "yaxis": {
           "automargin": true,
           "gridcolor": "white",
           "linecolor": "white",
           "ticks": "",
           "title": {
            "standoff": 15
           },
           "zerolinecolor": "white",
           "zerolinewidth": 2
          }
         }
        },
        "title": {
         "text": "Confusion Matrix for Logistic Regression"
        },
        "xaxis": {
         "scaleanchor": "y",
         "scaleratio": 1,
         "title": {
          "text": "Predicted Label"
         }
        },
        "yaxis": {
         "title": {
          "text": "Actual Label"
         }
        }
       }
      }
     },
     "metadata": {},
     "output_type": "display_data"
    },
    {
     "name": "stdout",
     "output_type": "stream",
     "text": [
      "\n",
      "Training K-Nearest Neighbors...\n"
     ]
    },
    {
     "data": {
      "application/vnd.plotly.v1+json": {
       "config": {
        "plotlyServerURL": "https://plot.ly"
       },
       "data": [
        {
         "colorscale": [
          [
           0,
           "rgb(247,251,255)"
          ],
          [
           0.125,
           "rgb(222,235,247)"
          ],
          [
           0.25,
           "rgb(198,219,239)"
          ],
          [
           0.375,
           "rgb(158,202,225)"
          ],
          [
           0.5,
           "rgb(107,174,214)"
          ],
          [
           0.625,
           "rgb(66,146,198)"
          ],
          [
           0.75,
           "rgb(33,113,181)"
          ],
          [
           0.875,
           "rgb(8,81,156)"
          ],
          [
           1,
           "rgb(8,48,107)"
          ]
         ],
         "showscale": true,
         "text": [
          [
           7,
           6,
           0,
           0,
           1,
           7
          ],
          [
           1,
           12,
           0,
           0,
           1,
           1
          ],
          [
           0,
           0,
           13,
           0,
           0,
           0
          ],
          [
           0,
           0,
           0,
           20,
           1,
           0
          ],
          [
           5,
           0,
           1,
           0,
           5,
           3
          ],
          [
           2,
           5,
           0,
           0,
           2,
           6
          ]
         ],
         "texttemplate": "%{text}",
         "type": "heatmap",
         "x": [
          "Predicted 0",
          "Predicted 1",
          "Predicted 2",
          "Predicted 3",
          "Predicted 4",
          "Predicted 5"
         ],
         "y": [
          "Actual 0",
          "Actual 1",
          "Actual 2",
          "Actual 3",
          "Actual 4",
          "Actual 5"
         ],
         "z": [
          [
           7,
           6,
           0,
           0,
           1,
           7
          ],
          [
           1,
           12,
           0,
           0,
           1,
           1
          ],
          [
           0,
           0,
           13,
           0,
           0,
           0
          ],
          [
           0,
           0,
           0,
           20,
           1,
           0
          ],
          [
           5,
           0,
           1,
           0,
           5,
           3
          ],
          [
           2,
           5,
           0,
           0,
           2,
           6
          ]
         ]
        }
       ],
       "layout": {
        "template": {
         "data": {
          "bar": [
           {
            "error_x": {
             "color": "#2a3f5f"
            },
            "error_y": {
             "color": "#2a3f5f"
            },
            "marker": {
             "line": {
              "color": "#E5ECF6",
              "width": 0.5
             },
             "pattern": {
              "fillmode": "overlay",
              "size": 10,
              "solidity": 0.2
             }
            },
            "type": "bar"
           }
          ],
          "barpolar": [
           {
            "marker": {
             "line": {
              "color": "#E5ECF6",
              "width": 0.5
             },
             "pattern": {
              "fillmode": "overlay",
              "size": 10,
              "solidity": 0.2
             }
            },
            "type": "barpolar"
           }
          ],
          "carpet": [
           {
            "aaxis": {
             "endlinecolor": "#2a3f5f",
             "gridcolor": "white",
             "linecolor": "white",
             "minorgridcolor": "white",
             "startlinecolor": "#2a3f5f"
            },
            "baxis": {
             "endlinecolor": "#2a3f5f",
             "gridcolor": "white",
             "linecolor": "white",
             "minorgridcolor": "white",
             "startlinecolor": "#2a3f5f"
            },
            "type": "carpet"
           }
          ],
          "choropleth": [
           {
            "colorbar": {
             "outlinewidth": 0,
             "ticks": ""
            },
            "type": "choropleth"
           }
          ],
          "contour": [
           {
            "colorbar": {
             "outlinewidth": 0,
             "ticks": ""
            },
            "colorscale": [
             [
              0,
              "#0d0887"
             ],
             [
              0.1111111111111111,
              "#46039f"
             ],
             [
              0.2222222222222222,
              "#7201a8"
             ],
             [
              0.3333333333333333,
              "#9c179e"
             ],
             [
              0.4444444444444444,
              "#bd3786"
             ],
             [
              0.5555555555555556,
              "#d8576b"
             ],
             [
              0.6666666666666666,
              "#ed7953"
             ],
             [
              0.7777777777777778,
              "#fb9f3a"
             ],
             [
              0.8888888888888888,
              "#fdca26"
             ],
             [
              1,
              "#f0f921"
             ]
            ],
            "type": "contour"
           }
          ],
          "contourcarpet": [
           {
            "colorbar": {
             "outlinewidth": 0,
             "ticks": ""
            },
            "type": "contourcarpet"
           }
          ],
          "heatmap": [
           {
            "colorbar": {
             "outlinewidth": 0,
             "ticks": ""
            },
            "colorscale": [
             [
              0,
              "#0d0887"
             ],
             [
              0.1111111111111111,
              "#46039f"
             ],
             [
              0.2222222222222222,
              "#7201a8"
             ],
             [
              0.3333333333333333,
              "#9c179e"
             ],
             [
              0.4444444444444444,
              "#bd3786"
             ],
             [
              0.5555555555555556,
              "#d8576b"
             ],
             [
              0.6666666666666666,
              "#ed7953"
             ],
             [
              0.7777777777777778,
              "#fb9f3a"
             ],
             [
              0.8888888888888888,
              "#fdca26"
             ],
             [
              1,
              "#f0f921"
             ]
            ],
            "type": "heatmap"
           }
          ],
          "heatmapgl": [
           {
            "colorbar": {
             "outlinewidth": 0,
             "ticks": ""
            },
            "colorscale": [
             [
              0,
              "#0d0887"
             ],
             [
              0.1111111111111111,
              "#46039f"
             ],
             [
              0.2222222222222222,
              "#7201a8"
             ],
             [
              0.3333333333333333,
              "#9c179e"
             ],
             [
              0.4444444444444444,
              "#bd3786"
             ],
             [
              0.5555555555555556,
              "#d8576b"
             ],
             [
              0.6666666666666666,
              "#ed7953"
             ],
             [
              0.7777777777777778,
              "#fb9f3a"
             ],
             [
              0.8888888888888888,
              "#fdca26"
             ],
             [
              1,
              "#f0f921"
             ]
            ],
            "type": "heatmapgl"
           }
          ],
          "histogram": [
           {
            "marker": {
             "pattern": {
              "fillmode": "overlay",
              "size": 10,
              "solidity": 0.2
             }
            },
            "type": "histogram"
           }
          ],
          "histogram2d": [
           {
            "colorbar": {
             "outlinewidth": 0,
             "ticks": ""
            },
            "colorscale": [
             [
              0,
              "#0d0887"
             ],
             [
              0.1111111111111111,
              "#46039f"
             ],
             [
              0.2222222222222222,
              "#7201a8"
             ],
             [
              0.3333333333333333,
              "#9c179e"
             ],
             [
              0.4444444444444444,
              "#bd3786"
             ],
             [
              0.5555555555555556,
              "#d8576b"
             ],
             [
              0.6666666666666666,
              "#ed7953"
             ],
             [
              0.7777777777777778,
              "#fb9f3a"
             ],
             [
              0.8888888888888888,
              "#fdca26"
             ],
             [
              1,
              "#f0f921"
             ]
            ],
            "type": "histogram2d"
           }
          ],
          "histogram2dcontour": [
           {
            "colorbar": {
             "outlinewidth": 0,
             "ticks": ""
            },
            "colorscale": [
             [
              0,
              "#0d0887"
             ],
             [
              0.1111111111111111,
              "#46039f"
             ],
             [
              0.2222222222222222,
              "#7201a8"
             ],
             [
              0.3333333333333333,
              "#9c179e"
             ],
             [
              0.4444444444444444,
              "#bd3786"
             ],
             [
              0.5555555555555556,
              "#d8576b"
             ],
             [
              0.6666666666666666,
              "#ed7953"
             ],
             [
              0.7777777777777778,
              "#fb9f3a"
             ],
             [
              0.8888888888888888,
              "#fdca26"
             ],
             [
              1,
              "#f0f921"
             ]
            ],
            "type": "histogram2dcontour"
           }
          ],
          "mesh3d": [
           {
            "colorbar": {
             "outlinewidth": 0,
             "ticks": ""
            },
            "type": "mesh3d"
           }
          ],
          "parcoords": [
           {
            "line": {
             "colorbar": {
              "outlinewidth": 0,
              "ticks": ""
             }
            },
            "type": "parcoords"
           }
          ],
          "pie": [
           {
            "automargin": true,
            "type": "pie"
           }
          ],
          "scatter": [
           {
            "fillpattern": {
             "fillmode": "overlay",
             "size": 10,
             "solidity": 0.2
            },
            "type": "scatter"
           }
          ],
          "scatter3d": [
           {
            "line": {
             "colorbar": {
              "outlinewidth": 0,
              "ticks": ""
             }
            },
            "marker": {
             "colorbar": {
              "outlinewidth": 0,
              "ticks": ""
             }
            },
            "type": "scatter3d"
           }
          ],
          "scattercarpet": [
           {
            "marker": {
             "colorbar": {
              "outlinewidth": 0,
              "ticks": ""
             }
            },
            "type": "scattercarpet"
           }
          ],
          "scattergeo": [
           {
            "marker": {
             "colorbar": {
              "outlinewidth": 0,
              "ticks": ""
             }
            },
            "type": "scattergeo"
           }
          ],
          "scattergl": [
           {
            "marker": {
             "colorbar": {
              "outlinewidth": 0,
              "ticks": ""
             }
            },
            "type": "scattergl"
           }
          ],
          "scattermapbox": [
           {
            "marker": {
             "colorbar": {
              "outlinewidth": 0,
              "ticks": ""
             }
            },
            "type": "scattermapbox"
           }
          ],
          "scatterpolar": [
           {
            "marker": {
             "colorbar": {
              "outlinewidth": 0,
              "ticks": ""
             }
            },
            "type": "scatterpolar"
           }
          ],
          "scatterpolargl": [
           {
            "marker": {
             "colorbar": {
              "outlinewidth": 0,
              "ticks": ""
             }
            },
            "type": "scatterpolargl"
           }
          ],
          "scatterternary": [
           {
            "marker": {
             "colorbar": {
              "outlinewidth": 0,
              "ticks": ""
             }
            },
            "type": "scatterternary"
           }
          ],
          "surface": [
           {
            "colorbar": {
             "outlinewidth": 0,
             "ticks": ""
            },
            "colorscale": [
             [
              0,
              "#0d0887"
             ],
             [
              0.1111111111111111,
              "#46039f"
             ],
             [
              0.2222222222222222,
              "#7201a8"
             ],
             [
              0.3333333333333333,
              "#9c179e"
             ],
             [
              0.4444444444444444,
              "#bd3786"
             ],
             [
              0.5555555555555556,
              "#d8576b"
             ],
             [
              0.6666666666666666,
              "#ed7953"
             ],
             [
              0.7777777777777778,
              "#fb9f3a"
             ],
             [
              0.8888888888888888,
              "#fdca26"
             ],
             [
              1,
              "#f0f921"
             ]
            ],
            "type": "surface"
           }
          ],
          "table": [
           {
            "cells": {
             "fill": {
              "color": "#EBF0F8"
             },
             "line": {
              "color": "white"
             }
            },
            "header": {
             "fill": {
              "color": "#C8D4E3"
             },
             "line": {
              "color": "white"
             }
            },
            "type": "table"
           }
          ]
         },
         "layout": {
          "annotationdefaults": {
           "arrowcolor": "#2a3f5f",
           "arrowhead": 0,
           "arrowwidth": 1
          },
          "autotypenumbers": "strict",
          "coloraxis": {
           "colorbar": {
            "outlinewidth": 0,
            "ticks": ""
           }
          },
          "colorscale": {
           "diverging": [
            [
             0,
             "#8e0152"
            ],
            [
             0.1,
             "#c51b7d"
            ],
            [
             0.2,
             "#de77ae"
            ],
            [
             0.3,
             "#f1b6da"
            ],
            [
             0.4,
             "#fde0ef"
            ],
            [
             0.5,
             "#f7f7f7"
            ],
            [
             0.6,
             "#e6f5d0"
            ],
            [
             0.7,
             "#b8e186"
            ],
            [
             0.8,
             "#7fbc41"
            ],
            [
             0.9,
             "#4d9221"
            ],
            [
             1,
             "#276419"
            ]
           ],
           "sequential": [
            [
             0,
             "#0d0887"
            ],
            [
             0.1111111111111111,
             "#46039f"
            ],
            [
             0.2222222222222222,
             "#7201a8"
            ],
            [
             0.3333333333333333,
             "#9c179e"
            ],
            [
             0.4444444444444444,
             "#bd3786"
            ],
            [
             0.5555555555555556,
             "#d8576b"
            ],
            [
             0.6666666666666666,
             "#ed7953"
            ],
            [
             0.7777777777777778,
             "#fb9f3a"
            ],
            [
             0.8888888888888888,
             "#fdca26"
            ],
            [
             1,
             "#f0f921"
            ]
           ],
           "sequentialminus": [
            [
             0,
             "#0d0887"
            ],
            [
             0.1111111111111111,
             "#46039f"
            ],
            [
             0.2222222222222222,
             "#7201a8"
            ],
            [
             0.3333333333333333,
             "#9c179e"
            ],
            [
             0.4444444444444444,
             "#bd3786"
            ],
            [
             0.5555555555555556,
             "#d8576b"
            ],
            [
             0.6666666666666666,
             "#ed7953"
            ],
            [
             0.7777777777777778,
             "#fb9f3a"
            ],
            [
             0.8888888888888888,
             "#fdca26"
            ],
            [
             1,
             "#f0f921"
            ]
           ]
          },
          "colorway": [
           "#636efa",
           "#EF553B",
           "#00cc96",
           "#ab63fa",
           "#FFA15A",
           "#19d3f3",
           "#FF6692",
           "#B6E880",
           "#FF97FF",
           "#FECB52"
          ],
          "font": {
           "color": "#2a3f5f"
          },
          "geo": {
           "bgcolor": "white",
           "lakecolor": "white",
           "landcolor": "#E5ECF6",
           "showlakes": true,
           "showland": true,
           "subunitcolor": "white"
          },
          "hoverlabel": {
           "align": "left"
          },
          "hovermode": "closest",
          "mapbox": {
           "style": "light"
          },
          "paper_bgcolor": "white",
          "plot_bgcolor": "#E5ECF6",
          "polar": {
           "angularaxis": {
            "gridcolor": "white",
            "linecolor": "white",
            "ticks": ""
           },
           "bgcolor": "#E5ECF6",
           "radialaxis": {
            "gridcolor": "white",
            "linecolor": "white",
            "ticks": ""
           }
          },
          "scene": {
           "xaxis": {
            "backgroundcolor": "#E5ECF6",
            "gridcolor": "white",
            "gridwidth": 2,
            "linecolor": "white",
            "showbackground": true,
            "ticks": "",
            "zerolinecolor": "white"
           },
           "yaxis": {
            "backgroundcolor": "#E5ECF6",
            "gridcolor": "white",
            "gridwidth": 2,
            "linecolor": "white",
            "showbackground": true,
            "ticks": "",
            "zerolinecolor": "white"
           },
           "zaxis": {
            "backgroundcolor": "#E5ECF6",
            "gridcolor": "white",
            "gridwidth": 2,
            "linecolor": "white",
            "showbackground": true,
            "ticks": "",
            "zerolinecolor": "white"
           }
          },
          "shapedefaults": {
           "line": {
            "color": "#2a3f5f"
           }
          },
          "ternary": {
           "aaxis": {
            "gridcolor": "white",
            "linecolor": "white",
            "ticks": ""
           },
           "baxis": {
            "gridcolor": "white",
            "linecolor": "white",
            "ticks": ""
           },
           "bgcolor": "#E5ECF6",
           "caxis": {
            "gridcolor": "white",
            "linecolor": "white",
            "ticks": ""
           }
          },
          "title": {
           "x": 0.05
          },
          "xaxis": {
           "automargin": true,
           "gridcolor": "white",
           "linecolor": "white",
           "ticks": "",
           "title": {
            "standoff": 15
           },
           "zerolinecolor": "white",
           "zerolinewidth": 2
          },
          "yaxis": {
           "automargin": true,
           "gridcolor": "white",
           "linecolor": "white",
           "ticks": "",
           "title": {
            "standoff": 15
           },
           "zerolinecolor": "white",
           "zerolinewidth": 2
          }
         }
        },
        "title": {
         "text": "Confusion Matrix for K-Nearest Neighbors"
        },
        "xaxis": {
         "scaleanchor": "y",
         "scaleratio": 1,
         "title": {
          "text": "Predicted Label"
         }
        },
        "yaxis": {
         "title": {
          "text": "Actual Label"
         }
        }
       }
      }
     },
     "metadata": {},
     "output_type": "display_data"
    },
    {
     "name": "stdout",
     "output_type": "stream",
     "text": [
      "\n",
      "Training Random Forest...\n"
     ]
    },
    {
     "data": {
      "application/vnd.plotly.v1+json": {
       "config": {
        "plotlyServerURL": "https://plot.ly"
       },
       "data": [
        {
         "colorscale": [
          [
           0,
           "rgb(247,251,255)"
          ],
          [
           0.125,
           "rgb(222,235,247)"
          ],
          [
           0.25,
           "rgb(198,219,239)"
          ],
          [
           0.375,
           "rgb(158,202,225)"
          ],
          [
           0.5,
           "rgb(107,174,214)"
          ],
          [
           0.625,
           "rgb(66,146,198)"
          ],
          [
           0.75,
           "rgb(33,113,181)"
          ],
          [
           0.875,
           "rgb(8,81,156)"
          ],
          [
           1,
           "rgb(8,48,107)"
          ]
         ],
         "showscale": true,
         "text": [
          [
           11,
           3,
           0,
           0,
           5,
           2
          ],
          [
           0,
           10,
           0,
           0,
           1,
           4
          ],
          [
           0,
           0,
           13,
           0,
           0,
           0
          ],
          [
           0,
           2,
           0,
           19,
           0,
           0
          ],
          [
           2,
           1,
           0,
           0,
           10,
           1
          ],
          [
           0,
           3,
           0,
           0,
           2,
           10
          ]
         ],
         "texttemplate": "%{text}",
         "type": "heatmap",
         "x": [
          "Predicted 0",
          "Predicted 1",
          "Predicted 2",
          "Predicted 3",
          "Predicted 4",
          "Predicted 5"
         ],
         "y": [
          "Actual 0",
          "Actual 1",
          "Actual 2",
          "Actual 3",
          "Actual 4",
          "Actual 5"
         ],
         "z": [
          [
           11,
           3,
           0,
           0,
           5,
           2
          ],
          [
           0,
           10,
           0,
           0,
           1,
           4
          ],
          [
           0,
           0,
           13,
           0,
           0,
           0
          ],
          [
           0,
           2,
           0,
           19,
           0,
           0
          ],
          [
           2,
           1,
           0,
           0,
           10,
           1
          ],
          [
           0,
           3,
           0,
           0,
           2,
           10
          ]
         ]
        }
       ],
       "layout": {
        "template": {
         "data": {
          "bar": [
           {
            "error_x": {
             "color": "#2a3f5f"
            },
            "error_y": {
             "color": "#2a3f5f"
            },
            "marker": {
             "line": {
              "color": "#E5ECF6",
              "width": 0.5
             },
             "pattern": {
              "fillmode": "overlay",
              "size": 10,
              "solidity": 0.2
             }
            },
            "type": "bar"
           }
          ],
          "barpolar": [
           {
            "marker": {
             "line": {
              "color": "#E5ECF6",
              "width": 0.5
             },
             "pattern": {
              "fillmode": "overlay",
              "size": 10,
              "solidity": 0.2
             }
            },
            "type": "barpolar"
           }
          ],
          "carpet": [
           {
            "aaxis": {
             "endlinecolor": "#2a3f5f",
             "gridcolor": "white",
             "linecolor": "white",
             "minorgridcolor": "white",
             "startlinecolor": "#2a3f5f"
            },
            "baxis": {
             "endlinecolor": "#2a3f5f",
             "gridcolor": "white",
             "linecolor": "white",
             "minorgridcolor": "white",
             "startlinecolor": "#2a3f5f"
            },
            "type": "carpet"
           }
          ],
          "choropleth": [
           {
            "colorbar": {
             "outlinewidth": 0,
             "ticks": ""
            },
            "type": "choropleth"
           }
          ],
          "contour": [
           {
            "colorbar": {
             "outlinewidth": 0,
             "ticks": ""
            },
            "colorscale": [
             [
              0,
              "#0d0887"
             ],
             [
              0.1111111111111111,
              "#46039f"
             ],
             [
              0.2222222222222222,
              "#7201a8"
             ],
             [
              0.3333333333333333,
              "#9c179e"
             ],
             [
              0.4444444444444444,
              "#bd3786"
             ],
             [
              0.5555555555555556,
              "#d8576b"
             ],
             [
              0.6666666666666666,
              "#ed7953"
             ],
             [
              0.7777777777777778,
              "#fb9f3a"
             ],
             [
              0.8888888888888888,
              "#fdca26"
             ],
             [
              1,
              "#f0f921"
             ]
            ],
            "type": "contour"
           }
          ],
          "contourcarpet": [
           {
            "colorbar": {
             "outlinewidth": 0,
             "ticks": ""
            },
            "type": "contourcarpet"
           }
          ],
          "heatmap": [
           {
            "colorbar": {
             "outlinewidth": 0,
             "ticks": ""
            },
            "colorscale": [
             [
              0,
              "#0d0887"
             ],
             [
              0.1111111111111111,
              "#46039f"
             ],
             [
              0.2222222222222222,
              "#7201a8"
             ],
             [
              0.3333333333333333,
              "#9c179e"
             ],
             [
              0.4444444444444444,
              "#bd3786"
             ],
             [
              0.5555555555555556,
              "#d8576b"
             ],
             [
              0.6666666666666666,
              "#ed7953"
             ],
             [
              0.7777777777777778,
              "#fb9f3a"
             ],
             [
              0.8888888888888888,
              "#fdca26"
             ],
             [
              1,
              "#f0f921"
             ]
            ],
            "type": "heatmap"
           }
          ],
          "heatmapgl": [
           {
            "colorbar": {
             "outlinewidth": 0,
             "ticks": ""
            },
            "colorscale": [
             [
              0,
              "#0d0887"
             ],
             [
              0.1111111111111111,
              "#46039f"
             ],
             [
              0.2222222222222222,
              "#7201a8"
             ],
             [
              0.3333333333333333,
              "#9c179e"
             ],
             [
              0.4444444444444444,
              "#bd3786"
             ],
             [
              0.5555555555555556,
              "#d8576b"
             ],
             [
              0.6666666666666666,
              "#ed7953"
             ],
             [
              0.7777777777777778,
              "#fb9f3a"
             ],
             [
              0.8888888888888888,
              "#fdca26"
             ],
             [
              1,
              "#f0f921"
             ]
            ],
            "type": "heatmapgl"
           }
          ],
          "histogram": [
           {
            "marker": {
             "pattern": {
              "fillmode": "overlay",
              "size": 10,
              "solidity": 0.2
             }
            },
            "type": "histogram"
           }
          ],
          "histogram2d": [
           {
            "colorbar": {
             "outlinewidth": 0,
             "ticks": ""
            },
            "colorscale": [
             [
              0,
              "#0d0887"
             ],
             [
              0.1111111111111111,
              "#46039f"
             ],
             [
              0.2222222222222222,
              "#7201a8"
             ],
             [
              0.3333333333333333,
              "#9c179e"
             ],
             [
              0.4444444444444444,
              "#bd3786"
             ],
             [
              0.5555555555555556,
              "#d8576b"
             ],
             [
              0.6666666666666666,
              "#ed7953"
             ],
             [
              0.7777777777777778,
              "#fb9f3a"
             ],
             [
              0.8888888888888888,
              "#fdca26"
             ],
             [
              1,
              "#f0f921"
             ]
            ],
            "type": "histogram2d"
           }
          ],
          "histogram2dcontour": [
           {
            "colorbar": {
             "outlinewidth": 0,
             "ticks": ""
            },
            "colorscale": [
             [
              0,
              "#0d0887"
             ],
             [
              0.1111111111111111,
              "#46039f"
             ],
             [
              0.2222222222222222,
              "#7201a8"
             ],
             [
              0.3333333333333333,
              "#9c179e"
             ],
             [
              0.4444444444444444,
              "#bd3786"
             ],
             [
              0.5555555555555556,
              "#d8576b"
             ],
             [
              0.6666666666666666,
              "#ed7953"
             ],
             [
              0.7777777777777778,
              "#fb9f3a"
             ],
             [
              0.8888888888888888,
              "#fdca26"
             ],
             [
              1,
              "#f0f921"
             ]
            ],
            "type": "histogram2dcontour"
           }
          ],
          "mesh3d": [
           {
            "colorbar": {
             "outlinewidth": 0,
             "ticks": ""
            },
            "type": "mesh3d"
           }
          ],
          "parcoords": [
           {
            "line": {
             "colorbar": {
              "outlinewidth": 0,
              "ticks": ""
             }
            },
            "type": "parcoords"
           }
          ],
          "pie": [
           {
            "automargin": true,
            "type": "pie"
           }
          ],
          "scatter": [
           {
            "fillpattern": {
             "fillmode": "overlay",
             "size": 10,
             "solidity": 0.2
            },
            "type": "scatter"
           }
          ],
          "scatter3d": [
           {
            "line": {
             "colorbar": {
              "outlinewidth": 0,
              "ticks": ""
             }
            },
            "marker": {
             "colorbar": {
              "outlinewidth": 0,
              "ticks": ""
             }
            },
            "type": "scatter3d"
           }
          ],
          "scattercarpet": [
           {
            "marker": {
             "colorbar": {
              "outlinewidth": 0,
              "ticks": ""
             }
            },
            "type": "scattercarpet"
           }
          ],
          "scattergeo": [
           {
            "marker": {
             "colorbar": {
              "outlinewidth": 0,
              "ticks": ""
             }
            },
            "type": "scattergeo"
           }
          ],
          "scattergl": [
           {
            "marker": {
             "colorbar": {
              "outlinewidth": 0,
              "ticks": ""
             }
            },
            "type": "scattergl"
           }
          ],
          "scattermapbox": [
           {
            "marker": {
             "colorbar": {
              "outlinewidth": 0,
              "ticks": ""
             }
            },
            "type": "scattermapbox"
           }
          ],
          "scatterpolar": [
           {
            "marker": {
             "colorbar": {
              "outlinewidth": 0,
              "ticks": ""
             }
            },
            "type": "scatterpolar"
           }
          ],
          "scatterpolargl": [
           {
            "marker": {
             "colorbar": {
              "outlinewidth": 0,
              "ticks": ""
             }
            },
            "type": "scatterpolargl"
           }
          ],
          "scatterternary": [
           {
            "marker": {
             "colorbar": {
              "outlinewidth": 0,
              "ticks": ""
             }
            },
            "type": "scatterternary"
           }
          ],
          "surface": [
           {
            "colorbar": {
             "outlinewidth": 0,
             "ticks": ""
            },
            "colorscale": [
             [
              0,
              "#0d0887"
             ],
             [
              0.1111111111111111,
              "#46039f"
             ],
             [
              0.2222222222222222,
              "#7201a8"
             ],
             [
              0.3333333333333333,
              "#9c179e"
             ],
             [
              0.4444444444444444,
              "#bd3786"
             ],
             [
              0.5555555555555556,
              "#d8576b"
             ],
             [
              0.6666666666666666,
              "#ed7953"
             ],
             [
              0.7777777777777778,
              "#fb9f3a"
             ],
             [
              0.8888888888888888,
              "#fdca26"
             ],
             [
              1,
              "#f0f921"
             ]
            ],
            "type": "surface"
           }
          ],
          "table": [
           {
            "cells": {
             "fill": {
              "color": "#EBF0F8"
             },
             "line": {
              "color": "white"
             }
            },
            "header": {
             "fill": {
              "color": "#C8D4E3"
             },
             "line": {
              "color": "white"
             }
            },
            "type": "table"
           }
          ]
         },
         "layout": {
          "annotationdefaults": {
           "arrowcolor": "#2a3f5f",
           "arrowhead": 0,
           "arrowwidth": 1
          },
          "autotypenumbers": "strict",
          "coloraxis": {
           "colorbar": {
            "outlinewidth": 0,
            "ticks": ""
           }
          },
          "colorscale": {
           "diverging": [
            [
             0,
             "#8e0152"
            ],
            [
             0.1,
             "#c51b7d"
            ],
            [
             0.2,
             "#de77ae"
            ],
            [
             0.3,
             "#f1b6da"
            ],
            [
             0.4,
             "#fde0ef"
            ],
            [
             0.5,
             "#f7f7f7"
            ],
            [
             0.6,
             "#e6f5d0"
            ],
            [
             0.7,
             "#b8e186"
            ],
            [
             0.8,
             "#7fbc41"
            ],
            [
             0.9,
             "#4d9221"
            ],
            [
             1,
             "#276419"
            ]
           ],
           "sequential": [
            [
             0,
             "#0d0887"
            ],
            [
             0.1111111111111111,
             "#46039f"
            ],
            [
             0.2222222222222222,
             "#7201a8"
            ],
            [
             0.3333333333333333,
             "#9c179e"
            ],
            [
             0.4444444444444444,
             "#bd3786"
            ],
            [
             0.5555555555555556,
             "#d8576b"
            ],
            [
             0.6666666666666666,
             "#ed7953"
            ],
            [
             0.7777777777777778,
             "#fb9f3a"
            ],
            [
             0.8888888888888888,
             "#fdca26"
            ],
            [
             1,
             "#f0f921"
            ]
           ],
           "sequentialminus": [
            [
             0,
             "#0d0887"
            ],
            [
             0.1111111111111111,
             "#46039f"
            ],
            [
             0.2222222222222222,
             "#7201a8"
            ],
            [
             0.3333333333333333,
             "#9c179e"
            ],
            [
             0.4444444444444444,
             "#bd3786"
            ],
            [
             0.5555555555555556,
             "#d8576b"
            ],
            [
             0.6666666666666666,
             "#ed7953"
            ],
            [
             0.7777777777777778,
             "#fb9f3a"
            ],
            [
             0.8888888888888888,
             "#fdca26"
            ],
            [
             1,
             "#f0f921"
            ]
           ]
          },
          "colorway": [
           "#636efa",
           "#EF553B",
           "#00cc96",
           "#ab63fa",
           "#FFA15A",
           "#19d3f3",
           "#FF6692",
           "#B6E880",
           "#FF97FF",
           "#FECB52"
          ],
          "font": {
           "color": "#2a3f5f"
          },
          "geo": {
           "bgcolor": "white",
           "lakecolor": "white",
           "landcolor": "#E5ECF6",
           "showlakes": true,
           "showland": true,
           "subunitcolor": "white"
          },
          "hoverlabel": {
           "align": "left"
          },
          "hovermode": "closest",
          "mapbox": {
           "style": "light"
          },
          "paper_bgcolor": "white",
          "plot_bgcolor": "#E5ECF6",
          "polar": {
           "angularaxis": {
            "gridcolor": "white",
            "linecolor": "white",
            "ticks": ""
           },
           "bgcolor": "#E5ECF6",
           "radialaxis": {
            "gridcolor": "white",
            "linecolor": "white",
            "ticks": ""
           }
          },
          "scene": {
           "xaxis": {
            "backgroundcolor": "#E5ECF6",
            "gridcolor": "white",
            "gridwidth": 2,
            "linecolor": "white",
            "showbackground": true,
            "ticks": "",
            "zerolinecolor": "white"
           },
           "yaxis": {
            "backgroundcolor": "#E5ECF6",
            "gridcolor": "white",
            "gridwidth": 2,
            "linecolor": "white",
            "showbackground": true,
            "ticks": "",
            "zerolinecolor": "white"
           },
           "zaxis": {
            "backgroundcolor": "#E5ECF6",
            "gridcolor": "white",
            "gridwidth": 2,
            "linecolor": "white",
            "showbackground": true,
            "ticks": "",
            "zerolinecolor": "white"
           }
          },
          "shapedefaults": {
           "line": {
            "color": "#2a3f5f"
           }
          },
          "ternary": {
           "aaxis": {
            "gridcolor": "white",
            "linecolor": "white",
            "ticks": ""
           },
           "baxis": {
            "gridcolor": "white",
            "linecolor": "white",
            "ticks": ""
           },
           "bgcolor": "#E5ECF6",
           "caxis": {
            "gridcolor": "white",
            "linecolor": "white",
            "ticks": ""
           }
          },
          "title": {
           "x": 0.05
          },
          "xaxis": {
           "automargin": true,
           "gridcolor": "white",
           "linecolor": "white",
           "ticks": "",
           "title": {
            "standoff": 15
           },
           "zerolinecolor": "white",
           "zerolinewidth": 2
          },
          "yaxis": {
           "automargin": true,
           "gridcolor": "white",
           "linecolor": "white",
           "ticks": "",
           "title": {
            "standoff": 15
           },
           "zerolinecolor": "white",
           "zerolinewidth": 2
          }
         }
        },
        "title": {
         "text": "Confusion Matrix for Random Forest"
        },
        "xaxis": {
         "scaleanchor": "y",
         "scaleratio": 1,
         "title": {
          "text": "Predicted Label"
         }
        },
        "yaxis": {
         "title": {
          "text": "Actual Label"
         }
        }
       }
      }
     },
     "metadata": {},
     "output_type": "display_data"
    },
    {
     "name": "stdout",
     "output_type": "stream",
     "text": [
      "\n",
      "Training Gradient Boosting...\n"
     ]
    },
    {
     "data": {
      "application/vnd.plotly.v1+json": {
       "config": {
        "plotlyServerURL": "https://plot.ly"
       },
       "data": [
        {
         "colorscale": [
          [
           0,
           "rgb(247,251,255)"
          ],
          [
           0.125,
           "rgb(222,235,247)"
          ],
          [
           0.25,
           "rgb(198,219,239)"
          ],
          [
           0.375,
           "rgb(158,202,225)"
          ],
          [
           0.5,
           "rgb(107,174,214)"
          ],
          [
           0.625,
           "rgb(66,146,198)"
          ],
          [
           0.75,
           "rgb(33,113,181)"
          ],
          [
           0.875,
           "rgb(8,81,156)"
          ],
          [
           1,
           "rgb(8,48,107)"
          ]
         ],
         "showscale": true,
         "text": [
          [
           10,
           1,
           0,
           0,
           4,
           6
          ],
          [
           1,
           10,
           0,
           0,
           1,
           3
          ],
          [
           0,
           0,
           13,
           0,
           0,
           0
          ],
          [
           0,
           2,
           0,
           19,
           0,
           0
          ],
          [
           3,
           0,
           0,
           0,
           10,
           1
          ],
          [
           1,
           1,
           0,
           0,
           2,
           11
          ]
         ],
         "texttemplate": "%{text}",
         "type": "heatmap",
         "x": [
          "Predicted 0",
          "Predicted 1",
          "Predicted 2",
          "Predicted 3",
          "Predicted 4",
          "Predicted 5"
         ],
         "y": [
          "Actual 0",
          "Actual 1",
          "Actual 2",
          "Actual 3",
          "Actual 4",
          "Actual 5"
         ],
         "z": [
          [
           10,
           1,
           0,
           0,
           4,
           6
          ],
          [
           1,
           10,
           0,
           0,
           1,
           3
          ],
          [
           0,
           0,
           13,
           0,
           0,
           0
          ],
          [
           0,
           2,
           0,
           19,
           0,
           0
          ],
          [
           3,
           0,
           0,
           0,
           10,
           1
          ],
          [
           1,
           1,
           0,
           0,
           2,
           11
          ]
         ]
        }
       ],
       "layout": {
        "template": {
         "data": {
          "bar": [
           {
            "error_x": {
             "color": "#2a3f5f"
            },
            "error_y": {
             "color": "#2a3f5f"
            },
            "marker": {
             "line": {
              "color": "#E5ECF6",
              "width": 0.5
             },
             "pattern": {
              "fillmode": "overlay",
              "size": 10,
              "solidity": 0.2
             }
            },
            "type": "bar"
           }
          ],
          "barpolar": [
           {
            "marker": {
             "line": {
              "color": "#E5ECF6",
              "width": 0.5
             },
             "pattern": {
              "fillmode": "overlay",
              "size": 10,
              "solidity": 0.2
             }
            },
            "type": "barpolar"
           }
          ],
          "carpet": [
           {
            "aaxis": {
             "endlinecolor": "#2a3f5f",
             "gridcolor": "white",
             "linecolor": "white",
             "minorgridcolor": "white",
             "startlinecolor": "#2a3f5f"
            },
            "baxis": {
             "endlinecolor": "#2a3f5f",
             "gridcolor": "white",
             "linecolor": "white",
             "minorgridcolor": "white",
             "startlinecolor": "#2a3f5f"
            },
            "type": "carpet"
           }
          ],
          "choropleth": [
           {
            "colorbar": {
             "outlinewidth": 0,
             "ticks": ""
            },
            "type": "choropleth"
           }
          ],
          "contour": [
           {
            "colorbar": {
             "outlinewidth": 0,
             "ticks": ""
            },
            "colorscale": [
             [
              0,
              "#0d0887"
             ],
             [
              0.1111111111111111,
              "#46039f"
             ],
             [
              0.2222222222222222,
              "#7201a8"
             ],
             [
              0.3333333333333333,
              "#9c179e"
             ],
             [
              0.4444444444444444,
              "#bd3786"
             ],
             [
              0.5555555555555556,
              "#d8576b"
             ],
             [
              0.6666666666666666,
              "#ed7953"
             ],
             [
              0.7777777777777778,
              "#fb9f3a"
             ],
             [
              0.8888888888888888,
              "#fdca26"
             ],
             [
              1,
              "#f0f921"
             ]
            ],
            "type": "contour"
           }
          ],
          "contourcarpet": [
           {
            "colorbar": {
             "outlinewidth": 0,
             "ticks": ""
            },
            "type": "contourcarpet"
           }
          ],
          "heatmap": [
           {
            "colorbar": {
             "outlinewidth": 0,
             "ticks": ""
            },
            "colorscale": [
             [
              0,
              "#0d0887"
             ],
             [
              0.1111111111111111,
              "#46039f"
             ],
             [
              0.2222222222222222,
              "#7201a8"
             ],
             [
              0.3333333333333333,
              "#9c179e"
             ],
             [
              0.4444444444444444,
              "#bd3786"
             ],
             [
              0.5555555555555556,
              "#d8576b"
             ],
             [
              0.6666666666666666,
              "#ed7953"
             ],
             [
              0.7777777777777778,
              "#fb9f3a"
             ],
             [
              0.8888888888888888,
              "#fdca26"
             ],
             [
              1,
              "#f0f921"
             ]
            ],
            "type": "heatmap"
           }
          ],
          "heatmapgl": [
           {
            "colorbar": {
             "outlinewidth": 0,
             "ticks": ""
            },
            "colorscale": [
             [
              0,
              "#0d0887"
             ],
             [
              0.1111111111111111,
              "#46039f"
             ],
             [
              0.2222222222222222,
              "#7201a8"
             ],
             [
              0.3333333333333333,
              "#9c179e"
             ],
             [
              0.4444444444444444,
              "#bd3786"
             ],
             [
              0.5555555555555556,
              "#d8576b"
             ],
             [
              0.6666666666666666,
              "#ed7953"
             ],
             [
              0.7777777777777778,
              "#fb9f3a"
             ],
             [
              0.8888888888888888,
              "#fdca26"
             ],
             [
              1,
              "#f0f921"
             ]
            ],
            "type": "heatmapgl"
           }
          ],
          "histogram": [
           {
            "marker": {
             "pattern": {
              "fillmode": "overlay",
              "size": 10,
              "solidity": 0.2
             }
            },
            "type": "histogram"
           }
          ],
          "histogram2d": [
           {
            "colorbar": {
             "outlinewidth": 0,
             "ticks": ""
            },
            "colorscale": [
             [
              0,
              "#0d0887"
             ],
             [
              0.1111111111111111,
              "#46039f"
             ],
             [
              0.2222222222222222,
              "#7201a8"
             ],
             [
              0.3333333333333333,
              "#9c179e"
             ],
             [
              0.4444444444444444,
              "#bd3786"
             ],
             [
              0.5555555555555556,
              "#d8576b"
             ],
             [
              0.6666666666666666,
              "#ed7953"
             ],
             [
              0.7777777777777778,
              "#fb9f3a"
             ],
             [
              0.8888888888888888,
              "#fdca26"
             ],
             [
              1,
              "#f0f921"
             ]
            ],
            "type": "histogram2d"
           }
          ],
          "histogram2dcontour": [
           {
            "colorbar": {
             "outlinewidth": 0,
             "ticks": ""
            },
            "colorscale": [
             [
              0,
              "#0d0887"
             ],
             [
              0.1111111111111111,
              "#46039f"
             ],
             [
              0.2222222222222222,
              "#7201a8"
             ],
             [
              0.3333333333333333,
              "#9c179e"
             ],
             [
              0.4444444444444444,
              "#bd3786"
             ],
             [
              0.5555555555555556,
              "#d8576b"
             ],
             [
              0.6666666666666666,
              "#ed7953"
             ],
             [
              0.7777777777777778,
              "#fb9f3a"
             ],
             [
              0.8888888888888888,
              "#fdca26"
             ],
             [
              1,
              "#f0f921"
             ]
            ],
            "type": "histogram2dcontour"
           }
          ],
          "mesh3d": [
           {
            "colorbar": {
             "outlinewidth": 0,
             "ticks": ""
            },
            "type": "mesh3d"
           }
          ],
          "parcoords": [
           {
            "line": {
             "colorbar": {
              "outlinewidth": 0,
              "ticks": ""
             }
            },
            "type": "parcoords"
           }
          ],
          "pie": [
           {
            "automargin": true,
            "type": "pie"
           }
          ],
          "scatter": [
           {
            "fillpattern": {
             "fillmode": "overlay",
             "size": 10,
             "solidity": 0.2
            },
            "type": "scatter"
           }
          ],
          "scatter3d": [
           {
            "line": {
             "colorbar": {
              "outlinewidth": 0,
              "ticks": ""
             }
            },
            "marker": {
             "colorbar": {
              "outlinewidth": 0,
              "ticks": ""
             }
            },
            "type": "scatter3d"
           }
          ],
          "scattercarpet": [
           {
            "marker": {
             "colorbar": {
              "outlinewidth": 0,
              "ticks": ""
             }
            },
            "type": "scattercarpet"
           }
          ],
          "scattergeo": [
           {
            "marker": {
             "colorbar": {
              "outlinewidth": 0,
              "ticks": ""
             }
            },
            "type": "scattergeo"
           }
          ],
          "scattergl": [
           {
            "marker": {
             "colorbar": {
              "outlinewidth": 0,
              "ticks": ""
             }
            },
            "type": "scattergl"
           }
          ],
          "scattermapbox": [
           {
            "marker": {
             "colorbar": {
              "outlinewidth": 0,
              "ticks": ""
             }
            },
            "type": "scattermapbox"
           }
          ],
          "scatterpolar": [
           {
            "marker": {
             "colorbar": {
              "outlinewidth": 0,
              "ticks": ""
             }
            },
            "type": "scatterpolar"
           }
          ],
          "scatterpolargl": [
           {
            "marker": {
             "colorbar": {
              "outlinewidth": 0,
              "ticks": ""
             }
            },
            "type": "scatterpolargl"
           }
          ],
          "scatterternary": [
           {
            "marker": {
             "colorbar": {
              "outlinewidth": 0,
              "ticks": ""
             }
            },
            "type": "scatterternary"
           }
          ],
          "surface": [
           {
            "colorbar": {
             "outlinewidth": 0,
             "ticks": ""
            },
            "colorscale": [
             [
              0,
              "#0d0887"
             ],
             [
              0.1111111111111111,
              "#46039f"
             ],
             [
              0.2222222222222222,
              "#7201a8"
             ],
             [
              0.3333333333333333,
              "#9c179e"
             ],
             [
              0.4444444444444444,
              "#bd3786"
             ],
             [
              0.5555555555555556,
              "#d8576b"
             ],
             [
              0.6666666666666666,
              "#ed7953"
             ],
             [
              0.7777777777777778,
              "#fb9f3a"
             ],
             [
              0.8888888888888888,
              "#fdca26"
             ],
             [
              1,
              "#f0f921"
             ]
            ],
            "type": "surface"
           }
          ],
          "table": [
           {
            "cells": {
             "fill": {
              "color": "#EBF0F8"
             },
             "line": {
              "color": "white"
             }
            },
            "header": {
             "fill": {
              "color": "#C8D4E3"
             },
             "line": {
              "color": "white"
             }
            },
            "type": "table"
           }
          ]
         },
         "layout": {
          "annotationdefaults": {
           "arrowcolor": "#2a3f5f",
           "arrowhead": 0,
           "arrowwidth": 1
          },
          "autotypenumbers": "strict",
          "coloraxis": {
           "colorbar": {
            "outlinewidth": 0,
            "ticks": ""
           }
          },
          "colorscale": {
           "diverging": [
            [
             0,
             "#8e0152"
            ],
            [
             0.1,
             "#c51b7d"
            ],
            [
             0.2,
             "#de77ae"
            ],
            [
             0.3,
             "#f1b6da"
            ],
            [
             0.4,
             "#fde0ef"
            ],
            [
             0.5,
             "#f7f7f7"
            ],
            [
             0.6,
             "#e6f5d0"
            ],
            [
             0.7,
             "#b8e186"
            ],
            [
             0.8,
             "#7fbc41"
            ],
            [
             0.9,
             "#4d9221"
            ],
            [
             1,
             "#276419"
            ]
           ],
           "sequential": [
            [
             0,
             "#0d0887"
            ],
            [
             0.1111111111111111,
             "#46039f"
            ],
            [
             0.2222222222222222,
             "#7201a8"
            ],
            [
             0.3333333333333333,
             "#9c179e"
            ],
            [
             0.4444444444444444,
             "#bd3786"
            ],
            [
             0.5555555555555556,
             "#d8576b"
            ],
            [
             0.6666666666666666,
             "#ed7953"
            ],
            [
             0.7777777777777778,
             "#fb9f3a"
            ],
            [
             0.8888888888888888,
             "#fdca26"
            ],
            [
             1,
             "#f0f921"
            ]
           ],
           "sequentialminus": [
            [
             0,
             "#0d0887"
            ],
            [
             0.1111111111111111,
             "#46039f"
            ],
            [
             0.2222222222222222,
             "#7201a8"
            ],
            [
             0.3333333333333333,
             "#9c179e"
            ],
            [
             0.4444444444444444,
             "#bd3786"
            ],
            [
             0.5555555555555556,
             "#d8576b"
            ],
            [
             0.6666666666666666,
             "#ed7953"
            ],
            [
             0.7777777777777778,
             "#fb9f3a"
            ],
            [
             0.8888888888888888,
             "#fdca26"
            ],
            [
             1,
             "#f0f921"
            ]
           ]
          },
          "colorway": [
           "#636efa",
           "#EF553B",
           "#00cc96",
           "#ab63fa",
           "#FFA15A",
           "#19d3f3",
           "#FF6692",
           "#B6E880",
           "#FF97FF",
           "#FECB52"
          ],
          "font": {
           "color": "#2a3f5f"
          },
          "geo": {
           "bgcolor": "white",
           "lakecolor": "white",
           "landcolor": "#E5ECF6",
           "showlakes": true,
           "showland": true,
           "subunitcolor": "white"
          },
          "hoverlabel": {
           "align": "left"
          },
          "hovermode": "closest",
          "mapbox": {
           "style": "light"
          },
          "paper_bgcolor": "white",
          "plot_bgcolor": "#E5ECF6",
          "polar": {
           "angularaxis": {
            "gridcolor": "white",
            "linecolor": "white",
            "ticks": ""
           },
           "bgcolor": "#E5ECF6",
           "radialaxis": {
            "gridcolor": "white",
            "linecolor": "white",
            "ticks": ""
           }
          },
          "scene": {
           "xaxis": {
            "backgroundcolor": "#E5ECF6",
            "gridcolor": "white",
            "gridwidth": 2,
            "linecolor": "white",
            "showbackground": true,
            "ticks": "",
            "zerolinecolor": "white"
           },
           "yaxis": {
            "backgroundcolor": "#E5ECF6",
            "gridcolor": "white",
            "gridwidth": 2,
            "linecolor": "white",
            "showbackground": true,
            "ticks": "",
            "zerolinecolor": "white"
           },
           "zaxis": {
            "backgroundcolor": "#E5ECF6",
            "gridcolor": "white",
            "gridwidth": 2,
            "linecolor": "white",
            "showbackground": true,
            "ticks": "",
            "zerolinecolor": "white"
           }
          },
          "shapedefaults": {
           "line": {
            "color": "#2a3f5f"
           }
          },
          "ternary": {
           "aaxis": {
            "gridcolor": "white",
            "linecolor": "white",
            "ticks": ""
           },
           "baxis": {
            "gridcolor": "white",
            "linecolor": "white",
            "ticks": ""
           },
           "bgcolor": "#E5ECF6",
           "caxis": {
            "gridcolor": "white",
            "linecolor": "white",
            "ticks": ""
           }
          },
          "title": {
           "x": 0.05
          },
          "xaxis": {
           "automargin": true,
           "gridcolor": "white",
           "linecolor": "white",
           "ticks": "",
           "title": {
            "standoff": 15
           },
           "zerolinecolor": "white",
           "zerolinewidth": 2
          },
          "yaxis": {
           "automargin": true,
           "gridcolor": "white",
           "linecolor": "white",
           "ticks": "",
           "title": {
            "standoff": 15
           },
           "zerolinecolor": "white",
           "zerolinewidth": 2
          }
         }
        },
        "title": {
         "text": "Confusion Matrix for Gradient Boosting"
        },
        "xaxis": {
         "scaleanchor": "y",
         "scaleratio": 1,
         "title": {
          "text": "Predicted Label"
         }
        },
        "yaxis": {
         "title": {
          "text": "Actual Label"
         }
        }
       }
      }
     },
     "metadata": {},
     "output_type": "display_data"
    },
    {
     "name": "stdout",
     "output_type": "stream",
     "text": [
      "\n",
      "Training AdaBoost...\n"
     ]
    },
    {
     "name": "stderr",
     "output_type": "stream",
     "text": [
      "/home/nirav24/.local/lib/python3.12/site-packages/sklearn/ensemble/_weight_boosting.py:527: FutureWarning:\n",
      "\n",
      "The SAMME.R algorithm (the default) is deprecated and will be removed in 1.6. Use the SAMME algorithm to circumvent this warning.\n",
      "\n"
     ]
    },
    {
     "data": {
      "application/vnd.plotly.v1+json": {
       "config": {
        "plotlyServerURL": "https://plot.ly"
       },
       "data": [
        {
         "colorscale": [
          [
           0,
           "rgb(247,251,255)"
          ],
          [
           0.125,
           "rgb(222,235,247)"
          ],
          [
           0.25,
           "rgb(198,219,239)"
          ],
          [
           0.375,
           "rgb(158,202,225)"
          ],
          [
           0.5,
           "rgb(107,174,214)"
          ],
          [
           0.625,
           "rgb(66,146,198)"
          ],
          [
           0.75,
           "rgb(33,113,181)"
          ],
          [
           0.875,
           "rgb(8,81,156)"
          ],
          [
           1,
           "rgb(8,48,107)"
          ]
         ],
         "showscale": true,
         "text": [
          [
           16,
           2,
           0,
           1,
           2,
           0
          ],
          [
           3,
           4,
           0,
           0,
           2,
           6
          ],
          [
           0,
           0,
           13,
           0,
           0,
           0
          ],
          [
           0,
           2,
           0,
           19,
           0,
           0
          ],
          [
           11,
           0,
           0,
           0,
           2,
           1
          ],
          [
           6,
           1,
           0,
           0,
           2,
           6
          ]
         ],
         "texttemplate": "%{text}",
         "type": "heatmap",
         "x": [
          "Predicted 0",
          "Predicted 1",
          "Predicted 2",
          "Predicted 3",
          "Predicted 4",
          "Predicted 5"
         ],
         "y": [
          "Actual 0",
          "Actual 1",
          "Actual 2",
          "Actual 3",
          "Actual 4",
          "Actual 5"
         ],
         "z": [
          [
           16,
           2,
           0,
           1,
           2,
           0
          ],
          [
           3,
           4,
           0,
           0,
           2,
           6
          ],
          [
           0,
           0,
           13,
           0,
           0,
           0
          ],
          [
           0,
           2,
           0,
           19,
           0,
           0
          ],
          [
           11,
           0,
           0,
           0,
           2,
           1
          ],
          [
           6,
           1,
           0,
           0,
           2,
           6
          ]
         ]
        }
       ],
       "layout": {
        "template": {
         "data": {
          "bar": [
           {
            "error_x": {
             "color": "#2a3f5f"
            },
            "error_y": {
             "color": "#2a3f5f"
            },
            "marker": {
             "line": {
              "color": "#E5ECF6",
              "width": 0.5
             },
             "pattern": {
              "fillmode": "overlay",
              "size": 10,
              "solidity": 0.2
             }
            },
            "type": "bar"
           }
          ],
          "barpolar": [
           {
            "marker": {
             "line": {
              "color": "#E5ECF6",
              "width": 0.5
             },
             "pattern": {
              "fillmode": "overlay",
              "size": 10,
              "solidity": 0.2
             }
            },
            "type": "barpolar"
           }
          ],
          "carpet": [
           {
            "aaxis": {
             "endlinecolor": "#2a3f5f",
             "gridcolor": "white",
             "linecolor": "white",
             "minorgridcolor": "white",
             "startlinecolor": "#2a3f5f"
            },
            "baxis": {
             "endlinecolor": "#2a3f5f",
             "gridcolor": "white",
             "linecolor": "white",
             "minorgridcolor": "white",
             "startlinecolor": "#2a3f5f"
            },
            "type": "carpet"
           }
          ],
          "choropleth": [
           {
            "colorbar": {
             "outlinewidth": 0,
             "ticks": ""
            },
            "type": "choropleth"
           }
          ],
          "contour": [
           {
            "colorbar": {
             "outlinewidth": 0,
             "ticks": ""
            },
            "colorscale": [
             [
              0,
              "#0d0887"
             ],
             [
              0.1111111111111111,
              "#46039f"
             ],
             [
              0.2222222222222222,
              "#7201a8"
             ],
             [
              0.3333333333333333,
              "#9c179e"
             ],
             [
              0.4444444444444444,
              "#bd3786"
             ],
             [
              0.5555555555555556,
              "#d8576b"
             ],
             [
              0.6666666666666666,
              "#ed7953"
             ],
             [
              0.7777777777777778,
              "#fb9f3a"
             ],
             [
              0.8888888888888888,
              "#fdca26"
             ],
             [
              1,
              "#f0f921"
             ]
            ],
            "type": "contour"
           }
          ],
          "contourcarpet": [
           {
            "colorbar": {
             "outlinewidth": 0,
             "ticks": ""
            },
            "type": "contourcarpet"
           }
          ],
          "heatmap": [
           {
            "colorbar": {
             "outlinewidth": 0,
             "ticks": ""
            },
            "colorscale": [
             [
              0,
              "#0d0887"
             ],
             [
              0.1111111111111111,
              "#46039f"
             ],
             [
              0.2222222222222222,
              "#7201a8"
             ],
             [
              0.3333333333333333,
              "#9c179e"
             ],
             [
              0.4444444444444444,
              "#bd3786"
             ],
             [
              0.5555555555555556,
              "#d8576b"
             ],
             [
              0.6666666666666666,
              "#ed7953"
             ],
             [
              0.7777777777777778,
              "#fb9f3a"
             ],
             [
              0.8888888888888888,
              "#fdca26"
             ],
             [
              1,
              "#f0f921"
             ]
            ],
            "type": "heatmap"
           }
          ],
          "heatmapgl": [
           {
            "colorbar": {
             "outlinewidth": 0,
             "ticks": ""
            },
            "colorscale": [
             [
              0,
              "#0d0887"
             ],
             [
              0.1111111111111111,
              "#46039f"
             ],
             [
              0.2222222222222222,
              "#7201a8"
             ],
             [
              0.3333333333333333,
              "#9c179e"
             ],
             [
              0.4444444444444444,
              "#bd3786"
             ],
             [
              0.5555555555555556,
              "#d8576b"
             ],
             [
              0.6666666666666666,
              "#ed7953"
             ],
             [
              0.7777777777777778,
              "#fb9f3a"
             ],
             [
              0.8888888888888888,
              "#fdca26"
             ],
             [
              1,
              "#f0f921"
             ]
            ],
            "type": "heatmapgl"
           }
          ],
          "histogram": [
           {
            "marker": {
             "pattern": {
              "fillmode": "overlay",
              "size": 10,
              "solidity": 0.2
             }
            },
            "type": "histogram"
           }
          ],
          "histogram2d": [
           {
            "colorbar": {
             "outlinewidth": 0,
             "ticks": ""
            },
            "colorscale": [
             [
              0,
              "#0d0887"
             ],
             [
              0.1111111111111111,
              "#46039f"
             ],
             [
              0.2222222222222222,
              "#7201a8"
             ],
             [
              0.3333333333333333,
              "#9c179e"
             ],
             [
              0.4444444444444444,
              "#bd3786"
             ],
             [
              0.5555555555555556,
              "#d8576b"
             ],
             [
              0.6666666666666666,
              "#ed7953"
             ],
             [
              0.7777777777777778,
              "#fb9f3a"
             ],
             [
              0.8888888888888888,
              "#fdca26"
             ],
             [
              1,
              "#f0f921"
             ]
            ],
            "type": "histogram2d"
           }
          ],
          "histogram2dcontour": [
           {
            "colorbar": {
             "outlinewidth": 0,
             "ticks": ""
            },
            "colorscale": [
             [
              0,
              "#0d0887"
             ],
             [
              0.1111111111111111,
              "#46039f"
             ],
             [
              0.2222222222222222,
              "#7201a8"
             ],
             [
              0.3333333333333333,
              "#9c179e"
             ],
             [
              0.4444444444444444,
              "#bd3786"
             ],
             [
              0.5555555555555556,
              "#d8576b"
             ],
             [
              0.6666666666666666,
              "#ed7953"
             ],
             [
              0.7777777777777778,
              "#fb9f3a"
             ],
             [
              0.8888888888888888,
              "#fdca26"
             ],
             [
              1,
              "#f0f921"
             ]
            ],
            "type": "histogram2dcontour"
           }
          ],
          "mesh3d": [
           {
            "colorbar": {
             "outlinewidth": 0,
             "ticks": ""
            },
            "type": "mesh3d"
           }
          ],
          "parcoords": [
           {
            "line": {
             "colorbar": {
              "outlinewidth": 0,
              "ticks": ""
             }
            },
            "type": "parcoords"
           }
          ],
          "pie": [
           {
            "automargin": true,
            "type": "pie"
           }
          ],
          "scatter": [
           {
            "fillpattern": {
             "fillmode": "overlay",
             "size": 10,
             "solidity": 0.2
            },
            "type": "scatter"
           }
          ],
          "scatter3d": [
           {
            "line": {
             "colorbar": {
              "outlinewidth": 0,
              "ticks": ""
             }
            },
            "marker": {
             "colorbar": {
              "outlinewidth": 0,
              "ticks": ""
             }
            },
            "type": "scatter3d"
           }
          ],
          "scattercarpet": [
           {
            "marker": {
             "colorbar": {
              "outlinewidth": 0,
              "ticks": ""
             }
            },
            "type": "scattercarpet"
           }
          ],
          "scattergeo": [
           {
            "marker": {
             "colorbar": {
              "outlinewidth": 0,
              "ticks": ""
             }
            },
            "type": "scattergeo"
           }
          ],
          "scattergl": [
           {
            "marker": {
             "colorbar": {
              "outlinewidth": 0,
              "ticks": ""
             }
            },
            "type": "scattergl"
           }
          ],
          "scattermapbox": [
           {
            "marker": {
             "colorbar": {
              "outlinewidth": 0,
              "ticks": ""
             }
            },
            "type": "scattermapbox"
           }
          ],
          "scatterpolar": [
           {
            "marker": {
             "colorbar": {
              "outlinewidth": 0,
              "ticks": ""
             }
            },
            "type": "scatterpolar"
           }
          ],
          "scatterpolargl": [
           {
            "marker": {
             "colorbar": {
              "outlinewidth": 0,
              "ticks": ""
             }
            },
            "type": "scatterpolargl"
           }
          ],
          "scatterternary": [
           {
            "marker": {
             "colorbar": {
              "outlinewidth": 0,
              "ticks": ""
             }
            },
            "type": "scatterternary"
           }
          ],
          "surface": [
           {
            "colorbar": {
             "outlinewidth": 0,
             "ticks": ""
            },
            "colorscale": [
             [
              0,
              "#0d0887"
             ],
             [
              0.1111111111111111,
              "#46039f"
             ],
             [
              0.2222222222222222,
              "#7201a8"
             ],
             [
              0.3333333333333333,
              "#9c179e"
             ],
             [
              0.4444444444444444,
              "#bd3786"
             ],
             [
              0.5555555555555556,
              "#d8576b"
             ],
             [
              0.6666666666666666,
              "#ed7953"
             ],
             [
              0.7777777777777778,
              "#fb9f3a"
             ],
             [
              0.8888888888888888,
              "#fdca26"
             ],
             [
              1,
              "#f0f921"
             ]
            ],
            "type": "surface"
           }
          ],
          "table": [
           {
            "cells": {
             "fill": {
              "color": "#EBF0F8"
             },
             "line": {
              "color": "white"
             }
            },
            "header": {
             "fill": {
              "color": "#C8D4E3"
             },
             "line": {
              "color": "white"
             }
            },
            "type": "table"
           }
          ]
         },
         "layout": {
          "annotationdefaults": {
           "arrowcolor": "#2a3f5f",
           "arrowhead": 0,
           "arrowwidth": 1
          },
          "autotypenumbers": "strict",
          "coloraxis": {
           "colorbar": {
            "outlinewidth": 0,
            "ticks": ""
           }
          },
          "colorscale": {
           "diverging": [
            [
             0,
             "#8e0152"
            ],
            [
             0.1,
             "#c51b7d"
            ],
            [
             0.2,
             "#de77ae"
            ],
            [
             0.3,
             "#f1b6da"
            ],
            [
             0.4,
             "#fde0ef"
            ],
            [
             0.5,
             "#f7f7f7"
            ],
            [
             0.6,
             "#e6f5d0"
            ],
            [
             0.7,
             "#b8e186"
            ],
            [
             0.8,
             "#7fbc41"
            ],
            [
             0.9,
             "#4d9221"
            ],
            [
             1,
             "#276419"
            ]
           ],
           "sequential": [
            [
             0,
             "#0d0887"
            ],
            [
             0.1111111111111111,
             "#46039f"
            ],
            [
             0.2222222222222222,
             "#7201a8"
            ],
            [
             0.3333333333333333,
             "#9c179e"
            ],
            [
             0.4444444444444444,
             "#bd3786"
            ],
            [
             0.5555555555555556,
             "#d8576b"
            ],
            [
             0.6666666666666666,
             "#ed7953"
            ],
            [
             0.7777777777777778,
             "#fb9f3a"
            ],
            [
             0.8888888888888888,
             "#fdca26"
            ],
            [
             1,
             "#f0f921"
            ]
           ],
           "sequentialminus": [
            [
             0,
             "#0d0887"
            ],
            [
             0.1111111111111111,
             "#46039f"
            ],
            [
             0.2222222222222222,
             "#7201a8"
            ],
            [
             0.3333333333333333,
             "#9c179e"
            ],
            [
             0.4444444444444444,
             "#bd3786"
            ],
            [
             0.5555555555555556,
             "#d8576b"
            ],
            [
             0.6666666666666666,
             "#ed7953"
            ],
            [
             0.7777777777777778,
             "#fb9f3a"
            ],
            [
             0.8888888888888888,
             "#fdca26"
            ],
            [
             1,
             "#f0f921"
            ]
           ]
          },
          "colorway": [
           "#636efa",
           "#EF553B",
           "#00cc96",
           "#ab63fa",
           "#FFA15A",
           "#19d3f3",
           "#FF6692",
           "#B6E880",
           "#FF97FF",
           "#FECB52"
          ],
          "font": {
           "color": "#2a3f5f"
          },
          "geo": {
           "bgcolor": "white",
           "lakecolor": "white",
           "landcolor": "#E5ECF6",
           "showlakes": true,
           "showland": true,
           "subunitcolor": "white"
          },
          "hoverlabel": {
           "align": "left"
          },
          "hovermode": "closest",
          "mapbox": {
           "style": "light"
          },
          "paper_bgcolor": "white",
          "plot_bgcolor": "#E5ECF6",
          "polar": {
           "angularaxis": {
            "gridcolor": "white",
            "linecolor": "white",
            "ticks": ""
           },
           "bgcolor": "#E5ECF6",
           "radialaxis": {
            "gridcolor": "white",
            "linecolor": "white",
            "ticks": ""
           }
          },
          "scene": {
           "xaxis": {
            "backgroundcolor": "#E5ECF6",
            "gridcolor": "white",
            "gridwidth": 2,
            "linecolor": "white",
            "showbackground": true,
            "ticks": "",
            "zerolinecolor": "white"
           },
           "yaxis": {
            "backgroundcolor": "#E5ECF6",
            "gridcolor": "white",
            "gridwidth": 2,
            "linecolor": "white",
            "showbackground": true,
            "ticks": "",
            "zerolinecolor": "white"
           },
           "zaxis": {
            "backgroundcolor": "#E5ECF6",
            "gridcolor": "white",
            "gridwidth": 2,
            "linecolor": "white",
            "showbackground": true,
            "ticks": "",
            "zerolinecolor": "white"
           }
          },
          "shapedefaults": {
           "line": {
            "color": "#2a3f5f"
           }
          },
          "ternary": {
           "aaxis": {
            "gridcolor": "white",
            "linecolor": "white",
            "ticks": ""
           },
           "baxis": {
            "gridcolor": "white",
            "linecolor": "white",
            "ticks": ""
           },
           "bgcolor": "#E5ECF6",
           "caxis": {
            "gridcolor": "white",
            "linecolor": "white",
            "ticks": ""
           }
          },
          "title": {
           "x": 0.05
          },
          "xaxis": {
           "automargin": true,
           "gridcolor": "white",
           "linecolor": "white",
           "ticks": "",
           "title": {
            "standoff": 15
           },
           "zerolinecolor": "white",
           "zerolinewidth": 2
          },
          "yaxis": {
           "automargin": true,
           "gridcolor": "white",
           "linecolor": "white",
           "ticks": "",
           "title": {
            "standoff": 15
           },
           "zerolinecolor": "white",
           "zerolinewidth": 2
          }
         }
        },
        "title": {
         "text": "Confusion Matrix for AdaBoost"
        },
        "xaxis": {
         "scaleanchor": "y",
         "scaleratio": 1,
         "title": {
          "text": "Predicted Label"
         }
        },
        "yaxis": {
         "title": {
          "text": "Actual Label"
         }
        }
       }
      }
     },
     "metadata": {},
     "output_type": "display_data"
    },
    {
     "name": "stdout",
     "output_type": "stream",
     "text": [
      "\n",
      "Training Naive Bayes...\n"
     ]
    },
    {
     "data": {
      "application/vnd.plotly.v1+json": {
       "config": {
        "plotlyServerURL": "https://plot.ly"
       },
       "data": [
        {
         "colorscale": [
          [
           0,
           "rgb(247,251,255)"
          ],
          [
           0.125,
           "rgb(222,235,247)"
          ],
          [
           0.25,
           "rgb(198,219,239)"
          ],
          [
           0.375,
           "rgb(158,202,225)"
          ],
          [
           0.5,
           "rgb(107,174,214)"
          ],
          [
           0.625,
           "rgb(66,146,198)"
          ],
          [
           0.75,
           "rgb(33,113,181)"
          ],
          [
           0.875,
           "rgb(8,81,156)"
          ],
          [
           1,
           "rgb(8,48,107)"
          ]
         ],
         "showscale": true,
         "text": [
          [
           10,
           6,
           0,
           3,
           2,
           0
          ],
          [
           3,
           11,
           0,
           0,
           1,
           0
          ],
          [
           0,
           0,
           13,
           0,
           0,
           0
          ],
          [
           0,
           1,
           0,
           20,
           0,
           0
          ],
          [
           5,
           2,
           0,
           0,
           6,
           1
          ],
          [
           1,
           7,
           0,
           0,
           2,
           5
          ]
         ],
         "texttemplate": "%{text}",
         "type": "heatmap",
         "x": [
          "Predicted 0",
          "Predicted 1",
          "Predicted 2",
          "Predicted 3",
          "Predicted 4",
          "Predicted 5"
         ],
         "y": [
          "Actual 0",
          "Actual 1",
          "Actual 2",
          "Actual 3",
          "Actual 4",
          "Actual 5"
         ],
         "z": [
          [
           10,
           6,
           0,
           3,
           2,
           0
          ],
          [
           3,
           11,
           0,
           0,
           1,
           0
          ],
          [
           0,
           0,
           13,
           0,
           0,
           0
          ],
          [
           0,
           1,
           0,
           20,
           0,
           0
          ],
          [
           5,
           2,
           0,
           0,
           6,
           1
          ],
          [
           1,
           7,
           0,
           0,
           2,
           5
          ]
         ]
        }
       ],
       "layout": {
        "template": {
         "data": {
          "bar": [
           {
            "error_x": {
             "color": "#2a3f5f"
            },
            "error_y": {
             "color": "#2a3f5f"
            },
            "marker": {
             "line": {
              "color": "#E5ECF6",
              "width": 0.5
             },
             "pattern": {
              "fillmode": "overlay",
              "size": 10,
              "solidity": 0.2
             }
            },
            "type": "bar"
           }
          ],
          "barpolar": [
           {
            "marker": {
             "line": {
              "color": "#E5ECF6",
              "width": 0.5
             },
             "pattern": {
              "fillmode": "overlay",
              "size": 10,
              "solidity": 0.2
             }
            },
            "type": "barpolar"
           }
          ],
          "carpet": [
           {
            "aaxis": {
             "endlinecolor": "#2a3f5f",
             "gridcolor": "white",
             "linecolor": "white",
             "minorgridcolor": "white",
             "startlinecolor": "#2a3f5f"
            },
            "baxis": {
             "endlinecolor": "#2a3f5f",
             "gridcolor": "white",
             "linecolor": "white",
             "minorgridcolor": "white",
             "startlinecolor": "#2a3f5f"
            },
            "type": "carpet"
           }
          ],
          "choropleth": [
           {
            "colorbar": {
             "outlinewidth": 0,
             "ticks": ""
            },
            "type": "choropleth"
           }
          ],
          "contour": [
           {
            "colorbar": {
             "outlinewidth": 0,
             "ticks": ""
            },
            "colorscale": [
             [
              0,
              "#0d0887"
             ],
             [
              0.1111111111111111,
              "#46039f"
             ],
             [
              0.2222222222222222,
              "#7201a8"
             ],
             [
              0.3333333333333333,
              "#9c179e"
             ],
             [
              0.4444444444444444,
              "#bd3786"
             ],
             [
              0.5555555555555556,
              "#d8576b"
             ],
             [
              0.6666666666666666,
              "#ed7953"
             ],
             [
              0.7777777777777778,
              "#fb9f3a"
             ],
             [
              0.8888888888888888,
              "#fdca26"
             ],
             [
              1,
              "#f0f921"
             ]
            ],
            "type": "contour"
           }
          ],
          "contourcarpet": [
           {
            "colorbar": {
             "outlinewidth": 0,
             "ticks": ""
            },
            "type": "contourcarpet"
           }
          ],
          "heatmap": [
           {
            "colorbar": {
             "outlinewidth": 0,
             "ticks": ""
            },
            "colorscale": [
             [
              0,
              "#0d0887"
             ],
             [
              0.1111111111111111,
              "#46039f"
             ],
             [
              0.2222222222222222,
              "#7201a8"
             ],
             [
              0.3333333333333333,
              "#9c179e"
             ],
             [
              0.4444444444444444,
              "#bd3786"
             ],
             [
              0.5555555555555556,
              "#d8576b"
             ],
             [
              0.6666666666666666,
              "#ed7953"
             ],
             [
              0.7777777777777778,
              "#fb9f3a"
             ],
             [
              0.8888888888888888,
              "#fdca26"
             ],
             [
              1,
              "#f0f921"
             ]
            ],
            "type": "heatmap"
           }
          ],
          "heatmapgl": [
           {
            "colorbar": {
             "outlinewidth": 0,
             "ticks": ""
            },
            "colorscale": [
             [
              0,
              "#0d0887"
             ],
             [
              0.1111111111111111,
              "#46039f"
             ],
             [
              0.2222222222222222,
              "#7201a8"
             ],
             [
              0.3333333333333333,
              "#9c179e"
             ],
             [
              0.4444444444444444,
              "#bd3786"
             ],
             [
              0.5555555555555556,
              "#d8576b"
             ],
             [
              0.6666666666666666,
              "#ed7953"
             ],
             [
              0.7777777777777778,
              "#fb9f3a"
             ],
             [
              0.8888888888888888,
              "#fdca26"
             ],
             [
              1,
              "#f0f921"
             ]
            ],
            "type": "heatmapgl"
           }
          ],
          "histogram": [
           {
            "marker": {
             "pattern": {
              "fillmode": "overlay",
              "size": 10,
              "solidity": 0.2
             }
            },
            "type": "histogram"
           }
          ],
          "histogram2d": [
           {
            "colorbar": {
             "outlinewidth": 0,
             "ticks": ""
            },
            "colorscale": [
             [
              0,
              "#0d0887"
             ],
             [
              0.1111111111111111,
              "#46039f"
             ],
             [
              0.2222222222222222,
              "#7201a8"
             ],
             [
              0.3333333333333333,
              "#9c179e"
             ],
             [
              0.4444444444444444,
              "#bd3786"
             ],
             [
              0.5555555555555556,
              "#d8576b"
             ],
             [
              0.6666666666666666,
              "#ed7953"
             ],
             [
              0.7777777777777778,
              "#fb9f3a"
             ],
             [
              0.8888888888888888,
              "#fdca26"
             ],
             [
              1,
              "#f0f921"
             ]
            ],
            "type": "histogram2d"
           }
          ],
          "histogram2dcontour": [
           {
            "colorbar": {
             "outlinewidth": 0,
             "ticks": ""
            },
            "colorscale": [
             [
              0,
              "#0d0887"
             ],
             [
              0.1111111111111111,
              "#46039f"
             ],
             [
              0.2222222222222222,
              "#7201a8"
             ],
             [
              0.3333333333333333,
              "#9c179e"
             ],
             [
              0.4444444444444444,
              "#bd3786"
             ],
             [
              0.5555555555555556,
              "#d8576b"
             ],
             [
              0.6666666666666666,
              "#ed7953"
             ],
             [
              0.7777777777777778,
              "#fb9f3a"
             ],
             [
              0.8888888888888888,
              "#fdca26"
             ],
             [
              1,
              "#f0f921"
             ]
            ],
            "type": "histogram2dcontour"
           }
          ],
          "mesh3d": [
           {
            "colorbar": {
             "outlinewidth": 0,
             "ticks": ""
            },
            "type": "mesh3d"
           }
          ],
          "parcoords": [
           {
            "line": {
             "colorbar": {
              "outlinewidth": 0,
              "ticks": ""
             }
            },
            "type": "parcoords"
           }
          ],
          "pie": [
           {
            "automargin": true,
            "type": "pie"
           }
          ],
          "scatter": [
           {
            "fillpattern": {
             "fillmode": "overlay",
             "size": 10,
             "solidity": 0.2
            },
            "type": "scatter"
           }
          ],
          "scatter3d": [
           {
            "line": {
             "colorbar": {
              "outlinewidth": 0,
              "ticks": ""
             }
            },
            "marker": {
             "colorbar": {
              "outlinewidth": 0,
              "ticks": ""
             }
            },
            "type": "scatter3d"
           }
          ],
          "scattercarpet": [
           {
            "marker": {
             "colorbar": {
              "outlinewidth": 0,
              "ticks": ""
             }
            },
            "type": "scattercarpet"
           }
          ],
          "scattergeo": [
           {
            "marker": {
             "colorbar": {
              "outlinewidth": 0,
              "ticks": ""
             }
            },
            "type": "scattergeo"
           }
          ],
          "scattergl": [
           {
            "marker": {
             "colorbar": {
              "outlinewidth": 0,
              "ticks": ""
             }
            },
            "type": "scattergl"
           }
          ],
          "scattermapbox": [
           {
            "marker": {
             "colorbar": {
              "outlinewidth": 0,
              "ticks": ""
             }
            },
            "type": "scattermapbox"
           }
          ],
          "scatterpolar": [
           {
            "marker": {
             "colorbar": {
              "outlinewidth": 0,
              "ticks": ""
             }
            },
            "type": "scatterpolar"
           }
          ],
          "scatterpolargl": [
           {
            "marker": {
             "colorbar": {
              "outlinewidth": 0,
              "ticks": ""
             }
            },
            "type": "scatterpolargl"
           }
          ],
          "scatterternary": [
           {
            "marker": {
             "colorbar": {
              "outlinewidth": 0,
              "ticks": ""
             }
            },
            "type": "scatterternary"
           }
          ],
          "surface": [
           {
            "colorbar": {
             "outlinewidth": 0,
             "ticks": ""
            },
            "colorscale": [
             [
              0,
              "#0d0887"
             ],
             [
              0.1111111111111111,
              "#46039f"
             ],
             [
              0.2222222222222222,
              "#7201a8"
             ],
             [
              0.3333333333333333,
              "#9c179e"
             ],
             [
              0.4444444444444444,
              "#bd3786"
             ],
             [
              0.5555555555555556,
              "#d8576b"
             ],
             [
              0.6666666666666666,
              "#ed7953"
             ],
             [
              0.7777777777777778,
              "#fb9f3a"
             ],
             [
              0.8888888888888888,
              "#fdca26"
             ],
             [
              1,
              "#f0f921"
             ]
            ],
            "type": "surface"
           }
          ],
          "table": [
           {
            "cells": {
             "fill": {
              "color": "#EBF0F8"
             },
             "line": {
              "color": "white"
             }
            },
            "header": {
             "fill": {
              "color": "#C8D4E3"
             },
             "line": {
              "color": "white"
             }
            },
            "type": "table"
           }
          ]
         },
         "layout": {
          "annotationdefaults": {
           "arrowcolor": "#2a3f5f",
           "arrowhead": 0,
           "arrowwidth": 1
          },
          "autotypenumbers": "strict",
          "coloraxis": {
           "colorbar": {
            "outlinewidth": 0,
            "ticks": ""
           }
          },
          "colorscale": {
           "diverging": [
            [
             0,
             "#8e0152"
            ],
            [
             0.1,
             "#c51b7d"
            ],
            [
             0.2,
             "#de77ae"
            ],
            [
             0.3,
             "#f1b6da"
            ],
            [
             0.4,
             "#fde0ef"
            ],
            [
             0.5,
             "#f7f7f7"
            ],
            [
             0.6,
             "#e6f5d0"
            ],
            [
             0.7,
             "#b8e186"
            ],
            [
             0.8,
             "#7fbc41"
            ],
            [
             0.9,
             "#4d9221"
            ],
            [
             1,
             "#276419"
            ]
           ],
           "sequential": [
            [
             0,
             "#0d0887"
            ],
            [
             0.1111111111111111,
             "#46039f"
            ],
            [
             0.2222222222222222,
             "#7201a8"
            ],
            [
             0.3333333333333333,
             "#9c179e"
            ],
            [
             0.4444444444444444,
             "#bd3786"
            ],
            [
             0.5555555555555556,
             "#d8576b"
            ],
            [
             0.6666666666666666,
             "#ed7953"
            ],
            [
             0.7777777777777778,
             "#fb9f3a"
            ],
            [
             0.8888888888888888,
             "#fdca26"
            ],
            [
             1,
             "#f0f921"
            ]
           ],
           "sequentialminus": [
            [
             0,
             "#0d0887"
            ],
            [
             0.1111111111111111,
             "#46039f"
            ],
            [
             0.2222222222222222,
             "#7201a8"
            ],
            [
             0.3333333333333333,
             "#9c179e"
            ],
            [
             0.4444444444444444,
             "#bd3786"
            ],
            [
             0.5555555555555556,
             "#d8576b"
            ],
            [
             0.6666666666666666,
             "#ed7953"
            ],
            [
             0.7777777777777778,
             "#fb9f3a"
            ],
            [
             0.8888888888888888,
             "#fdca26"
            ],
            [
             1,
             "#f0f921"
            ]
           ]
          },
          "colorway": [
           "#636efa",
           "#EF553B",
           "#00cc96",
           "#ab63fa",
           "#FFA15A",
           "#19d3f3",
           "#FF6692",
           "#B6E880",
           "#FF97FF",
           "#FECB52"
          ],
          "font": {
           "color": "#2a3f5f"
          },
          "geo": {
           "bgcolor": "white",
           "lakecolor": "white",
           "landcolor": "#E5ECF6",
           "showlakes": true,
           "showland": true,
           "subunitcolor": "white"
          },
          "hoverlabel": {
           "align": "left"
          },
          "hovermode": "closest",
          "mapbox": {
           "style": "light"
          },
          "paper_bgcolor": "white",
          "plot_bgcolor": "#E5ECF6",
          "polar": {
           "angularaxis": {
            "gridcolor": "white",
            "linecolor": "white",
            "ticks": ""
           },
           "bgcolor": "#E5ECF6",
           "radialaxis": {
            "gridcolor": "white",
            "linecolor": "white",
            "ticks": ""
           }
          },
          "scene": {
           "xaxis": {
            "backgroundcolor": "#E5ECF6",
            "gridcolor": "white",
            "gridwidth": 2,
            "linecolor": "white",
            "showbackground": true,
            "ticks": "",
            "zerolinecolor": "white"
           },
           "yaxis": {
            "backgroundcolor": "#E5ECF6",
            "gridcolor": "white",
            "gridwidth": 2,
            "linecolor": "white",
            "showbackground": true,
            "ticks": "",
            "zerolinecolor": "white"
           },
           "zaxis": {
            "backgroundcolor": "#E5ECF6",
            "gridcolor": "white",
            "gridwidth": 2,
            "linecolor": "white",
            "showbackground": true,
            "ticks": "",
            "zerolinecolor": "white"
           }
          },
          "shapedefaults": {
           "line": {
            "color": "#2a3f5f"
           }
          },
          "ternary": {
           "aaxis": {
            "gridcolor": "white",
            "linecolor": "white",
            "ticks": ""
           },
           "baxis": {
            "gridcolor": "white",
            "linecolor": "white",
            "ticks": ""
           },
           "bgcolor": "#E5ECF6",
           "caxis": {
            "gridcolor": "white",
            "linecolor": "white",
            "ticks": ""
           }
          },
          "title": {
           "x": 0.05
          },
          "xaxis": {
           "automargin": true,
           "gridcolor": "white",
           "linecolor": "white",
           "ticks": "",
           "title": {
            "standoff": 15
           },
           "zerolinecolor": "white",
           "zerolinewidth": 2
          },
          "yaxis": {
           "automargin": true,
           "gridcolor": "white",
           "linecolor": "white",
           "ticks": "",
           "title": {
            "standoff": 15
           },
           "zerolinecolor": "white",
           "zerolinewidth": 2
          }
         }
        },
        "title": {
         "text": "Confusion Matrix for Naive Bayes"
        },
        "xaxis": {
         "scaleanchor": "y",
         "scaleratio": 1,
         "title": {
          "text": "Predicted Label"
         }
        },
        "yaxis": {
         "title": {
          "text": "Actual Label"
         }
        }
       }
      }
     },
     "metadata": {},
     "output_type": "display_data"
    },
    {
     "name": "stdout",
     "output_type": "stream",
     "text": [
      "\n",
      "Training Decision Tree...\n"
     ]
    },
    {
     "data": {
      "application/vnd.plotly.v1+json": {
       "config": {
        "plotlyServerURL": "https://plot.ly"
       },
       "data": [
        {
         "colorscale": [
          [
           0,
           "rgb(247,251,255)"
          ],
          [
           0.125,
           "rgb(222,235,247)"
          ],
          [
           0.25,
           "rgb(198,219,239)"
          ],
          [
           0.375,
           "rgb(158,202,225)"
          ],
          [
           0.5,
           "rgb(107,174,214)"
          ],
          [
           0.625,
           "rgb(66,146,198)"
          ],
          [
           0.75,
           "rgb(33,113,181)"
          ],
          [
           0.875,
           "rgb(8,81,156)"
          ],
          [
           1,
           "rgb(8,48,107)"
          ]
         ],
         "showscale": true,
         "text": [
          [
           7,
           6,
           0,
           2,
           3,
           3
          ],
          [
           0,
           10,
           0,
           2,
           0,
           3
          ],
          [
           0,
           0,
           13,
           0,
           0,
           0
          ],
          [
           0,
           1,
           0,
           20,
           0,
           0
          ],
          [
           1,
           1,
           0,
           0,
           11,
           1
          ],
          [
           0,
           3,
           0,
           1,
           1,
           10
          ]
         ],
         "texttemplate": "%{text}",
         "type": "heatmap",
         "x": [
          "Predicted 0",
          "Predicted 1",
          "Predicted 2",
          "Predicted 3",
          "Predicted 4",
          "Predicted 5"
         ],
         "y": [
          "Actual 0",
          "Actual 1",
          "Actual 2",
          "Actual 3",
          "Actual 4",
          "Actual 5"
         ],
         "z": [
          [
           7,
           6,
           0,
           2,
           3,
           3
          ],
          [
           0,
           10,
           0,
           2,
           0,
           3
          ],
          [
           0,
           0,
           13,
           0,
           0,
           0
          ],
          [
           0,
           1,
           0,
           20,
           0,
           0
          ],
          [
           1,
           1,
           0,
           0,
           11,
           1
          ],
          [
           0,
           3,
           0,
           1,
           1,
           10
          ]
         ]
        }
       ],
       "layout": {
        "template": {
         "data": {
          "bar": [
           {
            "error_x": {
             "color": "#2a3f5f"
            },
            "error_y": {
             "color": "#2a3f5f"
            },
            "marker": {
             "line": {
              "color": "#E5ECF6",
              "width": 0.5
             },
             "pattern": {
              "fillmode": "overlay",
              "size": 10,
              "solidity": 0.2
             }
            },
            "type": "bar"
           }
          ],
          "barpolar": [
           {
            "marker": {
             "line": {
              "color": "#E5ECF6",
              "width": 0.5
             },
             "pattern": {
              "fillmode": "overlay",
              "size": 10,
              "solidity": 0.2
             }
            },
            "type": "barpolar"
           }
          ],
          "carpet": [
           {
            "aaxis": {
             "endlinecolor": "#2a3f5f",
             "gridcolor": "white",
             "linecolor": "white",
             "minorgridcolor": "white",
             "startlinecolor": "#2a3f5f"
            },
            "baxis": {
             "endlinecolor": "#2a3f5f",
             "gridcolor": "white",
             "linecolor": "white",
             "minorgridcolor": "white",
             "startlinecolor": "#2a3f5f"
            },
            "type": "carpet"
           }
          ],
          "choropleth": [
           {
            "colorbar": {
             "outlinewidth": 0,
             "ticks": ""
            },
            "type": "choropleth"
           }
          ],
          "contour": [
           {
            "colorbar": {
             "outlinewidth": 0,
             "ticks": ""
            },
            "colorscale": [
             [
              0,
              "#0d0887"
             ],
             [
              0.1111111111111111,
              "#46039f"
             ],
             [
              0.2222222222222222,
              "#7201a8"
             ],
             [
              0.3333333333333333,
              "#9c179e"
             ],
             [
              0.4444444444444444,
              "#bd3786"
             ],
             [
              0.5555555555555556,
              "#d8576b"
             ],
             [
              0.6666666666666666,
              "#ed7953"
             ],
             [
              0.7777777777777778,
              "#fb9f3a"
             ],
             [
              0.8888888888888888,
              "#fdca26"
             ],
             [
              1,
              "#f0f921"
             ]
            ],
            "type": "contour"
           }
          ],
          "contourcarpet": [
           {
            "colorbar": {
             "outlinewidth": 0,
             "ticks": ""
            },
            "type": "contourcarpet"
           }
          ],
          "heatmap": [
           {
            "colorbar": {
             "outlinewidth": 0,
             "ticks": ""
            },
            "colorscale": [
             [
              0,
              "#0d0887"
             ],
             [
              0.1111111111111111,
              "#46039f"
             ],
             [
              0.2222222222222222,
              "#7201a8"
             ],
             [
              0.3333333333333333,
              "#9c179e"
             ],
             [
              0.4444444444444444,
              "#bd3786"
             ],
             [
              0.5555555555555556,
              "#d8576b"
             ],
             [
              0.6666666666666666,
              "#ed7953"
             ],
             [
              0.7777777777777778,
              "#fb9f3a"
             ],
             [
              0.8888888888888888,
              "#fdca26"
             ],
             [
              1,
              "#f0f921"
             ]
            ],
            "type": "heatmap"
           }
          ],
          "heatmapgl": [
           {
            "colorbar": {
             "outlinewidth": 0,
             "ticks": ""
            },
            "colorscale": [
             [
              0,
              "#0d0887"
             ],
             [
              0.1111111111111111,
              "#46039f"
             ],
             [
              0.2222222222222222,
              "#7201a8"
             ],
             [
              0.3333333333333333,
              "#9c179e"
             ],
             [
              0.4444444444444444,
              "#bd3786"
             ],
             [
              0.5555555555555556,
              "#d8576b"
             ],
             [
              0.6666666666666666,
              "#ed7953"
             ],
             [
              0.7777777777777778,
              "#fb9f3a"
             ],
             [
              0.8888888888888888,
              "#fdca26"
             ],
             [
              1,
              "#f0f921"
             ]
            ],
            "type": "heatmapgl"
           }
          ],
          "histogram": [
           {
            "marker": {
             "pattern": {
              "fillmode": "overlay",
              "size": 10,
              "solidity": 0.2
             }
            },
            "type": "histogram"
           }
          ],
          "histogram2d": [
           {
            "colorbar": {
             "outlinewidth": 0,
             "ticks": ""
            },
            "colorscale": [
             [
              0,
              "#0d0887"
             ],
             [
              0.1111111111111111,
              "#46039f"
             ],
             [
              0.2222222222222222,
              "#7201a8"
             ],
             [
              0.3333333333333333,
              "#9c179e"
             ],
             [
              0.4444444444444444,
              "#bd3786"
             ],
             [
              0.5555555555555556,
              "#d8576b"
             ],
             [
              0.6666666666666666,
              "#ed7953"
             ],
             [
              0.7777777777777778,
              "#fb9f3a"
             ],
             [
              0.8888888888888888,
              "#fdca26"
             ],
             [
              1,
              "#f0f921"
             ]
            ],
            "type": "histogram2d"
           }
          ],
          "histogram2dcontour": [
           {
            "colorbar": {
             "outlinewidth": 0,
             "ticks": ""
            },
            "colorscale": [
             [
              0,
              "#0d0887"
             ],
             [
              0.1111111111111111,
              "#46039f"
             ],
             [
              0.2222222222222222,
              "#7201a8"
             ],
             [
              0.3333333333333333,
              "#9c179e"
             ],
             [
              0.4444444444444444,
              "#bd3786"
             ],
             [
              0.5555555555555556,
              "#d8576b"
             ],
             [
              0.6666666666666666,
              "#ed7953"
             ],
             [
              0.7777777777777778,
              "#fb9f3a"
             ],
             [
              0.8888888888888888,
              "#fdca26"
             ],
             [
              1,
              "#f0f921"
             ]
            ],
            "type": "histogram2dcontour"
           }
          ],
          "mesh3d": [
           {
            "colorbar": {
             "outlinewidth": 0,
             "ticks": ""
            },
            "type": "mesh3d"
           }
          ],
          "parcoords": [
           {
            "line": {
             "colorbar": {
              "outlinewidth": 0,
              "ticks": ""
             }
            },
            "type": "parcoords"
           }
          ],
          "pie": [
           {
            "automargin": true,
            "type": "pie"
           }
          ],
          "scatter": [
           {
            "fillpattern": {
             "fillmode": "overlay",
             "size": 10,
             "solidity": 0.2
            },
            "type": "scatter"
           }
          ],
          "scatter3d": [
           {
            "line": {
             "colorbar": {
              "outlinewidth": 0,
              "ticks": ""
             }
            },
            "marker": {
             "colorbar": {
              "outlinewidth": 0,
              "ticks": ""
             }
            },
            "type": "scatter3d"
           }
          ],
          "scattercarpet": [
           {
            "marker": {
             "colorbar": {
              "outlinewidth": 0,
              "ticks": ""
             }
            },
            "type": "scattercarpet"
           }
          ],
          "scattergeo": [
           {
            "marker": {
             "colorbar": {
              "outlinewidth": 0,
              "ticks": ""
             }
            },
            "type": "scattergeo"
           }
          ],
          "scattergl": [
           {
            "marker": {
             "colorbar": {
              "outlinewidth": 0,
              "ticks": ""
             }
            },
            "type": "scattergl"
           }
          ],
          "scattermapbox": [
           {
            "marker": {
             "colorbar": {
              "outlinewidth": 0,
              "ticks": ""
             }
            },
            "type": "scattermapbox"
           }
          ],
          "scatterpolar": [
           {
            "marker": {
             "colorbar": {
              "outlinewidth": 0,
              "ticks": ""
             }
            },
            "type": "scatterpolar"
           }
          ],
          "scatterpolargl": [
           {
            "marker": {
             "colorbar": {
              "outlinewidth": 0,
              "ticks": ""
             }
            },
            "type": "scatterpolargl"
           }
          ],
          "scatterternary": [
           {
            "marker": {
             "colorbar": {
              "outlinewidth": 0,
              "ticks": ""
             }
            },
            "type": "scatterternary"
           }
          ],
          "surface": [
           {
            "colorbar": {
             "outlinewidth": 0,
             "ticks": ""
            },
            "colorscale": [
             [
              0,
              "#0d0887"
             ],
             [
              0.1111111111111111,
              "#46039f"
             ],
             [
              0.2222222222222222,
              "#7201a8"
             ],
             [
              0.3333333333333333,
              "#9c179e"
             ],
             [
              0.4444444444444444,
              "#bd3786"
             ],
             [
              0.5555555555555556,
              "#d8576b"
             ],
             [
              0.6666666666666666,
              "#ed7953"
             ],
             [
              0.7777777777777778,
              "#fb9f3a"
             ],
             [
              0.8888888888888888,
              "#fdca26"
             ],
             [
              1,
              "#f0f921"
             ]
            ],
            "type": "surface"
           }
          ],
          "table": [
           {
            "cells": {
             "fill": {
              "color": "#EBF0F8"
             },
             "line": {
              "color": "white"
             }
            },
            "header": {
             "fill": {
              "color": "#C8D4E3"
             },
             "line": {
              "color": "white"
             }
            },
            "type": "table"
           }
          ]
         },
         "layout": {
          "annotationdefaults": {
           "arrowcolor": "#2a3f5f",
           "arrowhead": 0,
           "arrowwidth": 1
          },
          "autotypenumbers": "strict",
          "coloraxis": {
           "colorbar": {
            "outlinewidth": 0,
            "ticks": ""
           }
          },
          "colorscale": {
           "diverging": [
            [
             0,
             "#8e0152"
            ],
            [
             0.1,
             "#c51b7d"
            ],
            [
             0.2,
             "#de77ae"
            ],
            [
             0.3,
             "#f1b6da"
            ],
            [
             0.4,
             "#fde0ef"
            ],
            [
             0.5,
             "#f7f7f7"
            ],
            [
             0.6,
             "#e6f5d0"
            ],
            [
             0.7,
             "#b8e186"
            ],
            [
             0.8,
             "#7fbc41"
            ],
            [
             0.9,
             "#4d9221"
            ],
            [
             1,
             "#276419"
            ]
           ],
           "sequential": [
            [
             0,
             "#0d0887"
            ],
            [
             0.1111111111111111,
             "#46039f"
            ],
            [
             0.2222222222222222,
             "#7201a8"
            ],
            [
             0.3333333333333333,
             "#9c179e"
            ],
            [
             0.4444444444444444,
             "#bd3786"
            ],
            [
             0.5555555555555556,
             "#d8576b"
            ],
            [
             0.6666666666666666,
             "#ed7953"
            ],
            [
             0.7777777777777778,
             "#fb9f3a"
            ],
            [
             0.8888888888888888,
             "#fdca26"
            ],
            [
             1,
             "#f0f921"
            ]
           ],
           "sequentialminus": [
            [
             0,
             "#0d0887"
            ],
            [
             0.1111111111111111,
             "#46039f"
            ],
            [
             0.2222222222222222,
             "#7201a8"
            ],
            [
             0.3333333333333333,
             "#9c179e"
            ],
            [
             0.4444444444444444,
             "#bd3786"
            ],
            [
             0.5555555555555556,
             "#d8576b"
            ],
            [
             0.6666666666666666,
             "#ed7953"
            ],
            [
             0.7777777777777778,
             "#fb9f3a"
            ],
            [
             0.8888888888888888,
             "#fdca26"
            ],
            [
             1,
             "#f0f921"
            ]
           ]
          },
          "colorway": [
           "#636efa",
           "#EF553B",
           "#00cc96",
           "#ab63fa",
           "#FFA15A",
           "#19d3f3",
           "#FF6692",
           "#B6E880",
           "#FF97FF",
           "#FECB52"
          ],
          "font": {
           "color": "#2a3f5f"
          },
          "geo": {
           "bgcolor": "white",
           "lakecolor": "white",
           "landcolor": "#E5ECF6",
           "showlakes": true,
           "showland": true,
           "subunitcolor": "white"
          },
          "hoverlabel": {
           "align": "left"
          },
          "hovermode": "closest",
          "mapbox": {
           "style": "light"
          },
          "paper_bgcolor": "white",
          "plot_bgcolor": "#E5ECF6",
          "polar": {
           "angularaxis": {
            "gridcolor": "white",
            "linecolor": "white",
            "ticks": ""
           },
           "bgcolor": "#E5ECF6",
           "radialaxis": {
            "gridcolor": "white",
            "linecolor": "white",
            "ticks": ""
           }
          },
          "scene": {
           "xaxis": {
            "backgroundcolor": "#E5ECF6",
            "gridcolor": "white",
            "gridwidth": 2,
            "linecolor": "white",
            "showbackground": true,
            "ticks": "",
            "zerolinecolor": "white"
           },
           "yaxis": {
            "backgroundcolor": "#E5ECF6",
            "gridcolor": "white",
            "gridwidth": 2,
            "linecolor": "white",
            "showbackground": true,
            "ticks": "",
            "zerolinecolor": "white"
           },
           "zaxis": {
            "backgroundcolor": "#E5ECF6",
            "gridcolor": "white",
            "gridwidth": 2,
            "linecolor": "white",
            "showbackground": true,
            "ticks": "",
            "zerolinecolor": "white"
           }
          },
          "shapedefaults": {
           "line": {
            "color": "#2a3f5f"
           }
          },
          "ternary": {
           "aaxis": {
            "gridcolor": "white",
            "linecolor": "white",
            "ticks": ""
           },
           "baxis": {
            "gridcolor": "white",
            "linecolor": "white",
            "ticks": ""
           },
           "bgcolor": "#E5ECF6",
           "caxis": {
            "gridcolor": "white",
            "linecolor": "white",
            "ticks": ""
           }
          },
          "title": {
           "x": 0.05
          },
          "xaxis": {
           "automargin": true,
           "gridcolor": "white",
           "linecolor": "white",
           "ticks": "",
           "title": {
            "standoff": 15
           },
           "zerolinecolor": "white",
           "zerolinewidth": 2
          },
          "yaxis": {
           "automargin": true,
           "gridcolor": "white",
           "linecolor": "white",
           "ticks": "",
           "title": {
            "standoff": 15
           },
           "zerolinecolor": "white",
           "zerolinewidth": 2
          }
         }
        },
        "title": {
         "text": "Confusion Matrix for Decision Tree"
        },
        "xaxis": {
         "scaleanchor": "y",
         "scaleratio": 1,
         "title": {
          "text": "Predicted Label"
         }
        },
        "yaxis": {
         "title": {
          "text": "Actual Label"
         }
        }
       }
      }
     },
     "metadata": {},
     "output_type": "display_data"
    },
    {
     "name": "stdout",
     "output_type": "stream",
     "text": [
      "\n",
      "Training XGBoost...\n"
     ]
    },
    {
     "data": {
      "application/vnd.plotly.v1+json": {
       "config": {
        "plotlyServerURL": "https://plot.ly"
       },
       "data": [
        {
         "colorscale": [
          [
           0,
           "rgb(247,251,255)"
          ],
          [
           0.125,
           "rgb(222,235,247)"
          ],
          [
           0.25,
           "rgb(198,219,239)"
          ],
          [
           0.375,
           "rgb(158,202,225)"
          ],
          [
           0.5,
           "rgb(107,174,214)"
          ],
          [
           0.625,
           "rgb(66,146,198)"
          ],
          [
           0.75,
           "rgb(33,113,181)"
          ],
          [
           0.875,
           "rgb(8,81,156)"
          ],
          [
           1,
           "rgb(8,48,107)"
          ]
         ],
         "showscale": true,
         "text": [
          [
           10,
           4,
           0,
           0,
           4,
           3
          ],
          [
           0,
           10,
           0,
           0,
           1,
           4
          ],
          [
           0,
           0,
           13,
           0,
           0,
           0
          ],
          [
           0,
           2,
           0,
           19,
           0,
           0
          ],
          [
           2,
           0,
           0,
           0,
           10,
           2
          ],
          [
           0,
           3,
           0,
           0,
           1,
           11
          ]
         ],
         "texttemplate": "%{text}",
         "type": "heatmap",
         "x": [
          "Predicted 0",
          "Predicted 1",
          "Predicted 2",
          "Predicted 3",
          "Predicted 4",
          "Predicted 5"
         ],
         "y": [
          "Actual 0",
          "Actual 1",
          "Actual 2",
          "Actual 3",
          "Actual 4",
          "Actual 5"
         ],
         "z": [
          [
           10,
           4,
           0,
           0,
           4,
           3
          ],
          [
           0,
           10,
           0,
           0,
           1,
           4
          ],
          [
           0,
           0,
           13,
           0,
           0,
           0
          ],
          [
           0,
           2,
           0,
           19,
           0,
           0
          ],
          [
           2,
           0,
           0,
           0,
           10,
           2
          ],
          [
           0,
           3,
           0,
           0,
           1,
           11
          ]
         ]
        }
       ],
       "layout": {
        "template": {
         "data": {
          "bar": [
           {
            "error_x": {
             "color": "#2a3f5f"
            },
            "error_y": {
             "color": "#2a3f5f"
            },
            "marker": {
             "line": {
              "color": "#E5ECF6",
              "width": 0.5
             },
             "pattern": {
              "fillmode": "overlay",
              "size": 10,
              "solidity": 0.2
             }
            },
            "type": "bar"
           }
          ],
          "barpolar": [
           {
            "marker": {
             "line": {
              "color": "#E5ECF6",
              "width": 0.5
             },
             "pattern": {
              "fillmode": "overlay",
              "size": 10,
              "solidity": 0.2
             }
            },
            "type": "barpolar"
           }
          ],
          "carpet": [
           {
            "aaxis": {
             "endlinecolor": "#2a3f5f",
             "gridcolor": "white",
             "linecolor": "white",
             "minorgridcolor": "white",
             "startlinecolor": "#2a3f5f"
            },
            "baxis": {
             "endlinecolor": "#2a3f5f",
             "gridcolor": "white",
             "linecolor": "white",
             "minorgridcolor": "white",
             "startlinecolor": "#2a3f5f"
            },
            "type": "carpet"
           }
          ],
          "choropleth": [
           {
            "colorbar": {
             "outlinewidth": 0,
             "ticks": ""
            },
            "type": "choropleth"
           }
          ],
          "contour": [
           {
            "colorbar": {
             "outlinewidth": 0,
             "ticks": ""
            },
            "colorscale": [
             [
              0,
              "#0d0887"
             ],
             [
              0.1111111111111111,
              "#46039f"
             ],
             [
              0.2222222222222222,
              "#7201a8"
             ],
             [
              0.3333333333333333,
              "#9c179e"
             ],
             [
              0.4444444444444444,
              "#bd3786"
             ],
             [
              0.5555555555555556,
              "#d8576b"
             ],
             [
              0.6666666666666666,
              "#ed7953"
             ],
             [
              0.7777777777777778,
              "#fb9f3a"
             ],
             [
              0.8888888888888888,
              "#fdca26"
             ],
             [
              1,
              "#f0f921"
             ]
            ],
            "type": "contour"
           }
          ],
          "contourcarpet": [
           {
            "colorbar": {
             "outlinewidth": 0,
             "ticks": ""
            },
            "type": "contourcarpet"
           }
          ],
          "heatmap": [
           {
            "colorbar": {
             "outlinewidth": 0,
             "ticks": ""
            },
            "colorscale": [
             [
              0,
              "#0d0887"
             ],
             [
              0.1111111111111111,
              "#46039f"
             ],
             [
              0.2222222222222222,
              "#7201a8"
             ],
             [
              0.3333333333333333,
              "#9c179e"
             ],
             [
              0.4444444444444444,
              "#bd3786"
             ],
             [
              0.5555555555555556,
              "#d8576b"
             ],
             [
              0.6666666666666666,
              "#ed7953"
             ],
             [
              0.7777777777777778,
              "#fb9f3a"
             ],
             [
              0.8888888888888888,
              "#fdca26"
             ],
             [
              1,
              "#f0f921"
             ]
            ],
            "type": "heatmap"
           }
          ],
          "heatmapgl": [
           {
            "colorbar": {
             "outlinewidth": 0,
             "ticks": ""
            },
            "colorscale": [
             [
              0,
              "#0d0887"
             ],
             [
              0.1111111111111111,
              "#46039f"
             ],
             [
              0.2222222222222222,
              "#7201a8"
             ],
             [
              0.3333333333333333,
              "#9c179e"
             ],
             [
              0.4444444444444444,
              "#bd3786"
             ],
             [
              0.5555555555555556,
              "#d8576b"
             ],
             [
              0.6666666666666666,
              "#ed7953"
             ],
             [
              0.7777777777777778,
              "#fb9f3a"
             ],
             [
              0.8888888888888888,
              "#fdca26"
             ],
             [
              1,
              "#f0f921"
             ]
            ],
            "type": "heatmapgl"
           }
          ],
          "histogram": [
           {
            "marker": {
             "pattern": {
              "fillmode": "overlay",
              "size": 10,
              "solidity": 0.2
             }
            },
            "type": "histogram"
           }
          ],
          "histogram2d": [
           {
            "colorbar": {
             "outlinewidth": 0,
             "ticks": ""
            },
            "colorscale": [
             [
              0,
              "#0d0887"
             ],
             [
              0.1111111111111111,
              "#46039f"
             ],
             [
              0.2222222222222222,
              "#7201a8"
             ],
             [
              0.3333333333333333,
              "#9c179e"
             ],
             [
              0.4444444444444444,
              "#bd3786"
             ],
             [
              0.5555555555555556,
              "#d8576b"
             ],
             [
              0.6666666666666666,
              "#ed7953"
             ],
             [
              0.7777777777777778,
              "#fb9f3a"
             ],
             [
              0.8888888888888888,
              "#fdca26"
             ],
             [
              1,
              "#f0f921"
             ]
            ],
            "type": "histogram2d"
           }
          ],
          "histogram2dcontour": [
           {
            "colorbar": {
             "outlinewidth": 0,
             "ticks": ""
            },
            "colorscale": [
             [
              0,
              "#0d0887"
             ],
             [
              0.1111111111111111,
              "#46039f"
             ],
             [
              0.2222222222222222,
              "#7201a8"
             ],
             [
              0.3333333333333333,
              "#9c179e"
             ],
             [
              0.4444444444444444,
              "#bd3786"
             ],
             [
              0.5555555555555556,
              "#d8576b"
             ],
             [
              0.6666666666666666,
              "#ed7953"
             ],
             [
              0.7777777777777778,
              "#fb9f3a"
             ],
             [
              0.8888888888888888,
              "#fdca26"
             ],
             [
              1,
              "#f0f921"
             ]
            ],
            "type": "histogram2dcontour"
           }
          ],
          "mesh3d": [
           {
            "colorbar": {
             "outlinewidth": 0,
             "ticks": ""
            },
            "type": "mesh3d"
           }
          ],
          "parcoords": [
           {
            "line": {
             "colorbar": {
              "outlinewidth": 0,
              "ticks": ""
             }
            },
            "type": "parcoords"
           }
          ],
          "pie": [
           {
            "automargin": true,
            "type": "pie"
           }
          ],
          "scatter": [
           {
            "fillpattern": {
             "fillmode": "overlay",
             "size": 10,
             "solidity": 0.2
            },
            "type": "scatter"
           }
          ],
          "scatter3d": [
           {
            "line": {
             "colorbar": {
              "outlinewidth": 0,
              "ticks": ""
             }
            },
            "marker": {
             "colorbar": {
              "outlinewidth": 0,
              "ticks": ""
             }
            },
            "type": "scatter3d"
           }
          ],
          "scattercarpet": [
           {
            "marker": {
             "colorbar": {
              "outlinewidth": 0,
              "ticks": ""
             }
            },
            "type": "scattercarpet"
           }
          ],
          "scattergeo": [
           {
            "marker": {
             "colorbar": {
              "outlinewidth": 0,
              "ticks": ""
             }
            },
            "type": "scattergeo"
           }
          ],
          "scattergl": [
           {
            "marker": {
             "colorbar": {
              "outlinewidth": 0,
              "ticks": ""
             }
            },
            "type": "scattergl"
           }
          ],
          "scattermapbox": [
           {
            "marker": {
             "colorbar": {
              "outlinewidth": 0,
              "ticks": ""
             }
            },
            "type": "scattermapbox"
           }
          ],
          "scatterpolar": [
           {
            "marker": {
             "colorbar": {
              "outlinewidth": 0,
              "ticks": ""
             }
            },
            "type": "scatterpolar"
           }
          ],
          "scatterpolargl": [
           {
            "marker": {
             "colorbar": {
              "outlinewidth": 0,
              "ticks": ""
             }
            },
            "type": "scatterpolargl"
           }
          ],
          "scatterternary": [
           {
            "marker": {
             "colorbar": {
              "outlinewidth": 0,
              "ticks": ""
             }
            },
            "type": "scatterternary"
           }
          ],
          "surface": [
           {
            "colorbar": {
             "outlinewidth": 0,
             "ticks": ""
            },
            "colorscale": [
             [
              0,
              "#0d0887"
             ],
             [
              0.1111111111111111,
              "#46039f"
             ],
             [
              0.2222222222222222,
              "#7201a8"
             ],
             [
              0.3333333333333333,
              "#9c179e"
             ],
             [
              0.4444444444444444,
              "#bd3786"
             ],
             [
              0.5555555555555556,
              "#d8576b"
             ],
             [
              0.6666666666666666,
              "#ed7953"
             ],
             [
              0.7777777777777778,
              "#fb9f3a"
             ],
             [
              0.8888888888888888,
              "#fdca26"
             ],
             [
              1,
              "#f0f921"
             ]
            ],
            "type": "surface"
           }
          ],
          "table": [
           {
            "cells": {
             "fill": {
              "color": "#EBF0F8"
             },
             "line": {
              "color": "white"
             }
            },
            "header": {
             "fill": {
              "color": "#C8D4E3"
             },
             "line": {
              "color": "white"
             }
            },
            "type": "table"
           }
          ]
         },
         "layout": {
          "annotationdefaults": {
           "arrowcolor": "#2a3f5f",
           "arrowhead": 0,
           "arrowwidth": 1
          },
          "autotypenumbers": "strict",
          "coloraxis": {
           "colorbar": {
            "outlinewidth": 0,
            "ticks": ""
           }
          },
          "colorscale": {
           "diverging": [
            [
             0,
             "#8e0152"
            ],
            [
             0.1,
             "#c51b7d"
            ],
            [
             0.2,
             "#de77ae"
            ],
            [
             0.3,
             "#f1b6da"
            ],
            [
             0.4,
             "#fde0ef"
            ],
            [
             0.5,
             "#f7f7f7"
            ],
            [
             0.6,
             "#e6f5d0"
            ],
            [
             0.7,
             "#b8e186"
            ],
            [
             0.8,
             "#7fbc41"
            ],
            [
             0.9,
             "#4d9221"
            ],
            [
             1,
             "#276419"
            ]
           ],
           "sequential": [
            [
             0,
             "#0d0887"
            ],
            [
             0.1111111111111111,
             "#46039f"
            ],
            [
             0.2222222222222222,
             "#7201a8"
            ],
            [
             0.3333333333333333,
             "#9c179e"
            ],
            [
             0.4444444444444444,
             "#bd3786"
            ],
            [
             0.5555555555555556,
             "#d8576b"
            ],
            [
             0.6666666666666666,
             "#ed7953"
            ],
            [
             0.7777777777777778,
             "#fb9f3a"
            ],
            [
             0.8888888888888888,
             "#fdca26"
            ],
            [
             1,
             "#f0f921"
            ]
           ],
           "sequentialminus": [
            [
             0,
             "#0d0887"
            ],
            [
             0.1111111111111111,
             "#46039f"
            ],
            [
             0.2222222222222222,
             "#7201a8"
            ],
            [
             0.3333333333333333,
             "#9c179e"
            ],
            [
             0.4444444444444444,
             "#bd3786"
            ],
            [
             0.5555555555555556,
             "#d8576b"
            ],
            [
             0.6666666666666666,
             "#ed7953"
            ],
            [
             0.7777777777777778,
             "#fb9f3a"
            ],
            [
             0.8888888888888888,
             "#fdca26"
            ],
            [
             1,
             "#f0f921"
            ]
           ]
          },
          "colorway": [
           "#636efa",
           "#EF553B",
           "#00cc96",
           "#ab63fa",
           "#FFA15A",
           "#19d3f3",
           "#FF6692",
           "#B6E880",
           "#FF97FF",
           "#FECB52"
          ],
          "font": {
           "color": "#2a3f5f"
          },
          "geo": {
           "bgcolor": "white",
           "lakecolor": "white",
           "landcolor": "#E5ECF6",
           "showlakes": true,
           "showland": true,
           "subunitcolor": "white"
          },
          "hoverlabel": {
           "align": "left"
          },
          "hovermode": "closest",
          "mapbox": {
           "style": "light"
          },
          "paper_bgcolor": "white",
          "plot_bgcolor": "#E5ECF6",
          "polar": {
           "angularaxis": {
            "gridcolor": "white",
            "linecolor": "white",
            "ticks": ""
           },
           "bgcolor": "#E5ECF6",
           "radialaxis": {
            "gridcolor": "white",
            "linecolor": "white",
            "ticks": ""
           }
          },
          "scene": {
           "xaxis": {
            "backgroundcolor": "#E5ECF6",
            "gridcolor": "white",
            "gridwidth": 2,
            "linecolor": "white",
            "showbackground": true,
            "ticks": "",
            "zerolinecolor": "white"
           },
           "yaxis": {
            "backgroundcolor": "#E5ECF6",
            "gridcolor": "white",
            "gridwidth": 2,
            "linecolor": "white",
            "showbackground": true,
            "ticks": "",
            "zerolinecolor": "white"
           },
           "zaxis": {
            "backgroundcolor": "#E5ECF6",
            "gridcolor": "white",
            "gridwidth": 2,
            "linecolor": "white",
            "showbackground": true,
            "ticks": "",
            "zerolinecolor": "white"
           }
          },
          "shapedefaults": {
           "line": {
            "color": "#2a3f5f"
           }
          },
          "ternary": {
           "aaxis": {
            "gridcolor": "white",
            "linecolor": "white",
            "ticks": ""
           },
           "baxis": {
            "gridcolor": "white",
            "linecolor": "white",
            "ticks": ""
           },
           "bgcolor": "#E5ECF6",
           "caxis": {
            "gridcolor": "white",
            "linecolor": "white",
            "ticks": ""
           }
          },
          "title": {
           "x": 0.05
          },
          "xaxis": {
           "automargin": true,
           "gridcolor": "white",
           "linecolor": "white",
           "ticks": "",
           "title": {
            "standoff": 15
           },
           "zerolinecolor": "white",
           "zerolinewidth": 2
          },
          "yaxis": {
           "automargin": true,
           "gridcolor": "white",
           "linecolor": "white",
           "ticks": "",
           "title": {
            "standoff": 15
           },
           "zerolinecolor": "white",
           "zerolinewidth": 2
          }
         }
        },
        "title": {
         "text": "Confusion Matrix for XGBoost"
        },
        "xaxis": {
         "scaleanchor": "y",
         "scaleratio": 1,
         "title": {
          "text": "Predicted Label"
         }
        },
        "yaxis": {
         "title": {
          "text": "Actual Label"
         }
        }
       }
      }
     },
     "metadata": {},
     "output_type": "display_data"
    },
    {
     "name": "stdout",
     "output_type": "stream",
     "text": [
      "\n",
      "Training RandomForest_1...\n"
     ]
    },
    {
     "data": {
      "application/vnd.plotly.v1+json": {
       "config": {
        "plotlyServerURL": "https://plot.ly"
       },
       "data": [
        {
         "colorscale": [
          [
           0,
           "rgb(247,251,255)"
          ],
          [
           0.125,
           "rgb(222,235,247)"
          ],
          [
           0.25,
           "rgb(198,219,239)"
          ],
          [
           0.375,
           "rgb(158,202,225)"
          ],
          [
           0.5,
           "rgb(107,174,214)"
          ],
          [
           0.625,
           "rgb(66,146,198)"
          ],
          [
           0.75,
           "rgb(33,113,181)"
          ],
          [
           0.875,
           "rgb(8,81,156)"
          ],
          [
           1,
           "rgb(8,48,107)"
          ]
         ],
         "showscale": true,
         "text": [
          [
           12,
           2,
           0,
           0,
           5,
           2
          ],
          [
           0,
           10,
           0,
           0,
           1,
           4
          ],
          [
           0,
           0,
           13,
           0,
           0,
           0
          ],
          [
           0,
           2,
           0,
           19,
           0,
           0
          ],
          [
           3,
           1,
           0,
           0,
           9,
           1
          ],
          [
           0,
           2,
           0,
           0,
           2,
           11
          ]
         ],
         "texttemplate": "%{text}",
         "type": "heatmap",
         "x": [
          "Predicted 0",
          "Predicted 1",
          "Predicted 2",
          "Predicted 3",
          "Predicted 4",
          "Predicted 5"
         ],
         "y": [
          "Actual 0",
          "Actual 1",
          "Actual 2",
          "Actual 3",
          "Actual 4",
          "Actual 5"
         ],
         "z": [
          [
           12,
           2,
           0,
           0,
           5,
           2
          ],
          [
           0,
           10,
           0,
           0,
           1,
           4
          ],
          [
           0,
           0,
           13,
           0,
           0,
           0
          ],
          [
           0,
           2,
           0,
           19,
           0,
           0
          ],
          [
           3,
           1,
           0,
           0,
           9,
           1
          ],
          [
           0,
           2,
           0,
           0,
           2,
           11
          ]
         ]
        }
       ],
       "layout": {
        "template": {
         "data": {
          "bar": [
           {
            "error_x": {
             "color": "#2a3f5f"
            },
            "error_y": {
             "color": "#2a3f5f"
            },
            "marker": {
             "line": {
              "color": "#E5ECF6",
              "width": 0.5
             },
             "pattern": {
              "fillmode": "overlay",
              "size": 10,
              "solidity": 0.2
             }
            },
            "type": "bar"
           }
          ],
          "barpolar": [
           {
            "marker": {
             "line": {
              "color": "#E5ECF6",
              "width": 0.5
             },
             "pattern": {
              "fillmode": "overlay",
              "size": 10,
              "solidity": 0.2
             }
            },
            "type": "barpolar"
           }
          ],
          "carpet": [
           {
            "aaxis": {
             "endlinecolor": "#2a3f5f",
             "gridcolor": "white",
             "linecolor": "white",
             "minorgridcolor": "white",
             "startlinecolor": "#2a3f5f"
            },
            "baxis": {
             "endlinecolor": "#2a3f5f",
             "gridcolor": "white",
             "linecolor": "white",
             "minorgridcolor": "white",
             "startlinecolor": "#2a3f5f"
            },
            "type": "carpet"
           }
          ],
          "choropleth": [
           {
            "colorbar": {
             "outlinewidth": 0,
             "ticks": ""
            },
            "type": "choropleth"
           }
          ],
          "contour": [
           {
            "colorbar": {
             "outlinewidth": 0,
             "ticks": ""
            },
            "colorscale": [
             [
              0,
              "#0d0887"
             ],
             [
              0.1111111111111111,
              "#46039f"
             ],
             [
              0.2222222222222222,
              "#7201a8"
             ],
             [
              0.3333333333333333,
              "#9c179e"
             ],
             [
              0.4444444444444444,
              "#bd3786"
             ],
             [
              0.5555555555555556,
              "#d8576b"
             ],
             [
              0.6666666666666666,
              "#ed7953"
             ],
             [
              0.7777777777777778,
              "#fb9f3a"
             ],
             [
              0.8888888888888888,
              "#fdca26"
             ],
             [
              1,
              "#f0f921"
             ]
            ],
            "type": "contour"
           }
          ],
          "contourcarpet": [
           {
            "colorbar": {
             "outlinewidth": 0,
             "ticks": ""
            },
            "type": "contourcarpet"
           }
          ],
          "heatmap": [
           {
            "colorbar": {
             "outlinewidth": 0,
             "ticks": ""
            },
            "colorscale": [
             [
              0,
              "#0d0887"
             ],
             [
              0.1111111111111111,
              "#46039f"
             ],
             [
              0.2222222222222222,
              "#7201a8"
             ],
             [
              0.3333333333333333,
              "#9c179e"
             ],
             [
              0.4444444444444444,
              "#bd3786"
             ],
             [
              0.5555555555555556,
              "#d8576b"
             ],
             [
              0.6666666666666666,
              "#ed7953"
             ],
             [
              0.7777777777777778,
              "#fb9f3a"
             ],
             [
              0.8888888888888888,
              "#fdca26"
             ],
             [
              1,
              "#f0f921"
             ]
            ],
            "type": "heatmap"
           }
          ],
          "heatmapgl": [
           {
            "colorbar": {
             "outlinewidth": 0,
             "ticks": ""
            },
            "colorscale": [
             [
              0,
              "#0d0887"
             ],
             [
              0.1111111111111111,
              "#46039f"
             ],
             [
              0.2222222222222222,
              "#7201a8"
             ],
             [
              0.3333333333333333,
              "#9c179e"
             ],
             [
              0.4444444444444444,
              "#bd3786"
             ],
             [
              0.5555555555555556,
              "#d8576b"
             ],
             [
              0.6666666666666666,
              "#ed7953"
             ],
             [
              0.7777777777777778,
              "#fb9f3a"
             ],
             [
              0.8888888888888888,
              "#fdca26"
             ],
             [
              1,
              "#f0f921"
             ]
            ],
            "type": "heatmapgl"
           }
          ],
          "histogram": [
           {
            "marker": {
             "pattern": {
              "fillmode": "overlay",
              "size": 10,
              "solidity": 0.2
             }
            },
            "type": "histogram"
           }
          ],
          "histogram2d": [
           {
            "colorbar": {
             "outlinewidth": 0,
             "ticks": ""
            },
            "colorscale": [
             [
              0,
              "#0d0887"
             ],
             [
              0.1111111111111111,
              "#46039f"
             ],
             [
              0.2222222222222222,
              "#7201a8"
             ],
             [
              0.3333333333333333,
              "#9c179e"
             ],
             [
              0.4444444444444444,
              "#bd3786"
             ],
             [
              0.5555555555555556,
              "#d8576b"
             ],
             [
              0.6666666666666666,
              "#ed7953"
             ],
             [
              0.7777777777777778,
              "#fb9f3a"
             ],
             [
              0.8888888888888888,
              "#fdca26"
             ],
             [
              1,
              "#f0f921"
             ]
            ],
            "type": "histogram2d"
           }
          ],
          "histogram2dcontour": [
           {
            "colorbar": {
             "outlinewidth": 0,
             "ticks": ""
            },
            "colorscale": [
             [
              0,
              "#0d0887"
             ],
             [
              0.1111111111111111,
              "#46039f"
             ],
             [
              0.2222222222222222,
              "#7201a8"
             ],
             [
              0.3333333333333333,
              "#9c179e"
             ],
             [
              0.4444444444444444,
              "#bd3786"
             ],
             [
              0.5555555555555556,
              "#d8576b"
             ],
             [
              0.6666666666666666,
              "#ed7953"
             ],
             [
              0.7777777777777778,
              "#fb9f3a"
             ],
             [
              0.8888888888888888,
              "#fdca26"
             ],
             [
              1,
              "#f0f921"
             ]
            ],
            "type": "histogram2dcontour"
           }
          ],
          "mesh3d": [
           {
            "colorbar": {
             "outlinewidth": 0,
             "ticks": ""
            },
            "type": "mesh3d"
           }
          ],
          "parcoords": [
           {
            "line": {
             "colorbar": {
              "outlinewidth": 0,
              "ticks": ""
             }
            },
            "type": "parcoords"
           }
          ],
          "pie": [
           {
            "automargin": true,
            "type": "pie"
           }
          ],
          "scatter": [
           {
            "fillpattern": {
             "fillmode": "overlay",
             "size": 10,
             "solidity": 0.2
            },
            "type": "scatter"
           }
          ],
          "scatter3d": [
           {
            "line": {
             "colorbar": {
              "outlinewidth": 0,
              "ticks": ""
             }
            },
            "marker": {
             "colorbar": {
              "outlinewidth": 0,
              "ticks": ""
             }
            },
            "type": "scatter3d"
           }
          ],
          "scattercarpet": [
           {
            "marker": {
             "colorbar": {
              "outlinewidth": 0,
              "ticks": ""
             }
            },
            "type": "scattercarpet"
           }
          ],
          "scattergeo": [
           {
            "marker": {
             "colorbar": {
              "outlinewidth": 0,
              "ticks": ""
             }
            },
            "type": "scattergeo"
           }
          ],
          "scattergl": [
           {
            "marker": {
             "colorbar": {
              "outlinewidth": 0,
              "ticks": ""
             }
            },
            "type": "scattergl"
           }
          ],
          "scattermapbox": [
           {
            "marker": {
             "colorbar": {
              "outlinewidth": 0,
              "ticks": ""
             }
            },
            "type": "scattermapbox"
           }
          ],
          "scatterpolar": [
           {
            "marker": {
             "colorbar": {
              "outlinewidth": 0,
              "ticks": ""
             }
            },
            "type": "scatterpolar"
           }
          ],
          "scatterpolargl": [
           {
            "marker": {
             "colorbar": {
              "outlinewidth": 0,
              "ticks": ""
             }
            },
            "type": "scatterpolargl"
           }
          ],
          "scatterternary": [
           {
            "marker": {
             "colorbar": {
              "outlinewidth": 0,
              "ticks": ""
             }
            },
            "type": "scatterternary"
           }
          ],
          "surface": [
           {
            "colorbar": {
             "outlinewidth": 0,
             "ticks": ""
            },
            "colorscale": [
             [
              0,
              "#0d0887"
             ],
             [
              0.1111111111111111,
              "#46039f"
             ],
             [
              0.2222222222222222,
              "#7201a8"
             ],
             [
              0.3333333333333333,
              "#9c179e"
             ],
             [
              0.4444444444444444,
              "#bd3786"
             ],
             [
              0.5555555555555556,
              "#d8576b"
             ],
             [
              0.6666666666666666,
              "#ed7953"
             ],
             [
              0.7777777777777778,
              "#fb9f3a"
             ],
             [
              0.8888888888888888,
              "#fdca26"
             ],
             [
              1,
              "#f0f921"
             ]
            ],
            "type": "surface"
           }
          ],
          "table": [
           {
            "cells": {
             "fill": {
              "color": "#EBF0F8"
             },
             "line": {
              "color": "white"
             }
            },
            "header": {
             "fill": {
              "color": "#C8D4E3"
             },
             "line": {
              "color": "white"
             }
            },
            "type": "table"
           }
          ]
         },
         "layout": {
          "annotationdefaults": {
           "arrowcolor": "#2a3f5f",
           "arrowhead": 0,
           "arrowwidth": 1
          },
          "autotypenumbers": "strict",
          "coloraxis": {
           "colorbar": {
            "outlinewidth": 0,
            "ticks": ""
           }
          },
          "colorscale": {
           "diverging": [
            [
             0,
             "#8e0152"
            ],
            [
             0.1,
             "#c51b7d"
            ],
            [
             0.2,
             "#de77ae"
            ],
            [
             0.3,
             "#f1b6da"
            ],
            [
             0.4,
             "#fde0ef"
            ],
            [
             0.5,
             "#f7f7f7"
            ],
            [
             0.6,
             "#e6f5d0"
            ],
            [
             0.7,
             "#b8e186"
            ],
            [
             0.8,
             "#7fbc41"
            ],
            [
             0.9,
             "#4d9221"
            ],
            [
             1,
             "#276419"
            ]
           ],
           "sequential": [
            [
             0,
             "#0d0887"
            ],
            [
             0.1111111111111111,
             "#46039f"
            ],
            [
             0.2222222222222222,
             "#7201a8"
            ],
            [
             0.3333333333333333,
             "#9c179e"
            ],
            [
             0.4444444444444444,
             "#bd3786"
            ],
            [
             0.5555555555555556,
             "#d8576b"
            ],
            [
             0.6666666666666666,
             "#ed7953"
            ],
            [
             0.7777777777777778,
             "#fb9f3a"
            ],
            [
             0.8888888888888888,
             "#fdca26"
            ],
            [
             1,
             "#f0f921"
            ]
           ],
           "sequentialminus": [
            [
             0,
             "#0d0887"
            ],
            [
             0.1111111111111111,
             "#46039f"
            ],
            [
             0.2222222222222222,
             "#7201a8"
            ],
            [
             0.3333333333333333,
             "#9c179e"
            ],
            [
             0.4444444444444444,
             "#bd3786"
            ],
            [
             0.5555555555555556,
             "#d8576b"
            ],
            [
             0.6666666666666666,
             "#ed7953"
            ],
            [
             0.7777777777777778,
             "#fb9f3a"
            ],
            [
             0.8888888888888888,
             "#fdca26"
            ],
            [
             1,
             "#f0f921"
            ]
           ]
          },
          "colorway": [
           "#636efa",
           "#EF553B",
           "#00cc96",
           "#ab63fa",
           "#FFA15A",
           "#19d3f3",
           "#FF6692",
           "#B6E880",
           "#FF97FF",
           "#FECB52"
          ],
          "font": {
           "color": "#2a3f5f"
          },
          "geo": {
           "bgcolor": "white",
           "lakecolor": "white",
           "landcolor": "#E5ECF6",
           "showlakes": true,
           "showland": true,
           "subunitcolor": "white"
          },
          "hoverlabel": {
           "align": "left"
          },
          "hovermode": "closest",
          "mapbox": {
           "style": "light"
          },
          "paper_bgcolor": "white",
          "plot_bgcolor": "#E5ECF6",
          "polar": {
           "angularaxis": {
            "gridcolor": "white",
            "linecolor": "white",
            "ticks": ""
           },
           "bgcolor": "#E5ECF6",
           "radialaxis": {
            "gridcolor": "white",
            "linecolor": "white",
            "ticks": ""
           }
          },
          "scene": {
           "xaxis": {
            "backgroundcolor": "#E5ECF6",
            "gridcolor": "white",
            "gridwidth": 2,
            "linecolor": "white",
            "showbackground": true,
            "ticks": "",
            "zerolinecolor": "white"
           },
           "yaxis": {
            "backgroundcolor": "#E5ECF6",
            "gridcolor": "white",
            "gridwidth": 2,
            "linecolor": "white",
            "showbackground": true,
            "ticks": "",
            "zerolinecolor": "white"
           },
           "zaxis": {
            "backgroundcolor": "#E5ECF6",
            "gridcolor": "white",
            "gridwidth": 2,
            "linecolor": "white",
            "showbackground": true,
            "ticks": "",
            "zerolinecolor": "white"
           }
          },
          "shapedefaults": {
           "line": {
            "color": "#2a3f5f"
           }
          },
          "ternary": {
           "aaxis": {
            "gridcolor": "white",
            "linecolor": "white",
            "ticks": ""
           },
           "baxis": {
            "gridcolor": "white",
            "linecolor": "white",
            "ticks": ""
           },
           "bgcolor": "#E5ECF6",
           "caxis": {
            "gridcolor": "white",
            "linecolor": "white",
            "ticks": ""
           }
          },
          "title": {
           "x": 0.05
          },
          "xaxis": {
           "automargin": true,
           "gridcolor": "white",
           "linecolor": "white",
           "ticks": "",
           "title": {
            "standoff": 15
           },
           "zerolinecolor": "white",
           "zerolinewidth": 2
          },
          "yaxis": {
           "automargin": true,
           "gridcolor": "white",
           "linecolor": "white",
           "ticks": "",
           "title": {
            "standoff": 15
           },
           "zerolinecolor": "white",
           "zerolinewidth": 2
          }
         }
        },
        "title": {
         "text": "Confusion Matrix for RandomForest_1"
        },
        "xaxis": {
         "scaleanchor": "y",
         "scaleratio": 1,
         "title": {
          "text": "Predicted Label"
         }
        },
        "yaxis": {
         "title": {
          "text": "Actual Label"
         }
        }
       }
      }
     },
     "metadata": {},
     "output_type": "display_data"
    },
    {
     "name": "stdout",
     "output_type": "stream",
     "text": [
      "\n",
      "Training RandomForest_3...\n"
     ]
    },
    {
     "data": {
      "application/vnd.plotly.v1+json": {
       "config": {
        "plotlyServerURL": "https://plot.ly"
       },
       "data": [
        {
         "colorscale": [
          [
           0,
           "rgb(247,251,255)"
          ],
          [
           0.125,
           "rgb(222,235,247)"
          ],
          [
           0.25,
           "rgb(198,219,239)"
          ],
          [
           0.375,
           "rgb(158,202,225)"
          ],
          [
           0.5,
           "rgb(107,174,214)"
          ],
          [
           0.625,
           "rgb(66,146,198)"
          ],
          [
           0.75,
           "rgb(33,113,181)"
          ],
          [
           0.875,
           "rgb(8,81,156)"
          ],
          [
           1,
           "rgb(8,48,107)"
          ]
         ],
         "showscale": true,
         "text": [
          [
           12,
           3,
           0,
           0,
           5,
           1
          ],
          [
           0,
           9,
           0,
           0,
           1,
           5
          ],
          [
           0,
           0,
           13,
           0,
           0,
           0
          ],
          [
           0,
           2,
           0,
           19,
           0,
           0
          ],
          [
           1,
           0,
           0,
           0,
           11,
           2
          ],
          [
           0,
           3,
           0,
           0,
           2,
           10
          ]
         ],
         "texttemplate": "%{text}",
         "type": "heatmap",
         "x": [
          "Predicted 0",
          "Predicted 1",
          "Predicted 2",
          "Predicted 3",
          "Predicted 4",
          "Predicted 5"
         ],
         "y": [
          "Actual 0",
          "Actual 1",
          "Actual 2",
          "Actual 3",
          "Actual 4",
          "Actual 5"
         ],
         "z": [
          [
           12,
           3,
           0,
           0,
           5,
           1
          ],
          [
           0,
           9,
           0,
           0,
           1,
           5
          ],
          [
           0,
           0,
           13,
           0,
           0,
           0
          ],
          [
           0,
           2,
           0,
           19,
           0,
           0
          ],
          [
           1,
           0,
           0,
           0,
           11,
           2
          ],
          [
           0,
           3,
           0,
           0,
           2,
           10
          ]
         ]
        }
       ],
       "layout": {
        "template": {
         "data": {
          "bar": [
           {
            "error_x": {
             "color": "#2a3f5f"
            },
            "error_y": {
             "color": "#2a3f5f"
            },
            "marker": {
             "line": {
              "color": "#E5ECF6",
              "width": 0.5
             },
             "pattern": {
              "fillmode": "overlay",
              "size": 10,
              "solidity": 0.2
             }
            },
            "type": "bar"
           }
          ],
          "barpolar": [
           {
            "marker": {
             "line": {
              "color": "#E5ECF6",
              "width": 0.5
             },
             "pattern": {
              "fillmode": "overlay",
              "size": 10,
              "solidity": 0.2
             }
            },
            "type": "barpolar"
           }
          ],
          "carpet": [
           {
            "aaxis": {
             "endlinecolor": "#2a3f5f",
             "gridcolor": "white",
             "linecolor": "white",
             "minorgridcolor": "white",
             "startlinecolor": "#2a3f5f"
            },
            "baxis": {
             "endlinecolor": "#2a3f5f",
             "gridcolor": "white",
             "linecolor": "white",
             "minorgridcolor": "white",
             "startlinecolor": "#2a3f5f"
            },
            "type": "carpet"
           }
          ],
          "choropleth": [
           {
            "colorbar": {
             "outlinewidth": 0,
             "ticks": ""
            },
            "type": "choropleth"
           }
          ],
          "contour": [
           {
            "colorbar": {
             "outlinewidth": 0,
             "ticks": ""
            },
            "colorscale": [
             [
              0,
              "#0d0887"
             ],
             [
              0.1111111111111111,
              "#46039f"
             ],
             [
              0.2222222222222222,
              "#7201a8"
             ],
             [
              0.3333333333333333,
              "#9c179e"
             ],
             [
              0.4444444444444444,
              "#bd3786"
             ],
             [
              0.5555555555555556,
              "#d8576b"
             ],
             [
              0.6666666666666666,
              "#ed7953"
             ],
             [
              0.7777777777777778,
              "#fb9f3a"
             ],
             [
              0.8888888888888888,
              "#fdca26"
             ],
             [
              1,
              "#f0f921"
             ]
            ],
            "type": "contour"
           }
          ],
          "contourcarpet": [
           {
            "colorbar": {
             "outlinewidth": 0,
             "ticks": ""
            },
            "type": "contourcarpet"
           }
          ],
          "heatmap": [
           {
            "colorbar": {
             "outlinewidth": 0,
             "ticks": ""
            },
            "colorscale": [
             [
              0,
              "#0d0887"
             ],
             [
              0.1111111111111111,
              "#46039f"
             ],
             [
              0.2222222222222222,
              "#7201a8"
             ],
             [
              0.3333333333333333,
              "#9c179e"
             ],
             [
              0.4444444444444444,
              "#bd3786"
             ],
             [
              0.5555555555555556,
              "#d8576b"
             ],
             [
              0.6666666666666666,
              "#ed7953"
             ],
             [
              0.7777777777777778,
              "#fb9f3a"
             ],
             [
              0.8888888888888888,
              "#fdca26"
             ],
             [
              1,
              "#f0f921"
             ]
            ],
            "type": "heatmap"
           }
          ],
          "heatmapgl": [
           {
            "colorbar": {
             "outlinewidth": 0,
             "ticks": ""
            },
            "colorscale": [
             [
              0,
              "#0d0887"
             ],
             [
              0.1111111111111111,
              "#46039f"
             ],
             [
              0.2222222222222222,
              "#7201a8"
             ],
             [
              0.3333333333333333,
              "#9c179e"
             ],
             [
              0.4444444444444444,
              "#bd3786"
             ],
             [
              0.5555555555555556,
              "#d8576b"
             ],
             [
              0.6666666666666666,
              "#ed7953"
             ],
             [
              0.7777777777777778,
              "#fb9f3a"
             ],
             [
              0.8888888888888888,
              "#fdca26"
             ],
             [
              1,
              "#f0f921"
             ]
            ],
            "type": "heatmapgl"
           }
          ],
          "histogram": [
           {
            "marker": {
             "pattern": {
              "fillmode": "overlay",
              "size": 10,
              "solidity": 0.2
             }
            },
            "type": "histogram"
           }
          ],
          "histogram2d": [
           {
            "colorbar": {
             "outlinewidth": 0,
             "ticks": ""
            },
            "colorscale": [
             [
              0,
              "#0d0887"
             ],
             [
              0.1111111111111111,
              "#46039f"
             ],
             [
              0.2222222222222222,
              "#7201a8"
             ],
             [
              0.3333333333333333,
              "#9c179e"
             ],
             [
              0.4444444444444444,
              "#bd3786"
             ],
             [
              0.5555555555555556,
              "#d8576b"
             ],
             [
              0.6666666666666666,
              "#ed7953"
             ],
             [
              0.7777777777777778,
              "#fb9f3a"
             ],
             [
              0.8888888888888888,
              "#fdca26"
             ],
             [
              1,
              "#f0f921"
             ]
            ],
            "type": "histogram2d"
           }
          ],
          "histogram2dcontour": [
           {
            "colorbar": {
             "outlinewidth": 0,
             "ticks": ""
            },
            "colorscale": [
             [
              0,
              "#0d0887"
             ],
             [
              0.1111111111111111,
              "#46039f"
             ],
             [
              0.2222222222222222,
              "#7201a8"
             ],
             [
              0.3333333333333333,
              "#9c179e"
             ],
             [
              0.4444444444444444,
              "#bd3786"
             ],
             [
              0.5555555555555556,
              "#d8576b"
             ],
             [
              0.6666666666666666,
              "#ed7953"
             ],
             [
              0.7777777777777778,
              "#fb9f3a"
             ],
             [
              0.8888888888888888,
              "#fdca26"
             ],
             [
              1,
              "#f0f921"
             ]
            ],
            "type": "histogram2dcontour"
           }
          ],
          "mesh3d": [
           {
            "colorbar": {
             "outlinewidth": 0,
             "ticks": ""
            },
            "type": "mesh3d"
           }
          ],
          "parcoords": [
           {
            "line": {
             "colorbar": {
              "outlinewidth": 0,
              "ticks": ""
             }
            },
            "type": "parcoords"
           }
          ],
          "pie": [
           {
            "automargin": true,
            "type": "pie"
           }
          ],
          "scatter": [
           {
            "fillpattern": {
             "fillmode": "overlay",
             "size": 10,
             "solidity": 0.2
            },
            "type": "scatter"
           }
          ],
          "scatter3d": [
           {
            "line": {
             "colorbar": {
              "outlinewidth": 0,
              "ticks": ""
             }
            },
            "marker": {
             "colorbar": {
              "outlinewidth": 0,
              "ticks": ""
             }
            },
            "type": "scatter3d"
           }
          ],
          "scattercarpet": [
           {
            "marker": {
             "colorbar": {
              "outlinewidth": 0,
              "ticks": ""
             }
            },
            "type": "scattercarpet"
           }
          ],
          "scattergeo": [
           {
            "marker": {
             "colorbar": {
              "outlinewidth": 0,
              "ticks": ""
             }
            },
            "type": "scattergeo"
           }
          ],
          "scattergl": [
           {
            "marker": {
             "colorbar": {
              "outlinewidth": 0,
              "ticks": ""
             }
            },
            "type": "scattergl"
           }
          ],
          "scattermapbox": [
           {
            "marker": {
             "colorbar": {
              "outlinewidth": 0,
              "ticks": ""
             }
            },
            "type": "scattermapbox"
           }
          ],
          "scatterpolar": [
           {
            "marker": {
             "colorbar": {
              "outlinewidth": 0,
              "ticks": ""
             }
            },
            "type": "scatterpolar"
           }
          ],
          "scatterpolargl": [
           {
            "marker": {
             "colorbar": {
              "outlinewidth": 0,
              "ticks": ""
             }
            },
            "type": "scatterpolargl"
           }
          ],
          "scatterternary": [
           {
            "marker": {
             "colorbar": {
              "outlinewidth": 0,
              "ticks": ""
             }
            },
            "type": "scatterternary"
           }
          ],
          "surface": [
           {
            "colorbar": {
             "outlinewidth": 0,
             "ticks": ""
            },
            "colorscale": [
             [
              0,
              "#0d0887"
             ],
             [
              0.1111111111111111,
              "#46039f"
             ],
             [
              0.2222222222222222,
              "#7201a8"
             ],
             [
              0.3333333333333333,
              "#9c179e"
             ],
             [
              0.4444444444444444,
              "#bd3786"
             ],
             [
              0.5555555555555556,
              "#d8576b"
             ],
             [
              0.6666666666666666,
              "#ed7953"
             ],
             [
              0.7777777777777778,
              "#fb9f3a"
             ],
             [
              0.8888888888888888,
              "#fdca26"
             ],
             [
              1,
              "#f0f921"
             ]
            ],
            "type": "surface"
           }
          ],
          "table": [
           {
            "cells": {
             "fill": {
              "color": "#EBF0F8"
             },
             "line": {
              "color": "white"
             }
            },
            "header": {
             "fill": {
              "color": "#C8D4E3"
             },
             "line": {
              "color": "white"
             }
            },
            "type": "table"
           }
          ]
         },
         "layout": {
          "annotationdefaults": {
           "arrowcolor": "#2a3f5f",
           "arrowhead": 0,
           "arrowwidth": 1
          },
          "autotypenumbers": "strict",
          "coloraxis": {
           "colorbar": {
            "outlinewidth": 0,
            "ticks": ""
           }
          },
          "colorscale": {
           "diverging": [
            [
             0,
             "#8e0152"
            ],
            [
             0.1,
             "#c51b7d"
            ],
            [
             0.2,
             "#de77ae"
            ],
            [
             0.3,
             "#f1b6da"
            ],
            [
             0.4,
             "#fde0ef"
            ],
            [
             0.5,
             "#f7f7f7"
            ],
            [
             0.6,
             "#e6f5d0"
            ],
            [
             0.7,
             "#b8e186"
            ],
            [
             0.8,
             "#7fbc41"
            ],
            [
             0.9,
             "#4d9221"
            ],
            [
             1,
             "#276419"
            ]
           ],
           "sequential": [
            [
             0,
             "#0d0887"
            ],
            [
             0.1111111111111111,
             "#46039f"
            ],
            [
             0.2222222222222222,
             "#7201a8"
            ],
            [
             0.3333333333333333,
             "#9c179e"
            ],
            [
             0.4444444444444444,
             "#bd3786"
            ],
            [
             0.5555555555555556,
             "#d8576b"
            ],
            [
             0.6666666666666666,
             "#ed7953"
            ],
            [
             0.7777777777777778,
             "#fb9f3a"
            ],
            [
             0.8888888888888888,
             "#fdca26"
            ],
            [
             1,
             "#f0f921"
            ]
           ],
           "sequentialminus": [
            [
             0,
             "#0d0887"
            ],
            [
             0.1111111111111111,
             "#46039f"
            ],
            [
             0.2222222222222222,
             "#7201a8"
            ],
            [
             0.3333333333333333,
             "#9c179e"
            ],
            [
             0.4444444444444444,
             "#bd3786"
            ],
            [
             0.5555555555555556,
             "#d8576b"
            ],
            [
             0.6666666666666666,
             "#ed7953"
            ],
            [
             0.7777777777777778,
             "#fb9f3a"
            ],
            [
             0.8888888888888888,
             "#fdca26"
            ],
            [
             1,
             "#f0f921"
            ]
           ]
          },
          "colorway": [
           "#636efa",
           "#EF553B",
           "#00cc96",
           "#ab63fa",
           "#FFA15A",
           "#19d3f3",
           "#FF6692",
           "#B6E880",
           "#FF97FF",
           "#FECB52"
          ],
          "font": {
           "color": "#2a3f5f"
          },
          "geo": {
           "bgcolor": "white",
           "lakecolor": "white",
           "landcolor": "#E5ECF6",
           "showlakes": true,
           "showland": true,
           "subunitcolor": "white"
          },
          "hoverlabel": {
           "align": "left"
          },
          "hovermode": "closest",
          "mapbox": {
           "style": "light"
          },
          "paper_bgcolor": "white",
          "plot_bgcolor": "#E5ECF6",
          "polar": {
           "angularaxis": {
            "gridcolor": "white",
            "linecolor": "white",
            "ticks": ""
           },
           "bgcolor": "#E5ECF6",
           "radialaxis": {
            "gridcolor": "white",
            "linecolor": "white",
            "ticks": ""
           }
          },
          "scene": {
           "xaxis": {
            "backgroundcolor": "#E5ECF6",
            "gridcolor": "white",
            "gridwidth": 2,
            "linecolor": "white",
            "showbackground": true,
            "ticks": "",
            "zerolinecolor": "white"
           },
           "yaxis": {
            "backgroundcolor": "#E5ECF6",
            "gridcolor": "white",
            "gridwidth": 2,
            "linecolor": "white",
            "showbackground": true,
            "ticks": "",
            "zerolinecolor": "white"
           },
           "zaxis": {
            "backgroundcolor": "#E5ECF6",
            "gridcolor": "white",
            "gridwidth": 2,
            "linecolor": "white",
            "showbackground": true,
            "ticks": "",
            "zerolinecolor": "white"
           }
          },
          "shapedefaults": {
           "line": {
            "color": "#2a3f5f"
           }
          },
          "ternary": {
           "aaxis": {
            "gridcolor": "white",
            "linecolor": "white",
            "ticks": ""
           },
           "baxis": {
            "gridcolor": "white",
            "linecolor": "white",
            "ticks": ""
           },
           "bgcolor": "#E5ECF6",
           "caxis": {
            "gridcolor": "white",
            "linecolor": "white",
            "ticks": ""
           }
          },
          "title": {
           "x": 0.05
          },
          "xaxis": {
           "automargin": true,
           "gridcolor": "white",
           "linecolor": "white",
           "ticks": "",
           "title": {
            "standoff": 15
           },
           "zerolinecolor": "white",
           "zerolinewidth": 2
          },
          "yaxis": {
           "automargin": true,
           "gridcolor": "white",
           "linecolor": "white",
           "ticks": "",
           "title": {
            "standoff": 15
           },
           "zerolinecolor": "white",
           "zerolinewidth": 2
          }
         }
        },
        "title": {
         "text": "Confusion Matrix for RandomForest_3"
        },
        "xaxis": {
         "scaleanchor": "y",
         "scaleratio": 1,
         "title": {
          "text": "Predicted Label"
         }
        },
        "yaxis": {
         "title": {
          "text": "Actual Label"
         }
        }
       }
      }
     },
     "metadata": {},
     "output_type": "display_data"
    },
    {
     "name": "stdout",
     "output_type": "stream",
     "text": [
      "\n",
      "Training RandomForest_5...\n"
     ]
    },
    {
     "data": {
      "application/vnd.plotly.v1+json": {
       "config": {
        "plotlyServerURL": "https://plot.ly"
       },
       "data": [
        {
         "colorscale": [
          [
           0,
           "rgb(247,251,255)"
          ],
          [
           0.125,
           "rgb(222,235,247)"
          ],
          [
           0.25,
           "rgb(198,219,239)"
          ],
          [
           0.375,
           "rgb(158,202,225)"
          ],
          [
           0.5,
           "rgb(107,174,214)"
          ],
          [
           0.625,
           "rgb(66,146,198)"
          ],
          [
           0.75,
           "rgb(33,113,181)"
          ],
          [
           0.875,
           "rgb(8,81,156)"
          ],
          [
           1,
           "rgb(8,48,107)"
          ]
         ],
         "showscale": true,
         "text": [
          [
           12,
           3,
           0,
           0,
           5,
           1
          ],
          [
           0,
           11,
           0,
           0,
           1,
           3
          ],
          [
           0,
           0,
           13,
           0,
           0,
           0
          ],
          [
           0,
           2,
           0,
           19,
           0,
           0
          ],
          [
           0,
           1,
           0,
           0,
           12,
           1
          ],
          [
           0,
           2,
           0,
           0,
           3,
           10
          ]
         ],
         "texttemplate": "%{text}",
         "type": "heatmap",
         "x": [
          "Predicted 0",
          "Predicted 1",
          "Predicted 2",
          "Predicted 3",
          "Predicted 4",
          "Predicted 5"
         ],
         "y": [
          "Actual 0",
          "Actual 1",
          "Actual 2",
          "Actual 3",
          "Actual 4",
          "Actual 5"
         ],
         "z": [
          [
           12,
           3,
           0,
           0,
           5,
           1
          ],
          [
           0,
           11,
           0,
           0,
           1,
           3
          ],
          [
           0,
           0,
           13,
           0,
           0,
           0
          ],
          [
           0,
           2,
           0,
           19,
           0,
           0
          ],
          [
           0,
           1,
           0,
           0,
           12,
           1
          ],
          [
           0,
           2,
           0,
           0,
           3,
           10
          ]
         ]
        }
       ],
       "layout": {
        "template": {
         "data": {
          "bar": [
           {
            "error_x": {
             "color": "#2a3f5f"
            },
            "error_y": {
             "color": "#2a3f5f"
            },
            "marker": {
             "line": {
              "color": "#E5ECF6",
              "width": 0.5
             },
             "pattern": {
              "fillmode": "overlay",
              "size": 10,
              "solidity": 0.2
             }
            },
            "type": "bar"
           }
          ],
          "barpolar": [
           {
            "marker": {
             "line": {
              "color": "#E5ECF6",
              "width": 0.5
             },
             "pattern": {
              "fillmode": "overlay",
              "size": 10,
              "solidity": 0.2
             }
            },
            "type": "barpolar"
           }
          ],
          "carpet": [
           {
            "aaxis": {
             "endlinecolor": "#2a3f5f",
             "gridcolor": "white",
             "linecolor": "white",
             "minorgridcolor": "white",
             "startlinecolor": "#2a3f5f"
            },
            "baxis": {
             "endlinecolor": "#2a3f5f",
             "gridcolor": "white",
             "linecolor": "white",
             "minorgridcolor": "white",
             "startlinecolor": "#2a3f5f"
            },
            "type": "carpet"
           }
          ],
          "choropleth": [
           {
            "colorbar": {
             "outlinewidth": 0,
             "ticks": ""
            },
            "type": "choropleth"
           }
          ],
          "contour": [
           {
            "colorbar": {
             "outlinewidth": 0,
             "ticks": ""
            },
            "colorscale": [
             [
              0,
              "#0d0887"
             ],
             [
              0.1111111111111111,
              "#46039f"
             ],
             [
              0.2222222222222222,
              "#7201a8"
             ],
             [
              0.3333333333333333,
              "#9c179e"
             ],
             [
              0.4444444444444444,
              "#bd3786"
             ],
             [
              0.5555555555555556,
              "#d8576b"
             ],
             [
              0.6666666666666666,
              "#ed7953"
             ],
             [
              0.7777777777777778,
              "#fb9f3a"
             ],
             [
              0.8888888888888888,
              "#fdca26"
             ],
             [
              1,
              "#f0f921"
             ]
            ],
            "type": "contour"
           }
          ],
          "contourcarpet": [
           {
            "colorbar": {
             "outlinewidth": 0,
             "ticks": ""
            },
            "type": "contourcarpet"
           }
          ],
          "heatmap": [
           {
            "colorbar": {
             "outlinewidth": 0,
             "ticks": ""
            },
            "colorscale": [
             [
              0,
              "#0d0887"
             ],
             [
              0.1111111111111111,
              "#46039f"
             ],
             [
              0.2222222222222222,
              "#7201a8"
             ],
             [
              0.3333333333333333,
              "#9c179e"
             ],
             [
              0.4444444444444444,
              "#bd3786"
             ],
             [
              0.5555555555555556,
              "#d8576b"
             ],
             [
              0.6666666666666666,
              "#ed7953"
             ],
             [
              0.7777777777777778,
              "#fb9f3a"
             ],
             [
              0.8888888888888888,
              "#fdca26"
             ],
             [
              1,
              "#f0f921"
             ]
            ],
            "type": "heatmap"
           }
          ],
          "heatmapgl": [
           {
            "colorbar": {
             "outlinewidth": 0,
             "ticks": ""
            },
            "colorscale": [
             [
              0,
              "#0d0887"
             ],
             [
              0.1111111111111111,
              "#46039f"
             ],
             [
              0.2222222222222222,
              "#7201a8"
             ],
             [
              0.3333333333333333,
              "#9c179e"
             ],
             [
              0.4444444444444444,
              "#bd3786"
             ],
             [
              0.5555555555555556,
              "#d8576b"
             ],
             [
              0.6666666666666666,
              "#ed7953"
             ],
             [
              0.7777777777777778,
              "#fb9f3a"
             ],
             [
              0.8888888888888888,
              "#fdca26"
             ],
             [
              1,
              "#f0f921"
             ]
            ],
            "type": "heatmapgl"
           }
          ],
          "histogram": [
           {
            "marker": {
             "pattern": {
              "fillmode": "overlay",
              "size": 10,
              "solidity": 0.2
             }
            },
            "type": "histogram"
           }
          ],
          "histogram2d": [
           {
            "colorbar": {
             "outlinewidth": 0,
             "ticks": ""
            },
            "colorscale": [
             [
              0,
              "#0d0887"
             ],
             [
              0.1111111111111111,
              "#46039f"
             ],
             [
              0.2222222222222222,
              "#7201a8"
             ],
             [
              0.3333333333333333,
              "#9c179e"
             ],
             [
              0.4444444444444444,
              "#bd3786"
             ],
             [
              0.5555555555555556,
              "#d8576b"
             ],
             [
              0.6666666666666666,
              "#ed7953"
             ],
             [
              0.7777777777777778,
              "#fb9f3a"
             ],
             [
              0.8888888888888888,
              "#fdca26"
             ],
             [
              1,
              "#f0f921"
             ]
            ],
            "type": "histogram2d"
           }
          ],
          "histogram2dcontour": [
           {
            "colorbar": {
             "outlinewidth": 0,
             "ticks": ""
            },
            "colorscale": [
             [
              0,
              "#0d0887"
             ],
             [
              0.1111111111111111,
              "#46039f"
             ],
             [
              0.2222222222222222,
              "#7201a8"
             ],
             [
              0.3333333333333333,
              "#9c179e"
             ],
             [
              0.4444444444444444,
              "#bd3786"
             ],
             [
              0.5555555555555556,
              "#d8576b"
             ],
             [
              0.6666666666666666,
              "#ed7953"
             ],
             [
              0.7777777777777778,
              "#fb9f3a"
             ],
             [
              0.8888888888888888,
              "#fdca26"
             ],
             [
              1,
              "#f0f921"
             ]
            ],
            "type": "histogram2dcontour"
           }
          ],
          "mesh3d": [
           {
            "colorbar": {
             "outlinewidth": 0,
             "ticks": ""
            },
            "type": "mesh3d"
           }
          ],
          "parcoords": [
           {
            "line": {
             "colorbar": {
              "outlinewidth": 0,
              "ticks": ""
             }
            },
            "type": "parcoords"
           }
          ],
          "pie": [
           {
            "automargin": true,
            "type": "pie"
           }
          ],
          "scatter": [
           {
            "fillpattern": {
             "fillmode": "overlay",
             "size": 10,
             "solidity": 0.2
            },
            "type": "scatter"
           }
          ],
          "scatter3d": [
           {
            "line": {
             "colorbar": {
              "outlinewidth": 0,
              "ticks": ""
             }
            },
            "marker": {
             "colorbar": {
              "outlinewidth": 0,
              "ticks": ""
             }
            },
            "type": "scatter3d"
           }
          ],
          "scattercarpet": [
           {
            "marker": {
             "colorbar": {
              "outlinewidth": 0,
              "ticks": ""
             }
            },
            "type": "scattercarpet"
           }
          ],
          "scattergeo": [
           {
            "marker": {
             "colorbar": {
              "outlinewidth": 0,
              "ticks": ""
             }
            },
            "type": "scattergeo"
           }
          ],
          "scattergl": [
           {
            "marker": {
             "colorbar": {
              "outlinewidth": 0,
              "ticks": ""
             }
            },
            "type": "scattergl"
           }
          ],
          "scattermapbox": [
           {
            "marker": {
             "colorbar": {
              "outlinewidth": 0,
              "ticks": ""
             }
            },
            "type": "scattermapbox"
           }
          ],
          "scatterpolar": [
           {
            "marker": {
             "colorbar": {
              "outlinewidth": 0,
              "ticks": ""
             }
            },
            "type": "scatterpolar"
           }
          ],
          "scatterpolargl": [
           {
            "marker": {
             "colorbar": {
              "outlinewidth": 0,
              "ticks": ""
             }
            },
            "type": "scatterpolargl"
           }
          ],
          "scatterternary": [
           {
            "marker": {
             "colorbar": {
              "outlinewidth": 0,
              "ticks": ""
             }
            },
            "type": "scatterternary"
           }
          ],
          "surface": [
           {
            "colorbar": {
             "outlinewidth": 0,
             "ticks": ""
            },
            "colorscale": [
             [
              0,
              "#0d0887"
             ],
             [
              0.1111111111111111,
              "#46039f"
             ],
             [
              0.2222222222222222,
              "#7201a8"
             ],
             [
              0.3333333333333333,
              "#9c179e"
             ],
             [
              0.4444444444444444,
              "#bd3786"
             ],
             [
              0.5555555555555556,
              "#d8576b"
             ],
             [
              0.6666666666666666,
              "#ed7953"
             ],
             [
              0.7777777777777778,
              "#fb9f3a"
             ],
             [
              0.8888888888888888,
              "#fdca26"
             ],
             [
              1,
              "#f0f921"
             ]
            ],
            "type": "surface"
           }
          ],
          "table": [
           {
            "cells": {
             "fill": {
              "color": "#EBF0F8"
             },
             "line": {
              "color": "white"
             }
            },
            "header": {
             "fill": {
              "color": "#C8D4E3"
             },
             "line": {
              "color": "white"
             }
            },
            "type": "table"
           }
          ]
         },
         "layout": {
          "annotationdefaults": {
           "arrowcolor": "#2a3f5f",
           "arrowhead": 0,
           "arrowwidth": 1
          },
          "autotypenumbers": "strict",
          "coloraxis": {
           "colorbar": {
            "outlinewidth": 0,
            "ticks": ""
           }
          },
          "colorscale": {
           "diverging": [
            [
             0,
             "#8e0152"
            ],
            [
             0.1,
             "#c51b7d"
            ],
            [
             0.2,
             "#de77ae"
            ],
            [
             0.3,
             "#f1b6da"
            ],
            [
             0.4,
             "#fde0ef"
            ],
            [
             0.5,
             "#f7f7f7"
            ],
            [
             0.6,
             "#e6f5d0"
            ],
            [
             0.7,
             "#b8e186"
            ],
            [
             0.8,
             "#7fbc41"
            ],
            [
             0.9,
             "#4d9221"
            ],
            [
             1,
             "#276419"
            ]
           ],
           "sequential": [
            [
             0,
             "#0d0887"
            ],
            [
             0.1111111111111111,
             "#46039f"
            ],
            [
             0.2222222222222222,
             "#7201a8"
            ],
            [
             0.3333333333333333,
             "#9c179e"
            ],
            [
             0.4444444444444444,
             "#bd3786"
            ],
            [
             0.5555555555555556,
             "#d8576b"
            ],
            [
             0.6666666666666666,
             "#ed7953"
            ],
            [
             0.7777777777777778,
             "#fb9f3a"
            ],
            [
             0.8888888888888888,
             "#fdca26"
            ],
            [
             1,
             "#f0f921"
            ]
           ],
           "sequentialminus": [
            [
             0,
             "#0d0887"
            ],
            [
             0.1111111111111111,
             "#46039f"
            ],
            [
             0.2222222222222222,
             "#7201a8"
            ],
            [
             0.3333333333333333,
             "#9c179e"
            ],
            [
             0.4444444444444444,
             "#bd3786"
            ],
            [
             0.5555555555555556,
             "#d8576b"
            ],
            [
             0.6666666666666666,
             "#ed7953"
            ],
            [
             0.7777777777777778,
             "#fb9f3a"
            ],
            [
             0.8888888888888888,
             "#fdca26"
            ],
            [
             1,
             "#f0f921"
            ]
           ]
          },
          "colorway": [
           "#636efa",
           "#EF553B",
           "#00cc96",
           "#ab63fa",
           "#FFA15A",
           "#19d3f3",
           "#FF6692",
           "#B6E880",
           "#FF97FF",
           "#FECB52"
          ],
          "font": {
           "color": "#2a3f5f"
          },
          "geo": {
           "bgcolor": "white",
           "lakecolor": "white",
           "landcolor": "#E5ECF6",
           "showlakes": true,
           "showland": true,
           "subunitcolor": "white"
          },
          "hoverlabel": {
           "align": "left"
          },
          "hovermode": "closest",
          "mapbox": {
           "style": "light"
          },
          "paper_bgcolor": "white",
          "plot_bgcolor": "#E5ECF6",
          "polar": {
           "angularaxis": {
            "gridcolor": "white",
            "linecolor": "white",
            "ticks": ""
           },
           "bgcolor": "#E5ECF6",
           "radialaxis": {
            "gridcolor": "white",
            "linecolor": "white",
            "ticks": ""
           }
          },
          "scene": {
           "xaxis": {
            "backgroundcolor": "#E5ECF6",
            "gridcolor": "white",
            "gridwidth": 2,
            "linecolor": "white",
            "showbackground": true,
            "ticks": "",
            "zerolinecolor": "white"
           },
           "yaxis": {
            "backgroundcolor": "#E5ECF6",
            "gridcolor": "white",
            "gridwidth": 2,
            "linecolor": "white",
            "showbackground": true,
            "ticks": "",
            "zerolinecolor": "white"
           },
           "zaxis": {
            "backgroundcolor": "#E5ECF6",
            "gridcolor": "white",
            "gridwidth": 2,
            "linecolor": "white",
            "showbackground": true,
            "ticks": "",
            "zerolinecolor": "white"
           }
          },
          "shapedefaults": {
           "line": {
            "color": "#2a3f5f"
           }
          },
          "ternary": {
           "aaxis": {
            "gridcolor": "white",
            "linecolor": "white",
            "ticks": ""
           },
           "baxis": {
            "gridcolor": "white",
            "linecolor": "white",
            "ticks": ""
           },
           "bgcolor": "#E5ECF6",
           "caxis": {
            "gridcolor": "white",
            "linecolor": "white",
            "ticks": ""
           }
          },
          "title": {
           "x": 0.05
          },
          "xaxis": {
           "automargin": true,
           "gridcolor": "white",
           "linecolor": "white",
           "ticks": "",
           "title": {
            "standoff": 15
           },
           "zerolinecolor": "white",
           "zerolinewidth": 2
          },
          "yaxis": {
           "automargin": true,
           "gridcolor": "white",
           "linecolor": "white",
           "ticks": "",
           "title": {
            "standoff": 15
           },
           "zerolinecolor": "white",
           "zerolinewidth": 2
          }
         }
        },
        "title": {
         "text": "Confusion Matrix for RandomForest_5"
        },
        "xaxis": {
         "scaleanchor": "y",
         "scaleratio": 1,
         "title": {
          "text": "Predicted Label"
         }
        },
        "yaxis": {
         "title": {
          "text": "Actual Label"
         }
        }
       }
      }
     },
     "metadata": {},
     "output_type": "display_data"
    },
    {
     "name": "stdout",
     "output_type": "stream",
     "text": [
      "\n",
      "Training NeuralNetwork_1...\n"
     ]
    },
    {
     "name": "stderr",
     "output_type": "stream",
     "text": [
      "/home/nirav24/.local/lib/python3.12/site-packages/sklearn/metrics/_classification.py:1531: UndefinedMetricWarning:\n",
      "\n",
      "Precision is ill-defined and being set to 0.0 in labels with no predicted samples. Use `zero_division` parameter to control this behavior.\n",
      "\n",
      "/home/nirav24/.local/lib/python3.12/site-packages/sklearn/metrics/_classification.py:1531: UndefinedMetricWarning:\n",
      "\n",
      "Precision is ill-defined and being set to 0.0 in labels with no predicted samples. Use `zero_division` parameter to control this behavior.\n",
      "\n",
      "/home/nirav24/.local/lib/python3.12/site-packages/sklearn/metrics/_classification.py:1531: UndefinedMetricWarning:\n",
      "\n",
      "Precision is ill-defined and being set to 0.0 in labels with no predicted samples. Use `zero_division` parameter to control this behavior.\n",
      "\n",
      "/home/nirav24/.local/lib/python3.12/site-packages/sklearn/metrics/_classification.py:1531: UndefinedMetricWarning:\n",
      "\n",
      "Precision is ill-defined and being set to 0.0 in labels with no predicted samples. Use `zero_division` parameter to control this behavior.\n",
      "\n",
      "/home/nirav24/.local/lib/python3.12/site-packages/sklearn/metrics/_classification.py:1531: UndefinedMetricWarning:\n",
      "\n",
      "Precision is ill-defined and being set to 0.0 in labels with no predicted samples. Use `zero_division` parameter to control this behavior.\n",
      "\n",
      "/home/nirav24/.local/lib/python3.12/site-packages/sklearn/metrics/_classification.py:1531: UndefinedMetricWarning:\n",
      "\n",
      "Precision is ill-defined and being set to 0.0 in labels with no predicted samples. Use `zero_division` parameter to control this behavior.\n",
      "\n",
      "/home/nirav24/.local/lib/python3.12/site-packages/sklearn/metrics/_classification.py:1531: UndefinedMetricWarning:\n",
      "\n",
      "Precision is ill-defined and being set to 0.0 in labels with no predicted samples. Use `zero_division` parameter to control this behavior.\n",
      "\n",
      "/home/nirav24/.local/lib/python3.12/site-packages/sklearn/metrics/_classification.py:1531: UndefinedMetricWarning:\n",
      "\n",
      "Precision is ill-defined and being set to 0.0 in labels with no predicted samples. Use `zero_division` parameter to control this behavior.\n",
      "\n"
     ]
    },
    {
     "data": {
      "application/vnd.plotly.v1+json": {
       "config": {
        "plotlyServerURL": "https://plot.ly"
       },
       "data": [
        {
         "colorscale": [
          [
           0,
           "rgb(247,251,255)"
          ],
          [
           0.125,
           "rgb(222,235,247)"
          ],
          [
           0.25,
           "rgb(198,219,239)"
          ],
          [
           0.375,
           "rgb(158,202,225)"
          ],
          [
           0.5,
           "rgb(107,174,214)"
          ],
          [
           0.625,
           "rgb(66,146,198)"
          ],
          [
           0.75,
           "rgb(33,113,181)"
          ],
          [
           0.875,
           "rgb(8,81,156)"
          ],
          [
           1,
           "rgb(8,48,107)"
          ]
         ],
         "showscale": true,
         "text": [
          [
           0,
           0,
           10,
           6,
           5,
           0
          ],
          [
           0,
           0,
           13,
           0,
           2,
           0
          ],
          [
           1,
           0,
           12,
           0,
           0,
           0
          ],
          [
           0,
           0,
           0,
           21,
           0,
           0
          ],
          [
           0,
           0,
           2,
           1,
           11,
           0
          ],
          [
           0,
           0,
           6,
           0,
           9,
           0
          ]
         ],
         "texttemplate": "%{text}",
         "type": "heatmap",
         "x": [
          "Predicted 0",
          "Predicted 1",
          "Predicted 2",
          "Predicted 3",
          "Predicted 4",
          "Predicted 5"
         ],
         "y": [
          "Actual 0",
          "Actual 1",
          "Actual 2",
          "Actual 3",
          "Actual 4",
          "Actual 5"
         ],
         "z": [
          [
           0,
           0,
           10,
           6,
           5,
           0
          ],
          [
           0,
           0,
           13,
           0,
           2,
           0
          ],
          [
           1,
           0,
           12,
           0,
           0,
           0
          ],
          [
           0,
           0,
           0,
           21,
           0,
           0
          ],
          [
           0,
           0,
           2,
           1,
           11,
           0
          ],
          [
           0,
           0,
           6,
           0,
           9,
           0
          ]
         ]
        }
       ],
       "layout": {
        "template": {
         "data": {
          "bar": [
           {
            "error_x": {
             "color": "#2a3f5f"
            },
            "error_y": {
             "color": "#2a3f5f"
            },
            "marker": {
             "line": {
              "color": "#E5ECF6",
              "width": 0.5
             },
             "pattern": {
              "fillmode": "overlay",
              "size": 10,
              "solidity": 0.2
             }
            },
            "type": "bar"
           }
          ],
          "barpolar": [
           {
            "marker": {
             "line": {
              "color": "#E5ECF6",
              "width": 0.5
             },
             "pattern": {
              "fillmode": "overlay",
              "size": 10,
              "solidity": 0.2
             }
            },
            "type": "barpolar"
           }
          ],
          "carpet": [
           {
            "aaxis": {
             "endlinecolor": "#2a3f5f",
             "gridcolor": "white",
             "linecolor": "white",
             "minorgridcolor": "white",
             "startlinecolor": "#2a3f5f"
            },
            "baxis": {
             "endlinecolor": "#2a3f5f",
             "gridcolor": "white",
             "linecolor": "white",
             "minorgridcolor": "white",
             "startlinecolor": "#2a3f5f"
            },
            "type": "carpet"
           }
          ],
          "choropleth": [
           {
            "colorbar": {
             "outlinewidth": 0,
             "ticks": ""
            },
            "type": "choropleth"
           }
          ],
          "contour": [
           {
            "colorbar": {
             "outlinewidth": 0,
             "ticks": ""
            },
            "colorscale": [
             [
              0,
              "#0d0887"
             ],
             [
              0.1111111111111111,
              "#46039f"
             ],
             [
              0.2222222222222222,
              "#7201a8"
             ],
             [
              0.3333333333333333,
              "#9c179e"
             ],
             [
              0.4444444444444444,
              "#bd3786"
             ],
             [
              0.5555555555555556,
              "#d8576b"
             ],
             [
              0.6666666666666666,
              "#ed7953"
             ],
             [
              0.7777777777777778,
              "#fb9f3a"
             ],
             [
              0.8888888888888888,
              "#fdca26"
             ],
             [
              1,
              "#f0f921"
             ]
            ],
            "type": "contour"
           }
          ],
          "contourcarpet": [
           {
            "colorbar": {
             "outlinewidth": 0,
             "ticks": ""
            },
            "type": "contourcarpet"
           }
          ],
          "heatmap": [
           {
            "colorbar": {
             "outlinewidth": 0,
             "ticks": ""
            },
            "colorscale": [
             [
              0,
              "#0d0887"
             ],
             [
              0.1111111111111111,
              "#46039f"
             ],
             [
              0.2222222222222222,
              "#7201a8"
             ],
             [
              0.3333333333333333,
              "#9c179e"
             ],
             [
              0.4444444444444444,
              "#bd3786"
             ],
             [
              0.5555555555555556,
              "#d8576b"
             ],
             [
              0.6666666666666666,
              "#ed7953"
             ],
             [
              0.7777777777777778,
              "#fb9f3a"
             ],
             [
              0.8888888888888888,
              "#fdca26"
             ],
             [
              1,
              "#f0f921"
             ]
            ],
            "type": "heatmap"
           }
          ],
          "heatmapgl": [
           {
            "colorbar": {
             "outlinewidth": 0,
             "ticks": ""
            },
            "colorscale": [
             [
              0,
              "#0d0887"
             ],
             [
              0.1111111111111111,
              "#46039f"
             ],
             [
              0.2222222222222222,
              "#7201a8"
             ],
             [
              0.3333333333333333,
              "#9c179e"
             ],
             [
              0.4444444444444444,
              "#bd3786"
             ],
             [
              0.5555555555555556,
              "#d8576b"
             ],
             [
              0.6666666666666666,
              "#ed7953"
             ],
             [
              0.7777777777777778,
              "#fb9f3a"
             ],
             [
              0.8888888888888888,
              "#fdca26"
             ],
             [
              1,
              "#f0f921"
             ]
            ],
            "type": "heatmapgl"
           }
          ],
          "histogram": [
           {
            "marker": {
             "pattern": {
              "fillmode": "overlay",
              "size": 10,
              "solidity": 0.2
             }
            },
            "type": "histogram"
           }
          ],
          "histogram2d": [
           {
            "colorbar": {
             "outlinewidth": 0,
             "ticks": ""
            },
            "colorscale": [
             [
              0,
              "#0d0887"
             ],
             [
              0.1111111111111111,
              "#46039f"
             ],
             [
              0.2222222222222222,
              "#7201a8"
             ],
             [
              0.3333333333333333,
              "#9c179e"
             ],
             [
              0.4444444444444444,
              "#bd3786"
             ],
             [
              0.5555555555555556,
              "#d8576b"
             ],
             [
              0.6666666666666666,
              "#ed7953"
             ],
             [
              0.7777777777777778,
              "#fb9f3a"
             ],
             [
              0.8888888888888888,
              "#fdca26"
             ],
             [
              1,
              "#f0f921"
             ]
            ],
            "type": "histogram2d"
           }
          ],
          "histogram2dcontour": [
           {
            "colorbar": {
             "outlinewidth": 0,
             "ticks": ""
            },
            "colorscale": [
             [
              0,
              "#0d0887"
             ],
             [
              0.1111111111111111,
              "#46039f"
             ],
             [
              0.2222222222222222,
              "#7201a8"
             ],
             [
              0.3333333333333333,
              "#9c179e"
             ],
             [
              0.4444444444444444,
              "#bd3786"
             ],
             [
              0.5555555555555556,
              "#d8576b"
             ],
             [
              0.6666666666666666,
              "#ed7953"
             ],
             [
              0.7777777777777778,
              "#fb9f3a"
             ],
             [
              0.8888888888888888,
              "#fdca26"
             ],
             [
              1,
              "#f0f921"
             ]
            ],
            "type": "histogram2dcontour"
           }
          ],
          "mesh3d": [
           {
            "colorbar": {
             "outlinewidth": 0,
             "ticks": ""
            },
            "type": "mesh3d"
           }
          ],
          "parcoords": [
           {
            "line": {
             "colorbar": {
              "outlinewidth": 0,
              "ticks": ""
             }
            },
            "type": "parcoords"
           }
          ],
          "pie": [
           {
            "automargin": true,
            "type": "pie"
           }
          ],
          "scatter": [
           {
            "fillpattern": {
             "fillmode": "overlay",
             "size": 10,
             "solidity": 0.2
            },
            "type": "scatter"
           }
          ],
          "scatter3d": [
           {
            "line": {
             "colorbar": {
              "outlinewidth": 0,
              "ticks": ""
             }
            },
            "marker": {
             "colorbar": {
              "outlinewidth": 0,
              "ticks": ""
             }
            },
            "type": "scatter3d"
           }
          ],
          "scattercarpet": [
           {
            "marker": {
             "colorbar": {
              "outlinewidth": 0,
              "ticks": ""
             }
            },
            "type": "scattercarpet"
           }
          ],
          "scattergeo": [
           {
            "marker": {
             "colorbar": {
              "outlinewidth": 0,
              "ticks": ""
             }
            },
            "type": "scattergeo"
           }
          ],
          "scattergl": [
           {
            "marker": {
             "colorbar": {
              "outlinewidth": 0,
              "ticks": ""
             }
            },
            "type": "scattergl"
           }
          ],
          "scattermapbox": [
           {
            "marker": {
             "colorbar": {
              "outlinewidth": 0,
              "ticks": ""
             }
            },
            "type": "scattermapbox"
           }
          ],
          "scatterpolar": [
           {
            "marker": {
             "colorbar": {
              "outlinewidth": 0,
              "ticks": ""
             }
            },
            "type": "scatterpolar"
           }
          ],
          "scatterpolargl": [
           {
            "marker": {
             "colorbar": {
              "outlinewidth": 0,
              "ticks": ""
             }
            },
            "type": "scatterpolargl"
           }
          ],
          "scatterternary": [
           {
            "marker": {
             "colorbar": {
              "outlinewidth": 0,
              "ticks": ""
             }
            },
            "type": "scatterternary"
           }
          ],
          "surface": [
           {
            "colorbar": {
             "outlinewidth": 0,
             "ticks": ""
            },
            "colorscale": [
             [
              0,
              "#0d0887"
             ],
             [
              0.1111111111111111,
              "#46039f"
             ],
             [
              0.2222222222222222,
              "#7201a8"
             ],
             [
              0.3333333333333333,
              "#9c179e"
             ],
             [
              0.4444444444444444,
              "#bd3786"
             ],
             [
              0.5555555555555556,
              "#d8576b"
             ],
             [
              0.6666666666666666,
              "#ed7953"
             ],
             [
              0.7777777777777778,
              "#fb9f3a"
             ],
             [
              0.8888888888888888,
              "#fdca26"
             ],
             [
              1,
              "#f0f921"
             ]
            ],
            "type": "surface"
           }
          ],
          "table": [
           {
            "cells": {
             "fill": {
              "color": "#EBF0F8"
             },
             "line": {
              "color": "white"
             }
            },
            "header": {
             "fill": {
              "color": "#C8D4E3"
             },
             "line": {
              "color": "white"
             }
            },
            "type": "table"
           }
          ]
         },
         "layout": {
          "annotationdefaults": {
           "arrowcolor": "#2a3f5f",
           "arrowhead": 0,
           "arrowwidth": 1
          },
          "autotypenumbers": "strict",
          "coloraxis": {
           "colorbar": {
            "outlinewidth": 0,
            "ticks": ""
           }
          },
          "colorscale": {
           "diverging": [
            [
             0,
             "#8e0152"
            ],
            [
             0.1,
             "#c51b7d"
            ],
            [
             0.2,
             "#de77ae"
            ],
            [
             0.3,
             "#f1b6da"
            ],
            [
             0.4,
             "#fde0ef"
            ],
            [
             0.5,
             "#f7f7f7"
            ],
            [
             0.6,
             "#e6f5d0"
            ],
            [
             0.7,
             "#b8e186"
            ],
            [
             0.8,
             "#7fbc41"
            ],
            [
             0.9,
             "#4d9221"
            ],
            [
             1,
             "#276419"
            ]
           ],
           "sequential": [
            [
             0,
             "#0d0887"
            ],
            [
             0.1111111111111111,
             "#46039f"
            ],
            [
             0.2222222222222222,
             "#7201a8"
            ],
            [
             0.3333333333333333,
             "#9c179e"
            ],
            [
             0.4444444444444444,
             "#bd3786"
            ],
            [
             0.5555555555555556,
             "#d8576b"
            ],
            [
             0.6666666666666666,
             "#ed7953"
            ],
            [
             0.7777777777777778,
             "#fb9f3a"
            ],
            [
             0.8888888888888888,
             "#fdca26"
            ],
            [
             1,
             "#f0f921"
            ]
           ],
           "sequentialminus": [
            [
             0,
             "#0d0887"
            ],
            [
             0.1111111111111111,
             "#46039f"
            ],
            [
             0.2222222222222222,
             "#7201a8"
            ],
            [
             0.3333333333333333,
             "#9c179e"
            ],
            [
             0.4444444444444444,
             "#bd3786"
            ],
            [
             0.5555555555555556,
             "#d8576b"
            ],
            [
             0.6666666666666666,
             "#ed7953"
            ],
            [
             0.7777777777777778,
             "#fb9f3a"
            ],
            [
             0.8888888888888888,
             "#fdca26"
            ],
            [
             1,
             "#f0f921"
            ]
           ]
          },
          "colorway": [
           "#636efa",
           "#EF553B",
           "#00cc96",
           "#ab63fa",
           "#FFA15A",
           "#19d3f3",
           "#FF6692",
           "#B6E880",
           "#FF97FF",
           "#FECB52"
          ],
          "font": {
           "color": "#2a3f5f"
          },
          "geo": {
           "bgcolor": "white",
           "lakecolor": "white",
           "landcolor": "#E5ECF6",
           "showlakes": true,
           "showland": true,
           "subunitcolor": "white"
          },
          "hoverlabel": {
           "align": "left"
          },
          "hovermode": "closest",
          "mapbox": {
           "style": "light"
          },
          "paper_bgcolor": "white",
          "plot_bgcolor": "#E5ECF6",
          "polar": {
           "angularaxis": {
            "gridcolor": "white",
            "linecolor": "white",
            "ticks": ""
           },
           "bgcolor": "#E5ECF6",
           "radialaxis": {
            "gridcolor": "white",
            "linecolor": "white",
            "ticks": ""
           }
          },
          "scene": {
           "xaxis": {
            "backgroundcolor": "#E5ECF6",
            "gridcolor": "white",
            "gridwidth": 2,
            "linecolor": "white",
            "showbackground": true,
            "ticks": "",
            "zerolinecolor": "white"
           },
           "yaxis": {
            "backgroundcolor": "#E5ECF6",
            "gridcolor": "white",
            "gridwidth": 2,
            "linecolor": "white",
            "showbackground": true,
            "ticks": "",
            "zerolinecolor": "white"
           },
           "zaxis": {
            "backgroundcolor": "#E5ECF6",
            "gridcolor": "white",
            "gridwidth": 2,
            "linecolor": "white",
            "showbackground": true,
            "ticks": "",
            "zerolinecolor": "white"
           }
          },
          "shapedefaults": {
           "line": {
            "color": "#2a3f5f"
           }
          },
          "ternary": {
           "aaxis": {
            "gridcolor": "white",
            "linecolor": "white",
            "ticks": ""
           },
           "baxis": {
            "gridcolor": "white",
            "linecolor": "white",
            "ticks": ""
           },
           "bgcolor": "#E5ECF6",
           "caxis": {
            "gridcolor": "white",
            "linecolor": "white",
            "ticks": ""
           }
          },
          "title": {
           "x": 0.05
          },
          "xaxis": {
           "automargin": true,
           "gridcolor": "white",
           "linecolor": "white",
           "ticks": "",
           "title": {
            "standoff": 15
           },
           "zerolinecolor": "white",
           "zerolinewidth": 2
          },
          "yaxis": {
           "automargin": true,
           "gridcolor": "white",
           "linecolor": "white",
           "ticks": "",
           "title": {
            "standoff": 15
           },
           "zerolinecolor": "white",
           "zerolinewidth": 2
          }
         }
        },
        "title": {
         "text": "Confusion Matrix for NeuralNetwork_1"
        },
        "xaxis": {
         "scaleanchor": "y",
         "scaleratio": 1,
         "title": {
          "text": "Predicted Label"
         }
        },
        "yaxis": {
         "title": {
          "text": "Actual Label"
         }
        }
       }
      }
     },
     "metadata": {},
     "output_type": "display_data"
    },
    {
     "name": "stdout",
     "output_type": "stream",
     "text": [
      "\n",
      "Training NeuralNetwork_2...\n"
     ]
    },
    {
     "name": "stderr",
     "output_type": "stream",
     "text": [
      "/home/nirav24/.local/lib/python3.12/site-packages/sklearn/metrics/_classification.py:1531: UndefinedMetricWarning:\n",
      "\n",
      "Precision is ill-defined and being set to 0.0 in labels with no predicted samples. Use `zero_division` parameter to control this behavior.\n",
      "\n",
      "/home/nirav24/.local/lib/python3.12/site-packages/sklearn/metrics/_classification.py:1531: UndefinedMetricWarning:\n",
      "\n",
      "Precision is ill-defined and being set to 0.0 in labels with no predicted samples. Use `zero_division` parameter to control this behavior.\n",
      "\n",
      "/home/nirav24/.local/lib/python3.12/site-packages/sklearn/metrics/_classification.py:1531: UndefinedMetricWarning:\n",
      "\n",
      "Precision is ill-defined and being set to 0.0 in labels with no predicted samples. Use `zero_division` parameter to control this behavior.\n",
      "\n",
      "/home/nirav24/.local/lib/python3.12/site-packages/sklearn/metrics/_classification.py:1531: UndefinedMetricWarning:\n",
      "\n",
      "Precision is ill-defined and being set to 0.0 in labels with no predicted samples. Use `zero_division` parameter to control this behavior.\n",
      "\n",
      "/home/nirav24/.local/lib/python3.12/site-packages/sklearn/metrics/_classification.py:1531: UndefinedMetricWarning:\n",
      "\n",
      "Precision is ill-defined and being set to 0.0 in labels with no predicted samples. Use `zero_division` parameter to control this behavior.\n",
      "\n",
      "/home/nirav24/.local/lib/python3.12/site-packages/sklearn/metrics/_classification.py:1531: UndefinedMetricWarning:\n",
      "\n",
      "Precision is ill-defined and being set to 0.0 in labels with no predicted samples. Use `zero_division` parameter to control this behavior.\n",
      "\n",
      "/home/nirav24/.local/lib/python3.12/site-packages/sklearn/metrics/_classification.py:1531: UndefinedMetricWarning:\n",
      "\n",
      "Precision is ill-defined and being set to 0.0 in labels with no predicted samples. Use `zero_division` parameter to control this behavior.\n",
      "\n",
      "/home/nirav24/.local/lib/python3.12/site-packages/sklearn/metrics/_classification.py:1531: UndefinedMetricWarning:\n",
      "\n",
      "Precision is ill-defined and being set to 0.0 in labels with no predicted samples. Use `zero_division` parameter to control this behavior.\n",
      "\n"
     ]
    },
    {
     "data": {
      "application/vnd.plotly.v1+json": {
       "config": {
        "plotlyServerURL": "https://plot.ly"
       },
       "data": [
        {
         "colorscale": [
          [
           0,
           "rgb(247,251,255)"
          ],
          [
           0.125,
           "rgb(222,235,247)"
          ],
          [
           0.25,
           "rgb(198,219,239)"
          ],
          [
           0.375,
           "rgb(158,202,225)"
          ],
          [
           0.5,
           "rgb(107,174,214)"
          ],
          [
           0.625,
           "rgb(66,146,198)"
          ],
          [
           0.75,
           "rgb(33,113,181)"
          ],
          [
           0.875,
           "rgb(8,81,156)"
          ],
          [
           1,
           "rgb(8,48,107)"
          ]
         ],
         "showscale": true,
         "text": [
          [
           4,
           3,
           0,
           4,
           3,
           7
          ],
          [
           1,
           9,
           0,
           3,
           1,
           1
          ],
          [
           0,
           12,
           0,
           1,
           0,
           0
          ],
          [
           1,
           0,
           0,
           5,
           13,
           2
          ],
          [
           1,
           1,
           0,
           0,
           5,
           7
          ],
          [
           1,
           3,
           0,
           3,
           4,
           4
          ]
         ],
         "texttemplate": "%{text}",
         "type": "heatmap",
         "x": [
          "Predicted 0",
          "Predicted 1",
          "Predicted 2",
          "Predicted 3",
          "Predicted 4",
          "Predicted 5"
         ],
         "y": [
          "Actual 0",
          "Actual 1",
          "Actual 2",
          "Actual 3",
          "Actual 4",
          "Actual 5"
         ],
         "z": [
          [
           4,
           3,
           0,
           4,
           3,
           7
          ],
          [
           1,
           9,
           0,
           3,
           1,
           1
          ],
          [
           0,
           12,
           0,
           1,
           0,
           0
          ],
          [
           1,
           0,
           0,
           5,
           13,
           2
          ],
          [
           1,
           1,
           0,
           0,
           5,
           7
          ],
          [
           1,
           3,
           0,
           3,
           4,
           4
          ]
         ]
        }
       ],
       "layout": {
        "template": {
         "data": {
          "bar": [
           {
            "error_x": {
             "color": "#2a3f5f"
            },
            "error_y": {
             "color": "#2a3f5f"
            },
            "marker": {
             "line": {
              "color": "#E5ECF6",
              "width": 0.5
             },
             "pattern": {
              "fillmode": "overlay",
              "size": 10,
              "solidity": 0.2
             }
            },
            "type": "bar"
           }
          ],
          "barpolar": [
           {
            "marker": {
             "line": {
              "color": "#E5ECF6",
              "width": 0.5
             },
             "pattern": {
              "fillmode": "overlay",
              "size": 10,
              "solidity": 0.2
             }
            },
            "type": "barpolar"
           }
          ],
          "carpet": [
           {
            "aaxis": {
             "endlinecolor": "#2a3f5f",
             "gridcolor": "white",
             "linecolor": "white",
             "minorgridcolor": "white",
             "startlinecolor": "#2a3f5f"
            },
            "baxis": {
             "endlinecolor": "#2a3f5f",
             "gridcolor": "white",
             "linecolor": "white",
             "minorgridcolor": "white",
             "startlinecolor": "#2a3f5f"
            },
            "type": "carpet"
           }
          ],
          "choropleth": [
           {
            "colorbar": {
             "outlinewidth": 0,
             "ticks": ""
            },
            "type": "choropleth"
           }
          ],
          "contour": [
           {
            "colorbar": {
             "outlinewidth": 0,
             "ticks": ""
            },
            "colorscale": [
             [
              0,
              "#0d0887"
             ],
             [
              0.1111111111111111,
              "#46039f"
             ],
             [
              0.2222222222222222,
              "#7201a8"
             ],
             [
              0.3333333333333333,
              "#9c179e"
             ],
             [
              0.4444444444444444,
              "#bd3786"
             ],
             [
              0.5555555555555556,
              "#d8576b"
             ],
             [
              0.6666666666666666,
              "#ed7953"
             ],
             [
              0.7777777777777778,
              "#fb9f3a"
             ],
             [
              0.8888888888888888,
              "#fdca26"
             ],
             [
              1,
              "#f0f921"
             ]
            ],
            "type": "contour"
           }
          ],
          "contourcarpet": [
           {
            "colorbar": {
             "outlinewidth": 0,
             "ticks": ""
            },
            "type": "contourcarpet"
           }
          ],
          "heatmap": [
           {
            "colorbar": {
             "outlinewidth": 0,
             "ticks": ""
            },
            "colorscale": [
             [
              0,
              "#0d0887"
             ],
             [
              0.1111111111111111,
              "#46039f"
             ],
             [
              0.2222222222222222,
              "#7201a8"
             ],
             [
              0.3333333333333333,
              "#9c179e"
             ],
             [
              0.4444444444444444,
              "#bd3786"
             ],
             [
              0.5555555555555556,
              "#d8576b"
             ],
             [
              0.6666666666666666,
              "#ed7953"
             ],
             [
              0.7777777777777778,
              "#fb9f3a"
             ],
             [
              0.8888888888888888,
              "#fdca26"
             ],
             [
              1,
              "#f0f921"
             ]
            ],
            "type": "heatmap"
           }
          ],
          "heatmapgl": [
           {
            "colorbar": {
             "outlinewidth": 0,
             "ticks": ""
            },
            "colorscale": [
             [
              0,
              "#0d0887"
             ],
             [
              0.1111111111111111,
              "#46039f"
             ],
             [
              0.2222222222222222,
              "#7201a8"
             ],
             [
              0.3333333333333333,
              "#9c179e"
             ],
             [
              0.4444444444444444,
              "#bd3786"
             ],
             [
              0.5555555555555556,
              "#d8576b"
             ],
             [
              0.6666666666666666,
              "#ed7953"
             ],
             [
              0.7777777777777778,
              "#fb9f3a"
             ],
             [
              0.8888888888888888,
              "#fdca26"
             ],
             [
              1,
              "#f0f921"
             ]
            ],
            "type": "heatmapgl"
           }
          ],
          "histogram": [
           {
            "marker": {
             "pattern": {
              "fillmode": "overlay",
              "size": 10,
              "solidity": 0.2
             }
            },
            "type": "histogram"
           }
          ],
          "histogram2d": [
           {
            "colorbar": {
             "outlinewidth": 0,
             "ticks": ""
            },
            "colorscale": [
             [
              0,
              "#0d0887"
             ],
             [
              0.1111111111111111,
              "#46039f"
             ],
             [
              0.2222222222222222,
              "#7201a8"
             ],
             [
              0.3333333333333333,
              "#9c179e"
             ],
             [
              0.4444444444444444,
              "#bd3786"
             ],
             [
              0.5555555555555556,
              "#d8576b"
             ],
             [
              0.6666666666666666,
              "#ed7953"
             ],
             [
              0.7777777777777778,
              "#fb9f3a"
             ],
             [
              0.8888888888888888,
              "#fdca26"
             ],
             [
              1,
              "#f0f921"
             ]
            ],
            "type": "histogram2d"
           }
          ],
          "histogram2dcontour": [
           {
            "colorbar": {
             "outlinewidth": 0,
             "ticks": ""
            },
            "colorscale": [
             [
              0,
              "#0d0887"
             ],
             [
              0.1111111111111111,
              "#46039f"
             ],
             [
              0.2222222222222222,
              "#7201a8"
             ],
             [
              0.3333333333333333,
              "#9c179e"
             ],
             [
              0.4444444444444444,
              "#bd3786"
             ],
             [
              0.5555555555555556,
              "#d8576b"
             ],
             [
              0.6666666666666666,
              "#ed7953"
             ],
             [
              0.7777777777777778,
              "#fb9f3a"
             ],
             [
              0.8888888888888888,
              "#fdca26"
             ],
             [
              1,
              "#f0f921"
             ]
            ],
            "type": "histogram2dcontour"
           }
          ],
          "mesh3d": [
           {
            "colorbar": {
             "outlinewidth": 0,
             "ticks": ""
            },
            "type": "mesh3d"
           }
          ],
          "parcoords": [
           {
            "line": {
             "colorbar": {
              "outlinewidth": 0,
              "ticks": ""
             }
            },
            "type": "parcoords"
           }
          ],
          "pie": [
           {
            "automargin": true,
            "type": "pie"
           }
          ],
          "scatter": [
           {
            "fillpattern": {
             "fillmode": "overlay",
             "size": 10,
             "solidity": 0.2
            },
            "type": "scatter"
           }
          ],
          "scatter3d": [
           {
            "line": {
             "colorbar": {
              "outlinewidth": 0,
              "ticks": ""
             }
            },
            "marker": {
             "colorbar": {
              "outlinewidth": 0,
              "ticks": ""
             }
            },
            "type": "scatter3d"
           }
          ],
          "scattercarpet": [
           {
            "marker": {
             "colorbar": {
              "outlinewidth": 0,
              "ticks": ""
             }
            },
            "type": "scattercarpet"
           }
          ],
          "scattergeo": [
           {
            "marker": {
             "colorbar": {
              "outlinewidth": 0,
              "ticks": ""
             }
            },
            "type": "scattergeo"
           }
          ],
          "scattergl": [
           {
            "marker": {
             "colorbar": {
              "outlinewidth": 0,
              "ticks": ""
             }
            },
            "type": "scattergl"
           }
          ],
          "scattermapbox": [
           {
            "marker": {
             "colorbar": {
              "outlinewidth": 0,
              "ticks": ""
             }
            },
            "type": "scattermapbox"
           }
          ],
          "scatterpolar": [
           {
            "marker": {
             "colorbar": {
              "outlinewidth": 0,
              "ticks": ""
             }
            },
            "type": "scatterpolar"
           }
          ],
          "scatterpolargl": [
           {
            "marker": {
             "colorbar": {
              "outlinewidth": 0,
              "ticks": ""
             }
            },
            "type": "scatterpolargl"
           }
          ],
          "scatterternary": [
           {
            "marker": {
             "colorbar": {
              "outlinewidth": 0,
              "ticks": ""
             }
            },
            "type": "scatterternary"
           }
          ],
          "surface": [
           {
            "colorbar": {
             "outlinewidth": 0,
             "ticks": ""
            },
            "colorscale": [
             [
              0,
              "#0d0887"
             ],
             [
              0.1111111111111111,
              "#46039f"
             ],
             [
              0.2222222222222222,
              "#7201a8"
             ],
             [
              0.3333333333333333,
              "#9c179e"
             ],
             [
              0.4444444444444444,
              "#bd3786"
             ],
             [
              0.5555555555555556,
              "#d8576b"
             ],
             [
              0.6666666666666666,
              "#ed7953"
             ],
             [
              0.7777777777777778,
              "#fb9f3a"
             ],
             [
              0.8888888888888888,
              "#fdca26"
             ],
             [
              1,
              "#f0f921"
             ]
            ],
            "type": "surface"
           }
          ],
          "table": [
           {
            "cells": {
             "fill": {
              "color": "#EBF0F8"
             },
             "line": {
              "color": "white"
             }
            },
            "header": {
             "fill": {
              "color": "#C8D4E3"
             },
             "line": {
              "color": "white"
             }
            },
            "type": "table"
           }
          ]
         },
         "layout": {
          "annotationdefaults": {
           "arrowcolor": "#2a3f5f",
           "arrowhead": 0,
           "arrowwidth": 1
          },
          "autotypenumbers": "strict",
          "coloraxis": {
           "colorbar": {
            "outlinewidth": 0,
            "ticks": ""
           }
          },
          "colorscale": {
           "diverging": [
            [
             0,
             "#8e0152"
            ],
            [
             0.1,
             "#c51b7d"
            ],
            [
             0.2,
             "#de77ae"
            ],
            [
             0.3,
             "#f1b6da"
            ],
            [
             0.4,
             "#fde0ef"
            ],
            [
             0.5,
             "#f7f7f7"
            ],
            [
             0.6,
             "#e6f5d0"
            ],
            [
             0.7,
             "#b8e186"
            ],
            [
             0.8,
             "#7fbc41"
            ],
            [
             0.9,
             "#4d9221"
            ],
            [
             1,
             "#276419"
            ]
           ],
           "sequential": [
            [
             0,
             "#0d0887"
            ],
            [
             0.1111111111111111,
             "#46039f"
            ],
            [
             0.2222222222222222,
             "#7201a8"
            ],
            [
             0.3333333333333333,
             "#9c179e"
            ],
            [
             0.4444444444444444,
             "#bd3786"
            ],
            [
             0.5555555555555556,
             "#d8576b"
            ],
            [
             0.6666666666666666,
             "#ed7953"
            ],
            [
             0.7777777777777778,
             "#fb9f3a"
            ],
            [
             0.8888888888888888,
             "#fdca26"
            ],
            [
             1,
             "#f0f921"
            ]
           ],
           "sequentialminus": [
            [
             0,
             "#0d0887"
            ],
            [
             0.1111111111111111,
             "#46039f"
            ],
            [
             0.2222222222222222,
             "#7201a8"
            ],
            [
             0.3333333333333333,
             "#9c179e"
            ],
            [
             0.4444444444444444,
             "#bd3786"
            ],
            [
             0.5555555555555556,
             "#d8576b"
            ],
            [
             0.6666666666666666,
             "#ed7953"
            ],
            [
             0.7777777777777778,
             "#fb9f3a"
            ],
            [
             0.8888888888888888,
             "#fdca26"
            ],
            [
             1,
             "#f0f921"
            ]
           ]
          },
          "colorway": [
           "#636efa",
           "#EF553B",
           "#00cc96",
           "#ab63fa",
           "#FFA15A",
           "#19d3f3",
           "#FF6692",
           "#B6E880",
           "#FF97FF",
           "#FECB52"
          ],
          "font": {
           "color": "#2a3f5f"
          },
          "geo": {
           "bgcolor": "white",
           "lakecolor": "white",
           "landcolor": "#E5ECF6",
           "showlakes": true,
           "showland": true,
           "subunitcolor": "white"
          },
          "hoverlabel": {
           "align": "left"
          },
          "hovermode": "closest",
          "mapbox": {
           "style": "light"
          },
          "paper_bgcolor": "white",
          "plot_bgcolor": "#E5ECF6",
          "polar": {
           "angularaxis": {
            "gridcolor": "white",
            "linecolor": "white",
            "ticks": ""
           },
           "bgcolor": "#E5ECF6",
           "radialaxis": {
            "gridcolor": "white",
            "linecolor": "white",
            "ticks": ""
           }
          },
          "scene": {
           "xaxis": {
            "backgroundcolor": "#E5ECF6",
            "gridcolor": "white",
            "gridwidth": 2,
            "linecolor": "white",
            "showbackground": true,
            "ticks": "",
            "zerolinecolor": "white"
           },
           "yaxis": {
            "backgroundcolor": "#E5ECF6",
            "gridcolor": "white",
            "gridwidth": 2,
            "linecolor": "white",
            "showbackground": true,
            "ticks": "",
            "zerolinecolor": "white"
           },
           "zaxis": {
            "backgroundcolor": "#E5ECF6",
            "gridcolor": "white",
            "gridwidth": 2,
            "linecolor": "white",
            "showbackground": true,
            "ticks": "",
            "zerolinecolor": "white"
           }
          },
          "shapedefaults": {
           "line": {
            "color": "#2a3f5f"
           }
          },
          "ternary": {
           "aaxis": {
            "gridcolor": "white",
            "linecolor": "white",
            "ticks": ""
           },
           "baxis": {
            "gridcolor": "white",
            "linecolor": "white",
            "ticks": ""
           },
           "bgcolor": "#E5ECF6",
           "caxis": {
            "gridcolor": "white",
            "linecolor": "white",
            "ticks": ""
           }
          },
          "title": {
           "x": 0.05
          },
          "xaxis": {
           "automargin": true,
           "gridcolor": "white",
           "linecolor": "white",
           "ticks": "",
           "title": {
            "standoff": 15
           },
           "zerolinecolor": "white",
           "zerolinewidth": 2
          },
          "yaxis": {
           "automargin": true,
           "gridcolor": "white",
           "linecolor": "white",
           "ticks": "",
           "title": {
            "standoff": 15
           },
           "zerolinecolor": "white",
           "zerolinewidth": 2
          }
         }
        },
        "title": {
         "text": "Confusion Matrix for NeuralNetwork_2"
        },
        "xaxis": {
         "scaleanchor": "y",
         "scaleratio": 1,
         "title": {
          "text": "Predicted Label"
         }
        },
        "yaxis": {
         "title": {
          "text": "Actual Label"
         }
        }
       }
      }
     },
     "metadata": {},
     "output_type": "display_data"
    },
    {
     "name": "stdout",
     "output_type": "stream",
     "text": [
      "\n",
      "Training NeuralNetwork_3...\n"
     ]
    },
    {
     "name": "stderr",
     "output_type": "stream",
     "text": [
      "/home/nirav24/.local/lib/python3.12/site-packages/sklearn/neural_network/_multilayer_perceptron.py:690: ConvergenceWarning:\n",
      "\n",
      "Stochastic Optimizer: Maximum iterations (200) reached and the optimization hasn't converged yet.\n",
      "\n",
      "/home/nirav24/.local/lib/python3.12/site-packages/sklearn/metrics/_classification.py:1531: UndefinedMetricWarning:\n",
      "\n",
      "Precision is ill-defined and being set to 0.0 in labels with no predicted samples. Use `zero_division` parameter to control this behavior.\n",
      "\n",
      "/home/nirav24/.local/lib/python3.12/site-packages/sklearn/metrics/_classification.py:1531: UndefinedMetricWarning:\n",
      "\n",
      "Precision is ill-defined and being set to 0.0 in labels with no predicted samples. Use `zero_division` parameter to control this behavior.\n",
      "\n",
      "/home/nirav24/.local/lib/python3.12/site-packages/sklearn/metrics/_classification.py:1531: UndefinedMetricWarning:\n",
      "\n",
      "Precision is ill-defined and being set to 0.0 in labels with no predicted samples. Use `zero_division` parameter to control this behavior.\n",
      "\n",
      "/home/nirav24/.local/lib/python3.12/site-packages/sklearn/metrics/_classification.py:1531: UndefinedMetricWarning:\n",
      "\n",
      "Precision is ill-defined and being set to 0.0 in labels with no predicted samples. Use `zero_division` parameter to control this behavior.\n",
      "\n",
      "/home/nirav24/.local/lib/python3.12/site-packages/sklearn/metrics/_classification.py:1531: UndefinedMetricWarning:\n",
      "\n",
      "Precision is ill-defined and being set to 0.0 in labels with no predicted samples. Use `zero_division` parameter to control this behavior.\n",
      "\n",
      "/home/nirav24/.local/lib/python3.12/site-packages/sklearn/metrics/_classification.py:1531: UndefinedMetricWarning:\n",
      "\n",
      "Precision is ill-defined and being set to 0.0 in labels with no predicted samples. Use `zero_division` parameter to control this behavior.\n",
      "\n",
      "/home/nirav24/.local/lib/python3.12/site-packages/sklearn/metrics/_classification.py:1531: UndefinedMetricWarning:\n",
      "\n",
      "Precision is ill-defined and being set to 0.0 in labels with no predicted samples. Use `zero_division` parameter to control this behavior.\n",
      "\n",
      "/home/nirav24/.local/lib/python3.12/site-packages/sklearn/metrics/_classification.py:1531: UndefinedMetricWarning:\n",
      "\n",
      "Precision is ill-defined and being set to 0.0 in labels with no predicted samples. Use `zero_division` parameter to control this behavior.\n",
      "\n"
     ]
    },
    {
     "data": {
      "application/vnd.plotly.v1+json": {
       "config": {
        "plotlyServerURL": "https://plot.ly"
       },
       "data": [
        {
         "colorscale": [
          [
           0,
           "rgb(247,251,255)"
          ],
          [
           0.125,
           "rgb(222,235,247)"
          ],
          [
           0.25,
           "rgb(198,219,239)"
          ],
          [
           0.375,
           "rgb(158,202,225)"
          ],
          [
           0.5,
           "rgb(107,174,214)"
          ],
          [
           0.625,
           "rgb(66,146,198)"
          ],
          [
           0.75,
           "rgb(33,113,181)"
          ],
          [
           0.875,
           "rgb(8,81,156)"
          ],
          [
           1,
           "rgb(8,48,107)"
          ]
         ],
         "showscale": true,
         "text": [
          [
           0,
           0,
           0,
           21,
           0,
           0
          ],
          [
           0,
           0,
           0,
           15,
           0,
           0
          ],
          [
           0,
           0,
           0,
           13,
           0,
           0
          ],
          [
           0,
           0,
           0,
           21,
           0,
           0
          ],
          [
           0,
           0,
           0,
           14,
           0,
           0
          ],
          [
           0,
           0,
           0,
           15,
           0,
           0
          ]
         ],
         "texttemplate": "%{text}",
         "type": "heatmap",
         "x": [
          "Predicted 0",
          "Predicted 1",
          "Predicted 2",
          "Predicted 3",
          "Predicted 4",
          "Predicted 5"
         ],
         "y": [
          "Actual 0",
          "Actual 1",
          "Actual 2",
          "Actual 3",
          "Actual 4",
          "Actual 5"
         ],
         "z": [
          [
           0,
           0,
           0,
           21,
           0,
           0
          ],
          [
           0,
           0,
           0,
           15,
           0,
           0
          ],
          [
           0,
           0,
           0,
           13,
           0,
           0
          ],
          [
           0,
           0,
           0,
           21,
           0,
           0
          ],
          [
           0,
           0,
           0,
           14,
           0,
           0
          ],
          [
           0,
           0,
           0,
           15,
           0,
           0
          ]
         ]
        }
       ],
       "layout": {
        "template": {
         "data": {
          "bar": [
           {
            "error_x": {
             "color": "#2a3f5f"
            },
            "error_y": {
             "color": "#2a3f5f"
            },
            "marker": {
             "line": {
              "color": "#E5ECF6",
              "width": 0.5
             },
             "pattern": {
              "fillmode": "overlay",
              "size": 10,
              "solidity": 0.2
             }
            },
            "type": "bar"
           }
          ],
          "barpolar": [
           {
            "marker": {
             "line": {
              "color": "#E5ECF6",
              "width": 0.5
             },
             "pattern": {
              "fillmode": "overlay",
              "size": 10,
              "solidity": 0.2
             }
            },
            "type": "barpolar"
           }
          ],
          "carpet": [
           {
            "aaxis": {
             "endlinecolor": "#2a3f5f",
             "gridcolor": "white",
             "linecolor": "white",
             "minorgridcolor": "white",
             "startlinecolor": "#2a3f5f"
            },
            "baxis": {
             "endlinecolor": "#2a3f5f",
             "gridcolor": "white",
             "linecolor": "white",
             "minorgridcolor": "white",
             "startlinecolor": "#2a3f5f"
            },
            "type": "carpet"
           }
          ],
          "choropleth": [
           {
            "colorbar": {
             "outlinewidth": 0,
             "ticks": ""
            },
            "type": "choropleth"
           }
          ],
          "contour": [
           {
            "colorbar": {
             "outlinewidth": 0,
             "ticks": ""
            },
            "colorscale": [
             [
              0,
              "#0d0887"
             ],
             [
              0.1111111111111111,
              "#46039f"
             ],
             [
              0.2222222222222222,
              "#7201a8"
             ],
             [
              0.3333333333333333,
              "#9c179e"
             ],
             [
              0.4444444444444444,
              "#bd3786"
             ],
             [
              0.5555555555555556,
              "#d8576b"
             ],
             [
              0.6666666666666666,
              "#ed7953"
             ],
             [
              0.7777777777777778,
              "#fb9f3a"
             ],
             [
              0.8888888888888888,
              "#fdca26"
             ],
             [
              1,
              "#f0f921"
             ]
            ],
            "type": "contour"
           }
          ],
          "contourcarpet": [
           {
            "colorbar": {
             "outlinewidth": 0,
             "ticks": ""
            },
            "type": "contourcarpet"
           }
          ],
          "heatmap": [
           {
            "colorbar": {
             "outlinewidth": 0,
             "ticks": ""
            },
            "colorscale": [
             [
              0,
              "#0d0887"
             ],
             [
              0.1111111111111111,
              "#46039f"
             ],
             [
              0.2222222222222222,
              "#7201a8"
             ],
             [
              0.3333333333333333,
              "#9c179e"
             ],
             [
              0.4444444444444444,
              "#bd3786"
             ],
             [
              0.5555555555555556,
              "#d8576b"
             ],
             [
              0.6666666666666666,
              "#ed7953"
             ],
             [
              0.7777777777777778,
              "#fb9f3a"
             ],
             [
              0.8888888888888888,
              "#fdca26"
             ],
             [
              1,
              "#f0f921"
             ]
            ],
            "type": "heatmap"
           }
          ],
          "heatmapgl": [
           {
            "colorbar": {
             "outlinewidth": 0,
             "ticks": ""
            },
            "colorscale": [
             [
              0,
              "#0d0887"
             ],
             [
              0.1111111111111111,
              "#46039f"
             ],
             [
              0.2222222222222222,
              "#7201a8"
             ],
             [
              0.3333333333333333,
              "#9c179e"
             ],
             [
              0.4444444444444444,
              "#bd3786"
             ],
             [
              0.5555555555555556,
              "#d8576b"
             ],
             [
              0.6666666666666666,
              "#ed7953"
             ],
             [
              0.7777777777777778,
              "#fb9f3a"
             ],
             [
              0.8888888888888888,
              "#fdca26"
             ],
             [
              1,
              "#f0f921"
             ]
            ],
            "type": "heatmapgl"
           }
          ],
          "histogram": [
           {
            "marker": {
             "pattern": {
              "fillmode": "overlay",
              "size": 10,
              "solidity": 0.2
             }
            },
            "type": "histogram"
           }
          ],
          "histogram2d": [
           {
            "colorbar": {
             "outlinewidth": 0,
             "ticks": ""
            },
            "colorscale": [
             [
              0,
              "#0d0887"
             ],
             [
              0.1111111111111111,
              "#46039f"
             ],
             [
              0.2222222222222222,
              "#7201a8"
             ],
             [
              0.3333333333333333,
              "#9c179e"
             ],
             [
              0.4444444444444444,
              "#bd3786"
             ],
             [
              0.5555555555555556,
              "#d8576b"
             ],
             [
              0.6666666666666666,
              "#ed7953"
             ],
             [
              0.7777777777777778,
              "#fb9f3a"
             ],
             [
              0.8888888888888888,
              "#fdca26"
             ],
             [
              1,
              "#f0f921"
             ]
            ],
            "type": "histogram2d"
           }
          ],
          "histogram2dcontour": [
           {
            "colorbar": {
             "outlinewidth": 0,
             "ticks": ""
            },
            "colorscale": [
             [
              0,
              "#0d0887"
             ],
             [
              0.1111111111111111,
              "#46039f"
             ],
             [
              0.2222222222222222,
              "#7201a8"
             ],
             [
              0.3333333333333333,
              "#9c179e"
             ],
             [
              0.4444444444444444,
              "#bd3786"
             ],
             [
              0.5555555555555556,
              "#d8576b"
             ],
             [
              0.6666666666666666,
              "#ed7953"
             ],
             [
              0.7777777777777778,
              "#fb9f3a"
             ],
             [
              0.8888888888888888,
              "#fdca26"
             ],
             [
              1,
              "#f0f921"
             ]
            ],
            "type": "histogram2dcontour"
           }
          ],
          "mesh3d": [
           {
            "colorbar": {
             "outlinewidth": 0,
             "ticks": ""
            },
            "type": "mesh3d"
           }
          ],
          "parcoords": [
           {
            "line": {
             "colorbar": {
              "outlinewidth": 0,
              "ticks": ""
             }
            },
            "type": "parcoords"
           }
          ],
          "pie": [
           {
            "automargin": true,
            "type": "pie"
           }
          ],
          "scatter": [
           {
            "fillpattern": {
             "fillmode": "overlay",
             "size": 10,
             "solidity": 0.2
            },
            "type": "scatter"
           }
          ],
          "scatter3d": [
           {
            "line": {
             "colorbar": {
              "outlinewidth": 0,
              "ticks": ""
             }
            },
            "marker": {
             "colorbar": {
              "outlinewidth": 0,
              "ticks": ""
             }
            },
            "type": "scatter3d"
           }
          ],
          "scattercarpet": [
           {
            "marker": {
             "colorbar": {
              "outlinewidth": 0,
              "ticks": ""
             }
            },
            "type": "scattercarpet"
           }
          ],
          "scattergeo": [
           {
            "marker": {
             "colorbar": {
              "outlinewidth": 0,
              "ticks": ""
             }
            },
            "type": "scattergeo"
           }
          ],
          "scattergl": [
           {
            "marker": {
             "colorbar": {
              "outlinewidth": 0,
              "ticks": ""
             }
            },
            "type": "scattergl"
           }
          ],
          "scattermapbox": [
           {
            "marker": {
             "colorbar": {
              "outlinewidth": 0,
              "ticks": ""
             }
            },
            "type": "scattermapbox"
           }
          ],
          "scatterpolar": [
           {
            "marker": {
             "colorbar": {
              "outlinewidth": 0,
              "ticks": ""
             }
            },
            "type": "scatterpolar"
           }
          ],
          "scatterpolargl": [
           {
            "marker": {
             "colorbar": {
              "outlinewidth": 0,
              "ticks": ""
             }
            },
            "type": "scatterpolargl"
           }
          ],
          "scatterternary": [
           {
            "marker": {
             "colorbar": {
              "outlinewidth": 0,
              "ticks": ""
             }
            },
            "type": "scatterternary"
           }
          ],
          "surface": [
           {
            "colorbar": {
             "outlinewidth": 0,
             "ticks": ""
            },
            "colorscale": [
             [
              0,
              "#0d0887"
             ],
             [
              0.1111111111111111,
              "#46039f"
             ],
             [
              0.2222222222222222,
              "#7201a8"
             ],
             [
              0.3333333333333333,
              "#9c179e"
             ],
             [
              0.4444444444444444,
              "#bd3786"
             ],
             [
              0.5555555555555556,
              "#d8576b"
             ],
             [
              0.6666666666666666,
              "#ed7953"
             ],
             [
              0.7777777777777778,
              "#fb9f3a"
             ],
             [
              0.8888888888888888,
              "#fdca26"
             ],
             [
              1,
              "#f0f921"
             ]
            ],
            "type": "surface"
           }
          ],
          "table": [
           {
            "cells": {
             "fill": {
              "color": "#EBF0F8"
             },
             "line": {
              "color": "white"
             }
            },
            "header": {
             "fill": {
              "color": "#C8D4E3"
             },
             "line": {
              "color": "white"
             }
            },
            "type": "table"
           }
          ]
         },
         "layout": {
          "annotationdefaults": {
           "arrowcolor": "#2a3f5f",
           "arrowhead": 0,
           "arrowwidth": 1
          },
          "autotypenumbers": "strict",
          "coloraxis": {
           "colorbar": {
            "outlinewidth": 0,
            "ticks": ""
           }
          },
          "colorscale": {
           "diverging": [
            [
             0,
             "#8e0152"
            ],
            [
             0.1,
             "#c51b7d"
            ],
            [
             0.2,
             "#de77ae"
            ],
            [
             0.3,
             "#f1b6da"
            ],
            [
             0.4,
             "#fde0ef"
            ],
            [
             0.5,
             "#f7f7f7"
            ],
            [
             0.6,
             "#e6f5d0"
            ],
            [
             0.7,
             "#b8e186"
            ],
            [
             0.8,
             "#7fbc41"
            ],
            [
             0.9,
             "#4d9221"
            ],
            [
             1,
             "#276419"
            ]
           ],
           "sequential": [
            [
             0,
             "#0d0887"
            ],
            [
             0.1111111111111111,
             "#46039f"
            ],
            [
             0.2222222222222222,
             "#7201a8"
            ],
            [
             0.3333333333333333,
             "#9c179e"
            ],
            [
             0.4444444444444444,
             "#bd3786"
            ],
            [
             0.5555555555555556,
             "#d8576b"
            ],
            [
             0.6666666666666666,
             "#ed7953"
            ],
            [
             0.7777777777777778,
             "#fb9f3a"
            ],
            [
             0.8888888888888888,
             "#fdca26"
            ],
            [
             1,
             "#f0f921"
            ]
           ],
           "sequentialminus": [
            [
             0,
             "#0d0887"
            ],
            [
             0.1111111111111111,
             "#46039f"
            ],
            [
             0.2222222222222222,
             "#7201a8"
            ],
            [
             0.3333333333333333,
             "#9c179e"
            ],
            [
             0.4444444444444444,
             "#bd3786"
            ],
            [
             0.5555555555555556,
             "#d8576b"
            ],
            [
             0.6666666666666666,
             "#ed7953"
            ],
            [
             0.7777777777777778,
             "#fb9f3a"
            ],
            [
             0.8888888888888888,
             "#fdca26"
            ],
            [
             1,
             "#f0f921"
            ]
           ]
          },
          "colorway": [
           "#636efa",
           "#EF553B",
           "#00cc96",
           "#ab63fa",
           "#FFA15A",
           "#19d3f3",
           "#FF6692",
           "#B6E880",
           "#FF97FF",
           "#FECB52"
          ],
          "font": {
           "color": "#2a3f5f"
          },
          "geo": {
           "bgcolor": "white",
           "lakecolor": "white",
           "landcolor": "#E5ECF6",
           "showlakes": true,
           "showland": true,
           "subunitcolor": "white"
          },
          "hoverlabel": {
           "align": "left"
          },
          "hovermode": "closest",
          "mapbox": {
           "style": "light"
          },
          "paper_bgcolor": "white",
          "plot_bgcolor": "#E5ECF6",
          "polar": {
           "angularaxis": {
            "gridcolor": "white",
            "linecolor": "white",
            "ticks": ""
           },
           "bgcolor": "#E5ECF6",
           "radialaxis": {
            "gridcolor": "white",
            "linecolor": "white",
            "ticks": ""
           }
          },
          "scene": {
           "xaxis": {
            "backgroundcolor": "#E5ECF6",
            "gridcolor": "white",
            "gridwidth": 2,
            "linecolor": "white",
            "showbackground": true,
            "ticks": "",
            "zerolinecolor": "white"
           },
           "yaxis": {
            "backgroundcolor": "#E5ECF6",
            "gridcolor": "white",
            "gridwidth": 2,
            "linecolor": "white",
            "showbackground": true,
            "ticks": "",
            "zerolinecolor": "white"
           },
           "zaxis": {
            "backgroundcolor": "#E5ECF6",
            "gridcolor": "white",
            "gridwidth": 2,
            "linecolor": "white",
            "showbackground": true,
            "ticks": "",
            "zerolinecolor": "white"
           }
          },
          "shapedefaults": {
           "line": {
            "color": "#2a3f5f"
           }
          },
          "ternary": {
           "aaxis": {
            "gridcolor": "white",
            "linecolor": "white",
            "ticks": ""
           },
           "baxis": {
            "gridcolor": "white",
            "linecolor": "white",
            "ticks": ""
           },
           "bgcolor": "#E5ECF6",
           "caxis": {
            "gridcolor": "white",
            "linecolor": "white",
            "ticks": ""
           }
          },
          "title": {
           "x": 0.05
          },
          "xaxis": {
           "automargin": true,
           "gridcolor": "white",
           "linecolor": "white",
           "ticks": "",
           "title": {
            "standoff": 15
           },
           "zerolinecolor": "white",
           "zerolinewidth": 2
          },
          "yaxis": {
           "automargin": true,
           "gridcolor": "white",
           "linecolor": "white",
           "ticks": "",
           "title": {
            "standoff": 15
           },
           "zerolinecolor": "white",
           "zerolinewidth": 2
          }
         }
        },
        "title": {
         "text": "Confusion Matrix for NeuralNetwork_3"
        },
        "xaxis": {
         "scaleanchor": "y",
         "scaleratio": 1,
         "title": {
          "text": "Predicted Label"
         }
        },
        "yaxis": {
         "title": {
          "text": "Actual Label"
         }
        }
       }
      }
     },
     "metadata": {},
     "output_type": "display_data"
    },
    {
     "name": "stdout",
     "output_type": "stream",
     "text": [
      "\n",
      "Training NeuralNetwork_4...\n"
     ]
    },
    {
     "data": {
      "application/vnd.plotly.v1+json": {
       "config": {
        "plotlyServerURL": "https://plot.ly"
       },
       "data": [
        {
         "colorscale": [
          [
           0,
           "rgb(247,251,255)"
          ],
          [
           0.125,
           "rgb(222,235,247)"
          ],
          [
           0.25,
           "rgb(198,219,239)"
          ],
          [
           0.375,
           "rgb(158,202,225)"
          ],
          [
           0.5,
           "rgb(107,174,214)"
          ],
          [
           0.625,
           "rgb(66,146,198)"
          ],
          [
           0.75,
           "rgb(33,113,181)"
          ],
          [
           0.875,
           "rgb(8,81,156)"
          ],
          [
           1,
           "rgb(8,48,107)"
          ]
         ],
         "showscale": true,
         "text": [
          [
           8,
           0,
           7,
           0,
           0,
           6
          ],
          [
           12,
           0,
           2,
           0,
           0,
           1
          ],
          [
           12,
           0,
           0,
           1,
           0,
           0
          ],
          [
           0,
           6,
           7,
           0,
           6,
           2
          ],
          [
           1,
           0,
           7,
           0,
           0,
           6
          ],
          [
           6,
           0,
           6,
           0,
           0,
           3
          ]
         ],
         "texttemplate": "%{text}",
         "type": "heatmap",
         "x": [
          "Predicted 0",
          "Predicted 1",
          "Predicted 2",
          "Predicted 3",
          "Predicted 4",
          "Predicted 5"
         ],
         "y": [
          "Actual 0",
          "Actual 1",
          "Actual 2",
          "Actual 3",
          "Actual 4",
          "Actual 5"
         ],
         "z": [
          [
           8,
           0,
           7,
           0,
           0,
           6
          ],
          [
           12,
           0,
           2,
           0,
           0,
           1
          ],
          [
           12,
           0,
           0,
           1,
           0,
           0
          ],
          [
           0,
           6,
           7,
           0,
           6,
           2
          ],
          [
           1,
           0,
           7,
           0,
           0,
           6
          ],
          [
           6,
           0,
           6,
           0,
           0,
           3
          ]
         ]
        }
       ],
       "layout": {
        "template": {
         "data": {
          "bar": [
           {
            "error_x": {
             "color": "#2a3f5f"
            },
            "error_y": {
             "color": "#2a3f5f"
            },
            "marker": {
             "line": {
              "color": "#E5ECF6",
              "width": 0.5
             },
             "pattern": {
              "fillmode": "overlay",
              "size": 10,
              "solidity": 0.2
             }
            },
            "type": "bar"
           }
          ],
          "barpolar": [
           {
            "marker": {
             "line": {
              "color": "#E5ECF6",
              "width": 0.5
             },
             "pattern": {
              "fillmode": "overlay",
              "size": 10,
              "solidity": 0.2
             }
            },
            "type": "barpolar"
           }
          ],
          "carpet": [
           {
            "aaxis": {
             "endlinecolor": "#2a3f5f",
             "gridcolor": "white",
             "linecolor": "white",
             "minorgridcolor": "white",
             "startlinecolor": "#2a3f5f"
            },
            "baxis": {
             "endlinecolor": "#2a3f5f",
             "gridcolor": "white",
             "linecolor": "white",
             "minorgridcolor": "white",
             "startlinecolor": "#2a3f5f"
            },
            "type": "carpet"
           }
          ],
          "choropleth": [
           {
            "colorbar": {
             "outlinewidth": 0,
             "ticks": ""
            },
            "type": "choropleth"
           }
          ],
          "contour": [
           {
            "colorbar": {
             "outlinewidth": 0,
             "ticks": ""
            },
            "colorscale": [
             [
              0,
              "#0d0887"
             ],
             [
              0.1111111111111111,
              "#46039f"
             ],
             [
              0.2222222222222222,
              "#7201a8"
             ],
             [
              0.3333333333333333,
              "#9c179e"
             ],
             [
              0.4444444444444444,
              "#bd3786"
             ],
             [
              0.5555555555555556,
              "#d8576b"
             ],
             [
              0.6666666666666666,
              "#ed7953"
             ],
             [
              0.7777777777777778,
              "#fb9f3a"
             ],
             [
              0.8888888888888888,
              "#fdca26"
             ],
             [
              1,
              "#f0f921"
             ]
            ],
            "type": "contour"
           }
          ],
          "contourcarpet": [
           {
            "colorbar": {
             "outlinewidth": 0,
             "ticks": ""
            },
            "type": "contourcarpet"
           }
          ],
          "heatmap": [
           {
            "colorbar": {
             "outlinewidth": 0,
             "ticks": ""
            },
            "colorscale": [
             [
              0,
              "#0d0887"
             ],
             [
              0.1111111111111111,
              "#46039f"
             ],
             [
              0.2222222222222222,
              "#7201a8"
             ],
             [
              0.3333333333333333,
              "#9c179e"
             ],
             [
              0.4444444444444444,
              "#bd3786"
             ],
             [
              0.5555555555555556,
              "#d8576b"
             ],
             [
              0.6666666666666666,
              "#ed7953"
             ],
             [
              0.7777777777777778,
              "#fb9f3a"
             ],
             [
              0.8888888888888888,
              "#fdca26"
             ],
             [
              1,
              "#f0f921"
             ]
            ],
            "type": "heatmap"
           }
          ],
          "heatmapgl": [
           {
            "colorbar": {
             "outlinewidth": 0,
             "ticks": ""
            },
            "colorscale": [
             [
              0,
              "#0d0887"
             ],
             [
              0.1111111111111111,
              "#46039f"
             ],
             [
              0.2222222222222222,
              "#7201a8"
             ],
             [
              0.3333333333333333,
              "#9c179e"
             ],
             [
              0.4444444444444444,
              "#bd3786"
             ],
             [
              0.5555555555555556,
              "#d8576b"
             ],
             [
              0.6666666666666666,
              "#ed7953"
             ],
             [
              0.7777777777777778,
              "#fb9f3a"
             ],
             [
              0.8888888888888888,
              "#fdca26"
             ],
             [
              1,
              "#f0f921"
             ]
            ],
            "type": "heatmapgl"
           }
          ],
          "histogram": [
           {
            "marker": {
             "pattern": {
              "fillmode": "overlay",
              "size": 10,
              "solidity": 0.2
             }
            },
            "type": "histogram"
           }
          ],
          "histogram2d": [
           {
            "colorbar": {
             "outlinewidth": 0,
             "ticks": ""
            },
            "colorscale": [
             [
              0,
              "#0d0887"
             ],
             [
              0.1111111111111111,
              "#46039f"
             ],
             [
              0.2222222222222222,
              "#7201a8"
             ],
             [
              0.3333333333333333,
              "#9c179e"
             ],
             [
              0.4444444444444444,
              "#bd3786"
             ],
             [
              0.5555555555555556,
              "#d8576b"
             ],
             [
              0.6666666666666666,
              "#ed7953"
             ],
             [
              0.7777777777777778,
              "#fb9f3a"
             ],
             [
              0.8888888888888888,
              "#fdca26"
             ],
             [
              1,
              "#f0f921"
             ]
            ],
            "type": "histogram2d"
           }
          ],
          "histogram2dcontour": [
           {
            "colorbar": {
             "outlinewidth": 0,
             "ticks": ""
            },
            "colorscale": [
             [
              0,
              "#0d0887"
             ],
             [
              0.1111111111111111,
              "#46039f"
             ],
             [
              0.2222222222222222,
              "#7201a8"
             ],
             [
              0.3333333333333333,
              "#9c179e"
             ],
             [
              0.4444444444444444,
              "#bd3786"
             ],
             [
              0.5555555555555556,
              "#d8576b"
             ],
             [
              0.6666666666666666,
              "#ed7953"
             ],
             [
              0.7777777777777778,
              "#fb9f3a"
             ],
             [
              0.8888888888888888,
              "#fdca26"
             ],
             [
              1,
              "#f0f921"
             ]
            ],
            "type": "histogram2dcontour"
           }
          ],
          "mesh3d": [
           {
            "colorbar": {
             "outlinewidth": 0,
             "ticks": ""
            },
            "type": "mesh3d"
           }
          ],
          "parcoords": [
           {
            "line": {
             "colorbar": {
              "outlinewidth": 0,
              "ticks": ""
             }
            },
            "type": "parcoords"
           }
          ],
          "pie": [
           {
            "automargin": true,
            "type": "pie"
           }
          ],
          "scatter": [
           {
            "fillpattern": {
             "fillmode": "overlay",
             "size": 10,
             "solidity": 0.2
            },
            "type": "scatter"
           }
          ],
          "scatter3d": [
           {
            "line": {
             "colorbar": {
              "outlinewidth": 0,
              "ticks": ""
             }
            },
            "marker": {
             "colorbar": {
              "outlinewidth": 0,
              "ticks": ""
             }
            },
            "type": "scatter3d"
           }
          ],
          "scattercarpet": [
           {
            "marker": {
             "colorbar": {
              "outlinewidth": 0,
              "ticks": ""
             }
            },
            "type": "scattercarpet"
           }
          ],
          "scattergeo": [
           {
            "marker": {
             "colorbar": {
              "outlinewidth": 0,
              "ticks": ""
             }
            },
            "type": "scattergeo"
           }
          ],
          "scattergl": [
           {
            "marker": {
             "colorbar": {
              "outlinewidth": 0,
              "ticks": ""
             }
            },
            "type": "scattergl"
           }
          ],
          "scattermapbox": [
           {
            "marker": {
             "colorbar": {
              "outlinewidth": 0,
              "ticks": ""
             }
            },
            "type": "scattermapbox"
           }
          ],
          "scatterpolar": [
           {
            "marker": {
             "colorbar": {
              "outlinewidth": 0,
              "ticks": ""
             }
            },
            "type": "scatterpolar"
           }
          ],
          "scatterpolargl": [
           {
            "marker": {
             "colorbar": {
              "outlinewidth": 0,
              "ticks": ""
             }
            },
            "type": "scatterpolargl"
           }
          ],
          "scatterternary": [
           {
            "marker": {
             "colorbar": {
              "outlinewidth": 0,
              "ticks": ""
             }
            },
            "type": "scatterternary"
           }
          ],
          "surface": [
           {
            "colorbar": {
             "outlinewidth": 0,
             "ticks": ""
            },
            "colorscale": [
             [
              0,
              "#0d0887"
             ],
             [
              0.1111111111111111,
              "#46039f"
             ],
             [
              0.2222222222222222,
              "#7201a8"
             ],
             [
              0.3333333333333333,
              "#9c179e"
             ],
             [
              0.4444444444444444,
              "#bd3786"
             ],
             [
              0.5555555555555556,
              "#d8576b"
             ],
             [
              0.6666666666666666,
              "#ed7953"
             ],
             [
              0.7777777777777778,
              "#fb9f3a"
             ],
             [
              0.8888888888888888,
              "#fdca26"
             ],
             [
              1,
              "#f0f921"
             ]
            ],
            "type": "surface"
           }
          ],
          "table": [
           {
            "cells": {
             "fill": {
              "color": "#EBF0F8"
             },
             "line": {
              "color": "white"
             }
            },
            "header": {
             "fill": {
              "color": "#C8D4E3"
             },
             "line": {
              "color": "white"
             }
            },
            "type": "table"
           }
          ]
         },
         "layout": {
          "annotationdefaults": {
           "arrowcolor": "#2a3f5f",
           "arrowhead": 0,
           "arrowwidth": 1
          },
          "autotypenumbers": "strict",
          "coloraxis": {
           "colorbar": {
            "outlinewidth": 0,
            "ticks": ""
           }
          },
          "colorscale": {
           "diverging": [
            [
             0,
             "#8e0152"
            ],
            [
             0.1,
             "#c51b7d"
            ],
            [
             0.2,
             "#de77ae"
            ],
            [
             0.3,
             "#f1b6da"
            ],
            [
             0.4,
             "#fde0ef"
            ],
            [
             0.5,
             "#f7f7f7"
            ],
            [
             0.6,
             "#e6f5d0"
            ],
            [
             0.7,
             "#b8e186"
            ],
            [
             0.8,
             "#7fbc41"
            ],
            [
             0.9,
             "#4d9221"
            ],
            [
             1,
             "#276419"
            ]
           ],
           "sequential": [
            [
             0,
             "#0d0887"
            ],
            [
             0.1111111111111111,
             "#46039f"
            ],
            [
             0.2222222222222222,
             "#7201a8"
            ],
            [
             0.3333333333333333,
             "#9c179e"
            ],
            [
             0.4444444444444444,
             "#bd3786"
            ],
            [
             0.5555555555555556,
             "#d8576b"
            ],
            [
             0.6666666666666666,
             "#ed7953"
            ],
            [
             0.7777777777777778,
             "#fb9f3a"
            ],
            [
             0.8888888888888888,
             "#fdca26"
            ],
            [
             1,
             "#f0f921"
            ]
           ],
           "sequentialminus": [
            [
             0,
             "#0d0887"
            ],
            [
             0.1111111111111111,
             "#46039f"
            ],
            [
             0.2222222222222222,
             "#7201a8"
            ],
            [
             0.3333333333333333,
             "#9c179e"
            ],
            [
             0.4444444444444444,
             "#bd3786"
            ],
            [
             0.5555555555555556,
             "#d8576b"
            ],
            [
             0.6666666666666666,
             "#ed7953"
            ],
            [
             0.7777777777777778,
             "#fb9f3a"
            ],
            [
             0.8888888888888888,
             "#fdca26"
            ],
            [
             1,
             "#f0f921"
            ]
           ]
          },
          "colorway": [
           "#636efa",
           "#EF553B",
           "#00cc96",
           "#ab63fa",
           "#FFA15A",
           "#19d3f3",
           "#FF6692",
           "#B6E880",
           "#FF97FF",
           "#FECB52"
          ],
          "font": {
           "color": "#2a3f5f"
          },
          "geo": {
           "bgcolor": "white",
           "lakecolor": "white",
           "landcolor": "#E5ECF6",
           "showlakes": true,
           "showland": true,
           "subunitcolor": "white"
          },
          "hoverlabel": {
           "align": "left"
          },
          "hovermode": "closest",
          "mapbox": {
           "style": "light"
          },
          "paper_bgcolor": "white",
          "plot_bgcolor": "#E5ECF6",
          "polar": {
           "angularaxis": {
            "gridcolor": "white",
            "linecolor": "white",
            "ticks": ""
           },
           "bgcolor": "#E5ECF6",
           "radialaxis": {
            "gridcolor": "white",
            "linecolor": "white",
            "ticks": ""
           }
          },
          "scene": {
           "xaxis": {
            "backgroundcolor": "#E5ECF6",
            "gridcolor": "white",
            "gridwidth": 2,
            "linecolor": "white",
            "showbackground": true,
            "ticks": "",
            "zerolinecolor": "white"
           },
           "yaxis": {
            "backgroundcolor": "#E5ECF6",
            "gridcolor": "white",
            "gridwidth": 2,
            "linecolor": "white",
            "showbackground": true,
            "ticks": "",
            "zerolinecolor": "white"
           },
           "zaxis": {
            "backgroundcolor": "#E5ECF6",
            "gridcolor": "white",
            "gridwidth": 2,
            "linecolor": "white",
            "showbackground": true,
            "ticks": "",
            "zerolinecolor": "white"
           }
          },
          "shapedefaults": {
           "line": {
            "color": "#2a3f5f"
           }
          },
          "ternary": {
           "aaxis": {
            "gridcolor": "white",
            "linecolor": "white",
            "ticks": ""
           },
           "baxis": {
            "gridcolor": "white",
            "linecolor": "white",
            "ticks": ""
           },
           "bgcolor": "#E5ECF6",
           "caxis": {
            "gridcolor": "white",
            "linecolor": "white",
            "ticks": ""
           }
          },
          "title": {
           "x": 0.05
          },
          "xaxis": {
           "automargin": true,
           "gridcolor": "white",
           "linecolor": "white",
           "ticks": "",
           "title": {
            "standoff": 15
           },
           "zerolinecolor": "white",
           "zerolinewidth": 2
          },
          "yaxis": {
           "automargin": true,
           "gridcolor": "white",
           "linecolor": "white",
           "ticks": "",
           "title": {
            "standoff": 15
           },
           "zerolinecolor": "white",
           "zerolinewidth": 2
          }
         }
        },
        "title": {
         "text": "Confusion Matrix for NeuralNetwork_4"
        },
        "xaxis": {
         "scaleanchor": "y",
         "scaleratio": 1,
         "title": {
          "text": "Predicted Label"
         }
        },
        "yaxis": {
         "title": {
          "text": "Actual Label"
         }
        }
       }
      }
     },
     "metadata": {},
     "output_type": "display_data"
    }
   ],
   "source": [
    "import plotly.graph_objects as go\n",
    "\n",
    "results = {}\n",
    "\n",
    "# Training, prediction, and metric calculations\n",
    "for model_name, model in models.items():\n",
    "    print(f\"\\nTraining {model_name}...\")\n",
    "    model.fit(X_train, y_train_encoded)  # Train the model\n",
    "    y_pred_train = model.predict(X_train) #Predict on train set\n",
    "    y_pred_test = model.predict(X_test)  # Predict on the test set\n",
    "    \n",
    "    # Storing metrics\n",
    "    results[model_name] = {\n",
    "        \"Accuracy_Train\": accuracy_score(y_train_encoded, y_pred_train),\n",
    "        \"Accuracy_Test\": accuracy_score(y_test_encoded, y_pred_test),\n",
    "        \"Precision\": precision_score(y_train_encoded, y_pred_train, average='weighted'),\n",
    "        \"Precision\": precision_score(y_test_encoded, y_pred_test, average='weighted'),\n",
    "        \"Recall\": recall_score(y_train_encoded, y_pred_train, average='weighted'),\n",
    "        \"Recall\": recall_score(y_test_encoded, y_pred_test, average='weighted'),\n",
    "        \"F1 Score\": f1_score(y_train_encoded, y_pred_train, average='weighted'),\n",
    "        \"F1 Score\": f1_score(y_test_encoded, y_pred_test, average='weighted'),\n",
    "        \"Confusion Matrix\": confusion_matrix(y_test_encoded, y_pred_test),\n",
    "        \"Classification Report\": classification_report(y_train_encoded, y_pred_train),\n",
    "        \"Classification Report\": classification_report(y_test_encoded, y_pred_test)\n",
    "    }\n",
    "\n",
    "    # Plotting the confusion matrix using Plotly with numbers displayed and square grid\n",
    "    confusion_mat = results[model_name][\"Confusion Matrix\"]\n",
    "    fig = go.Figure(data=go.Heatmap(\n",
    "        z=confusion_mat,\n",
    "        x=[f\"Predicted {i}\" for i in range(len(confusion_mat))],\n",
    "        y=[f\"Actual {i}\" for i in range(len(confusion_mat))],\n",
    "        colorscale=\"Blues\",\n",
    "        text=confusion_mat,  # Display numbers in each cell\n",
    "        texttemplate=\"%{text}\",  # Format to show text values\n",
    "        showscale=True\n",
    "    ))\n",
    "    fig.update_layout(\n",
    "        title=f\"Confusion Matrix for {model_name}\",\n",
    "        xaxis_title=\"Predicted Label\",\n",
    "        yaxis_title=\"Actual Label\",\n",
    "        xaxis=dict(scaleanchor=\"y\", scaleratio=1)  # Ensures square cells\n",
    "    )\n",
    "    fig.show()\n"
   ]
  },
  {
   "cell_type": "code",
   "execution_count": 42,
   "metadata": {},
   "outputs": [
    {
     "name": "stdout",
     "output_type": "stream",
     "text": [
      "\n",
      "Metrics for Logistic Regression:\n",
      "\n",
      "Accuracy_Train:\n",
      "0.5747863247863247\n",
      "\n",
      "Accuracy_Test:\n",
      "0.6868686868686869\n",
      "\n",
      "Precision:\n",
      "0.6883464975570239\n",
      "\n",
      "Recall:\n",
      "0.6868686868686869\n",
      "\n",
      "F1 Score:\n",
      "0.6826291168217218\n",
      "\n",
      "Confusion Matrix:\n",
      "[[ 9  6  0  1  4  1]\n",
      " [ 1 12  0  0  1  1]\n",
      " [ 0  0 11  0  2  0]\n",
      " [ 2  0  0 19  0  0]\n",
      " [ 2  1  0  0  7  4]\n",
      " [ 1  0  3  0  1 10]]\n",
      "\n",
      "Classification Report:\n",
      "              precision    recall  f1-score   support\n",
      "\n",
      "           0       0.60      0.43      0.50        21\n",
      "           1       0.63      0.80      0.71        15\n",
      "           2       0.79      0.85      0.81        13\n",
      "           3       0.95      0.90      0.93        21\n",
      "           4       0.47      0.50      0.48        14\n",
      "           5       0.62      0.67      0.65        15\n",
      "\n",
      "    accuracy                           0.69        99\n",
      "   macro avg       0.68      0.69      0.68        99\n",
      "weighted avg       0.69      0.69      0.68        99\n",
      "\n",
      "\n",
      "\n",
      "Metrics for K-Nearest Neighbors:\n",
      "\n",
      "Accuracy_Train:\n",
      "0.7136752136752137\n",
      "\n",
      "Accuracy_Test:\n",
      "0.6363636363636364\n",
      "\n",
      "Precision:\n",
      "0.6362791229798902\n",
      "\n",
      "Recall:\n",
      "0.6363636363636364\n",
      "\n",
      "F1 Score:\n",
      "0.6273233091625618\n",
      "\n",
      "Confusion Matrix:\n",
      "[[ 7  6  0  0  1  7]\n",
      " [ 1 12  0  0  1  1]\n",
      " [ 0  0 13  0  0  0]\n",
      " [ 0  0  0 20  1  0]\n",
      " [ 5  0  1  0  5  3]\n",
      " [ 2  5  0  0  2  6]]\n",
      "\n",
      "Classification Report:\n",
      "              precision    recall  f1-score   support\n",
      "\n",
      "           0       0.47      0.33      0.39        21\n",
      "           1       0.52      0.80      0.63        15\n",
      "           2       0.93      1.00      0.96        13\n",
      "           3       1.00      0.95      0.98        21\n",
      "           4       0.50      0.36      0.42        14\n",
      "           5       0.35      0.40      0.38        15\n",
      "\n",
      "    accuracy                           0.64        99\n",
      "   macro avg       0.63      0.64      0.63        99\n",
      "weighted avg       0.64      0.64      0.63        99\n",
      "\n",
      "\n",
      "\n",
      "Metrics for Random Forest:\n",
      "\n",
      "Accuracy_Train:\n",
      "0.9957264957264957\n",
      "\n",
      "Accuracy_Test:\n",
      "0.7373737373737373\n",
      "\n",
      "Precision:\n",
      "0.770356311119985\n",
      "\n",
      "Recall:\n",
      "0.7373737373737373\n",
      "\n",
      "F1 Score:\n",
      "0.7422905525846702\n",
      "\n",
      "Confusion Matrix:\n",
      "[[11  3  0  0  5  2]\n",
      " [ 0 10  0  0  1  4]\n",
      " [ 0  0 13  0  0  0]\n",
      " [ 0  2  0 19  0  0]\n",
      " [ 2  1  0  0 10  1]\n",
      " [ 0  3  0  0  2 10]]\n",
      "\n",
      "Classification Report:\n",
      "              precision    recall  f1-score   support\n",
      "\n",
      "           0       0.85      0.52      0.65        21\n",
      "           1       0.53      0.67      0.59        15\n",
      "           2       1.00      1.00      1.00        13\n",
      "           3       1.00      0.90      0.95        21\n",
      "           4       0.56      0.71      0.62        14\n",
      "           5       0.59      0.67      0.62        15\n",
      "\n",
      "    accuracy                           0.74        99\n",
      "   macro avg       0.75      0.75      0.74        99\n",
      "weighted avg       0.77      0.74      0.74        99\n",
      "\n",
      "\n",
      "\n",
      "Metrics for Gradient Boosting:\n",
      "\n",
      "Accuracy_Train:\n",
      "0.9957264957264957\n",
      "\n",
      "Accuracy_Test:\n",
      "0.7373737373737373\n",
      "\n",
      "Precision:\n",
      "0.7556234615058146\n",
      "\n",
      "Recall:\n",
      "0.7373737373737373\n",
      "\n",
      "F1 Score:\n",
      "0.7389941311520845\n",
      "\n",
      "Confusion Matrix:\n",
      "[[10  1  0  0  4  6]\n",
      " [ 1 10  0  0  1  3]\n",
      " [ 0  0 13  0  0  0]\n",
      " [ 0  2  0 19  0  0]\n",
      " [ 3  0  0  0 10  1]\n",
      " [ 1  1  0  0  2 11]]\n",
      "\n",
      "Classification Report:\n",
      "              precision    recall  f1-score   support\n",
      "\n",
      "           0       0.67      0.48      0.56        21\n",
      "           1       0.71      0.67      0.69        15\n",
      "           2       1.00      1.00      1.00        13\n",
      "           3       1.00      0.90      0.95        21\n",
      "           4       0.59      0.71      0.65        14\n",
      "           5       0.52      0.73      0.61        15\n",
      "\n",
      "    accuracy                           0.74        99\n",
      "   macro avg       0.75      0.75      0.74        99\n",
      "weighted avg       0.76      0.74      0.74        99\n",
      "\n",
      "\n",
      "\n",
      "Metrics for AdaBoost:\n",
      "\n",
      "Accuracy_Train:\n",
      "0.5876068376068376\n",
      "\n",
      "Accuracy_Test:\n",
      "0.6060606060606061\n",
      "\n",
      "Precision:\n",
      "0.5997280497280497\n",
      "\n",
      "Recall:\n",
      "0.6060606060606061\n",
      "\n",
      "F1 Score:\n",
      "0.5881506494180085\n",
      "\n",
      "Confusion Matrix:\n",
      "[[16  2  0  1  2  0]\n",
      " [ 3  4  0  0  2  6]\n",
      " [ 0  0 13  0  0  0]\n",
      " [ 0  2  0 19  0  0]\n",
      " [11  0  0  0  2  1]\n",
      " [ 6  1  0  0  2  6]]\n",
      "\n",
      "Classification Report:\n",
      "              precision    recall  f1-score   support\n",
      "\n",
      "           0       0.44      0.76      0.56        21\n",
      "           1       0.44      0.27      0.33        15\n",
      "           2       1.00      1.00      1.00        13\n",
      "           3       0.95      0.90      0.93        21\n",
      "           4       0.25      0.14      0.18        14\n",
      "           5       0.46      0.40      0.43        15\n",
      "\n",
      "    accuracy                           0.61        99\n",
      "   macro avg       0.59      0.58      0.57        99\n",
      "weighted avg       0.60      0.61      0.59        99\n",
      "\n",
      "\n",
      "\n",
      "Metrics for Naive Bayes:\n",
      "\n",
      "Accuracy_Train:\n",
      "0.6047008547008547\n",
      "\n",
      "Accuracy_Test:\n",
      "0.6565656565656566\n",
      "\n",
      "Precision:\n",
      "0.6925351100165607\n",
      "\n",
      "Recall:\n",
      "0.6565656565656566\n",
      "\n",
      "F1 Score:\n",
      "0.6496051423324151\n",
      "\n",
      "Confusion Matrix:\n",
      "[[10  6  0  3  2  0]\n",
      " [ 3 11  0  0  1  0]\n",
      " [ 0  0 13  0  0  0]\n",
      " [ 0  1  0 20  0  0]\n",
      " [ 5  2  0  0  6  1]\n",
      " [ 1  7  0  0  2  5]]\n",
      "\n",
      "Classification Report:\n",
      "              precision    recall  f1-score   support\n",
      "\n",
      "           0       0.53      0.48      0.50        21\n",
      "           1       0.41      0.73      0.52        15\n",
      "           2       1.00      1.00      1.00        13\n",
      "           3       0.87      0.95      0.91        21\n",
      "           4       0.55      0.43      0.48        14\n",
      "           5       0.83      0.33      0.48        15\n",
      "\n",
      "    accuracy                           0.66        99\n",
      "   macro avg       0.70      0.65      0.65        99\n",
      "weighted avg       0.69      0.66      0.65        99\n",
      "\n",
      "\n",
      "\n",
      "Metrics for Decision Tree:\n",
      "\n",
      "Accuracy_Train:\n",
      "0.9123931623931624\n",
      "\n",
      "Accuracy_Test:\n",
      "0.7171717171717171\n",
      "\n",
      "Precision:\n",
      "0.7515964971847324\n",
      "\n",
      "Recall:\n",
      "0.7171717171717171\n",
      "\n",
      "F1 Score:\n",
      "0.7043214503859181\n",
      "\n",
      "Confusion Matrix:\n",
      "[[ 7  6  0  2  3  3]\n",
      " [ 0 10  0  2  0  3]\n",
      " [ 0  0 13  0  0  0]\n",
      " [ 0  1  0 20  0  0]\n",
      " [ 1  1  0  0 11  1]\n",
      " [ 0  3  0  1  1 10]]\n",
      "\n",
      "Classification Report:\n",
      "              precision    recall  f1-score   support\n",
      "\n",
      "           0       0.88      0.33      0.48        21\n",
      "           1       0.48      0.67      0.56        15\n",
      "           2       1.00      1.00      1.00        13\n",
      "           3       0.80      0.95      0.87        21\n",
      "           4       0.73      0.79      0.76        14\n",
      "           5       0.59      0.67      0.62        15\n",
      "\n",
      "    accuracy                           0.72        99\n",
      "   macro avg       0.75      0.73      0.72        99\n",
      "weighted avg       0.75      0.72      0.70        99\n",
      "\n",
      "\n",
      "\n",
      "Metrics for XGBoost:\n",
      "\n",
      "Accuracy_Train:\n",
      "0.9957264957264957\n",
      "\n",
      "Accuracy_Test:\n",
      "0.7373737373737373\n",
      "\n",
      "Precision:\n",
      "0.7716640085061137\n",
      "\n",
      "Recall:\n",
      "0.7373737373737373\n",
      "\n",
      "F1 Score:\n",
      "0.7400273424337596\n",
      "\n",
      "Confusion Matrix:\n",
      "[[10  4  0  0  4  3]\n",
      " [ 0 10  0  0  1  4]\n",
      " [ 0  0 13  0  0  0]\n",
      " [ 0  2  0 19  0  0]\n",
      " [ 2  0  0  0 10  2]\n",
      " [ 0  3  0  0  1 11]]\n",
      "\n",
      "Classification Report:\n",
      "              precision    recall  f1-score   support\n",
      "\n",
      "           0       0.83      0.48      0.61        21\n",
      "           1       0.53      0.67      0.59        15\n",
      "           2       1.00      1.00      1.00        13\n",
      "           3       1.00      0.90      0.95        21\n",
      "           4       0.62      0.71      0.67        14\n",
      "           5       0.55      0.73      0.63        15\n",
      "\n",
      "    accuracy                           0.74        99\n",
      "   macro avg       0.76      0.75      0.74        99\n",
      "weighted avg       0.77      0.74      0.74        99\n",
      "\n",
      "\n",
      "\n",
      "Metrics for RandomForest_1:\n",
      "\n",
      "Accuracy_Train:\n",
      "0.9957264957264957\n",
      "\n",
      "Accuracy_Test:\n",
      "0.7474747474747475\n",
      "\n",
      "Precision:\n",
      "0.7697167755991285\n",
      "\n",
      "Recall:\n",
      "0.7474747474747475\n",
      "\n",
      "F1 Score:\n",
      "0.7520609318996415\n",
      "\n",
      "Confusion Matrix:\n",
      "[[12  2  0  0  5  2]\n",
      " [ 0 10  0  0  1  4]\n",
      " [ 0  0 13  0  0  0]\n",
      " [ 0  2  0 19  0  0]\n",
      " [ 3  1  0  0  9  1]\n",
      " [ 0  2  0  0  2 11]]\n",
      "\n",
      "Classification Report:\n",
      "              precision    recall  f1-score   support\n",
      "\n",
      "           0       0.80      0.57      0.67        21\n",
      "           1       0.59      0.67      0.62        15\n",
      "           2       1.00      1.00      1.00        13\n",
      "           3       1.00      0.90      0.95        21\n",
      "           4       0.53      0.64      0.58        14\n",
      "           5       0.61      0.73      0.67        15\n",
      "\n",
      "    accuracy                           0.75        99\n",
      "   macro avg       0.75      0.75      0.75        99\n",
      "weighted avg       0.77      0.75      0.75        99\n",
      "\n",
      "\n",
      "\n",
      "Metrics for RandomForest_3:\n",
      "\n",
      "Accuracy_Train:\n",
      "0.9337606837606838\n",
      "\n",
      "Accuracy_Test:\n",
      "0.7474747474747475\n",
      "\n",
      "Precision:\n",
      "0.7854988721861786\n",
      "\n",
      "Recall:\n",
      "0.7474747474747475\n",
      "\n",
      "F1 Score:\n",
      "0.7538916347071428\n",
      "\n",
      "Confusion Matrix:\n",
      "[[12  3  0  0  5  1]\n",
      " [ 0  9  0  0  1  5]\n",
      " [ 0  0 13  0  0  0]\n",
      " [ 0  2  0 19  0  0]\n",
      " [ 1  0  0  0 11  2]\n",
      " [ 0  3  0  0  2 10]]\n",
      "\n",
      "Classification Report:\n",
      "              precision    recall  f1-score   support\n",
      "\n",
      "           0       0.92      0.57      0.71        21\n",
      "           1       0.53      0.60      0.56        15\n",
      "           2       1.00      1.00      1.00        13\n",
      "           3       1.00      0.90      0.95        21\n",
      "           4       0.58      0.79      0.67        14\n",
      "           5       0.56      0.67      0.61        15\n",
      "\n",
      "    accuracy                           0.75        99\n",
      "   macro avg       0.76      0.75      0.75        99\n",
      "weighted avg       0.79      0.75      0.75        99\n",
      "\n",
      "\n",
      "\n",
      "Metrics for RandomForest_5:\n",
      "\n",
      "Accuracy_Train:\n",
      "0.8525641025641025\n",
      "\n",
      "Accuracy_Test:\n",
      "0.7777777777777778\n",
      "\n",
      "Precision:\n",
      "0.8250930356193513\n",
      "\n",
      "Recall:\n",
      "0.7777777777777778\n",
      "\n",
      "F1 Score:\n",
      "0.783117268946146\n",
      "\n",
      "Confusion Matrix:\n",
      "[[12  3  0  0  5  1]\n",
      " [ 0 11  0  0  1  3]\n",
      " [ 0  0 13  0  0  0]\n",
      " [ 0  2  0 19  0  0]\n",
      " [ 0  1  0  0 12  1]\n",
      " [ 0  2  0  0  3 10]]\n",
      "\n",
      "Classification Report:\n",
      "              precision    recall  f1-score   support\n",
      "\n",
      "           0       1.00      0.57      0.73        21\n",
      "           1       0.58      0.73      0.65        15\n",
      "           2       1.00      1.00      1.00        13\n",
      "           3       1.00      0.90      0.95        21\n",
      "           4       0.57      0.86      0.69        14\n",
      "           5       0.67      0.67      0.67        15\n",
      "\n",
      "    accuracy                           0.78        99\n",
      "   macro avg       0.80      0.79      0.78        99\n",
      "weighted avg       0.83      0.78      0.78        99\n",
      "\n",
      "\n",
      "\n",
      "Metrics for NeuralNetwork_1:\n",
      "\n",
      "Accuracy_Train:\n",
      "0.42094017094017094\n",
      "\n",
      "Accuracy_Test:\n",
      "0.4444444444444444\n",
      "\n",
      "Precision:\n",
      "0.25334960283280694\n",
      "\n",
      "Recall:\n",
      "0.4444444444444444\n",
      "\n",
      "F1 Score:\n",
      "0.3139759969028261\n",
      "\n",
      "Confusion Matrix:\n",
      "[[ 0  0 10  6  5  0]\n",
      " [ 0  0 13  0  2  0]\n",
      " [ 1  0 12  0  0  0]\n",
      " [ 0  0  0 21  0  0]\n",
      " [ 0  0  2  1 11  0]\n",
      " [ 0  0  6  0  9  0]]\n",
      "\n",
      "Classification Report:\n",
      "              precision    recall  f1-score   support\n",
      "\n",
      "           0       0.00      0.00      0.00        21\n",
      "           1       0.00      0.00      0.00        15\n",
      "           2       0.28      0.92      0.43        13\n",
      "           3       0.75      1.00      0.86        21\n",
      "           4       0.41      0.79      0.54        14\n",
      "           5       0.00      0.00      0.00        15\n",
      "\n",
      "    accuracy                           0.44        99\n",
      "   macro avg       0.24      0.45      0.30        99\n",
      "weighted avg       0.25      0.44      0.31        99\n",
      "\n",
      "\n",
      "\n",
      "Metrics for NeuralNetwork_2:\n",
      "\n",
      "Accuracy_Train:\n",
      "0.2564102564102564\n",
      "\n",
      "Accuracy_Test:\n",
      "0.2727272727272727\n",
      "\n",
      "Precision:\n",
      "0.2771048396048396\n",
      "\n",
      "Recall:\n",
      "0.2727272727272727\n",
      "\n",
      "F1 Score:\n",
      "0.24829476994673466\n",
      "\n",
      "Confusion Matrix:\n",
      "[[ 4  3  0  4  3  7]\n",
      " [ 1  9  0  3  1  1]\n",
      " [ 0 12  0  1  0  0]\n",
      " [ 1  0  0  5 13  2]\n",
      " [ 1  1  0  0  5  7]\n",
      " [ 1  3  0  3  4  4]]\n",
      "\n",
      "Classification Report:\n",
      "              precision    recall  f1-score   support\n",
      "\n",
      "           0       0.50      0.19      0.28        21\n",
      "           1       0.32      0.60      0.42        15\n",
      "           2       0.00      0.00      0.00        13\n",
      "           3       0.31      0.24      0.27        21\n",
      "           4       0.19      0.36      0.25        14\n",
      "           5       0.19      0.27      0.22        15\n",
      "\n",
      "    accuracy                           0.27        99\n",
      "   macro avg       0.25      0.28      0.24        99\n",
      "weighted avg       0.28      0.27      0.25        99\n",
      "\n",
      "\n",
      "\n",
      "Metrics for NeuralNetwork_3:\n",
      "\n",
      "Accuracy_Train:\n",
      "0.16880341880341881\n",
      "\n",
      "Accuracy_Test:\n",
      "0.21212121212121213\n",
      "\n",
      "Precision:\n",
      "0.044995408631772274\n",
      "\n",
      "Recall:\n",
      "0.21212121212121213\n",
      "\n",
      "F1 Score:\n",
      "0.07424242424242423\n",
      "\n",
      "Confusion Matrix:\n",
      "[[ 0  0  0 21  0  0]\n",
      " [ 0  0  0 15  0  0]\n",
      " [ 0  0  0 13  0  0]\n",
      " [ 0  0  0 21  0  0]\n",
      " [ 0  0  0 14  0  0]\n",
      " [ 0  0  0 15  0  0]]\n",
      "\n",
      "Classification Report:\n",
      "              precision    recall  f1-score   support\n",
      "\n",
      "           0       0.00      0.00      0.00        21\n",
      "           1       0.00      0.00      0.00        15\n",
      "           2       0.00      0.00      0.00        13\n",
      "           3       0.21      1.00      0.35        21\n",
      "           4       0.00      0.00      0.00        14\n",
      "           5       0.00      0.00      0.00        15\n",
      "\n",
      "    accuracy                           0.21        99\n",
      "   macro avg       0.04      0.17      0.06        99\n",
      "weighted avg       0.04      0.21      0.07        99\n",
      "\n",
      "\n",
      "\n",
      "Metrics for NeuralNetwork_4:\n",
      "\n",
      "Accuracy_Train:\n",
      "0.1111111111111111\n",
      "\n",
      "Accuracy_Test:\n",
      "0.1111111111111111\n",
      "\n",
      "Precision:\n",
      "0.06876456876456877\n",
      "\n",
      "Recall:\n",
      "0.1111111111111111\n",
      "\n",
      "F1 Score:\n",
      "0.08411386593204775\n",
      "\n",
      "Confusion Matrix:\n",
      "[[ 8  0  7  0  0  6]\n",
      " [12  0  2  0  0  1]\n",
      " [12  0  0  1  0  0]\n",
      " [ 0  6  7  0  6  2]\n",
      " [ 1  0  7  0  0  6]\n",
      " [ 6  0  6  0  0  3]]\n",
      "\n",
      "Classification Report:\n",
      "              precision    recall  f1-score   support\n",
      "\n",
      "           0       0.21      0.38      0.27        21\n",
      "           1       0.00      0.00      0.00        15\n",
      "           2       0.00      0.00      0.00        13\n",
      "           3       0.00      0.00      0.00        21\n",
      "           4       0.00      0.00      0.00        14\n",
      "           5       0.17      0.20      0.18        15\n",
      "\n",
      "    accuracy                           0.11        99\n",
      "   macro avg       0.06      0.10      0.07        99\n",
      "weighted avg       0.07      0.11      0.08        99\n",
      "\n",
      "\n"
     ]
    }
   ],
   "source": [
    "\n",
    "# Display the results\n",
    "for model_name, metrics in results.items():\n",
    "    print(f\"\\nMetrics for {model_name}:\\n\")\n",
    "    for metric, value in metrics.items():\n",
    "        print(f\"{metric}:\\n{value}\\n\")\n"
   ]
  },
  {
   "cell_type": "code",
   "execution_count": 43,
   "metadata": {},
   "outputs": [
    {
     "name": "stdout",
     "output_type": "stream",
     "text": [
      "\n",
      "All Models Accuracy:\n",
      "Logistic Regression: 0.5748 Logistic Regression: 0.6869\n",
      "K-Nearest Neighbors: 0.7137 K-Nearest Neighbors: 0.6364\n",
      "Random Forest: 0.9957 Random Forest: 0.7374\n",
      "Gradient Boosting: 0.9957 Gradient Boosting: 0.7374\n",
      "AdaBoost: 0.5876 AdaBoost: 0.6061\n",
      "Naive Bayes: 0.6047 Naive Bayes: 0.6566\n",
      "Decision Tree: 0.9124 Decision Tree: 0.7172\n",
      "XGBoost: 0.9957 XGBoost: 0.7374\n",
      "RandomForest_1: 0.9957 RandomForest_1: 0.7475\n",
      "RandomForest_3: 0.9338 RandomForest_3: 0.7475\n",
      "RandomForest_5: 0.8526 RandomForest_5: 0.7778\n",
      "NeuralNetwork_1: 0.4209 NeuralNetwork_1: 0.4444\n",
      "NeuralNetwork_2: 0.2564 NeuralNetwork_2: 0.2727\n",
      "NeuralNetwork_3: 0.1688 NeuralNetwork_3: 0.2121\n",
      "NeuralNetwork_4: 0.1111 NeuralNetwork_4: 0.1111\n"
     ]
    }
   ],
   "source": [
    "print(\"\\nAll Models Accuracy:\")\n",
    "for model_name, metrics in results.items():\n",
    "    print(f\"{model_name}: {metrics['Accuracy_Train']:.4f}\", f\"{model_name}: {metrics['Accuracy_Test']:.4f}\")"
   ]
  },
  {
   "cell_type": "code",
   "execution_count": 44,
   "metadata": {},
   "outputs": [
    {
     "name": "stdout",
     "output_type": "stream",
     "text": [
      "\n",
      "All Models Precison:\n",
      "Logistic Regression: 0.6883\n",
      "K-Nearest Neighbors: 0.6363\n",
      "Random Forest: 0.7704\n",
      "Gradient Boosting: 0.7556\n",
      "AdaBoost: 0.5997\n",
      "Naive Bayes: 0.6925\n",
      "Decision Tree: 0.7516\n",
      "XGBoost: 0.7717\n",
      "RandomForest_1: 0.7697\n",
      "RandomForest_3: 0.7855\n",
      "RandomForest_5: 0.8251\n",
      "NeuralNetwork_1: 0.2533\n",
      "NeuralNetwork_2: 0.2771\n",
      "NeuralNetwork_3: 0.0450\n",
      "NeuralNetwork_4: 0.0688\n"
     ]
    }
   ],
   "source": [
    "print(\"\\nAll Models Precison:\")\n",
    "for model_name, metrics in results.items():\n",
    "    print(f\"{model_name}: {metrics['Precision']:.4f}\")"
   ]
  },
  {
   "cell_type": "code",
   "execution_count": 45,
   "metadata": {},
   "outputs": [
    {
     "name": "stdout",
     "output_type": "stream",
     "text": [
      "\n",
      "All Models Recall:\n",
      "Logistic Regression: 0.6869\n",
      "K-Nearest Neighbors: 0.6364\n",
      "Random Forest: 0.7374\n",
      "Gradient Boosting: 0.7374\n",
      "AdaBoost: 0.6061\n",
      "Naive Bayes: 0.6566\n",
      "Decision Tree: 0.7172\n",
      "XGBoost: 0.7374\n",
      "RandomForest_1: 0.7475\n",
      "RandomForest_3: 0.7475\n",
      "RandomForest_5: 0.7778\n",
      "NeuralNetwork_1: 0.4444\n",
      "NeuralNetwork_2: 0.2727\n",
      "NeuralNetwork_3: 0.2121\n",
      "NeuralNetwork_4: 0.1111\n"
     ]
    }
   ],
   "source": [
    "print(\"\\nAll Models Recall:\")\n",
    "for model_name, metrics in results.items():\n",
    "    print(f\"{model_name}: {metrics['Recall']:.4f}\")"
   ]
  },
  {
   "cell_type": "code",
   "execution_count": 46,
   "metadata": {},
   "outputs": [
    {
     "name": "stdout",
     "output_type": "stream",
     "text": [
      "\n",
      "All Models f1-Score:\n",
      "Logistic Regression: 0.6826\n",
      "K-Nearest Neighbors: 0.6273\n",
      "Random Forest: 0.7423\n",
      "Gradient Boosting: 0.7390\n",
      "AdaBoost: 0.5882\n",
      "Naive Bayes: 0.6496\n",
      "Decision Tree: 0.7043\n",
      "XGBoost: 0.7400\n",
      "RandomForest_1: 0.7521\n",
      "RandomForest_3: 0.7539\n",
      "RandomForest_5: 0.7831\n",
      "NeuralNetwork_1: 0.3140\n",
      "NeuralNetwork_2: 0.2483\n",
      "NeuralNetwork_3: 0.0742\n",
      "NeuralNetwork_4: 0.0841\n"
     ]
    }
   ],
   "source": [
    "print(\"\\nAll Models f1-Score:\")\n",
    "for model_name, metrics in results.items():\n",
    "    print(f\"{model_name}: {metrics['F1 Score']:.4f}\")"
   ]
  },
  {
   "cell_type": "code",
   "execution_count": 47,
   "metadata": {},
   "outputs": [],
   "source": [
    "#show decision boundary\n",
    "#ROC Curve"
   ]
  },
  {
   "cell_type": "code",
   "execution_count": 48,
   "metadata": {},
   "outputs": [],
   "source": [
    "#identify the three songs of each category\n",
    "#showcase the waveform for each of the three songs found for each category"
   ]
  },
  {
   "cell_type": "code",
   "execution_count": null,
   "metadata": {},
   "outputs": [],
   "source": []
  }
 ],
 "metadata": {
  "kernelspec": {
   "display_name": "Python 3",
   "language": "python",
   "name": "python3"
  },
  "language_info": {
   "codemirror_mode": {
    "name": "ipython",
    "version": 3
   },
   "file_extension": ".py",
   "mimetype": "text/x-python",
   "name": "python",
   "nbconvert_exporter": "python",
   "pygments_lexer": "ipython3",
   "version": "3.12.3"
  }
 },
 "nbformat": 4,
 "nbformat_minor": 4
}
