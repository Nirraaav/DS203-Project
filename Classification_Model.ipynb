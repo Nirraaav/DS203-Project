{
 "cells": [
  {
   "cell_type": "code",
   "execution_count": 1,
   "metadata": {},
   "outputs": [
    {
     "name": "stdout",
     "output_type": "stream",
     "text": [
      "Defaulting to user installation because normal site-packages is not writeable\n",
      "Requirement already satisfied: xgboost in /home/nirav24/.local/lib/python3.12/site-packages (2.1.1)\n",
      "Requirement already satisfied: numpy in /home/nirav24/.local/lib/python3.12/site-packages (from xgboost) (2.0.2)\n",
      "Requirement already satisfied: nvidia-nccl-cu12 in /home/nirav24/.local/lib/python3.12/site-packages (from xgboost) (2.23.4)\n",
      "Requirement already satisfied: scipy in /home/nirav24/.local/lib/python3.12/site-packages (from xgboost) (1.14.1)\n",
      "Defaulting to user installation because normal site-packages is not writeable\n",
      "Requirement already satisfied: nbformat in /home/nirav24/.local/lib/python3.12/site-packages (5.10.4)\n",
      "Requirement already satisfied: fastjsonschema>=2.15 in /home/nirav24/.local/lib/python3.12/site-packages (from nbformat) (2.20.0)\n",
      "Requirement already satisfied: jsonschema>=2.6 in /usr/lib/python3/dist-packages (from nbformat) (4.10.3)\n",
      "Requirement already satisfied: jupyter-core!=5.0.*,>=4.12 in /home/nirav24/.local/lib/python3.12/site-packages (from nbformat) (5.7.2)\n",
      "Requirement already satisfied: traitlets>=5.1 in /home/nirav24/.local/lib/python3.12/site-packages (from nbformat) (5.14.3)\n",
      "Requirement already satisfied: attrs>=17.4.0 in /usr/lib/python3/dist-packages (from jsonschema>=2.6->nbformat) (23.2.0)\n",
      "Requirement already satisfied: pyrsistent!=0.17.0,!=0.17.1,!=0.17.2,>=0.14.0 in /usr/lib/python3/dist-packages (from jsonschema>=2.6->nbformat) (0.20.0)\n",
      "Requirement already satisfied: platformdirs>=2.5 in /home/nirav24/.local/lib/python3.12/site-packages (from jupyter-core!=5.0.*,>=4.12->nbformat) (4.2.2)\n"
     ]
    }
   ],
   "source": [
    "!pip install xgboost\n",
    "!pip install nbformat"
   ]
  },
  {
   "cell_type": "code",
   "execution_count": 2,
   "metadata": {},
   "outputs": [],
   "source": [
    "import pandas as pd\n",
    "import numpy as np\n",
    "from sklearn.model_selection import train_test_split\n",
    "from sklearn.ensemble import AdaBoostClassifier\n",
    "import librosa\n",
    "from sklearn.svm import SVC\n",
    "from sklearn.naive_bayes import GaussianNB\n",
    "from sklearn.metrics import classification_report, accuracy_score, precision_score, recall_score, f1_score, confusion_matrix"
   ]
  },
  {
   "cell_type": "code",
   "execution_count": 3,
   "metadata": {},
   "outputs": [
    {
     "name": "stdout",
     "output_type": "stream",
     "text": [
      "./new-test-data/test-mfcc-v2/Asha-Bhosle-23.csv ./new-test-data/test-mfcc-v2-copy/Asha-Bhosle-23.csv\n",
      "Processed Asha-Bhosle-23.csv, 1/495\n",
      "./new-test-data/test-mfcc-v2/Michael-Jackson-55.csv ./new-test-data/test-mfcc-v2-copy/Michael-Jackson-55.csv\n",
      "Processed Michael-Jackson-55.csv, 2/495\n",
      "./new-test-data/test-mfcc-v2/Kishore-Kumar-63.csv ./new-test-data/test-mfcc-v2-copy/Kishore-Kumar-63.csv\n",
      "Processed Kishore-Kumar-63.csv, 3/495\n",
      "./new-test-data/test-mfcc-v2/Asha-Bhosle-32.csv ./new-test-data/test-mfcc-v2-copy/Asha-Bhosle-32.csv\n",
      "Processed Asha-Bhosle-32.csv, 4/495\n",
      "./new-test-data/test-mfcc-v2/Jana-Gana-Mana-8-MFCC.csv ./new-test-data/test-mfcc-v2-copy/Jana-Gana-Mana-8-MFCC.csv\n",
      "Processed Jana-Gana-Mana-8-MFCC.csv, 5/495\n",
      "./new-test-data/test-mfcc-v2/Bhavgeet-47.csv ./new-test-data/test-mfcc-v2-copy/Bhavgeet-47.csv\n",
      "Processed Bhavgeet-47.csv, 6/495\n",
      "./new-test-data/test-mfcc-v2/Lavni-20.csv ./new-test-data/test-mfcc-v2-copy/Lavni-20.csv\n",
      "Processed Lavni-20.csv, 7/495\n",
      "./new-test-data/test-mfcc-v2/Bhavgeet-61.csv ./new-test-data/test-mfcc-v2-copy/Bhavgeet-61.csv\n",
      "Processed Bhavgeet-61.csv, 8/495\n",
      "./new-test-data/test-mfcc-v2/Michael-Jackson-42.csv ./new-test-data/test-mfcc-v2-copy/Michael-Jackson-42.csv\n",
      "Processed Michael-Jackson-42.csv, 9/495\n",
      "./new-test-data/test-mfcc-v2/Asha-Bhosle-71.csv ./new-test-data/test-mfcc-v2-copy/Asha-Bhosle-71.csv\n",
      "Processed Asha-Bhosle-71.csv, 10/495\n",
      "./new-test-data/test-mfcc-v2/Bhavgeet-14.csv ./new-test-data/test-mfcc-v2-copy/Bhavgeet-14.csv\n",
      "Processed Bhavgeet-14.csv, 11/495\n",
      "./new-test-data/test-mfcc-v2/Michael-Jackson-17.csv ./new-test-data/test-mfcc-v2-copy/Michael-Jackson-17.csv\n",
      "Processed Michael-Jackson-17.csv, 12/495\n",
      "./new-test-data/test-mfcc-v2/Bhavgeet-18.csv ./new-test-data/test-mfcc-v2-copy/Bhavgeet-18.csv\n",
      "Processed Bhavgeet-18.csv, 13/495\n",
      "./new-test-data/test-mfcc-v2/Asha-Bhosle-47.csv ./new-test-data/test-mfcc-v2-copy/Asha-Bhosle-47.csv\n",
      "Processed Asha-Bhosle-47.csv, 14/495\n",
      "./new-test-data/test-mfcc-v2/Kishore-Kumar-5-MFCC.csv ./new-test-data/test-mfcc-v2-copy/Kishore-Kumar-5-MFCC.csv\n",
      "Processed Kishore-Kumar-5-MFCC.csv, 15/495\n",
      "./new-test-data/test-mfcc-v2/Michael-Jackson-24.csv ./new-test-data/test-mfcc-v2-copy/Michael-Jackson-24.csv\n",
      "Processed Michael-Jackson-24.csv, 16/495\n",
      "./new-test-data/test-mfcc-v2/Bhavgeet-5-MFCC.csv ./new-test-data/test-mfcc-v2-copy/Bhavgeet-5-MFCC.csv\n",
      "Processed Bhavgeet-5-MFCC.csv, 17/495\n",
      "./new-test-data/test-mfcc-v2/Michael-Jackson-71.csv ./new-test-data/test-mfcc-v2-copy/Michael-Jackson-71.csv\n",
      "Processed Michael-Jackson-71.csv, 18/495\n",
      "./new-test-data/test-mfcc-v2/Jana-Gana-Mana-49.csv ./new-test-data/test-mfcc-v2-copy/Jana-Gana-Mana-49.csv\n",
      "Processed Jana-Gana-Mana-49.csv, 19/495\n",
      "./new-test-data/test-mfcc-v2/Asha-Bhosle-66.csv ./new-test-data/test-mfcc-v2-copy/Asha-Bhosle-66.csv\n",
      "Processed Asha-Bhosle-66.csv, 20/495\n",
      "./new-test-data/test-mfcc-v2/Bhavgeet-54.csv ./new-test-data/test-mfcc-v2-copy/Bhavgeet-54.csv\n",
      "Processed Bhavgeet-54.csv, 21/495\n",
      "./new-test-data/test-mfcc-v2/Asha-Bhosle-15-MFCC.csv ./new-test-data/test-mfcc-v2-copy/Asha-Bhosle-15-MFCC.csv\n",
      "Processed Asha-Bhosle-15-MFCC.csv, 22/495\n",
      "./new-test-data/test-mfcc-v2/Bhavgeet-73.csv ./new-test-data/test-mfcc-v2-copy/Bhavgeet-73.csv\n",
      "Processed Bhavgeet-73.csv, 23/495\n",
      "./new-test-data/test-mfcc-v2/Kishore-Kumar-49.csv ./new-test-data/test-mfcc-v2-copy/Kishore-Kumar-49.csv\n",
      "Processed Kishore-Kumar-49.csv, 24/495\n",
      "./new-test-data/test-mfcc-v2/Kishore-Kumar-25.csv ./new-test-data/test-mfcc-v2-copy/Kishore-Kumar-25.csv\n",
      "Processed Kishore-Kumar-25.csv, 25/495\n",
      "./new-test-data/test-mfcc-v2/Kishore-Kumar-2.csv ./new-test-data/test-mfcc-v2-copy/Kishore-Kumar-2.csv\n",
      "Processed Kishore-Kumar-2.csv, 26/495\n",
      "./new-test-data/test-mfcc-v2/Kishore-Kumar-38.csv ./new-test-data/test-mfcc-v2-copy/Kishore-Kumar-38.csv\n",
      "Processed Kishore-Kumar-38.csv, 27/495\n",
      "./new-test-data/test-mfcc-v2/Bhavgeet-21.csv ./new-test-data/test-mfcc-v2-copy/Bhavgeet-21.csv\n",
      "Processed Bhavgeet-21.csv, 28/495\n",
      "./new-test-data/test-mfcc-v2/Asha-Bhosle-19-MFCC.csv ./new-test-data/test-mfcc-v2-copy/Asha-Bhosle-19-MFCC.csv\n",
      "Processed Asha-Bhosle-19-MFCC.csv, 29/495\n",
      "./new-test-data/test-mfcc-v2/Asha-Bhosle-1-MFCC.csv ./new-test-data/test-mfcc-v2-copy/Asha-Bhosle-1-MFCC.csv\n",
      "Processed Asha-Bhosle-1-MFCC.csv, 30/495\n",
      "./new-test-data/test-mfcc-v2/Asha-Bhosle-7-MFCC.csv ./new-test-data/test-mfcc-v2-copy/Asha-Bhosle-7-MFCC.csv\n",
      "Processed Asha-Bhosle-7-MFCC.csv, 31/495\n",
      "./new-test-data/test-mfcc-v2/Michael-Jackson-44.csv ./new-test-data/test-mfcc-v2-copy/Michael-Jackson-44.csv\n",
      "Processed Michael-Jackson-44.csv, 32/495\n",
      "./new-test-data/test-mfcc-v2/Kishore-Kumar-1-MFCC.csv ./new-test-data/test-mfcc-v2-copy/Kishore-Kumar-1-MFCC.csv\n",
      "Processed Kishore-Kumar-1-MFCC.csv, 33/495\n",
      "./new-test-data/test-mfcc-v2/Michael-Jackson-66.csv ./new-test-data/test-mfcc-v2-copy/Michael-Jackson-66.csv\n",
      "Processed Michael-Jackson-66.csv, 34/495\n",
      "./new-test-data/test-mfcc-v2/Asha-Bhosle-37.csv ./new-test-data/test-mfcc-v2-copy/Asha-Bhosle-37.csv\n",
      "Processed Asha-Bhosle-37.csv, 35/495\n",
      "./new-test-data/test-mfcc-v2/Bhavgeet-65.csv ./new-test-data/test-mfcc-v2-copy/Bhavgeet-65.csv\n",
      "Processed Bhavgeet-65.csv, 36/495\n",
      "./new-test-data/test-mfcc-v2/Michael-Jackson-15.csv ./new-test-data/test-mfcc-v2-copy/Michael-Jackson-15.csv\n",
      "Processed Michael-Jackson-15.csv, 37/495\n",
      "./new-test-data/test-mfcc-v2/Bhavgeet-34.csv ./new-test-data/test-mfcc-v2-copy/Bhavgeet-34.csv\n",
      "Processed Bhavgeet-34.csv, 38/495\n",
      "./new-test-data/test-mfcc-v2/Kishore-Kumar-39.csv ./new-test-data/test-mfcc-v2-copy/Kishore-Kumar-39.csv\n",
      "Processed Kishore-Kumar-39.csv, 39/495\n",
      "./new-test-data/test-mfcc-v2/Michael-Jackson-16.csv ./new-test-data/test-mfcc-v2-copy/Michael-Jackson-16.csv\n",
      "Processed Michael-Jackson-16.csv, 40/495\n",
      "./new-test-data/test-mfcc-v2/Asha-Bhosle-17.csv ./new-test-data/test-mfcc-v2-copy/Asha-Bhosle-17.csv\n",
      "Processed Asha-Bhosle-17.csv, 41/495\n",
      "./new-test-data/test-mfcc-v2/Bhavgeet-43.csv ./new-test-data/test-mfcc-v2-copy/Bhavgeet-43.csv\n",
      "Processed Bhavgeet-43.csv, 42/495\n",
      "./new-test-data/test-mfcc-v2/Kishore-Kumar-54.csv ./new-test-data/test-mfcc-v2-copy/Kishore-Kumar-54.csv\n",
      "Processed Kishore-Kumar-54.csv, 43/495\n",
      "./new-test-data/test-mfcc-v2/Bhavgeet-10-MFCC.csv ./new-test-data/test-mfcc-v2-copy/Bhavgeet-10-MFCC.csv\n",
      "Processed Bhavgeet-10-MFCC.csv, 44/495\n",
      "./new-test-data/test-mfcc-v2/Asha-Bhosle-55.csv ./new-test-data/test-mfcc-v2-copy/Asha-Bhosle-55.csv\n",
      "Processed Asha-Bhosle-55.csv, 45/495\n",
      "./new-test-data/test-mfcc-v2/Lavni-1.csv ./new-test-data/test-mfcc-v2-copy/Lavni-1.csv\n",
      "Processed Lavni-1.csv, 46/495\n",
      "./new-test-data/test-mfcc-v2/Kishore-Kumar-40.csv ./new-test-data/test-mfcc-v2-copy/Kishore-Kumar-40.csv\n",
      "Processed Kishore-Kumar-40.csv, 47/495\n",
      "./new-test-data/test-mfcc-v2/Bhavgeet-1-MFCC.csv ./new-test-data/test-mfcc-v2-copy/Bhavgeet-1-MFCC.csv\n",
      "Processed Bhavgeet-1-MFCC.csv, 48/495\n",
      "./new-test-data/test-mfcc-v2/Bhavgeet-10.csv ./new-test-data/test-mfcc-v2-copy/Bhavgeet-10.csv\n",
      "Processed Bhavgeet-10.csv, 49/495\n",
      "./new-test-data/test-mfcc-v2/Asha-Bhosle-2-MFCC.csv ./new-test-data/test-mfcc-v2-copy/Asha-Bhosle-2-MFCC.csv\n",
      "Processed Asha-Bhosle-2-MFCC.csv, 50/495\n",
      "./new-test-data/test-mfcc-v2/Bhavgeet-66.csv ./new-test-data/test-mfcc-v2-copy/Bhavgeet-66.csv\n",
      "Processed Bhavgeet-66.csv, 51/495\n",
      "./new-test-data/test-mfcc-v2/Lavni-Song-4-MFCC.csv ./new-test-data/test-mfcc-v2-copy/Lavni-Song-4-MFCC.csv\n",
      "Processed Lavni-Song-4-MFCC.csv, 52/495\n",
      "./new-test-data/test-mfcc-v2/Lavni-48.csv ./new-test-data/test-mfcc-v2-copy/Lavni-48.csv\n",
      "Processed Lavni-48.csv, 53/495\n",
      "./new-test-data/test-mfcc-v2/Bhavgeet-46.csv ./new-test-data/test-mfcc-v2-copy/Bhavgeet-46.csv\n",
      "Processed Bhavgeet-46.csv, 54/495\n",
      "./new-test-data/test-mfcc-v2/Michael-Jackson-30.csv ./new-test-data/test-mfcc-v2-copy/Michael-Jackson-30.csv\n",
      "Processed Michael-Jackson-30.csv, 55/495\n",
      "./new-test-data/test-mfcc-v2/Jana-Gana-Mana-17.csv ./new-test-data/test-mfcc-v2-copy/Jana-Gana-Mana-17.csv\n",
      "Processed Jana-Gana-Mana-17.csv, 56/495\n",
      "./new-test-data/test-mfcc-v2/Michael-Jackson-27.csv ./new-test-data/test-mfcc-v2-copy/Michael-Jackson-27.csv\n",
      "Processed Michael-Jackson-27.csv, 57/495\n",
      "./new-test-data/test-mfcc-v2/Kishore-Kumar-46.csv ./new-test-data/test-mfcc-v2-copy/Kishore-Kumar-46.csv\n",
      "Processed Kishore-Kumar-46.csv, 58/495\n",
      "./new-test-data/test-mfcc-v2/Kishore-Kumar-7-MFCC.csv ./new-test-data/test-mfcc-v2-copy/Kishore-Kumar-7-MFCC.csv\n",
      "Processed Kishore-Kumar-7-MFCC.csv, 59/495\n",
      "./new-test-data/test-mfcc-v2/Michael-Jackson-20.csv ./new-test-data/test-mfcc-v2-copy/Michael-Jackson-20.csv\n",
      "Processed Michael-Jackson-20.csv, 60/495\n",
      "./new-test-data/test-mfcc-v2/Jana-Gana-Mana-27.csv ./new-test-data/test-mfcc-v2-copy/Jana-Gana-Mana-27.csv\n",
      "Processed Jana-Gana-Mana-27.csv, 61/495\n",
      "./new-test-data/test-mfcc-v2/Asha-Bhosle-28.csv ./new-test-data/test-mfcc-v2-copy/Asha-Bhosle-28.csv\n",
      "Processed Asha-Bhosle-28.csv, 62/495\n",
      "./new-test-data/test-mfcc-v2/Asha-Bhosle-48.csv ./new-test-data/test-mfcc-v2-copy/Asha-Bhosle-48.csv\n",
      "Processed Asha-Bhosle-48.csv, 63/495\n",
      "./new-test-data/test-mfcc-v2/Bhavgeet-35.csv ./new-test-data/test-mfcc-v2-copy/Bhavgeet-35.csv\n",
      "Processed Bhavgeet-35.csv, 64/495\n",
      "./new-test-data/test-mfcc-v2/Asha-Bhosle-15.csv ./new-test-data/test-mfcc-v2-copy/Asha-Bhosle-15.csv\n",
      "Processed Asha-Bhosle-15.csv, 65/495\n",
      "./new-test-data/test-mfcc-v2/Lavni-44.csv ./new-test-data/test-mfcc-v2-copy/Lavni-44.csv\n",
      "Processed Lavni-44.csv, 66/495\n",
      "./new-test-data/test-mfcc-v2/Asha-Bhosle-14-MFCC.csv ./new-test-data/test-mfcc-v2-copy/Asha-Bhosle-14-MFCC.csv\n",
      "Processed Asha-Bhosle-14-MFCC.csv, 67/495\n",
      "./new-test-data/test-mfcc-v2/Asha-Bhosle-41.csv ./new-test-data/test-mfcc-v2-copy/Asha-Bhosle-41.csv\n",
      "Processed Asha-Bhosle-41.csv, 68/495\n",
      "./new-test-data/test-mfcc-v2/Asha-Bhosle-13.csv ./new-test-data/test-mfcc-v2-copy/Asha-Bhosle-13.csv\n",
      "Processed Asha-Bhosle-13.csv, 69/495\n",
      "./new-test-data/test-mfcc-v2/Michael-Jackson-51.csv ./new-test-data/test-mfcc-v2-copy/Michael-Jackson-51.csv\n",
      "Processed Michael-Jackson-51.csv, 70/495\n",
      "./new-test-data/test-mfcc-v2/Bhavgeet-51.csv ./new-test-data/test-mfcc-v2-copy/Bhavgeet-51.csv\n",
      "Processed Bhavgeet-51.csv, 71/495\n",
      "./new-test-data/test-mfcc-v2/Bhavgeet-69.csv ./new-test-data/test-mfcc-v2-copy/Bhavgeet-69.csv\n",
      "Processed Bhavgeet-69.csv, 72/495\n",
      "./new-test-data/test-mfcc-v2/Kishore-Kumar-32.csv ./new-test-data/test-mfcc-v2-copy/Kishore-Kumar-32.csv\n",
      "Processed Kishore-Kumar-32.csv, 73/495\n",
      "./new-test-data/test-mfcc-v2/Kishore-Kumar-19.csv ./new-test-data/test-mfcc-v2-copy/Kishore-Kumar-19.csv\n",
      "Processed Kishore-Kumar-19.csv, 74/495\n",
      "./new-test-data/test-mfcc-v2/Asha-Bhosle-22-MFCC.csv ./new-test-data/test-mfcc-v2-copy/Asha-Bhosle-22-MFCC.csv\n",
      "Processed Asha-Bhosle-22-MFCC.csv, 75/495\n",
      "./new-test-data/test-mfcc-v2/Kishore-Kumar-52.csv ./new-test-data/test-mfcc-v2-copy/Kishore-Kumar-52.csv\n",
      "Processed Kishore-Kumar-52.csv, 76/495\n",
      "./new-test-data/test-mfcc-v2/Lavni-10.csv ./new-test-data/test-mfcc-v2-copy/Lavni-10.csv\n",
      "Processed Lavni-10.csv, 77/495\n",
      "./new-test-data/test-mfcc-v2/Asha-Bhosle-6.csv ./new-test-data/test-mfcc-v2-copy/Asha-Bhosle-6.csv\n",
      "Processed Asha-Bhosle-6.csv, 78/495\n",
      "./new-test-data/test-mfcc-v2/Kishore-Kumar-5.csv ./new-test-data/test-mfcc-v2-copy/Kishore-Kumar-5.csv\n",
      "Processed Kishore-Kumar-5.csv, 79/495\n",
      "./new-test-data/test-mfcc-v2/Asha-Bhosle-12-MFCC.csv ./new-test-data/test-mfcc-v2-copy/Asha-Bhosle-12-MFCC.csv\n",
      "Processed Asha-Bhosle-12-MFCC.csv, 80/495\n",
      "./new-test-data/test-mfcc-v2/Asha-Bhosle-16.csv ./new-test-data/test-mfcc-v2-copy/Asha-Bhosle-16.csv\n",
      "Processed Asha-Bhosle-16.csv, 81/495\n",
      "./new-test-data/test-mfcc-v2/Bhavgeet-17-MFCC.csv ./new-test-data/test-mfcc-v2-copy/Bhavgeet-17-MFCC.csv\n",
      "Processed Bhavgeet-17-MFCC.csv, 82/495\n",
      "./new-test-data/test-mfcc-v2/Kishore-Kumar-12-MFCC.csv ./new-test-data/test-mfcc-v2-copy/Kishore-Kumar-12-MFCC.csv\n",
      "Processed Kishore-Kumar-12-MFCC.csv, 83/495\n",
      "./new-test-data/test-mfcc-v2/Asha-Bhosle-3-MFCC.csv ./new-test-data/test-mfcc-v2-copy/Asha-Bhosle-3-MFCC.csv\n",
      "Processed Asha-Bhosle-3-MFCC.csv, 84/495\n",
      "./new-test-data/test-mfcc-v2/Lavni-21.csv ./new-test-data/test-mfcc-v2-copy/Lavni-21.csv\n",
      "Processed Lavni-21.csv, 85/495\n",
      "./new-test-data/test-mfcc-v2/Michael-Jackson-31.csv ./new-test-data/test-mfcc-v2-copy/Michael-Jackson-31.csv\n",
      "Processed Michael-Jackson-31.csv, 86/495\n",
      "./new-test-data/test-mfcc-v2/Kishore-Kumar-56.csv ./new-test-data/test-mfcc-v2-copy/Kishore-Kumar-56.csv\n",
      "Processed Kishore-Kumar-56.csv, 87/495\n",
      "./new-test-data/test-mfcc-v2/Lavni-3.csv ./new-test-data/test-mfcc-v2-copy/Lavni-3.csv\n",
      "Processed Lavni-3.csv, 88/495\n",
      "./new-test-data/test-mfcc-v2/Lavni-56.csv ./new-test-data/test-mfcc-v2-copy/Lavni-56.csv\n",
      "Processed Lavni-56.csv, 89/495\n",
      "./new-test-data/test-mfcc-v2/Michael-Jackson-9-MFCC.csv ./new-test-data/test-mfcc-v2-copy/Michael-Jackson-9-MFCC.csv\n",
      "Processed Michael-Jackson-9-MFCC.csv, 90/495\n",
      "./new-test-data/test-mfcc-v2/Kishore-Kumar-57.csv ./new-test-data/test-mfcc-v2-copy/Kishore-Kumar-57.csv\n",
      "Processed Kishore-Kumar-57.csv, 91/495\n",
      "./new-test-data/test-mfcc-v2/Lavni-53.csv ./new-test-data/test-mfcc-v2-copy/Lavni-53.csv\n",
      "Processed Lavni-53.csv, 92/495\n",
      "./new-test-data/test-mfcc-v2/Kishore-Kumar-2-MFCC.csv ./new-test-data/test-mfcc-v2-copy/Kishore-Kumar-2-MFCC.csv\n",
      "Processed Kishore-Kumar-2-MFCC.csv, 93/495\n",
      "./new-test-data/test-mfcc-v2/Kishore-Kumar-62.csv ./new-test-data/test-mfcc-v2-copy/Kishore-Kumar-62.csv\n",
      "Processed Kishore-Kumar-62.csv, 94/495\n",
      "./new-test-data/test-mfcc-v2/Bhavgeet-22.csv ./new-test-data/test-mfcc-v2-copy/Bhavgeet-22.csv\n",
      "Processed Bhavgeet-22.csv, 95/495\n",
      "./new-test-data/test-mfcc-v2/Bhavgeet-36.csv ./new-test-data/test-mfcc-v2-copy/Bhavgeet-36.csv\n",
      "Processed Bhavgeet-36.csv, 96/495\n",
      "./new-test-data/test-mfcc-v2/Kishore-Kumar-43.csv ./new-test-data/test-mfcc-v2-copy/Kishore-Kumar-43.csv\n",
      "Processed Kishore-Kumar-43.csv, 97/495\n",
      "./new-test-data/test-mfcc-v2/Michael-Jackson-45.csv ./new-test-data/test-mfcc-v2-copy/Michael-Jackson-45.csv\n",
      "Processed Michael-Jackson-45.csv, 98/495\n",
      "./new-test-data/test-mfcc-v2/Kishore-Kumar-58.csv ./new-test-data/test-mfcc-v2-copy/Kishore-Kumar-58.csv\n",
      "Processed Kishore-Kumar-58.csv, 99/495\n",
      "./new-test-data/test-mfcc-v2/Jana-Gana-Mana-30.csv ./new-test-data/test-mfcc-v2-copy/Jana-Gana-Mana-30.csv\n",
      "Processed Jana-Gana-Mana-30.csv, 100/495\n",
      "./new-test-data/test-mfcc-v2/Asha-Bhosle-57.csv ./new-test-data/test-mfcc-v2-copy/Asha-Bhosle-57.csv\n",
      "Processed Asha-Bhosle-57.csv, 101/495\n",
      "./new-test-data/test-mfcc-v2/Kishore-Kumar-44.csv ./new-test-data/test-mfcc-v2-copy/Kishore-Kumar-44.csv\n",
      "Processed Kishore-Kumar-44.csv, 102/495\n",
      "./new-test-data/test-mfcc-v2/Lavni-Song-10-MFCC.csv ./new-test-data/test-mfcc-v2-copy/Lavni-Song-10-MFCC.csv\n",
      "Processed Lavni-Song-10-MFCC.csv, 103/495\n",
      "./new-test-data/test-mfcc-v2/Michael-Jackson-67.csv ./new-test-data/test-mfcc-v2-copy/Michael-Jackson-67.csv\n",
      "Processed Michael-Jackson-67.csv, 104/495\n",
      "./new-test-data/test-mfcc-v2/Asha-Bhosle-40.csv ./new-test-data/test-mfcc-v2-copy/Asha-Bhosle-40.csv\n",
      "Processed Asha-Bhosle-40.csv, 105/495\n",
      "./new-test-data/test-mfcc-v2/Jana-Gana-Mana-38.csv ./new-test-data/test-mfcc-v2-copy/Jana-Gana-Mana-38.csv\n",
      "Processed Jana-Gana-Mana-38.csv, 106/495\n",
      "./new-test-data/test-mfcc-v2/Lavni-38.csv ./new-test-data/test-mfcc-v2-copy/Lavni-38.csv\n",
      "Processed Lavni-38.csv, 107/495\n",
      "./new-test-data/test-mfcc-v2/Bhavgeet-11-MFCC.csv ./new-test-data/test-mfcc-v2-copy/Bhavgeet-11-MFCC.csv\n",
      "Processed Bhavgeet-11-MFCC.csv, 108/495\n",
      "./new-test-data/test-mfcc-v2/Michael-Jackson-8-MFCC.csv ./new-test-data/test-mfcc-v2-copy/Michael-Jackson-8-MFCC.csv\n",
      "Processed Michael-Jackson-8-MFCC.csv, 109/495\n",
      "./new-test-data/test-mfcc-v2/Jana-Gana-Mana-34.csv ./new-test-data/test-mfcc-v2-copy/Jana-Gana-Mana-34.csv\n",
      "Processed Jana-Gana-Mana-34.csv, 110/495\n",
      "./new-test-data/test-mfcc-v2/Jana-Gana-Mana-22.csv ./new-test-data/test-mfcc-v2-copy/Jana-Gana-Mana-22.csv\n",
      "Processed Jana-Gana-Mana-22.csv, 111/495\n",
      "./new-test-data/test-mfcc-v2/Kishore-Kumar-68.csv ./new-test-data/test-mfcc-v2-copy/Kishore-Kumar-68.csv\n",
      "Processed Kishore-Kumar-68.csv, 112/495\n",
      "./new-test-data/test-mfcc-v2/Asha-Bhosle-49.csv ./new-test-data/test-mfcc-v2-copy/Asha-Bhosle-49.csv\n",
      "Processed Asha-Bhosle-49.csv, 113/495\n",
      "./new-test-data/test-mfcc-v2/Bhavgeet-6-MFCC.csv ./new-test-data/test-mfcc-v2-copy/Bhavgeet-6-MFCC.csv\n",
      "Processed Bhavgeet-6-MFCC.csv, 114/495\n",
      "./new-test-data/test-mfcc-v2/Michael-Jackson-23.csv ./new-test-data/test-mfcc-v2-copy/Michael-Jackson-23.csv\n",
      "Processed Michael-Jackson-23.csv, 115/495\n",
      "./new-test-data/test-mfcc-v2/Bhavgeet-2-MFCC.csv ./new-test-data/test-mfcc-v2-copy/Bhavgeet-2-MFCC.csv\n",
      "Processed Bhavgeet-2-MFCC.csv, 116/495\n",
      "./new-test-data/test-mfcc-v2/Kishore-Kumar-72.csv ./new-test-data/test-mfcc-v2-copy/Kishore-Kumar-72.csv\n",
      "Processed Kishore-Kumar-72.csv, 117/495\n",
      "./new-test-data/test-mfcc-v2/Asha-Bhosle-26.csv ./new-test-data/test-mfcc-v2-copy/Asha-Bhosle-26.csv\n",
      "Processed Asha-Bhosle-26.csv, 118/495\n",
      "./new-test-data/test-mfcc-v2/Asha-Bhosle-50.csv ./new-test-data/test-mfcc-v2-copy/Asha-Bhosle-50.csv\n",
      "Processed Asha-Bhosle-50.csv, 119/495\n",
      "./new-test-data/test-mfcc-v2/Michael-Jackson-25.csv ./new-test-data/test-mfcc-v2-copy/Michael-Jackson-25.csv\n",
      "Processed Michael-Jackson-25.csv, 120/495\n",
      "./new-test-data/test-mfcc-v2/Lavni-2.csv ./new-test-data/test-mfcc-v2-copy/Lavni-2.csv\n",
      "Processed Lavni-2.csv, 121/495\n",
      "./new-test-data/test-mfcc-v2/Kishore-Kumar-18.csv ./new-test-data/test-mfcc-v2-copy/Kishore-Kumar-18.csv\n",
      "Processed Kishore-Kumar-18.csv, 122/495\n",
      "./new-test-data/test-mfcc-v2/Kishore-Kumar-17.csv ./new-test-data/test-mfcc-v2-copy/Kishore-Kumar-17.csv\n",
      "Processed Kishore-Kumar-17.csv, 123/495\n",
      "./new-test-data/test-mfcc-v2/Asha-Bhosle-38.csv ./new-test-data/test-mfcc-v2-copy/Asha-Bhosle-38.csv\n",
      "Processed Asha-Bhosle-38.csv, 124/495\n",
      "./new-test-data/test-mfcc-v2/Jana-Gana-Mana-19.csv ./new-test-data/test-mfcc-v2-copy/Jana-Gana-Mana-19.csv\n",
      "Processed Jana-Gana-Mana-19.csv, 125/495\n",
      "./new-test-data/test-mfcc-v2/Kishore-Kumar-6.csv ./new-test-data/test-mfcc-v2-copy/Kishore-Kumar-6.csv\n",
      "Processed Kishore-Kumar-6.csv, 126/495\n",
      "./new-test-data/test-mfcc-v2/Michael-Jackson-12.csv ./new-test-data/test-mfcc-v2-copy/Michael-Jackson-12.csv\n",
      "Processed Michael-Jackson-12.csv, 127/495\n",
      "./new-test-data/test-mfcc-v2/Asha-Bhosle-7.csv ./new-test-data/test-mfcc-v2-copy/Asha-Bhosle-7.csv\n",
      "Processed Asha-Bhosle-7.csv, 128/495\n",
      "./new-test-data/test-mfcc-v2/Asha-Bhosle-14.csv ./new-test-data/test-mfcc-v2-copy/Asha-Bhosle-14.csv\n",
      "Processed Asha-Bhosle-14.csv, 129/495\n",
      "./new-test-data/test-mfcc-v2/Asha-Bhosle-36.csv ./new-test-data/test-mfcc-v2-copy/Asha-Bhosle-36.csv\n",
      "Processed Asha-Bhosle-36.csv, 130/495\n",
      "./new-test-data/test-mfcc-v2/Asha-Bhosle-17-MFCC.csv ./new-test-data/test-mfcc-v2-copy/Asha-Bhosle-17-MFCC.csv\n",
      "Processed Asha-Bhosle-17-MFCC.csv, 131/495\n",
      "./new-test-data/test-mfcc-v2/Asha-Bhosle-11-MFCC.csv ./new-test-data/test-mfcc-v2-copy/Asha-Bhosle-11-MFCC.csv\n",
      "Processed Asha-Bhosle-11-MFCC.csv, 132/495\n",
      "./new-test-data/test-mfcc-v2/Lavni-65.csv ./new-test-data/test-mfcc-v2-copy/Lavni-65.csv\n",
      "Processed Lavni-65.csv, 133/495\n",
      "./new-test-data/test-mfcc-v2/Lavni-Song-9-MFCC.csv ./new-test-data/test-mfcc-v2-copy/Lavni-Song-9-MFCC.csv\n",
      "Processed Lavni-Song-9-MFCC.csv, 134/495\n",
      "./new-test-data/test-mfcc-v2/Lavni-62.csv ./new-test-data/test-mfcc-v2-copy/Lavni-62.csv\n",
      "Processed Lavni-62.csv, 135/495\n",
      "./new-test-data/test-mfcc-v2/Bhavgeet-48.csv ./new-test-data/test-mfcc-v2-copy/Bhavgeet-48.csv\n",
      "Processed Bhavgeet-48.csv, 136/495\n",
      "./new-test-data/test-mfcc-v2/Michael-Jackson-22.csv ./new-test-data/test-mfcc-v2-copy/Michael-Jackson-22.csv\n",
      "Processed Michael-Jackson-22.csv, 137/495\n",
      "./new-test-data/test-mfcc-v2/Bhavgeet-9.csv ./new-test-data/test-mfcc-v2-copy/Bhavgeet-9.csv\n",
      "Processed Bhavgeet-9.csv, 138/495\n",
      "./new-test-data/test-mfcc-v2/Lavni-4.csv ./new-test-data/test-mfcc-v2-copy/Lavni-4.csv\n",
      "Processed Lavni-4.csv, 139/495\n",
      "./new-test-data/test-mfcc-v2/Asha-Bhosle-3.csv ./new-test-data/test-mfcc-v2-copy/Asha-Bhosle-3.csv\n",
      "Processed Asha-Bhosle-3.csv, 140/495\n",
      "./new-test-data/test-mfcc-v2/Lavni-19.csv ./new-test-data/test-mfcc-v2-copy/Lavni-19.csv\n",
      "Processed Lavni-19.csv, 141/495\n",
      "./new-test-data/test-mfcc-v2/Bhavgeet-5.csv ./new-test-data/test-mfcc-v2-copy/Bhavgeet-5.csv\n",
      "Processed Bhavgeet-5.csv, 142/495\n",
      "./new-test-data/test-mfcc-v2/Bhavgeet-15.csv ./new-test-data/test-mfcc-v2-copy/Bhavgeet-15.csv\n",
      "Processed Bhavgeet-15.csv, 143/495\n",
      "./new-test-data/test-mfcc-v2/Asha-Bhosle-33.csv ./new-test-data/test-mfcc-v2-copy/Asha-Bhosle-33.csv\n",
      "Processed Asha-Bhosle-33.csv, 144/495\n",
      "./new-test-data/test-mfcc-v2/Kishore-Kumar-10-MFCC.csv ./new-test-data/test-mfcc-v2-copy/Kishore-Kumar-10-MFCC.csv\n",
      "Processed Kishore-Kumar-10-MFCC.csv, 145/495\n",
      "./new-test-data/test-mfcc-v2/Asha-Bhosle-21.csv ./new-test-data/test-mfcc-v2-copy/Asha-Bhosle-21.csv\n",
      "Processed Asha-Bhosle-21.csv, 146/495\n",
      "./new-test-data/test-mfcc-v2/Lavni-47.csv ./new-test-data/test-mfcc-v2-copy/Lavni-47.csv\n",
      "Processed Lavni-47.csv, 147/495\n",
      "./new-test-data/test-mfcc-v2/Asha-Bhosle-51.csv ./new-test-data/test-mfcc-v2-copy/Asha-Bhosle-51.csv\n",
      "Processed Asha-Bhosle-51.csv, 148/495\n",
      "./new-test-data/test-mfcc-v2/Kishore-Kumar-11.csv ./new-test-data/test-mfcc-v2-copy/Kishore-Kumar-11.csv\n",
      "Processed Kishore-Kumar-11.csv, 149/495\n",
      "./new-test-data/test-mfcc-v2/Bhavgeet-71.csv ./new-test-data/test-mfcc-v2-copy/Bhavgeet-71.csv\n",
      "Processed Bhavgeet-71.csv, 150/495\n",
      "./new-test-data/test-mfcc-v2/Jana-Gana-Mana-33.csv ./new-test-data/test-mfcc-v2-copy/Jana-Gana-Mana-33.csv\n",
      "Processed Jana-Gana-Mana-33.csv, 151/495\n",
      "./new-test-data/test-mfcc-v2/Kishore-Kumar-48.csv ./new-test-data/test-mfcc-v2-copy/Kishore-Kumar-48.csv\n",
      "Processed Kishore-Kumar-48.csv, 152/495\n",
      "./new-test-data/test-mfcc-v2/Michael-Jackson-35.csv ./new-test-data/test-mfcc-v2-copy/Michael-Jackson-35.csv\n",
      "Processed Michael-Jackson-35.csv, 153/495\n",
      "./new-test-data/test-mfcc-v2/Bhavgeet-27.csv ./new-test-data/test-mfcc-v2-copy/Bhavgeet-27.csv\n",
      "Processed Bhavgeet-27.csv, 154/495\n",
      "./new-test-data/test-mfcc-v2/Kishore-Kumar-53.csv ./new-test-data/test-mfcc-v2-copy/Kishore-Kumar-53.csv\n",
      "Processed Kishore-Kumar-53.csv, 155/495\n",
      "./new-test-data/test-mfcc-v2/Michael-Jackson-34.csv ./new-test-data/test-mfcc-v2-copy/Michael-Jackson-34.csv\n",
      "Processed Michael-Jackson-34.csv, 156/495\n",
      "./new-test-data/test-mfcc-v2/Bhavgeet-31.csv ./new-test-data/test-mfcc-v2-copy/Bhavgeet-31.csv\n",
      "Processed Bhavgeet-31.csv, 157/495\n",
      "./new-test-data/test-mfcc-v2/Kishore-Kumar-30.csv ./new-test-data/test-mfcc-v2-copy/Kishore-Kumar-30.csv\n",
      "Processed Kishore-Kumar-30.csv, 158/495\n",
      "./new-test-data/test-mfcc-v2/Jana-Gana-Mana-42.csv ./new-test-data/test-mfcc-v2-copy/Jana-Gana-Mana-42.csv\n",
      "Processed Jana-Gana-Mana-42.csv, 159/495\n",
      "./new-test-data/test-mfcc-v2/Lavni-61.csv ./new-test-data/test-mfcc-v2-copy/Lavni-61.csv\n",
      "Processed Lavni-61.csv, 160/495\n",
      "./new-test-data/test-mfcc-v2/Jana-Gana-Mana-48.csv ./new-test-data/test-mfcc-v2-copy/Jana-Gana-Mana-48.csv\n",
      "Processed Jana-Gana-Mana-48.csv, 161/495\n",
      "./new-test-data/test-mfcc-v2/Bhavgeet-62.csv ./new-test-data/test-mfcc-v2-copy/Bhavgeet-62.csv\n",
      "Processed Bhavgeet-62.csv, 162/495\n",
      "./new-test-data/test-mfcc-v2/Michael-Jackson-29.csv ./new-test-data/test-mfcc-v2-copy/Michael-Jackson-29.csv\n",
      "Processed Michael-Jackson-29.csv, 163/495\n",
      "./new-test-data/test-mfcc-v2/Kishore-Kumar-22.csv ./new-test-data/test-mfcc-v2-copy/Kishore-Kumar-22.csv\n",
      "Processed Kishore-Kumar-22.csv, 164/495\n",
      "./new-test-data/test-mfcc-v2/Bhavgeet-19-MFCC.csv ./new-test-data/test-mfcc-v2-copy/Bhavgeet-19-MFCC.csv\n",
      "Processed Bhavgeet-19-MFCC.csv, 165/495\n",
      "./new-test-data/test-mfcc-v2/Lavni-25.csv ./new-test-data/test-mfcc-v2-copy/Lavni-25.csv\n",
      "Processed Lavni-25.csv, 166/495\n",
      "./new-test-data/test-mfcc-v2/Asha-Bhosle-25.csv ./new-test-data/test-mfcc-v2-copy/Asha-Bhosle-25.csv\n",
      "Processed Asha-Bhosle-25.csv, 167/495\n",
      "./new-test-data/test-mfcc-v2/Asha-Bhosle-31.csv ./new-test-data/test-mfcc-v2-copy/Asha-Bhosle-31.csv\n",
      "Processed Asha-Bhosle-31.csv, 168/495\n",
      "./new-test-data/test-mfcc-v2/Asha-Bhosle-54.csv ./new-test-data/test-mfcc-v2-copy/Asha-Bhosle-54.csv\n",
      "Processed Asha-Bhosle-54.csv, 169/495\n",
      "./new-test-data/test-mfcc-v2/Kishore-Kumar-74.csv ./new-test-data/test-mfcc-v2-copy/Kishore-Kumar-74.csv\n",
      "Processed Kishore-Kumar-74.csv, 170/495\n",
      "./new-test-data/test-mfcc-v2/Michael-Jackson-58.csv ./new-test-data/test-mfcc-v2-copy/Michael-Jackson-58.csv\n",
      "Processed Michael-Jackson-58.csv, 171/495\n",
      "./new-test-data/test-mfcc-v2/Asha-Bhosle-18-MFCC.csv ./new-test-data/test-mfcc-v2-copy/Asha-Bhosle-18-MFCC.csv\n",
      "Processed Asha-Bhosle-18-MFCC.csv, 172/495\n",
      "./new-test-data/test-mfcc-v2/Michael-Jackson-40.csv ./new-test-data/test-mfcc-v2-copy/Michael-Jackson-40.csv\n",
      "Processed Michael-Jackson-40.csv, 173/495\n",
      "./new-test-data/test-mfcc-v2/Lavni-52.csv ./new-test-data/test-mfcc-v2-copy/Lavni-52.csv\n",
      "Processed Lavni-52.csv, 174/495\n",
      "./new-test-data/test-mfcc-v2/Lavni-22.csv ./new-test-data/test-mfcc-v2-copy/Lavni-22.csv\n",
      "Processed Lavni-22.csv, 175/495\n",
      "./new-test-data/test-mfcc-v2/Bhavgeet-7.csv ./new-test-data/test-mfcc-v2-copy/Bhavgeet-7.csv\n",
      "Processed Bhavgeet-7.csv, 176/495\n",
      "./new-test-data/test-mfcc-v2/Bhavgeet-26.csv ./new-test-data/test-mfcc-v2-copy/Bhavgeet-26.csv\n",
      "Processed Bhavgeet-26.csv, 177/495\n",
      "./new-test-data/test-mfcc-v2/Asha-Bhosle-13-MFCC.csv ./new-test-data/test-mfcc-v2-copy/Asha-Bhosle-13-MFCC.csv\n",
      "Processed Asha-Bhosle-13-MFCC.csv, 178/495\n",
      "./new-test-data/test-mfcc-v2/Asha-Bhosle-27.csv ./new-test-data/test-mfcc-v2-copy/Asha-Bhosle-27.csv\n",
      "Processed Asha-Bhosle-27.csv, 179/495\n",
      "./new-test-data/test-mfcc-v2/Michael-Jackson-56.csv ./new-test-data/test-mfcc-v2-copy/Michael-Jackson-56.csv\n",
      "Processed Michael-Jackson-56.csv, 180/495\n",
      "./new-test-data/test-mfcc-v2/Lavni-66.csv ./new-test-data/test-mfcc-v2-copy/Lavni-66.csv\n",
      "Processed Lavni-66.csv, 181/495\n",
      "./new-test-data/test-mfcc-v2/Lavni-43.csv ./new-test-data/test-mfcc-v2-copy/Lavni-43.csv\n",
      "Processed Lavni-43.csv, 182/495\n",
      "./new-test-data/test-mfcc-v2/Asha-Bhosle-68.csv ./new-test-data/test-mfcc-v2-copy/Asha-Bhosle-68.csv\n",
      "Processed Asha-Bhosle-68.csv, 183/495\n",
      "./new-test-data/test-mfcc-v2/Jana-Gana-Mana-46.csv ./new-test-data/test-mfcc-v2-copy/Jana-Gana-Mana-46.csv\n",
      "Processed Jana-Gana-Mana-46.csv, 184/495\n",
      "./new-test-data/test-mfcc-v2/Jana-Gana-Mana-28.csv ./new-test-data/test-mfcc-v2-copy/Jana-Gana-Mana-28.csv\n",
      "Processed Jana-Gana-Mana-28.csv, 185/495\n",
      "./new-test-data/test-mfcc-v2/Kishore-Kumar-4-MFCC.csv ./new-test-data/test-mfcc-v2-copy/Kishore-Kumar-4-MFCC.csv\n",
      "Processed Kishore-Kumar-4-MFCC.csv, 186/495\n",
      "./new-test-data/test-mfcc-v2/Kishore-Kumar-3-MFCC.csv ./new-test-data/test-mfcc-v2-copy/Kishore-Kumar-3-MFCC.csv\n",
      "Processed Kishore-Kumar-3-MFCC.csv, 187/495\n",
      "./new-test-data/test-mfcc-v2/Bhavgeet-16-MFCC.csv ./new-test-data/test-mfcc-v2-copy/Bhavgeet-16-MFCC.csv\n",
      "Processed Bhavgeet-16-MFCC.csv, 188/495\n",
      "./new-test-data/test-mfcc-v2/Bhavgeet-19.csv ./new-test-data/test-mfcc-v2-copy/Bhavgeet-19.csv\n",
      "Processed Bhavgeet-19.csv, 189/495\n",
      "./new-test-data/test-mfcc-v2/Jana-Gana-Mana-26.csv ./new-test-data/test-mfcc-v2-copy/Jana-Gana-Mana-26.csv\n",
      "Processed Jana-Gana-Mana-26.csv, 190/495\n",
      "./new-test-data/test-mfcc-v2/Asha-Bhosle-45.csv ./new-test-data/test-mfcc-v2-copy/Asha-Bhosle-45.csv\n",
      "Processed Asha-Bhosle-45.csv, 191/495\n",
      "./new-test-data/test-mfcc-v2/Lavni-37.csv ./new-test-data/test-mfcc-v2-copy/Lavni-37.csv\n",
      "Processed Lavni-37.csv, 192/495\n",
      "./new-test-data/test-mfcc-v2/Lavni-Song-5-MFCC.csv ./new-test-data/test-mfcc-v2-copy/Lavni-Song-5-MFCC.csv\n",
      "Processed Lavni-Song-5-MFCC.csv, 193/495\n",
      "./new-test-data/test-mfcc-v2/Michael-Jackson-13.csv ./new-test-data/test-mfcc-v2-copy/Michael-Jackson-13.csv\n",
      "Processed Michael-Jackson-13.csv, 194/495\n",
      "./new-test-data/test-mfcc-v2/Michael-Jackson-4-MFCC.csv ./new-test-data/test-mfcc-v2-copy/Michael-Jackson-4-MFCC.csv\n",
      "Processed Michael-Jackson-4-MFCC.csv, 195/495\n",
      "./new-test-data/test-mfcc-v2/Kishore-Kumar-3.csv ./new-test-data/test-mfcc-v2-copy/Kishore-Kumar-3.csv\n",
      "Processed Kishore-Kumar-3.csv, 196/495\n",
      "./new-test-data/test-mfcc-v2/Jana-Gana-Mana-44.csv ./new-test-data/test-mfcc-v2-copy/Jana-Gana-Mana-44.csv\n",
      "Processed Jana-Gana-Mana-44.csv, 197/495\n",
      "./new-test-data/test-mfcc-v2/Michael-Jackson-10.csv ./new-test-data/test-mfcc-v2-copy/Michael-Jackson-10.csv\n",
      "Processed Michael-Jackson-10.csv, 198/495\n",
      "./new-test-data/test-mfcc-v2/Bhavgeet-42.csv ./new-test-data/test-mfcc-v2-copy/Bhavgeet-42.csv\n",
      "Processed Bhavgeet-42.csv, 199/495\n",
      "./new-test-data/test-mfcc-v2/Kishore-Kumar-41.csv ./new-test-data/test-mfcc-v2-copy/Kishore-Kumar-41.csv\n",
      "Processed Kishore-Kumar-41.csv, 200/495\n",
      "./new-test-data/test-mfcc-v2/Asha-Bhosle-5-MFCC.csv ./new-test-data/test-mfcc-v2-copy/Asha-Bhosle-5-MFCC.csv\n",
      "Processed Asha-Bhosle-5-MFCC.csv, 201/495\n",
      "./new-test-data/test-mfcc-v2/Bhavgeet-13.csv ./new-test-data/test-mfcc-v2-copy/Bhavgeet-13.csv\n",
      "Processed Bhavgeet-13.csv, 202/495\n",
      "./new-test-data/test-mfcc-v2/Bhavgeet-50.csv ./new-test-data/test-mfcc-v2-copy/Bhavgeet-50.csv\n",
      "Processed Bhavgeet-50.csv, 203/495\n",
      "./new-test-data/test-mfcc-v2/Kishore-Kumar-59.csv ./new-test-data/test-mfcc-v2-copy/Kishore-Kumar-59.csv\n",
      "Processed Kishore-Kumar-59.csv, 204/495\n",
      "./new-test-data/test-mfcc-v2/Michael-Jackson-5.csv ./new-test-data/test-mfcc-v2-copy/Michael-Jackson-5.csv\n",
      "Processed Michael-Jackson-5.csv, 205/495\n",
      "./new-test-data/test-mfcc-v2/Jana-Gana-Mana-5-MFCC.csv ./new-test-data/test-mfcc-v2-copy/Jana-Gana-Mana-5-MFCC.csv\n",
      "Processed Jana-Gana-Mana-5-MFCC.csv, 206/495\n",
      "./new-test-data/test-mfcc-v2/Asha-Bhosle-64.csv ./new-test-data/test-mfcc-v2-copy/Asha-Bhosle-64.csv\n",
      "Processed Asha-Bhosle-64.csv, 207/495\n",
      "./new-test-data/test-mfcc-v2/Kishore-Kumar-15-MFCC.csv ./new-test-data/test-mfcc-v2-copy/Kishore-Kumar-15-MFCC.csv\n",
      "Processed Kishore-Kumar-15-MFCC.csv, 208/495\n",
      "./new-test-data/test-mfcc-v2/Lavni-35.csv ./new-test-data/test-mfcc-v2-copy/Lavni-35.csv\n",
      "Processed Lavni-35.csv, 209/495\n",
      "./new-test-data/test-mfcc-v2/Lavni-45.csv ./new-test-data/test-mfcc-v2-copy/Lavni-45.csv\n",
      "Processed Lavni-45.csv, 210/495\n",
      "./new-test-data/test-mfcc-v2/Kishore-Kumar-69.csv ./new-test-data/test-mfcc-v2-copy/Kishore-Kumar-69.csv\n",
      "Processed Kishore-Kumar-69.csv, 211/495\n",
      "./new-test-data/test-mfcc-v2/Lavni-46.csv ./new-test-data/test-mfcc-v2-copy/Lavni-46.csv\n",
      "Processed Lavni-46.csv, 212/495\n",
      "./new-test-data/test-mfcc-v2/Asha-Bhosle-56.csv ./new-test-data/test-mfcc-v2-copy/Asha-Bhosle-56.csv\n",
      "Processed Asha-Bhosle-56.csv, 213/495\n",
      "./new-test-data/test-mfcc-v2/Asha-Bhosle-52.csv ./new-test-data/test-mfcc-v2-copy/Asha-Bhosle-52.csv\n",
      "Processed Asha-Bhosle-52.csv, 214/495\n",
      "./new-test-data/test-mfcc-v2/Michael-Jackson-7-MFCC.csv ./new-test-data/test-mfcc-v2-copy/Michael-Jackson-7-MFCC.csv\n",
      "Processed Michael-Jackson-7-MFCC.csv, 215/495\n",
      "./new-test-data/test-mfcc-v2/Michael-Jackson-26.csv ./new-test-data/test-mfcc-v2-copy/Michael-Jackson-26.csv\n",
      "Processed Michael-Jackson-26.csv, 216/495\n",
      "./new-test-data/test-mfcc-v2/Asha-Bhosle-61.csv ./new-test-data/test-mfcc-v2-copy/Asha-Bhosle-61.csv\n",
      "Processed Asha-Bhosle-61.csv, 217/495\n",
      "./new-test-data/test-mfcc-v2/Bhavgeet-28.csv ./new-test-data/test-mfcc-v2-copy/Bhavgeet-28.csv\n",
      "Processed Bhavgeet-28.csv, 218/495\n",
      "./new-test-data/test-mfcc-v2/Jana-Gana-Mana-12.csv ./new-test-data/test-mfcc-v2-copy/Jana-Gana-Mana-12.csv\n",
      "Processed Jana-Gana-Mana-12.csv, 219/495\n",
      "./new-test-data/test-mfcc-v2/Kishore-Kumar-28.csv ./new-test-data/test-mfcc-v2-copy/Kishore-Kumar-28.csv\n",
      "Processed Kishore-Kumar-28.csv, 220/495\n",
      "./new-test-data/test-mfcc-v2/Michael-Jackson-18.csv ./new-test-data/test-mfcc-v2-copy/Michael-Jackson-18.csv\n",
      "Processed Michael-Jackson-18.csv, 221/495\n",
      "./new-test-data/test-mfcc-v2/Lavni-Song-11-MFCC.csv ./new-test-data/test-mfcc-v2-copy/Lavni-Song-11-MFCC.csv\n",
      "Processed Lavni-Song-11-MFCC.csv, 222/495\n",
      "./new-test-data/test-mfcc-v2/Kishore-Kumar-50.csv ./new-test-data/test-mfcc-v2-copy/Kishore-Kumar-50.csv\n",
      "Processed Kishore-Kumar-50.csv, 223/495\n",
      "./new-test-data/test-mfcc-v2/Lavni-9.csv ./new-test-data/test-mfcc-v2-copy/Lavni-9.csv\n",
      "Processed Lavni-9.csv, 224/495\n",
      "./new-test-data/test-mfcc-v2/Bhavgeet-3-MFCC.csv ./new-test-data/test-mfcc-v2-copy/Bhavgeet-3-MFCC.csv\n",
      "Processed Bhavgeet-3-MFCC.csv, 225/495\n",
      "./new-test-data/test-mfcc-v2/Jana-Gana-Mana-7-MFCC.csv ./new-test-data/test-mfcc-v2-copy/Jana-Gana-Mana-7-MFCC.csv\n",
      "Processed Jana-Gana-Mana-7-MFCC.csv, 226/495\n",
      "./new-test-data/test-mfcc-v2/Jana-Gana-Mana-1-MFCC.csv ./new-test-data/test-mfcc-v2-copy/Jana-Gana-Mana-1-MFCC.csv\n",
      "Processed Jana-Gana-Mana-1-MFCC.csv, 227/495\n",
      "./new-test-data/test-mfcc-v2/Kishore-Kumar-47.csv ./new-test-data/test-mfcc-v2-copy/Kishore-Kumar-47.csv\n",
      "Processed Kishore-Kumar-47.csv, 228/495\n",
      "./new-test-data/test-mfcc-v2/Lavni-54.csv ./new-test-data/test-mfcc-v2-copy/Lavni-54.csv\n",
      "Processed Lavni-54.csv, 229/495\n",
      "./new-test-data/test-mfcc-v2/Jana-Gana-Mana-3-MFCC.csv ./new-test-data/test-mfcc-v2-copy/Jana-Gana-Mana-3-MFCC.csv\n",
      "Processed Jana-Gana-Mana-3-MFCC.csv, 230/495\n",
      "./new-test-data/test-mfcc-v2/Kishore-Kumar-67.csv ./new-test-data/test-mfcc-v2-copy/Kishore-Kumar-67.csv\n",
      "Processed Kishore-Kumar-67.csv, 231/495\n",
      "./new-test-data/test-mfcc-v2/Lavni-40.csv ./new-test-data/test-mfcc-v2-copy/Lavni-40.csv\n",
      "Processed Lavni-40.csv, 232/495\n",
      "./new-test-data/test-mfcc-v2/Bhavgeet-72.csv ./new-test-data/test-mfcc-v2-copy/Bhavgeet-72.csv\n",
      "Processed Bhavgeet-72.csv, 233/495\n",
      "./new-test-data/test-mfcc-v2/Lavni-Song-8-MFCC.csv ./new-test-data/test-mfcc-v2-copy/Lavni-Song-8-MFCC.csv\n",
      "Processed Lavni-Song-8-MFCC.csv, 234/495\n",
      "./new-test-data/test-mfcc-v2/Kishore-Kumar-34.csv ./new-test-data/test-mfcc-v2-copy/Kishore-Kumar-34.csv\n",
      "Processed Kishore-Kumar-34.csv, 235/495\n",
      "./new-test-data/test-mfcc-v2/Asha-Bhosle-9-MFCC.csv ./new-test-data/test-mfcc-v2-copy/Asha-Bhosle-9-MFCC.csv\n",
      "Processed Asha-Bhosle-9-MFCC.csv, 236/495\n",
      "./new-test-data/test-mfcc-v2/Asha-Bhosle-12.csv ./new-test-data/test-mfcc-v2-copy/Asha-Bhosle-12.csv\n",
      "Processed Asha-Bhosle-12.csv, 237/495\n",
      "./new-test-data/test-mfcc-v2/Jana-Gana-Mana-15.csv ./new-test-data/test-mfcc-v2-copy/Jana-Gana-Mana-15.csv\n",
      "Processed Jana-Gana-Mana-15.csv, 238/495\n",
      "./new-test-data/test-mfcc-v2/Kishore-Kumar-73.csv ./new-test-data/test-mfcc-v2-copy/Kishore-Kumar-73.csv\n",
      "Processed Kishore-Kumar-73.csv, 239/495\n",
      "./new-test-data/test-mfcc-v2/Bhavgeet-23.csv ./new-test-data/test-mfcc-v2-copy/Bhavgeet-23.csv\n",
      "Processed Bhavgeet-23.csv, 240/495\n",
      "./new-test-data/test-mfcc-v2/Kishore-Kumar-27.csv ./new-test-data/test-mfcc-v2-copy/Kishore-Kumar-27.csv\n",
      "Processed Kishore-Kumar-27.csv, 241/495\n",
      "./new-test-data/test-mfcc-v2/Lavni-6.csv ./new-test-data/test-mfcc-v2-copy/Lavni-6.csv\n",
      "Processed Lavni-6.csv, 242/495\n",
      "./new-test-data/test-mfcc-v2/Asha-Bhosle-10.csv ./new-test-data/test-mfcc-v2-copy/Asha-Bhosle-10.csv\n",
      "Processed Asha-Bhosle-10.csv, 243/495\n",
      "./new-test-data/test-mfcc-v2/Jana-Gana-Mana-2-MFCC.csv ./new-test-data/test-mfcc-v2-copy/Jana-Gana-Mana-2-MFCC.csv\n",
      "Processed Jana-Gana-Mana-2-MFCC.csv, 244/495\n",
      "./new-test-data/test-mfcc-v2/Lavni-42.csv ./new-test-data/test-mfcc-v2-copy/Lavni-42.csv\n",
      "Processed Lavni-42.csv, 245/495\n",
      "./new-test-data/test-mfcc-v2/Bhavgeet-38.csv ./new-test-data/test-mfcc-v2-copy/Bhavgeet-38.csv\n",
      "Processed Bhavgeet-38.csv, 246/495\n",
      "./new-test-data/test-mfcc-v2/Bhavgeet-13-MFCC.csv ./new-test-data/test-mfcc-v2-copy/Bhavgeet-13-MFCC.csv\n",
      "Processed Bhavgeet-13-MFCC.csv, 247/495\n",
      "./new-test-data/test-mfcc-v2/Asha-Bhosle-30.csv ./new-test-data/test-mfcc-v2-copy/Asha-Bhosle-30.csv\n",
      "Processed Asha-Bhosle-30.csv, 248/495\n",
      "./new-test-data/test-mfcc-v2/Jana-Gana-Mana-6-MFCC.csv ./new-test-data/test-mfcc-v2-copy/Jana-Gana-Mana-6-MFCC.csv\n",
      "Processed Jana-Gana-Mana-6-MFCC.csv, 249/495\n",
      "./new-test-data/test-mfcc-v2/Asha-Bhosle-9.csv ./new-test-data/test-mfcc-v2-copy/Asha-Bhosle-9.csv\n",
      "Processed Asha-Bhosle-9.csv, 250/495\n",
      "./new-test-data/test-mfcc-v2/Jana-Gana-Mana-47.csv ./new-test-data/test-mfcc-v2-copy/Jana-Gana-Mana-47.csv\n",
      "Processed Jana-Gana-Mana-47.csv, 251/495\n",
      "./new-test-data/test-mfcc-v2/Bhavgeet-40.csv ./new-test-data/test-mfcc-v2-copy/Bhavgeet-40.csv\n",
      "Processed Bhavgeet-40.csv, 252/495\n",
      "./new-test-data/test-mfcc-v2/Asha-Bhosle-20.csv ./new-test-data/test-mfcc-v2-copy/Asha-Bhosle-20.csv\n",
      "Processed Asha-Bhosle-20.csv, 253/495\n",
      "./new-test-data/test-mfcc-v2/Michael-Jackson-63.csv ./new-test-data/test-mfcc-v2-copy/Michael-Jackson-63.csv\n",
      "Processed Michael-Jackson-63.csv, 254/495\n",
      "./new-test-data/test-mfcc-v2/Asha-Bhosle-46.csv ./new-test-data/test-mfcc-v2-copy/Asha-Bhosle-46.csv\n",
      "Processed Asha-Bhosle-46.csv, 255/495\n",
      "./new-test-data/test-mfcc-v2/Michael-Jackson-65.csv ./new-test-data/test-mfcc-v2-copy/Michael-Jackson-65.csv\n",
      "Processed Michael-Jackson-65.csv, 256/495\n",
      "./new-test-data/test-mfcc-v2/Asha-Bhosle-58.csv ./new-test-data/test-mfcc-v2-copy/Asha-Bhosle-58.csv\n",
      "Processed Asha-Bhosle-58.csv, 257/495\n",
      "./new-test-data/test-mfcc-v2/Asha-Bhosle-23-MFCC.csv ./new-test-data/test-mfcc-v2-copy/Asha-Bhosle-23-MFCC.csv\n",
      "Processed Asha-Bhosle-23-MFCC.csv, 258/495\n",
      "./new-test-data/test-mfcc-v2/Bhavgeet-9-MFCC.csv ./new-test-data/test-mfcc-v2-copy/Bhavgeet-9-MFCC.csv\n",
      "Processed Bhavgeet-9-MFCC.csv, 259/495\n",
      "./new-test-data/test-mfcc-v2/Bhavgeet-64.csv ./new-test-data/test-mfcc-v2-copy/Bhavgeet-64.csv\n",
      "Processed Bhavgeet-64.csv, 260/495\n",
      "./new-test-data/test-mfcc-v2/Asha-Bhosle-21-MFCC.csv ./new-test-data/test-mfcc-v2-copy/Asha-Bhosle-21-MFCC.csv\n",
      "Processed Asha-Bhosle-21-MFCC.csv, 261/495\n",
      "./new-test-data/test-mfcc-v2/Jana-Gana-Mana-36.csv ./new-test-data/test-mfcc-v2-copy/Jana-Gana-Mana-36.csv\n",
      "Processed Jana-Gana-Mana-36.csv, 262/495\n",
      "./new-test-data/test-mfcc-v2/Kishore-Kumar-8.csv ./new-test-data/test-mfcc-v2-copy/Kishore-Kumar-8.csv\n",
      "Processed Kishore-Kumar-8.csv, 263/495\n",
      "./new-test-data/test-mfcc-v2/Bhavgeet-32.csv ./new-test-data/test-mfcc-v2-copy/Bhavgeet-32.csv\n",
      "Processed Bhavgeet-32.csv, 264/495\n",
      "./new-test-data/test-mfcc-v2/Kishore-Kumar-15.csv ./new-test-data/test-mfcc-v2-copy/Kishore-Kumar-15.csv\n",
      "Processed Kishore-Kumar-15.csv, 265/495\n",
      "./new-test-data/test-mfcc-v2/Kishore-Kumar-33.csv ./new-test-data/test-mfcc-v2-copy/Kishore-Kumar-33.csv\n",
      "Processed Kishore-Kumar-33.csv, 266/495\n",
      "./new-test-data/test-mfcc-v2/Jana-Gana-Mana-18.csv ./new-test-data/test-mfcc-v2-copy/Jana-Gana-Mana-18.csv\n",
      "Processed Jana-Gana-Mana-18.csv, 267/495\n",
      "./new-test-data/test-mfcc-v2/Asha-Bhosle-29.csv ./new-test-data/test-mfcc-v2-copy/Asha-Bhosle-29.csv\n",
      "Processed Asha-Bhosle-29.csv, 268/495\n",
      "./new-test-data/test-mfcc-v2/Bhavgeet-68.csv ./new-test-data/test-mfcc-v2-copy/Bhavgeet-68.csv\n",
      "Processed Bhavgeet-68.csv, 269/495\n",
      "./new-test-data/test-mfcc-v2/Jana-Gana-Mana-1.csv ./new-test-data/test-mfcc-v2-copy/Jana-Gana-Mana-1.csv\n",
      "Processed Jana-Gana-Mana-1.csv, 270/495\n",
      "./new-test-data/test-mfcc-v2/Kishore-Kumar-60.csv ./new-test-data/test-mfcc-v2-copy/Kishore-Kumar-60.csv\n",
      "Processed Kishore-Kumar-60.csv, 271/495\n",
      "./new-test-data/test-mfcc-v2/Bhavgeet-24.csv ./new-test-data/test-mfcc-v2-copy/Bhavgeet-24.csv\n",
      "Processed Bhavgeet-24.csv, 272/495\n",
      "./new-test-data/test-mfcc-v2/Asha-Bhosle-63.csv ./new-test-data/test-mfcc-v2-copy/Asha-Bhosle-63.csv\n",
      "Processed Asha-Bhosle-63.csv, 273/495\n",
      "./new-test-data/test-mfcc-v2/Michael-Jackson-70.csv ./new-test-data/test-mfcc-v2-copy/Michael-Jackson-70.csv\n",
      "Processed Michael-Jackson-70.csv, 274/495\n",
      "./new-test-data/test-mfcc-v2/Kishore-Kumar-37.csv ./new-test-data/test-mfcc-v2-copy/Kishore-Kumar-37.csv\n",
      "Processed Kishore-Kumar-37.csv, 275/495\n",
      "./new-test-data/test-mfcc-v2/Lavni-Song-3-MFCC.csv ./new-test-data/test-mfcc-v2-copy/Lavni-Song-3-MFCC.csv\n",
      "Processed Lavni-Song-3-MFCC.csv, 276/495\n",
      "./new-test-data/test-mfcc-v2/Bhavgeet-8.csv ./new-test-data/test-mfcc-v2-copy/Bhavgeet-8.csv\n",
      "Processed Bhavgeet-8.csv, 277/495\n",
      "./new-test-data/test-mfcc-v2/Kishore-Kumar-24.csv ./new-test-data/test-mfcc-v2-copy/Kishore-Kumar-24.csv\n",
      "Processed Kishore-Kumar-24.csv, 278/495\n",
      "./new-test-data/test-mfcc-v2/Michael-Jackson-57.csv ./new-test-data/test-mfcc-v2-copy/Michael-Jackson-57.csv\n",
      "Processed Michael-Jackson-57.csv, 279/495\n",
      "./new-test-data/test-mfcc-v2/Lavni-28.csv ./new-test-data/test-mfcc-v2-copy/Lavni-28.csv\n",
      "Processed Lavni-28.csv, 280/495\n",
      "./new-test-data/test-mfcc-v2/Asha-Bhosle-72.csv ./new-test-data/test-mfcc-v2-copy/Asha-Bhosle-72.csv\n",
      "Processed Asha-Bhosle-72.csv, 281/495\n",
      "./new-test-data/test-mfcc-v2/Kishore-Kumar-65.csv ./new-test-data/test-mfcc-v2-copy/Kishore-Kumar-65.csv\n",
      "Processed Kishore-Kumar-65.csv, 282/495\n",
      "./new-test-data/test-mfcc-v2/Jana-Gana-Mana-45.csv ./new-test-data/test-mfcc-v2-copy/Jana-Gana-Mana-45.csv\n",
      "Processed Jana-Gana-Mana-45.csv, 283/495\n",
      "./new-test-data/test-mfcc-v2/Bhavgeet-58.csv ./new-test-data/test-mfcc-v2-copy/Bhavgeet-58.csv\n",
      "Processed Bhavgeet-58.csv, 284/495\n",
      "./new-test-data/test-mfcc-v2/Kishore-Kumar-55.csv ./new-test-data/test-mfcc-v2-copy/Kishore-Kumar-55.csv\n",
      "Processed Kishore-Kumar-55.csv, 285/495\n",
      "./new-test-data/test-mfcc-v2/Michael-Jackson-5-MFCC.csv ./new-test-data/test-mfcc-v2-copy/Michael-Jackson-5-MFCC.csv\n",
      "Processed Michael-Jackson-5-MFCC.csv, 286/495\n",
      "./new-test-data/test-mfcc-v2/Lavni-7.csv ./new-test-data/test-mfcc-v2-copy/Lavni-7.csv\n",
      "Processed Lavni-7.csv, 287/495\n",
      "./new-test-data/test-mfcc-v2/Kishore-Kumar-7.csv ./new-test-data/test-mfcc-v2-copy/Kishore-Kumar-7.csv\n",
      "Processed Kishore-Kumar-7.csv, 288/495\n",
      "./new-test-data/test-mfcc-v2/Bhavgeet-14-MFCC.csv ./new-test-data/test-mfcc-v2-copy/Bhavgeet-14-MFCC.csv\n",
      "Processed Bhavgeet-14-MFCC.csv, 289/495\n",
      "./new-test-data/test-mfcc-v2/Kishore-Kumar-14.csv ./new-test-data/test-mfcc-v2-copy/Kishore-Kumar-14.csv\n",
      "Processed Kishore-Kumar-14.csv, 290/495\n",
      "./new-test-data/test-mfcc-v2/Lavni-29.csv ./new-test-data/test-mfcc-v2-copy/Lavni-29.csv\n",
      "Processed Lavni-29.csv, 291/495\n",
      "./new-test-data/test-mfcc-v2/Bhavgeet-49.csv ./new-test-data/test-mfcc-v2-copy/Bhavgeet-49.csv\n",
      "Processed Bhavgeet-49.csv, 292/495\n",
      "./new-test-data/test-mfcc-v2/Michael-Jackson-47.csv ./new-test-data/test-mfcc-v2-copy/Michael-Jackson-47.csv\n",
      "Processed Michael-Jackson-47.csv, 293/495\n",
      "./new-test-data/test-mfcc-v2/Bhavgeet-52.csv ./new-test-data/test-mfcc-v2-copy/Bhavgeet-52.csv\n",
      "Processed Bhavgeet-52.csv, 294/495\n",
      "./new-test-data/test-mfcc-v2/Asha-Bhosle-73.csv ./new-test-data/test-mfcc-v2-copy/Asha-Bhosle-73.csv\n",
      "Processed Asha-Bhosle-73.csv, 295/495\n",
      "./new-test-data/test-mfcc-v2/Asha-Bhosle-8-MFCC.csv ./new-test-data/test-mfcc-v2-copy/Asha-Bhosle-8-MFCC.csv\n",
      "Processed Asha-Bhosle-8-MFCC.csv, 296/495\n",
      "./new-test-data/test-mfcc-v2/Asha-Bhosle-44.csv ./new-test-data/test-mfcc-v2-copy/Asha-Bhosle-44.csv\n",
      "Processed Asha-Bhosle-44.csv, 297/495\n",
      "./new-test-data/test-mfcc-v2/Jana-Gana-Mana-29.csv ./new-test-data/test-mfcc-v2-copy/Jana-Gana-Mana-29.csv\n",
      "Processed Jana-Gana-Mana-29.csv, 298/495\n",
      "./new-test-data/test-mfcc-v2/Bhavgeet-7-MFCC.csv ./new-test-data/test-mfcc-v2-copy/Bhavgeet-7-MFCC.csv\n",
      "Processed Bhavgeet-7-MFCC.csv, 299/495\n",
      "./new-test-data/test-mfcc-v2/Michael-Jackson-1.csv ./new-test-data/test-mfcc-v2-copy/Michael-Jackson-1.csv\n",
      "Processed Michael-Jackson-1.csv, 300/495\n",
      "./new-test-data/test-mfcc-v2/Michael-Jackson-61.csv ./new-test-data/test-mfcc-v2-copy/Michael-Jackson-61.csv\n",
      "Processed Michael-Jackson-61.csv, 301/495\n",
      "./new-test-data/test-mfcc-v2/Kishore-Kumar-51.csv ./new-test-data/test-mfcc-v2-copy/Kishore-Kumar-51.csv\n",
      "Processed Kishore-Kumar-51.csv, 302/495\n",
      "./new-test-data/test-mfcc-v2/Asha-Bhosle-67.csv ./new-test-data/test-mfcc-v2-copy/Asha-Bhosle-67.csv\n",
      "Processed Asha-Bhosle-67.csv, 303/495\n",
      "./new-test-data/test-mfcc-v2/Bhavgeet-8-MFCC.csv ./new-test-data/test-mfcc-v2-copy/Bhavgeet-8-MFCC.csv\n",
      "Processed Bhavgeet-8-MFCC.csv, 304/495\n",
      "./new-test-data/test-mfcc-v2/Kishore-Kumar-16-MFCC.csv ./new-test-data/test-mfcc-v2-copy/Kishore-Kumar-16-MFCC.csv\n",
      "Processed Kishore-Kumar-16-MFCC.csv, 305/495\n",
      "./new-test-data/test-mfcc-v2/Jana-Gana-Mana-13.csv ./new-test-data/test-mfcc-v2-copy/Jana-Gana-Mana-13.csv\n",
      "Processed Jana-Gana-Mana-13.csv, 306/495\n",
      "./new-test-data/test-mfcc-v2/Michael-Jackson-37.csv ./new-test-data/test-mfcc-v2-copy/Michael-Jackson-37.csv\n",
      "Processed Michael-Jackson-37.csv, 307/495\n",
      "./new-test-data/test-mfcc-v2/Asha-Bhosle-16-MFCC.csv ./new-test-data/test-mfcc-v2-copy/Asha-Bhosle-16-MFCC.csv\n",
      "Processed Asha-Bhosle-16-MFCC.csv, 308/495\n",
      "./new-test-data/test-mfcc-v2/Lavni-13.csv ./new-test-data/test-mfcc-v2-copy/Lavni-13.csv\n",
      "Processed Lavni-13.csv, 309/495\n",
      "./new-test-data/test-mfcc-v2/Lavni-Song-1-MFCC.csv ./new-test-data/test-mfcc-v2-copy/Lavni-Song-1-MFCC.csv\n",
      "Processed Lavni-Song-1-MFCC.csv, 310/495\n",
      "./new-test-data/test-mfcc-v2/Kishore-Kumar-21.csv ./new-test-data/test-mfcc-v2-copy/Kishore-Kumar-21.csv\n",
      "Processed Kishore-Kumar-21.csv, 311/495\n",
      "./new-test-data/test-mfcc-v2/Michael-Jackson-49.csv ./new-test-data/test-mfcc-v2-copy/Michael-Jackson-49.csv\n",
      "Processed Michael-Jackson-49.csv, 312/495\n",
      "./new-test-data/test-mfcc-v2/Jana-Gana-Mana-32.csv ./new-test-data/test-mfcc-v2-copy/Jana-Gana-Mana-32.csv\n",
      "Processed Jana-Gana-Mana-32.csv, 313/495\n",
      "./new-test-data/test-mfcc-v2/Bhavgeet-6.csv ./new-test-data/test-mfcc-v2-copy/Bhavgeet-6.csv\n",
      "Processed Bhavgeet-6.csv, 314/495\n",
      "./new-test-data/test-mfcc-v2/Bhavgeet-45.csv ./new-test-data/test-mfcc-v2-copy/Bhavgeet-45.csv\n",
      "Processed Bhavgeet-45.csv, 315/495\n",
      "./new-test-data/test-mfcc-v2/Lavni-33.csv ./new-test-data/test-mfcc-v2-copy/Lavni-33.csv\n",
      "Processed Lavni-33.csv, 316/495\n",
      "./new-test-data/test-mfcc-v2/Kishore-Kumar-8-MFCC.csv ./new-test-data/test-mfcc-v2-copy/Kishore-Kumar-8-MFCC.csv\n",
      "Processed Kishore-Kumar-8-MFCC.csv, 317/495\n",
      "./new-test-data/test-mfcc-v2/Bhavgeet-41.csv ./new-test-data/test-mfcc-v2-copy/Bhavgeet-41.csv\n",
      "Processed Bhavgeet-41.csv, 318/495\n",
      "./new-test-data/test-mfcc-v2/Lavni-64.csv ./new-test-data/test-mfcc-v2-copy/Lavni-64.csv\n",
      "Processed Lavni-64.csv, 319/495\n",
      "./new-test-data/test-mfcc-v2/Kishore-Kumar-45.csv ./new-test-data/test-mfcc-v2-copy/Kishore-Kumar-45.csv\n",
      "Processed Kishore-Kumar-45.csv, 320/495\n",
      "./new-test-data/test-mfcc-v2/Jana-Gana-Mana-16.csv ./new-test-data/test-mfcc-v2-copy/Jana-Gana-Mana-16.csv\n",
      "Processed Jana-Gana-Mana-16.csv, 321/495\n",
      "./new-test-data/test-mfcc-v2/Lavni-Song-7-MFCC.csv ./new-test-data/test-mfcc-v2-copy/Lavni-Song-7-MFCC.csv\n",
      "Processed Lavni-Song-7-MFCC.csv, 322/495\n",
      "./new-test-data/test-mfcc-v2/Michael-Jackson-7.csv ./new-test-data/test-mfcc-v2-copy/Michael-Jackson-7.csv\n",
      "Processed Michael-Jackson-7.csv, 323/495\n",
      "./new-test-data/test-mfcc-v2/Lavni-15.csv ./new-test-data/test-mfcc-v2-copy/Lavni-15.csv\n",
      "Processed Lavni-15.csv, 324/495\n",
      "./new-test-data/test-mfcc-v2/Michael-Jackson-38.csv ./new-test-data/test-mfcc-v2-copy/Michael-Jackson-38.csv\n",
      "Processed Michael-Jackson-38.csv, 325/495\n",
      "./new-test-data/test-mfcc-v2/Michael-Jackson-60.csv ./new-test-data/test-mfcc-v2-copy/Michael-Jackson-60.csv\n",
      "Processed Michael-Jackson-60.csv, 326/495\n",
      "./new-test-data/test-mfcc-v2/Kishore-Kumar-16.csv ./new-test-data/test-mfcc-v2-copy/Kishore-Kumar-16.csv\n",
      "Processed Kishore-Kumar-16.csv, 327/495\n",
      "./new-test-data/test-mfcc-v2/Michael-Jackson-53.csv ./new-test-data/test-mfcc-v2-copy/Michael-Jackson-53.csv\n",
      "Processed Michael-Jackson-53.csv, 328/495\n",
      "./new-test-data/test-mfcc-v2/Michael-Jackson-14.csv ./new-test-data/test-mfcc-v2-copy/Michael-Jackson-14.csv\n",
      "Processed Michael-Jackson-14.csv, 329/495\n",
      "./new-test-data/test-mfcc-v2/Bhavgeet-63.csv ./new-test-data/test-mfcc-v2-copy/Bhavgeet-63.csv\n",
      "Processed Bhavgeet-63.csv, 330/495\n",
      "./new-test-data/test-mfcc-v2/Michael-Jackson-9.csv ./new-test-data/test-mfcc-v2-copy/Michael-Jackson-9.csv\n",
      "Processed Michael-Jackson-9.csv, 331/495\n",
      "./new-test-data/test-mfcc-v2/Asha-Bhosle-20-MFCC.csv ./new-test-data/test-mfcc-v2-copy/Asha-Bhosle-20-MFCC.csv\n",
      "Processed Asha-Bhosle-20-MFCC.csv, 332/495\n",
      "./new-test-data/test-mfcc-v2/Bhavgeet-53.csv ./new-test-data/test-mfcc-v2-copy/Bhavgeet-53.csv\n",
      "Processed Bhavgeet-53.csv, 333/495\n",
      "./new-test-data/test-mfcc-v2/Asha-Bhosle-2.csv ./new-test-data/test-mfcc-v2-copy/Asha-Bhosle-2.csv\n",
      "Processed Asha-Bhosle-2.csv, 334/495\n",
      "./new-test-data/test-mfcc-v2/Lavni-5.csv ./new-test-data/test-mfcc-v2-copy/Lavni-5.csv\n",
      "Processed Lavni-5.csv, 335/495\n",
      "./new-test-data/test-mfcc-v2/Lavni-23.csv ./new-test-data/test-mfcc-v2-copy/Lavni-23.csv\n",
      "Processed Lavni-23.csv, 336/495\n",
      "./new-test-data/test-mfcc-v2/Bhavgeet-56.csv ./new-test-data/test-mfcc-v2-copy/Bhavgeet-56.csv\n",
      "Processed Bhavgeet-56.csv, 337/495\n",
      "./new-test-data/test-mfcc-v2/Lavni-12.csv ./new-test-data/test-mfcc-v2-copy/Lavni-12.csv\n",
      "Processed Lavni-12.csv, 338/495\n",
      "./new-test-data/test-mfcc-v2/Jana-Gana-Mana-40.csv ./new-test-data/test-mfcc-v2-copy/Jana-Gana-Mana-40.csv\n",
      "Processed Jana-Gana-Mana-40.csv, 339/495\n",
      "./new-test-data/test-mfcc-v2/Lavni-27.csv ./new-test-data/test-mfcc-v2-copy/Lavni-27.csv\n",
      "Processed Lavni-27.csv, 340/495\n",
      "./new-test-data/test-mfcc-v2/Jana-Gana-Mana-5.csv ./new-test-data/test-mfcc-v2-copy/Jana-Gana-Mana-5.csv\n",
      "Processed Jana-Gana-Mana-5.csv, 341/495\n",
      "./new-test-data/test-mfcc-v2/Michael-Jackson-1-MFCC.csv ./new-test-data/test-mfcc-v2-copy/Michael-Jackson-1-MFCC.csv\n",
      "Processed Michael-Jackson-1-MFCC.csv, 342/495\n",
      "./new-test-data/test-mfcc-v2/Jana-Gana-Mana-37.csv ./new-test-data/test-mfcc-v2-copy/Jana-Gana-Mana-37.csv\n",
      "Processed Jana-Gana-Mana-37.csv, 343/495\n",
      "./new-test-data/test-mfcc-v2/Michael-Jackson-72.csv ./new-test-data/test-mfcc-v2-copy/Michael-Jackson-72.csv\n",
      "Processed Michael-Jackson-72.csv, 344/495\n",
      "./new-test-data/test-mfcc-v2/Bhavgeet-12.csv ./new-test-data/test-mfcc-v2-copy/Bhavgeet-12.csv\n",
      "Processed Bhavgeet-12.csv, 345/495\n",
      "./new-test-data/test-mfcc-v2/Asha-Bhosle-34.csv ./new-test-data/test-mfcc-v2-copy/Asha-Bhosle-34.csv\n",
      "Processed Asha-Bhosle-34.csv, 346/495\n",
      "./new-test-data/test-mfcc-v2/Kishore-Kumar-70.csv ./new-test-data/test-mfcc-v2-copy/Kishore-Kumar-70.csv\n",
      "Processed Kishore-Kumar-70.csv, 347/495\n",
      "./new-test-data/test-mfcc-v2/Michael-Jackson-3.csv ./new-test-data/test-mfcc-v2-copy/Michael-Jackson-3.csv\n",
      "Processed Michael-Jackson-3.csv, 348/495\n",
      "./new-test-data/test-mfcc-v2/Michael-Jackson-3-MFCC.csv ./new-test-data/test-mfcc-v2-copy/Michael-Jackson-3-MFCC.csv\n",
      "Processed Michael-Jackson-3-MFCC.csv, 349/495\n",
      "./new-test-data/test-mfcc-v2/Bhavgeet-59.csv ./new-test-data/test-mfcc-v2-copy/Bhavgeet-59.csv\n",
      "Processed Bhavgeet-59.csv, 350/495\n",
      "./new-test-data/test-mfcc-v2/Jana-Gana-Mana-3.csv ./new-test-data/test-mfcc-v2-copy/Jana-Gana-Mana-3.csv\n",
      "Processed Jana-Gana-Mana-3.csv, 351/495\n",
      "./new-test-data/test-mfcc-v2/Bhavgeet-44.csv ./new-test-data/test-mfcc-v2-copy/Bhavgeet-44.csv\n",
      "Processed Bhavgeet-44.csv, 352/495\n",
      "./new-test-data/test-mfcc-v2/Lavni-60.csv ./new-test-data/test-mfcc-v2-copy/Lavni-60.csv\n",
      "Processed Lavni-60.csv, 353/495\n",
      "./new-test-data/test-mfcc-v2/Michael-Jackson-43.csv ./new-test-data/test-mfcc-v2-copy/Michael-Jackson-43.csv\n",
      "Processed Michael-Jackson-43.csv, 354/495\n",
      "./new-test-data/test-mfcc-v2/Bhavgeet-2.csv ./new-test-data/test-mfcc-v2-copy/Bhavgeet-2.csv\n",
      "Processed Bhavgeet-2.csv, 355/495\n",
      "./new-test-data/test-mfcc-v2/Michael-Jackson-62.csv ./new-test-data/test-mfcc-v2-copy/Michael-Jackson-62.csv\n",
      "Processed Michael-Jackson-62.csv, 356/495\n",
      "./new-test-data/test-mfcc-v2/Kishore-Kumar-14-MFCC.csv ./new-test-data/test-mfcc-v2-copy/Kishore-Kumar-14-MFCC.csv\n",
      "Processed Kishore-Kumar-14-MFCC.csv, 357/495\n",
      "./new-test-data/test-mfcc-v2/Kishore-Kumar-23.csv ./new-test-data/test-mfcc-v2-copy/Kishore-Kumar-23.csv\n",
      "Processed Kishore-Kumar-23.csv, 358/495\n",
      "./new-test-data/test-mfcc-v2/Kishore-Kumar-6-MFCC.csv ./new-test-data/test-mfcc-v2-copy/Kishore-Kumar-6-MFCC.csv\n",
      "Processed Kishore-Kumar-6-MFCC.csv, 359/495\n",
      "./new-test-data/test-mfcc-v2/Kishore-Kumar-4.csv ./new-test-data/test-mfcc-v2-copy/Kishore-Kumar-4.csv\n",
      "Processed Kishore-Kumar-4.csv, 360/495\n",
      "./new-test-data/test-mfcc-v2/Bhavgeet-16.csv ./new-test-data/test-mfcc-v2-copy/Bhavgeet-16.csv\n",
      "Processed Bhavgeet-16.csv, 361/495\n",
      "./new-test-data/test-mfcc-v2/Michael-Jackson-36.csv ./new-test-data/test-mfcc-v2-copy/Michael-Jackson-36.csv\n",
      "Processed Michael-Jackson-36.csv, 362/495\n",
      "./new-test-data/test-mfcc-v2/Bhavgeet-15-MFCC.csv ./new-test-data/test-mfcc-v2-copy/Bhavgeet-15-MFCC.csv\n",
      "Processed Bhavgeet-15-MFCC.csv, 363/495\n",
      "./new-test-data/test-mfcc-v2/Bhavgeet-18-MFCC.csv ./new-test-data/test-mfcc-v2-copy/Bhavgeet-18-MFCC.csv\n",
      "Processed Bhavgeet-18-MFCC.csv, 364/495\n",
      "./new-test-data/test-mfcc-v2/Jana-Gana-Mana-43.csv ./new-test-data/test-mfcc-v2-copy/Jana-Gana-Mana-43.csv\n",
      "Processed Jana-Gana-Mana-43.csv, 365/495\n",
      "./new-test-data/test-mfcc-v2/Jana-Gana-Mana-25.csv ./new-test-data/test-mfcc-v2-copy/Jana-Gana-Mana-25.csv\n",
      "Processed Jana-Gana-Mana-25.csv, 366/495\n",
      "./new-test-data/test-mfcc-v2/Michael-Jackson-11.csv ./new-test-data/test-mfcc-v2-copy/Michael-Jackson-11.csv\n",
      "Processed Michael-Jackson-11.csv, 367/495\n",
      "./new-test-data/test-mfcc-v2/Jana-Gana-Mana-23.csv ./new-test-data/test-mfcc-v2-copy/Jana-Gana-Mana-23.csv\n",
      "Processed Jana-Gana-Mana-23.csv, 368/495\n",
      "./new-test-data/test-mfcc-v2/Asha-Bhosle-74.csv ./new-test-data/test-mfcc-v2-copy/Asha-Bhosle-74.csv\n",
      "Processed Asha-Bhosle-74.csv, 369/495\n",
      "./new-test-data/test-mfcc-v2/Michael-Jackson-6.csv ./new-test-data/test-mfcc-v2-copy/Michael-Jackson-6.csv\n",
      "Processed Michael-Jackson-6.csv, 370/495\n",
      "./new-test-data/test-mfcc-v2/Lavni-17.csv ./new-test-data/test-mfcc-v2-copy/Lavni-17.csv\n",
      "Processed Lavni-17.csv, 371/495\n",
      "./new-test-data/test-mfcc-v2/Lavni-30.csv ./new-test-data/test-mfcc-v2-copy/Lavni-30.csv\n",
      "Processed Lavni-30.csv, 372/495\n",
      "./new-test-data/test-mfcc-v2/Jana-Gana-Mana-21.csv ./new-test-data/test-mfcc-v2-copy/Jana-Gana-Mana-21.csv\n",
      "Processed Jana-Gana-Mana-21.csv, 373/495\n",
      "./new-test-data/test-mfcc-v2/Lavni-11.csv ./new-test-data/test-mfcc-v2-copy/Lavni-11.csv\n",
      "Processed Lavni-11.csv, 374/495\n",
      "./new-test-data/test-mfcc-v2/Kishore-Kumar-17-MFCC.csv ./new-test-data/test-mfcc-v2-copy/Kishore-Kumar-17-MFCC.csv\n",
      "Processed Kishore-Kumar-17-MFCC.csv, 375/495\n",
      "./new-test-data/test-mfcc-v2/Asha-Bhosle-75.csv ./new-test-data/test-mfcc-v2-copy/Asha-Bhosle-75.csv\n",
      "Processed Asha-Bhosle-75.csv, 376/495\n",
      "./new-test-data/test-mfcc-v2/Kishore-Kumar-20.csv ./new-test-data/test-mfcc-v2-copy/Kishore-Kumar-20.csv\n",
      "Processed Kishore-Kumar-20.csv, 377/495\n",
      "./new-test-data/test-mfcc-v2/Michael-Jackson-73.csv ./new-test-data/test-mfcc-v2-copy/Michael-Jackson-73.csv\n",
      "Processed Michael-Jackson-73.csv, 378/495\n",
      "./new-test-data/test-mfcc-v2/Lavni-34.csv ./new-test-data/test-mfcc-v2-copy/Lavni-34.csv\n",
      "Processed Lavni-34.csv, 379/495\n",
      "./new-test-data/test-mfcc-v2/Bhavgeet-37.csv ./new-test-data/test-mfcc-v2-copy/Bhavgeet-37.csv\n",
      "Processed Bhavgeet-37.csv, 380/495\n",
      "./new-test-data/test-mfcc-v2/Lavni-8.csv ./new-test-data/test-mfcc-v2-copy/Lavni-8.csv\n",
      "Processed Lavni-8.csv, 381/495\n",
      "./new-test-data/test-mfcc-v2/Bhavgeet-25.csv ./new-test-data/test-mfcc-v2-copy/Bhavgeet-25.csv\n",
      "Processed Bhavgeet-25.csv, 382/495\n",
      "./new-test-data/test-mfcc-v2/Asha-Bhosle-4-MFCC.csv ./new-test-data/test-mfcc-v2-copy/Asha-Bhosle-4-MFCC.csv\n",
      "Processed Asha-Bhosle-4-MFCC.csv, 383/495\n",
      "./new-test-data/test-mfcc-v2/Bhavgeet-3.csv ./new-test-data/test-mfcc-v2-copy/Bhavgeet-3.csv\n",
      "Processed Bhavgeet-3.csv, 384/495\n",
      "./new-test-data/test-mfcc-v2/Asha-Bhosle-59.csv ./new-test-data/test-mfcc-v2-copy/Asha-Bhosle-59.csv\n",
      "Processed Asha-Bhosle-59.csv, 385/495\n",
      "./new-test-data/test-mfcc-v2/Jana-Gana-Mana-39.csv ./new-test-data/test-mfcc-v2-copy/Jana-Gana-Mana-39.csv\n",
      "Processed Jana-Gana-Mana-39.csv, 386/495\n",
      "./new-test-data/test-mfcc-v2/Jana-Gana-Mana-20.csv ./new-test-data/test-mfcc-v2-copy/Jana-Gana-Mana-20.csv\n",
      "Processed Jana-Gana-Mana-20.csv, 387/495\n",
      "./new-test-data/test-mfcc-v2/Kishore-Kumar-61.csv ./new-test-data/test-mfcc-v2-copy/Kishore-Kumar-61.csv\n",
      "Processed Kishore-Kumar-61.csv, 388/495\n",
      "./new-test-data/test-mfcc-v2/Asha-Bhosle-53.csv ./new-test-data/test-mfcc-v2-copy/Asha-Bhosle-53.csv\n",
      "Processed Asha-Bhosle-53.csv, 389/495\n",
      "./new-test-data/test-mfcc-v2/Jana-Gana-Mana-4.csv ./new-test-data/test-mfcc-v2-copy/Jana-Gana-Mana-4.csv\n",
      "Processed Jana-Gana-Mana-4.csv, 390/495\n",
      "./new-test-data/test-mfcc-v2/Jana-Gana-Mana-41.csv ./new-test-data/test-mfcc-v2-copy/Jana-Gana-Mana-41.csv\n",
      "Processed Jana-Gana-Mana-41.csv, 391/495\n",
      "./new-test-data/test-mfcc-v2/Michael-Jackson-48.csv ./new-test-data/test-mfcc-v2-copy/Michael-Jackson-48.csv\n",
      "Processed Michael-Jackson-48.csv, 392/495\n",
      "./new-test-data/test-mfcc-v2/Bhavgeet-57.csv ./new-test-data/test-mfcc-v2-copy/Bhavgeet-57.csv\n",
      "Processed Bhavgeet-57.csv, 393/495\n",
      "./new-test-data/test-mfcc-v2/Lavni-Song-6-MFCC.csv ./new-test-data/test-mfcc-v2-copy/Lavni-Song-6-MFCC.csv\n",
      "Processed Lavni-Song-6-MFCC.csv, 394/495\n",
      "./new-test-data/test-mfcc-v2/Asha-Bhosle-5.csv ./new-test-data/test-mfcc-v2-copy/Asha-Bhosle-5.csv\n",
      "Processed Asha-Bhosle-5.csv, 395/495\n",
      "./new-test-data/test-mfcc-v2/Michael-Jackson-2.csv ./new-test-data/test-mfcc-v2-copy/Michael-Jackson-2.csv\n",
      "Processed Michael-Jackson-2.csv, 396/495\n",
      "./new-test-data/test-mfcc-v2/Asha-Bhosle-62.csv ./new-test-data/test-mfcc-v2-copy/Asha-Bhosle-62.csv\n",
      "Processed Asha-Bhosle-62.csv, 397/495\n",
      "./new-test-data/test-mfcc-v2/Michael-Jackson-4.csv ./new-test-data/test-mfcc-v2-copy/Michael-Jackson-4.csv\n",
      "Processed Michael-Jackson-4.csv, 398/495\n",
      "./new-test-data/test-mfcc-v2/Michael-Jackson-6-MFCC.csv ./new-test-data/test-mfcc-v2-copy/Michael-Jackson-6-MFCC.csv\n",
      "Processed Michael-Jackson-6-MFCC.csv, 399/495\n",
      "./new-test-data/test-mfcc-v2/Lavni-49.csv ./new-test-data/test-mfcc-v2-copy/Lavni-49.csv\n",
      "Processed Lavni-49.csv, 400/495\n",
      "./new-test-data/test-mfcc-v2/Jana-Gana-Mana-10.csv ./new-test-data/test-mfcc-v2-copy/Jana-Gana-Mana-10.csv\n",
      "Processed Jana-Gana-Mana-10.csv, 401/495\n",
      "./new-test-data/test-mfcc-v2/Asha-Bhosle-8.csv ./new-test-data/test-mfcc-v2-copy/Asha-Bhosle-8.csv\n",
      "Processed Asha-Bhosle-8.csv, 402/495\n",
      "./new-test-data/test-mfcc-v2/Kishore-Kumar-36.csv ./new-test-data/test-mfcc-v2-copy/Kishore-Kumar-36.csv\n",
      "Processed Kishore-Kumar-36.csv, 403/495\n",
      "./new-test-data/test-mfcc-v2/Michael-Jackson-41.csv ./new-test-data/test-mfcc-v2-copy/Michael-Jackson-41.csv\n",
      "Processed Michael-Jackson-41.csv, 404/495\n",
      "./new-test-data/test-mfcc-v2/Michael-Jackson-54.csv ./new-test-data/test-mfcc-v2-copy/Michael-Jackson-54.csv\n",
      "Processed Michael-Jackson-54.csv, 405/495\n",
      "./new-test-data/test-mfcc-v2/Jana-Gana-Mana-8.csv ./new-test-data/test-mfcc-v2-copy/Jana-Gana-Mana-8.csv\n",
      "Processed Jana-Gana-Mana-8.csv, 406/495\n",
      "./new-test-data/test-mfcc-v2/Michael-Jackson-52.csv ./new-test-data/test-mfcc-v2-copy/Michael-Jackson-52.csv\n",
      "Processed Michael-Jackson-52.csv, 407/495\n",
      "./new-test-data/test-mfcc-v2/Bhavgeet-67.csv ./new-test-data/test-mfcc-v2-copy/Bhavgeet-67.csv\n",
      "Processed Bhavgeet-67.csv, 408/495\n",
      "./new-test-data/test-mfcc-v2/Jana-Gana-Mana-6.csv ./new-test-data/test-mfcc-v2-copy/Jana-Gana-Mana-6.csv\n",
      "Processed Jana-Gana-Mana-6.csv, 409/495\n",
      "./new-test-data/test-mfcc-v2/Kishore-Kumar-10.csv ./new-test-data/test-mfcc-v2-copy/Kishore-Kumar-10.csv\n",
      "Processed Kishore-Kumar-10.csv, 410/495\n",
      "./new-test-data/test-mfcc-v2/Jana-Gana-Mana-35.csv ./new-test-data/test-mfcc-v2-copy/Jana-Gana-Mana-35.csv\n",
      "Processed Jana-Gana-Mana-35.csv, 411/495\n",
      "./new-test-data/test-mfcc-v2/Kishore-Kumar-66.csv ./new-test-data/test-mfcc-v2-copy/Kishore-Kumar-66.csv\n",
      "Processed Kishore-Kumar-66.csv, 412/495\n",
      "./new-test-data/test-mfcc-v2/Bhavgeet-55.csv ./new-test-data/test-mfcc-v2-copy/Bhavgeet-55.csv\n",
      "Processed Bhavgeet-55.csv, 413/495\n",
      "./new-test-data/test-mfcc-v2/Bhavgeet-29.csv ./new-test-data/test-mfcc-v2-copy/Bhavgeet-29.csv\n",
      "Processed Bhavgeet-29.csv, 414/495\n",
      "./new-test-data/test-mfcc-v2/Kishore-Kumar-29.csv ./new-test-data/test-mfcc-v2-copy/Kishore-Kumar-29.csv\n",
      "Processed Kishore-Kumar-29.csv, 415/495\n",
      "./new-test-data/test-mfcc-v2/Michael-Jackson-32.csv ./new-test-data/test-mfcc-v2-copy/Michael-Jackson-32.csv\n",
      "Processed Michael-Jackson-32.csv, 416/495\n",
      "./new-test-data/test-mfcc-v2/Michael-Jackson-39.csv ./new-test-data/test-mfcc-v2-copy/Michael-Jackson-39.csv\n",
      "Processed Michael-Jackson-39.csv, 417/495\n",
      "./new-test-data/test-mfcc-v2/Bhavgeet-70.csv ./new-test-data/test-mfcc-v2-copy/Bhavgeet-70.csv\n",
      "Processed Bhavgeet-70.csv, 418/495\n",
      "./new-test-data/test-mfcc-v2/Kishore-Kumar-13.csv ./new-test-data/test-mfcc-v2-copy/Kishore-Kumar-13.csv\n",
      "Processed Kishore-Kumar-13.csv, 419/495\n",
      "./new-test-data/test-mfcc-v2/Michael-Jackson-64.csv ./new-test-data/test-mfcc-v2-copy/Michael-Jackson-64.csv\n",
      "Processed Michael-Jackson-64.csv, 420/495\n",
      "./new-test-data/test-mfcc-v2/Lavni-18.csv ./new-test-data/test-mfcc-v2-copy/Lavni-18.csv\n",
      "Processed Lavni-18.csv, 421/495\n",
      "./new-test-data/test-mfcc-v2/Jana-Gana-Mana-31.csv ./new-test-data/test-mfcc-v2-copy/Jana-Gana-Mana-31.csv\n",
      "Processed Jana-Gana-Mana-31.csv, 422/495\n",
      "./new-test-data/test-mfcc-v2/Michael-Jackson-50.csv ./new-test-data/test-mfcc-v2-copy/Michael-Jackson-50.csv\n",
      "Processed Michael-Jackson-50.csv, 423/495\n",
      "./new-test-data/test-mfcc-v2/Bhavgeet-1.csv ./new-test-data/test-mfcc-v2-copy/Bhavgeet-1.csv\n",
      "Processed Bhavgeet-1.csv, 424/495\n",
      "./new-test-data/test-mfcc-v2/Lavni-41.csv ./new-test-data/test-mfcc-v2-copy/Lavni-41.csv\n",
      "Processed Lavni-41.csv, 425/495\n",
      "./new-test-data/test-mfcc-v2/Lavni-24.csv ./new-test-data/test-mfcc-v2-copy/Lavni-24.csv\n",
      "Processed Lavni-24.csv, 426/495\n",
      "./new-test-data/test-mfcc-v2/Jana-Gana-Mana-24.csv ./new-test-data/test-mfcc-v2-copy/Jana-Gana-Mana-24.csv\n",
      "Processed Jana-Gana-Mana-24.csv, 427/495\n",
      "./new-test-data/test-mfcc-v2/Bhavgeet-12-MFCC.csv ./new-test-data/test-mfcc-v2-copy/Bhavgeet-12-MFCC.csv\n",
      "Processed Bhavgeet-12-MFCC.csv, 428/495\n",
      "./new-test-data/test-mfcc-v2/Bhavgeet-20.csv ./new-test-data/test-mfcc-v2-copy/Bhavgeet-20.csv\n",
      "Processed Bhavgeet-20.csv, 429/495\n",
      "./new-test-data/test-mfcc-v2/Bhavgeet-39.csv ./new-test-data/test-mfcc-v2-copy/Bhavgeet-39.csv\n",
      "Processed Bhavgeet-39.csv, 430/495\n",
      "./new-test-data/test-mfcc-v2/Kishore-Kumar-26.csv ./new-test-data/test-mfcc-v2-copy/Kishore-Kumar-26.csv\n",
      "Processed Kishore-Kumar-26.csv, 431/495\n",
      "./new-test-data/test-mfcc-v2/Michael-Jackson-19.csv ./new-test-data/test-mfcc-v2-copy/Michael-Jackson-19.csv\n",
      "Processed Michael-Jackson-19.csv, 432/495\n",
      "./new-test-data/test-mfcc-v2/Kishore-Kumar-31.csv ./new-test-data/test-mfcc-v2-copy/Kishore-Kumar-31.csv\n",
      "Processed Kishore-Kumar-31.csv, 433/495\n",
      "./new-test-data/test-mfcc-v2/Bhavgeet-33.csv ./new-test-data/test-mfcc-v2-copy/Bhavgeet-33.csv\n",
      "Processed Bhavgeet-33.csv, 434/495\n",
      "./new-test-data/test-mfcc-v2/Asha-Bhosle-10-MFCC.csv ./new-test-data/test-mfcc-v2-copy/Asha-Bhosle-10-MFCC.csv\n",
      "Processed Asha-Bhosle-10-MFCC.csv, 435/495\n",
      "./new-test-data/test-mfcc-v2/Asha-Bhosle-42.csv ./new-test-data/test-mfcc-v2-copy/Asha-Bhosle-42.csv\n",
      "Processed Asha-Bhosle-42.csv, 436/495\n",
      "./new-test-data/test-mfcc-v2/Lavni-31.csv ./new-test-data/test-mfcc-v2-copy/Lavni-31.csv\n",
      "Processed Lavni-31.csv, 437/495\n",
      "./new-test-data/test-mfcc-v2/Michael-Jackson-2-MFCC.csv ./new-test-data/test-mfcc-v2-copy/Michael-Jackson-2-MFCC.csv\n",
      "Processed Michael-Jackson-2-MFCC.csv, 438/495\n",
      "./new-test-data/test-mfcc-v2/Kishore-Kumar-13-MFCC.csv ./new-test-data/test-mfcc-v2-copy/Kishore-Kumar-13-MFCC.csv\n",
      "Processed Kishore-Kumar-13-MFCC.csv, 439/495\n",
      "./new-test-data/test-mfcc-v2/Michael-Jackson-69.csv ./new-test-data/test-mfcc-v2-copy/Michael-Jackson-69.csv\n",
      "Processed Michael-Jackson-69.csv, 440/495\n",
      "./new-test-data/test-mfcc-v2/Jana-Gana-Mana-2.csv ./new-test-data/test-mfcc-v2-copy/Jana-Gana-Mana-2.csv\n",
      "Processed Jana-Gana-Mana-2.csv, 441/495\n",
      "./new-test-data/test-mfcc-v2/Kishore-Kumar-64.csv ./new-test-data/test-mfcc-v2-copy/Kishore-Kumar-64.csv\n",
      "Processed Kishore-Kumar-64.csv, 442/495\n",
      "./new-test-data/test-mfcc-v2/Michael-Jackson-28.csv ./new-test-data/test-mfcc-v2-copy/Michael-Jackson-28.csv\n",
      "Processed Michael-Jackson-28.csv, 443/495\n",
      "./new-test-data/test-mfcc-v2/Asha-Bhosle-1.csv ./new-test-data/test-mfcc-v2-copy/Asha-Bhosle-1.csv\n",
      "Processed Asha-Bhosle-1.csv, 444/495\n",
      "./new-test-data/test-mfcc-v2/Kishore-Kumar-75.csv ./new-test-data/test-mfcc-v2-copy/Kishore-Kumar-75.csv\n",
      "Processed Kishore-Kumar-75.csv, 445/495\n",
      "./new-test-data/test-mfcc-v2/Jana-Gana-Mana-9.csv ./new-test-data/test-mfcc-v2-copy/Jana-Gana-Mana-9.csv\n",
      "Processed Jana-Gana-Mana-9.csv, 446/495\n",
      "./new-test-data/test-mfcc-v2/Asha-Bhosle-18.csv ./new-test-data/test-mfcc-v2-copy/Asha-Bhosle-18.csv\n",
      "Processed Asha-Bhosle-18.csv, 447/495\n",
      "./new-test-data/test-mfcc-v2/Bhavgeet-60.csv ./new-test-data/test-mfcc-v2-copy/Bhavgeet-60.csv\n",
      "Processed Bhavgeet-60.csv, 448/495\n",
      "./new-test-data/test-mfcc-v2/Lavni-50.csv ./new-test-data/test-mfcc-v2-copy/Lavni-50.csv\n",
      "Processed Lavni-50.csv, 449/495\n",
      "./new-test-data/test-mfcc-v2/Asha-Bhosle-22.csv ./new-test-data/test-mfcc-v2-copy/Asha-Bhosle-22.csv\n",
      "Processed Asha-Bhosle-22.csv, 450/495\n",
      "./new-test-data/test-mfcc-v2/Asha-Bhosle-6-MFCC.csv ./new-test-data/test-mfcc-v2-copy/Asha-Bhosle-6-MFCC.csv\n",
      "Processed Asha-Bhosle-6-MFCC.csv, 451/495\n",
      "./new-test-data/test-mfcc-v2/Asha-Bhosle-39.csv ./new-test-data/test-mfcc-v2-copy/Asha-Bhosle-39.csv\n",
      "Processed Asha-Bhosle-39.csv, 452/495\n",
      "./new-test-data/test-mfcc-v2/Kishore-Kumar-1.csv ./new-test-data/test-mfcc-v2-copy/Kishore-Kumar-1.csv\n",
      "Processed Kishore-Kumar-1.csv, 453/495\n",
      "./new-test-data/test-mfcc-v2/Asha-Bhosle-24.csv ./new-test-data/test-mfcc-v2-copy/Asha-Bhosle-24.csv\n",
      "Processed Asha-Bhosle-24.csv, 454/495\n",
      "./new-test-data/test-mfcc-v2/Bhavgeet-20-MFCC.csv ./new-test-data/test-mfcc-v2-copy/Bhavgeet-20-MFCC.csv\n",
      "Processed Bhavgeet-20-MFCC.csv, 455/495\n",
      "./new-test-data/test-mfcc-v2/Lavni-58.csv ./new-test-data/test-mfcc-v2-copy/Lavni-58.csv\n",
      "Processed Lavni-58.csv, 456/495\n",
      "./new-test-data/test-mfcc-v2/Kishore-Kumar-9.csv ./new-test-data/test-mfcc-v2-copy/Kishore-Kumar-9.csv\n",
      "Processed Kishore-Kumar-9.csv, 457/495\n",
      "./new-test-data/test-mfcc-v2/Lavni-26.csv ./new-test-data/test-mfcc-v2-copy/Lavni-26.csv\n",
      "Processed Lavni-26.csv, 458/495\n",
      "./new-test-data/test-mfcc-v2/Lavni-63.csv ./new-test-data/test-mfcc-v2-copy/Lavni-63.csv\n",
      "Processed Lavni-63.csv, 459/495\n",
      "./new-test-data/test-mfcc-v2/Kishore-Kumar-12.csv ./new-test-data/test-mfcc-v2-copy/Kishore-Kumar-12.csv\n",
      "Processed Kishore-Kumar-12.csv, 460/495\n",
      "./new-test-data/test-mfcc-v2/Asha-Bhosle-60.csv ./new-test-data/test-mfcc-v2-copy/Asha-Bhosle-60.csv\n",
      "Processed Asha-Bhosle-60.csv, 461/495\n",
      "./new-test-data/test-mfcc-v2/Asha-Bhosle-69.csv ./new-test-data/test-mfcc-v2-copy/Asha-Bhosle-69.csv\n",
      "Processed Asha-Bhosle-69.csv, 462/495\n",
      "./new-test-data/test-mfcc-v2/Lavni-57.csv ./new-test-data/test-mfcc-v2-copy/Lavni-57.csv\n",
      "Processed Lavni-57.csv, 463/495\n",
      "./new-test-data/test-mfcc-v2/Asha-Bhosle-43.csv ./new-test-data/test-mfcc-v2-copy/Asha-Bhosle-43.csv\n",
      "Processed Asha-Bhosle-43.csv, 464/495\n",
      "./new-test-data/test-mfcc-v2/Asha-Bhosle-4.csv ./new-test-data/test-mfcc-v2-copy/Asha-Bhosle-4.csv\n",
      "Processed Asha-Bhosle-4.csv, 465/495\n",
      "./new-test-data/test-mfcc-v2/Bhavgeet-17.csv ./new-test-data/test-mfcc-v2-copy/Bhavgeet-17.csv\n",
      "Processed Bhavgeet-17.csv, 466/495\n",
      "./new-test-data/test-mfcc-v2/Jana-Gana-Mana-7.csv ./new-test-data/test-mfcc-v2-copy/Jana-Gana-Mana-7.csv\n",
      "Processed Jana-Gana-Mana-7.csv, 467/495\n",
      "./new-test-data/test-mfcc-v2/Bhavgeet-4.csv ./new-test-data/test-mfcc-v2-copy/Bhavgeet-4.csv\n",
      "Processed Bhavgeet-4.csv, 468/495\n",
      "./new-test-data/test-mfcc-v2/Kishore-Kumar-9-MFCC.csv ./new-test-data/test-mfcc-v2-copy/Kishore-Kumar-9-MFCC.csv\n",
      "Processed Kishore-Kumar-9-MFCC.csv, 469/495\n",
      "./new-test-data/test-mfcc-v2/Michael-Jackson-21.csv ./new-test-data/test-mfcc-v2-copy/Michael-Jackson-21.csv\n",
      "Processed Michael-Jackson-21.csv, 470/495\n",
      "./new-test-data/test-mfcc-v2/Jana-Gana-Mana-14.csv ./new-test-data/test-mfcc-v2-copy/Jana-Gana-Mana-14.csv\n",
      "Processed Jana-Gana-Mana-14.csv, 471/495\n",
      "./new-test-data/test-mfcc-v2/Lavni-55.csv ./new-test-data/test-mfcc-v2-copy/Lavni-55.csv\n",
      "Processed Lavni-55.csv, 472/495\n",
      "./new-test-data/test-mfcc-v2/Kishore-Kumar-35.csv ./new-test-data/test-mfcc-v2-copy/Kishore-Kumar-35.csv\n",
      "Processed Kishore-Kumar-35.csv, 473/495\n",
      "./new-test-data/test-mfcc-v2/Jana-Gana-Mana-4-MFCC.csv ./new-test-data/test-mfcc-v2-copy/Jana-Gana-Mana-4-MFCC.csv\n",
      "Processed Jana-Gana-Mana-4-MFCC.csv, 474/495\n",
      "./new-test-data/test-mfcc-v2/Michael-Jackson-59.csv ./new-test-data/test-mfcc-v2-copy/Michael-Jackson-59.csv\n",
      "Processed Michael-Jackson-59.csv, 475/495\n",
      "./new-test-data/test-mfcc-v2/Lavni-59.csv ./new-test-data/test-mfcc-v2-copy/Lavni-59.csv\n",
      "Processed Lavni-59.csv, 476/495\n",
      "./new-test-data/test-mfcc-v2/Kishore-Kumar-71.csv ./new-test-data/test-mfcc-v2-copy/Kishore-Kumar-71.csv\n",
      "Processed Kishore-Kumar-71.csv, 477/495\n",
      "./new-test-data/test-mfcc-v2/Michael-Jackson-46.csv ./new-test-data/test-mfcc-v2-copy/Michael-Jackson-46.csv\n",
      "Processed Michael-Jackson-46.csv, 478/495\n",
      "./new-test-data/test-mfcc-v2/Bhavgeet-30.csv ./new-test-data/test-mfcc-v2-copy/Bhavgeet-30.csv\n",
      "Processed Bhavgeet-30.csv, 479/495\n",
      "./new-test-data/test-mfcc-v2/Lavni-Song-2-MFCC.csv ./new-test-data/test-mfcc-v2-copy/Lavni-Song-2-MFCC.csv\n",
      "Processed Lavni-Song-2-MFCC.csv, 480/495\n",
      "./new-test-data/test-mfcc-v2/Bhavgeet-11.csv ./new-test-data/test-mfcc-v2-copy/Bhavgeet-11.csv\n",
      "Processed Bhavgeet-11.csv, 481/495\n",
      "./new-test-data/test-mfcc-v2/Bhavgeet-4-MFCC.csv ./new-test-data/test-mfcc-v2-copy/Bhavgeet-4-MFCC.csv\n",
      "Processed Bhavgeet-4-MFCC.csv, 482/495\n",
      "./new-test-data/test-mfcc-v2/Michael-Jackson-8.csv ./new-test-data/test-mfcc-v2-copy/Michael-Jackson-8.csv\n",
      "Processed Michael-Jackson-8.csv, 483/495\n",
      "./new-test-data/test-mfcc-v2/Asha-Bhosle-11.csv ./new-test-data/test-mfcc-v2-copy/Asha-Bhosle-11.csv\n",
      "Processed Asha-Bhosle-11.csv, 484/495\n",
      "./new-test-data/test-mfcc-v2/Asha-Bhosle-70.csv ./new-test-data/test-mfcc-v2-copy/Asha-Bhosle-70.csv\n",
      "Processed Asha-Bhosle-70.csv, 485/495\n",
      "./new-test-data/test-mfcc-v2/Kishore-Kumar-42.csv ./new-test-data/test-mfcc-v2-copy/Kishore-Kumar-42.csv\n",
      "Processed Kishore-Kumar-42.csv, 486/495\n",
      "./new-test-data/test-mfcc-v2/Lavni-36.csv ./new-test-data/test-mfcc-v2-copy/Lavni-36.csv\n",
      "Processed Lavni-36.csv, 487/495\n",
      "./new-test-data/test-mfcc-v2/Kishore-Kumar-11-MFCC.csv ./new-test-data/test-mfcc-v2-copy/Kishore-Kumar-11-MFCC.csv\n",
      "Processed Kishore-Kumar-11-MFCC.csv, 488/495\n",
      "./new-test-data/test-mfcc-v2/Jana-Gana-Mana-11.csv ./new-test-data/test-mfcc-v2-copy/Jana-Gana-Mana-11.csv\n",
      "Processed Jana-Gana-Mana-11.csv, 489/495\n",
      "./new-test-data/test-mfcc-v2/Michael-Jackson-68.csv ./new-test-data/test-mfcc-v2-copy/Michael-Jackson-68.csv\n",
      "Processed Michael-Jackson-68.csv, 490/495\n",
      "./new-test-data/test-mfcc-v2/Asha-Bhosle-65.csv ./new-test-data/test-mfcc-v2-copy/Asha-Bhosle-65.csv\n",
      "Processed Asha-Bhosle-65.csv, 491/495\n",
      "./new-test-data/test-mfcc-v2/Michael-Jackson-33.csv ./new-test-data/test-mfcc-v2-copy/Michael-Jackson-33.csv\n",
      "Processed Michael-Jackson-33.csv, 492/495\n",
      "./new-test-data/test-mfcc-v2/Lavni-14.csv ./new-test-data/test-mfcc-v2-copy/Lavni-14.csv\n",
      "Processed Lavni-14.csv, 493/495\n",
      "./new-test-data/test-mfcc-v2/Asha-Bhosle-35.csv ./new-test-data/test-mfcc-v2-copy/Asha-Bhosle-35.csv\n",
      "Processed Asha-Bhosle-35.csv, 494/495\n",
      "./new-test-data/test-mfcc-v2/Lavni-32.csv ./new-test-data/test-mfcc-v2-copy/Lavni-32.csv\n",
      "Processed Lavni-32.csv, 495/495\n"
     ]
    }
   ],
   "source": [
    "import os\n",
    "import pandas as pd\n",
    "import numpy as np\n",
    "from sklearn.decomposition import PCA\n",
    "from scipy.stats import skew, kurtosis\n",
    "\n",
    "INDEX = 13\n",
    "DATA_DIR = './new-test-data/test-mfcc-v2'\n",
    "DATA2_DIR = './new-test-data/test-mfcc-v2-copy'\n",
    "\n",
    "def aggregate_mfcc_selective(mfcc_data):\n",
    "    mfcc_selected = mfcc_data[:20, :] # Select first 20 MFCCs\n",
    "    \n",
    "    mfcc_mean = np.mean(mfcc_selected, axis=1)\n",
    "    mfcc_std = np.std(mfcc_selected, axis=1)\n",
    "    mfcc_max = np.max(mfcc_selected, axis=1)\n",
    "    mfcc_min = np.min(mfcc_selected, axis=1)\n",
    "    \n",
    "    features = np.concatenate([mfcc_mean, mfcc_std, mfcc_max, mfcc_min])\n",
    "    return features\n",
    "\n",
    "def aggregate_mfcc_selective2(mfcc_data):\n",
    "    mfcc_selected = mfcc_data[:3, :] # Select first 20 MFCCs\n",
    "    \n",
    "    mfcc_mean = np.mean(mfcc_selected, axis=1)\n",
    "    mfcc_std = np.std(mfcc_selected, axis=1)\n",
    "    mfcc_max = np.max(mfcc_selected, axis=1)\n",
    "    mfcc_min = np.min(mfcc_selected, axis=1)\n",
    "    \n",
    "    features = np.concatenate([mfcc_mean, mfcc_std, mfcc_max, mfcc_min])\n",
    "    return features\n",
    "\n",
    "# Initialize lists to store features, file names, and labels\n",
    "mfcc_all_songs = []\n",
    "file_names = []\n",
    "generated_features = []\n",
    "labels = []\n",
    "\n",
    "# total number of files in the directory\n",
    "total_files = len(os.listdir(DATA_DIR))\n",
    "index = 1\n",
    "\n",
    "# Iterate over all files in the specified directory\n",
    "for file_name in os.listdir(DATA_DIR):\n",
    "    file_path = os.path.join(DATA_DIR, file_name)\n",
    "    file_path2 = os.path.join(DATA2_DIR, file_name)\n",
    "    print(file_path, file_path2)\n",
    "    mfcc_data = pd.read_csv(file_path, header=None).values\n",
    "    mfcc_data = mfcc_data[:20] # Select first 20 MFCCs\n",
    "    mfcc_data2 = pd.read_csv(file_path2, header=None).values\n",
    "    # Compute aggregated MFCC features\n",
    "    aggregated_features = aggregate_mfcc_selective(mfcc_data)\n",
    "    aggregated_features2 = aggregate_mfcc_selective2(mfcc_data2)\n",
    "\n",
    "    skewness = skew(mfcc_data, axis=1)\n",
    "    kurt = kurtosis(mfcc_data, axis=1)\n",
    "    range_max_min = np.ptp(mfcc_data, axis=1)\n",
    "\n",
    "    delta_mfcc = librosa.feature.delta(mfcc_data, order=1)\n",
    "    delta_delta_mfcc = librosa.feature.delta(mfcc_data, order=2)\n",
    "\n",
    "    delta_mean = np.mean(delta_mfcc, axis=1)\n",
    "    delta_std = np.std(delta_mfcc, axis=1)\n",
    "    delta_max = np.max(delta_mfcc, axis=1)\n",
    "    delta_min = np.min(delta_mfcc, axis=1)\n",
    "\n",
    "    delta_delta_mean = np.mean(delta_mfcc, axis=1)\n",
    "    delta_delta_std = np.std(delta_mfcc, axis=1)\n",
    "    delta_delta_max = np.max(delta_mfcc, axis=1)\n",
    "    delta_delta_min = np.min(delta_mfcc, axis=1)\n",
    "\n",
    "    delta_mfcc2 = librosa.feature.delta(mfcc_data2, order=1)\n",
    "    delta_delta_mfcc2 = librosa.feature.delta(mfcc_data2, order=2)\n",
    "\n",
    "    delta_mean2 = np.mean(delta_mfcc2, axis=1)\n",
    "    delta_std2 = np.std(delta_mfcc2, axis=1)\n",
    "    delta_max2 = np.max(delta_mfcc2, axis=1)\n",
    "    delta_min2 = np.min(delta_mfcc2, axis=1)\n",
    "\n",
    "    delta_delta_mean2 = np.mean(delta_mfcc2, axis=1)\n",
    "    delta_delta_std2 = np.std(delta_mfcc2, axis=1)\n",
    "    delta_delta_max2 = np.max(delta_mfcc2, axis=1)\n",
    "    delta_delta_min2 = np.min(delta_mfcc2, axis=1)\n",
    "\n",
    "    PCA_mfcc = PCA(n_components=5)\n",
    "    PCA_mfcc.fit(mfcc_data.T)\n",
    "    PCA_mfcc_features = PCA_mfcc.components_.flatten()\n",
    "\n",
    "    # Compile all features into a single vector\n",
    "    features = np.concatenate([\n",
    "        aggregated_features.flatten(),\n",
    "        range_max_min.flatten(),\n",
    "        delta_mean.flatten(),\n",
    "        delta_std.flatten(),\n",
    "        delta_max.flatten(),\n",
    "        delta_min.flatten(),\n",
    "        delta_mean2.flatten(),\n",
    "        delta_std2.flatten(),\n",
    "        delta_max2.flatten(),\n",
    "        delta_min2.flatten(),\n",
    "        PCA_mfcc_features.flatten(),\n",
    "    ])\n",
    "\n",
    "    # Determine label based on filename pattern\n",
    "    if file_name.startswith('Asha-Bhosle'):\n",
    "        label = 'Asha Bhosale'\n",
    "    elif file_name.startswith('Kishore-Kumar'):\n",
    "        label = 'Kishore Kumar'\n",
    "    elif file_name.startswith('Lavni'):\n",
    "        label = 'Lavni'\n",
    "    elif file_name.startswith('Michael-Jackson'):\n",
    "        label = 'Michael Jackson'\n",
    "    elif file_name.startswith('Jana-Gana-Mana'):\n",
    "        label = 'Jana-Gana-Mana'\n",
    "    elif file_name.startswith('Bhavgeet'):\n",
    "        label = 'Bhavgeet'\n",
    "    else:\n",
    "        print(f'Unrecognized label for file {file_name}')\n",
    "        \n",
    "    print(f'Processed {file_name}, {index}/{total_files}')\n",
    "    # print(features.shape)\n",
    "    generated_features.append(features)\n",
    "    file_names.append(file_name)\n",
    "    labels.append(label)\n",
    "    index += 1\n",
    "\n",
    "# Create DataFrame and save to CSV\n",
    "generated_features = np.vstack(generated_features)\n",
    "total_features = generated_features.shape[1]\n",
    "feature_columns = [f'feature_{i}' for i in range(total_features)]\n",
    "\n",
    "total_data_df = pd.DataFrame(generated_features, columns=feature_columns)\n",
    "total_data_df.insert(0, 'File', file_names)\n",
    "total_data_df.insert(1, 'Label', labels)\n",
    "\n",
    "# Save generated features to 'features_generated.csv'\n",
    "total_data_df.to_csv(f'features_generated_{INDEX}.csv', index=False)\n"
   ]
  },
  {
   "cell_type": "code",
   "execution_count": 4,
   "metadata": {},
   "outputs": [],
   "source": [
    "\n",
    "#perform EDA here\n",
    "#Correlation HeatMap\n",
    "#Scatterplots and Boxplots\n"
   ]
  },
  {
   "cell_type": "code",
   "execution_count": 5,
   "metadata": {},
   "outputs": [],
   "source": [
    "\n",
    "# Splitting the data into features (X) and labels (y)\n",
    "X = total_data_df.drop(columns=['File', 'Label'])\n",
    "y = total_data_df['Label']\n"
   ]
  },
  {
   "cell_type": "code",
   "execution_count": 16,
   "metadata": {},
   "outputs": [],
   "source": [
    "\n",
    "X_train, X_test, y_train, y_test = train_test_split(X, y, test_size=0.2, random_state=42)\n"
   ]
  },
  {
   "cell_type": "code",
   "execution_count": 17,
   "metadata": {},
   "outputs": [],
   "source": [
    "from sklearn.linear_model import LogisticRegression\n",
    "from sklearn.svm import SVC\n",
    "from sklearn.neighbors import KNeighborsClassifier\n",
    "from sklearn.ensemble import RandomForestClassifier, GradientBoostingClassifier, AdaBoostClassifier\n",
    "from sklearn.naive_bayes import GaussianNB\n",
    "from sklearn.tree import DecisionTreeClassifier\n",
    "import xgboost as xgb\n",
    "from sklearn.preprocessing import LabelEncoder\n",
    "from sklearn.neural_network import MLPClassifier\n",
    "\n",
    "le = LabelEncoder()\n",
    "y_train_encoded = le.fit_transform(y_train)\n",
    "y_test_encoded = le.transform(y_test)\n",
    "\n",
    "# Dictionary to store models and results\n",
    "models = {\n",
    "    \"Logistic Regression\": LogisticRegression(max_iter=1000),\n",
    "    #'SVM': SVC(kernel='rbf', C=1.0, probability=True), # SVC with probability=True for probability estimates\n",
    "    'K-Nearest Neighbors': KNeighborsClassifier(n_neighbors=5),\n",
    "    'Random Forest': RandomForestClassifier(n_estimators=100, random_state=42),\n",
    "    'Gradient Boosting': GradientBoostingClassifier(n_estimators=100, learning_rate=0.1),\n",
    "    'AdaBoost': AdaBoostClassifier(n_estimators=50),\n",
    "    'Naive Bayes': GaussianNB(),\n",
    "    'Decision Tree': DecisionTreeClassifier(max_depth=10),\n",
    "    'XGBoost': xgb.XGBClassifier(n_estimators=100, learning_rate=0.1),\n",
    "    'SVC_linear': SVC(kernel='linear', probability=True),\n",
    "    'SVC_rbf': SVC(kernel='rbf', probability=True),\n",
    "    'RandomForest_1': RandomForestClassifier(min_samples_leaf=1),\n",
    "    'RandomForest_3': RandomForestClassifier(min_samples_leaf=3),\n",
    "    'RandomForest_5': RandomForestClassifier(min_samples_leaf=5),\n",
    "    'NeuralNetwork_1': MLPClassifier(hidden_layer_sizes=(5)),\n",
    "    'NeuralNetwork_2': MLPClassifier(hidden_layer_sizes=(5, 5)),\n",
    "    'NeuralNetwork_3': MLPClassifier(hidden_layer_sizes=(5, 5, 5)),\n",
    "    'NeuralNetwork_4': MLPClassifier(hidden_layer_sizes=(10))\n",
    "\n",
    "}\n"
   ]
  },
  {
   "cell_type": "code",
   "execution_count": 18,
   "metadata": {},
   "outputs": [
    {
     "name": "stdout",
     "output_type": "stream",
     "text": [
      "\n",
      "Training Logistic Regression...\n"
     ]
    },
    {
     "name": "stderr",
     "output_type": "stream",
     "text": [
      "/home/nirav24/.local/lib/python3.12/site-packages/sklearn/linear_model/_logistic.py:469: ConvergenceWarning:\n",
      "\n",
      "lbfgs failed to converge (status=1):\n",
      "STOP: TOTAL NO. of ITERATIONS REACHED LIMIT.\n",
      "\n",
      "Increase the number of iterations (max_iter) or scale the data as shown in:\n",
      "    https://scikit-learn.org/stable/modules/preprocessing.html\n",
      "Please also refer to the documentation for alternative solver options:\n",
      "    https://scikit-learn.org/stable/modules/linear_model.html#logistic-regression\n",
      "\n"
     ]
    },
    {
     "data": {
      "application/vnd.plotly.v1+json": {
       "config": {
        "plotlyServerURL": "https://plot.ly"
       },
       "data": [
        {
         "colorscale": [
          [
           0,
           "rgb(247,251,255)"
          ],
          [
           0.125,
           "rgb(222,235,247)"
          ],
          [
           0.25,
           "rgb(198,219,239)"
          ],
          [
           0.375,
           "rgb(158,202,225)"
          ],
          [
           0.5,
           "rgb(107,174,214)"
          ],
          [
           0.625,
           "rgb(66,146,198)"
          ],
          [
           0.75,
           "rgb(33,113,181)"
          ],
          [
           0.875,
           "rgb(8,81,156)"
          ],
          [
           1,
           "rgb(8,48,107)"
          ]
         ],
         "showscale": true,
         "text": [
          [
           11,
           3,
           0,
           1,
           6,
           0
          ],
          [
           1,
           9,
           0,
           2,
           3,
           0
          ],
          [
           0,
           0,
           11,
           1,
           0,
           1
          ],
          [
           2,
           0,
           0,
           17,
           1,
           1
          ],
          [
           5,
           1,
           1,
           1,
           6,
           0
          ],
          [
           1,
           0,
           0,
           0,
           1,
           13
          ]
         ],
         "texttemplate": "%{text}",
         "type": "heatmap",
         "x": [
          "Predicted 0",
          "Predicted 1",
          "Predicted 2",
          "Predicted 3",
          "Predicted 4",
          "Predicted 5"
         ],
         "y": [
          "Actual 0",
          "Actual 1",
          "Actual 2",
          "Actual 3",
          "Actual 4",
          "Actual 5"
         ],
         "z": [
          [
           11,
           3,
           0,
           1,
           6,
           0
          ],
          [
           1,
           9,
           0,
           2,
           3,
           0
          ],
          [
           0,
           0,
           11,
           1,
           0,
           1
          ],
          [
           2,
           0,
           0,
           17,
           1,
           1
          ],
          [
           5,
           1,
           1,
           1,
           6,
           0
          ],
          [
           1,
           0,
           0,
           0,
           1,
           13
          ]
         ]
        }
       ],
       "layout": {
        "template": {
         "data": {
          "bar": [
           {
            "error_x": {
             "color": "#2a3f5f"
            },
            "error_y": {
             "color": "#2a3f5f"
            },
            "marker": {
             "line": {
              "color": "#E5ECF6",
              "width": 0.5
             },
             "pattern": {
              "fillmode": "overlay",
              "size": 10,
              "solidity": 0.2
             }
            },
            "type": "bar"
           }
          ],
          "barpolar": [
           {
            "marker": {
             "line": {
              "color": "#E5ECF6",
              "width": 0.5
             },
             "pattern": {
              "fillmode": "overlay",
              "size": 10,
              "solidity": 0.2
             }
            },
            "type": "barpolar"
           }
          ],
          "carpet": [
           {
            "aaxis": {
             "endlinecolor": "#2a3f5f",
             "gridcolor": "white",
             "linecolor": "white",
             "minorgridcolor": "white",
             "startlinecolor": "#2a3f5f"
            },
            "baxis": {
             "endlinecolor": "#2a3f5f",
             "gridcolor": "white",
             "linecolor": "white",
             "minorgridcolor": "white",
             "startlinecolor": "#2a3f5f"
            },
            "type": "carpet"
           }
          ],
          "choropleth": [
           {
            "colorbar": {
             "outlinewidth": 0,
             "ticks": ""
            },
            "type": "choropleth"
           }
          ],
          "contour": [
           {
            "colorbar": {
             "outlinewidth": 0,
             "ticks": ""
            },
            "colorscale": [
             [
              0,
              "#0d0887"
             ],
             [
              0.1111111111111111,
              "#46039f"
             ],
             [
              0.2222222222222222,
              "#7201a8"
             ],
             [
              0.3333333333333333,
              "#9c179e"
             ],
             [
              0.4444444444444444,
              "#bd3786"
             ],
             [
              0.5555555555555556,
              "#d8576b"
             ],
             [
              0.6666666666666666,
              "#ed7953"
             ],
             [
              0.7777777777777778,
              "#fb9f3a"
             ],
             [
              0.8888888888888888,
              "#fdca26"
             ],
             [
              1,
              "#f0f921"
             ]
            ],
            "type": "contour"
           }
          ],
          "contourcarpet": [
           {
            "colorbar": {
             "outlinewidth": 0,
             "ticks": ""
            },
            "type": "contourcarpet"
           }
          ],
          "heatmap": [
           {
            "colorbar": {
             "outlinewidth": 0,
             "ticks": ""
            },
            "colorscale": [
             [
              0,
              "#0d0887"
             ],
             [
              0.1111111111111111,
              "#46039f"
             ],
             [
              0.2222222222222222,
              "#7201a8"
             ],
             [
              0.3333333333333333,
              "#9c179e"
             ],
             [
              0.4444444444444444,
              "#bd3786"
             ],
             [
              0.5555555555555556,
              "#d8576b"
             ],
             [
              0.6666666666666666,
              "#ed7953"
             ],
             [
              0.7777777777777778,
              "#fb9f3a"
             ],
             [
              0.8888888888888888,
              "#fdca26"
             ],
             [
              1,
              "#f0f921"
             ]
            ],
            "type": "heatmap"
           }
          ],
          "heatmapgl": [
           {
            "colorbar": {
             "outlinewidth": 0,
             "ticks": ""
            },
            "colorscale": [
             [
              0,
              "#0d0887"
             ],
             [
              0.1111111111111111,
              "#46039f"
             ],
             [
              0.2222222222222222,
              "#7201a8"
             ],
             [
              0.3333333333333333,
              "#9c179e"
             ],
             [
              0.4444444444444444,
              "#bd3786"
             ],
             [
              0.5555555555555556,
              "#d8576b"
             ],
             [
              0.6666666666666666,
              "#ed7953"
             ],
             [
              0.7777777777777778,
              "#fb9f3a"
             ],
             [
              0.8888888888888888,
              "#fdca26"
             ],
             [
              1,
              "#f0f921"
             ]
            ],
            "type": "heatmapgl"
           }
          ],
          "histogram": [
           {
            "marker": {
             "pattern": {
              "fillmode": "overlay",
              "size": 10,
              "solidity": 0.2
             }
            },
            "type": "histogram"
           }
          ],
          "histogram2d": [
           {
            "colorbar": {
             "outlinewidth": 0,
             "ticks": ""
            },
            "colorscale": [
             [
              0,
              "#0d0887"
             ],
             [
              0.1111111111111111,
              "#46039f"
             ],
             [
              0.2222222222222222,
              "#7201a8"
             ],
             [
              0.3333333333333333,
              "#9c179e"
             ],
             [
              0.4444444444444444,
              "#bd3786"
             ],
             [
              0.5555555555555556,
              "#d8576b"
             ],
             [
              0.6666666666666666,
              "#ed7953"
             ],
             [
              0.7777777777777778,
              "#fb9f3a"
             ],
             [
              0.8888888888888888,
              "#fdca26"
             ],
             [
              1,
              "#f0f921"
             ]
            ],
            "type": "histogram2d"
           }
          ],
          "histogram2dcontour": [
           {
            "colorbar": {
             "outlinewidth": 0,
             "ticks": ""
            },
            "colorscale": [
             [
              0,
              "#0d0887"
             ],
             [
              0.1111111111111111,
              "#46039f"
             ],
             [
              0.2222222222222222,
              "#7201a8"
             ],
             [
              0.3333333333333333,
              "#9c179e"
             ],
             [
              0.4444444444444444,
              "#bd3786"
             ],
             [
              0.5555555555555556,
              "#d8576b"
             ],
             [
              0.6666666666666666,
              "#ed7953"
             ],
             [
              0.7777777777777778,
              "#fb9f3a"
             ],
             [
              0.8888888888888888,
              "#fdca26"
             ],
             [
              1,
              "#f0f921"
             ]
            ],
            "type": "histogram2dcontour"
           }
          ],
          "mesh3d": [
           {
            "colorbar": {
             "outlinewidth": 0,
             "ticks": ""
            },
            "type": "mesh3d"
           }
          ],
          "parcoords": [
           {
            "line": {
             "colorbar": {
              "outlinewidth": 0,
              "ticks": ""
             }
            },
            "type": "parcoords"
           }
          ],
          "pie": [
           {
            "automargin": true,
            "type": "pie"
           }
          ],
          "scatter": [
           {
            "fillpattern": {
             "fillmode": "overlay",
             "size": 10,
             "solidity": 0.2
            },
            "type": "scatter"
           }
          ],
          "scatter3d": [
           {
            "line": {
             "colorbar": {
              "outlinewidth": 0,
              "ticks": ""
             }
            },
            "marker": {
             "colorbar": {
              "outlinewidth": 0,
              "ticks": ""
             }
            },
            "type": "scatter3d"
           }
          ],
          "scattercarpet": [
           {
            "marker": {
             "colorbar": {
              "outlinewidth": 0,
              "ticks": ""
             }
            },
            "type": "scattercarpet"
           }
          ],
          "scattergeo": [
           {
            "marker": {
             "colorbar": {
              "outlinewidth": 0,
              "ticks": ""
             }
            },
            "type": "scattergeo"
           }
          ],
          "scattergl": [
           {
            "marker": {
             "colorbar": {
              "outlinewidth": 0,
              "ticks": ""
             }
            },
            "type": "scattergl"
           }
          ],
          "scattermapbox": [
           {
            "marker": {
             "colorbar": {
              "outlinewidth": 0,
              "ticks": ""
             }
            },
            "type": "scattermapbox"
           }
          ],
          "scatterpolar": [
           {
            "marker": {
             "colorbar": {
              "outlinewidth": 0,
              "ticks": ""
             }
            },
            "type": "scatterpolar"
           }
          ],
          "scatterpolargl": [
           {
            "marker": {
             "colorbar": {
              "outlinewidth": 0,
              "ticks": ""
             }
            },
            "type": "scatterpolargl"
           }
          ],
          "scatterternary": [
           {
            "marker": {
             "colorbar": {
              "outlinewidth": 0,
              "ticks": ""
             }
            },
            "type": "scatterternary"
           }
          ],
          "surface": [
           {
            "colorbar": {
             "outlinewidth": 0,
             "ticks": ""
            },
            "colorscale": [
             [
              0,
              "#0d0887"
             ],
             [
              0.1111111111111111,
              "#46039f"
             ],
             [
              0.2222222222222222,
              "#7201a8"
             ],
             [
              0.3333333333333333,
              "#9c179e"
             ],
             [
              0.4444444444444444,
              "#bd3786"
             ],
             [
              0.5555555555555556,
              "#d8576b"
             ],
             [
              0.6666666666666666,
              "#ed7953"
             ],
             [
              0.7777777777777778,
              "#fb9f3a"
             ],
             [
              0.8888888888888888,
              "#fdca26"
             ],
             [
              1,
              "#f0f921"
             ]
            ],
            "type": "surface"
           }
          ],
          "table": [
           {
            "cells": {
             "fill": {
              "color": "#EBF0F8"
             },
             "line": {
              "color": "white"
             }
            },
            "header": {
             "fill": {
              "color": "#C8D4E3"
             },
             "line": {
              "color": "white"
             }
            },
            "type": "table"
           }
          ]
         },
         "layout": {
          "annotationdefaults": {
           "arrowcolor": "#2a3f5f",
           "arrowhead": 0,
           "arrowwidth": 1
          },
          "autotypenumbers": "strict",
          "coloraxis": {
           "colorbar": {
            "outlinewidth": 0,
            "ticks": ""
           }
          },
          "colorscale": {
           "diverging": [
            [
             0,
             "#8e0152"
            ],
            [
             0.1,
             "#c51b7d"
            ],
            [
             0.2,
             "#de77ae"
            ],
            [
             0.3,
             "#f1b6da"
            ],
            [
             0.4,
             "#fde0ef"
            ],
            [
             0.5,
             "#f7f7f7"
            ],
            [
             0.6,
             "#e6f5d0"
            ],
            [
             0.7,
             "#b8e186"
            ],
            [
             0.8,
             "#7fbc41"
            ],
            [
             0.9,
             "#4d9221"
            ],
            [
             1,
             "#276419"
            ]
           ],
           "sequential": [
            [
             0,
             "#0d0887"
            ],
            [
             0.1111111111111111,
             "#46039f"
            ],
            [
             0.2222222222222222,
             "#7201a8"
            ],
            [
             0.3333333333333333,
             "#9c179e"
            ],
            [
             0.4444444444444444,
             "#bd3786"
            ],
            [
             0.5555555555555556,
             "#d8576b"
            ],
            [
             0.6666666666666666,
             "#ed7953"
            ],
            [
             0.7777777777777778,
             "#fb9f3a"
            ],
            [
             0.8888888888888888,
             "#fdca26"
            ],
            [
             1,
             "#f0f921"
            ]
           ],
           "sequentialminus": [
            [
             0,
             "#0d0887"
            ],
            [
             0.1111111111111111,
             "#46039f"
            ],
            [
             0.2222222222222222,
             "#7201a8"
            ],
            [
             0.3333333333333333,
             "#9c179e"
            ],
            [
             0.4444444444444444,
             "#bd3786"
            ],
            [
             0.5555555555555556,
             "#d8576b"
            ],
            [
             0.6666666666666666,
             "#ed7953"
            ],
            [
             0.7777777777777778,
             "#fb9f3a"
            ],
            [
             0.8888888888888888,
             "#fdca26"
            ],
            [
             1,
             "#f0f921"
            ]
           ]
          },
          "colorway": [
           "#636efa",
           "#EF553B",
           "#00cc96",
           "#ab63fa",
           "#FFA15A",
           "#19d3f3",
           "#FF6692",
           "#B6E880",
           "#FF97FF",
           "#FECB52"
          ],
          "font": {
           "color": "#2a3f5f"
          },
          "geo": {
           "bgcolor": "white",
           "lakecolor": "white",
           "landcolor": "#E5ECF6",
           "showlakes": true,
           "showland": true,
           "subunitcolor": "white"
          },
          "hoverlabel": {
           "align": "left"
          },
          "hovermode": "closest",
          "mapbox": {
           "style": "light"
          },
          "paper_bgcolor": "white",
          "plot_bgcolor": "#E5ECF6",
          "polar": {
           "angularaxis": {
            "gridcolor": "white",
            "linecolor": "white",
            "ticks": ""
           },
           "bgcolor": "#E5ECF6",
           "radialaxis": {
            "gridcolor": "white",
            "linecolor": "white",
            "ticks": ""
           }
          },
          "scene": {
           "xaxis": {
            "backgroundcolor": "#E5ECF6",
            "gridcolor": "white",
            "gridwidth": 2,
            "linecolor": "white",
            "showbackground": true,
            "ticks": "",
            "zerolinecolor": "white"
           },
           "yaxis": {
            "backgroundcolor": "#E5ECF6",
            "gridcolor": "white",
            "gridwidth": 2,
            "linecolor": "white",
            "showbackground": true,
            "ticks": "",
            "zerolinecolor": "white"
           },
           "zaxis": {
            "backgroundcolor": "#E5ECF6",
            "gridcolor": "white",
            "gridwidth": 2,
            "linecolor": "white",
            "showbackground": true,
            "ticks": "",
            "zerolinecolor": "white"
           }
          },
          "shapedefaults": {
           "line": {
            "color": "#2a3f5f"
           }
          },
          "ternary": {
           "aaxis": {
            "gridcolor": "white",
            "linecolor": "white",
            "ticks": ""
           },
           "baxis": {
            "gridcolor": "white",
            "linecolor": "white",
            "ticks": ""
           },
           "bgcolor": "#E5ECF6",
           "caxis": {
            "gridcolor": "white",
            "linecolor": "white",
            "ticks": ""
           }
          },
          "title": {
           "x": 0.05
          },
          "xaxis": {
           "automargin": true,
           "gridcolor": "white",
           "linecolor": "white",
           "ticks": "",
           "title": {
            "standoff": 15
           },
           "zerolinecolor": "white",
           "zerolinewidth": 2
          },
          "yaxis": {
           "automargin": true,
           "gridcolor": "white",
           "linecolor": "white",
           "ticks": "",
           "title": {
            "standoff": 15
           },
           "zerolinecolor": "white",
           "zerolinewidth": 2
          }
         }
        },
        "title": {
         "text": "Confusion Matrix for Logistic Regression"
        },
        "xaxis": {
         "scaleanchor": "y",
         "scaleratio": 1,
         "title": {
          "text": "Predicted Label"
         }
        },
        "yaxis": {
         "title": {
          "text": "Actual Label"
         }
        }
       }
      }
     },
     "metadata": {},
     "output_type": "display_data"
    },
    {
     "name": "stdout",
     "output_type": "stream",
     "text": [
      "\n",
      "Training K-Nearest Neighbors...\n"
     ]
    },
    {
     "data": {
      "application/vnd.plotly.v1+json": {
       "config": {
        "plotlyServerURL": "https://plot.ly"
       },
       "data": [
        {
         "colorscale": [
          [
           0,
           "rgb(247,251,255)"
          ],
          [
           0.125,
           "rgb(222,235,247)"
          ],
          [
           0.25,
           "rgb(198,219,239)"
          ],
          [
           0.375,
           "rgb(158,202,225)"
          ],
          [
           0.5,
           "rgb(107,174,214)"
          ],
          [
           0.625,
           "rgb(66,146,198)"
          ],
          [
           0.75,
           "rgb(33,113,181)"
          ],
          [
           0.875,
           "rgb(8,81,156)"
          ],
          [
           1,
           "rgb(8,48,107)"
          ]
         ],
         "showscale": true,
         "text": [
          [
           8,
           3,
           0,
           5,
           3,
           2
          ],
          [
           4,
           6,
           0,
           2,
           2,
           1
          ],
          [
           0,
           0,
           13,
           0,
           0,
           0
          ],
          [
           9,
           1,
           0,
           5,
           5,
           1
          ],
          [
           1,
           3,
           1,
           3,
           5,
           1
          ],
          [
           1,
           2,
           0,
           3,
           3,
           6
          ]
         ],
         "texttemplate": "%{text}",
         "type": "heatmap",
         "x": [
          "Predicted 0",
          "Predicted 1",
          "Predicted 2",
          "Predicted 3",
          "Predicted 4",
          "Predicted 5"
         ],
         "y": [
          "Actual 0",
          "Actual 1",
          "Actual 2",
          "Actual 3",
          "Actual 4",
          "Actual 5"
         ],
         "z": [
          [
           8,
           3,
           0,
           5,
           3,
           2
          ],
          [
           4,
           6,
           0,
           2,
           2,
           1
          ],
          [
           0,
           0,
           13,
           0,
           0,
           0
          ],
          [
           9,
           1,
           0,
           5,
           5,
           1
          ],
          [
           1,
           3,
           1,
           3,
           5,
           1
          ],
          [
           1,
           2,
           0,
           3,
           3,
           6
          ]
         ]
        }
       ],
       "layout": {
        "template": {
         "data": {
          "bar": [
           {
            "error_x": {
             "color": "#2a3f5f"
            },
            "error_y": {
             "color": "#2a3f5f"
            },
            "marker": {
             "line": {
              "color": "#E5ECF6",
              "width": 0.5
             },
             "pattern": {
              "fillmode": "overlay",
              "size": 10,
              "solidity": 0.2
             }
            },
            "type": "bar"
           }
          ],
          "barpolar": [
           {
            "marker": {
             "line": {
              "color": "#E5ECF6",
              "width": 0.5
             },
             "pattern": {
              "fillmode": "overlay",
              "size": 10,
              "solidity": 0.2
             }
            },
            "type": "barpolar"
           }
          ],
          "carpet": [
           {
            "aaxis": {
             "endlinecolor": "#2a3f5f",
             "gridcolor": "white",
             "linecolor": "white",
             "minorgridcolor": "white",
             "startlinecolor": "#2a3f5f"
            },
            "baxis": {
             "endlinecolor": "#2a3f5f",
             "gridcolor": "white",
             "linecolor": "white",
             "minorgridcolor": "white",
             "startlinecolor": "#2a3f5f"
            },
            "type": "carpet"
           }
          ],
          "choropleth": [
           {
            "colorbar": {
             "outlinewidth": 0,
             "ticks": ""
            },
            "type": "choropleth"
           }
          ],
          "contour": [
           {
            "colorbar": {
             "outlinewidth": 0,
             "ticks": ""
            },
            "colorscale": [
             [
              0,
              "#0d0887"
             ],
             [
              0.1111111111111111,
              "#46039f"
             ],
             [
              0.2222222222222222,
              "#7201a8"
             ],
             [
              0.3333333333333333,
              "#9c179e"
             ],
             [
              0.4444444444444444,
              "#bd3786"
             ],
             [
              0.5555555555555556,
              "#d8576b"
             ],
             [
              0.6666666666666666,
              "#ed7953"
             ],
             [
              0.7777777777777778,
              "#fb9f3a"
             ],
             [
              0.8888888888888888,
              "#fdca26"
             ],
             [
              1,
              "#f0f921"
             ]
            ],
            "type": "contour"
           }
          ],
          "contourcarpet": [
           {
            "colorbar": {
             "outlinewidth": 0,
             "ticks": ""
            },
            "type": "contourcarpet"
           }
          ],
          "heatmap": [
           {
            "colorbar": {
             "outlinewidth": 0,
             "ticks": ""
            },
            "colorscale": [
             [
              0,
              "#0d0887"
             ],
             [
              0.1111111111111111,
              "#46039f"
             ],
             [
              0.2222222222222222,
              "#7201a8"
             ],
             [
              0.3333333333333333,
              "#9c179e"
             ],
             [
              0.4444444444444444,
              "#bd3786"
             ],
             [
              0.5555555555555556,
              "#d8576b"
             ],
             [
              0.6666666666666666,
              "#ed7953"
             ],
             [
              0.7777777777777778,
              "#fb9f3a"
             ],
             [
              0.8888888888888888,
              "#fdca26"
             ],
             [
              1,
              "#f0f921"
             ]
            ],
            "type": "heatmap"
           }
          ],
          "heatmapgl": [
           {
            "colorbar": {
             "outlinewidth": 0,
             "ticks": ""
            },
            "colorscale": [
             [
              0,
              "#0d0887"
             ],
             [
              0.1111111111111111,
              "#46039f"
             ],
             [
              0.2222222222222222,
              "#7201a8"
             ],
             [
              0.3333333333333333,
              "#9c179e"
             ],
             [
              0.4444444444444444,
              "#bd3786"
             ],
             [
              0.5555555555555556,
              "#d8576b"
             ],
             [
              0.6666666666666666,
              "#ed7953"
             ],
             [
              0.7777777777777778,
              "#fb9f3a"
             ],
             [
              0.8888888888888888,
              "#fdca26"
             ],
             [
              1,
              "#f0f921"
             ]
            ],
            "type": "heatmapgl"
           }
          ],
          "histogram": [
           {
            "marker": {
             "pattern": {
              "fillmode": "overlay",
              "size": 10,
              "solidity": 0.2
             }
            },
            "type": "histogram"
           }
          ],
          "histogram2d": [
           {
            "colorbar": {
             "outlinewidth": 0,
             "ticks": ""
            },
            "colorscale": [
             [
              0,
              "#0d0887"
             ],
             [
              0.1111111111111111,
              "#46039f"
             ],
             [
              0.2222222222222222,
              "#7201a8"
             ],
             [
              0.3333333333333333,
              "#9c179e"
             ],
             [
              0.4444444444444444,
              "#bd3786"
             ],
             [
              0.5555555555555556,
              "#d8576b"
             ],
             [
              0.6666666666666666,
              "#ed7953"
             ],
             [
              0.7777777777777778,
              "#fb9f3a"
             ],
             [
              0.8888888888888888,
              "#fdca26"
             ],
             [
              1,
              "#f0f921"
             ]
            ],
            "type": "histogram2d"
           }
          ],
          "histogram2dcontour": [
           {
            "colorbar": {
             "outlinewidth": 0,
             "ticks": ""
            },
            "colorscale": [
             [
              0,
              "#0d0887"
             ],
             [
              0.1111111111111111,
              "#46039f"
             ],
             [
              0.2222222222222222,
              "#7201a8"
             ],
             [
              0.3333333333333333,
              "#9c179e"
             ],
             [
              0.4444444444444444,
              "#bd3786"
             ],
             [
              0.5555555555555556,
              "#d8576b"
             ],
             [
              0.6666666666666666,
              "#ed7953"
             ],
             [
              0.7777777777777778,
              "#fb9f3a"
             ],
             [
              0.8888888888888888,
              "#fdca26"
             ],
             [
              1,
              "#f0f921"
             ]
            ],
            "type": "histogram2dcontour"
           }
          ],
          "mesh3d": [
           {
            "colorbar": {
             "outlinewidth": 0,
             "ticks": ""
            },
            "type": "mesh3d"
           }
          ],
          "parcoords": [
           {
            "line": {
             "colorbar": {
              "outlinewidth": 0,
              "ticks": ""
             }
            },
            "type": "parcoords"
           }
          ],
          "pie": [
           {
            "automargin": true,
            "type": "pie"
           }
          ],
          "scatter": [
           {
            "fillpattern": {
             "fillmode": "overlay",
             "size": 10,
             "solidity": 0.2
            },
            "type": "scatter"
           }
          ],
          "scatter3d": [
           {
            "line": {
             "colorbar": {
              "outlinewidth": 0,
              "ticks": ""
             }
            },
            "marker": {
             "colorbar": {
              "outlinewidth": 0,
              "ticks": ""
             }
            },
            "type": "scatter3d"
           }
          ],
          "scattercarpet": [
           {
            "marker": {
             "colorbar": {
              "outlinewidth": 0,
              "ticks": ""
             }
            },
            "type": "scattercarpet"
           }
          ],
          "scattergeo": [
           {
            "marker": {
             "colorbar": {
              "outlinewidth": 0,
              "ticks": ""
             }
            },
            "type": "scattergeo"
           }
          ],
          "scattergl": [
           {
            "marker": {
             "colorbar": {
              "outlinewidth": 0,
              "ticks": ""
             }
            },
            "type": "scattergl"
           }
          ],
          "scattermapbox": [
           {
            "marker": {
             "colorbar": {
              "outlinewidth": 0,
              "ticks": ""
             }
            },
            "type": "scattermapbox"
           }
          ],
          "scatterpolar": [
           {
            "marker": {
             "colorbar": {
              "outlinewidth": 0,
              "ticks": ""
             }
            },
            "type": "scatterpolar"
           }
          ],
          "scatterpolargl": [
           {
            "marker": {
             "colorbar": {
              "outlinewidth": 0,
              "ticks": ""
             }
            },
            "type": "scatterpolargl"
           }
          ],
          "scatterternary": [
           {
            "marker": {
             "colorbar": {
              "outlinewidth": 0,
              "ticks": ""
             }
            },
            "type": "scatterternary"
           }
          ],
          "surface": [
           {
            "colorbar": {
             "outlinewidth": 0,
             "ticks": ""
            },
            "colorscale": [
             [
              0,
              "#0d0887"
             ],
             [
              0.1111111111111111,
              "#46039f"
             ],
             [
              0.2222222222222222,
              "#7201a8"
             ],
             [
              0.3333333333333333,
              "#9c179e"
             ],
             [
              0.4444444444444444,
              "#bd3786"
             ],
             [
              0.5555555555555556,
              "#d8576b"
             ],
             [
              0.6666666666666666,
              "#ed7953"
             ],
             [
              0.7777777777777778,
              "#fb9f3a"
             ],
             [
              0.8888888888888888,
              "#fdca26"
             ],
             [
              1,
              "#f0f921"
             ]
            ],
            "type": "surface"
           }
          ],
          "table": [
           {
            "cells": {
             "fill": {
              "color": "#EBF0F8"
             },
             "line": {
              "color": "white"
             }
            },
            "header": {
             "fill": {
              "color": "#C8D4E3"
             },
             "line": {
              "color": "white"
             }
            },
            "type": "table"
           }
          ]
         },
         "layout": {
          "annotationdefaults": {
           "arrowcolor": "#2a3f5f",
           "arrowhead": 0,
           "arrowwidth": 1
          },
          "autotypenumbers": "strict",
          "coloraxis": {
           "colorbar": {
            "outlinewidth": 0,
            "ticks": ""
           }
          },
          "colorscale": {
           "diverging": [
            [
             0,
             "#8e0152"
            ],
            [
             0.1,
             "#c51b7d"
            ],
            [
             0.2,
             "#de77ae"
            ],
            [
             0.3,
             "#f1b6da"
            ],
            [
             0.4,
             "#fde0ef"
            ],
            [
             0.5,
             "#f7f7f7"
            ],
            [
             0.6,
             "#e6f5d0"
            ],
            [
             0.7,
             "#b8e186"
            ],
            [
             0.8,
             "#7fbc41"
            ],
            [
             0.9,
             "#4d9221"
            ],
            [
             1,
             "#276419"
            ]
           ],
           "sequential": [
            [
             0,
             "#0d0887"
            ],
            [
             0.1111111111111111,
             "#46039f"
            ],
            [
             0.2222222222222222,
             "#7201a8"
            ],
            [
             0.3333333333333333,
             "#9c179e"
            ],
            [
             0.4444444444444444,
             "#bd3786"
            ],
            [
             0.5555555555555556,
             "#d8576b"
            ],
            [
             0.6666666666666666,
             "#ed7953"
            ],
            [
             0.7777777777777778,
             "#fb9f3a"
            ],
            [
             0.8888888888888888,
             "#fdca26"
            ],
            [
             1,
             "#f0f921"
            ]
           ],
           "sequentialminus": [
            [
             0,
             "#0d0887"
            ],
            [
             0.1111111111111111,
             "#46039f"
            ],
            [
             0.2222222222222222,
             "#7201a8"
            ],
            [
             0.3333333333333333,
             "#9c179e"
            ],
            [
             0.4444444444444444,
             "#bd3786"
            ],
            [
             0.5555555555555556,
             "#d8576b"
            ],
            [
             0.6666666666666666,
             "#ed7953"
            ],
            [
             0.7777777777777778,
             "#fb9f3a"
            ],
            [
             0.8888888888888888,
             "#fdca26"
            ],
            [
             1,
             "#f0f921"
            ]
           ]
          },
          "colorway": [
           "#636efa",
           "#EF553B",
           "#00cc96",
           "#ab63fa",
           "#FFA15A",
           "#19d3f3",
           "#FF6692",
           "#B6E880",
           "#FF97FF",
           "#FECB52"
          ],
          "font": {
           "color": "#2a3f5f"
          },
          "geo": {
           "bgcolor": "white",
           "lakecolor": "white",
           "landcolor": "#E5ECF6",
           "showlakes": true,
           "showland": true,
           "subunitcolor": "white"
          },
          "hoverlabel": {
           "align": "left"
          },
          "hovermode": "closest",
          "mapbox": {
           "style": "light"
          },
          "paper_bgcolor": "white",
          "plot_bgcolor": "#E5ECF6",
          "polar": {
           "angularaxis": {
            "gridcolor": "white",
            "linecolor": "white",
            "ticks": ""
           },
           "bgcolor": "#E5ECF6",
           "radialaxis": {
            "gridcolor": "white",
            "linecolor": "white",
            "ticks": ""
           }
          },
          "scene": {
           "xaxis": {
            "backgroundcolor": "#E5ECF6",
            "gridcolor": "white",
            "gridwidth": 2,
            "linecolor": "white",
            "showbackground": true,
            "ticks": "",
            "zerolinecolor": "white"
           },
           "yaxis": {
            "backgroundcolor": "#E5ECF6",
            "gridcolor": "white",
            "gridwidth": 2,
            "linecolor": "white",
            "showbackground": true,
            "ticks": "",
            "zerolinecolor": "white"
           },
           "zaxis": {
            "backgroundcolor": "#E5ECF6",
            "gridcolor": "white",
            "gridwidth": 2,
            "linecolor": "white",
            "showbackground": true,
            "ticks": "",
            "zerolinecolor": "white"
           }
          },
          "shapedefaults": {
           "line": {
            "color": "#2a3f5f"
           }
          },
          "ternary": {
           "aaxis": {
            "gridcolor": "white",
            "linecolor": "white",
            "ticks": ""
           },
           "baxis": {
            "gridcolor": "white",
            "linecolor": "white",
            "ticks": ""
           },
           "bgcolor": "#E5ECF6",
           "caxis": {
            "gridcolor": "white",
            "linecolor": "white",
            "ticks": ""
           }
          },
          "title": {
           "x": 0.05
          },
          "xaxis": {
           "automargin": true,
           "gridcolor": "white",
           "linecolor": "white",
           "ticks": "",
           "title": {
            "standoff": 15
           },
           "zerolinecolor": "white",
           "zerolinewidth": 2
          },
          "yaxis": {
           "automargin": true,
           "gridcolor": "white",
           "linecolor": "white",
           "ticks": "",
           "title": {
            "standoff": 15
           },
           "zerolinecolor": "white",
           "zerolinewidth": 2
          }
         }
        },
        "title": {
         "text": "Confusion Matrix for K-Nearest Neighbors"
        },
        "xaxis": {
         "scaleanchor": "y",
         "scaleratio": 1,
         "title": {
          "text": "Predicted Label"
         }
        },
        "yaxis": {
         "title": {
          "text": "Actual Label"
         }
        }
       }
      }
     },
     "metadata": {},
     "output_type": "display_data"
    },
    {
     "name": "stdout",
     "output_type": "stream",
     "text": [
      "\n",
      "Training Random Forest...\n"
     ]
    },
    {
     "data": {
      "application/vnd.plotly.v1+json": {
       "config": {
        "plotlyServerURL": "https://plot.ly"
       },
       "data": [
        {
         "colorscale": [
          [
           0,
           "rgb(247,251,255)"
          ],
          [
           0.125,
           "rgb(222,235,247)"
          ],
          [
           0.25,
           "rgb(198,219,239)"
          ],
          [
           0.375,
           "rgb(158,202,225)"
          ],
          [
           0.5,
           "rgb(107,174,214)"
          ],
          [
           0.625,
           "rgb(66,146,198)"
          ],
          [
           0.75,
           "rgb(33,113,181)"
          ],
          [
           0.875,
           "rgb(8,81,156)"
          ],
          [
           1,
           "rgb(8,48,107)"
          ]
         ],
         "showscale": true,
         "text": [
          [
           15,
           4,
           0,
           0,
           2,
           0
          ],
          [
           1,
           11,
           1,
           0,
           1,
           1
          ],
          [
           0,
           0,
           13,
           0,
           0,
           0
          ],
          [
           0,
           1,
           0,
           20,
           0,
           0
          ],
          [
           4,
           1,
           0,
           0,
           9,
           0
          ],
          [
           1,
           0,
           0,
           0,
           0,
           14
          ]
         ],
         "texttemplate": "%{text}",
         "type": "heatmap",
         "x": [
          "Predicted 0",
          "Predicted 1",
          "Predicted 2",
          "Predicted 3",
          "Predicted 4",
          "Predicted 5"
         ],
         "y": [
          "Actual 0",
          "Actual 1",
          "Actual 2",
          "Actual 3",
          "Actual 4",
          "Actual 5"
         ],
         "z": [
          [
           15,
           4,
           0,
           0,
           2,
           0
          ],
          [
           1,
           11,
           1,
           0,
           1,
           1
          ],
          [
           0,
           0,
           13,
           0,
           0,
           0
          ],
          [
           0,
           1,
           0,
           20,
           0,
           0
          ],
          [
           4,
           1,
           0,
           0,
           9,
           0
          ],
          [
           1,
           0,
           0,
           0,
           0,
           14
          ]
         ]
        }
       ],
       "layout": {
        "template": {
         "data": {
          "bar": [
           {
            "error_x": {
             "color": "#2a3f5f"
            },
            "error_y": {
             "color": "#2a3f5f"
            },
            "marker": {
             "line": {
              "color": "#E5ECF6",
              "width": 0.5
             },
             "pattern": {
              "fillmode": "overlay",
              "size": 10,
              "solidity": 0.2
             }
            },
            "type": "bar"
           }
          ],
          "barpolar": [
           {
            "marker": {
             "line": {
              "color": "#E5ECF6",
              "width": 0.5
             },
             "pattern": {
              "fillmode": "overlay",
              "size": 10,
              "solidity": 0.2
             }
            },
            "type": "barpolar"
           }
          ],
          "carpet": [
           {
            "aaxis": {
             "endlinecolor": "#2a3f5f",
             "gridcolor": "white",
             "linecolor": "white",
             "minorgridcolor": "white",
             "startlinecolor": "#2a3f5f"
            },
            "baxis": {
             "endlinecolor": "#2a3f5f",
             "gridcolor": "white",
             "linecolor": "white",
             "minorgridcolor": "white",
             "startlinecolor": "#2a3f5f"
            },
            "type": "carpet"
           }
          ],
          "choropleth": [
           {
            "colorbar": {
             "outlinewidth": 0,
             "ticks": ""
            },
            "type": "choropleth"
           }
          ],
          "contour": [
           {
            "colorbar": {
             "outlinewidth": 0,
             "ticks": ""
            },
            "colorscale": [
             [
              0,
              "#0d0887"
             ],
             [
              0.1111111111111111,
              "#46039f"
             ],
             [
              0.2222222222222222,
              "#7201a8"
             ],
             [
              0.3333333333333333,
              "#9c179e"
             ],
             [
              0.4444444444444444,
              "#bd3786"
             ],
             [
              0.5555555555555556,
              "#d8576b"
             ],
             [
              0.6666666666666666,
              "#ed7953"
             ],
             [
              0.7777777777777778,
              "#fb9f3a"
             ],
             [
              0.8888888888888888,
              "#fdca26"
             ],
             [
              1,
              "#f0f921"
             ]
            ],
            "type": "contour"
           }
          ],
          "contourcarpet": [
           {
            "colorbar": {
             "outlinewidth": 0,
             "ticks": ""
            },
            "type": "contourcarpet"
           }
          ],
          "heatmap": [
           {
            "colorbar": {
             "outlinewidth": 0,
             "ticks": ""
            },
            "colorscale": [
             [
              0,
              "#0d0887"
             ],
             [
              0.1111111111111111,
              "#46039f"
             ],
             [
              0.2222222222222222,
              "#7201a8"
             ],
             [
              0.3333333333333333,
              "#9c179e"
             ],
             [
              0.4444444444444444,
              "#bd3786"
             ],
             [
              0.5555555555555556,
              "#d8576b"
             ],
             [
              0.6666666666666666,
              "#ed7953"
             ],
             [
              0.7777777777777778,
              "#fb9f3a"
             ],
             [
              0.8888888888888888,
              "#fdca26"
             ],
             [
              1,
              "#f0f921"
             ]
            ],
            "type": "heatmap"
           }
          ],
          "heatmapgl": [
           {
            "colorbar": {
             "outlinewidth": 0,
             "ticks": ""
            },
            "colorscale": [
             [
              0,
              "#0d0887"
             ],
             [
              0.1111111111111111,
              "#46039f"
             ],
             [
              0.2222222222222222,
              "#7201a8"
             ],
             [
              0.3333333333333333,
              "#9c179e"
             ],
             [
              0.4444444444444444,
              "#bd3786"
             ],
             [
              0.5555555555555556,
              "#d8576b"
             ],
             [
              0.6666666666666666,
              "#ed7953"
             ],
             [
              0.7777777777777778,
              "#fb9f3a"
             ],
             [
              0.8888888888888888,
              "#fdca26"
             ],
             [
              1,
              "#f0f921"
             ]
            ],
            "type": "heatmapgl"
           }
          ],
          "histogram": [
           {
            "marker": {
             "pattern": {
              "fillmode": "overlay",
              "size": 10,
              "solidity": 0.2
             }
            },
            "type": "histogram"
           }
          ],
          "histogram2d": [
           {
            "colorbar": {
             "outlinewidth": 0,
             "ticks": ""
            },
            "colorscale": [
             [
              0,
              "#0d0887"
             ],
             [
              0.1111111111111111,
              "#46039f"
             ],
             [
              0.2222222222222222,
              "#7201a8"
             ],
             [
              0.3333333333333333,
              "#9c179e"
             ],
             [
              0.4444444444444444,
              "#bd3786"
             ],
             [
              0.5555555555555556,
              "#d8576b"
             ],
             [
              0.6666666666666666,
              "#ed7953"
             ],
             [
              0.7777777777777778,
              "#fb9f3a"
             ],
             [
              0.8888888888888888,
              "#fdca26"
             ],
             [
              1,
              "#f0f921"
             ]
            ],
            "type": "histogram2d"
           }
          ],
          "histogram2dcontour": [
           {
            "colorbar": {
             "outlinewidth": 0,
             "ticks": ""
            },
            "colorscale": [
             [
              0,
              "#0d0887"
             ],
             [
              0.1111111111111111,
              "#46039f"
             ],
             [
              0.2222222222222222,
              "#7201a8"
             ],
             [
              0.3333333333333333,
              "#9c179e"
             ],
             [
              0.4444444444444444,
              "#bd3786"
             ],
             [
              0.5555555555555556,
              "#d8576b"
             ],
             [
              0.6666666666666666,
              "#ed7953"
             ],
             [
              0.7777777777777778,
              "#fb9f3a"
             ],
             [
              0.8888888888888888,
              "#fdca26"
             ],
             [
              1,
              "#f0f921"
             ]
            ],
            "type": "histogram2dcontour"
           }
          ],
          "mesh3d": [
           {
            "colorbar": {
             "outlinewidth": 0,
             "ticks": ""
            },
            "type": "mesh3d"
           }
          ],
          "parcoords": [
           {
            "line": {
             "colorbar": {
              "outlinewidth": 0,
              "ticks": ""
             }
            },
            "type": "parcoords"
           }
          ],
          "pie": [
           {
            "automargin": true,
            "type": "pie"
           }
          ],
          "scatter": [
           {
            "fillpattern": {
             "fillmode": "overlay",
             "size": 10,
             "solidity": 0.2
            },
            "type": "scatter"
           }
          ],
          "scatter3d": [
           {
            "line": {
             "colorbar": {
              "outlinewidth": 0,
              "ticks": ""
             }
            },
            "marker": {
             "colorbar": {
              "outlinewidth": 0,
              "ticks": ""
             }
            },
            "type": "scatter3d"
           }
          ],
          "scattercarpet": [
           {
            "marker": {
             "colorbar": {
              "outlinewidth": 0,
              "ticks": ""
             }
            },
            "type": "scattercarpet"
           }
          ],
          "scattergeo": [
           {
            "marker": {
             "colorbar": {
              "outlinewidth": 0,
              "ticks": ""
             }
            },
            "type": "scattergeo"
           }
          ],
          "scattergl": [
           {
            "marker": {
             "colorbar": {
              "outlinewidth": 0,
              "ticks": ""
             }
            },
            "type": "scattergl"
           }
          ],
          "scattermapbox": [
           {
            "marker": {
             "colorbar": {
              "outlinewidth": 0,
              "ticks": ""
             }
            },
            "type": "scattermapbox"
           }
          ],
          "scatterpolar": [
           {
            "marker": {
             "colorbar": {
              "outlinewidth": 0,
              "ticks": ""
             }
            },
            "type": "scatterpolar"
           }
          ],
          "scatterpolargl": [
           {
            "marker": {
             "colorbar": {
              "outlinewidth": 0,
              "ticks": ""
             }
            },
            "type": "scatterpolargl"
           }
          ],
          "scatterternary": [
           {
            "marker": {
             "colorbar": {
              "outlinewidth": 0,
              "ticks": ""
             }
            },
            "type": "scatterternary"
           }
          ],
          "surface": [
           {
            "colorbar": {
             "outlinewidth": 0,
             "ticks": ""
            },
            "colorscale": [
             [
              0,
              "#0d0887"
             ],
             [
              0.1111111111111111,
              "#46039f"
             ],
             [
              0.2222222222222222,
              "#7201a8"
             ],
             [
              0.3333333333333333,
              "#9c179e"
             ],
             [
              0.4444444444444444,
              "#bd3786"
             ],
             [
              0.5555555555555556,
              "#d8576b"
             ],
             [
              0.6666666666666666,
              "#ed7953"
             ],
             [
              0.7777777777777778,
              "#fb9f3a"
             ],
             [
              0.8888888888888888,
              "#fdca26"
             ],
             [
              1,
              "#f0f921"
             ]
            ],
            "type": "surface"
           }
          ],
          "table": [
           {
            "cells": {
             "fill": {
              "color": "#EBF0F8"
             },
             "line": {
              "color": "white"
             }
            },
            "header": {
             "fill": {
              "color": "#C8D4E3"
             },
             "line": {
              "color": "white"
             }
            },
            "type": "table"
           }
          ]
         },
         "layout": {
          "annotationdefaults": {
           "arrowcolor": "#2a3f5f",
           "arrowhead": 0,
           "arrowwidth": 1
          },
          "autotypenumbers": "strict",
          "coloraxis": {
           "colorbar": {
            "outlinewidth": 0,
            "ticks": ""
           }
          },
          "colorscale": {
           "diverging": [
            [
             0,
             "#8e0152"
            ],
            [
             0.1,
             "#c51b7d"
            ],
            [
             0.2,
             "#de77ae"
            ],
            [
             0.3,
             "#f1b6da"
            ],
            [
             0.4,
             "#fde0ef"
            ],
            [
             0.5,
             "#f7f7f7"
            ],
            [
             0.6,
             "#e6f5d0"
            ],
            [
             0.7,
             "#b8e186"
            ],
            [
             0.8,
             "#7fbc41"
            ],
            [
             0.9,
             "#4d9221"
            ],
            [
             1,
             "#276419"
            ]
           ],
           "sequential": [
            [
             0,
             "#0d0887"
            ],
            [
             0.1111111111111111,
             "#46039f"
            ],
            [
             0.2222222222222222,
             "#7201a8"
            ],
            [
             0.3333333333333333,
             "#9c179e"
            ],
            [
             0.4444444444444444,
             "#bd3786"
            ],
            [
             0.5555555555555556,
             "#d8576b"
            ],
            [
             0.6666666666666666,
             "#ed7953"
            ],
            [
             0.7777777777777778,
             "#fb9f3a"
            ],
            [
             0.8888888888888888,
             "#fdca26"
            ],
            [
             1,
             "#f0f921"
            ]
           ],
           "sequentialminus": [
            [
             0,
             "#0d0887"
            ],
            [
             0.1111111111111111,
             "#46039f"
            ],
            [
             0.2222222222222222,
             "#7201a8"
            ],
            [
             0.3333333333333333,
             "#9c179e"
            ],
            [
             0.4444444444444444,
             "#bd3786"
            ],
            [
             0.5555555555555556,
             "#d8576b"
            ],
            [
             0.6666666666666666,
             "#ed7953"
            ],
            [
             0.7777777777777778,
             "#fb9f3a"
            ],
            [
             0.8888888888888888,
             "#fdca26"
            ],
            [
             1,
             "#f0f921"
            ]
           ]
          },
          "colorway": [
           "#636efa",
           "#EF553B",
           "#00cc96",
           "#ab63fa",
           "#FFA15A",
           "#19d3f3",
           "#FF6692",
           "#B6E880",
           "#FF97FF",
           "#FECB52"
          ],
          "font": {
           "color": "#2a3f5f"
          },
          "geo": {
           "bgcolor": "white",
           "lakecolor": "white",
           "landcolor": "#E5ECF6",
           "showlakes": true,
           "showland": true,
           "subunitcolor": "white"
          },
          "hoverlabel": {
           "align": "left"
          },
          "hovermode": "closest",
          "mapbox": {
           "style": "light"
          },
          "paper_bgcolor": "white",
          "plot_bgcolor": "#E5ECF6",
          "polar": {
           "angularaxis": {
            "gridcolor": "white",
            "linecolor": "white",
            "ticks": ""
           },
           "bgcolor": "#E5ECF6",
           "radialaxis": {
            "gridcolor": "white",
            "linecolor": "white",
            "ticks": ""
           }
          },
          "scene": {
           "xaxis": {
            "backgroundcolor": "#E5ECF6",
            "gridcolor": "white",
            "gridwidth": 2,
            "linecolor": "white",
            "showbackground": true,
            "ticks": "",
            "zerolinecolor": "white"
           },
           "yaxis": {
            "backgroundcolor": "#E5ECF6",
            "gridcolor": "white",
            "gridwidth": 2,
            "linecolor": "white",
            "showbackground": true,
            "ticks": "",
            "zerolinecolor": "white"
           },
           "zaxis": {
            "backgroundcolor": "#E5ECF6",
            "gridcolor": "white",
            "gridwidth": 2,
            "linecolor": "white",
            "showbackground": true,
            "ticks": "",
            "zerolinecolor": "white"
           }
          },
          "shapedefaults": {
           "line": {
            "color": "#2a3f5f"
           }
          },
          "ternary": {
           "aaxis": {
            "gridcolor": "white",
            "linecolor": "white",
            "ticks": ""
           },
           "baxis": {
            "gridcolor": "white",
            "linecolor": "white",
            "ticks": ""
           },
           "bgcolor": "#E5ECF6",
           "caxis": {
            "gridcolor": "white",
            "linecolor": "white",
            "ticks": ""
           }
          },
          "title": {
           "x": 0.05
          },
          "xaxis": {
           "automargin": true,
           "gridcolor": "white",
           "linecolor": "white",
           "ticks": "",
           "title": {
            "standoff": 15
           },
           "zerolinecolor": "white",
           "zerolinewidth": 2
          },
          "yaxis": {
           "automargin": true,
           "gridcolor": "white",
           "linecolor": "white",
           "ticks": "",
           "title": {
            "standoff": 15
           },
           "zerolinecolor": "white",
           "zerolinewidth": 2
          }
         }
        },
        "title": {
         "text": "Confusion Matrix for Random Forest"
        },
        "xaxis": {
         "scaleanchor": "y",
         "scaleratio": 1,
         "title": {
          "text": "Predicted Label"
         }
        },
        "yaxis": {
         "title": {
          "text": "Actual Label"
         }
        }
       }
      }
     },
     "metadata": {},
     "output_type": "display_data"
    },
    {
     "name": "stdout",
     "output_type": "stream",
     "text": [
      "\n",
      "Training Gradient Boosting...\n"
     ]
    },
    {
     "data": {
      "application/vnd.plotly.v1+json": {
       "config": {
        "plotlyServerURL": "https://plot.ly"
       },
       "data": [
        {
         "colorscale": [
          [
           0,
           "rgb(247,251,255)"
          ],
          [
           0.125,
           "rgb(222,235,247)"
          ],
          [
           0.25,
           "rgb(198,219,239)"
          ],
          [
           0.375,
           "rgb(158,202,225)"
          ],
          [
           0.5,
           "rgb(107,174,214)"
          ],
          [
           0.625,
           "rgb(66,146,198)"
          ],
          [
           0.75,
           "rgb(33,113,181)"
          ],
          [
           0.875,
           "rgb(8,81,156)"
          ],
          [
           1,
           "rgb(8,48,107)"
          ]
         ],
         "showscale": true,
         "text": [
          [
           12,
           5,
           0,
           0,
           4,
           0
          ],
          [
           2,
           10,
           1,
           0,
           1,
           1
          ],
          [
           0,
           0,
           13,
           0,
           0,
           0
          ],
          [
           0,
           0,
           0,
           20,
           1,
           0
          ],
          [
           3,
           2,
           0,
           0,
           9,
           0
          ],
          [
           1,
           1,
           0,
           0,
           0,
           13
          ]
         ],
         "texttemplate": "%{text}",
         "type": "heatmap",
         "x": [
          "Predicted 0",
          "Predicted 1",
          "Predicted 2",
          "Predicted 3",
          "Predicted 4",
          "Predicted 5"
         ],
         "y": [
          "Actual 0",
          "Actual 1",
          "Actual 2",
          "Actual 3",
          "Actual 4",
          "Actual 5"
         ],
         "z": [
          [
           12,
           5,
           0,
           0,
           4,
           0
          ],
          [
           2,
           10,
           1,
           0,
           1,
           1
          ],
          [
           0,
           0,
           13,
           0,
           0,
           0
          ],
          [
           0,
           0,
           0,
           20,
           1,
           0
          ],
          [
           3,
           2,
           0,
           0,
           9,
           0
          ],
          [
           1,
           1,
           0,
           0,
           0,
           13
          ]
         ]
        }
       ],
       "layout": {
        "template": {
         "data": {
          "bar": [
           {
            "error_x": {
             "color": "#2a3f5f"
            },
            "error_y": {
             "color": "#2a3f5f"
            },
            "marker": {
             "line": {
              "color": "#E5ECF6",
              "width": 0.5
             },
             "pattern": {
              "fillmode": "overlay",
              "size": 10,
              "solidity": 0.2
             }
            },
            "type": "bar"
           }
          ],
          "barpolar": [
           {
            "marker": {
             "line": {
              "color": "#E5ECF6",
              "width": 0.5
             },
             "pattern": {
              "fillmode": "overlay",
              "size": 10,
              "solidity": 0.2
             }
            },
            "type": "barpolar"
           }
          ],
          "carpet": [
           {
            "aaxis": {
             "endlinecolor": "#2a3f5f",
             "gridcolor": "white",
             "linecolor": "white",
             "minorgridcolor": "white",
             "startlinecolor": "#2a3f5f"
            },
            "baxis": {
             "endlinecolor": "#2a3f5f",
             "gridcolor": "white",
             "linecolor": "white",
             "minorgridcolor": "white",
             "startlinecolor": "#2a3f5f"
            },
            "type": "carpet"
           }
          ],
          "choropleth": [
           {
            "colorbar": {
             "outlinewidth": 0,
             "ticks": ""
            },
            "type": "choropleth"
           }
          ],
          "contour": [
           {
            "colorbar": {
             "outlinewidth": 0,
             "ticks": ""
            },
            "colorscale": [
             [
              0,
              "#0d0887"
             ],
             [
              0.1111111111111111,
              "#46039f"
             ],
             [
              0.2222222222222222,
              "#7201a8"
             ],
             [
              0.3333333333333333,
              "#9c179e"
             ],
             [
              0.4444444444444444,
              "#bd3786"
             ],
             [
              0.5555555555555556,
              "#d8576b"
             ],
             [
              0.6666666666666666,
              "#ed7953"
             ],
             [
              0.7777777777777778,
              "#fb9f3a"
             ],
             [
              0.8888888888888888,
              "#fdca26"
             ],
             [
              1,
              "#f0f921"
             ]
            ],
            "type": "contour"
           }
          ],
          "contourcarpet": [
           {
            "colorbar": {
             "outlinewidth": 0,
             "ticks": ""
            },
            "type": "contourcarpet"
           }
          ],
          "heatmap": [
           {
            "colorbar": {
             "outlinewidth": 0,
             "ticks": ""
            },
            "colorscale": [
             [
              0,
              "#0d0887"
             ],
             [
              0.1111111111111111,
              "#46039f"
             ],
             [
              0.2222222222222222,
              "#7201a8"
             ],
             [
              0.3333333333333333,
              "#9c179e"
             ],
             [
              0.4444444444444444,
              "#bd3786"
             ],
             [
              0.5555555555555556,
              "#d8576b"
             ],
             [
              0.6666666666666666,
              "#ed7953"
             ],
             [
              0.7777777777777778,
              "#fb9f3a"
             ],
             [
              0.8888888888888888,
              "#fdca26"
             ],
             [
              1,
              "#f0f921"
             ]
            ],
            "type": "heatmap"
           }
          ],
          "heatmapgl": [
           {
            "colorbar": {
             "outlinewidth": 0,
             "ticks": ""
            },
            "colorscale": [
             [
              0,
              "#0d0887"
             ],
             [
              0.1111111111111111,
              "#46039f"
             ],
             [
              0.2222222222222222,
              "#7201a8"
             ],
             [
              0.3333333333333333,
              "#9c179e"
             ],
             [
              0.4444444444444444,
              "#bd3786"
             ],
             [
              0.5555555555555556,
              "#d8576b"
             ],
             [
              0.6666666666666666,
              "#ed7953"
             ],
             [
              0.7777777777777778,
              "#fb9f3a"
             ],
             [
              0.8888888888888888,
              "#fdca26"
             ],
             [
              1,
              "#f0f921"
             ]
            ],
            "type": "heatmapgl"
           }
          ],
          "histogram": [
           {
            "marker": {
             "pattern": {
              "fillmode": "overlay",
              "size": 10,
              "solidity": 0.2
             }
            },
            "type": "histogram"
           }
          ],
          "histogram2d": [
           {
            "colorbar": {
             "outlinewidth": 0,
             "ticks": ""
            },
            "colorscale": [
             [
              0,
              "#0d0887"
             ],
             [
              0.1111111111111111,
              "#46039f"
             ],
             [
              0.2222222222222222,
              "#7201a8"
             ],
             [
              0.3333333333333333,
              "#9c179e"
             ],
             [
              0.4444444444444444,
              "#bd3786"
             ],
             [
              0.5555555555555556,
              "#d8576b"
             ],
             [
              0.6666666666666666,
              "#ed7953"
             ],
             [
              0.7777777777777778,
              "#fb9f3a"
             ],
             [
              0.8888888888888888,
              "#fdca26"
             ],
             [
              1,
              "#f0f921"
             ]
            ],
            "type": "histogram2d"
           }
          ],
          "histogram2dcontour": [
           {
            "colorbar": {
             "outlinewidth": 0,
             "ticks": ""
            },
            "colorscale": [
             [
              0,
              "#0d0887"
             ],
             [
              0.1111111111111111,
              "#46039f"
             ],
             [
              0.2222222222222222,
              "#7201a8"
             ],
             [
              0.3333333333333333,
              "#9c179e"
             ],
             [
              0.4444444444444444,
              "#bd3786"
             ],
             [
              0.5555555555555556,
              "#d8576b"
             ],
             [
              0.6666666666666666,
              "#ed7953"
             ],
             [
              0.7777777777777778,
              "#fb9f3a"
             ],
             [
              0.8888888888888888,
              "#fdca26"
             ],
             [
              1,
              "#f0f921"
             ]
            ],
            "type": "histogram2dcontour"
           }
          ],
          "mesh3d": [
           {
            "colorbar": {
             "outlinewidth": 0,
             "ticks": ""
            },
            "type": "mesh3d"
           }
          ],
          "parcoords": [
           {
            "line": {
             "colorbar": {
              "outlinewidth": 0,
              "ticks": ""
             }
            },
            "type": "parcoords"
           }
          ],
          "pie": [
           {
            "automargin": true,
            "type": "pie"
           }
          ],
          "scatter": [
           {
            "fillpattern": {
             "fillmode": "overlay",
             "size": 10,
             "solidity": 0.2
            },
            "type": "scatter"
           }
          ],
          "scatter3d": [
           {
            "line": {
             "colorbar": {
              "outlinewidth": 0,
              "ticks": ""
             }
            },
            "marker": {
             "colorbar": {
              "outlinewidth": 0,
              "ticks": ""
             }
            },
            "type": "scatter3d"
           }
          ],
          "scattercarpet": [
           {
            "marker": {
             "colorbar": {
              "outlinewidth": 0,
              "ticks": ""
             }
            },
            "type": "scattercarpet"
           }
          ],
          "scattergeo": [
           {
            "marker": {
             "colorbar": {
              "outlinewidth": 0,
              "ticks": ""
             }
            },
            "type": "scattergeo"
           }
          ],
          "scattergl": [
           {
            "marker": {
             "colorbar": {
              "outlinewidth": 0,
              "ticks": ""
             }
            },
            "type": "scattergl"
           }
          ],
          "scattermapbox": [
           {
            "marker": {
             "colorbar": {
              "outlinewidth": 0,
              "ticks": ""
             }
            },
            "type": "scattermapbox"
           }
          ],
          "scatterpolar": [
           {
            "marker": {
             "colorbar": {
              "outlinewidth": 0,
              "ticks": ""
             }
            },
            "type": "scatterpolar"
           }
          ],
          "scatterpolargl": [
           {
            "marker": {
             "colorbar": {
              "outlinewidth": 0,
              "ticks": ""
             }
            },
            "type": "scatterpolargl"
           }
          ],
          "scatterternary": [
           {
            "marker": {
             "colorbar": {
              "outlinewidth": 0,
              "ticks": ""
             }
            },
            "type": "scatterternary"
           }
          ],
          "surface": [
           {
            "colorbar": {
             "outlinewidth": 0,
             "ticks": ""
            },
            "colorscale": [
             [
              0,
              "#0d0887"
             ],
             [
              0.1111111111111111,
              "#46039f"
             ],
             [
              0.2222222222222222,
              "#7201a8"
             ],
             [
              0.3333333333333333,
              "#9c179e"
             ],
             [
              0.4444444444444444,
              "#bd3786"
             ],
             [
              0.5555555555555556,
              "#d8576b"
             ],
             [
              0.6666666666666666,
              "#ed7953"
             ],
             [
              0.7777777777777778,
              "#fb9f3a"
             ],
             [
              0.8888888888888888,
              "#fdca26"
             ],
             [
              1,
              "#f0f921"
             ]
            ],
            "type": "surface"
           }
          ],
          "table": [
           {
            "cells": {
             "fill": {
              "color": "#EBF0F8"
             },
             "line": {
              "color": "white"
             }
            },
            "header": {
             "fill": {
              "color": "#C8D4E3"
             },
             "line": {
              "color": "white"
             }
            },
            "type": "table"
           }
          ]
         },
         "layout": {
          "annotationdefaults": {
           "arrowcolor": "#2a3f5f",
           "arrowhead": 0,
           "arrowwidth": 1
          },
          "autotypenumbers": "strict",
          "coloraxis": {
           "colorbar": {
            "outlinewidth": 0,
            "ticks": ""
           }
          },
          "colorscale": {
           "diverging": [
            [
             0,
             "#8e0152"
            ],
            [
             0.1,
             "#c51b7d"
            ],
            [
             0.2,
             "#de77ae"
            ],
            [
             0.3,
             "#f1b6da"
            ],
            [
             0.4,
             "#fde0ef"
            ],
            [
             0.5,
             "#f7f7f7"
            ],
            [
             0.6,
             "#e6f5d0"
            ],
            [
             0.7,
             "#b8e186"
            ],
            [
             0.8,
             "#7fbc41"
            ],
            [
             0.9,
             "#4d9221"
            ],
            [
             1,
             "#276419"
            ]
           ],
           "sequential": [
            [
             0,
             "#0d0887"
            ],
            [
             0.1111111111111111,
             "#46039f"
            ],
            [
             0.2222222222222222,
             "#7201a8"
            ],
            [
             0.3333333333333333,
             "#9c179e"
            ],
            [
             0.4444444444444444,
             "#bd3786"
            ],
            [
             0.5555555555555556,
             "#d8576b"
            ],
            [
             0.6666666666666666,
             "#ed7953"
            ],
            [
             0.7777777777777778,
             "#fb9f3a"
            ],
            [
             0.8888888888888888,
             "#fdca26"
            ],
            [
             1,
             "#f0f921"
            ]
           ],
           "sequentialminus": [
            [
             0,
             "#0d0887"
            ],
            [
             0.1111111111111111,
             "#46039f"
            ],
            [
             0.2222222222222222,
             "#7201a8"
            ],
            [
             0.3333333333333333,
             "#9c179e"
            ],
            [
             0.4444444444444444,
             "#bd3786"
            ],
            [
             0.5555555555555556,
             "#d8576b"
            ],
            [
             0.6666666666666666,
             "#ed7953"
            ],
            [
             0.7777777777777778,
             "#fb9f3a"
            ],
            [
             0.8888888888888888,
             "#fdca26"
            ],
            [
             1,
             "#f0f921"
            ]
           ]
          },
          "colorway": [
           "#636efa",
           "#EF553B",
           "#00cc96",
           "#ab63fa",
           "#FFA15A",
           "#19d3f3",
           "#FF6692",
           "#B6E880",
           "#FF97FF",
           "#FECB52"
          ],
          "font": {
           "color": "#2a3f5f"
          },
          "geo": {
           "bgcolor": "white",
           "lakecolor": "white",
           "landcolor": "#E5ECF6",
           "showlakes": true,
           "showland": true,
           "subunitcolor": "white"
          },
          "hoverlabel": {
           "align": "left"
          },
          "hovermode": "closest",
          "mapbox": {
           "style": "light"
          },
          "paper_bgcolor": "white",
          "plot_bgcolor": "#E5ECF6",
          "polar": {
           "angularaxis": {
            "gridcolor": "white",
            "linecolor": "white",
            "ticks": ""
           },
           "bgcolor": "#E5ECF6",
           "radialaxis": {
            "gridcolor": "white",
            "linecolor": "white",
            "ticks": ""
           }
          },
          "scene": {
           "xaxis": {
            "backgroundcolor": "#E5ECF6",
            "gridcolor": "white",
            "gridwidth": 2,
            "linecolor": "white",
            "showbackground": true,
            "ticks": "",
            "zerolinecolor": "white"
           },
           "yaxis": {
            "backgroundcolor": "#E5ECF6",
            "gridcolor": "white",
            "gridwidth": 2,
            "linecolor": "white",
            "showbackground": true,
            "ticks": "",
            "zerolinecolor": "white"
           },
           "zaxis": {
            "backgroundcolor": "#E5ECF6",
            "gridcolor": "white",
            "gridwidth": 2,
            "linecolor": "white",
            "showbackground": true,
            "ticks": "",
            "zerolinecolor": "white"
           }
          },
          "shapedefaults": {
           "line": {
            "color": "#2a3f5f"
           }
          },
          "ternary": {
           "aaxis": {
            "gridcolor": "white",
            "linecolor": "white",
            "ticks": ""
           },
           "baxis": {
            "gridcolor": "white",
            "linecolor": "white",
            "ticks": ""
           },
           "bgcolor": "#E5ECF6",
           "caxis": {
            "gridcolor": "white",
            "linecolor": "white",
            "ticks": ""
           }
          },
          "title": {
           "x": 0.05
          },
          "xaxis": {
           "automargin": true,
           "gridcolor": "white",
           "linecolor": "white",
           "ticks": "",
           "title": {
            "standoff": 15
           },
           "zerolinecolor": "white",
           "zerolinewidth": 2
          },
          "yaxis": {
           "automargin": true,
           "gridcolor": "white",
           "linecolor": "white",
           "ticks": "",
           "title": {
            "standoff": 15
           },
           "zerolinecolor": "white",
           "zerolinewidth": 2
          }
         }
        },
        "title": {
         "text": "Confusion Matrix for Gradient Boosting"
        },
        "xaxis": {
         "scaleanchor": "y",
         "scaleratio": 1,
         "title": {
          "text": "Predicted Label"
         }
        },
        "yaxis": {
         "title": {
          "text": "Actual Label"
         }
        }
       }
      }
     },
     "metadata": {},
     "output_type": "display_data"
    },
    {
     "name": "stdout",
     "output_type": "stream",
     "text": [
      "\n",
      "Training AdaBoost...\n"
     ]
    },
    {
     "name": "stderr",
     "output_type": "stream",
     "text": [
      "/home/nirav24/.local/lib/python3.12/site-packages/sklearn/ensemble/_weight_boosting.py:527: FutureWarning:\n",
      "\n",
      "The SAMME.R algorithm (the default) is deprecated and will be removed in 1.6. Use the SAMME algorithm to circumvent this warning.\n",
      "\n"
     ]
    },
    {
     "data": {
      "application/vnd.plotly.v1+json": {
       "config": {
        "plotlyServerURL": "https://plot.ly"
       },
       "data": [
        {
         "colorscale": [
          [
           0,
           "rgb(247,251,255)"
          ],
          [
           0.125,
           "rgb(222,235,247)"
          ],
          [
           0.25,
           "rgb(198,219,239)"
          ],
          [
           0.375,
           "rgb(158,202,225)"
          ],
          [
           0.5,
           "rgb(107,174,214)"
          ],
          [
           0.625,
           "rgb(66,146,198)"
          ],
          [
           0.75,
           "rgb(33,113,181)"
          ],
          [
           0.875,
           "rgb(8,81,156)"
          ],
          [
           1,
           "rgb(8,48,107)"
          ]
         ],
         "showscale": true,
         "text": [
          [
           12,
           3,
           0,
           2,
           4,
           0
          ],
          [
           5,
           4,
           1,
           0,
           1,
           4
          ],
          [
           0,
           1,
           11,
           0,
           0,
           1
          ],
          [
           0,
           1,
           1,
           18,
           0,
           1
          ],
          [
           6,
           1,
           0,
           0,
           6,
           1
          ],
          [
           0,
           1,
           0,
           0,
           5,
           9
          ]
         ],
         "texttemplate": "%{text}",
         "type": "heatmap",
         "x": [
          "Predicted 0",
          "Predicted 1",
          "Predicted 2",
          "Predicted 3",
          "Predicted 4",
          "Predicted 5"
         ],
         "y": [
          "Actual 0",
          "Actual 1",
          "Actual 2",
          "Actual 3",
          "Actual 4",
          "Actual 5"
         ],
         "z": [
          [
           12,
           3,
           0,
           2,
           4,
           0
          ],
          [
           5,
           4,
           1,
           0,
           1,
           4
          ],
          [
           0,
           1,
           11,
           0,
           0,
           1
          ],
          [
           0,
           1,
           1,
           18,
           0,
           1
          ],
          [
           6,
           1,
           0,
           0,
           6,
           1
          ],
          [
           0,
           1,
           0,
           0,
           5,
           9
          ]
         ]
        }
       ],
       "layout": {
        "template": {
         "data": {
          "bar": [
           {
            "error_x": {
             "color": "#2a3f5f"
            },
            "error_y": {
             "color": "#2a3f5f"
            },
            "marker": {
             "line": {
              "color": "#E5ECF6",
              "width": 0.5
             },
             "pattern": {
              "fillmode": "overlay",
              "size": 10,
              "solidity": 0.2
             }
            },
            "type": "bar"
           }
          ],
          "barpolar": [
           {
            "marker": {
             "line": {
              "color": "#E5ECF6",
              "width": 0.5
             },
             "pattern": {
              "fillmode": "overlay",
              "size": 10,
              "solidity": 0.2
             }
            },
            "type": "barpolar"
           }
          ],
          "carpet": [
           {
            "aaxis": {
             "endlinecolor": "#2a3f5f",
             "gridcolor": "white",
             "linecolor": "white",
             "minorgridcolor": "white",
             "startlinecolor": "#2a3f5f"
            },
            "baxis": {
             "endlinecolor": "#2a3f5f",
             "gridcolor": "white",
             "linecolor": "white",
             "minorgridcolor": "white",
             "startlinecolor": "#2a3f5f"
            },
            "type": "carpet"
           }
          ],
          "choropleth": [
           {
            "colorbar": {
             "outlinewidth": 0,
             "ticks": ""
            },
            "type": "choropleth"
           }
          ],
          "contour": [
           {
            "colorbar": {
             "outlinewidth": 0,
             "ticks": ""
            },
            "colorscale": [
             [
              0,
              "#0d0887"
             ],
             [
              0.1111111111111111,
              "#46039f"
             ],
             [
              0.2222222222222222,
              "#7201a8"
             ],
             [
              0.3333333333333333,
              "#9c179e"
             ],
             [
              0.4444444444444444,
              "#bd3786"
             ],
             [
              0.5555555555555556,
              "#d8576b"
             ],
             [
              0.6666666666666666,
              "#ed7953"
             ],
             [
              0.7777777777777778,
              "#fb9f3a"
             ],
             [
              0.8888888888888888,
              "#fdca26"
             ],
             [
              1,
              "#f0f921"
             ]
            ],
            "type": "contour"
           }
          ],
          "contourcarpet": [
           {
            "colorbar": {
             "outlinewidth": 0,
             "ticks": ""
            },
            "type": "contourcarpet"
           }
          ],
          "heatmap": [
           {
            "colorbar": {
             "outlinewidth": 0,
             "ticks": ""
            },
            "colorscale": [
             [
              0,
              "#0d0887"
             ],
             [
              0.1111111111111111,
              "#46039f"
             ],
             [
              0.2222222222222222,
              "#7201a8"
             ],
             [
              0.3333333333333333,
              "#9c179e"
             ],
             [
              0.4444444444444444,
              "#bd3786"
             ],
             [
              0.5555555555555556,
              "#d8576b"
             ],
             [
              0.6666666666666666,
              "#ed7953"
             ],
             [
              0.7777777777777778,
              "#fb9f3a"
             ],
             [
              0.8888888888888888,
              "#fdca26"
             ],
             [
              1,
              "#f0f921"
             ]
            ],
            "type": "heatmap"
           }
          ],
          "heatmapgl": [
           {
            "colorbar": {
             "outlinewidth": 0,
             "ticks": ""
            },
            "colorscale": [
             [
              0,
              "#0d0887"
             ],
             [
              0.1111111111111111,
              "#46039f"
             ],
             [
              0.2222222222222222,
              "#7201a8"
             ],
             [
              0.3333333333333333,
              "#9c179e"
             ],
             [
              0.4444444444444444,
              "#bd3786"
             ],
             [
              0.5555555555555556,
              "#d8576b"
             ],
             [
              0.6666666666666666,
              "#ed7953"
             ],
             [
              0.7777777777777778,
              "#fb9f3a"
             ],
             [
              0.8888888888888888,
              "#fdca26"
             ],
             [
              1,
              "#f0f921"
             ]
            ],
            "type": "heatmapgl"
           }
          ],
          "histogram": [
           {
            "marker": {
             "pattern": {
              "fillmode": "overlay",
              "size": 10,
              "solidity": 0.2
             }
            },
            "type": "histogram"
           }
          ],
          "histogram2d": [
           {
            "colorbar": {
             "outlinewidth": 0,
             "ticks": ""
            },
            "colorscale": [
             [
              0,
              "#0d0887"
             ],
             [
              0.1111111111111111,
              "#46039f"
             ],
             [
              0.2222222222222222,
              "#7201a8"
             ],
             [
              0.3333333333333333,
              "#9c179e"
             ],
             [
              0.4444444444444444,
              "#bd3786"
             ],
             [
              0.5555555555555556,
              "#d8576b"
             ],
             [
              0.6666666666666666,
              "#ed7953"
             ],
             [
              0.7777777777777778,
              "#fb9f3a"
             ],
             [
              0.8888888888888888,
              "#fdca26"
             ],
             [
              1,
              "#f0f921"
             ]
            ],
            "type": "histogram2d"
           }
          ],
          "histogram2dcontour": [
           {
            "colorbar": {
             "outlinewidth": 0,
             "ticks": ""
            },
            "colorscale": [
             [
              0,
              "#0d0887"
             ],
             [
              0.1111111111111111,
              "#46039f"
             ],
             [
              0.2222222222222222,
              "#7201a8"
             ],
             [
              0.3333333333333333,
              "#9c179e"
             ],
             [
              0.4444444444444444,
              "#bd3786"
             ],
             [
              0.5555555555555556,
              "#d8576b"
             ],
             [
              0.6666666666666666,
              "#ed7953"
             ],
             [
              0.7777777777777778,
              "#fb9f3a"
             ],
             [
              0.8888888888888888,
              "#fdca26"
             ],
             [
              1,
              "#f0f921"
             ]
            ],
            "type": "histogram2dcontour"
           }
          ],
          "mesh3d": [
           {
            "colorbar": {
             "outlinewidth": 0,
             "ticks": ""
            },
            "type": "mesh3d"
           }
          ],
          "parcoords": [
           {
            "line": {
             "colorbar": {
              "outlinewidth": 0,
              "ticks": ""
             }
            },
            "type": "parcoords"
           }
          ],
          "pie": [
           {
            "automargin": true,
            "type": "pie"
           }
          ],
          "scatter": [
           {
            "fillpattern": {
             "fillmode": "overlay",
             "size": 10,
             "solidity": 0.2
            },
            "type": "scatter"
           }
          ],
          "scatter3d": [
           {
            "line": {
             "colorbar": {
              "outlinewidth": 0,
              "ticks": ""
             }
            },
            "marker": {
             "colorbar": {
              "outlinewidth": 0,
              "ticks": ""
             }
            },
            "type": "scatter3d"
           }
          ],
          "scattercarpet": [
           {
            "marker": {
             "colorbar": {
              "outlinewidth": 0,
              "ticks": ""
             }
            },
            "type": "scattercarpet"
           }
          ],
          "scattergeo": [
           {
            "marker": {
             "colorbar": {
              "outlinewidth": 0,
              "ticks": ""
             }
            },
            "type": "scattergeo"
           }
          ],
          "scattergl": [
           {
            "marker": {
             "colorbar": {
              "outlinewidth": 0,
              "ticks": ""
             }
            },
            "type": "scattergl"
           }
          ],
          "scattermapbox": [
           {
            "marker": {
             "colorbar": {
              "outlinewidth": 0,
              "ticks": ""
             }
            },
            "type": "scattermapbox"
           }
          ],
          "scatterpolar": [
           {
            "marker": {
             "colorbar": {
              "outlinewidth": 0,
              "ticks": ""
             }
            },
            "type": "scatterpolar"
           }
          ],
          "scatterpolargl": [
           {
            "marker": {
             "colorbar": {
              "outlinewidth": 0,
              "ticks": ""
             }
            },
            "type": "scatterpolargl"
           }
          ],
          "scatterternary": [
           {
            "marker": {
             "colorbar": {
              "outlinewidth": 0,
              "ticks": ""
             }
            },
            "type": "scatterternary"
           }
          ],
          "surface": [
           {
            "colorbar": {
             "outlinewidth": 0,
             "ticks": ""
            },
            "colorscale": [
             [
              0,
              "#0d0887"
             ],
             [
              0.1111111111111111,
              "#46039f"
             ],
             [
              0.2222222222222222,
              "#7201a8"
             ],
             [
              0.3333333333333333,
              "#9c179e"
             ],
             [
              0.4444444444444444,
              "#bd3786"
             ],
             [
              0.5555555555555556,
              "#d8576b"
             ],
             [
              0.6666666666666666,
              "#ed7953"
             ],
             [
              0.7777777777777778,
              "#fb9f3a"
             ],
             [
              0.8888888888888888,
              "#fdca26"
             ],
             [
              1,
              "#f0f921"
             ]
            ],
            "type": "surface"
           }
          ],
          "table": [
           {
            "cells": {
             "fill": {
              "color": "#EBF0F8"
             },
             "line": {
              "color": "white"
             }
            },
            "header": {
             "fill": {
              "color": "#C8D4E3"
             },
             "line": {
              "color": "white"
             }
            },
            "type": "table"
           }
          ]
         },
         "layout": {
          "annotationdefaults": {
           "arrowcolor": "#2a3f5f",
           "arrowhead": 0,
           "arrowwidth": 1
          },
          "autotypenumbers": "strict",
          "coloraxis": {
           "colorbar": {
            "outlinewidth": 0,
            "ticks": ""
           }
          },
          "colorscale": {
           "diverging": [
            [
             0,
             "#8e0152"
            ],
            [
             0.1,
             "#c51b7d"
            ],
            [
             0.2,
             "#de77ae"
            ],
            [
             0.3,
             "#f1b6da"
            ],
            [
             0.4,
             "#fde0ef"
            ],
            [
             0.5,
             "#f7f7f7"
            ],
            [
             0.6,
             "#e6f5d0"
            ],
            [
             0.7,
             "#b8e186"
            ],
            [
             0.8,
             "#7fbc41"
            ],
            [
             0.9,
             "#4d9221"
            ],
            [
             1,
             "#276419"
            ]
           ],
           "sequential": [
            [
             0,
             "#0d0887"
            ],
            [
             0.1111111111111111,
             "#46039f"
            ],
            [
             0.2222222222222222,
             "#7201a8"
            ],
            [
             0.3333333333333333,
             "#9c179e"
            ],
            [
             0.4444444444444444,
             "#bd3786"
            ],
            [
             0.5555555555555556,
             "#d8576b"
            ],
            [
             0.6666666666666666,
             "#ed7953"
            ],
            [
             0.7777777777777778,
             "#fb9f3a"
            ],
            [
             0.8888888888888888,
             "#fdca26"
            ],
            [
             1,
             "#f0f921"
            ]
           ],
           "sequentialminus": [
            [
             0,
             "#0d0887"
            ],
            [
             0.1111111111111111,
             "#46039f"
            ],
            [
             0.2222222222222222,
             "#7201a8"
            ],
            [
             0.3333333333333333,
             "#9c179e"
            ],
            [
             0.4444444444444444,
             "#bd3786"
            ],
            [
             0.5555555555555556,
             "#d8576b"
            ],
            [
             0.6666666666666666,
             "#ed7953"
            ],
            [
             0.7777777777777778,
             "#fb9f3a"
            ],
            [
             0.8888888888888888,
             "#fdca26"
            ],
            [
             1,
             "#f0f921"
            ]
           ]
          },
          "colorway": [
           "#636efa",
           "#EF553B",
           "#00cc96",
           "#ab63fa",
           "#FFA15A",
           "#19d3f3",
           "#FF6692",
           "#B6E880",
           "#FF97FF",
           "#FECB52"
          ],
          "font": {
           "color": "#2a3f5f"
          },
          "geo": {
           "bgcolor": "white",
           "lakecolor": "white",
           "landcolor": "#E5ECF6",
           "showlakes": true,
           "showland": true,
           "subunitcolor": "white"
          },
          "hoverlabel": {
           "align": "left"
          },
          "hovermode": "closest",
          "mapbox": {
           "style": "light"
          },
          "paper_bgcolor": "white",
          "plot_bgcolor": "#E5ECF6",
          "polar": {
           "angularaxis": {
            "gridcolor": "white",
            "linecolor": "white",
            "ticks": ""
           },
           "bgcolor": "#E5ECF6",
           "radialaxis": {
            "gridcolor": "white",
            "linecolor": "white",
            "ticks": ""
           }
          },
          "scene": {
           "xaxis": {
            "backgroundcolor": "#E5ECF6",
            "gridcolor": "white",
            "gridwidth": 2,
            "linecolor": "white",
            "showbackground": true,
            "ticks": "",
            "zerolinecolor": "white"
           },
           "yaxis": {
            "backgroundcolor": "#E5ECF6",
            "gridcolor": "white",
            "gridwidth": 2,
            "linecolor": "white",
            "showbackground": true,
            "ticks": "",
            "zerolinecolor": "white"
           },
           "zaxis": {
            "backgroundcolor": "#E5ECF6",
            "gridcolor": "white",
            "gridwidth": 2,
            "linecolor": "white",
            "showbackground": true,
            "ticks": "",
            "zerolinecolor": "white"
           }
          },
          "shapedefaults": {
           "line": {
            "color": "#2a3f5f"
           }
          },
          "ternary": {
           "aaxis": {
            "gridcolor": "white",
            "linecolor": "white",
            "ticks": ""
           },
           "baxis": {
            "gridcolor": "white",
            "linecolor": "white",
            "ticks": ""
           },
           "bgcolor": "#E5ECF6",
           "caxis": {
            "gridcolor": "white",
            "linecolor": "white",
            "ticks": ""
           }
          },
          "title": {
           "x": 0.05
          },
          "xaxis": {
           "automargin": true,
           "gridcolor": "white",
           "linecolor": "white",
           "ticks": "",
           "title": {
            "standoff": 15
           },
           "zerolinecolor": "white",
           "zerolinewidth": 2
          },
          "yaxis": {
           "automargin": true,
           "gridcolor": "white",
           "linecolor": "white",
           "ticks": "",
           "title": {
            "standoff": 15
           },
           "zerolinecolor": "white",
           "zerolinewidth": 2
          }
         }
        },
        "title": {
         "text": "Confusion Matrix for AdaBoost"
        },
        "xaxis": {
         "scaleanchor": "y",
         "scaleratio": 1,
         "title": {
          "text": "Predicted Label"
         }
        },
        "yaxis": {
         "title": {
          "text": "Actual Label"
         }
        }
       }
      }
     },
     "metadata": {},
     "output_type": "display_data"
    },
    {
     "name": "stdout",
     "output_type": "stream",
     "text": [
      "\n",
      "Training Naive Bayes...\n"
     ]
    },
    {
     "data": {
      "application/vnd.plotly.v1+json": {
       "config": {
        "plotlyServerURL": "https://plot.ly"
       },
       "data": [
        {
         "colorscale": [
          [
           0,
           "rgb(247,251,255)"
          ],
          [
           0.125,
           "rgb(222,235,247)"
          ],
          [
           0.25,
           "rgb(198,219,239)"
          ],
          [
           0.375,
           "rgb(158,202,225)"
          ],
          [
           0.5,
           "rgb(107,174,214)"
          ],
          [
           0.625,
           "rgb(66,146,198)"
          ],
          [
           0.75,
           "rgb(33,113,181)"
          ],
          [
           0.875,
           "rgb(8,81,156)"
          ],
          [
           1,
           "rgb(8,48,107)"
          ]
         ],
         "showscale": true,
         "text": [
          [
           11,
           6,
           0,
           0,
           3,
           1
          ],
          [
           0,
           11,
           1,
           0,
           1,
           2
          ],
          [
           1,
           0,
           12,
           0,
           0,
           0
          ],
          [
           1,
           1,
           2,
           16,
           1,
           0
          ],
          [
           3,
           1,
           1,
           0,
           9,
           0
          ],
          [
           0,
           0,
           1,
           1,
           1,
           12
          ]
         ],
         "texttemplate": "%{text}",
         "type": "heatmap",
         "x": [
          "Predicted 0",
          "Predicted 1",
          "Predicted 2",
          "Predicted 3",
          "Predicted 4",
          "Predicted 5"
         ],
         "y": [
          "Actual 0",
          "Actual 1",
          "Actual 2",
          "Actual 3",
          "Actual 4",
          "Actual 5"
         ],
         "z": [
          [
           11,
           6,
           0,
           0,
           3,
           1
          ],
          [
           0,
           11,
           1,
           0,
           1,
           2
          ],
          [
           1,
           0,
           12,
           0,
           0,
           0
          ],
          [
           1,
           1,
           2,
           16,
           1,
           0
          ],
          [
           3,
           1,
           1,
           0,
           9,
           0
          ],
          [
           0,
           0,
           1,
           1,
           1,
           12
          ]
         ]
        }
       ],
       "layout": {
        "template": {
         "data": {
          "bar": [
           {
            "error_x": {
             "color": "#2a3f5f"
            },
            "error_y": {
             "color": "#2a3f5f"
            },
            "marker": {
             "line": {
              "color": "#E5ECF6",
              "width": 0.5
             },
             "pattern": {
              "fillmode": "overlay",
              "size": 10,
              "solidity": 0.2
             }
            },
            "type": "bar"
           }
          ],
          "barpolar": [
           {
            "marker": {
             "line": {
              "color": "#E5ECF6",
              "width": 0.5
             },
             "pattern": {
              "fillmode": "overlay",
              "size": 10,
              "solidity": 0.2
             }
            },
            "type": "barpolar"
           }
          ],
          "carpet": [
           {
            "aaxis": {
             "endlinecolor": "#2a3f5f",
             "gridcolor": "white",
             "linecolor": "white",
             "minorgridcolor": "white",
             "startlinecolor": "#2a3f5f"
            },
            "baxis": {
             "endlinecolor": "#2a3f5f",
             "gridcolor": "white",
             "linecolor": "white",
             "minorgridcolor": "white",
             "startlinecolor": "#2a3f5f"
            },
            "type": "carpet"
           }
          ],
          "choropleth": [
           {
            "colorbar": {
             "outlinewidth": 0,
             "ticks": ""
            },
            "type": "choropleth"
           }
          ],
          "contour": [
           {
            "colorbar": {
             "outlinewidth": 0,
             "ticks": ""
            },
            "colorscale": [
             [
              0,
              "#0d0887"
             ],
             [
              0.1111111111111111,
              "#46039f"
             ],
             [
              0.2222222222222222,
              "#7201a8"
             ],
             [
              0.3333333333333333,
              "#9c179e"
             ],
             [
              0.4444444444444444,
              "#bd3786"
             ],
             [
              0.5555555555555556,
              "#d8576b"
             ],
             [
              0.6666666666666666,
              "#ed7953"
             ],
             [
              0.7777777777777778,
              "#fb9f3a"
             ],
             [
              0.8888888888888888,
              "#fdca26"
             ],
             [
              1,
              "#f0f921"
             ]
            ],
            "type": "contour"
           }
          ],
          "contourcarpet": [
           {
            "colorbar": {
             "outlinewidth": 0,
             "ticks": ""
            },
            "type": "contourcarpet"
           }
          ],
          "heatmap": [
           {
            "colorbar": {
             "outlinewidth": 0,
             "ticks": ""
            },
            "colorscale": [
             [
              0,
              "#0d0887"
             ],
             [
              0.1111111111111111,
              "#46039f"
             ],
             [
              0.2222222222222222,
              "#7201a8"
             ],
             [
              0.3333333333333333,
              "#9c179e"
             ],
             [
              0.4444444444444444,
              "#bd3786"
             ],
             [
              0.5555555555555556,
              "#d8576b"
             ],
             [
              0.6666666666666666,
              "#ed7953"
             ],
             [
              0.7777777777777778,
              "#fb9f3a"
             ],
             [
              0.8888888888888888,
              "#fdca26"
             ],
             [
              1,
              "#f0f921"
             ]
            ],
            "type": "heatmap"
           }
          ],
          "heatmapgl": [
           {
            "colorbar": {
             "outlinewidth": 0,
             "ticks": ""
            },
            "colorscale": [
             [
              0,
              "#0d0887"
             ],
             [
              0.1111111111111111,
              "#46039f"
             ],
             [
              0.2222222222222222,
              "#7201a8"
             ],
             [
              0.3333333333333333,
              "#9c179e"
             ],
             [
              0.4444444444444444,
              "#bd3786"
             ],
             [
              0.5555555555555556,
              "#d8576b"
             ],
             [
              0.6666666666666666,
              "#ed7953"
             ],
             [
              0.7777777777777778,
              "#fb9f3a"
             ],
             [
              0.8888888888888888,
              "#fdca26"
             ],
             [
              1,
              "#f0f921"
             ]
            ],
            "type": "heatmapgl"
           }
          ],
          "histogram": [
           {
            "marker": {
             "pattern": {
              "fillmode": "overlay",
              "size": 10,
              "solidity": 0.2
             }
            },
            "type": "histogram"
           }
          ],
          "histogram2d": [
           {
            "colorbar": {
             "outlinewidth": 0,
             "ticks": ""
            },
            "colorscale": [
             [
              0,
              "#0d0887"
             ],
             [
              0.1111111111111111,
              "#46039f"
             ],
             [
              0.2222222222222222,
              "#7201a8"
             ],
             [
              0.3333333333333333,
              "#9c179e"
             ],
             [
              0.4444444444444444,
              "#bd3786"
             ],
             [
              0.5555555555555556,
              "#d8576b"
             ],
             [
              0.6666666666666666,
              "#ed7953"
             ],
             [
              0.7777777777777778,
              "#fb9f3a"
             ],
             [
              0.8888888888888888,
              "#fdca26"
             ],
             [
              1,
              "#f0f921"
             ]
            ],
            "type": "histogram2d"
           }
          ],
          "histogram2dcontour": [
           {
            "colorbar": {
             "outlinewidth": 0,
             "ticks": ""
            },
            "colorscale": [
             [
              0,
              "#0d0887"
             ],
             [
              0.1111111111111111,
              "#46039f"
             ],
             [
              0.2222222222222222,
              "#7201a8"
             ],
             [
              0.3333333333333333,
              "#9c179e"
             ],
             [
              0.4444444444444444,
              "#bd3786"
             ],
             [
              0.5555555555555556,
              "#d8576b"
             ],
             [
              0.6666666666666666,
              "#ed7953"
             ],
             [
              0.7777777777777778,
              "#fb9f3a"
             ],
             [
              0.8888888888888888,
              "#fdca26"
             ],
             [
              1,
              "#f0f921"
             ]
            ],
            "type": "histogram2dcontour"
           }
          ],
          "mesh3d": [
           {
            "colorbar": {
             "outlinewidth": 0,
             "ticks": ""
            },
            "type": "mesh3d"
           }
          ],
          "parcoords": [
           {
            "line": {
             "colorbar": {
              "outlinewidth": 0,
              "ticks": ""
             }
            },
            "type": "parcoords"
           }
          ],
          "pie": [
           {
            "automargin": true,
            "type": "pie"
           }
          ],
          "scatter": [
           {
            "fillpattern": {
             "fillmode": "overlay",
             "size": 10,
             "solidity": 0.2
            },
            "type": "scatter"
           }
          ],
          "scatter3d": [
           {
            "line": {
             "colorbar": {
              "outlinewidth": 0,
              "ticks": ""
             }
            },
            "marker": {
             "colorbar": {
              "outlinewidth": 0,
              "ticks": ""
             }
            },
            "type": "scatter3d"
           }
          ],
          "scattercarpet": [
           {
            "marker": {
             "colorbar": {
              "outlinewidth": 0,
              "ticks": ""
             }
            },
            "type": "scattercarpet"
           }
          ],
          "scattergeo": [
           {
            "marker": {
             "colorbar": {
              "outlinewidth": 0,
              "ticks": ""
             }
            },
            "type": "scattergeo"
           }
          ],
          "scattergl": [
           {
            "marker": {
             "colorbar": {
              "outlinewidth": 0,
              "ticks": ""
             }
            },
            "type": "scattergl"
           }
          ],
          "scattermapbox": [
           {
            "marker": {
             "colorbar": {
              "outlinewidth": 0,
              "ticks": ""
             }
            },
            "type": "scattermapbox"
           }
          ],
          "scatterpolar": [
           {
            "marker": {
             "colorbar": {
              "outlinewidth": 0,
              "ticks": ""
             }
            },
            "type": "scatterpolar"
           }
          ],
          "scatterpolargl": [
           {
            "marker": {
             "colorbar": {
              "outlinewidth": 0,
              "ticks": ""
             }
            },
            "type": "scatterpolargl"
           }
          ],
          "scatterternary": [
           {
            "marker": {
             "colorbar": {
              "outlinewidth": 0,
              "ticks": ""
             }
            },
            "type": "scatterternary"
           }
          ],
          "surface": [
           {
            "colorbar": {
             "outlinewidth": 0,
             "ticks": ""
            },
            "colorscale": [
             [
              0,
              "#0d0887"
             ],
             [
              0.1111111111111111,
              "#46039f"
             ],
             [
              0.2222222222222222,
              "#7201a8"
             ],
             [
              0.3333333333333333,
              "#9c179e"
             ],
             [
              0.4444444444444444,
              "#bd3786"
             ],
             [
              0.5555555555555556,
              "#d8576b"
             ],
             [
              0.6666666666666666,
              "#ed7953"
             ],
             [
              0.7777777777777778,
              "#fb9f3a"
             ],
             [
              0.8888888888888888,
              "#fdca26"
             ],
             [
              1,
              "#f0f921"
             ]
            ],
            "type": "surface"
           }
          ],
          "table": [
           {
            "cells": {
             "fill": {
              "color": "#EBF0F8"
             },
             "line": {
              "color": "white"
             }
            },
            "header": {
             "fill": {
              "color": "#C8D4E3"
             },
             "line": {
              "color": "white"
             }
            },
            "type": "table"
           }
          ]
         },
         "layout": {
          "annotationdefaults": {
           "arrowcolor": "#2a3f5f",
           "arrowhead": 0,
           "arrowwidth": 1
          },
          "autotypenumbers": "strict",
          "coloraxis": {
           "colorbar": {
            "outlinewidth": 0,
            "ticks": ""
           }
          },
          "colorscale": {
           "diverging": [
            [
             0,
             "#8e0152"
            ],
            [
             0.1,
             "#c51b7d"
            ],
            [
             0.2,
             "#de77ae"
            ],
            [
             0.3,
             "#f1b6da"
            ],
            [
             0.4,
             "#fde0ef"
            ],
            [
             0.5,
             "#f7f7f7"
            ],
            [
             0.6,
             "#e6f5d0"
            ],
            [
             0.7,
             "#b8e186"
            ],
            [
             0.8,
             "#7fbc41"
            ],
            [
             0.9,
             "#4d9221"
            ],
            [
             1,
             "#276419"
            ]
           ],
           "sequential": [
            [
             0,
             "#0d0887"
            ],
            [
             0.1111111111111111,
             "#46039f"
            ],
            [
             0.2222222222222222,
             "#7201a8"
            ],
            [
             0.3333333333333333,
             "#9c179e"
            ],
            [
             0.4444444444444444,
             "#bd3786"
            ],
            [
             0.5555555555555556,
             "#d8576b"
            ],
            [
             0.6666666666666666,
             "#ed7953"
            ],
            [
             0.7777777777777778,
             "#fb9f3a"
            ],
            [
             0.8888888888888888,
             "#fdca26"
            ],
            [
             1,
             "#f0f921"
            ]
           ],
           "sequentialminus": [
            [
             0,
             "#0d0887"
            ],
            [
             0.1111111111111111,
             "#46039f"
            ],
            [
             0.2222222222222222,
             "#7201a8"
            ],
            [
             0.3333333333333333,
             "#9c179e"
            ],
            [
             0.4444444444444444,
             "#bd3786"
            ],
            [
             0.5555555555555556,
             "#d8576b"
            ],
            [
             0.6666666666666666,
             "#ed7953"
            ],
            [
             0.7777777777777778,
             "#fb9f3a"
            ],
            [
             0.8888888888888888,
             "#fdca26"
            ],
            [
             1,
             "#f0f921"
            ]
           ]
          },
          "colorway": [
           "#636efa",
           "#EF553B",
           "#00cc96",
           "#ab63fa",
           "#FFA15A",
           "#19d3f3",
           "#FF6692",
           "#B6E880",
           "#FF97FF",
           "#FECB52"
          ],
          "font": {
           "color": "#2a3f5f"
          },
          "geo": {
           "bgcolor": "white",
           "lakecolor": "white",
           "landcolor": "#E5ECF6",
           "showlakes": true,
           "showland": true,
           "subunitcolor": "white"
          },
          "hoverlabel": {
           "align": "left"
          },
          "hovermode": "closest",
          "mapbox": {
           "style": "light"
          },
          "paper_bgcolor": "white",
          "plot_bgcolor": "#E5ECF6",
          "polar": {
           "angularaxis": {
            "gridcolor": "white",
            "linecolor": "white",
            "ticks": ""
           },
           "bgcolor": "#E5ECF6",
           "radialaxis": {
            "gridcolor": "white",
            "linecolor": "white",
            "ticks": ""
           }
          },
          "scene": {
           "xaxis": {
            "backgroundcolor": "#E5ECF6",
            "gridcolor": "white",
            "gridwidth": 2,
            "linecolor": "white",
            "showbackground": true,
            "ticks": "",
            "zerolinecolor": "white"
           },
           "yaxis": {
            "backgroundcolor": "#E5ECF6",
            "gridcolor": "white",
            "gridwidth": 2,
            "linecolor": "white",
            "showbackground": true,
            "ticks": "",
            "zerolinecolor": "white"
           },
           "zaxis": {
            "backgroundcolor": "#E5ECF6",
            "gridcolor": "white",
            "gridwidth": 2,
            "linecolor": "white",
            "showbackground": true,
            "ticks": "",
            "zerolinecolor": "white"
           }
          },
          "shapedefaults": {
           "line": {
            "color": "#2a3f5f"
           }
          },
          "ternary": {
           "aaxis": {
            "gridcolor": "white",
            "linecolor": "white",
            "ticks": ""
           },
           "baxis": {
            "gridcolor": "white",
            "linecolor": "white",
            "ticks": ""
           },
           "bgcolor": "#E5ECF6",
           "caxis": {
            "gridcolor": "white",
            "linecolor": "white",
            "ticks": ""
           }
          },
          "title": {
           "x": 0.05
          },
          "xaxis": {
           "automargin": true,
           "gridcolor": "white",
           "linecolor": "white",
           "ticks": "",
           "title": {
            "standoff": 15
           },
           "zerolinecolor": "white",
           "zerolinewidth": 2
          },
          "yaxis": {
           "automargin": true,
           "gridcolor": "white",
           "linecolor": "white",
           "ticks": "",
           "title": {
            "standoff": 15
           },
           "zerolinecolor": "white",
           "zerolinewidth": 2
          }
         }
        },
        "title": {
         "text": "Confusion Matrix for Naive Bayes"
        },
        "xaxis": {
         "scaleanchor": "y",
         "scaleratio": 1,
         "title": {
          "text": "Predicted Label"
         }
        },
        "yaxis": {
         "title": {
          "text": "Actual Label"
         }
        }
       }
      }
     },
     "metadata": {},
     "output_type": "display_data"
    },
    {
     "name": "stdout",
     "output_type": "stream",
     "text": [
      "\n",
      "Training Decision Tree...\n"
     ]
    },
    {
     "data": {
      "application/vnd.plotly.v1+json": {
       "config": {
        "plotlyServerURL": "https://plot.ly"
       },
       "data": [
        {
         "colorscale": [
          [
           0,
           "rgb(247,251,255)"
          ],
          [
           0.125,
           "rgb(222,235,247)"
          ],
          [
           0.25,
           "rgb(198,219,239)"
          ],
          [
           0.375,
           "rgb(158,202,225)"
          ],
          [
           0.5,
           "rgb(107,174,214)"
          ],
          [
           0.625,
           "rgb(66,146,198)"
          ],
          [
           0.75,
           "rgb(33,113,181)"
          ],
          [
           0.875,
           "rgb(8,81,156)"
          ],
          [
           1,
           "rgb(8,48,107)"
          ]
         ],
         "showscale": true,
         "text": [
          [
           8,
           5,
           1,
           2,
           4,
           1
          ],
          [
           0,
           13,
           0,
           0,
           0,
           2
          ],
          [
           1,
           1,
           11,
           0,
           0,
           0
          ],
          [
           0,
           0,
           0,
           21,
           0,
           0
          ],
          [
           3,
           0,
           0,
           1,
           6,
           4
          ],
          [
           1,
           1,
           2,
           0,
           0,
           11
          ]
         ],
         "texttemplate": "%{text}",
         "type": "heatmap",
         "x": [
          "Predicted 0",
          "Predicted 1",
          "Predicted 2",
          "Predicted 3",
          "Predicted 4",
          "Predicted 5"
         ],
         "y": [
          "Actual 0",
          "Actual 1",
          "Actual 2",
          "Actual 3",
          "Actual 4",
          "Actual 5"
         ],
         "z": [
          [
           8,
           5,
           1,
           2,
           4,
           1
          ],
          [
           0,
           13,
           0,
           0,
           0,
           2
          ],
          [
           1,
           1,
           11,
           0,
           0,
           0
          ],
          [
           0,
           0,
           0,
           21,
           0,
           0
          ],
          [
           3,
           0,
           0,
           1,
           6,
           4
          ],
          [
           1,
           1,
           2,
           0,
           0,
           11
          ]
         ]
        }
       ],
       "layout": {
        "template": {
         "data": {
          "bar": [
           {
            "error_x": {
             "color": "#2a3f5f"
            },
            "error_y": {
             "color": "#2a3f5f"
            },
            "marker": {
             "line": {
              "color": "#E5ECF6",
              "width": 0.5
             },
             "pattern": {
              "fillmode": "overlay",
              "size": 10,
              "solidity": 0.2
             }
            },
            "type": "bar"
           }
          ],
          "barpolar": [
           {
            "marker": {
             "line": {
              "color": "#E5ECF6",
              "width": 0.5
             },
             "pattern": {
              "fillmode": "overlay",
              "size": 10,
              "solidity": 0.2
             }
            },
            "type": "barpolar"
           }
          ],
          "carpet": [
           {
            "aaxis": {
             "endlinecolor": "#2a3f5f",
             "gridcolor": "white",
             "linecolor": "white",
             "minorgridcolor": "white",
             "startlinecolor": "#2a3f5f"
            },
            "baxis": {
             "endlinecolor": "#2a3f5f",
             "gridcolor": "white",
             "linecolor": "white",
             "minorgridcolor": "white",
             "startlinecolor": "#2a3f5f"
            },
            "type": "carpet"
           }
          ],
          "choropleth": [
           {
            "colorbar": {
             "outlinewidth": 0,
             "ticks": ""
            },
            "type": "choropleth"
           }
          ],
          "contour": [
           {
            "colorbar": {
             "outlinewidth": 0,
             "ticks": ""
            },
            "colorscale": [
             [
              0,
              "#0d0887"
             ],
             [
              0.1111111111111111,
              "#46039f"
             ],
             [
              0.2222222222222222,
              "#7201a8"
             ],
             [
              0.3333333333333333,
              "#9c179e"
             ],
             [
              0.4444444444444444,
              "#bd3786"
             ],
             [
              0.5555555555555556,
              "#d8576b"
             ],
             [
              0.6666666666666666,
              "#ed7953"
             ],
             [
              0.7777777777777778,
              "#fb9f3a"
             ],
             [
              0.8888888888888888,
              "#fdca26"
             ],
             [
              1,
              "#f0f921"
             ]
            ],
            "type": "contour"
           }
          ],
          "contourcarpet": [
           {
            "colorbar": {
             "outlinewidth": 0,
             "ticks": ""
            },
            "type": "contourcarpet"
           }
          ],
          "heatmap": [
           {
            "colorbar": {
             "outlinewidth": 0,
             "ticks": ""
            },
            "colorscale": [
             [
              0,
              "#0d0887"
             ],
             [
              0.1111111111111111,
              "#46039f"
             ],
             [
              0.2222222222222222,
              "#7201a8"
             ],
             [
              0.3333333333333333,
              "#9c179e"
             ],
             [
              0.4444444444444444,
              "#bd3786"
             ],
             [
              0.5555555555555556,
              "#d8576b"
             ],
             [
              0.6666666666666666,
              "#ed7953"
             ],
             [
              0.7777777777777778,
              "#fb9f3a"
             ],
             [
              0.8888888888888888,
              "#fdca26"
             ],
             [
              1,
              "#f0f921"
             ]
            ],
            "type": "heatmap"
           }
          ],
          "heatmapgl": [
           {
            "colorbar": {
             "outlinewidth": 0,
             "ticks": ""
            },
            "colorscale": [
             [
              0,
              "#0d0887"
             ],
             [
              0.1111111111111111,
              "#46039f"
             ],
             [
              0.2222222222222222,
              "#7201a8"
             ],
             [
              0.3333333333333333,
              "#9c179e"
             ],
             [
              0.4444444444444444,
              "#bd3786"
             ],
             [
              0.5555555555555556,
              "#d8576b"
             ],
             [
              0.6666666666666666,
              "#ed7953"
             ],
             [
              0.7777777777777778,
              "#fb9f3a"
             ],
             [
              0.8888888888888888,
              "#fdca26"
             ],
             [
              1,
              "#f0f921"
             ]
            ],
            "type": "heatmapgl"
           }
          ],
          "histogram": [
           {
            "marker": {
             "pattern": {
              "fillmode": "overlay",
              "size": 10,
              "solidity": 0.2
             }
            },
            "type": "histogram"
           }
          ],
          "histogram2d": [
           {
            "colorbar": {
             "outlinewidth": 0,
             "ticks": ""
            },
            "colorscale": [
             [
              0,
              "#0d0887"
             ],
             [
              0.1111111111111111,
              "#46039f"
             ],
             [
              0.2222222222222222,
              "#7201a8"
             ],
             [
              0.3333333333333333,
              "#9c179e"
             ],
             [
              0.4444444444444444,
              "#bd3786"
             ],
             [
              0.5555555555555556,
              "#d8576b"
             ],
             [
              0.6666666666666666,
              "#ed7953"
             ],
             [
              0.7777777777777778,
              "#fb9f3a"
             ],
             [
              0.8888888888888888,
              "#fdca26"
             ],
             [
              1,
              "#f0f921"
             ]
            ],
            "type": "histogram2d"
           }
          ],
          "histogram2dcontour": [
           {
            "colorbar": {
             "outlinewidth": 0,
             "ticks": ""
            },
            "colorscale": [
             [
              0,
              "#0d0887"
             ],
             [
              0.1111111111111111,
              "#46039f"
             ],
             [
              0.2222222222222222,
              "#7201a8"
             ],
             [
              0.3333333333333333,
              "#9c179e"
             ],
             [
              0.4444444444444444,
              "#bd3786"
             ],
             [
              0.5555555555555556,
              "#d8576b"
             ],
             [
              0.6666666666666666,
              "#ed7953"
             ],
             [
              0.7777777777777778,
              "#fb9f3a"
             ],
             [
              0.8888888888888888,
              "#fdca26"
             ],
             [
              1,
              "#f0f921"
             ]
            ],
            "type": "histogram2dcontour"
           }
          ],
          "mesh3d": [
           {
            "colorbar": {
             "outlinewidth": 0,
             "ticks": ""
            },
            "type": "mesh3d"
           }
          ],
          "parcoords": [
           {
            "line": {
             "colorbar": {
              "outlinewidth": 0,
              "ticks": ""
             }
            },
            "type": "parcoords"
           }
          ],
          "pie": [
           {
            "automargin": true,
            "type": "pie"
           }
          ],
          "scatter": [
           {
            "fillpattern": {
             "fillmode": "overlay",
             "size": 10,
             "solidity": 0.2
            },
            "type": "scatter"
           }
          ],
          "scatter3d": [
           {
            "line": {
             "colorbar": {
              "outlinewidth": 0,
              "ticks": ""
             }
            },
            "marker": {
             "colorbar": {
              "outlinewidth": 0,
              "ticks": ""
             }
            },
            "type": "scatter3d"
           }
          ],
          "scattercarpet": [
           {
            "marker": {
             "colorbar": {
              "outlinewidth": 0,
              "ticks": ""
             }
            },
            "type": "scattercarpet"
           }
          ],
          "scattergeo": [
           {
            "marker": {
             "colorbar": {
              "outlinewidth": 0,
              "ticks": ""
             }
            },
            "type": "scattergeo"
           }
          ],
          "scattergl": [
           {
            "marker": {
             "colorbar": {
              "outlinewidth": 0,
              "ticks": ""
             }
            },
            "type": "scattergl"
           }
          ],
          "scattermapbox": [
           {
            "marker": {
             "colorbar": {
              "outlinewidth": 0,
              "ticks": ""
             }
            },
            "type": "scattermapbox"
           }
          ],
          "scatterpolar": [
           {
            "marker": {
             "colorbar": {
              "outlinewidth": 0,
              "ticks": ""
             }
            },
            "type": "scatterpolar"
           }
          ],
          "scatterpolargl": [
           {
            "marker": {
             "colorbar": {
              "outlinewidth": 0,
              "ticks": ""
             }
            },
            "type": "scatterpolargl"
           }
          ],
          "scatterternary": [
           {
            "marker": {
             "colorbar": {
              "outlinewidth": 0,
              "ticks": ""
             }
            },
            "type": "scatterternary"
           }
          ],
          "surface": [
           {
            "colorbar": {
             "outlinewidth": 0,
             "ticks": ""
            },
            "colorscale": [
             [
              0,
              "#0d0887"
             ],
             [
              0.1111111111111111,
              "#46039f"
             ],
             [
              0.2222222222222222,
              "#7201a8"
             ],
             [
              0.3333333333333333,
              "#9c179e"
             ],
             [
              0.4444444444444444,
              "#bd3786"
             ],
             [
              0.5555555555555556,
              "#d8576b"
             ],
             [
              0.6666666666666666,
              "#ed7953"
             ],
             [
              0.7777777777777778,
              "#fb9f3a"
             ],
             [
              0.8888888888888888,
              "#fdca26"
             ],
             [
              1,
              "#f0f921"
             ]
            ],
            "type": "surface"
           }
          ],
          "table": [
           {
            "cells": {
             "fill": {
              "color": "#EBF0F8"
             },
             "line": {
              "color": "white"
             }
            },
            "header": {
             "fill": {
              "color": "#C8D4E3"
             },
             "line": {
              "color": "white"
             }
            },
            "type": "table"
           }
          ]
         },
         "layout": {
          "annotationdefaults": {
           "arrowcolor": "#2a3f5f",
           "arrowhead": 0,
           "arrowwidth": 1
          },
          "autotypenumbers": "strict",
          "coloraxis": {
           "colorbar": {
            "outlinewidth": 0,
            "ticks": ""
           }
          },
          "colorscale": {
           "diverging": [
            [
             0,
             "#8e0152"
            ],
            [
             0.1,
             "#c51b7d"
            ],
            [
             0.2,
             "#de77ae"
            ],
            [
             0.3,
             "#f1b6da"
            ],
            [
             0.4,
             "#fde0ef"
            ],
            [
             0.5,
             "#f7f7f7"
            ],
            [
             0.6,
             "#e6f5d0"
            ],
            [
             0.7,
             "#b8e186"
            ],
            [
             0.8,
             "#7fbc41"
            ],
            [
             0.9,
             "#4d9221"
            ],
            [
             1,
             "#276419"
            ]
           ],
           "sequential": [
            [
             0,
             "#0d0887"
            ],
            [
             0.1111111111111111,
             "#46039f"
            ],
            [
             0.2222222222222222,
             "#7201a8"
            ],
            [
             0.3333333333333333,
             "#9c179e"
            ],
            [
             0.4444444444444444,
             "#bd3786"
            ],
            [
             0.5555555555555556,
             "#d8576b"
            ],
            [
             0.6666666666666666,
             "#ed7953"
            ],
            [
             0.7777777777777778,
             "#fb9f3a"
            ],
            [
             0.8888888888888888,
             "#fdca26"
            ],
            [
             1,
             "#f0f921"
            ]
           ],
           "sequentialminus": [
            [
             0,
             "#0d0887"
            ],
            [
             0.1111111111111111,
             "#46039f"
            ],
            [
             0.2222222222222222,
             "#7201a8"
            ],
            [
             0.3333333333333333,
             "#9c179e"
            ],
            [
             0.4444444444444444,
             "#bd3786"
            ],
            [
             0.5555555555555556,
             "#d8576b"
            ],
            [
             0.6666666666666666,
             "#ed7953"
            ],
            [
             0.7777777777777778,
             "#fb9f3a"
            ],
            [
             0.8888888888888888,
             "#fdca26"
            ],
            [
             1,
             "#f0f921"
            ]
           ]
          },
          "colorway": [
           "#636efa",
           "#EF553B",
           "#00cc96",
           "#ab63fa",
           "#FFA15A",
           "#19d3f3",
           "#FF6692",
           "#B6E880",
           "#FF97FF",
           "#FECB52"
          ],
          "font": {
           "color": "#2a3f5f"
          },
          "geo": {
           "bgcolor": "white",
           "lakecolor": "white",
           "landcolor": "#E5ECF6",
           "showlakes": true,
           "showland": true,
           "subunitcolor": "white"
          },
          "hoverlabel": {
           "align": "left"
          },
          "hovermode": "closest",
          "mapbox": {
           "style": "light"
          },
          "paper_bgcolor": "white",
          "plot_bgcolor": "#E5ECF6",
          "polar": {
           "angularaxis": {
            "gridcolor": "white",
            "linecolor": "white",
            "ticks": ""
           },
           "bgcolor": "#E5ECF6",
           "radialaxis": {
            "gridcolor": "white",
            "linecolor": "white",
            "ticks": ""
           }
          },
          "scene": {
           "xaxis": {
            "backgroundcolor": "#E5ECF6",
            "gridcolor": "white",
            "gridwidth": 2,
            "linecolor": "white",
            "showbackground": true,
            "ticks": "",
            "zerolinecolor": "white"
           },
           "yaxis": {
            "backgroundcolor": "#E5ECF6",
            "gridcolor": "white",
            "gridwidth": 2,
            "linecolor": "white",
            "showbackground": true,
            "ticks": "",
            "zerolinecolor": "white"
           },
           "zaxis": {
            "backgroundcolor": "#E5ECF6",
            "gridcolor": "white",
            "gridwidth": 2,
            "linecolor": "white",
            "showbackground": true,
            "ticks": "",
            "zerolinecolor": "white"
           }
          },
          "shapedefaults": {
           "line": {
            "color": "#2a3f5f"
           }
          },
          "ternary": {
           "aaxis": {
            "gridcolor": "white",
            "linecolor": "white",
            "ticks": ""
           },
           "baxis": {
            "gridcolor": "white",
            "linecolor": "white",
            "ticks": ""
           },
           "bgcolor": "#E5ECF6",
           "caxis": {
            "gridcolor": "white",
            "linecolor": "white",
            "ticks": ""
           }
          },
          "title": {
           "x": 0.05
          },
          "xaxis": {
           "automargin": true,
           "gridcolor": "white",
           "linecolor": "white",
           "ticks": "",
           "title": {
            "standoff": 15
           },
           "zerolinecolor": "white",
           "zerolinewidth": 2
          },
          "yaxis": {
           "automargin": true,
           "gridcolor": "white",
           "linecolor": "white",
           "ticks": "",
           "title": {
            "standoff": 15
           },
           "zerolinecolor": "white",
           "zerolinewidth": 2
          }
         }
        },
        "title": {
         "text": "Confusion Matrix for Decision Tree"
        },
        "xaxis": {
         "scaleanchor": "y",
         "scaleratio": 1,
         "title": {
          "text": "Predicted Label"
         }
        },
        "yaxis": {
         "title": {
          "text": "Actual Label"
         }
        }
       }
      }
     },
     "metadata": {},
     "output_type": "display_data"
    },
    {
     "name": "stdout",
     "output_type": "stream",
     "text": [
      "\n",
      "Training XGBoost...\n"
     ]
    },
    {
     "data": {
      "application/vnd.plotly.v1+json": {
       "config": {
        "plotlyServerURL": "https://plot.ly"
       },
       "data": [
        {
         "colorscale": [
          [
           0,
           "rgb(247,251,255)"
          ],
          [
           0.125,
           "rgb(222,235,247)"
          ],
          [
           0.25,
           "rgb(198,219,239)"
          ],
          [
           0.375,
           "rgb(158,202,225)"
          ],
          [
           0.5,
           "rgb(107,174,214)"
          ],
          [
           0.625,
           "rgb(66,146,198)"
          ],
          [
           0.75,
           "rgb(33,113,181)"
          ],
          [
           0.875,
           "rgb(8,81,156)"
          ],
          [
           1,
           "rgb(8,48,107)"
          ]
         ],
         "showscale": true,
         "text": [
          [
           14,
           3,
           0,
           0,
           4,
           0
          ],
          [
           2,
           10,
           1,
           0,
           1,
           1
          ],
          [
           0,
           0,
           13,
           0,
           0,
           0
          ],
          [
           0,
           0,
           0,
           21,
           0,
           0
          ],
          [
           2,
           2,
           0,
           0,
           10,
           0
          ],
          [
           1,
           2,
           1,
           0,
           0,
           11
          ]
         ],
         "texttemplate": "%{text}",
         "type": "heatmap",
         "x": [
          "Predicted 0",
          "Predicted 1",
          "Predicted 2",
          "Predicted 3",
          "Predicted 4",
          "Predicted 5"
         ],
         "y": [
          "Actual 0",
          "Actual 1",
          "Actual 2",
          "Actual 3",
          "Actual 4",
          "Actual 5"
         ],
         "z": [
          [
           14,
           3,
           0,
           0,
           4,
           0
          ],
          [
           2,
           10,
           1,
           0,
           1,
           1
          ],
          [
           0,
           0,
           13,
           0,
           0,
           0
          ],
          [
           0,
           0,
           0,
           21,
           0,
           0
          ],
          [
           2,
           2,
           0,
           0,
           10,
           0
          ],
          [
           1,
           2,
           1,
           0,
           0,
           11
          ]
         ]
        }
       ],
       "layout": {
        "template": {
         "data": {
          "bar": [
           {
            "error_x": {
             "color": "#2a3f5f"
            },
            "error_y": {
             "color": "#2a3f5f"
            },
            "marker": {
             "line": {
              "color": "#E5ECF6",
              "width": 0.5
             },
             "pattern": {
              "fillmode": "overlay",
              "size": 10,
              "solidity": 0.2
             }
            },
            "type": "bar"
           }
          ],
          "barpolar": [
           {
            "marker": {
             "line": {
              "color": "#E5ECF6",
              "width": 0.5
             },
             "pattern": {
              "fillmode": "overlay",
              "size": 10,
              "solidity": 0.2
             }
            },
            "type": "barpolar"
           }
          ],
          "carpet": [
           {
            "aaxis": {
             "endlinecolor": "#2a3f5f",
             "gridcolor": "white",
             "linecolor": "white",
             "minorgridcolor": "white",
             "startlinecolor": "#2a3f5f"
            },
            "baxis": {
             "endlinecolor": "#2a3f5f",
             "gridcolor": "white",
             "linecolor": "white",
             "minorgridcolor": "white",
             "startlinecolor": "#2a3f5f"
            },
            "type": "carpet"
           }
          ],
          "choropleth": [
           {
            "colorbar": {
             "outlinewidth": 0,
             "ticks": ""
            },
            "type": "choropleth"
           }
          ],
          "contour": [
           {
            "colorbar": {
             "outlinewidth": 0,
             "ticks": ""
            },
            "colorscale": [
             [
              0,
              "#0d0887"
             ],
             [
              0.1111111111111111,
              "#46039f"
             ],
             [
              0.2222222222222222,
              "#7201a8"
             ],
             [
              0.3333333333333333,
              "#9c179e"
             ],
             [
              0.4444444444444444,
              "#bd3786"
             ],
             [
              0.5555555555555556,
              "#d8576b"
             ],
             [
              0.6666666666666666,
              "#ed7953"
             ],
             [
              0.7777777777777778,
              "#fb9f3a"
             ],
             [
              0.8888888888888888,
              "#fdca26"
             ],
             [
              1,
              "#f0f921"
             ]
            ],
            "type": "contour"
           }
          ],
          "contourcarpet": [
           {
            "colorbar": {
             "outlinewidth": 0,
             "ticks": ""
            },
            "type": "contourcarpet"
           }
          ],
          "heatmap": [
           {
            "colorbar": {
             "outlinewidth": 0,
             "ticks": ""
            },
            "colorscale": [
             [
              0,
              "#0d0887"
             ],
             [
              0.1111111111111111,
              "#46039f"
             ],
             [
              0.2222222222222222,
              "#7201a8"
             ],
             [
              0.3333333333333333,
              "#9c179e"
             ],
             [
              0.4444444444444444,
              "#bd3786"
             ],
             [
              0.5555555555555556,
              "#d8576b"
             ],
             [
              0.6666666666666666,
              "#ed7953"
             ],
             [
              0.7777777777777778,
              "#fb9f3a"
             ],
             [
              0.8888888888888888,
              "#fdca26"
             ],
             [
              1,
              "#f0f921"
             ]
            ],
            "type": "heatmap"
           }
          ],
          "heatmapgl": [
           {
            "colorbar": {
             "outlinewidth": 0,
             "ticks": ""
            },
            "colorscale": [
             [
              0,
              "#0d0887"
             ],
             [
              0.1111111111111111,
              "#46039f"
             ],
             [
              0.2222222222222222,
              "#7201a8"
             ],
             [
              0.3333333333333333,
              "#9c179e"
             ],
             [
              0.4444444444444444,
              "#bd3786"
             ],
             [
              0.5555555555555556,
              "#d8576b"
             ],
             [
              0.6666666666666666,
              "#ed7953"
             ],
             [
              0.7777777777777778,
              "#fb9f3a"
             ],
             [
              0.8888888888888888,
              "#fdca26"
             ],
             [
              1,
              "#f0f921"
             ]
            ],
            "type": "heatmapgl"
           }
          ],
          "histogram": [
           {
            "marker": {
             "pattern": {
              "fillmode": "overlay",
              "size": 10,
              "solidity": 0.2
             }
            },
            "type": "histogram"
           }
          ],
          "histogram2d": [
           {
            "colorbar": {
             "outlinewidth": 0,
             "ticks": ""
            },
            "colorscale": [
             [
              0,
              "#0d0887"
             ],
             [
              0.1111111111111111,
              "#46039f"
             ],
             [
              0.2222222222222222,
              "#7201a8"
             ],
             [
              0.3333333333333333,
              "#9c179e"
             ],
             [
              0.4444444444444444,
              "#bd3786"
             ],
             [
              0.5555555555555556,
              "#d8576b"
             ],
             [
              0.6666666666666666,
              "#ed7953"
             ],
             [
              0.7777777777777778,
              "#fb9f3a"
             ],
             [
              0.8888888888888888,
              "#fdca26"
             ],
             [
              1,
              "#f0f921"
             ]
            ],
            "type": "histogram2d"
           }
          ],
          "histogram2dcontour": [
           {
            "colorbar": {
             "outlinewidth": 0,
             "ticks": ""
            },
            "colorscale": [
             [
              0,
              "#0d0887"
             ],
             [
              0.1111111111111111,
              "#46039f"
             ],
             [
              0.2222222222222222,
              "#7201a8"
             ],
             [
              0.3333333333333333,
              "#9c179e"
             ],
             [
              0.4444444444444444,
              "#bd3786"
             ],
             [
              0.5555555555555556,
              "#d8576b"
             ],
             [
              0.6666666666666666,
              "#ed7953"
             ],
             [
              0.7777777777777778,
              "#fb9f3a"
             ],
             [
              0.8888888888888888,
              "#fdca26"
             ],
             [
              1,
              "#f0f921"
             ]
            ],
            "type": "histogram2dcontour"
           }
          ],
          "mesh3d": [
           {
            "colorbar": {
             "outlinewidth": 0,
             "ticks": ""
            },
            "type": "mesh3d"
           }
          ],
          "parcoords": [
           {
            "line": {
             "colorbar": {
              "outlinewidth": 0,
              "ticks": ""
             }
            },
            "type": "parcoords"
           }
          ],
          "pie": [
           {
            "automargin": true,
            "type": "pie"
           }
          ],
          "scatter": [
           {
            "fillpattern": {
             "fillmode": "overlay",
             "size": 10,
             "solidity": 0.2
            },
            "type": "scatter"
           }
          ],
          "scatter3d": [
           {
            "line": {
             "colorbar": {
              "outlinewidth": 0,
              "ticks": ""
             }
            },
            "marker": {
             "colorbar": {
              "outlinewidth": 0,
              "ticks": ""
             }
            },
            "type": "scatter3d"
           }
          ],
          "scattercarpet": [
           {
            "marker": {
             "colorbar": {
              "outlinewidth": 0,
              "ticks": ""
             }
            },
            "type": "scattercarpet"
           }
          ],
          "scattergeo": [
           {
            "marker": {
             "colorbar": {
              "outlinewidth": 0,
              "ticks": ""
             }
            },
            "type": "scattergeo"
           }
          ],
          "scattergl": [
           {
            "marker": {
             "colorbar": {
              "outlinewidth": 0,
              "ticks": ""
             }
            },
            "type": "scattergl"
           }
          ],
          "scattermapbox": [
           {
            "marker": {
             "colorbar": {
              "outlinewidth": 0,
              "ticks": ""
             }
            },
            "type": "scattermapbox"
           }
          ],
          "scatterpolar": [
           {
            "marker": {
             "colorbar": {
              "outlinewidth": 0,
              "ticks": ""
             }
            },
            "type": "scatterpolar"
           }
          ],
          "scatterpolargl": [
           {
            "marker": {
             "colorbar": {
              "outlinewidth": 0,
              "ticks": ""
             }
            },
            "type": "scatterpolargl"
           }
          ],
          "scatterternary": [
           {
            "marker": {
             "colorbar": {
              "outlinewidth": 0,
              "ticks": ""
             }
            },
            "type": "scatterternary"
           }
          ],
          "surface": [
           {
            "colorbar": {
             "outlinewidth": 0,
             "ticks": ""
            },
            "colorscale": [
             [
              0,
              "#0d0887"
             ],
             [
              0.1111111111111111,
              "#46039f"
             ],
             [
              0.2222222222222222,
              "#7201a8"
             ],
             [
              0.3333333333333333,
              "#9c179e"
             ],
             [
              0.4444444444444444,
              "#bd3786"
             ],
             [
              0.5555555555555556,
              "#d8576b"
             ],
             [
              0.6666666666666666,
              "#ed7953"
             ],
             [
              0.7777777777777778,
              "#fb9f3a"
             ],
             [
              0.8888888888888888,
              "#fdca26"
             ],
             [
              1,
              "#f0f921"
             ]
            ],
            "type": "surface"
           }
          ],
          "table": [
           {
            "cells": {
             "fill": {
              "color": "#EBF0F8"
             },
             "line": {
              "color": "white"
             }
            },
            "header": {
             "fill": {
              "color": "#C8D4E3"
             },
             "line": {
              "color": "white"
             }
            },
            "type": "table"
           }
          ]
         },
         "layout": {
          "annotationdefaults": {
           "arrowcolor": "#2a3f5f",
           "arrowhead": 0,
           "arrowwidth": 1
          },
          "autotypenumbers": "strict",
          "coloraxis": {
           "colorbar": {
            "outlinewidth": 0,
            "ticks": ""
           }
          },
          "colorscale": {
           "diverging": [
            [
             0,
             "#8e0152"
            ],
            [
             0.1,
             "#c51b7d"
            ],
            [
             0.2,
             "#de77ae"
            ],
            [
             0.3,
             "#f1b6da"
            ],
            [
             0.4,
             "#fde0ef"
            ],
            [
             0.5,
             "#f7f7f7"
            ],
            [
             0.6,
             "#e6f5d0"
            ],
            [
             0.7,
             "#b8e186"
            ],
            [
             0.8,
             "#7fbc41"
            ],
            [
             0.9,
             "#4d9221"
            ],
            [
             1,
             "#276419"
            ]
           ],
           "sequential": [
            [
             0,
             "#0d0887"
            ],
            [
             0.1111111111111111,
             "#46039f"
            ],
            [
             0.2222222222222222,
             "#7201a8"
            ],
            [
             0.3333333333333333,
             "#9c179e"
            ],
            [
             0.4444444444444444,
             "#bd3786"
            ],
            [
             0.5555555555555556,
             "#d8576b"
            ],
            [
             0.6666666666666666,
             "#ed7953"
            ],
            [
             0.7777777777777778,
             "#fb9f3a"
            ],
            [
             0.8888888888888888,
             "#fdca26"
            ],
            [
             1,
             "#f0f921"
            ]
           ],
           "sequentialminus": [
            [
             0,
             "#0d0887"
            ],
            [
             0.1111111111111111,
             "#46039f"
            ],
            [
             0.2222222222222222,
             "#7201a8"
            ],
            [
             0.3333333333333333,
             "#9c179e"
            ],
            [
             0.4444444444444444,
             "#bd3786"
            ],
            [
             0.5555555555555556,
             "#d8576b"
            ],
            [
             0.6666666666666666,
             "#ed7953"
            ],
            [
             0.7777777777777778,
             "#fb9f3a"
            ],
            [
             0.8888888888888888,
             "#fdca26"
            ],
            [
             1,
             "#f0f921"
            ]
           ]
          },
          "colorway": [
           "#636efa",
           "#EF553B",
           "#00cc96",
           "#ab63fa",
           "#FFA15A",
           "#19d3f3",
           "#FF6692",
           "#B6E880",
           "#FF97FF",
           "#FECB52"
          ],
          "font": {
           "color": "#2a3f5f"
          },
          "geo": {
           "bgcolor": "white",
           "lakecolor": "white",
           "landcolor": "#E5ECF6",
           "showlakes": true,
           "showland": true,
           "subunitcolor": "white"
          },
          "hoverlabel": {
           "align": "left"
          },
          "hovermode": "closest",
          "mapbox": {
           "style": "light"
          },
          "paper_bgcolor": "white",
          "plot_bgcolor": "#E5ECF6",
          "polar": {
           "angularaxis": {
            "gridcolor": "white",
            "linecolor": "white",
            "ticks": ""
           },
           "bgcolor": "#E5ECF6",
           "radialaxis": {
            "gridcolor": "white",
            "linecolor": "white",
            "ticks": ""
           }
          },
          "scene": {
           "xaxis": {
            "backgroundcolor": "#E5ECF6",
            "gridcolor": "white",
            "gridwidth": 2,
            "linecolor": "white",
            "showbackground": true,
            "ticks": "",
            "zerolinecolor": "white"
           },
           "yaxis": {
            "backgroundcolor": "#E5ECF6",
            "gridcolor": "white",
            "gridwidth": 2,
            "linecolor": "white",
            "showbackground": true,
            "ticks": "",
            "zerolinecolor": "white"
           },
           "zaxis": {
            "backgroundcolor": "#E5ECF6",
            "gridcolor": "white",
            "gridwidth": 2,
            "linecolor": "white",
            "showbackground": true,
            "ticks": "",
            "zerolinecolor": "white"
           }
          },
          "shapedefaults": {
           "line": {
            "color": "#2a3f5f"
           }
          },
          "ternary": {
           "aaxis": {
            "gridcolor": "white",
            "linecolor": "white",
            "ticks": ""
           },
           "baxis": {
            "gridcolor": "white",
            "linecolor": "white",
            "ticks": ""
           },
           "bgcolor": "#E5ECF6",
           "caxis": {
            "gridcolor": "white",
            "linecolor": "white",
            "ticks": ""
           }
          },
          "title": {
           "x": 0.05
          },
          "xaxis": {
           "automargin": true,
           "gridcolor": "white",
           "linecolor": "white",
           "ticks": "",
           "title": {
            "standoff": 15
           },
           "zerolinecolor": "white",
           "zerolinewidth": 2
          },
          "yaxis": {
           "automargin": true,
           "gridcolor": "white",
           "linecolor": "white",
           "ticks": "",
           "title": {
            "standoff": 15
           },
           "zerolinecolor": "white",
           "zerolinewidth": 2
          }
         }
        },
        "title": {
         "text": "Confusion Matrix for XGBoost"
        },
        "xaxis": {
         "scaleanchor": "y",
         "scaleratio": 1,
         "title": {
          "text": "Predicted Label"
         }
        },
        "yaxis": {
         "title": {
          "text": "Actual Label"
         }
        }
       }
      }
     },
     "metadata": {},
     "output_type": "display_data"
    },
    {
     "name": "stdout",
     "output_type": "stream",
     "text": [
      "\n",
      "Training SVC_linear...\n"
     ]
    },
    {
     "data": {
      "application/vnd.plotly.v1+json": {
       "config": {
        "plotlyServerURL": "https://plot.ly"
       },
       "data": [
        {
         "colorscale": [
          [
           0,
           "rgb(247,251,255)"
          ],
          [
           0.125,
           "rgb(222,235,247)"
          ],
          [
           0.25,
           "rgb(198,219,239)"
          ],
          [
           0.375,
           "rgb(158,202,225)"
          ],
          [
           0.5,
           "rgb(107,174,214)"
          ],
          [
           0.625,
           "rgb(66,146,198)"
          ],
          [
           0.75,
           "rgb(33,113,181)"
          ],
          [
           0.875,
           "rgb(8,81,156)"
          ],
          [
           1,
           "rgb(8,48,107)"
          ]
         ],
         "showscale": true,
         "text": [
          [
           12,
           2,
           0,
           2,
           5,
           0
          ],
          [
           0,
           12,
           0,
           1,
           2,
           0
          ],
          [
           0,
           0,
           12,
           0,
           0,
           1
          ],
          [
           3,
           1,
           0,
           17,
           0,
           0
          ],
          [
           5,
           2,
           0,
           0,
           7,
           0
          ],
          [
           1,
           0,
           0,
           0,
           2,
           12
          ]
         ],
         "texttemplate": "%{text}",
         "type": "heatmap",
         "x": [
          "Predicted 0",
          "Predicted 1",
          "Predicted 2",
          "Predicted 3",
          "Predicted 4",
          "Predicted 5"
         ],
         "y": [
          "Actual 0",
          "Actual 1",
          "Actual 2",
          "Actual 3",
          "Actual 4",
          "Actual 5"
         ],
         "z": [
          [
           12,
           2,
           0,
           2,
           5,
           0
          ],
          [
           0,
           12,
           0,
           1,
           2,
           0
          ],
          [
           0,
           0,
           12,
           0,
           0,
           1
          ],
          [
           3,
           1,
           0,
           17,
           0,
           0
          ],
          [
           5,
           2,
           0,
           0,
           7,
           0
          ],
          [
           1,
           0,
           0,
           0,
           2,
           12
          ]
         ]
        }
       ],
       "layout": {
        "template": {
         "data": {
          "bar": [
           {
            "error_x": {
             "color": "#2a3f5f"
            },
            "error_y": {
             "color": "#2a3f5f"
            },
            "marker": {
             "line": {
              "color": "#E5ECF6",
              "width": 0.5
             },
             "pattern": {
              "fillmode": "overlay",
              "size": 10,
              "solidity": 0.2
             }
            },
            "type": "bar"
           }
          ],
          "barpolar": [
           {
            "marker": {
             "line": {
              "color": "#E5ECF6",
              "width": 0.5
             },
             "pattern": {
              "fillmode": "overlay",
              "size": 10,
              "solidity": 0.2
             }
            },
            "type": "barpolar"
           }
          ],
          "carpet": [
           {
            "aaxis": {
             "endlinecolor": "#2a3f5f",
             "gridcolor": "white",
             "linecolor": "white",
             "minorgridcolor": "white",
             "startlinecolor": "#2a3f5f"
            },
            "baxis": {
             "endlinecolor": "#2a3f5f",
             "gridcolor": "white",
             "linecolor": "white",
             "minorgridcolor": "white",
             "startlinecolor": "#2a3f5f"
            },
            "type": "carpet"
           }
          ],
          "choropleth": [
           {
            "colorbar": {
             "outlinewidth": 0,
             "ticks": ""
            },
            "type": "choropleth"
           }
          ],
          "contour": [
           {
            "colorbar": {
             "outlinewidth": 0,
             "ticks": ""
            },
            "colorscale": [
             [
              0,
              "#0d0887"
             ],
             [
              0.1111111111111111,
              "#46039f"
             ],
             [
              0.2222222222222222,
              "#7201a8"
             ],
             [
              0.3333333333333333,
              "#9c179e"
             ],
             [
              0.4444444444444444,
              "#bd3786"
             ],
             [
              0.5555555555555556,
              "#d8576b"
             ],
             [
              0.6666666666666666,
              "#ed7953"
             ],
             [
              0.7777777777777778,
              "#fb9f3a"
             ],
             [
              0.8888888888888888,
              "#fdca26"
             ],
             [
              1,
              "#f0f921"
             ]
            ],
            "type": "contour"
           }
          ],
          "contourcarpet": [
           {
            "colorbar": {
             "outlinewidth": 0,
             "ticks": ""
            },
            "type": "contourcarpet"
           }
          ],
          "heatmap": [
           {
            "colorbar": {
             "outlinewidth": 0,
             "ticks": ""
            },
            "colorscale": [
             [
              0,
              "#0d0887"
             ],
             [
              0.1111111111111111,
              "#46039f"
             ],
             [
              0.2222222222222222,
              "#7201a8"
             ],
             [
              0.3333333333333333,
              "#9c179e"
             ],
             [
              0.4444444444444444,
              "#bd3786"
             ],
             [
              0.5555555555555556,
              "#d8576b"
             ],
             [
              0.6666666666666666,
              "#ed7953"
             ],
             [
              0.7777777777777778,
              "#fb9f3a"
             ],
             [
              0.8888888888888888,
              "#fdca26"
             ],
             [
              1,
              "#f0f921"
             ]
            ],
            "type": "heatmap"
           }
          ],
          "heatmapgl": [
           {
            "colorbar": {
             "outlinewidth": 0,
             "ticks": ""
            },
            "colorscale": [
             [
              0,
              "#0d0887"
             ],
             [
              0.1111111111111111,
              "#46039f"
             ],
             [
              0.2222222222222222,
              "#7201a8"
             ],
             [
              0.3333333333333333,
              "#9c179e"
             ],
             [
              0.4444444444444444,
              "#bd3786"
             ],
             [
              0.5555555555555556,
              "#d8576b"
             ],
             [
              0.6666666666666666,
              "#ed7953"
             ],
             [
              0.7777777777777778,
              "#fb9f3a"
             ],
             [
              0.8888888888888888,
              "#fdca26"
             ],
             [
              1,
              "#f0f921"
             ]
            ],
            "type": "heatmapgl"
           }
          ],
          "histogram": [
           {
            "marker": {
             "pattern": {
              "fillmode": "overlay",
              "size": 10,
              "solidity": 0.2
             }
            },
            "type": "histogram"
           }
          ],
          "histogram2d": [
           {
            "colorbar": {
             "outlinewidth": 0,
             "ticks": ""
            },
            "colorscale": [
             [
              0,
              "#0d0887"
             ],
             [
              0.1111111111111111,
              "#46039f"
             ],
             [
              0.2222222222222222,
              "#7201a8"
             ],
             [
              0.3333333333333333,
              "#9c179e"
             ],
             [
              0.4444444444444444,
              "#bd3786"
             ],
             [
              0.5555555555555556,
              "#d8576b"
             ],
             [
              0.6666666666666666,
              "#ed7953"
             ],
             [
              0.7777777777777778,
              "#fb9f3a"
             ],
             [
              0.8888888888888888,
              "#fdca26"
             ],
             [
              1,
              "#f0f921"
             ]
            ],
            "type": "histogram2d"
           }
          ],
          "histogram2dcontour": [
           {
            "colorbar": {
             "outlinewidth": 0,
             "ticks": ""
            },
            "colorscale": [
             [
              0,
              "#0d0887"
             ],
             [
              0.1111111111111111,
              "#46039f"
             ],
             [
              0.2222222222222222,
              "#7201a8"
             ],
             [
              0.3333333333333333,
              "#9c179e"
             ],
             [
              0.4444444444444444,
              "#bd3786"
             ],
             [
              0.5555555555555556,
              "#d8576b"
             ],
             [
              0.6666666666666666,
              "#ed7953"
             ],
             [
              0.7777777777777778,
              "#fb9f3a"
             ],
             [
              0.8888888888888888,
              "#fdca26"
             ],
             [
              1,
              "#f0f921"
             ]
            ],
            "type": "histogram2dcontour"
           }
          ],
          "mesh3d": [
           {
            "colorbar": {
             "outlinewidth": 0,
             "ticks": ""
            },
            "type": "mesh3d"
           }
          ],
          "parcoords": [
           {
            "line": {
             "colorbar": {
              "outlinewidth": 0,
              "ticks": ""
             }
            },
            "type": "parcoords"
           }
          ],
          "pie": [
           {
            "automargin": true,
            "type": "pie"
           }
          ],
          "scatter": [
           {
            "fillpattern": {
             "fillmode": "overlay",
             "size": 10,
             "solidity": 0.2
            },
            "type": "scatter"
           }
          ],
          "scatter3d": [
           {
            "line": {
             "colorbar": {
              "outlinewidth": 0,
              "ticks": ""
             }
            },
            "marker": {
             "colorbar": {
              "outlinewidth": 0,
              "ticks": ""
             }
            },
            "type": "scatter3d"
           }
          ],
          "scattercarpet": [
           {
            "marker": {
             "colorbar": {
              "outlinewidth": 0,
              "ticks": ""
             }
            },
            "type": "scattercarpet"
           }
          ],
          "scattergeo": [
           {
            "marker": {
             "colorbar": {
              "outlinewidth": 0,
              "ticks": ""
             }
            },
            "type": "scattergeo"
           }
          ],
          "scattergl": [
           {
            "marker": {
             "colorbar": {
              "outlinewidth": 0,
              "ticks": ""
             }
            },
            "type": "scattergl"
           }
          ],
          "scattermapbox": [
           {
            "marker": {
             "colorbar": {
              "outlinewidth": 0,
              "ticks": ""
             }
            },
            "type": "scattermapbox"
           }
          ],
          "scatterpolar": [
           {
            "marker": {
             "colorbar": {
              "outlinewidth": 0,
              "ticks": ""
             }
            },
            "type": "scatterpolar"
           }
          ],
          "scatterpolargl": [
           {
            "marker": {
             "colorbar": {
              "outlinewidth": 0,
              "ticks": ""
             }
            },
            "type": "scatterpolargl"
           }
          ],
          "scatterternary": [
           {
            "marker": {
             "colorbar": {
              "outlinewidth": 0,
              "ticks": ""
             }
            },
            "type": "scatterternary"
           }
          ],
          "surface": [
           {
            "colorbar": {
             "outlinewidth": 0,
             "ticks": ""
            },
            "colorscale": [
             [
              0,
              "#0d0887"
             ],
             [
              0.1111111111111111,
              "#46039f"
             ],
             [
              0.2222222222222222,
              "#7201a8"
             ],
             [
              0.3333333333333333,
              "#9c179e"
             ],
             [
              0.4444444444444444,
              "#bd3786"
             ],
             [
              0.5555555555555556,
              "#d8576b"
             ],
             [
              0.6666666666666666,
              "#ed7953"
             ],
             [
              0.7777777777777778,
              "#fb9f3a"
             ],
             [
              0.8888888888888888,
              "#fdca26"
             ],
             [
              1,
              "#f0f921"
             ]
            ],
            "type": "surface"
           }
          ],
          "table": [
           {
            "cells": {
             "fill": {
              "color": "#EBF0F8"
             },
             "line": {
              "color": "white"
             }
            },
            "header": {
             "fill": {
              "color": "#C8D4E3"
             },
             "line": {
              "color": "white"
             }
            },
            "type": "table"
           }
          ]
         },
         "layout": {
          "annotationdefaults": {
           "arrowcolor": "#2a3f5f",
           "arrowhead": 0,
           "arrowwidth": 1
          },
          "autotypenumbers": "strict",
          "coloraxis": {
           "colorbar": {
            "outlinewidth": 0,
            "ticks": ""
           }
          },
          "colorscale": {
           "diverging": [
            [
             0,
             "#8e0152"
            ],
            [
             0.1,
             "#c51b7d"
            ],
            [
             0.2,
             "#de77ae"
            ],
            [
             0.3,
             "#f1b6da"
            ],
            [
             0.4,
             "#fde0ef"
            ],
            [
             0.5,
             "#f7f7f7"
            ],
            [
             0.6,
             "#e6f5d0"
            ],
            [
             0.7,
             "#b8e186"
            ],
            [
             0.8,
             "#7fbc41"
            ],
            [
             0.9,
             "#4d9221"
            ],
            [
             1,
             "#276419"
            ]
           ],
           "sequential": [
            [
             0,
             "#0d0887"
            ],
            [
             0.1111111111111111,
             "#46039f"
            ],
            [
             0.2222222222222222,
             "#7201a8"
            ],
            [
             0.3333333333333333,
             "#9c179e"
            ],
            [
             0.4444444444444444,
             "#bd3786"
            ],
            [
             0.5555555555555556,
             "#d8576b"
            ],
            [
             0.6666666666666666,
             "#ed7953"
            ],
            [
             0.7777777777777778,
             "#fb9f3a"
            ],
            [
             0.8888888888888888,
             "#fdca26"
            ],
            [
             1,
             "#f0f921"
            ]
           ],
           "sequentialminus": [
            [
             0,
             "#0d0887"
            ],
            [
             0.1111111111111111,
             "#46039f"
            ],
            [
             0.2222222222222222,
             "#7201a8"
            ],
            [
             0.3333333333333333,
             "#9c179e"
            ],
            [
             0.4444444444444444,
             "#bd3786"
            ],
            [
             0.5555555555555556,
             "#d8576b"
            ],
            [
             0.6666666666666666,
             "#ed7953"
            ],
            [
             0.7777777777777778,
             "#fb9f3a"
            ],
            [
             0.8888888888888888,
             "#fdca26"
            ],
            [
             1,
             "#f0f921"
            ]
           ]
          },
          "colorway": [
           "#636efa",
           "#EF553B",
           "#00cc96",
           "#ab63fa",
           "#FFA15A",
           "#19d3f3",
           "#FF6692",
           "#B6E880",
           "#FF97FF",
           "#FECB52"
          ],
          "font": {
           "color": "#2a3f5f"
          },
          "geo": {
           "bgcolor": "white",
           "lakecolor": "white",
           "landcolor": "#E5ECF6",
           "showlakes": true,
           "showland": true,
           "subunitcolor": "white"
          },
          "hoverlabel": {
           "align": "left"
          },
          "hovermode": "closest",
          "mapbox": {
           "style": "light"
          },
          "paper_bgcolor": "white",
          "plot_bgcolor": "#E5ECF6",
          "polar": {
           "angularaxis": {
            "gridcolor": "white",
            "linecolor": "white",
            "ticks": ""
           },
           "bgcolor": "#E5ECF6",
           "radialaxis": {
            "gridcolor": "white",
            "linecolor": "white",
            "ticks": ""
           }
          },
          "scene": {
           "xaxis": {
            "backgroundcolor": "#E5ECF6",
            "gridcolor": "white",
            "gridwidth": 2,
            "linecolor": "white",
            "showbackground": true,
            "ticks": "",
            "zerolinecolor": "white"
           },
           "yaxis": {
            "backgroundcolor": "#E5ECF6",
            "gridcolor": "white",
            "gridwidth": 2,
            "linecolor": "white",
            "showbackground": true,
            "ticks": "",
            "zerolinecolor": "white"
           },
           "zaxis": {
            "backgroundcolor": "#E5ECF6",
            "gridcolor": "white",
            "gridwidth": 2,
            "linecolor": "white",
            "showbackground": true,
            "ticks": "",
            "zerolinecolor": "white"
           }
          },
          "shapedefaults": {
           "line": {
            "color": "#2a3f5f"
           }
          },
          "ternary": {
           "aaxis": {
            "gridcolor": "white",
            "linecolor": "white",
            "ticks": ""
           },
           "baxis": {
            "gridcolor": "white",
            "linecolor": "white",
            "ticks": ""
           },
           "bgcolor": "#E5ECF6",
           "caxis": {
            "gridcolor": "white",
            "linecolor": "white",
            "ticks": ""
           }
          },
          "title": {
           "x": 0.05
          },
          "xaxis": {
           "automargin": true,
           "gridcolor": "white",
           "linecolor": "white",
           "ticks": "",
           "title": {
            "standoff": 15
           },
           "zerolinecolor": "white",
           "zerolinewidth": 2
          },
          "yaxis": {
           "automargin": true,
           "gridcolor": "white",
           "linecolor": "white",
           "ticks": "",
           "title": {
            "standoff": 15
           },
           "zerolinecolor": "white",
           "zerolinewidth": 2
          }
         }
        },
        "title": {
         "text": "Confusion Matrix for SVC_linear"
        },
        "xaxis": {
         "scaleanchor": "y",
         "scaleratio": 1,
         "title": {
          "text": "Predicted Label"
         }
        },
        "yaxis": {
         "title": {
          "text": "Actual Label"
         }
        }
       }
      }
     },
     "metadata": {},
     "output_type": "display_data"
    },
    {
     "name": "stdout",
     "output_type": "stream",
     "text": [
      "\n",
      "Training SVC_rbf...\n"
     ]
    },
    {
     "name": "stderr",
     "output_type": "stream",
     "text": [
      "/home/nirav24/.local/lib/python3.12/site-packages/sklearn/metrics/_classification.py:1531: UndefinedMetricWarning:\n",
      "\n",
      "Precision is ill-defined and being set to 0.0 in labels with no predicted samples. Use `zero_division` parameter to control this behavior.\n",
      "\n",
      "/home/nirav24/.local/lib/python3.12/site-packages/sklearn/metrics/_classification.py:1531: UndefinedMetricWarning:\n",
      "\n",
      "Precision is ill-defined and being set to 0.0 in labels with no predicted samples. Use `zero_division` parameter to control this behavior.\n",
      "\n",
      "/home/nirav24/.local/lib/python3.12/site-packages/sklearn/metrics/_classification.py:1531: UndefinedMetricWarning:\n",
      "\n",
      "Precision is ill-defined and being set to 0.0 in labels with no predicted samples. Use `zero_division` parameter to control this behavior.\n",
      "\n",
      "/home/nirav24/.local/lib/python3.12/site-packages/sklearn/metrics/_classification.py:1531: UndefinedMetricWarning:\n",
      "\n",
      "Precision is ill-defined and being set to 0.0 in labels with no predicted samples. Use `zero_division` parameter to control this behavior.\n",
      "\n"
     ]
    },
    {
     "data": {
      "application/vnd.plotly.v1+json": {
       "config": {
        "plotlyServerURL": "https://plot.ly"
       },
       "data": [
        {
         "colorscale": [
          [
           0,
           "rgb(247,251,255)"
          ],
          [
           0.125,
           "rgb(222,235,247)"
          ],
          [
           0.25,
           "rgb(198,219,239)"
          ],
          [
           0.375,
           "rgb(158,202,225)"
          ],
          [
           0.5,
           "rgb(107,174,214)"
          ],
          [
           0.625,
           "rgb(66,146,198)"
          ],
          [
           0.75,
           "rgb(33,113,181)"
          ],
          [
           0.875,
           "rgb(8,81,156)"
          ],
          [
           1,
           "rgb(8,48,107)"
          ]
         ],
         "showscale": true,
         "text": [
          [
           5,
           1,
           6,
           9,
           0,
           0
          ],
          [
           6,
           0,
           1,
           8,
           0,
           0
          ],
          [
           0,
           0,
           13,
           0,
           0,
           0
          ],
          [
           6,
           0,
           2,
           13,
           0,
           0
          ],
          [
           2,
           1,
           4,
           7,
           0,
           0
          ],
          [
           1,
           1,
           0,
           12,
           0,
           1
          ]
         ],
         "texttemplate": "%{text}",
         "type": "heatmap",
         "x": [
          "Predicted 0",
          "Predicted 1",
          "Predicted 2",
          "Predicted 3",
          "Predicted 4",
          "Predicted 5"
         ],
         "y": [
          "Actual 0",
          "Actual 1",
          "Actual 2",
          "Actual 3",
          "Actual 4",
          "Actual 5"
         ],
         "z": [
          [
           5,
           1,
           6,
           9,
           0,
           0
          ],
          [
           6,
           0,
           1,
           8,
           0,
           0
          ],
          [
           0,
           0,
           13,
           0,
           0,
           0
          ],
          [
           6,
           0,
           2,
           13,
           0,
           0
          ],
          [
           2,
           1,
           4,
           7,
           0,
           0
          ],
          [
           1,
           1,
           0,
           12,
           0,
           1
          ]
         ]
        }
       ],
       "layout": {
        "template": {
         "data": {
          "bar": [
           {
            "error_x": {
             "color": "#2a3f5f"
            },
            "error_y": {
             "color": "#2a3f5f"
            },
            "marker": {
             "line": {
              "color": "#E5ECF6",
              "width": 0.5
             },
             "pattern": {
              "fillmode": "overlay",
              "size": 10,
              "solidity": 0.2
             }
            },
            "type": "bar"
           }
          ],
          "barpolar": [
           {
            "marker": {
             "line": {
              "color": "#E5ECF6",
              "width": 0.5
             },
             "pattern": {
              "fillmode": "overlay",
              "size": 10,
              "solidity": 0.2
             }
            },
            "type": "barpolar"
           }
          ],
          "carpet": [
           {
            "aaxis": {
             "endlinecolor": "#2a3f5f",
             "gridcolor": "white",
             "linecolor": "white",
             "minorgridcolor": "white",
             "startlinecolor": "#2a3f5f"
            },
            "baxis": {
             "endlinecolor": "#2a3f5f",
             "gridcolor": "white",
             "linecolor": "white",
             "minorgridcolor": "white",
             "startlinecolor": "#2a3f5f"
            },
            "type": "carpet"
           }
          ],
          "choropleth": [
           {
            "colorbar": {
             "outlinewidth": 0,
             "ticks": ""
            },
            "type": "choropleth"
           }
          ],
          "contour": [
           {
            "colorbar": {
             "outlinewidth": 0,
             "ticks": ""
            },
            "colorscale": [
             [
              0,
              "#0d0887"
             ],
             [
              0.1111111111111111,
              "#46039f"
             ],
             [
              0.2222222222222222,
              "#7201a8"
             ],
             [
              0.3333333333333333,
              "#9c179e"
             ],
             [
              0.4444444444444444,
              "#bd3786"
             ],
             [
              0.5555555555555556,
              "#d8576b"
             ],
             [
              0.6666666666666666,
              "#ed7953"
             ],
             [
              0.7777777777777778,
              "#fb9f3a"
             ],
             [
              0.8888888888888888,
              "#fdca26"
             ],
             [
              1,
              "#f0f921"
             ]
            ],
            "type": "contour"
           }
          ],
          "contourcarpet": [
           {
            "colorbar": {
             "outlinewidth": 0,
             "ticks": ""
            },
            "type": "contourcarpet"
           }
          ],
          "heatmap": [
           {
            "colorbar": {
             "outlinewidth": 0,
             "ticks": ""
            },
            "colorscale": [
             [
              0,
              "#0d0887"
             ],
             [
              0.1111111111111111,
              "#46039f"
             ],
             [
              0.2222222222222222,
              "#7201a8"
             ],
             [
              0.3333333333333333,
              "#9c179e"
             ],
             [
              0.4444444444444444,
              "#bd3786"
             ],
             [
              0.5555555555555556,
              "#d8576b"
             ],
             [
              0.6666666666666666,
              "#ed7953"
             ],
             [
              0.7777777777777778,
              "#fb9f3a"
             ],
             [
              0.8888888888888888,
              "#fdca26"
             ],
             [
              1,
              "#f0f921"
             ]
            ],
            "type": "heatmap"
           }
          ],
          "heatmapgl": [
           {
            "colorbar": {
             "outlinewidth": 0,
             "ticks": ""
            },
            "colorscale": [
             [
              0,
              "#0d0887"
             ],
             [
              0.1111111111111111,
              "#46039f"
             ],
             [
              0.2222222222222222,
              "#7201a8"
             ],
             [
              0.3333333333333333,
              "#9c179e"
             ],
             [
              0.4444444444444444,
              "#bd3786"
             ],
             [
              0.5555555555555556,
              "#d8576b"
             ],
             [
              0.6666666666666666,
              "#ed7953"
             ],
             [
              0.7777777777777778,
              "#fb9f3a"
             ],
             [
              0.8888888888888888,
              "#fdca26"
             ],
             [
              1,
              "#f0f921"
             ]
            ],
            "type": "heatmapgl"
           }
          ],
          "histogram": [
           {
            "marker": {
             "pattern": {
              "fillmode": "overlay",
              "size": 10,
              "solidity": 0.2
             }
            },
            "type": "histogram"
           }
          ],
          "histogram2d": [
           {
            "colorbar": {
             "outlinewidth": 0,
             "ticks": ""
            },
            "colorscale": [
             [
              0,
              "#0d0887"
             ],
             [
              0.1111111111111111,
              "#46039f"
             ],
             [
              0.2222222222222222,
              "#7201a8"
             ],
             [
              0.3333333333333333,
              "#9c179e"
             ],
             [
              0.4444444444444444,
              "#bd3786"
             ],
             [
              0.5555555555555556,
              "#d8576b"
             ],
             [
              0.6666666666666666,
              "#ed7953"
             ],
             [
              0.7777777777777778,
              "#fb9f3a"
             ],
             [
              0.8888888888888888,
              "#fdca26"
             ],
             [
              1,
              "#f0f921"
             ]
            ],
            "type": "histogram2d"
           }
          ],
          "histogram2dcontour": [
           {
            "colorbar": {
             "outlinewidth": 0,
             "ticks": ""
            },
            "colorscale": [
             [
              0,
              "#0d0887"
             ],
             [
              0.1111111111111111,
              "#46039f"
             ],
             [
              0.2222222222222222,
              "#7201a8"
             ],
             [
              0.3333333333333333,
              "#9c179e"
             ],
             [
              0.4444444444444444,
              "#bd3786"
             ],
             [
              0.5555555555555556,
              "#d8576b"
             ],
             [
              0.6666666666666666,
              "#ed7953"
             ],
             [
              0.7777777777777778,
              "#fb9f3a"
             ],
             [
              0.8888888888888888,
              "#fdca26"
             ],
             [
              1,
              "#f0f921"
             ]
            ],
            "type": "histogram2dcontour"
           }
          ],
          "mesh3d": [
           {
            "colorbar": {
             "outlinewidth": 0,
             "ticks": ""
            },
            "type": "mesh3d"
           }
          ],
          "parcoords": [
           {
            "line": {
             "colorbar": {
              "outlinewidth": 0,
              "ticks": ""
             }
            },
            "type": "parcoords"
           }
          ],
          "pie": [
           {
            "automargin": true,
            "type": "pie"
           }
          ],
          "scatter": [
           {
            "fillpattern": {
             "fillmode": "overlay",
             "size": 10,
             "solidity": 0.2
            },
            "type": "scatter"
           }
          ],
          "scatter3d": [
           {
            "line": {
             "colorbar": {
              "outlinewidth": 0,
              "ticks": ""
             }
            },
            "marker": {
             "colorbar": {
              "outlinewidth": 0,
              "ticks": ""
             }
            },
            "type": "scatter3d"
           }
          ],
          "scattercarpet": [
           {
            "marker": {
             "colorbar": {
              "outlinewidth": 0,
              "ticks": ""
             }
            },
            "type": "scattercarpet"
           }
          ],
          "scattergeo": [
           {
            "marker": {
             "colorbar": {
              "outlinewidth": 0,
              "ticks": ""
             }
            },
            "type": "scattergeo"
           }
          ],
          "scattergl": [
           {
            "marker": {
             "colorbar": {
              "outlinewidth": 0,
              "ticks": ""
             }
            },
            "type": "scattergl"
           }
          ],
          "scattermapbox": [
           {
            "marker": {
             "colorbar": {
              "outlinewidth": 0,
              "ticks": ""
             }
            },
            "type": "scattermapbox"
           }
          ],
          "scatterpolar": [
           {
            "marker": {
             "colorbar": {
              "outlinewidth": 0,
              "ticks": ""
             }
            },
            "type": "scatterpolar"
           }
          ],
          "scatterpolargl": [
           {
            "marker": {
             "colorbar": {
              "outlinewidth": 0,
              "ticks": ""
             }
            },
            "type": "scatterpolargl"
           }
          ],
          "scatterternary": [
           {
            "marker": {
             "colorbar": {
              "outlinewidth": 0,
              "ticks": ""
             }
            },
            "type": "scatterternary"
           }
          ],
          "surface": [
           {
            "colorbar": {
             "outlinewidth": 0,
             "ticks": ""
            },
            "colorscale": [
             [
              0,
              "#0d0887"
             ],
             [
              0.1111111111111111,
              "#46039f"
             ],
             [
              0.2222222222222222,
              "#7201a8"
             ],
             [
              0.3333333333333333,
              "#9c179e"
             ],
             [
              0.4444444444444444,
              "#bd3786"
             ],
             [
              0.5555555555555556,
              "#d8576b"
             ],
             [
              0.6666666666666666,
              "#ed7953"
             ],
             [
              0.7777777777777778,
              "#fb9f3a"
             ],
             [
              0.8888888888888888,
              "#fdca26"
             ],
             [
              1,
              "#f0f921"
             ]
            ],
            "type": "surface"
           }
          ],
          "table": [
           {
            "cells": {
             "fill": {
              "color": "#EBF0F8"
             },
             "line": {
              "color": "white"
             }
            },
            "header": {
             "fill": {
              "color": "#C8D4E3"
             },
             "line": {
              "color": "white"
             }
            },
            "type": "table"
           }
          ]
         },
         "layout": {
          "annotationdefaults": {
           "arrowcolor": "#2a3f5f",
           "arrowhead": 0,
           "arrowwidth": 1
          },
          "autotypenumbers": "strict",
          "coloraxis": {
           "colorbar": {
            "outlinewidth": 0,
            "ticks": ""
           }
          },
          "colorscale": {
           "diverging": [
            [
             0,
             "#8e0152"
            ],
            [
             0.1,
             "#c51b7d"
            ],
            [
             0.2,
             "#de77ae"
            ],
            [
             0.3,
             "#f1b6da"
            ],
            [
             0.4,
             "#fde0ef"
            ],
            [
             0.5,
             "#f7f7f7"
            ],
            [
             0.6,
             "#e6f5d0"
            ],
            [
             0.7,
             "#b8e186"
            ],
            [
             0.8,
             "#7fbc41"
            ],
            [
             0.9,
             "#4d9221"
            ],
            [
             1,
             "#276419"
            ]
           ],
           "sequential": [
            [
             0,
             "#0d0887"
            ],
            [
             0.1111111111111111,
             "#46039f"
            ],
            [
             0.2222222222222222,
             "#7201a8"
            ],
            [
             0.3333333333333333,
             "#9c179e"
            ],
            [
             0.4444444444444444,
             "#bd3786"
            ],
            [
             0.5555555555555556,
             "#d8576b"
            ],
            [
             0.6666666666666666,
             "#ed7953"
            ],
            [
             0.7777777777777778,
             "#fb9f3a"
            ],
            [
             0.8888888888888888,
             "#fdca26"
            ],
            [
             1,
             "#f0f921"
            ]
           ],
           "sequentialminus": [
            [
             0,
             "#0d0887"
            ],
            [
             0.1111111111111111,
             "#46039f"
            ],
            [
             0.2222222222222222,
             "#7201a8"
            ],
            [
             0.3333333333333333,
             "#9c179e"
            ],
            [
             0.4444444444444444,
             "#bd3786"
            ],
            [
             0.5555555555555556,
             "#d8576b"
            ],
            [
             0.6666666666666666,
             "#ed7953"
            ],
            [
             0.7777777777777778,
             "#fb9f3a"
            ],
            [
             0.8888888888888888,
             "#fdca26"
            ],
            [
             1,
             "#f0f921"
            ]
           ]
          },
          "colorway": [
           "#636efa",
           "#EF553B",
           "#00cc96",
           "#ab63fa",
           "#FFA15A",
           "#19d3f3",
           "#FF6692",
           "#B6E880",
           "#FF97FF",
           "#FECB52"
          ],
          "font": {
           "color": "#2a3f5f"
          },
          "geo": {
           "bgcolor": "white",
           "lakecolor": "white",
           "landcolor": "#E5ECF6",
           "showlakes": true,
           "showland": true,
           "subunitcolor": "white"
          },
          "hoverlabel": {
           "align": "left"
          },
          "hovermode": "closest",
          "mapbox": {
           "style": "light"
          },
          "paper_bgcolor": "white",
          "plot_bgcolor": "#E5ECF6",
          "polar": {
           "angularaxis": {
            "gridcolor": "white",
            "linecolor": "white",
            "ticks": ""
           },
           "bgcolor": "#E5ECF6",
           "radialaxis": {
            "gridcolor": "white",
            "linecolor": "white",
            "ticks": ""
           }
          },
          "scene": {
           "xaxis": {
            "backgroundcolor": "#E5ECF6",
            "gridcolor": "white",
            "gridwidth": 2,
            "linecolor": "white",
            "showbackground": true,
            "ticks": "",
            "zerolinecolor": "white"
           },
           "yaxis": {
            "backgroundcolor": "#E5ECF6",
            "gridcolor": "white",
            "gridwidth": 2,
            "linecolor": "white",
            "showbackground": true,
            "ticks": "",
            "zerolinecolor": "white"
           },
           "zaxis": {
            "backgroundcolor": "#E5ECF6",
            "gridcolor": "white",
            "gridwidth": 2,
            "linecolor": "white",
            "showbackground": true,
            "ticks": "",
            "zerolinecolor": "white"
           }
          },
          "shapedefaults": {
           "line": {
            "color": "#2a3f5f"
           }
          },
          "ternary": {
           "aaxis": {
            "gridcolor": "white",
            "linecolor": "white",
            "ticks": ""
           },
           "baxis": {
            "gridcolor": "white",
            "linecolor": "white",
            "ticks": ""
           },
           "bgcolor": "#E5ECF6",
           "caxis": {
            "gridcolor": "white",
            "linecolor": "white",
            "ticks": ""
           }
          },
          "title": {
           "x": 0.05
          },
          "xaxis": {
           "automargin": true,
           "gridcolor": "white",
           "linecolor": "white",
           "ticks": "",
           "title": {
            "standoff": 15
           },
           "zerolinecolor": "white",
           "zerolinewidth": 2
          },
          "yaxis": {
           "automargin": true,
           "gridcolor": "white",
           "linecolor": "white",
           "ticks": "",
           "title": {
            "standoff": 15
           },
           "zerolinecolor": "white",
           "zerolinewidth": 2
          }
         }
        },
        "title": {
         "text": "Confusion Matrix for SVC_rbf"
        },
        "xaxis": {
         "scaleanchor": "y",
         "scaleratio": 1,
         "title": {
          "text": "Predicted Label"
         }
        },
        "yaxis": {
         "title": {
          "text": "Actual Label"
         }
        }
       }
      }
     },
     "metadata": {},
     "output_type": "display_data"
    },
    {
     "name": "stdout",
     "output_type": "stream",
     "text": [
      "\n",
      "Training RandomForest_1...\n"
     ]
    },
    {
     "data": {
      "application/vnd.plotly.v1+json": {
       "config": {
        "plotlyServerURL": "https://plot.ly"
       },
       "data": [
        {
         "colorscale": [
          [
           0,
           "rgb(247,251,255)"
          ],
          [
           0.125,
           "rgb(222,235,247)"
          ],
          [
           0.25,
           "rgb(198,219,239)"
          ],
          [
           0.375,
           "rgb(158,202,225)"
          ],
          [
           0.5,
           "rgb(107,174,214)"
          ],
          [
           0.625,
           "rgb(66,146,198)"
          ],
          [
           0.75,
           "rgb(33,113,181)"
          ],
          [
           0.875,
           "rgb(8,81,156)"
          ],
          [
           1,
           "rgb(8,48,107)"
          ]
         ],
         "showscale": true,
         "text": [
          [
           16,
           3,
           0,
           0,
           2,
           0
          ],
          [
           1,
           11,
           1,
           0,
           1,
           1
          ],
          [
           0,
           0,
           13,
           0,
           0,
           0
          ],
          [
           0,
           1,
           0,
           20,
           0,
           0
          ],
          [
           5,
           1,
           0,
           0,
           8,
           0
          ],
          [
           1,
           0,
           0,
           0,
           0,
           14
          ]
         ],
         "texttemplate": "%{text}",
         "type": "heatmap",
         "x": [
          "Predicted 0",
          "Predicted 1",
          "Predicted 2",
          "Predicted 3",
          "Predicted 4",
          "Predicted 5"
         ],
         "y": [
          "Actual 0",
          "Actual 1",
          "Actual 2",
          "Actual 3",
          "Actual 4",
          "Actual 5"
         ],
         "z": [
          [
           16,
           3,
           0,
           0,
           2,
           0
          ],
          [
           1,
           11,
           1,
           0,
           1,
           1
          ],
          [
           0,
           0,
           13,
           0,
           0,
           0
          ],
          [
           0,
           1,
           0,
           20,
           0,
           0
          ],
          [
           5,
           1,
           0,
           0,
           8,
           0
          ],
          [
           1,
           0,
           0,
           0,
           0,
           14
          ]
         ]
        }
       ],
       "layout": {
        "template": {
         "data": {
          "bar": [
           {
            "error_x": {
             "color": "#2a3f5f"
            },
            "error_y": {
             "color": "#2a3f5f"
            },
            "marker": {
             "line": {
              "color": "#E5ECF6",
              "width": 0.5
             },
             "pattern": {
              "fillmode": "overlay",
              "size": 10,
              "solidity": 0.2
             }
            },
            "type": "bar"
           }
          ],
          "barpolar": [
           {
            "marker": {
             "line": {
              "color": "#E5ECF6",
              "width": 0.5
             },
             "pattern": {
              "fillmode": "overlay",
              "size": 10,
              "solidity": 0.2
             }
            },
            "type": "barpolar"
           }
          ],
          "carpet": [
           {
            "aaxis": {
             "endlinecolor": "#2a3f5f",
             "gridcolor": "white",
             "linecolor": "white",
             "minorgridcolor": "white",
             "startlinecolor": "#2a3f5f"
            },
            "baxis": {
             "endlinecolor": "#2a3f5f",
             "gridcolor": "white",
             "linecolor": "white",
             "minorgridcolor": "white",
             "startlinecolor": "#2a3f5f"
            },
            "type": "carpet"
           }
          ],
          "choropleth": [
           {
            "colorbar": {
             "outlinewidth": 0,
             "ticks": ""
            },
            "type": "choropleth"
           }
          ],
          "contour": [
           {
            "colorbar": {
             "outlinewidth": 0,
             "ticks": ""
            },
            "colorscale": [
             [
              0,
              "#0d0887"
             ],
             [
              0.1111111111111111,
              "#46039f"
             ],
             [
              0.2222222222222222,
              "#7201a8"
             ],
             [
              0.3333333333333333,
              "#9c179e"
             ],
             [
              0.4444444444444444,
              "#bd3786"
             ],
             [
              0.5555555555555556,
              "#d8576b"
             ],
             [
              0.6666666666666666,
              "#ed7953"
             ],
             [
              0.7777777777777778,
              "#fb9f3a"
             ],
             [
              0.8888888888888888,
              "#fdca26"
             ],
             [
              1,
              "#f0f921"
             ]
            ],
            "type": "contour"
           }
          ],
          "contourcarpet": [
           {
            "colorbar": {
             "outlinewidth": 0,
             "ticks": ""
            },
            "type": "contourcarpet"
           }
          ],
          "heatmap": [
           {
            "colorbar": {
             "outlinewidth": 0,
             "ticks": ""
            },
            "colorscale": [
             [
              0,
              "#0d0887"
             ],
             [
              0.1111111111111111,
              "#46039f"
             ],
             [
              0.2222222222222222,
              "#7201a8"
             ],
             [
              0.3333333333333333,
              "#9c179e"
             ],
             [
              0.4444444444444444,
              "#bd3786"
             ],
             [
              0.5555555555555556,
              "#d8576b"
             ],
             [
              0.6666666666666666,
              "#ed7953"
             ],
             [
              0.7777777777777778,
              "#fb9f3a"
             ],
             [
              0.8888888888888888,
              "#fdca26"
             ],
             [
              1,
              "#f0f921"
             ]
            ],
            "type": "heatmap"
           }
          ],
          "heatmapgl": [
           {
            "colorbar": {
             "outlinewidth": 0,
             "ticks": ""
            },
            "colorscale": [
             [
              0,
              "#0d0887"
             ],
             [
              0.1111111111111111,
              "#46039f"
             ],
             [
              0.2222222222222222,
              "#7201a8"
             ],
             [
              0.3333333333333333,
              "#9c179e"
             ],
             [
              0.4444444444444444,
              "#bd3786"
             ],
             [
              0.5555555555555556,
              "#d8576b"
             ],
             [
              0.6666666666666666,
              "#ed7953"
             ],
             [
              0.7777777777777778,
              "#fb9f3a"
             ],
             [
              0.8888888888888888,
              "#fdca26"
             ],
             [
              1,
              "#f0f921"
             ]
            ],
            "type": "heatmapgl"
           }
          ],
          "histogram": [
           {
            "marker": {
             "pattern": {
              "fillmode": "overlay",
              "size": 10,
              "solidity": 0.2
             }
            },
            "type": "histogram"
           }
          ],
          "histogram2d": [
           {
            "colorbar": {
             "outlinewidth": 0,
             "ticks": ""
            },
            "colorscale": [
             [
              0,
              "#0d0887"
             ],
             [
              0.1111111111111111,
              "#46039f"
             ],
             [
              0.2222222222222222,
              "#7201a8"
             ],
             [
              0.3333333333333333,
              "#9c179e"
             ],
             [
              0.4444444444444444,
              "#bd3786"
             ],
             [
              0.5555555555555556,
              "#d8576b"
             ],
             [
              0.6666666666666666,
              "#ed7953"
             ],
             [
              0.7777777777777778,
              "#fb9f3a"
             ],
             [
              0.8888888888888888,
              "#fdca26"
             ],
             [
              1,
              "#f0f921"
             ]
            ],
            "type": "histogram2d"
           }
          ],
          "histogram2dcontour": [
           {
            "colorbar": {
             "outlinewidth": 0,
             "ticks": ""
            },
            "colorscale": [
             [
              0,
              "#0d0887"
             ],
             [
              0.1111111111111111,
              "#46039f"
             ],
             [
              0.2222222222222222,
              "#7201a8"
             ],
             [
              0.3333333333333333,
              "#9c179e"
             ],
             [
              0.4444444444444444,
              "#bd3786"
             ],
             [
              0.5555555555555556,
              "#d8576b"
             ],
             [
              0.6666666666666666,
              "#ed7953"
             ],
             [
              0.7777777777777778,
              "#fb9f3a"
             ],
             [
              0.8888888888888888,
              "#fdca26"
             ],
             [
              1,
              "#f0f921"
             ]
            ],
            "type": "histogram2dcontour"
           }
          ],
          "mesh3d": [
           {
            "colorbar": {
             "outlinewidth": 0,
             "ticks": ""
            },
            "type": "mesh3d"
           }
          ],
          "parcoords": [
           {
            "line": {
             "colorbar": {
              "outlinewidth": 0,
              "ticks": ""
             }
            },
            "type": "parcoords"
           }
          ],
          "pie": [
           {
            "automargin": true,
            "type": "pie"
           }
          ],
          "scatter": [
           {
            "fillpattern": {
             "fillmode": "overlay",
             "size": 10,
             "solidity": 0.2
            },
            "type": "scatter"
           }
          ],
          "scatter3d": [
           {
            "line": {
             "colorbar": {
              "outlinewidth": 0,
              "ticks": ""
             }
            },
            "marker": {
             "colorbar": {
              "outlinewidth": 0,
              "ticks": ""
             }
            },
            "type": "scatter3d"
           }
          ],
          "scattercarpet": [
           {
            "marker": {
             "colorbar": {
              "outlinewidth": 0,
              "ticks": ""
             }
            },
            "type": "scattercarpet"
           }
          ],
          "scattergeo": [
           {
            "marker": {
             "colorbar": {
              "outlinewidth": 0,
              "ticks": ""
             }
            },
            "type": "scattergeo"
           }
          ],
          "scattergl": [
           {
            "marker": {
             "colorbar": {
              "outlinewidth": 0,
              "ticks": ""
             }
            },
            "type": "scattergl"
           }
          ],
          "scattermapbox": [
           {
            "marker": {
             "colorbar": {
              "outlinewidth": 0,
              "ticks": ""
             }
            },
            "type": "scattermapbox"
           }
          ],
          "scatterpolar": [
           {
            "marker": {
             "colorbar": {
              "outlinewidth": 0,
              "ticks": ""
             }
            },
            "type": "scatterpolar"
           }
          ],
          "scatterpolargl": [
           {
            "marker": {
             "colorbar": {
              "outlinewidth": 0,
              "ticks": ""
             }
            },
            "type": "scatterpolargl"
           }
          ],
          "scatterternary": [
           {
            "marker": {
             "colorbar": {
              "outlinewidth": 0,
              "ticks": ""
             }
            },
            "type": "scatterternary"
           }
          ],
          "surface": [
           {
            "colorbar": {
             "outlinewidth": 0,
             "ticks": ""
            },
            "colorscale": [
             [
              0,
              "#0d0887"
             ],
             [
              0.1111111111111111,
              "#46039f"
             ],
             [
              0.2222222222222222,
              "#7201a8"
             ],
             [
              0.3333333333333333,
              "#9c179e"
             ],
             [
              0.4444444444444444,
              "#bd3786"
             ],
             [
              0.5555555555555556,
              "#d8576b"
             ],
             [
              0.6666666666666666,
              "#ed7953"
             ],
             [
              0.7777777777777778,
              "#fb9f3a"
             ],
             [
              0.8888888888888888,
              "#fdca26"
             ],
             [
              1,
              "#f0f921"
             ]
            ],
            "type": "surface"
           }
          ],
          "table": [
           {
            "cells": {
             "fill": {
              "color": "#EBF0F8"
             },
             "line": {
              "color": "white"
             }
            },
            "header": {
             "fill": {
              "color": "#C8D4E3"
             },
             "line": {
              "color": "white"
             }
            },
            "type": "table"
           }
          ]
         },
         "layout": {
          "annotationdefaults": {
           "arrowcolor": "#2a3f5f",
           "arrowhead": 0,
           "arrowwidth": 1
          },
          "autotypenumbers": "strict",
          "coloraxis": {
           "colorbar": {
            "outlinewidth": 0,
            "ticks": ""
           }
          },
          "colorscale": {
           "diverging": [
            [
             0,
             "#8e0152"
            ],
            [
             0.1,
             "#c51b7d"
            ],
            [
             0.2,
             "#de77ae"
            ],
            [
             0.3,
             "#f1b6da"
            ],
            [
             0.4,
             "#fde0ef"
            ],
            [
             0.5,
             "#f7f7f7"
            ],
            [
             0.6,
             "#e6f5d0"
            ],
            [
             0.7,
             "#b8e186"
            ],
            [
             0.8,
             "#7fbc41"
            ],
            [
             0.9,
             "#4d9221"
            ],
            [
             1,
             "#276419"
            ]
           ],
           "sequential": [
            [
             0,
             "#0d0887"
            ],
            [
             0.1111111111111111,
             "#46039f"
            ],
            [
             0.2222222222222222,
             "#7201a8"
            ],
            [
             0.3333333333333333,
             "#9c179e"
            ],
            [
             0.4444444444444444,
             "#bd3786"
            ],
            [
             0.5555555555555556,
             "#d8576b"
            ],
            [
             0.6666666666666666,
             "#ed7953"
            ],
            [
             0.7777777777777778,
             "#fb9f3a"
            ],
            [
             0.8888888888888888,
             "#fdca26"
            ],
            [
             1,
             "#f0f921"
            ]
           ],
           "sequentialminus": [
            [
             0,
             "#0d0887"
            ],
            [
             0.1111111111111111,
             "#46039f"
            ],
            [
             0.2222222222222222,
             "#7201a8"
            ],
            [
             0.3333333333333333,
             "#9c179e"
            ],
            [
             0.4444444444444444,
             "#bd3786"
            ],
            [
             0.5555555555555556,
             "#d8576b"
            ],
            [
             0.6666666666666666,
             "#ed7953"
            ],
            [
             0.7777777777777778,
             "#fb9f3a"
            ],
            [
             0.8888888888888888,
             "#fdca26"
            ],
            [
             1,
             "#f0f921"
            ]
           ]
          },
          "colorway": [
           "#636efa",
           "#EF553B",
           "#00cc96",
           "#ab63fa",
           "#FFA15A",
           "#19d3f3",
           "#FF6692",
           "#B6E880",
           "#FF97FF",
           "#FECB52"
          ],
          "font": {
           "color": "#2a3f5f"
          },
          "geo": {
           "bgcolor": "white",
           "lakecolor": "white",
           "landcolor": "#E5ECF6",
           "showlakes": true,
           "showland": true,
           "subunitcolor": "white"
          },
          "hoverlabel": {
           "align": "left"
          },
          "hovermode": "closest",
          "mapbox": {
           "style": "light"
          },
          "paper_bgcolor": "white",
          "plot_bgcolor": "#E5ECF6",
          "polar": {
           "angularaxis": {
            "gridcolor": "white",
            "linecolor": "white",
            "ticks": ""
           },
           "bgcolor": "#E5ECF6",
           "radialaxis": {
            "gridcolor": "white",
            "linecolor": "white",
            "ticks": ""
           }
          },
          "scene": {
           "xaxis": {
            "backgroundcolor": "#E5ECF6",
            "gridcolor": "white",
            "gridwidth": 2,
            "linecolor": "white",
            "showbackground": true,
            "ticks": "",
            "zerolinecolor": "white"
           },
           "yaxis": {
            "backgroundcolor": "#E5ECF6",
            "gridcolor": "white",
            "gridwidth": 2,
            "linecolor": "white",
            "showbackground": true,
            "ticks": "",
            "zerolinecolor": "white"
           },
           "zaxis": {
            "backgroundcolor": "#E5ECF6",
            "gridcolor": "white",
            "gridwidth": 2,
            "linecolor": "white",
            "showbackground": true,
            "ticks": "",
            "zerolinecolor": "white"
           }
          },
          "shapedefaults": {
           "line": {
            "color": "#2a3f5f"
           }
          },
          "ternary": {
           "aaxis": {
            "gridcolor": "white",
            "linecolor": "white",
            "ticks": ""
           },
           "baxis": {
            "gridcolor": "white",
            "linecolor": "white",
            "ticks": ""
           },
           "bgcolor": "#E5ECF6",
           "caxis": {
            "gridcolor": "white",
            "linecolor": "white",
            "ticks": ""
           }
          },
          "title": {
           "x": 0.05
          },
          "xaxis": {
           "automargin": true,
           "gridcolor": "white",
           "linecolor": "white",
           "ticks": "",
           "title": {
            "standoff": 15
           },
           "zerolinecolor": "white",
           "zerolinewidth": 2
          },
          "yaxis": {
           "automargin": true,
           "gridcolor": "white",
           "linecolor": "white",
           "ticks": "",
           "title": {
            "standoff": 15
           },
           "zerolinecolor": "white",
           "zerolinewidth": 2
          }
         }
        },
        "title": {
         "text": "Confusion Matrix for RandomForest_1"
        },
        "xaxis": {
         "scaleanchor": "y",
         "scaleratio": 1,
         "title": {
          "text": "Predicted Label"
         }
        },
        "yaxis": {
         "title": {
          "text": "Actual Label"
         }
        }
       }
      }
     },
     "metadata": {},
     "output_type": "display_data"
    },
    {
     "name": "stdout",
     "output_type": "stream",
     "text": [
      "\n",
      "Training RandomForest_3...\n"
     ]
    },
    {
     "data": {
      "application/vnd.plotly.v1+json": {
       "config": {
        "plotlyServerURL": "https://plot.ly"
       },
       "data": [
        {
         "colorscale": [
          [
           0,
           "rgb(247,251,255)"
          ],
          [
           0.125,
           "rgb(222,235,247)"
          ],
          [
           0.25,
           "rgb(198,219,239)"
          ],
          [
           0.375,
           "rgb(158,202,225)"
          ],
          [
           0.5,
           "rgb(107,174,214)"
          ],
          [
           0.625,
           "rgb(66,146,198)"
          ],
          [
           0.75,
           "rgb(33,113,181)"
          ],
          [
           0.875,
           "rgb(8,81,156)"
          ],
          [
           1,
           "rgb(8,48,107)"
          ]
         ],
         "showscale": true,
         "text": [
          [
           16,
           5,
           0,
           0,
           0,
           0
          ],
          [
           1,
           11,
           1,
           0,
           1,
           1
          ],
          [
           0,
           0,
           13,
           0,
           0,
           0
          ],
          [
           0,
           0,
           1,
           20,
           0,
           0
          ],
          [
           5,
           1,
           0,
           0,
           8,
           0
          ],
          [
           1,
           0,
           0,
           0,
           0,
           14
          ]
         ],
         "texttemplate": "%{text}",
         "type": "heatmap",
         "x": [
          "Predicted 0",
          "Predicted 1",
          "Predicted 2",
          "Predicted 3",
          "Predicted 4",
          "Predicted 5"
         ],
         "y": [
          "Actual 0",
          "Actual 1",
          "Actual 2",
          "Actual 3",
          "Actual 4",
          "Actual 5"
         ],
         "z": [
          [
           16,
           5,
           0,
           0,
           0,
           0
          ],
          [
           1,
           11,
           1,
           0,
           1,
           1
          ],
          [
           0,
           0,
           13,
           0,
           0,
           0
          ],
          [
           0,
           0,
           1,
           20,
           0,
           0
          ],
          [
           5,
           1,
           0,
           0,
           8,
           0
          ],
          [
           1,
           0,
           0,
           0,
           0,
           14
          ]
         ]
        }
       ],
       "layout": {
        "template": {
         "data": {
          "bar": [
           {
            "error_x": {
             "color": "#2a3f5f"
            },
            "error_y": {
             "color": "#2a3f5f"
            },
            "marker": {
             "line": {
              "color": "#E5ECF6",
              "width": 0.5
             },
             "pattern": {
              "fillmode": "overlay",
              "size": 10,
              "solidity": 0.2
             }
            },
            "type": "bar"
           }
          ],
          "barpolar": [
           {
            "marker": {
             "line": {
              "color": "#E5ECF6",
              "width": 0.5
             },
             "pattern": {
              "fillmode": "overlay",
              "size": 10,
              "solidity": 0.2
             }
            },
            "type": "barpolar"
           }
          ],
          "carpet": [
           {
            "aaxis": {
             "endlinecolor": "#2a3f5f",
             "gridcolor": "white",
             "linecolor": "white",
             "minorgridcolor": "white",
             "startlinecolor": "#2a3f5f"
            },
            "baxis": {
             "endlinecolor": "#2a3f5f",
             "gridcolor": "white",
             "linecolor": "white",
             "minorgridcolor": "white",
             "startlinecolor": "#2a3f5f"
            },
            "type": "carpet"
           }
          ],
          "choropleth": [
           {
            "colorbar": {
             "outlinewidth": 0,
             "ticks": ""
            },
            "type": "choropleth"
           }
          ],
          "contour": [
           {
            "colorbar": {
             "outlinewidth": 0,
             "ticks": ""
            },
            "colorscale": [
             [
              0,
              "#0d0887"
             ],
             [
              0.1111111111111111,
              "#46039f"
             ],
             [
              0.2222222222222222,
              "#7201a8"
             ],
             [
              0.3333333333333333,
              "#9c179e"
             ],
             [
              0.4444444444444444,
              "#bd3786"
             ],
             [
              0.5555555555555556,
              "#d8576b"
             ],
             [
              0.6666666666666666,
              "#ed7953"
             ],
             [
              0.7777777777777778,
              "#fb9f3a"
             ],
             [
              0.8888888888888888,
              "#fdca26"
             ],
             [
              1,
              "#f0f921"
             ]
            ],
            "type": "contour"
           }
          ],
          "contourcarpet": [
           {
            "colorbar": {
             "outlinewidth": 0,
             "ticks": ""
            },
            "type": "contourcarpet"
           }
          ],
          "heatmap": [
           {
            "colorbar": {
             "outlinewidth": 0,
             "ticks": ""
            },
            "colorscale": [
             [
              0,
              "#0d0887"
             ],
             [
              0.1111111111111111,
              "#46039f"
             ],
             [
              0.2222222222222222,
              "#7201a8"
             ],
             [
              0.3333333333333333,
              "#9c179e"
             ],
             [
              0.4444444444444444,
              "#bd3786"
             ],
             [
              0.5555555555555556,
              "#d8576b"
             ],
             [
              0.6666666666666666,
              "#ed7953"
             ],
             [
              0.7777777777777778,
              "#fb9f3a"
             ],
             [
              0.8888888888888888,
              "#fdca26"
             ],
             [
              1,
              "#f0f921"
             ]
            ],
            "type": "heatmap"
           }
          ],
          "heatmapgl": [
           {
            "colorbar": {
             "outlinewidth": 0,
             "ticks": ""
            },
            "colorscale": [
             [
              0,
              "#0d0887"
             ],
             [
              0.1111111111111111,
              "#46039f"
             ],
             [
              0.2222222222222222,
              "#7201a8"
             ],
             [
              0.3333333333333333,
              "#9c179e"
             ],
             [
              0.4444444444444444,
              "#bd3786"
             ],
             [
              0.5555555555555556,
              "#d8576b"
             ],
             [
              0.6666666666666666,
              "#ed7953"
             ],
             [
              0.7777777777777778,
              "#fb9f3a"
             ],
             [
              0.8888888888888888,
              "#fdca26"
             ],
             [
              1,
              "#f0f921"
             ]
            ],
            "type": "heatmapgl"
           }
          ],
          "histogram": [
           {
            "marker": {
             "pattern": {
              "fillmode": "overlay",
              "size": 10,
              "solidity": 0.2
             }
            },
            "type": "histogram"
           }
          ],
          "histogram2d": [
           {
            "colorbar": {
             "outlinewidth": 0,
             "ticks": ""
            },
            "colorscale": [
             [
              0,
              "#0d0887"
             ],
             [
              0.1111111111111111,
              "#46039f"
             ],
             [
              0.2222222222222222,
              "#7201a8"
             ],
             [
              0.3333333333333333,
              "#9c179e"
             ],
             [
              0.4444444444444444,
              "#bd3786"
             ],
             [
              0.5555555555555556,
              "#d8576b"
             ],
             [
              0.6666666666666666,
              "#ed7953"
             ],
             [
              0.7777777777777778,
              "#fb9f3a"
             ],
             [
              0.8888888888888888,
              "#fdca26"
             ],
             [
              1,
              "#f0f921"
             ]
            ],
            "type": "histogram2d"
           }
          ],
          "histogram2dcontour": [
           {
            "colorbar": {
             "outlinewidth": 0,
             "ticks": ""
            },
            "colorscale": [
             [
              0,
              "#0d0887"
             ],
             [
              0.1111111111111111,
              "#46039f"
             ],
             [
              0.2222222222222222,
              "#7201a8"
             ],
             [
              0.3333333333333333,
              "#9c179e"
             ],
             [
              0.4444444444444444,
              "#bd3786"
             ],
             [
              0.5555555555555556,
              "#d8576b"
             ],
             [
              0.6666666666666666,
              "#ed7953"
             ],
             [
              0.7777777777777778,
              "#fb9f3a"
             ],
             [
              0.8888888888888888,
              "#fdca26"
             ],
             [
              1,
              "#f0f921"
             ]
            ],
            "type": "histogram2dcontour"
           }
          ],
          "mesh3d": [
           {
            "colorbar": {
             "outlinewidth": 0,
             "ticks": ""
            },
            "type": "mesh3d"
           }
          ],
          "parcoords": [
           {
            "line": {
             "colorbar": {
              "outlinewidth": 0,
              "ticks": ""
             }
            },
            "type": "parcoords"
           }
          ],
          "pie": [
           {
            "automargin": true,
            "type": "pie"
           }
          ],
          "scatter": [
           {
            "fillpattern": {
             "fillmode": "overlay",
             "size": 10,
             "solidity": 0.2
            },
            "type": "scatter"
           }
          ],
          "scatter3d": [
           {
            "line": {
             "colorbar": {
              "outlinewidth": 0,
              "ticks": ""
             }
            },
            "marker": {
             "colorbar": {
              "outlinewidth": 0,
              "ticks": ""
             }
            },
            "type": "scatter3d"
           }
          ],
          "scattercarpet": [
           {
            "marker": {
             "colorbar": {
              "outlinewidth": 0,
              "ticks": ""
             }
            },
            "type": "scattercarpet"
           }
          ],
          "scattergeo": [
           {
            "marker": {
             "colorbar": {
              "outlinewidth": 0,
              "ticks": ""
             }
            },
            "type": "scattergeo"
           }
          ],
          "scattergl": [
           {
            "marker": {
             "colorbar": {
              "outlinewidth": 0,
              "ticks": ""
             }
            },
            "type": "scattergl"
           }
          ],
          "scattermapbox": [
           {
            "marker": {
             "colorbar": {
              "outlinewidth": 0,
              "ticks": ""
             }
            },
            "type": "scattermapbox"
           }
          ],
          "scatterpolar": [
           {
            "marker": {
             "colorbar": {
              "outlinewidth": 0,
              "ticks": ""
             }
            },
            "type": "scatterpolar"
           }
          ],
          "scatterpolargl": [
           {
            "marker": {
             "colorbar": {
              "outlinewidth": 0,
              "ticks": ""
             }
            },
            "type": "scatterpolargl"
           }
          ],
          "scatterternary": [
           {
            "marker": {
             "colorbar": {
              "outlinewidth": 0,
              "ticks": ""
             }
            },
            "type": "scatterternary"
           }
          ],
          "surface": [
           {
            "colorbar": {
             "outlinewidth": 0,
             "ticks": ""
            },
            "colorscale": [
             [
              0,
              "#0d0887"
             ],
             [
              0.1111111111111111,
              "#46039f"
             ],
             [
              0.2222222222222222,
              "#7201a8"
             ],
             [
              0.3333333333333333,
              "#9c179e"
             ],
             [
              0.4444444444444444,
              "#bd3786"
             ],
             [
              0.5555555555555556,
              "#d8576b"
             ],
             [
              0.6666666666666666,
              "#ed7953"
             ],
             [
              0.7777777777777778,
              "#fb9f3a"
             ],
             [
              0.8888888888888888,
              "#fdca26"
             ],
             [
              1,
              "#f0f921"
             ]
            ],
            "type": "surface"
           }
          ],
          "table": [
           {
            "cells": {
             "fill": {
              "color": "#EBF0F8"
             },
             "line": {
              "color": "white"
             }
            },
            "header": {
             "fill": {
              "color": "#C8D4E3"
             },
             "line": {
              "color": "white"
             }
            },
            "type": "table"
           }
          ]
         },
         "layout": {
          "annotationdefaults": {
           "arrowcolor": "#2a3f5f",
           "arrowhead": 0,
           "arrowwidth": 1
          },
          "autotypenumbers": "strict",
          "coloraxis": {
           "colorbar": {
            "outlinewidth": 0,
            "ticks": ""
           }
          },
          "colorscale": {
           "diverging": [
            [
             0,
             "#8e0152"
            ],
            [
             0.1,
             "#c51b7d"
            ],
            [
             0.2,
             "#de77ae"
            ],
            [
             0.3,
             "#f1b6da"
            ],
            [
             0.4,
             "#fde0ef"
            ],
            [
             0.5,
             "#f7f7f7"
            ],
            [
             0.6,
             "#e6f5d0"
            ],
            [
             0.7,
             "#b8e186"
            ],
            [
             0.8,
             "#7fbc41"
            ],
            [
             0.9,
             "#4d9221"
            ],
            [
             1,
             "#276419"
            ]
           ],
           "sequential": [
            [
             0,
             "#0d0887"
            ],
            [
             0.1111111111111111,
             "#46039f"
            ],
            [
             0.2222222222222222,
             "#7201a8"
            ],
            [
             0.3333333333333333,
             "#9c179e"
            ],
            [
             0.4444444444444444,
             "#bd3786"
            ],
            [
             0.5555555555555556,
             "#d8576b"
            ],
            [
             0.6666666666666666,
             "#ed7953"
            ],
            [
             0.7777777777777778,
             "#fb9f3a"
            ],
            [
             0.8888888888888888,
             "#fdca26"
            ],
            [
             1,
             "#f0f921"
            ]
           ],
           "sequentialminus": [
            [
             0,
             "#0d0887"
            ],
            [
             0.1111111111111111,
             "#46039f"
            ],
            [
             0.2222222222222222,
             "#7201a8"
            ],
            [
             0.3333333333333333,
             "#9c179e"
            ],
            [
             0.4444444444444444,
             "#bd3786"
            ],
            [
             0.5555555555555556,
             "#d8576b"
            ],
            [
             0.6666666666666666,
             "#ed7953"
            ],
            [
             0.7777777777777778,
             "#fb9f3a"
            ],
            [
             0.8888888888888888,
             "#fdca26"
            ],
            [
             1,
             "#f0f921"
            ]
           ]
          },
          "colorway": [
           "#636efa",
           "#EF553B",
           "#00cc96",
           "#ab63fa",
           "#FFA15A",
           "#19d3f3",
           "#FF6692",
           "#B6E880",
           "#FF97FF",
           "#FECB52"
          ],
          "font": {
           "color": "#2a3f5f"
          },
          "geo": {
           "bgcolor": "white",
           "lakecolor": "white",
           "landcolor": "#E5ECF6",
           "showlakes": true,
           "showland": true,
           "subunitcolor": "white"
          },
          "hoverlabel": {
           "align": "left"
          },
          "hovermode": "closest",
          "mapbox": {
           "style": "light"
          },
          "paper_bgcolor": "white",
          "plot_bgcolor": "#E5ECF6",
          "polar": {
           "angularaxis": {
            "gridcolor": "white",
            "linecolor": "white",
            "ticks": ""
           },
           "bgcolor": "#E5ECF6",
           "radialaxis": {
            "gridcolor": "white",
            "linecolor": "white",
            "ticks": ""
           }
          },
          "scene": {
           "xaxis": {
            "backgroundcolor": "#E5ECF6",
            "gridcolor": "white",
            "gridwidth": 2,
            "linecolor": "white",
            "showbackground": true,
            "ticks": "",
            "zerolinecolor": "white"
           },
           "yaxis": {
            "backgroundcolor": "#E5ECF6",
            "gridcolor": "white",
            "gridwidth": 2,
            "linecolor": "white",
            "showbackground": true,
            "ticks": "",
            "zerolinecolor": "white"
           },
           "zaxis": {
            "backgroundcolor": "#E5ECF6",
            "gridcolor": "white",
            "gridwidth": 2,
            "linecolor": "white",
            "showbackground": true,
            "ticks": "",
            "zerolinecolor": "white"
           }
          },
          "shapedefaults": {
           "line": {
            "color": "#2a3f5f"
           }
          },
          "ternary": {
           "aaxis": {
            "gridcolor": "white",
            "linecolor": "white",
            "ticks": ""
           },
           "baxis": {
            "gridcolor": "white",
            "linecolor": "white",
            "ticks": ""
           },
           "bgcolor": "#E5ECF6",
           "caxis": {
            "gridcolor": "white",
            "linecolor": "white",
            "ticks": ""
           }
          },
          "title": {
           "x": 0.05
          },
          "xaxis": {
           "automargin": true,
           "gridcolor": "white",
           "linecolor": "white",
           "ticks": "",
           "title": {
            "standoff": 15
           },
           "zerolinecolor": "white",
           "zerolinewidth": 2
          },
          "yaxis": {
           "automargin": true,
           "gridcolor": "white",
           "linecolor": "white",
           "ticks": "",
           "title": {
            "standoff": 15
           },
           "zerolinecolor": "white",
           "zerolinewidth": 2
          }
         }
        },
        "title": {
         "text": "Confusion Matrix for RandomForest_3"
        },
        "xaxis": {
         "scaleanchor": "y",
         "scaleratio": 1,
         "title": {
          "text": "Predicted Label"
         }
        },
        "yaxis": {
         "title": {
          "text": "Actual Label"
         }
        }
       }
      }
     },
     "metadata": {},
     "output_type": "display_data"
    },
    {
     "name": "stdout",
     "output_type": "stream",
     "text": [
      "\n",
      "Training RandomForest_5...\n"
     ]
    },
    {
     "data": {
      "application/vnd.plotly.v1+json": {
       "config": {
        "plotlyServerURL": "https://plot.ly"
       },
       "data": [
        {
         "colorscale": [
          [
           0,
           "rgb(247,251,255)"
          ],
          [
           0.125,
           "rgb(222,235,247)"
          ],
          [
           0.25,
           "rgb(198,219,239)"
          ],
          [
           0.375,
           "rgb(158,202,225)"
          ],
          [
           0.5,
           "rgb(107,174,214)"
          ],
          [
           0.625,
           "rgb(66,146,198)"
          ],
          [
           0.75,
           "rgb(33,113,181)"
          ],
          [
           0.875,
           "rgb(8,81,156)"
          ],
          [
           1,
           "rgb(8,48,107)"
          ]
         ],
         "showscale": true,
         "text": [
          [
           15,
           4,
           0,
           0,
           2,
           0
          ],
          [
           1,
           11,
           1,
           0,
           0,
           2
          ],
          [
           1,
           0,
           12,
           0,
           0,
           0
          ],
          [
           0,
           0,
           1,
           20,
           0,
           0
          ],
          [
           3,
           2,
           0,
           0,
           9,
           0
          ],
          [
           1,
           0,
           0,
           0,
           0,
           14
          ]
         ],
         "texttemplate": "%{text}",
         "type": "heatmap",
         "x": [
          "Predicted 0",
          "Predicted 1",
          "Predicted 2",
          "Predicted 3",
          "Predicted 4",
          "Predicted 5"
         ],
         "y": [
          "Actual 0",
          "Actual 1",
          "Actual 2",
          "Actual 3",
          "Actual 4",
          "Actual 5"
         ],
         "z": [
          [
           15,
           4,
           0,
           0,
           2,
           0
          ],
          [
           1,
           11,
           1,
           0,
           0,
           2
          ],
          [
           1,
           0,
           12,
           0,
           0,
           0
          ],
          [
           0,
           0,
           1,
           20,
           0,
           0
          ],
          [
           3,
           2,
           0,
           0,
           9,
           0
          ],
          [
           1,
           0,
           0,
           0,
           0,
           14
          ]
         ]
        }
       ],
       "layout": {
        "template": {
         "data": {
          "bar": [
           {
            "error_x": {
             "color": "#2a3f5f"
            },
            "error_y": {
             "color": "#2a3f5f"
            },
            "marker": {
             "line": {
              "color": "#E5ECF6",
              "width": 0.5
             },
             "pattern": {
              "fillmode": "overlay",
              "size": 10,
              "solidity": 0.2
             }
            },
            "type": "bar"
           }
          ],
          "barpolar": [
           {
            "marker": {
             "line": {
              "color": "#E5ECF6",
              "width": 0.5
             },
             "pattern": {
              "fillmode": "overlay",
              "size": 10,
              "solidity": 0.2
             }
            },
            "type": "barpolar"
           }
          ],
          "carpet": [
           {
            "aaxis": {
             "endlinecolor": "#2a3f5f",
             "gridcolor": "white",
             "linecolor": "white",
             "minorgridcolor": "white",
             "startlinecolor": "#2a3f5f"
            },
            "baxis": {
             "endlinecolor": "#2a3f5f",
             "gridcolor": "white",
             "linecolor": "white",
             "minorgridcolor": "white",
             "startlinecolor": "#2a3f5f"
            },
            "type": "carpet"
           }
          ],
          "choropleth": [
           {
            "colorbar": {
             "outlinewidth": 0,
             "ticks": ""
            },
            "type": "choropleth"
           }
          ],
          "contour": [
           {
            "colorbar": {
             "outlinewidth": 0,
             "ticks": ""
            },
            "colorscale": [
             [
              0,
              "#0d0887"
             ],
             [
              0.1111111111111111,
              "#46039f"
             ],
             [
              0.2222222222222222,
              "#7201a8"
             ],
             [
              0.3333333333333333,
              "#9c179e"
             ],
             [
              0.4444444444444444,
              "#bd3786"
             ],
             [
              0.5555555555555556,
              "#d8576b"
             ],
             [
              0.6666666666666666,
              "#ed7953"
             ],
             [
              0.7777777777777778,
              "#fb9f3a"
             ],
             [
              0.8888888888888888,
              "#fdca26"
             ],
             [
              1,
              "#f0f921"
             ]
            ],
            "type": "contour"
           }
          ],
          "contourcarpet": [
           {
            "colorbar": {
             "outlinewidth": 0,
             "ticks": ""
            },
            "type": "contourcarpet"
           }
          ],
          "heatmap": [
           {
            "colorbar": {
             "outlinewidth": 0,
             "ticks": ""
            },
            "colorscale": [
             [
              0,
              "#0d0887"
             ],
             [
              0.1111111111111111,
              "#46039f"
             ],
             [
              0.2222222222222222,
              "#7201a8"
             ],
             [
              0.3333333333333333,
              "#9c179e"
             ],
             [
              0.4444444444444444,
              "#bd3786"
             ],
             [
              0.5555555555555556,
              "#d8576b"
             ],
             [
              0.6666666666666666,
              "#ed7953"
             ],
             [
              0.7777777777777778,
              "#fb9f3a"
             ],
             [
              0.8888888888888888,
              "#fdca26"
             ],
             [
              1,
              "#f0f921"
             ]
            ],
            "type": "heatmap"
           }
          ],
          "heatmapgl": [
           {
            "colorbar": {
             "outlinewidth": 0,
             "ticks": ""
            },
            "colorscale": [
             [
              0,
              "#0d0887"
             ],
             [
              0.1111111111111111,
              "#46039f"
             ],
             [
              0.2222222222222222,
              "#7201a8"
             ],
             [
              0.3333333333333333,
              "#9c179e"
             ],
             [
              0.4444444444444444,
              "#bd3786"
             ],
             [
              0.5555555555555556,
              "#d8576b"
             ],
             [
              0.6666666666666666,
              "#ed7953"
             ],
             [
              0.7777777777777778,
              "#fb9f3a"
             ],
             [
              0.8888888888888888,
              "#fdca26"
             ],
             [
              1,
              "#f0f921"
             ]
            ],
            "type": "heatmapgl"
           }
          ],
          "histogram": [
           {
            "marker": {
             "pattern": {
              "fillmode": "overlay",
              "size": 10,
              "solidity": 0.2
             }
            },
            "type": "histogram"
           }
          ],
          "histogram2d": [
           {
            "colorbar": {
             "outlinewidth": 0,
             "ticks": ""
            },
            "colorscale": [
             [
              0,
              "#0d0887"
             ],
             [
              0.1111111111111111,
              "#46039f"
             ],
             [
              0.2222222222222222,
              "#7201a8"
             ],
             [
              0.3333333333333333,
              "#9c179e"
             ],
             [
              0.4444444444444444,
              "#bd3786"
             ],
             [
              0.5555555555555556,
              "#d8576b"
             ],
             [
              0.6666666666666666,
              "#ed7953"
             ],
             [
              0.7777777777777778,
              "#fb9f3a"
             ],
             [
              0.8888888888888888,
              "#fdca26"
             ],
             [
              1,
              "#f0f921"
             ]
            ],
            "type": "histogram2d"
           }
          ],
          "histogram2dcontour": [
           {
            "colorbar": {
             "outlinewidth": 0,
             "ticks": ""
            },
            "colorscale": [
             [
              0,
              "#0d0887"
             ],
             [
              0.1111111111111111,
              "#46039f"
             ],
             [
              0.2222222222222222,
              "#7201a8"
             ],
             [
              0.3333333333333333,
              "#9c179e"
             ],
             [
              0.4444444444444444,
              "#bd3786"
             ],
             [
              0.5555555555555556,
              "#d8576b"
             ],
             [
              0.6666666666666666,
              "#ed7953"
             ],
             [
              0.7777777777777778,
              "#fb9f3a"
             ],
             [
              0.8888888888888888,
              "#fdca26"
             ],
             [
              1,
              "#f0f921"
             ]
            ],
            "type": "histogram2dcontour"
           }
          ],
          "mesh3d": [
           {
            "colorbar": {
             "outlinewidth": 0,
             "ticks": ""
            },
            "type": "mesh3d"
           }
          ],
          "parcoords": [
           {
            "line": {
             "colorbar": {
              "outlinewidth": 0,
              "ticks": ""
             }
            },
            "type": "parcoords"
           }
          ],
          "pie": [
           {
            "automargin": true,
            "type": "pie"
           }
          ],
          "scatter": [
           {
            "fillpattern": {
             "fillmode": "overlay",
             "size": 10,
             "solidity": 0.2
            },
            "type": "scatter"
           }
          ],
          "scatter3d": [
           {
            "line": {
             "colorbar": {
              "outlinewidth": 0,
              "ticks": ""
             }
            },
            "marker": {
             "colorbar": {
              "outlinewidth": 0,
              "ticks": ""
             }
            },
            "type": "scatter3d"
           }
          ],
          "scattercarpet": [
           {
            "marker": {
             "colorbar": {
              "outlinewidth": 0,
              "ticks": ""
             }
            },
            "type": "scattercarpet"
           }
          ],
          "scattergeo": [
           {
            "marker": {
             "colorbar": {
              "outlinewidth": 0,
              "ticks": ""
             }
            },
            "type": "scattergeo"
           }
          ],
          "scattergl": [
           {
            "marker": {
             "colorbar": {
              "outlinewidth": 0,
              "ticks": ""
             }
            },
            "type": "scattergl"
           }
          ],
          "scattermapbox": [
           {
            "marker": {
             "colorbar": {
              "outlinewidth": 0,
              "ticks": ""
             }
            },
            "type": "scattermapbox"
           }
          ],
          "scatterpolar": [
           {
            "marker": {
             "colorbar": {
              "outlinewidth": 0,
              "ticks": ""
             }
            },
            "type": "scatterpolar"
           }
          ],
          "scatterpolargl": [
           {
            "marker": {
             "colorbar": {
              "outlinewidth": 0,
              "ticks": ""
             }
            },
            "type": "scatterpolargl"
           }
          ],
          "scatterternary": [
           {
            "marker": {
             "colorbar": {
              "outlinewidth": 0,
              "ticks": ""
             }
            },
            "type": "scatterternary"
           }
          ],
          "surface": [
           {
            "colorbar": {
             "outlinewidth": 0,
             "ticks": ""
            },
            "colorscale": [
             [
              0,
              "#0d0887"
             ],
             [
              0.1111111111111111,
              "#46039f"
             ],
             [
              0.2222222222222222,
              "#7201a8"
             ],
             [
              0.3333333333333333,
              "#9c179e"
             ],
             [
              0.4444444444444444,
              "#bd3786"
             ],
             [
              0.5555555555555556,
              "#d8576b"
             ],
             [
              0.6666666666666666,
              "#ed7953"
             ],
             [
              0.7777777777777778,
              "#fb9f3a"
             ],
             [
              0.8888888888888888,
              "#fdca26"
             ],
             [
              1,
              "#f0f921"
             ]
            ],
            "type": "surface"
           }
          ],
          "table": [
           {
            "cells": {
             "fill": {
              "color": "#EBF0F8"
             },
             "line": {
              "color": "white"
             }
            },
            "header": {
             "fill": {
              "color": "#C8D4E3"
             },
             "line": {
              "color": "white"
             }
            },
            "type": "table"
           }
          ]
         },
         "layout": {
          "annotationdefaults": {
           "arrowcolor": "#2a3f5f",
           "arrowhead": 0,
           "arrowwidth": 1
          },
          "autotypenumbers": "strict",
          "coloraxis": {
           "colorbar": {
            "outlinewidth": 0,
            "ticks": ""
           }
          },
          "colorscale": {
           "diverging": [
            [
             0,
             "#8e0152"
            ],
            [
             0.1,
             "#c51b7d"
            ],
            [
             0.2,
             "#de77ae"
            ],
            [
             0.3,
             "#f1b6da"
            ],
            [
             0.4,
             "#fde0ef"
            ],
            [
             0.5,
             "#f7f7f7"
            ],
            [
             0.6,
             "#e6f5d0"
            ],
            [
             0.7,
             "#b8e186"
            ],
            [
             0.8,
             "#7fbc41"
            ],
            [
             0.9,
             "#4d9221"
            ],
            [
             1,
             "#276419"
            ]
           ],
           "sequential": [
            [
             0,
             "#0d0887"
            ],
            [
             0.1111111111111111,
             "#46039f"
            ],
            [
             0.2222222222222222,
             "#7201a8"
            ],
            [
             0.3333333333333333,
             "#9c179e"
            ],
            [
             0.4444444444444444,
             "#bd3786"
            ],
            [
             0.5555555555555556,
             "#d8576b"
            ],
            [
             0.6666666666666666,
             "#ed7953"
            ],
            [
             0.7777777777777778,
             "#fb9f3a"
            ],
            [
             0.8888888888888888,
             "#fdca26"
            ],
            [
             1,
             "#f0f921"
            ]
           ],
           "sequentialminus": [
            [
             0,
             "#0d0887"
            ],
            [
             0.1111111111111111,
             "#46039f"
            ],
            [
             0.2222222222222222,
             "#7201a8"
            ],
            [
             0.3333333333333333,
             "#9c179e"
            ],
            [
             0.4444444444444444,
             "#bd3786"
            ],
            [
             0.5555555555555556,
             "#d8576b"
            ],
            [
             0.6666666666666666,
             "#ed7953"
            ],
            [
             0.7777777777777778,
             "#fb9f3a"
            ],
            [
             0.8888888888888888,
             "#fdca26"
            ],
            [
             1,
             "#f0f921"
            ]
           ]
          },
          "colorway": [
           "#636efa",
           "#EF553B",
           "#00cc96",
           "#ab63fa",
           "#FFA15A",
           "#19d3f3",
           "#FF6692",
           "#B6E880",
           "#FF97FF",
           "#FECB52"
          ],
          "font": {
           "color": "#2a3f5f"
          },
          "geo": {
           "bgcolor": "white",
           "lakecolor": "white",
           "landcolor": "#E5ECF6",
           "showlakes": true,
           "showland": true,
           "subunitcolor": "white"
          },
          "hoverlabel": {
           "align": "left"
          },
          "hovermode": "closest",
          "mapbox": {
           "style": "light"
          },
          "paper_bgcolor": "white",
          "plot_bgcolor": "#E5ECF6",
          "polar": {
           "angularaxis": {
            "gridcolor": "white",
            "linecolor": "white",
            "ticks": ""
           },
           "bgcolor": "#E5ECF6",
           "radialaxis": {
            "gridcolor": "white",
            "linecolor": "white",
            "ticks": ""
           }
          },
          "scene": {
           "xaxis": {
            "backgroundcolor": "#E5ECF6",
            "gridcolor": "white",
            "gridwidth": 2,
            "linecolor": "white",
            "showbackground": true,
            "ticks": "",
            "zerolinecolor": "white"
           },
           "yaxis": {
            "backgroundcolor": "#E5ECF6",
            "gridcolor": "white",
            "gridwidth": 2,
            "linecolor": "white",
            "showbackground": true,
            "ticks": "",
            "zerolinecolor": "white"
           },
           "zaxis": {
            "backgroundcolor": "#E5ECF6",
            "gridcolor": "white",
            "gridwidth": 2,
            "linecolor": "white",
            "showbackground": true,
            "ticks": "",
            "zerolinecolor": "white"
           }
          },
          "shapedefaults": {
           "line": {
            "color": "#2a3f5f"
           }
          },
          "ternary": {
           "aaxis": {
            "gridcolor": "white",
            "linecolor": "white",
            "ticks": ""
           },
           "baxis": {
            "gridcolor": "white",
            "linecolor": "white",
            "ticks": ""
           },
           "bgcolor": "#E5ECF6",
           "caxis": {
            "gridcolor": "white",
            "linecolor": "white",
            "ticks": ""
           }
          },
          "title": {
           "x": 0.05
          },
          "xaxis": {
           "automargin": true,
           "gridcolor": "white",
           "linecolor": "white",
           "ticks": "",
           "title": {
            "standoff": 15
           },
           "zerolinecolor": "white",
           "zerolinewidth": 2
          },
          "yaxis": {
           "automargin": true,
           "gridcolor": "white",
           "linecolor": "white",
           "ticks": "",
           "title": {
            "standoff": 15
           },
           "zerolinecolor": "white",
           "zerolinewidth": 2
          }
         }
        },
        "title": {
         "text": "Confusion Matrix for RandomForest_5"
        },
        "xaxis": {
         "scaleanchor": "y",
         "scaleratio": 1,
         "title": {
          "text": "Predicted Label"
         }
        },
        "yaxis": {
         "title": {
          "text": "Actual Label"
         }
        }
       }
      }
     },
     "metadata": {},
     "output_type": "display_data"
    },
    {
     "name": "stdout",
     "output_type": "stream",
     "text": [
      "\n",
      "Training NeuralNetwork_1...\n"
     ]
    },
    {
     "name": "stderr",
     "output_type": "stream",
     "text": [
      "/home/nirav24/.local/lib/python3.12/site-packages/sklearn/metrics/_classification.py:1531: UndefinedMetricWarning:\n",
      "\n",
      "Precision is ill-defined and being set to 0.0 in labels with no predicted samples. Use `zero_division` parameter to control this behavior.\n",
      "\n",
      "/home/nirav24/.local/lib/python3.12/site-packages/sklearn/metrics/_classification.py:1531: UndefinedMetricWarning:\n",
      "\n",
      "Precision is ill-defined and being set to 0.0 in labels with no predicted samples. Use `zero_division` parameter to control this behavior.\n",
      "\n",
      "/home/nirav24/.local/lib/python3.12/site-packages/sklearn/metrics/_classification.py:1531: UndefinedMetricWarning:\n",
      "\n",
      "Precision is ill-defined and being set to 0.0 in labels with no predicted samples. Use `zero_division` parameter to control this behavior.\n",
      "\n",
      "/home/nirav24/.local/lib/python3.12/site-packages/sklearn/metrics/_classification.py:1531: UndefinedMetricWarning:\n",
      "\n",
      "Precision is ill-defined and being set to 0.0 in labels with no predicted samples. Use `zero_division` parameter to control this behavior.\n",
      "\n"
     ]
    },
    {
     "data": {
      "application/vnd.plotly.v1+json": {
       "config": {
        "plotlyServerURL": "https://plot.ly"
       },
       "data": [
        {
         "colorscale": [
          [
           0,
           "rgb(247,251,255)"
          ],
          [
           0.125,
           "rgb(222,235,247)"
          ],
          [
           0.25,
           "rgb(198,219,239)"
          ],
          [
           0.375,
           "rgb(158,202,225)"
          ],
          [
           0.5,
           "rgb(107,174,214)"
          ],
          [
           0.625,
           "rgb(66,146,198)"
          ],
          [
           0.75,
           "rgb(33,113,181)"
          ],
          [
           0.875,
           "rgb(8,81,156)"
          ],
          [
           1,
           "rgb(8,48,107)"
          ]
         ],
         "showscale": true,
         "text": [
          [
           0,
           2,
           19,
           0,
           0,
           0
          ],
          [
           0,
           0,
           15,
           0,
           0,
           0
          ],
          [
           0,
           0,
           13,
           0,
           0,
           0
          ],
          [
           0,
           1,
           20,
           0,
           0,
           0
          ],
          [
           0,
           1,
           13,
           0,
           0,
           0
          ],
          [
           0,
           0,
           15,
           0,
           0,
           0
          ]
         ],
         "texttemplate": "%{text}",
         "type": "heatmap",
         "x": [
          "Predicted 0",
          "Predicted 1",
          "Predicted 2",
          "Predicted 3",
          "Predicted 4",
          "Predicted 5"
         ],
         "y": [
          "Actual 0",
          "Actual 1",
          "Actual 2",
          "Actual 3",
          "Actual 4",
          "Actual 5"
         ],
         "z": [
          [
           0,
           2,
           19,
           0,
           0,
           0
          ],
          [
           0,
           0,
           15,
           0,
           0,
           0
          ],
          [
           0,
           0,
           13,
           0,
           0,
           0
          ],
          [
           0,
           1,
           20,
           0,
           0,
           0
          ],
          [
           0,
           1,
           13,
           0,
           0,
           0
          ],
          [
           0,
           0,
           15,
           0,
           0,
           0
          ]
         ]
        }
       ],
       "layout": {
        "template": {
         "data": {
          "bar": [
           {
            "error_x": {
             "color": "#2a3f5f"
            },
            "error_y": {
             "color": "#2a3f5f"
            },
            "marker": {
             "line": {
              "color": "#E5ECF6",
              "width": 0.5
             },
             "pattern": {
              "fillmode": "overlay",
              "size": 10,
              "solidity": 0.2
             }
            },
            "type": "bar"
           }
          ],
          "barpolar": [
           {
            "marker": {
             "line": {
              "color": "#E5ECF6",
              "width": 0.5
             },
             "pattern": {
              "fillmode": "overlay",
              "size": 10,
              "solidity": 0.2
             }
            },
            "type": "barpolar"
           }
          ],
          "carpet": [
           {
            "aaxis": {
             "endlinecolor": "#2a3f5f",
             "gridcolor": "white",
             "linecolor": "white",
             "minorgridcolor": "white",
             "startlinecolor": "#2a3f5f"
            },
            "baxis": {
             "endlinecolor": "#2a3f5f",
             "gridcolor": "white",
             "linecolor": "white",
             "minorgridcolor": "white",
             "startlinecolor": "#2a3f5f"
            },
            "type": "carpet"
           }
          ],
          "choropleth": [
           {
            "colorbar": {
             "outlinewidth": 0,
             "ticks": ""
            },
            "type": "choropleth"
           }
          ],
          "contour": [
           {
            "colorbar": {
             "outlinewidth": 0,
             "ticks": ""
            },
            "colorscale": [
             [
              0,
              "#0d0887"
             ],
             [
              0.1111111111111111,
              "#46039f"
             ],
             [
              0.2222222222222222,
              "#7201a8"
             ],
             [
              0.3333333333333333,
              "#9c179e"
             ],
             [
              0.4444444444444444,
              "#bd3786"
             ],
             [
              0.5555555555555556,
              "#d8576b"
             ],
             [
              0.6666666666666666,
              "#ed7953"
             ],
             [
              0.7777777777777778,
              "#fb9f3a"
             ],
             [
              0.8888888888888888,
              "#fdca26"
             ],
             [
              1,
              "#f0f921"
             ]
            ],
            "type": "contour"
           }
          ],
          "contourcarpet": [
           {
            "colorbar": {
             "outlinewidth": 0,
             "ticks": ""
            },
            "type": "contourcarpet"
           }
          ],
          "heatmap": [
           {
            "colorbar": {
             "outlinewidth": 0,
             "ticks": ""
            },
            "colorscale": [
             [
              0,
              "#0d0887"
             ],
             [
              0.1111111111111111,
              "#46039f"
             ],
             [
              0.2222222222222222,
              "#7201a8"
             ],
             [
              0.3333333333333333,
              "#9c179e"
             ],
             [
              0.4444444444444444,
              "#bd3786"
             ],
             [
              0.5555555555555556,
              "#d8576b"
             ],
             [
              0.6666666666666666,
              "#ed7953"
             ],
             [
              0.7777777777777778,
              "#fb9f3a"
             ],
             [
              0.8888888888888888,
              "#fdca26"
             ],
             [
              1,
              "#f0f921"
             ]
            ],
            "type": "heatmap"
           }
          ],
          "heatmapgl": [
           {
            "colorbar": {
             "outlinewidth": 0,
             "ticks": ""
            },
            "colorscale": [
             [
              0,
              "#0d0887"
             ],
             [
              0.1111111111111111,
              "#46039f"
             ],
             [
              0.2222222222222222,
              "#7201a8"
             ],
             [
              0.3333333333333333,
              "#9c179e"
             ],
             [
              0.4444444444444444,
              "#bd3786"
             ],
             [
              0.5555555555555556,
              "#d8576b"
             ],
             [
              0.6666666666666666,
              "#ed7953"
             ],
             [
              0.7777777777777778,
              "#fb9f3a"
             ],
             [
              0.8888888888888888,
              "#fdca26"
             ],
             [
              1,
              "#f0f921"
             ]
            ],
            "type": "heatmapgl"
           }
          ],
          "histogram": [
           {
            "marker": {
             "pattern": {
              "fillmode": "overlay",
              "size": 10,
              "solidity": 0.2
             }
            },
            "type": "histogram"
           }
          ],
          "histogram2d": [
           {
            "colorbar": {
             "outlinewidth": 0,
             "ticks": ""
            },
            "colorscale": [
             [
              0,
              "#0d0887"
             ],
             [
              0.1111111111111111,
              "#46039f"
             ],
             [
              0.2222222222222222,
              "#7201a8"
             ],
             [
              0.3333333333333333,
              "#9c179e"
             ],
             [
              0.4444444444444444,
              "#bd3786"
             ],
             [
              0.5555555555555556,
              "#d8576b"
             ],
             [
              0.6666666666666666,
              "#ed7953"
             ],
             [
              0.7777777777777778,
              "#fb9f3a"
             ],
             [
              0.8888888888888888,
              "#fdca26"
             ],
             [
              1,
              "#f0f921"
             ]
            ],
            "type": "histogram2d"
           }
          ],
          "histogram2dcontour": [
           {
            "colorbar": {
             "outlinewidth": 0,
             "ticks": ""
            },
            "colorscale": [
             [
              0,
              "#0d0887"
             ],
             [
              0.1111111111111111,
              "#46039f"
             ],
             [
              0.2222222222222222,
              "#7201a8"
             ],
             [
              0.3333333333333333,
              "#9c179e"
             ],
             [
              0.4444444444444444,
              "#bd3786"
             ],
             [
              0.5555555555555556,
              "#d8576b"
             ],
             [
              0.6666666666666666,
              "#ed7953"
             ],
             [
              0.7777777777777778,
              "#fb9f3a"
             ],
             [
              0.8888888888888888,
              "#fdca26"
             ],
             [
              1,
              "#f0f921"
             ]
            ],
            "type": "histogram2dcontour"
           }
          ],
          "mesh3d": [
           {
            "colorbar": {
             "outlinewidth": 0,
             "ticks": ""
            },
            "type": "mesh3d"
           }
          ],
          "parcoords": [
           {
            "line": {
             "colorbar": {
              "outlinewidth": 0,
              "ticks": ""
             }
            },
            "type": "parcoords"
           }
          ],
          "pie": [
           {
            "automargin": true,
            "type": "pie"
           }
          ],
          "scatter": [
           {
            "fillpattern": {
             "fillmode": "overlay",
             "size": 10,
             "solidity": 0.2
            },
            "type": "scatter"
           }
          ],
          "scatter3d": [
           {
            "line": {
             "colorbar": {
              "outlinewidth": 0,
              "ticks": ""
             }
            },
            "marker": {
             "colorbar": {
              "outlinewidth": 0,
              "ticks": ""
             }
            },
            "type": "scatter3d"
           }
          ],
          "scattercarpet": [
           {
            "marker": {
             "colorbar": {
              "outlinewidth": 0,
              "ticks": ""
             }
            },
            "type": "scattercarpet"
           }
          ],
          "scattergeo": [
           {
            "marker": {
             "colorbar": {
              "outlinewidth": 0,
              "ticks": ""
             }
            },
            "type": "scattergeo"
           }
          ],
          "scattergl": [
           {
            "marker": {
             "colorbar": {
              "outlinewidth": 0,
              "ticks": ""
             }
            },
            "type": "scattergl"
           }
          ],
          "scattermapbox": [
           {
            "marker": {
             "colorbar": {
              "outlinewidth": 0,
              "ticks": ""
             }
            },
            "type": "scattermapbox"
           }
          ],
          "scatterpolar": [
           {
            "marker": {
             "colorbar": {
              "outlinewidth": 0,
              "ticks": ""
             }
            },
            "type": "scatterpolar"
           }
          ],
          "scatterpolargl": [
           {
            "marker": {
             "colorbar": {
              "outlinewidth": 0,
              "ticks": ""
             }
            },
            "type": "scatterpolargl"
           }
          ],
          "scatterternary": [
           {
            "marker": {
             "colorbar": {
              "outlinewidth": 0,
              "ticks": ""
             }
            },
            "type": "scatterternary"
           }
          ],
          "surface": [
           {
            "colorbar": {
             "outlinewidth": 0,
             "ticks": ""
            },
            "colorscale": [
             [
              0,
              "#0d0887"
             ],
             [
              0.1111111111111111,
              "#46039f"
             ],
             [
              0.2222222222222222,
              "#7201a8"
             ],
             [
              0.3333333333333333,
              "#9c179e"
             ],
             [
              0.4444444444444444,
              "#bd3786"
             ],
             [
              0.5555555555555556,
              "#d8576b"
             ],
             [
              0.6666666666666666,
              "#ed7953"
             ],
             [
              0.7777777777777778,
              "#fb9f3a"
             ],
             [
              0.8888888888888888,
              "#fdca26"
             ],
             [
              1,
              "#f0f921"
             ]
            ],
            "type": "surface"
           }
          ],
          "table": [
           {
            "cells": {
             "fill": {
              "color": "#EBF0F8"
             },
             "line": {
              "color": "white"
             }
            },
            "header": {
             "fill": {
              "color": "#C8D4E3"
             },
             "line": {
              "color": "white"
             }
            },
            "type": "table"
           }
          ]
         },
         "layout": {
          "annotationdefaults": {
           "arrowcolor": "#2a3f5f",
           "arrowhead": 0,
           "arrowwidth": 1
          },
          "autotypenumbers": "strict",
          "coloraxis": {
           "colorbar": {
            "outlinewidth": 0,
            "ticks": ""
           }
          },
          "colorscale": {
           "diverging": [
            [
             0,
             "#8e0152"
            ],
            [
             0.1,
             "#c51b7d"
            ],
            [
             0.2,
             "#de77ae"
            ],
            [
             0.3,
             "#f1b6da"
            ],
            [
             0.4,
             "#fde0ef"
            ],
            [
             0.5,
             "#f7f7f7"
            ],
            [
             0.6,
             "#e6f5d0"
            ],
            [
             0.7,
             "#b8e186"
            ],
            [
             0.8,
             "#7fbc41"
            ],
            [
             0.9,
             "#4d9221"
            ],
            [
             1,
             "#276419"
            ]
           ],
           "sequential": [
            [
             0,
             "#0d0887"
            ],
            [
             0.1111111111111111,
             "#46039f"
            ],
            [
             0.2222222222222222,
             "#7201a8"
            ],
            [
             0.3333333333333333,
             "#9c179e"
            ],
            [
             0.4444444444444444,
             "#bd3786"
            ],
            [
             0.5555555555555556,
             "#d8576b"
            ],
            [
             0.6666666666666666,
             "#ed7953"
            ],
            [
             0.7777777777777778,
             "#fb9f3a"
            ],
            [
             0.8888888888888888,
             "#fdca26"
            ],
            [
             1,
             "#f0f921"
            ]
           ],
           "sequentialminus": [
            [
             0,
             "#0d0887"
            ],
            [
             0.1111111111111111,
             "#46039f"
            ],
            [
             0.2222222222222222,
             "#7201a8"
            ],
            [
             0.3333333333333333,
             "#9c179e"
            ],
            [
             0.4444444444444444,
             "#bd3786"
            ],
            [
             0.5555555555555556,
             "#d8576b"
            ],
            [
             0.6666666666666666,
             "#ed7953"
            ],
            [
             0.7777777777777778,
             "#fb9f3a"
            ],
            [
             0.8888888888888888,
             "#fdca26"
            ],
            [
             1,
             "#f0f921"
            ]
           ]
          },
          "colorway": [
           "#636efa",
           "#EF553B",
           "#00cc96",
           "#ab63fa",
           "#FFA15A",
           "#19d3f3",
           "#FF6692",
           "#B6E880",
           "#FF97FF",
           "#FECB52"
          ],
          "font": {
           "color": "#2a3f5f"
          },
          "geo": {
           "bgcolor": "white",
           "lakecolor": "white",
           "landcolor": "#E5ECF6",
           "showlakes": true,
           "showland": true,
           "subunitcolor": "white"
          },
          "hoverlabel": {
           "align": "left"
          },
          "hovermode": "closest",
          "mapbox": {
           "style": "light"
          },
          "paper_bgcolor": "white",
          "plot_bgcolor": "#E5ECF6",
          "polar": {
           "angularaxis": {
            "gridcolor": "white",
            "linecolor": "white",
            "ticks": ""
           },
           "bgcolor": "#E5ECF6",
           "radialaxis": {
            "gridcolor": "white",
            "linecolor": "white",
            "ticks": ""
           }
          },
          "scene": {
           "xaxis": {
            "backgroundcolor": "#E5ECF6",
            "gridcolor": "white",
            "gridwidth": 2,
            "linecolor": "white",
            "showbackground": true,
            "ticks": "",
            "zerolinecolor": "white"
           },
           "yaxis": {
            "backgroundcolor": "#E5ECF6",
            "gridcolor": "white",
            "gridwidth": 2,
            "linecolor": "white",
            "showbackground": true,
            "ticks": "",
            "zerolinecolor": "white"
           },
           "zaxis": {
            "backgroundcolor": "#E5ECF6",
            "gridcolor": "white",
            "gridwidth": 2,
            "linecolor": "white",
            "showbackground": true,
            "ticks": "",
            "zerolinecolor": "white"
           }
          },
          "shapedefaults": {
           "line": {
            "color": "#2a3f5f"
           }
          },
          "ternary": {
           "aaxis": {
            "gridcolor": "white",
            "linecolor": "white",
            "ticks": ""
           },
           "baxis": {
            "gridcolor": "white",
            "linecolor": "white",
            "ticks": ""
           },
           "bgcolor": "#E5ECF6",
           "caxis": {
            "gridcolor": "white",
            "linecolor": "white",
            "ticks": ""
           }
          },
          "title": {
           "x": 0.05
          },
          "xaxis": {
           "automargin": true,
           "gridcolor": "white",
           "linecolor": "white",
           "ticks": "",
           "title": {
            "standoff": 15
           },
           "zerolinecolor": "white",
           "zerolinewidth": 2
          },
          "yaxis": {
           "automargin": true,
           "gridcolor": "white",
           "linecolor": "white",
           "ticks": "",
           "title": {
            "standoff": 15
           },
           "zerolinecolor": "white",
           "zerolinewidth": 2
          }
         }
        },
        "title": {
         "text": "Confusion Matrix for NeuralNetwork_1"
        },
        "xaxis": {
         "scaleanchor": "y",
         "scaleratio": 1,
         "title": {
          "text": "Predicted Label"
         }
        },
        "yaxis": {
         "title": {
          "text": "Actual Label"
         }
        }
       }
      }
     },
     "metadata": {},
     "output_type": "display_data"
    },
    {
     "name": "stdout",
     "output_type": "stream",
     "text": [
      "\n",
      "Training NeuralNetwork_2...\n"
     ]
    },
    {
     "name": "stderr",
     "output_type": "stream",
     "text": [
      "/home/nirav24/.local/lib/python3.12/site-packages/sklearn/neural_network/_multilayer_perceptron.py:690: ConvergenceWarning:\n",
      "\n",
      "Stochastic Optimizer: Maximum iterations (200) reached and the optimization hasn't converged yet.\n",
      "\n",
      "/home/nirav24/.local/lib/python3.12/site-packages/sklearn/metrics/_classification.py:1531: UndefinedMetricWarning:\n",
      "\n",
      "Precision is ill-defined and being set to 0.0 in labels with no predicted samples. Use `zero_division` parameter to control this behavior.\n",
      "\n",
      "/home/nirav24/.local/lib/python3.12/site-packages/sklearn/metrics/_classification.py:1531: UndefinedMetricWarning:\n",
      "\n",
      "Precision is ill-defined and being set to 0.0 in labels with no predicted samples. Use `zero_division` parameter to control this behavior.\n",
      "\n",
      "/home/nirav24/.local/lib/python3.12/site-packages/sklearn/metrics/_classification.py:1531: UndefinedMetricWarning:\n",
      "\n",
      "Precision is ill-defined and being set to 0.0 in labels with no predicted samples. Use `zero_division` parameter to control this behavior.\n",
      "\n",
      "/home/nirav24/.local/lib/python3.12/site-packages/sklearn/metrics/_classification.py:1531: UndefinedMetricWarning:\n",
      "\n",
      "Precision is ill-defined and being set to 0.0 in labels with no predicted samples. Use `zero_division` parameter to control this behavior.\n",
      "\n"
     ]
    },
    {
     "data": {
      "application/vnd.plotly.v1+json": {
       "config": {
        "plotlyServerURL": "https://plot.ly"
       },
       "data": [
        {
         "colorscale": [
          [
           0,
           "rgb(247,251,255)"
          ],
          [
           0.125,
           "rgb(222,235,247)"
          ],
          [
           0.25,
           "rgb(198,219,239)"
          ],
          [
           0.375,
           "rgb(158,202,225)"
          ],
          [
           0.5,
           "rgb(107,174,214)"
          ],
          [
           0.625,
           "rgb(66,146,198)"
          ],
          [
           0.75,
           "rgb(33,113,181)"
          ],
          [
           0.875,
           "rgb(8,81,156)"
          ],
          [
           1,
           "rgb(8,48,107)"
          ]
         ],
         "showscale": true,
         "text": [
          [
           0,
           21,
           0,
           0,
           0,
           0
          ],
          [
           0,
           15,
           0,
           0,
           0,
           0
          ],
          [
           0,
           13,
           0,
           0,
           0,
           0
          ],
          [
           0,
           21,
           0,
           0,
           0,
           0
          ],
          [
           0,
           14,
           0,
           0,
           0,
           0
          ],
          [
           0,
           15,
           0,
           0,
           0,
           0
          ]
         ],
         "texttemplate": "%{text}",
         "type": "heatmap",
         "x": [
          "Predicted 0",
          "Predicted 1",
          "Predicted 2",
          "Predicted 3",
          "Predicted 4",
          "Predicted 5"
         ],
         "y": [
          "Actual 0",
          "Actual 1",
          "Actual 2",
          "Actual 3",
          "Actual 4",
          "Actual 5"
         ],
         "z": [
          [
           0,
           21,
           0,
           0,
           0,
           0
          ],
          [
           0,
           15,
           0,
           0,
           0,
           0
          ],
          [
           0,
           13,
           0,
           0,
           0,
           0
          ],
          [
           0,
           21,
           0,
           0,
           0,
           0
          ],
          [
           0,
           14,
           0,
           0,
           0,
           0
          ],
          [
           0,
           15,
           0,
           0,
           0,
           0
          ]
         ]
        }
       ],
       "layout": {
        "template": {
         "data": {
          "bar": [
           {
            "error_x": {
             "color": "#2a3f5f"
            },
            "error_y": {
             "color": "#2a3f5f"
            },
            "marker": {
             "line": {
              "color": "#E5ECF6",
              "width": 0.5
             },
             "pattern": {
              "fillmode": "overlay",
              "size": 10,
              "solidity": 0.2
             }
            },
            "type": "bar"
           }
          ],
          "barpolar": [
           {
            "marker": {
             "line": {
              "color": "#E5ECF6",
              "width": 0.5
             },
             "pattern": {
              "fillmode": "overlay",
              "size": 10,
              "solidity": 0.2
             }
            },
            "type": "barpolar"
           }
          ],
          "carpet": [
           {
            "aaxis": {
             "endlinecolor": "#2a3f5f",
             "gridcolor": "white",
             "linecolor": "white",
             "minorgridcolor": "white",
             "startlinecolor": "#2a3f5f"
            },
            "baxis": {
             "endlinecolor": "#2a3f5f",
             "gridcolor": "white",
             "linecolor": "white",
             "minorgridcolor": "white",
             "startlinecolor": "#2a3f5f"
            },
            "type": "carpet"
           }
          ],
          "choropleth": [
           {
            "colorbar": {
             "outlinewidth": 0,
             "ticks": ""
            },
            "type": "choropleth"
           }
          ],
          "contour": [
           {
            "colorbar": {
             "outlinewidth": 0,
             "ticks": ""
            },
            "colorscale": [
             [
              0,
              "#0d0887"
             ],
             [
              0.1111111111111111,
              "#46039f"
             ],
             [
              0.2222222222222222,
              "#7201a8"
             ],
             [
              0.3333333333333333,
              "#9c179e"
             ],
             [
              0.4444444444444444,
              "#bd3786"
             ],
             [
              0.5555555555555556,
              "#d8576b"
             ],
             [
              0.6666666666666666,
              "#ed7953"
             ],
             [
              0.7777777777777778,
              "#fb9f3a"
             ],
             [
              0.8888888888888888,
              "#fdca26"
             ],
             [
              1,
              "#f0f921"
             ]
            ],
            "type": "contour"
           }
          ],
          "contourcarpet": [
           {
            "colorbar": {
             "outlinewidth": 0,
             "ticks": ""
            },
            "type": "contourcarpet"
           }
          ],
          "heatmap": [
           {
            "colorbar": {
             "outlinewidth": 0,
             "ticks": ""
            },
            "colorscale": [
             [
              0,
              "#0d0887"
             ],
             [
              0.1111111111111111,
              "#46039f"
             ],
             [
              0.2222222222222222,
              "#7201a8"
             ],
             [
              0.3333333333333333,
              "#9c179e"
             ],
             [
              0.4444444444444444,
              "#bd3786"
             ],
             [
              0.5555555555555556,
              "#d8576b"
             ],
             [
              0.6666666666666666,
              "#ed7953"
             ],
             [
              0.7777777777777778,
              "#fb9f3a"
             ],
             [
              0.8888888888888888,
              "#fdca26"
             ],
             [
              1,
              "#f0f921"
             ]
            ],
            "type": "heatmap"
           }
          ],
          "heatmapgl": [
           {
            "colorbar": {
             "outlinewidth": 0,
             "ticks": ""
            },
            "colorscale": [
             [
              0,
              "#0d0887"
             ],
             [
              0.1111111111111111,
              "#46039f"
             ],
             [
              0.2222222222222222,
              "#7201a8"
             ],
             [
              0.3333333333333333,
              "#9c179e"
             ],
             [
              0.4444444444444444,
              "#bd3786"
             ],
             [
              0.5555555555555556,
              "#d8576b"
             ],
             [
              0.6666666666666666,
              "#ed7953"
             ],
             [
              0.7777777777777778,
              "#fb9f3a"
             ],
             [
              0.8888888888888888,
              "#fdca26"
             ],
             [
              1,
              "#f0f921"
             ]
            ],
            "type": "heatmapgl"
           }
          ],
          "histogram": [
           {
            "marker": {
             "pattern": {
              "fillmode": "overlay",
              "size": 10,
              "solidity": 0.2
             }
            },
            "type": "histogram"
           }
          ],
          "histogram2d": [
           {
            "colorbar": {
             "outlinewidth": 0,
             "ticks": ""
            },
            "colorscale": [
             [
              0,
              "#0d0887"
             ],
             [
              0.1111111111111111,
              "#46039f"
             ],
             [
              0.2222222222222222,
              "#7201a8"
             ],
             [
              0.3333333333333333,
              "#9c179e"
             ],
             [
              0.4444444444444444,
              "#bd3786"
             ],
             [
              0.5555555555555556,
              "#d8576b"
             ],
             [
              0.6666666666666666,
              "#ed7953"
             ],
             [
              0.7777777777777778,
              "#fb9f3a"
             ],
             [
              0.8888888888888888,
              "#fdca26"
             ],
             [
              1,
              "#f0f921"
             ]
            ],
            "type": "histogram2d"
           }
          ],
          "histogram2dcontour": [
           {
            "colorbar": {
             "outlinewidth": 0,
             "ticks": ""
            },
            "colorscale": [
             [
              0,
              "#0d0887"
             ],
             [
              0.1111111111111111,
              "#46039f"
             ],
             [
              0.2222222222222222,
              "#7201a8"
             ],
             [
              0.3333333333333333,
              "#9c179e"
             ],
             [
              0.4444444444444444,
              "#bd3786"
             ],
             [
              0.5555555555555556,
              "#d8576b"
             ],
             [
              0.6666666666666666,
              "#ed7953"
             ],
             [
              0.7777777777777778,
              "#fb9f3a"
             ],
             [
              0.8888888888888888,
              "#fdca26"
             ],
             [
              1,
              "#f0f921"
             ]
            ],
            "type": "histogram2dcontour"
           }
          ],
          "mesh3d": [
           {
            "colorbar": {
             "outlinewidth": 0,
             "ticks": ""
            },
            "type": "mesh3d"
           }
          ],
          "parcoords": [
           {
            "line": {
             "colorbar": {
              "outlinewidth": 0,
              "ticks": ""
             }
            },
            "type": "parcoords"
           }
          ],
          "pie": [
           {
            "automargin": true,
            "type": "pie"
           }
          ],
          "scatter": [
           {
            "fillpattern": {
             "fillmode": "overlay",
             "size": 10,
             "solidity": 0.2
            },
            "type": "scatter"
           }
          ],
          "scatter3d": [
           {
            "line": {
             "colorbar": {
              "outlinewidth": 0,
              "ticks": ""
             }
            },
            "marker": {
             "colorbar": {
              "outlinewidth": 0,
              "ticks": ""
             }
            },
            "type": "scatter3d"
           }
          ],
          "scattercarpet": [
           {
            "marker": {
             "colorbar": {
              "outlinewidth": 0,
              "ticks": ""
             }
            },
            "type": "scattercarpet"
           }
          ],
          "scattergeo": [
           {
            "marker": {
             "colorbar": {
              "outlinewidth": 0,
              "ticks": ""
             }
            },
            "type": "scattergeo"
           }
          ],
          "scattergl": [
           {
            "marker": {
             "colorbar": {
              "outlinewidth": 0,
              "ticks": ""
             }
            },
            "type": "scattergl"
           }
          ],
          "scattermapbox": [
           {
            "marker": {
             "colorbar": {
              "outlinewidth": 0,
              "ticks": ""
             }
            },
            "type": "scattermapbox"
           }
          ],
          "scatterpolar": [
           {
            "marker": {
             "colorbar": {
              "outlinewidth": 0,
              "ticks": ""
             }
            },
            "type": "scatterpolar"
           }
          ],
          "scatterpolargl": [
           {
            "marker": {
             "colorbar": {
              "outlinewidth": 0,
              "ticks": ""
             }
            },
            "type": "scatterpolargl"
           }
          ],
          "scatterternary": [
           {
            "marker": {
             "colorbar": {
              "outlinewidth": 0,
              "ticks": ""
             }
            },
            "type": "scatterternary"
           }
          ],
          "surface": [
           {
            "colorbar": {
             "outlinewidth": 0,
             "ticks": ""
            },
            "colorscale": [
             [
              0,
              "#0d0887"
             ],
             [
              0.1111111111111111,
              "#46039f"
             ],
             [
              0.2222222222222222,
              "#7201a8"
             ],
             [
              0.3333333333333333,
              "#9c179e"
             ],
             [
              0.4444444444444444,
              "#bd3786"
             ],
             [
              0.5555555555555556,
              "#d8576b"
             ],
             [
              0.6666666666666666,
              "#ed7953"
             ],
             [
              0.7777777777777778,
              "#fb9f3a"
             ],
             [
              0.8888888888888888,
              "#fdca26"
             ],
             [
              1,
              "#f0f921"
             ]
            ],
            "type": "surface"
           }
          ],
          "table": [
           {
            "cells": {
             "fill": {
              "color": "#EBF0F8"
             },
             "line": {
              "color": "white"
             }
            },
            "header": {
             "fill": {
              "color": "#C8D4E3"
             },
             "line": {
              "color": "white"
             }
            },
            "type": "table"
           }
          ]
         },
         "layout": {
          "annotationdefaults": {
           "arrowcolor": "#2a3f5f",
           "arrowhead": 0,
           "arrowwidth": 1
          },
          "autotypenumbers": "strict",
          "coloraxis": {
           "colorbar": {
            "outlinewidth": 0,
            "ticks": ""
           }
          },
          "colorscale": {
           "diverging": [
            [
             0,
             "#8e0152"
            ],
            [
             0.1,
             "#c51b7d"
            ],
            [
             0.2,
             "#de77ae"
            ],
            [
             0.3,
             "#f1b6da"
            ],
            [
             0.4,
             "#fde0ef"
            ],
            [
             0.5,
             "#f7f7f7"
            ],
            [
             0.6,
             "#e6f5d0"
            ],
            [
             0.7,
             "#b8e186"
            ],
            [
             0.8,
             "#7fbc41"
            ],
            [
             0.9,
             "#4d9221"
            ],
            [
             1,
             "#276419"
            ]
           ],
           "sequential": [
            [
             0,
             "#0d0887"
            ],
            [
             0.1111111111111111,
             "#46039f"
            ],
            [
             0.2222222222222222,
             "#7201a8"
            ],
            [
             0.3333333333333333,
             "#9c179e"
            ],
            [
             0.4444444444444444,
             "#bd3786"
            ],
            [
             0.5555555555555556,
             "#d8576b"
            ],
            [
             0.6666666666666666,
             "#ed7953"
            ],
            [
             0.7777777777777778,
             "#fb9f3a"
            ],
            [
             0.8888888888888888,
             "#fdca26"
            ],
            [
             1,
             "#f0f921"
            ]
           ],
           "sequentialminus": [
            [
             0,
             "#0d0887"
            ],
            [
             0.1111111111111111,
             "#46039f"
            ],
            [
             0.2222222222222222,
             "#7201a8"
            ],
            [
             0.3333333333333333,
             "#9c179e"
            ],
            [
             0.4444444444444444,
             "#bd3786"
            ],
            [
             0.5555555555555556,
             "#d8576b"
            ],
            [
             0.6666666666666666,
             "#ed7953"
            ],
            [
             0.7777777777777778,
             "#fb9f3a"
            ],
            [
             0.8888888888888888,
             "#fdca26"
            ],
            [
             1,
             "#f0f921"
            ]
           ]
          },
          "colorway": [
           "#636efa",
           "#EF553B",
           "#00cc96",
           "#ab63fa",
           "#FFA15A",
           "#19d3f3",
           "#FF6692",
           "#B6E880",
           "#FF97FF",
           "#FECB52"
          ],
          "font": {
           "color": "#2a3f5f"
          },
          "geo": {
           "bgcolor": "white",
           "lakecolor": "white",
           "landcolor": "#E5ECF6",
           "showlakes": true,
           "showland": true,
           "subunitcolor": "white"
          },
          "hoverlabel": {
           "align": "left"
          },
          "hovermode": "closest",
          "mapbox": {
           "style": "light"
          },
          "paper_bgcolor": "white",
          "plot_bgcolor": "#E5ECF6",
          "polar": {
           "angularaxis": {
            "gridcolor": "white",
            "linecolor": "white",
            "ticks": ""
           },
           "bgcolor": "#E5ECF6",
           "radialaxis": {
            "gridcolor": "white",
            "linecolor": "white",
            "ticks": ""
           }
          },
          "scene": {
           "xaxis": {
            "backgroundcolor": "#E5ECF6",
            "gridcolor": "white",
            "gridwidth": 2,
            "linecolor": "white",
            "showbackground": true,
            "ticks": "",
            "zerolinecolor": "white"
           },
           "yaxis": {
            "backgroundcolor": "#E5ECF6",
            "gridcolor": "white",
            "gridwidth": 2,
            "linecolor": "white",
            "showbackground": true,
            "ticks": "",
            "zerolinecolor": "white"
           },
           "zaxis": {
            "backgroundcolor": "#E5ECF6",
            "gridcolor": "white",
            "gridwidth": 2,
            "linecolor": "white",
            "showbackground": true,
            "ticks": "",
            "zerolinecolor": "white"
           }
          },
          "shapedefaults": {
           "line": {
            "color": "#2a3f5f"
           }
          },
          "ternary": {
           "aaxis": {
            "gridcolor": "white",
            "linecolor": "white",
            "ticks": ""
           },
           "baxis": {
            "gridcolor": "white",
            "linecolor": "white",
            "ticks": ""
           },
           "bgcolor": "#E5ECF6",
           "caxis": {
            "gridcolor": "white",
            "linecolor": "white",
            "ticks": ""
           }
          },
          "title": {
           "x": 0.05
          },
          "xaxis": {
           "automargin": true,
           "gridcolor": "white",
           "linecolor": "white",
           "ticks": "",
           "title": {
            "standoff": 15
           },
           "zerolinecolor": "white",
           "zerolinewidth": 2
          },
          "yaxis": {
           "automargin": true,
           "gridcolor": "white",
           "linecolor": "white",
           "ticks": "",
           "title": {
            "standoff": 15
           },
           "zerolinecolor": "white",
           "zerolinewidth": 2
          }
         }
        },
        "title": {
         "text": "Confusion Matrix for NeuralNetwork_2"
        },
        "xaxis": {
         "scaleanchor": "y",
         "scaleratio": 1,
         "title": {
          "text": "Predicted Label"
         }
        },
        "yaxis": {
         "title": {
          "text": "Actual Label"
         }
        }
       }
      }
     },
     "metadata": {},
     "output_type": "display_data"
    },
    {
     "name": "stdout",
     "output_type": "stream",
     "text": [
      "\n",
      "Training NeuralNetwork_3...\n"
     ]
    },
    {
     "name": "stderr",
     "output_type": "stream",
     "text": [
      "/home/nirav24/.local/lib/python3.12/site-packages/sklearn/neural_network/_multilayer_perceptron.py:690: ConvergenceWarning:\n",
      "\n",
      "Stochastic Optimizer: Maximum iterations (200) reached and the optimization hasn't converged yet.\n",
      "\n",
      "/home/nirav24/.local/lib/python3.12/site-packages/sklearn/metrics/_classification.py:1531: UndefinedMetricWarning:\n",
      "\n",
      "Precision is ill-defined and being set to 0.0 in labels with no predicted samples. Use `zero_division` parameter to control this behavior.\n",
      "\n",
      "/home/nirav24/.local/lib/python3.12/site-packages/sklearn/metrics/_classification.py:1531: UndefinedMetricWarning:\n",
      "\n",
      "Precision is ill-defined and being set to 0.0 in labels with no predicted samples. Use `zero_division` parameter to control this behavior.\n",
      "\n",
      "/home/nirav24/.local/lib/python3.12/site-packages/sklearn/metrics/_classification.py:1531: UndefinedMetricWarning:\n",
      "\n",
      "Precision is ill-defined and being set to 0.0 in labels with no predicted samples. Use `zero_division` parameter to control this behavior.\n",
      "\n",
      "/home/nirav24/.local/lib/python3.12/site-packages/sklearn/metrics/_classification.py:1531: UndefinedMetricWarning:\n",
      "\n",
      "Precision is ill-defined and being set to 0.0 in labels with no predicted samples. Use `zero_division` parameter to control this behavior.\n",
      "\n"
     ]
    },
    {
     "data": {
      "application/vnd.plotly.v1+json": {
       "config": {
        "plotlyServerURL": "https://plot.ly"
       },
       "data": [
        {
         "colorscale": [
          [
           0,
           "rgb(247,251,255)"
          ],
          [
           0.125,
           "rgb(222,235,247)"
          ],
          [
           0.25,
           "rgb(198,219,239)"
          ],
          [
           0.375,
           "rgb(158,202,225)"
          ],
          [
           0.5,
           "rgb(107,174,214)"
          ],
          [
           0.625,
           "rgb(66,146,198)"
          ],
          [
           0.75,
           "rgb(33,113,181)"
          ],
          [
           0.875,
           "rgb(8,81,156)"
          ],
          [
           1,
           "rgb(8,48,107)"
          ]
         ],
         "showscale": true,
         "text": [
          [
           21,
           0,
           0,
           0,
           0,
           0
          ],
          [
           15,
           0,
           0,
           0,
           0,
           0
          ],
          [
           13,
           0,
           0,
           0,
           0,
           0
          ],
          [
           21,
           0,
           0,
           0,
           0,
           0
          ],
          [
           14,
           0,
           0,
           0,
           0,
           0
          ],
          [
           15,
           0,
           0,
           0,
           0,
           0
          ]
         ],
         "texttemplate": "%{text}",
         "type": "heatmap",
         "x": [
          "Predicted 0",
          "Predicted 1",
          "Predicted 2",
          "Predicted 3",
          "Predicted 4",
          "Predicted 5"
         ],
         "y": [
          "Actual 0",
          "Actual 1",
          "Actual 2",
          "Actual 3",
          "Actual 4",
          "Actual 5"
         ],
         "z": [
          [
           21,
           0,
           0,
           0,
           0,
           0
          ],
          [
           15,
           0,
           0,
           0,
           0,
           0
          ],
          [
           13,
           0,
           0,
           0,
           0,
           0
          ],
          [
           21,
           0,
           0,
           0,
           0,
           0
          ],
          [
           14,
           0,
           0,
           0,
           0,
           0
          ],
          [
           15,
           0,
           0,
           0,
           0,
           0
          ]
         ]
        }
       ],
       "layout": {
        "template": {
         "data": {
          "bar": [
           {
            "error_x": {
             "color": "#2a3f5f"
            },
            "error_y": {
             "color": "#2a3f5f"
            },
            "marker": {
             "line": {
              "color": "#E5ECF6",
              "width": 0.5
             },
             "pattern": {
              "fillmode": "overlay",
              "size": 10,
              "solidity": 0.2
             }
            },
            "type": "bar"
           }
          ],
          "barpolar": [
           {
            "marker": {
             "line": {
              "color": "#E5ECF6",
              "width": 0.5
             },
             "pattern": {
              "fillmode": "overlay",
              "size": 10,
              "solidity": 0.2
             }
            },
            "type": "barpolar"
           }
          ],
          "carpet": [
           {
            "aaxis": {
             "endlinecolor": "#2a3f5f",
             "gridcolor": "white",
             "linecolor": "white",
             "minorgridcolor": "white",
             "startlinecolor": "#2a3f5f"
            },
            "baxis": {
             "endlinecolor": "#2a3f5f",
             "gridcolor": "white",
             "linecolor": "white",
             "minorgridcolor": "white",
             "startlinecolor": "#2a3f5f"
            },
            "type": "carpet"
           }
          ],
          "choropleth": [
           {
            "colorbar": {
             "outlinewidth": 0,
             "ticks": ""
            },
            "type": "choropleth"
           }
          ],
          "contour": [
           {
            "colorbar": {
             "outlinewidth": 0,
             "ticks": ""
            },
            "colorscale": [
             [
              0,
              "#0d0887"
             ],
             [
              0.1111111111111111,
              "#46039f"
             ],
             [
              0.2222222222222222,
              "#7201a8"
             ],
             [
              0.3333333333333333,
              "#9c179e"
             ],
             [
              0.4444444444444444,
              "#bd3786"
             ],
             [
              0.5555555555555556,
              "#d8576b"
             ],
             [
              0.6666666666666666,
              "#ed7953"
             ],
             [
              0.7777777777777778,
              "#fb9f3a"
             ],
             [
              0.8888888888888888,
              "#fdca26"
             ],
             [
              1,
              "#f0f921"
             ]
            ],
            "type": "contour"
           }
          ],
          "contourcarpet": [
           {
            "colorbar": {
             "outlinewidth": 0,
             "ticks": ""
            },
            "type": "contourcarpet"
           }
          ],
          "heatmap": [
           {
            "colorbar": {
             "outlinewidth": 0,
             "ticks": ""
            },
            "colorscale": [
             [
              0,
              "#0d0887"
             ],
             [
              0.1111111111111111,
              "#46039f"
             ],
             [
              0.2222222222222222,
              "#7201a8"
             ],
             [
              0.3333333333333333,
              "#9c179e"
             ],
             [
              0.4444444444444444,
              "#bd3786"
             ],
             [
              0.5555555555555556,
              "#d8576b"
             ],
             [
              0.6666666666666666,
              "#ed7953"
             ],
             [
              0.7777777777777778,
              "#fb9f3a"
             ],
             [
              0.8888888888888888,
              "#fdca26"
             ],
             [
              1,
              "#f0f921"
             ]
            ],
            "type": "heatmap"
           }
          ],
          "heatmapgl": [
           {
            "colorbar": {
             "outlinewidth": 0,
             "ticks": ""
            },
            "colorscale": [
             [
              0,
              "#0d0887"
             ],
             [
              0.1111111111111111,
              "#46039f"
             ],
             [
              0.2222222222222222,
              "#7201a8"
             ],
             [
              0.3333333333333333,
              "#9c179e"
             ],
             [
              0.4444444444444444,
              "#bd3786"
             ],
             [
              0.5555555555555556,
              "#d8576b"
             ],
             [
              0.6666666666666666,
              "#ed7953"
             ],
             [
              0.7777777777777778,
              "#fb9f3a"
             ],
             [
              0.8888888888888888,
              "#fdca26"
             ],
             [
              1,
              "#f0f921"
             ]
            ],
            "type": "heatmapgl"
           }
          ],
          "histogram": [
           {
            "marker": {
             "pattern": {
              "fillmode": "overlay",
              "size": 10,
              "solidity": 0.2
             }
            },
            "type": "histogram"
           }
          ],
          "histogram2d": [
           {
            "colorbar": {
             "outlinewidth": 0,
             "ticks": ""
            },
            "colorscale": [
             [
              0,
              "#0d0887"
             ],
             [
              0.1111111111111111,
              "#46039f"
             ],
             [
              0.2222222222222222,
              "#7201a8"
             ],
             [
              0.3333333333333333,
              "#9c179e"
             ],
             [
              0.4444444444444444,
              "#bd3786"
             ],
             [
              0.5555555555555556,
              "#d8576b"
             ],
             [
              0.6666666666666666,
              "#ed7953"
             ],
             [
              0.7777777777777778,
              "#fb9f3a"
             ],
             [
              0.8888888888888888,
              "#fdca26"
             ],
             [
              1,
              "#f0f921"
             ]
            ],
            "type": "histogram2d"
           }
          ],
          "histogram2dcontour": [
           {
            "colorbar": {
             "outlinewidth": 0,
             "ticks": ""
            },
            "colorscale": [
             [
              0,
              "#0d0887"
             ],
             [
              0.1111111111111111,
              "#46039f"
             ],
             [
              0.2222222222222222,
              "#7201a8"
             ],
             [
              0.3333333333333333,
              "#9c179e"
             ],
             [
              0.4444444444444444,
              "#bd3786"
             ],
             [
              0.5555555555555556,
              "#d8576b"
             ],
             [
              0.6666666666666666,
              "#ed7953"
             ],
             [
              0.7777777777777778,
              "#fb9f3a"
             ],
             [
              0.8888888888888888,
              "#fdca26"
             ],
             [
              1,
              "#f0f921"
             ]
            ],
            "type": "histogram2dcontour"
           }
          ],
          "mesh3d": [
           {
            "colorbar": {
             "outlinewidth": 0,
             "ticks": ""
            },
            "type": "mesh3d"
           }
          ],
          "parcoords": [
           {
            "line": {
             "colorbar": {
              "outlinewidth": 0,
              "ticks": ""
             }
            },
            "type": "parcoords"
           }
          ],
          "pie": [
           {
            "automargin": true,
            "type": "pie"
           }
          ],
          "scatter": [
           {
            "fillpattern": {
             "fillmode": "overlay",
             "size": 10,
             "solidity": 0.2
            },
            "type": "scatter"
           }
          ],
          "scatter3d": [
           {
            "line": {
             "colorbar": {
              "outlinewidth": 0,
              "ticks": ""
             }
            },
            "marker": {
             "colorbar": {
              "outlinewidth": 0,
              "ticks": ""
             }
            },
            "type": "scatter3d"
           }
          ],
          "scattercarpet": [
           {
            "marker": {
             "colorbar": {
              "outlinewidth": 0,
              "ticks": ""
             }
            },
            "type": "scattercarpet"
           }
          ],
          "scattergeo": [
           {
            "marker": {
             "colorbar": {
              "outlinewidth": 0,
              "ticks": ""
             }
            },
            "type": "scattergeo"
           }
          ],
          "scattergl": [
           {
            "marker": {
             "colorbar": {
              "outlinewidth": 0,
              "ticks": ""
             }
            },
            "type": "scattergl"
           }
          ],
          "scattermapbox": [
           {
            "marker": {
             "colorbar": {
              "outlinewidth": 0,
              "ticks": ""
             }
            },
            "type": "scattermapbox"
           }
          ],
          "scatterpolar": [
           {
            "marker": {
             "colorbar": {
              "outlinewidth": 0,
              "ticks": ""
             }
            },
            "type": "scatterpolar"
           }
          ],
          "scatterpolargl": [
           {
            "marker": {
             "colorbar": {
              "outlinewidth": 0,
              "ticks": ""
             }
            },
            "type": "scatterpolargl"
           }
          ],
          "scatterternary": [
           {
            "marker": {
             "colorbar": {
              "outlinewidth": 0,
              "ticks": ""
             }
            },
            "type": "scatterternary"
           }
          ],
          "surface": [
           {
            "colorbar": {
             "outlinewidth": 0,
             "ticks": ""
            },
            "colorscale": [
             [
              0,
              "#0d0887"
             ],
             [
              0.1111111111111111,
              "#46039f"
             ],
             [
              0.2222222222222222,
              "#7201a8"
             ],
             [
              0.3333333333333333,
              "#9c179e"
             ],
             [
              0.4444444444444444,
              "#bd3786"
             ],
             [
              0.5555555555555556,
              "#d8576b"
             ],
             [
              0.6666666666666666,
              "#ed7953"
             ],
             [
              0.7777777777777778,
              "#fb9f3a"
             ],
             [
              0.8888888888888888,
              "#fdca26"
             ],
             [
              1,
              "#f0f921"
             ]
            ],
            "type": "surface"
           }
          ],
          "table": [
           {
            "cells": {
             "fill": {
              "color": "#EBF0F8"
             },
             "line": {
              "color": "white"
             }
            },
            "header": {
             "fill": {
              "color": "#C8D4E3"
             },
             "line": {
              "color": "white"
             }
            },
            "type": "table"
           }
          ]
         },
         "layout": {
          "annotationdefaults": {
           "arrowcolor": "#2a3f5f",
           "arrowhead": 0,
           "arrowwidth": 1
          },
          "autotypenumbers": "strict",
          "coloraxis": {
           "colorbar": {
            "outlinewidth": 0,
            "ticks": ""
           }
          },
          "colorscale": {
           "diverging": [
            [
             0,
             "#8e0152"
            ],
            [
             0.1,
             "#c51b7d"
            ],
            [
             0.2,
             "#de77ae"
            ],
            [
             0.3,
             "#f1b6da"
            ],
            [
             0.4,
             "#fde0ef"
            ],
            [
             0.5,
             "#f7f7f7"
            ],
            [
             0.6,
             "#e6f5d0"
            ],
            [
             0.7,
             "#b8e186"
            ],
            [
             0.8,
             "#7fbc41"
            ],
            [
             0.9,
             "#4d9221"
            ],
            [
             1,
             "#276419"
            ]
           ],
           "sequential": [
            [
             0,
             "#0d0887"
            ],
            [
             0.1111111111111111,
             "#46039f"
            ],
            [
             0.2222222222222222,
             "#7201a8"
            ],
            [
             0.3333333333333333,
             "#9c179e"
            ],
            [
             0.4444444444444444,
             "#bd3786"
            ],
            [
             0.5555555555555556,
             "#d8576b"
            ],
            [
             0.6666666666666666,
             "#ed7953"
            ],
            [
             0.7777777777777778,
             "#fb9f3a"
            ],
            [
             0.8888888888888888,
             "#fdca26"
            ],
            [
             1,
             "#f0f921"
            ]
           ],
           "sequentialminus": [
            [
             0,
             "#0d0887"
            ],
            [
             0.1111111111111111,
             "#46039f"
            ],
            [
             0.2222222222222222,
             "#7201a8"
            ],
            [
             0.3333333333333333,
             "#9c179e"
            ],
            [
             0.4444444444444444,
             "#bd3786"
            ],
            [
             0.5555555555555556,
             "#d8576b"
            ],
            [
             0.6666666666666666,
             "#ed7953"
            ],
            [
             0.7777777777777778,
             "#fb9f3a"
            ],
            [
             0.8888888888888888,
             "#fdca26"
            ],
            [
             1,
             "#f0f921"
            ]
           ]
          },
          "colorway": [
           "#636efa",
           "#EF553B",
           "#00cc96",
           "#ab63fa",
           "#FFA15A",
           "#19d3f3",
           "#FF6692",
           "#B6E880",
           "#FF97FF",
           "#FECB52"
          ],
          "font": {
           "color": "#2a3f5f"
          },
          "geo": {
           "bgcolor": "white",
           "lakecolor": "white",
           "landcolor": "#E5ECF6",
           "showlakes": true,
           "showland": true,
           "subunitcolor": "white"
          },
          "hoverlabel": {
           "align": "left"
          },
          "hovermode": "closest",
          "mapbox": {
           "style": "light"
          },
          "paper_bgcolor": "white",
          "plot_bgcolor": "#E5ECF6",
          "polar": {
           "angularaxis": {
            "gridcolor": "white",
            "linecolor": "white",
            "ticks": ""
           },
           "bgcolor": "#E5ECF6",
           "radialaxis": {
            "gridcolor": "white",
            "linecolor": "white",
            "ticks": ""
           }
          },
          "scene": {
           "xaxis": {
            "backgroundcolor": "#E5ECF6",
            "gridcolor": "white",
            "gridwidth": 2,
            "linecolor": "white",
            "showbackground": true,
            "ticks": "",
            "zerolinecolor": "white"
           },
           "yaxis": {
            "backgroundcolor": "#E5ECF6",
            "gridcolor": "white",
            "gridwidth": 2,
            "linecolor": "white",
            "showbackground": true,
            "ticks": "",
            "zerolinecolor": "white"
           },
           "zaxis": {
            "backgroundcolor": "#E5ECF6",
            "gridcolor": "white",
            "gridwidth": 2,
            "linecolor": "white",
            "showbackground": true,
            "ticks": "",
            "zerolinecolor": "white"
           }
          },
          "shapedefaults": {
           "line": {
            "color": "#2a3f5f"
           }
          },
          "ternary": {
           "aaxis": {
            "gridcolor": "white",
            "linecolor": "white",
            "ticks": ""
           },
           "baxis": {
            "gridcolor": "white",
            "linecolor": "white",
            "ticks": ""
           },
           "bgcolor": "#E5ECF6",
           "caxis": {
            "gridcolor": "white",
            "linecolor": "white",
            "ticks": ""
           }
          },
          "title": {
           "x": 0.05
          },
          "xaxis": {
           "automargin": true,
           "gridcolor": "white",
           "linecolor": "white",
           "ticks": "",
           "title": {
            "standoff": 15
           },
           "zerolinecolor": "white",
           "zerolinewidth": 2
          },
          "yaxis": {
           "automargin": true,
           "gridcolor": "white",
           "linecolor": "white",
           "ticks": "",
           "title": {
            "standoff": 15
           },
           "zerolinecolor": "white",
           "zerolinewidth": 2
          }
         }
        },
        "title": {
         "text": "Confusion Matrix for NeuralNetwork_3"
        },
        "xaxis": {
         "scaleanchor": "y",
         "scaleratio": 1,
         "title": {
          "text": "Predicted Label"
         }
        },
        "yaxis": {
         "title": {
          "text": "Actual Label"
         }
        }
       }
      }
     },
     "metadata": {},
     "output_type": "display_data"
    },
    {
     "name": "stdout",
     "output_type": "stream",
     "text": [
      "\n",
      "Training NeuralNetwork_4...\n"
     ]
    },
    {
     "data": {
      "application/vnd.plotly.v1+json": {
       "config": {
        "plotlyServerURL": "https://plot.ly"
       },
       "data": [
        {
         "colorscale": [
          [
           0,
           "rgb(247,251,255)"
          ],
          [
           0.125,
           "rgb(222,235,247)"
          ],
          [
           0.25,
           "rgb(198,219,239)"
          ],
          [
           0.375,
           "rgb(158,202,225)"
          ],
          [
           0.5,
           "rgb(107,174,214)"
          ],
          [
           0.625,
           "rgb(66,146,198)"
          ],
          [
           0.75,
           "rgb(33,113,181)"
          ],
          [
           0.875,
           "rgb(8,81,156)"
          ],
          [
           1,
           "rgb(8,48,107)"
          ]
         ],
         "showscale": true,
         "text": [
          [
           2,
           5,
           0,
           2,
           12,
           0
          ],
          [
           0,
           8,
           0,
           1,
           6,
           0
          ],
          [
           1,
           0,
           8,
           0,
           1,
           3
          ],
          [
           1,
           3,
           0,
           14,
           3,
           0
          ],
          [
           2,
           8,
           1,
           1,
           2,
           0
          ],
          [
           0,
           11,
           0,
           4,
           0,
           0
          ]
         ],
         "texttemplate": "%{text}",
         "type": "heatmap",
         "x": [
          "Predicted 0",
          "Predicted 1",
          "Predicted 2",
          "Predicted 3",
          "Predicted 4",
          "Predicted 5"
         ],
         "y": [
          "Actual 0",
          "Actual 1",
          "Actual 2",
          "Actual 3",
          "Actual 4",
          "Actual 5"
         ],
         "z": [
          [
           2,
           5,
           0,
           2,
           12,
           0
          ],
          [
           0,
           8,
           0,
           1,
           6,
           0
          ],
          [
           1,
           0,
           8,
           0,
           1,
           3
          ],
          [
           1,
           3,
           0,
           14,
           3,
           0
          ],
          [
           2,
           8,
           1,
           1,
           2,
           0
          ],
          [
           0,
           11,
           0,
           4,
           0,
           0
          ]
         ]
        }
       ],
       "layout": {
        "template": {
         "data": {
          "bar": [
           {
            "error_x": {
             "color": "#2a3f5f"
            },
            "error_y": {
             "color": "#2a3f5f"
            },
            "marker": {
             "line": {
              "color": "#E5ECF6",
              "width": 0.5
             },
             "pattern": {
              "fillmode": "overlay",
              "size": 10,
              "solidity": 0.2
             }
            },
            "type": "bar"
           }
          ],
          "barpolar": [
           {
            "marker": {
             "line": {
              "color": "#E5ECF6",
              "width": 0.5
             },
             "pattern": {
              "fillmode": "overlay",
              "size": 10,
              "solidity": 0.2
             }
            },
            "type": "barpolar"
           }
          ],
          "carpet": [
           {
            "aaxis": {
             "endlinecolor": "#2a3f5f",
             "gridcolor": "white",
             "linecolor": "white",
             "minorgridcolor": "white",
             "startlinecolor": "#2a3f5f"
            },
            "baxis": {
             "endlinecolor": "#2a3f5f",
             "gridcolor": "white",
             "linecolor": "white",
             "minorgridcolor": "white",
             "startlinecolor": "#2a3f5f"
            },
            "type": "carpet"
           }
          ],
          "choropleth": [
           {
            "colorbar": {
             "outlinewidth": 0,
             "ticks": ""
            },
            "type": "choropleth"
           }
          ],
          "contour": [
           {
            "colorbar": {
             "outlinewidth": 0,
             "ticks": ""
            },
            "colorscale": [
             [
              0,
              "#0d0887"
             ],
             [
              0.1111111111111111,
              "#46039f"
             ],
             [
              0.2222222222222222,
              "#7201a8"
             ],
             [
              0.3333333333333333,
              "#9c179e"
             ],
             [
              0.4444444444444444,
              "#bd3786"
             ],
             [
              0.5555555555555556,
              "#d8576b"
             ],
             [
              0.6666666666666666,
              "#ed7953"
             ],
             [
              0.7777777777777778,
              "#fb9f3a"
             ],
             [
              0.8888888888888888,
              "#fdca26"
             ],
             [
              1,
              "#f0f921"
             ]
            ],
            "type": "contour"
           }
          ],
          "contourcarpet": [
           {
            "colorbar": {
             "outlinewidth": 0,
             "ticks": ""
            },
            "type": "contourcarpet"
           }
          ],
          "heatmap": [
           {
            "colorbar": {
             "outlinewidth": 0,
             "ticks": ""
            },
            "colorscale": [
             [
              0,
              "#0d0887"
             ],
             [
              0.1111111111111111,
              "#46039f"
             ],
             [
              0.2222222222222222,
              "#7201a8"
             ],
             [
              0.3333333333333333,
              "#9c179e"
             ],
             [
              0.4444444444444444,
              "#bd3786"
             ],
             [
              0.5555555555555556,
              "#d8576b"
             ],
             [
              0.6666666666666666,
              "#ed7953"
             ],
             [
              0.7777777777777778,
              "#fb9f3a"
             ],
             [
              0.8888888888888888,
              "#fdca26"
             ],
             [
              1,
              "#f0f921"
             ]
            ],
            "type": "heatmap"
           }
          ],
          "heatmapgl": [
           {
            "colorbar": {
             "outlinewidth": 0,
             "ticks": ""
            },
            "colorscale": [
             [
              0,
              "#0d0887"
             ],
             [
              0.1111111111111111,
              "#46039f"
             ],
             [
              0.2222222222222222,
              "#7201a8"
             ],
             [
              0.3333333333333333,
              "#9c179e"
             ],
             [
              0.4444444444444444,
              "#bd3786"
             ],
             [
              0.5555555555555556,
              "#d8576b"
             ],
             [
              0.6666666666666666,
              "#ed7953"
             ],
             [
              0.7777777777777778,
              "#fb9f3a"
             ],
             [
              0.8888888888888888,
              "#fdca26"
             ],
             [
              1,
              "#f0f921"
             ]
            ],
            "type": "heatmapgl"
           }
          ],
          "histogram": [
           {
            "marker": {
             "pattern": {
              "fillmode": "overlay",
              "size": 10,
              "solidity": 0.2
             }
            },
            "type": "histogram"
           }
          ],
          "histogram2d": [
           {
            "colorbar": {
             "outlinewidth": 0,
             "ticks": ""
            },
            "colorscale": [
             [
              0,
              "#0d0887"
             ],
             [
              0.1111111111111111,
              "#46039f"
             ],
             [
              0.2222222222222222,
              "#7201a8"
             ],
             [
              0.3333333333333333,
              "#9c179e"
             ],
             [
              0.4444444444444444,
              "#bd3786"
             ],
             [
              0.5555555555555556,
              "#d8576b"
             ],
             [
              0.6666666666666666,
              "#ed7953"
             ],
             [
              0.7777777777777778,
              "#fb9f3a"
             ],
             [
              0.8888888888888888,
              "#fdca26"
             ],
             [
              1,
              "#f0f921"
             ]
            ],
            "type": "histogram2d"
           }
          ],
          "histogram2dcontour": [
           {
            "colorbar": {
             "outlinewidth": 0,
             "ticks": ""
            },
            "colorscale": [
             [
              0,
              "#0d0887"
             ],
             [
              0.1111111111111111,
              "#46039f"
             ],
             [
              0.2222222222222222,
              "#7201a8"
             ],
             [
              0.3333333333333333,
              "#9c179e"
             ],
             [
              0.4444444444444444,
              "#bd3786"
             ],
             [
              0.5555555555555556,
              "#d8576b"
             ],
             [
              0.6666666666666666,
              "#ed7953"
             ],
             [
              0.7777777777777778,
              "#fb9f3a"
             ],
             [
              0.8888888888888888,
              "#fdca26"
             ],
             [
              1,
              "#f0f921"
             ]
            ],
            "type": "histogram2dcontour"
           }
          ],
          "mesh3d": [
           {
            "colorbar": {
             "outlinewidth": 0,
             "ticks": ""
            },
            "type": "mesh3d"
           }
          ],
          "parcoords": [
           {
            "line": {
             "colorbar": {
              "outlinewidth": 0,
              "ticks": ""
             }
            },
            "type": "parcoords"
           }
          ],
          "pie": [
           {
            "automargin": true,
            "type": "pie"
           }
          ],
          "scatter": [
           {
            "fillpattern": {
             "fillmode": "overlay",
             "size": 10,
             "solidity": 0.2
            },
            "type": "scatter"
           }
          ],
          "scatter3d": [
           {
            "line": {
             "colorbar": {
              "outlinewidth": 0,
              "ticks": ""
             }
            },
            "marker": {
             "colorbar": {
              "outlinewidth": 0,
              "ticks": ""
             }
            },
            "type": "scatter3d"
           }
          ],
          "scattercarpet": [
           {
            "marker": {
             "colorbar": {
              "outlinewidth": 0,
              "ticks": ""
             }
            },
            "type": "scattercarpet"
           }
          ],
          "scattergeo": [
           {
            "marker": {
             "colorbar": {
              "outlinewidth": 0,
              "ticks": ""
             }
            },
            "type": "scattergeo"
           }
          ],
          "scattergl": [
           {
            "marker": {
             "colorbar": {
              "outlinewidth": 0,
              "ticks": ""
             }
            },
            "type": "scattergl"
           }
          ],
          "scattermapbox": [
           {
            "marker": {
             "colorbar": {
              "outlinewidth": 0,
              "ticks": ""
             }
            },
            "type": "scattermapbox"
           }
          ],
          "scatterpolar": [
           {
            "marker": {
             "colorbar": {
              "outlinewidth": 0,
              "ticks": ""
             }
            },
            "type": "scatterpolar"
           }
          ],
          "scatterpolargl": [
           {
            "marker": {
             "colorbar": {
              "outlinewidth": 0,
              "ticks": ""
             }
            },
            "type": "scatterpolargl"
           }
          ],
          "scatterternary": [
           {
            "marker": {
             "colorbar": {
              "outlinewidth": 0,
              "ticks": ""
             }
            },
            "type": "scatterternary"
           }
          ],
          "surface": [
           {
            "colorbar": {
             "outlinewidth": 0,
             "ticks": ""
            },
            "colorscale": [
             [
              0,
              "#0d0887"
             ],
             [
              0.1111111111111111,
              "#46039f"
             ],
             [
              0.2222222222222222,
              "#7201a8"
             ],
             [
              0.3333333333333333,
              "#9c179e"
             ],
             [
              0.4444444444444444,
              "#bd3786"
             ],
             [
              0.5555555555555556,
              "#d8576b"
             ],
             [
              0.6666666666666666,
              "#ed7953"
             ],
             [
              0.7777777777777778,
              "#fb9f3a"
             ],
             [
              0.8888888888888888,
              "#fdca26"
             ],
             [
              1,
              "#f0f921"
             ]
            ],
            "type": "surface"
           }
          ],
          "table": [
           {
            "cells": {
             "fill": {
              "color": "#EBF0F8"
             },
             "line": {
              "color": "white"
             }
            },
            "header": {
             "fill": {
              "color": "#C8D4E3"
             },
             "line": {
              "color": "white"
             }
            },
            "type": "table"
           }
          ]
         },
         "layout": {
          "annotationdefaults": {
           "arrowcolor": "#2a3f5f",
           "arrowhead": 0,
           "arrowwidth": 1
          },
          "autotypenumbers": "strict",
          "coloraxis": {
           "colorbar": {
            "outlinewidth": 0,
            "ticks": ""
           }
          },
          "colorscale": {
           "diverging": [
            [
             0,
             "#8e0152"
            ],
            [
             0.1,
             "#c51b7d"
            ],
            [
             0.2,
             "#de77ae"
            ],
            [
             0.3,
             "#f1b6da"
            ],
            [
             0.4,
             "#fde0ef"
            ],
            [
             0.5,
             "#f7f7f7"
            ],
            [
             0.6,
             "#e6f5d0"
            ],
            [
             0.7,
             "#b8e186"
            ],
            [
             0.8,
             "#7fbc41"
            ],
            [
             0.9,
             "#4d9221"
            ],
            [
             1,
             "#276419"
            ]
           ],
           "sequential": [
            [
             0,
             "#0d0887"
            ],
            [
             0.1111111111111111,
             "#46039f"
            ],
            [
             0.2222222222222222,
             "#7201a8"
            ],
            [
             0.3333333333333333,
             "#9c179e"
            ],
            [
             0.4444444444444444,
             "#bd3786"
            ],
            [
             0.5555555555555556,
             "#d8576b"
            ],
            [
             0.6666666666666666,
             "#ed7953"
            ],
            [
             0.7777777777777778,
             "#fb9f3a"
            ],
            [
             0.8888888888888888,
             "#fdca26"
            ],
            [
             1,
             "#f0f921"
            ]
           ],
           "sequentialminus": [
            [
             0,
             "#0d0887"
            ],
            [
             0.1111111111111111,
             "#46039f"
            ],
            [
             0.2222222222222222,
             "#7201a8"
            ],
            [
             0.3333333333333333,
             "#9c179e"
            ],
            [
             0.4444444444444444,
             "#bd3786"
            ],
            [
             0.5555555555555556,
             "#d8576b"
            ],
            [
             0.6666666666666666,
             "#ed7953"
            ],
            [
             0.7777777777777778,
             "#fb9f3a"
            ],
            [
             0.8888888888888888,
             "#fdca26"
            ],
            [
             1,
             "#f0f921"
            ]
           ]
          },
          "colorway": [
           "#636efa",
           "#EF553B",
           "#00cc96",
           "#ab63fa",
           "#FFA15A",
           "#19d3f3",
           "#FF6692",
           "#B6E880",
           "#FF97FF",
           "#FECB52"
          ],
          "font": {
           "color": "#2a3f5f"
          },
          "geo": {
           "bgcolor": "white",
           "lakecolor": "white",
           "landcolor": "#E5ECF6",
           "showlakes": true,
           "showland": true,
           "subunitcolor": "white"
          },
          "hoverlabel": {
           "align": "left"
          },
          "hovermode": "closest",
          "mapbox": {
           "style": "light"
          },
          "paper_bgcolor": "white",
          "plot_bgcolor": "#E5ECF6",
          "polar": {
           "angularaxis": {
            "gridcolor": "white",
            "linecolor": "white",
            "ticks": ""
           },
           "bgcolor": "#E5ECF6",
           "radialaxis": {
            "gridcolor": "white",
            "linecolor": "white",
            "ticks": ""
           }
          },
          "scene": {
           "xaxis": {
            "backgroundcolor": "#E5ECF6",
            "gridcolor": "white",
            "gridwidth": 2,
            "linecolor": "white",
            "showbackground": true,
            "ticks": "",
            "zerolinecolor": "white"
           },
           "yaxis": {
            "backgroundcolor": "#E5ECF6",
            "gridcolor": "white",
            "gridwidth": 2,
            "linecolor": "white",
            "showbackground": true,
            "ticks": "",
            "zerolinecolor": "white"
           },
           "zaxis": {
            "backgroundcolor": "#E5ECF6",
            "gridcolor": "white",
            "gridwidth": 2,
            "linecolor": "white",
            "showbackground": true,
            "ticks": "",
            "zerolinecolor": "white"
           }
          },
          "shapedefaults": {
           "line": {
            "color": "#2a3f5f"
           }
          },
          "ternary": {
           "aaxis": {
            "gridcolor": "white",
            "linecolor": "white",
            "ticks": ""
           },
           "baxis": {
            "gridcolor": "white",
            "linecolor": "white",
            "ticks": ""
           },
           "bgcolor": "#E5ECF6",
           "caxis": {
            "gridcolor": "white",
            "linecolor": "white",
            "ticks": ""
           }
          },
          "title": {
           "x": 0.05
          },
          "xaxis": {
           "automargin": true,
           "gridcolor": "white",
           "linecolor": "white",
           "ticks": "",
           "title": {
            "standoff": 15
           },
           "zerolinecolor": "white",
           "zerolinewidth": 2
          },
          "yaxis": {
           "automargin": true,
           "gridcolor": "white",
           "linecolor": "white",
           "ticks": "",
           "title": {
            "standoff": 15
           },
           "zerolinecolor": "white",
           "zerolinewidth": 2
          }
         }
        },
        "title": {
         "text": "Confusion Matrix for NeuralNetwork_4"
        },
        "xaxis": {
         "scaleanchor": "y",
         "scaleratio": 1,
         "title": {
          "text": "Predicted Label"
         }
        },
        "yaxis": {
         "title": {
          "text": "Actual Label"
         }
        }
       }
      }
     },
     "metadata": {},
     "output_type": "display_data"
    }
   ],
   "source": [
    "import plotly.graph_objects as go\n",
    "\n",
    "results = {}\n",
    "\n",
    "# Training, prediction, and metric calculations\n",
    "for model_name, model in models.items():\n",
    "    print(f\"\\nTraining {model_name}...\")\n",
    "    model.fit(X_train, y_train_encoded)  # Train the model\n",
    "    y_pred = model.predict(X_test)  # Predict on the test set\n",
    "    \n",
    "    # Storing metrics\n",
    "    results[model_name] = {\n",
    "        \"Accuracy\": accuracy_score(y_test_encoded, y_pred),\n",
    "        \"Precision\": precision_score(y_test_encoded, y_pred, average='weighted'),\n",
    "        \"Recall\": recall_score(y_test_encoded, y_pred, average='weighted'),\n",
    "        \"F1 Score\": f1_score(y_test_encoded, y_pred, average='weighted'),\n",
    "        \"Confusion Matrix\": confusion_matrix(y_test_encoded, y_pred),\n",
    "        \"Classification Report\": classification_report(y_test_encoded, y_pred)\n",
    "    }\n",
    "\n",
    "    # Plotting the confusion matrix using Plotly with numbers displayed and square grid\n",
    "    confusion_mat = results[model_name][\"Confusion Matrix\"]\n",
    "    fig = go.Figure(data=go.Heatmap(\n",
    "        z=confusion_mat,\n",
    "        x=[f\"Predicted {i}\" for i in range(len(confusion_mat))],\n",
    "        y=[f\"Actual {i}\" for i in range(len(confusion_mat))],\n",
    "        colorscale=\"Blues\",\n",
    "        text=confusion_mat,  # Display numbers in each cell\n",
    "        texttemplate=\"%{text}\",  # Format to show text values\n",
    "        showscale=True\n",
    "    ))\n",
    "    fig.update_layout(\n",
    "        title=f\"Confusion Matrix for {model_name}\",\n",
    "        xaxis_title=\"Predicted Label\",\n",
    "        yaxis_title=\"Actual Label\",\n",
    "        xaxis=dict(scaleanchor=\"y\", scaleratio=1)  # Ensures square cells\n",
    "    )\n",
    "    fig.show()\n"
   ]
  },
  {
   "cell_type": "code",
   "execution_count": 19,
   "metadata": {},
   "outputs": [
    {
     "name": "stdout",
     "output_type": "stream",
     "text": [
      "\n",
      "Metrics for Logistic Regression:\n",
      "\n",
      "Accuracy:\n",
      "0.6767676767676768\n",
      "\n",
      "Precision:\n",
      "0.6870679924155859\n",
      "\n",
      "Recall:\n",
      "0.6767676767676768\n",
      "\n",
      "F1 Score:\n",
      "0.6805571295685288\n",
      "\n",
      "Confusion Matrix:\n",
      "[[11  3  0  1  6  0]\n",
      " [ 1  9  0  2  3  0]\n",
      " [ 0  0 11  1  0  1]\n",
      " [ 2  0  0 17  1  1]\n",
      " [ 5  1  1  1  6  0]\n",
      " [ 1  0  0  0  1 13]]\n",
      "\n",
      "Classification Report:\n",
      "              precision    recall  f1-score   support\n",
      "\n",
      "           0       0.55      0.52      0.54        21\n",
      "           1       0.69      0.60      0.64        15\n",
      "           2       0.92      0.85      0.88        13\n",
      "           3       0.77      0.81      0.79        21\n",
      "           4       0.35      0.43      0.39        14\n",
      "           5       0.87      0.87      0.87        15\n",
      "\n",
      "    accuracy                           0.68        99\n",
      "   macro avg       0.69      0.68      0.68        99\n",
      "weighted avg       0.69      0.68      0.68        99\n",
      "\n",
      "\n",
      "\n",
      "Metrics for K-Nearest Neighbors:\n",
      "\n",
      "Accuracy:\n",
      "0.43434343434343436\n",
      "\n",
      "Precision:\n",
      "0.43716986668238317\n",
      "\n",
      "Recall:\n",
      "0.43434343434343436\n",
      "\n",
      "F1 Score:\n",
      "0.4327027723492369\n",
      "\n",
      "Confusion Matrix:\n",
      "[[ 8  3  0  5  3  2]\n",
      " [ 4  6  0  2  2  1]\n",
      " [ 0  0 13  0  0  0]\n",
      " [ 9  1  0  5  5  1]\n",
      " [ 1  3  1  3  5  1]\n",
      " [ 1  2  0  3  3  6]]\n",
      "\n",
      "Classification Report:\n",
      "              precision    recall  f1-score   support\n",
      "\n",
      "           0       0.35      0.38      0.36        21\n",
      "           1       0.40      0.40      0.40        15\n",
      "           2       0.93      1.00      0.96        13\n",
      "           3       0.28      0.24      0.26        21\n",
      "           4       0.28      0.36      0.31        14\n",
      "           5       0.55      0.40      0.46        15\n",
      "\n",
      "    accuracy                           0.43        99\n",
      "   macro avg       0.46      0.46      0.46        99\n",
      "weighted avg       0.44      0.43      0.43        99\n",
      "\n",
      "\n",
      "\n",
      "Metrics for Random Forest:\n",
      "\n",
      "Accuracy:\n",
      "0.8282828282828283\n",
      "\n",
      "Precision:\n",
      "0.8310839487310075\n",
      "\n",
      "Recall:\n",
      "0.8282828282828283\n",
      "\n",
      "F1 Score:\n",
      "0.8283952635239898\n",
      "\n",
      "Confusion Matrix:\n",
      "[[15  4  0  0  2  0]\n",
      " [ 1 11  1  0  1  1]\n",
      " [ 0  0 13  0  0  0]\n",
      " [ 0  1  0 20  0  0]\n",
      " [ 4  1  0  0  9  0]\n",
      " [ 1  0  0  0  0 14]]\n",
      "\n",
      "Classification Report:\n",
      "              precision    recall  f1-score   support\n",
      "\n",
      "           0       0.71      0.71      0.71        21\n",
      "           1       0.65      0.73      0.69        15\n",
      "           2       0.93      1.00      0.96        13\n",
      "           3       1.00      0.95      0.98        21\n",
      "           4       0.75      0.64      0.69        14\n",
      "           5       0.93      0.93      0.93        15\n",
      "\n",
      "    accuracy                           0.83        99\n",
      "   macro avg       0.83      0.83      0.83        99\n",
      "weighted avg       0.83      0.83      0.83        99\n",
      "\n",
      "\n",
      "\n",
      "Metrics for Gradient Boosting:\n",
      "\n",
      "Accuracy:\n",
      "0.7777777777777778\n",
      "\n",
      "Precision:\n",
      "0.7851851851851852\n",
      "\n",
      "Recall:\n",
      "0.7777777777777778\n",
      "\n",
      "F1 Score:\n",
      "0.7793761661114754\n",
      "\n",
      "Confusion Matrix:\n",
      "[[12  5  0  0  4  0]\n",
      " [ 2 10  1  0  1  1]\n",
      " [ 0  0 13  0  0  0]\n",
      " [ 0  0  0 20  1  0]\n",
      " [ 3  2  0  0  9  0]\n",
      " [ 1  1  0  0  0 13]]\n",
      "\n",
      "Classification Report:\n",
      "              precision    recall  f1-score   support\n",
      "\n",
      "           0       0.67      0.57      0.62        21\n",
      "           1       0.56      0.67      0.61        15\n",
      "           2       0.93      1.00      0.96        13\n",
      "           3       1.00      0.95      0.98        21\n",
      "           4       0.60      0.64      0.62        14\n",
      "           5       0.93      0.87      0.90        15\n",
      "\n",
      "    accuracy                           0.78        99\n",
      "   macro avg       0.78      0.78      0.78        99\n",
      "weighted avg       0.79      0.78      0.78        99\n",
      "\n",
      "\n",
      "\n",
      "Metrics for AdaBoost:\n",
      "\n",
      "Accuracy:\n",
      "0.6060606060606061\n",
      "\n",
      "Precision:\n",
      "0.6060461332694534\n",
      "\n",
      "Recall:\n",
      "0.6060606060606061\n",
      "\n",
      "F1 Score:\n",
      "0.6042286048437253\n",
      "\n",
      "Confusion Matrix:\n",
      "[[12  3  0  2  4  0]\n",
      " [ 5  4  1  0  1  4]\n",
      " [ 0  1 11  0  0  1]\n",
      " [ 0  1  1 18  0  1]\n",
      " [ 6  1  0  0  6  1]\n",
      " [ 0  1  0  0  5  9]]\n",
      "\n",
      "Classification Report:\n",
      "              precision    recall  f1-score   support\n",
      "\n",
      "           0       0.52      0.57      0.55        21\n",
      "           1       0.36      0.27      0.31        15\n",
      "           2       0.85      0.85      0.85        13\n",
      "           3       0.90      0.86      0.88        21\n",
      "           4       0.38      0.43      0.40        14\n",
      "           5       0.56      0.60      0.58        15\n",
      "\n",
      "    accuracy                           0.61        99\n",
      "   macro avg       0.59      0.59      0.59        99\n",
      "weighted avg       0.61      0.61      0.60        99\n",
      "\n",
      "\n",
      "\n",
      "Metrics for Naive Bayes:\n",
      "\n",
      "Accuracy:\n",
      "0.7171717171717171\n",
      "\n",
      "Precision:\n",
      "0.7319483535040809\n",
      "\n",
      "Recall:\n",
      "0.7171717171717171\n",
      "\n",
      "F1 Score:\n",
      "0.7168306519005782\n",
      "\n",
      "Confusion Matrix:\n",
      "[[11  6  0  0  3  1]\n",
      " [ 0 11  1  0  1  2]\n",
      " [ 1  0 12  0  0  0]\n",
      " [ 1  1  2 16  1  0]\n",
      " [ 3  1  1  0  9  0]\n",
      " [ 0  0  1  1  1 12]]\n",
      "\n",
      "Classification Report:\n",
      "              precision    recall  f1-score   support\n",
      "\n",
      "           0       0.69      0.52      0.59        21\n",
      "           1       0.58      0.73      0.65        15\n",
      "           2       0.71      0.92      0.80        13\n",
      "           3       0.94      0.76      0.84        21\n",
      "           4       0.60      0.64      0.62        14\n",
      "           5       0.80      0.80      0.80        15\n",
      "\n",
      "    accuracy                           0.72        99\n",
      "   macro avg       0.72      0.73      0.72        99\n",
      "weighted avg       0.73      0.72      0.72        99\n",
      "\n",
      "\n",
      "\n",
      "Metrics for Decision Tree:\n",
      "\n",
      "Accuracy:\n",
      "0.7070707070707071\n",
      "\n",
      "Precision:\n",
      "0.6952427202427203\n",
      "\n",
      "Recall:\n",
      "0.7070707070707071\n",
      "\n",
      "F1 Score:\n",
      "0.6890687139053152\n",
      "\n",
      "Confusion Matrix:\n",
      "[[ 8  5  1  2  4  1]\n",
      " [ 0 13  0  0  0  2]\n",
      " [ 1  1 11  0  0  0]\n",
      " [ 0  0  0 21  0  0]\n",
      " [ 3  0  0  1  6  4]\n",
      " [ 1  1  2  0  0 11]]\n",
      "\n",
      "Classification Report:\n",
      "              precision    recall  f1-score   support\n",
      "\n",
      "           0       0.62      0.38      0.47        21\n",
      "           1       0.65      0.87      0.74        15\n",
      "           2       0.79      0.85      0.81        13\n",
      "           3       0.88      1.00      0.93        21\n",
      "           4       0.60      0.43      0.50        14\n",
      "           5       0.61      0.73      0.67        15\n",
      "\n",
      "    accuracy                           0.71        99\n",
      "   macro avg       0.69      0.71      0.69        99\n",
      "weighted avg       0.70      0.71      0.69        99\n",
      "\n",
      "\n",
      "\n",
      "Metrics for XGBoost:\n",
      "\n",
      "Accuracy:\n",
      "0.797979797979798\n",
      "\n",
      "Precision:\n",
      "0.8045173093160709\n",
      "\n",
      "Recall:\n",
      "0.797979797979798\n",
      "\n",
      "F1 Score:\n",
      "0.7982204364388273\n",
      "\n",
      "Confusion Matrix:\n",
      "[[14  3  0  0  4  0]\n",
      " [ 2 10  1  0  1  1]\n",
      " [ 0  0 13  0  0  0]\n",
      " [ 0  0  0 21  0  0]\n",
      " [ 2  2  0  0 10  0]\n",
      " [ 1  2  1  0  0 11]]\n",
      "\n",
      "Classification Report:\n",
      "              precision    recall  f1-score   support\n",
      "\n",
      "           0       0.74      0.67      0.70        21\n",
      "           1       0.59      0.67      0.62        15\n",
      "           2       0.87      1.00      0.93        13\n",
      "           3       1.00      1.00      1.00        21\n",
      "           4       0.67      0.71      0.69        14\n",
      "           5       0.92      0.73      0.81        15\n",
      "\n",
      "    accuracy                           0.80        99\n",
      "   macro avg       0.80      0.80      0.79        99\n",
      "weighted avg       0.80      0.80      0.80        99\n",
      "\n",
      "\n",
      "\n",
      "Metrics for SVC_linear:\n",
      "\n",
      "Accuracy:\n",
      "0.7272727272727273\n",
      "\n",
      "Precision:\n",
      "0.7415089812148635\n",
      "\n",
      "Recall:\n",
      "0.7272727272727273\n",
      "\n",
      "F1 Score:\n",
      "0.7326778821900773\n",
      "\n",
      "Confusion Matrix:\n",
      "[[12  2  0  2  5  0]\n",
      " [ 0 12  0  1  2  0]\n",
      " [ 0  0 12  0  0  1]\n",
      " [ 3  1  0 17  0  0]\n",
      " [ 5  2  0  0  7  0]\n",
      " [ 1  0  0  0  2 12]]\n",
      "\n",
      "Classification Report:\n",
      "              precision    recall  f1-score   support\n",
      "\n",
      "           0       0.57      0.57      0.57        21\n",
      "           1       0.71      0.80      0.75        15\n",
      "           2       1.00      0.92      0.96        13\n",
      "           3       0.85      0.81      0.83        21\n",
      "           4       0.44      0.50      0.47        14\n",
      "           5       0.92      0.80      0.86        15\n",
      "\n",
      "    accuracy                           0.73        99\n",
      "   macro avg       0.75      0.73      0.74        99\n",
      "weighted avg       0.74      0.73      0.73        99\n",
      "\n",
      "\n",
      "\n",
      "Metrics for SVC_rbf:\n",
      "\n",
      "Accuracy:\n",
      "0.32323232323232326\n",
      "\n",
      "Precision:\n",
      "0.3264790764790765\n",
      "\n",
      "Recall:\n",
      "0.32323232323232326\n",
      "\n",
      "F1 Score:\n",
      "0.23700624127453396\n",
      "\n",
      "Confusion Matrix:\n",
      "[[ 5  1  6  9  0  0]\n",
      " [ 6  0  1  8  0  0]\n",
      " [ 0  0 13  0  0  0]\n",
      " [ 6  0  2 13  0  0]\n",
      " [ 2  1  4  7  0  0]\n",
      " [ 1  1  0 12  0  1]]\n",
      "\n",
      "Classification Report:\n",
      "              precision    recall  f1-score   support\n",
      "\n",
      "           0       0.25      0.24      0.24        21\n",
      "           1       0.00      0.00      0.00        15\n",
      "           2       0.50      1.00      0.67        13\n",
      "           3       0.27      0.62      0.37        21\n",
      "           4       0.00      0.00      0.00        14\n",
      "           5       1.00      0.07      0.12        15\n",
      "\n",
      "    accuracy                           0.32        99\n",
      "   macro avg       0.34      0.32      0.23        99\n",
      "weighted avg       0.33      0.32      0.24        99\n",
      "\n",
      "\n",
      "\n",
      "Metrics for RandomForest_1:\n",
      "\n",
      "Accuracy:\n",
      "0.8282828282828283\n",
      "\n",
      "Precision:\n",
      "0.8300448727820269\n",
      "\n",
      "Recall:\n",
      "0.8282828282828283\n",
      "\n",
      "F1 Score:\n",
      "0.8271132521173449\n",
      "\n",
      "Confusion Matrix:\n",
      "[[16  3  0  0  2  0]\n",
      " [ 1 11  1  0  1  1]\n",
      " [ 0  0 13  0  0  0]\n",
      " [ 0  1  0 20  0  0]\n",
      " [ 5  1  0  0  8  0]\n",
      " [ 1  0  0  0  0 14]]\n",
      "\n",
      "Classification Report:\n",
      "              precision    recall  f1-score   support\n",
      "\n",
      "           0       0.70      0.76      0.73        21\n",
      "           1       0.69      0.73      0.71        15\n",
      "           2       0.93      1.00      0.96        13\n",
      "           3       1.00      0.95      0.98        21\n",
      "           4       0.73      0.57      0.64        14\n",
      "           5       0.93      0.93      0.93        15\n",
      "\n",
      "    accuracy                           0.83        99\n",
      "   macro avg       0.83      0.83      0.82        99\n",
      "weighted avg       0.83      0.83      0.83        99\n",
      "\n",
      "\n",
      "\n",
      "Metrics for RandomForest_3:\n",
      "\n",
      "Accuracy:\n",
      "0.8282828282828283\n",
      "\n",
      "Precision:\n",
      "0.8386433244063253\n",
      "\n",
      "Recall:\n",
      "0.8282828282828283\n",
      "\n",
      "F1 Score:\n",
      "0.8271069813837094\n",
      "\n",
      "Confusion Matrix:\n",
      "[[16  5  0  0  0  0]\n",
      " [ 1 11  1  0  1  1]\n",
      " [ 0  0 13  0  0  0]\n",
      " [ 0  0  1 20  0  0]\n",
      " [ 5  1  0  0  8  0]\n",
      " [ 1  0  0  0  0 14]]\n",
      "\n",
      "Classification Report:\n",
      "              precision    recall  f1-score   support\n",
      "\n",
      "           0       0.70      0.76      0.73        21\n",
      "           1       0.65      0.73      0.69        15\n",
      "           2       0.87      1.00      0.93        13\n",
      "           3       1.00      0.95      0.98        21\n",
      "           4       0.89      0.57      0.70        14\n",
      "           5       0.93      0.93      0.93        15\n",
      "\n",
      "    accuracy                           0.83        99\n",
      "   macro avg       0.84      0.83      0.82        99\n",
      "weighted avg       0.84      0.83      0.83        99\n",
      "\n",
      "\n",
      "\n",
      "Metrics for RandomForest_5:\n",
      "\n",
      "Accuracy:\n",
      "0.8181818181818182\n",
      "\n",
      "Precision:\n",
      "0.8225079287913513\n",
      "\n",
      "Recall:\n",
      "0.8181818181818182\n",
      "\n",
      "F1 Score:\n",
      "0.8180227023270558\n",
      "\n",
      "Confusion Matrix:\n",
      "[[15  4  0  0  2  0]\n",
      " [ 1 11  1  0  0  2]\n",
      " [ 1  0 12  0  0  0]\n",
      " [ 0  0  1 20  0  0]\n",
      " [ 3  2  0  0  9  0]\n",
      " [ 1  0  0  0  0 14]]\n",
      "\n",
      "Classification Report:\n",
      "              precision    recall  f1-score   support\n",
      "\n",
      "           0       0.71      0.71      0.71        21\n",
      "           1       0.65      0.73      0.69        15\n",
      "           2       0.86      0.92      0.89        13\n",
      "           3       1.00      0.95      0.98        21\n",
      "           4       0.82      0.64      0.72        14\n",
      "           5       0.88      0.93      0.90        15\n",
      "\n",
      "    accuracy                           0.82        99\n",
      "   macro avg       0.82      0.82      0.81        99\n",
      "weighted avg       0.82      0.82      0.82        99\n",
      "\n",
      "\n",
      "\n",
      "Metrics for NeuralNetwork_1:\n",
      "\n",
      "Accuracy:\n",
      "0.13131313131313133\n",
      "\n",
      "Precision:\n",
      "0.01796916533758639\n",
      "\n",
      "Recall:\n",
      "0.13131313131313133\n",
      "\n",
      "F1 Score:\n",
      "0.031612420501309385\n",
      "\n",
      "Confusion Matrix:\n",
      "[[ 0  2 19  0  0  0]\n",
      " [ 0  0 15  0  0  0]\n",
      " [ 0  0 13  0  0  0]\n",
      " [ 0  1 20  0  0  0]\n",
      " [ 0  1 13  0  0  0]\n",
      " [ 0  0 15  0  0  0]]\n",
      "\n",
      "Classification Report:\n",
      "              precision    recall  f1-score   support\n",
      "\n",
      "           0       0.00      0.00      0.00        21\n",
      "           1       0.00      0.00      0.00        15\n",
      "           2       0.14      1.00      0.24        13\n",
      "           3       0.00      0.00      0.00        21\n",
      "           4       0.00      0.00      0.00        14\n",
      "           5       0.00      0.00      0.00        15\n",
      "\n",
      "    accuracy                           0.13        99\n",
      "   macro avg       0.02      0.17      0.04        99\n",
      "weighted avg       0.02      0.13      0.03        99\n",
      "\n",
      "\n",
      "\n",
      "Metrics for NeuralNetwork_2:\n",
      "\n",
      "Accuracy:\n",
      "0.15151515151515152\n",
      "\n",
      "Precision:\n",
      "0.022956841138659322\n",
      "\n",
      "Recall:\n",
      "0.15151515151515152\n",
      "\n",
      "F1 Score:\n",
      "0.03987240829346092\n",
      "\n",
      "Confusion Matrix:\n",
      "[[ 0 21  0  0  0  0]\n",
      " [ 0 15  0  0  0  0]\n",
      " [ 0 13  0  0  0  0]\n",
      " [ 0 21  0  0  0  0]\n",
      " [ 0 14  0  0  0  0]\n",
      " [ 0 15  0  0  0  0]]\n",
      "\n",
      "Classification Report:\n",
      "              precision    recall  f1-score   support\n",
      "\n",
      "           0       0.00      0.00      0.00        21\n",
      "           1       0.15      1.00      0.26        15\n",
      "           2       0.00      0.00      0.00        13\n",
      "           3       0.00      0.00      0.00        21\n",
      "           4       0.00      0.00      0.00        14\n",
      "           5       0.00      0.00      0.00        15\n",
      "\n",
      "    accuracy                           0.15        99\n",
      "   macro avg       0.03      0.17      0.04        99\n",
      "weighted avg       0.02      0.15      0.04        99\n",
      "\n",
      "\n",
      "\n",
      "Metrics for NeuralNetwork_3:\n",
      "\n",
      "Accuracy:\n",
      "0.21212121212121213\n",
      "\n",
      "Precision:\n",
      "0.044995408631772274\n",
      "\n",
      "Recall:\n",
      "0.21212121212121213\n",
      "\n",
      "F1 Score:\n",
      "0.07424242424242423\n",
      "\n",
      "Confusion Matrix:\n",
      "[[21  0  0  0  0  0]\n",
      " [15  0  0  0  0  0]\n",
      " [13  0  0  0  0  0]\n",
      " [21  0  0  0  0  0]\n",
      " [14  0  0  0  0  0]\n",
      " [15  0  0  0  0  0]]\n",
      "\n",
      "Classification Report:\n",
      "              precision    recall  f1-score   support\n",
      "\n",
      "           0       0.21      1.00      0.35        21\n",
      "           1       0.00      0.00      0.00        15\n",
      "           2       0.00      0.00      0.00        13\n",
      "           3       0.00      0.00      0.00        21\n",
      "           4       0.00      0.00      0.00        14\n",
      "           5       0.00      0.00      0.00        15\n",
      "\n",
      "    accuracy                           0.21        99\n",
      "   macro avg       0.04      0.17      0.06        99\n",
      "weighted avg       0.04      0.21      0.07        99\n",
      "\n",
      "\n",
      "\n",
      "Metrics for NeuralNetwork_4:\n",
      "\n",
      "Accuracy:\n",
      "0.3434343434343434\n",
      "\n",
      "Precision:\n",
      "0.36883262640838393\n",
      "\n",
      "Recall:\n",
      "0.3434343434343434\n",
      "\n",
      "F1 Score:\n",
      "0.3284218119276166\n",
      "\n",
      "Confusion Matrix:\n",
      "[[ 2  5  0  2 12  0]\n",
      " [ 0  8  0  1  6  0]\n",
      " [ 1  0  8  0  1  3]\n",
      " [ 1  3  0 14  3  0]\n",
      " [ 2  8  1  1  2  0]\n",
      " [ 0 11  0  4  0  0]]\n",
      "\n",
      "Classification Report:\n",
      "              precision    recall  f1-score   support\n",
      "\n",
      "           0       0.33      0.10      0.15        21\n",
      "           1       0.23      0.53      0.32        15\n",
      "           2       0.89      0.62      0.73        13\n",
      "           3       0.64      0.67      0.65        21\n",
      "           4       0.08      0.14      0.11        14\n",
      "           5       0.00      0.00      0.00        15\n",
      "\n",
      "    accuracy                           0.34        99\n",
      "   macro avg       0.36      0.34      0.33        99\n",
      "weighted avg       0.37      0.34      0.33        99\n",
      "\n",
      "\n"
     ]
    }
   ],
   "source": [
    "\n",
    "# Display the results\n",
    "for model_name, metrics in results.items():\n",
    "    print(f\"\\nMetrics for {model_name}:\\n\")\n",
    "    for metric, value in metrics.items():\n",
    "        print(f\"{metric}:\\n{value}\\n\")\n"
   ]
  },
  {
   "cell_type": "code",
   "execution_count": 20,
   "metadata": {},
   "outputs": [
    {
     "name": "stdout",
     "output_type": "stream",
     "text": [
      "\n",
      "All Models Accuracy:\n",
      "Logistic Regression: 0.6768\n",
      "K-Nearest Neighbors: 0.4343\n",
      "Random Forest: 0.8283\n",
      "Gradient Boosting: 0.7778\n",
      "AdaBoost: 0.6061\n",
      "Naive Bayes: 0.7172\n",
      "Decision Tree: 0.7071\n",
      "XGBoost: 0.7980\n",
      "SVC_linear: 0.7273\n",
      "SVC_rbf: 0.3232\n",
      "RandomForest_1: 0.8283\n",
      "RandomForest_3: 0.8283\n",
      "RandomForest_5: 0.8182\n",
      "NeuralNetwork_1: 0.1313\n",
      "NeuralNetwork_2: 0.1515\n",
      "NeuralNetwork_3: 0.2121\n",
      "NeuralNetwork_4: 0.3434\n"
     ]
    }
   ],
   "source": [
    "print(\"\\nAll Models Accuracy:\")\n",
    "for model_name, metrics in results.items():\n",
    "    print(f\"{model_name}: {metrics['Accuracy']:.4f}\")"
   ]
  },
  {
   "cell_type": "code",
   "execution_count": 11,
   "metadata": {},
   "outputs": [
    {
     "name": "stdout",
     "output_type": "stream",
     "text": [
      "\n",
      "All Models Precison:\n",
      "Logistic Regression: 0.6764\n",
      "K-Nearest Neighbors: 0.3983\n",
      "Random Forest: 0.8399\n",
      "Gradient Boosting: 0.8183\n",
      "AdaBoost: 0.4367\n",
      "Naive Bayes: 0.7173\n",
      "Decision Tree: 0.7142\n",
      "XGBoost: 0.8483\n",
      "SVC_linear: 0.7629\n",
      "SVC_rbf: 0.2809\n",
      "RandomForest_1: 0.8707\n",
      "RandomForest_3: 0.8206\n",
      "RandomForest_5: 0.8132\n",
      "NeuralNetwork_1: 0.2808\n",
      "NeuralNetwork_2: 0.0240\n",
      "NeuralNetwork_3: 0.0395\n",
      "NeuralNetwork_4: 0.1664\n"
     ]
    }
   ],
   "source": [
    "print(\"\\nAll Models Precison:\")\n",
    "for model_name, metrics in results.items():\n",
    "    print(f\"{model_name}: {metrics['Precision']:.4f}\")"
   ]
  },
  {
   "cell_type": "code",
   "execution_count": 12,
   "metadata": {},
   "outputs": [
    {
     "name": "stdout",
     "output_type": "stream",
     "text": [
      "\n",
      "All Models Recall:\n",
      "Logistic Regression: 0.6644\n",
      "K-Nearest Neighbors: 0.3960\n",
      "Random Forest: 0.8322\n",
      "Gradient Boosting: 0.8121\n",
      "AdaBoost: 0.4899\n",
      "Naive Bayes: 0.7114\n",
      "Decision Tree: 0.7047\n",
      "XGBoost: 0.8456\n",
      "SVC_linear: 0.7383\n",
      "SVC_rbf: 0.2550\n",
      "RandomForest_1: 0.8591\n",
      "RandomForest_3: 0.7987\n",
      "RandomForest_5: 0.7919\n",
      "NeuralNetwork_1: 0.1946\n",
      "NeuralNetwork_2: 0.1544\n",
      "NeuralNetwork_3: 0.1208\n",
      "NeuralNetwork_4: 0.1812\n"
     ]
    }
   ],
   "source": [
    "print(\"\\nAll Models Recall:\")\n",
    "for model_name, metrics in results.items():\n",
    "    print(f\"{model_name}: {metrics['Recall']:.4f}\")"
   ]
  },
  {
   "cell_type": "code",
   "execution_count": 13,
   "metadata": {},
   "outputs": [
    {
     "name": "stdout",
     "output_type": "stream",
     "text": [
      "\n",
      "All Models f1-Score:\n",
      "Logistic Regression: 0.6696\n",
      "K-Nearest Neighbors: 0.3798\n",
      "Random Forest: 0.8333\n",
      "Gradient Boosting: 0.8116\n",
      "AdaBoost: 0.4031\n",
      "Naive Bayes: 0.7101\n",
      "Decision Tree: 0.7014\n",
      "XGBoost: 0.8446\n",
      "SVC_linear: 0.7458\n",
      "SVC_rbf: 0.1676\n",
      "RandomForest_1: 0.8600\n",
      "RandomForest_3: 0.8030\n",
      "RandomForest_5: 0.7948\n",
      "NeuralNetwork_1: 0.0988\n",
      "NeuralNetwork_2: 0.0415\n",
      "NeuralNetwork_3: 0.0480\n",
      "NeuralNetwork_4: 0.1583\n"
     ]
    }
   ],
   "source": [
    "print(\"\\nAll Models f1-Score:\")\n",
    "for model_name, metrics in results.items():\n",
    "    print(f\"{model_name}: {metrics['F1 Score']:.4f}\")"
   ]
  },
  {
   "cell_type": "code",
   "execution_count": 14,
   "metadata": {},
   "outputs": [],
   "source": [
    "#show decision boundary\n",
    "#ROC Curve"
   ]
  },
  {
   "cell_type": "code",
   "execution_count": 15,
   "metadata": {},
   "outputs": [],
   "source": [
    "#identify the three songs of each category\n",
    "#showcase the waveform for each of the three songs found for each category"
   ]
  },
  {
   "cell_type": "code",
   "execution_count": null,
   "metadata": {},
   "outputs": [],
   "source": []
  }
 ],
 "metadata": {
  "kernelspec": {
   "display_name": "Python 3",
   "language": "python",
   "name": "python3"
  },
  "language_info": {
   "codemirror_mode": {
    "name": "ipython",
    "version": 3
   },
   "file_extension": ".py",
   "mimetype": "text/x-python",
   "name": "python",
   "nbconvert_exporter": "python",
   "pygments_lexer": "ipython3",
   "version": "3.12.3"
  }
 },
 "nbformat": 4,
 "nbformat_minor": 4
}
